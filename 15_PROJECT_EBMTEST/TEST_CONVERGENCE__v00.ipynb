{
 "cells": [
  {
   "cell_type": "code",
   "execution_count": 168,
   "metadata": {},
   "outputs": [],
   "source": [
    "import numpy as np\n",
    "from numpy import random as rnd\n",
    "from matplotlib import pyplot as plt\n",
    "import warnings,os,sys,datetime,time\n",
    "\n",
    "import pandas as pd\n",
    "\n",
    "from scipy.linalg import block_diag"
   ]
  },
  {
   "cell_type": "code",
   "execution_count": 264,
   "metadata": {},
   "outputs": [],
   "source": [
    "sizeI = 10\n",
    "sizeH = 250\n",
    "sizeO = 25\n",
    "\n",
    "N = sizeI + sizeH + sizeO\n",
    "\n",
    "Wt = rnd.randn(N,N)\n",
    "W = (Wt + Wt.T)/2\n",
    "for k in range(W.shape[0]): W[k,k] = 0\n",
    "b = rnd.randn(N)\n",
    "\n",
    "alpha = lambda x: np.dot(W,x) + b\n",
    "softmax = lambda x,T=1: T/(1+np.exp(-x))\n",
    "sigma = lambda x: softmax(alpha(x))"
   ]
  },
  {
   "cell_type": "code",
   "execution_count": 265,
   "metadata": {},
   "outputs": [],
   "source": [
    "TI = np.concatenate([np.eye(sizeI),np.zeros([sizeI,sizeH+sizeO])],axis=1)\n",
    "TH = np.concatenate([np.zeros([sizeH,sizeI]),np.eye(sizeH),np.zeros([sizeH,sizeO])],axis=1)\n",
    "TO = np.concatenate([np.zeros([sizeO,sizeI+sizeH]),np.eye(sizeO)],axis=1)"
   ]
  },
  {
   "cell_type": "code",
   "execution_count": 266,
   "metadata": {},
   "outputs": [],
   "source": [
    "def settle_nw(s,eps_min=0.001,max_steps=10000,verbose=False):\n",
    "    loss = []\n",
    "    states = []\n",
    "    eps = np.inf\n",
    "    ctr = 0\n",
    "    while eps>eps_min:\n",
    "        states.append(s)\n",
    "        sn = sigma(s)\n",
    "        eps = np.abs(np.sum(np.dot(TH,states[-1]) - np.dot(TH,sn)))/s.shape[0]\n",
    "        if verbose: print('Step {0}/{1} --> loss = {2}'.format(ctr,max_steps,eps))\n",
    "        loss.append(eps)\n",
    "        s = np.concatenate([np.dot(TI,states[-1]),np.dot(TH,sn),np.dot(TO,sn)],axis=0)\n",
    "        ctr += 1\n",
    "        if ctr>max_steps: break\n",
    "    terminated = True\n",
    "    if ctr>max_steps: terminated = False\n",
    "    return s,terminated,loss,states"
   ]
  },
  {
   "cell_type": "code",
   "execution_count": 267,
   "metadata": {},
   "outputs": [],
   "source": [
    "fixedInput = rnd.randint(0,2,sizeI)"
   ]
  },
  {
   "cell_type": "code",
   "execution_count": 268,
   "metadata": {},
   "outputs": [
    {
     "name": "stdout",
     "output_type": "stream",
     "text": [
      "Terminated>False  --  Like inputs yield correlation 0.957\n"
     ]
    }
   ],
   "source": [
    "s0 = rnd.randn(N)\n",
    "s1 = rnd.randn(N)\n",
    "\n",
    "s0[:sizeI] = fixedInput\n",
    "s1[:sizeI] = fixedInput\n",
    "\n",
    "sinf0,terminated0,loss0,states0 = settle_nw(s0)\n",
    "sinf1,terminated1,loss1,states1 = settle_nw(s1)\n",
    "\n",
    "out0 = np.dot(TO,sinf0)\n",
    "out1 = np.dot(TO,sinf1)\n",
    "\n",
    "print('Terminated>{0}  --  Like inputs yield correlation {1:.3f}'.format(terminated0 and terminated1,np.corrcoef(out0,out1)[0,1]))"
   ]
  },
  {
   "cell_type": "code",
   "execution_count": 269,
   "metadata": {},
   "outputs": [
    {
     "name": "stdout",
     "output_type": "stream",
     "text": [
      "Terminated>False  --  Unlike inputs yield correlation 0.810\n"
     ]
    }
   ],
   "source": [
    "s0 = rnd.randn(N)\n",
    "s1 = rnd.randn(N)\n",
    "\n",
    "s0[:sizeI] = fixedInput\n",
    "s1[:sizeI] = np.ones_like(fixedInput) - fixedInput\n",
    "\n",
    "sinf0,terminated0,loss0,states0 = settle_nw(s0)\n",
    "sinf1,terminated1,loss1,states1 = settle_nw(s1)\n",
    "\n",
    "out0 = np.dot(TO,sinf0)\n",
    "out1 = np.dot(TO,sinf1)\n",
    "\n",
    "print('Terminated>{0}  --  Unlike inputs yield correlation {1:.3f}'.format(terminated0 and terminated1,np.corrcoef(out0,out1)[0,1]))"
   ]
  },
  {
   "cell_type": "code",
   "execution_count": 270,
   "metadata": {},
   "outputs": [
    {
     "data": {
      "text/plain": [
       "array([9.99856878e-01, 9.99999647e-01, 9.99999999e-01, 9.18748650e-09,\n",
       "       5.02092541e-02, 3.38252469e-12, 9.97280878e-01, 2.31013746e-06,\n",
       "       3.75055489e-02, 1.06540066e-07, 9.99997255e-01, 9.38547146e-01,\n",
       "       2.31661244e-04, 6.77635375e-05, 9.99999550e-01, 9.99999919e-01,\n",
       "       9.99994240e-01, 6.48148696e-06, 9.95448819e-01, 5.51502877e-08,\n",
       "       1.65397296e-03, 9.99843031e-01, 5.13547033e-01, 1.61236326e-07,\n",
       "       9.99993759e-01])"
      ]
     },
     "execution_count": 270,
     "metadata": {},
     "output_type": "execute_result"
    }
   ],
   "source": [
    "out0"
   ]
  },
  {
   "cell_type": "code",
   "execution_count": null,
   "metadata": {},
   "outputs": [],
   "source": []
  }
 ],
 "metadata": {
  "kernelspec": {
   "display_name": "Python 3",
   "language": "python",
   "name": "python3"
  },
  "language_info": {
   "codemirror_mode": {
    "name": "ipython",
    "version": 3
   },
   "file_extension": ".py",
   "mimetype": "text/x-python",
   "name": "python",
   "nbconvert_exporter": "python",
   "pygments_lexer": "ipython3",
   "version": "3.8.5"
  }
 },
 "nbformat": 4,
 "nbformat_minor": 2
}
