{
 "cells": [
  {
   "cell_type": "code",
   "execution_count": 1,
   "metadata": {},
   "outputs": [
    {
     "name": "stdout",
     "output_type": "stream",
     "text": [
      "Created TAP+ (v20200428.1) - Connection:\n",
      "\tHost: gea.esac.esa.int\n",
      "\tUse HTTPS: True\n",
      "\tPort: 443\n",
      "\tSSL Port: 443\n",
      "Created TAP+ (v20200428.1) - Connection:\n",
      "\tHost: gea.esac.esa.int\n",
      "\tUse HTTPS: True\n",
      "\tPort: 443\n",
      "\tSSL Port: 443\n"
     ]
    }
   ],
   "source": [
    "import numpy as np\n",
    "from numpy import random as rnd\n",
    "from matplotlib import pyplot as plt\n",
    "import datetime,os,warnings,csv\n",
    "\n",
    "import torch\n",
    "from torch import functional as F\n",
    "from torch import optim\n",
    "import seaborn as sns\n",
    "\n",
    "from sklearn.model_selection import train_test_split\n",
    "from sklearn.ensemble import RandomForestClassifier,RandomForestRegressor\n",
    "\n",
    "import astropy.units as u\n",
    "from astropy.io import fits\n",
    "from astropy.utils.data import download_file,get_pkg_data_contents,get_pkg_data_filename\n",
    "from spectral_cube import SpectralCube\n",
    "\n",
    "from bs4 import BeautifulSoup\n",
    "import requests\n",
    "\n",
    "from astroquery.esasky import ESASky\n",
    "from astroquery.gaia import Gaia"
   ]
  },
  {
   "cell_type": "code",
   "execution_count": 2,
   "metadata": {},
   "outputs": [],
   "source": [
    "esa_catalog = ESASky.list_catalogs()\n",
    "esa_maps = ESASky.list_maps()"
   ]
  },
  {
   "cell_type": "code",
   "execution_count": 3,
   "metadata": {},
   "outputs": [
    {
     "name": "stdout",
     "output_type": "stream",
     "text": [
      "['LAMOST', 'AllWise', 'AKARI-IRC-SC', 'TwoMASS', 'INTEGRAL', 'CHANDRA-SC2', 'XMM-EPIC-STACK', 'XMM-EPIC', 'XMM-OM', 'XMM-SLEW', 'Tycho-2', 'Gaia-eDR3', 'Hipparcos-2', 'HSC', 'Herschel-HPPSC-070', 'Herschel-HPPSC-100', 'Herschel-HPPSC-160', 'Herschel-SPSC-250', 'Herschel-SPSC-350', 'Herschel-SPSC-500', 'Planck-PGCC', 'Planck-PCCS2E-HFI', 'Planck-PCCS2-HFI', 'Planck-PCCS2-LFI', 'Planck-PSZ2']\n"
     ]
    }
   ],
   "source": [
    "print(esa_catalog)"
   ]
  },
  {
   "cell_type": "code",
   "execution_count": 16,
   "metadata": {
    "scrolled": true
   },
   "outputs": [
    {
     "name": "stdout",
     "output_type": "stream",
     "text": [
      "INFO: Starting download of HERSCHEL data. (25 files) [astroquery.esasky.core]\n",
      "INFO: Downloading Observation ID: 1342188329 from http://archives.esac.esa.int/hsa/whsa-tap-server/data?RETRIEVAL_TYPE=STANDALONE&observation_oid=8637834&DATA_RETRIEVAL_ORIGIN=UI [astroquery.esasky.core]\n",
      "INFO: [Done] [astroquery.esasky.core]\n",
      "INFO: Downloading Observation ID: 1342248041 from http://archives.esac.esa.int/hsa/whsa-tap-server/data?RETRIEVAL_TYPE=STANDALONE&observation_oid=8605750&DATA_RETRIEVAL_ORIGIN=UI [astroquery.esasky.core]\n",
      "INFO: [Done] [astroquery.esasky.core]\n",
      "INFO: Downloading Observation ID: 1342232463 from http://archives.esac.esa.int/hsa/whsa-tap-server/data?RETRIEVAL_TYPE=STANDALONE&observation_oid=8638400&DATA_RETRIEVAL_ORIGIN=UI [astroquery.esasky.core]\n",
      "INFO: [Done] [astroquery.esasky.core]\n",
      "INFO: Downloading Observation ID: 1342248040 from http://archives.esac.esa.int/hsa/whsa-tap-server/data?RETRIEVAL_TYPE=STANDALONE&observation_oid=8605714&DATA_RETRIEVAL_ORIGIN=UI [astroquery.esasky.core]\n",
      "INFO: [Done] [astroquery.esasky.core]\n",
      "INFO: Downloading Observation ID: 1342223510 from http://archives.esac.esa.int/hsa/whsa-tap-server/data?RETRIEVAL_TYPE=STANDALONE&observation_oid=8605320&DATA_RETRIEVAL_ORIGIN=UI [astroquery.esasky.core]\n",
      "INFO: [Done] [astroquery.esasky.core]\n",
      "INFO: Downloading Observation ID: 1342254492 from http://archives.esac.esa.int/hsa/whsa-tap-server/data?RETRIEVAL_TYPE=STANDALONE&observation_oid=8605816&DATA_RETRIEVAL_ORIGIN=UI [astroquery.esasky.core]\n",
      "INFO: [Done] [astroquery.esasky.core]\n",
      "INFO: Downloading Observation ID: 1342224632 from http://archives.esac.esa.int/hsa/whsa-tap-server/data?RETRIEVAL_TYPE=STANDALONE&observation_oid=8605379&DATA_RETRIEVAL_ORIGIN=UI [astroquery.esasky.core]\n",
      "INFO: [Done] [astroquery.esasky.core]\n",
      "INFO: Downloading Observation ID: 1342235357 from http://archives.esac.esa.int/hsa/whsa-tap-server/data?RETRIEVAL_TYPE=STANDALONE&observation_oid=8605601&DATA_RETRIEVAL_ORIGIN=UI [astroquery.esasky.core]\n",
      "INFO: [Done] [astroquery.esasky.core]\n",
      "INFO: Downloading Observation ID: 1342231667 from http://archives.esac.esa.int/hsa/whsa-tap-server/data?RETRIEVAL_TYPE=STANDALONE&observation_oid=8605477&DATA_RETRIEVAL_ORIGIN=UI [astroquery.esasky.core]\n",
      "INFO: [Done] [astroquery.esasky.core]\n",
      "INFO: Downloading Observation ID: 1342237378 from http://archives.esac.esa.int/hsa/whsa-tap-server/data?RETRIEVAL_TYPE=STANDALONE&observation_oid=8605640&DATA_RETRIEVAL_ORIGIN=UI [astroquery.esasky.core]\n",
      "INFO: [Done] [astroquery.esasky.core]\n",
      "INFO: Downloading Observation ID: 1342254493 from http://archives.esac.esa.int/hsa/whsa-tap-server/data?RETRIEVAL_TYPE=STANDALONE&observation_oid=8612127&DATA_RETRIEVAL_ORIGIN=UI [astroquery.esasky.core]\n",
      "INFO: [Done] [astroquery.esasky.core]\n",
      "INFO: Downloading Observation ID: 1342237379 from http://archives.esac.esa.int/hsa/whsa-tap-server/data?RETRIEVAL_TYPE=STANDALONE&observation_oid=8605675&DATA_RETRIEVAL_ORIGIN=UI [astroquery.esasky.core]\n",
      "INFO: [Done] [astroquery.esasky.core]\n",
      "INFO: Downloading Observation ID: 1342224973 from http://archives.esac.esa.int/hsa/whsa-tap-server/data?RETRIEVAL_TYPE=STANDALONE&observation_oid=8612038&DATA_RETRIEVAL_ORIGIN=UI [astroquery.esasky.core]\n",
      "INFO: [Done] [astroquery.esasky.core]\n",
      "INFO: Downloading Observation ID: 1342234914 from http://archives.esac.esa.int/hsa/whsa-tap-server/data?RETRIEVAL_TYPE=STANDALONE&observation_oid=8612056&DATA_RETRIEVAL_ORIGIN=UI [astroquery.esasky.core]\n",
      "INFO: [Done] [astroquery.esasky.core]\n",
      "INFO: Downloading Observation ID: 1342223511 from http://archives.esac.esa.int/hsa/whsa-tap-server/data?RETRIEVAL_TYPE=STANDALONE&observation_oid=8605351&DATA_RETRIEVAL_ORIGIN=UI [astroquery.esasky.core]\n",
      "INFO: [Done] [astroquery.esasky.core]\n",
      "INFO: Downloading Observation ID: 1342247978 from http://archives.esac.esa.int/hsa/whsa-tap-server/data?RETRIEVAL_TYPE=STANDALONE&observation_oid=8612102&DATA_RETRIEVAL_ORIGIN=UI [astroquery.esasky.core]\n",
      "INFO: [Done] [astroquery.esasky.core]\n",
      "INFO: Downloading Observation ID: 1342254491 from http://archives.esac.esa.int/hsa/whsa-tap-server/data?RETRIEVAL_TYPE=STANDALONE&observation_oid=8605787&DATA_RETRIEVAL_ORIGIN=UI [astroquery.esasky.core]\n",
      "INFO: [Done] [astroquery.esasky.core]\n",
      "INFO: Downloading Observation ID: 1342224633 from http://archives.esac.esa.int/hsa/whsa-tap-server/data?RETRIEVAL_TYPE=STANDALONE&observation_oid=8605410&DATA_RETRIEVAL_ORIGIN=UI [astroquery.esasky.core]\n",
      "INFO: [Done] [astroquery.esasky.core]\n",
      "INFO: Downloading Observation ID: 1342224023 from http://archives.esac.esa.int/hsa/whsa-tap-server/data?RETRIEVAL_TYPE=STANDALONE&observation_oid=8612020&DATA_RETRIEVAL_ORIGIN=UI [astroquery.esasky.core]\n",
      "INFO: [Done] [astroquery.esasky.core]\n",
      "INFO: Downloading Observation ID: 1342231666 from http://archives.esac.esa.int/hsa/whsa-tap-server/data?RETRIEVAL_TYPE=STANDALONE&observation_oid=8605442&DATA_RETRIEVAL_ORIGIN=UI [astroquery.esasky.core]\n",
      "INFO: [Done] [astroquery.esasky.core]\n",
      "INFO: Downloading Observation ID: 1342232462 from http://archives.esac.esa.int/hsa/whsa-tap-server/data?RETRIEVAL_TYPE=STANDALONE&observation_oid=8605509&DATA_RETRIEVAL_ORIGIN=UI [astroquery.esasky.core]\n",
      "INFO: [Done] [astroquery.esasky.core]\n",
      "INFO: Downloading Observation ID: 1342188589 from http://archives.esac.esa.int/hsa/whsa-tap-server/data?RETRIEVAL_TYPE=STANDALONE&observation_oid=8618001&DATA_RETRIEVAL_ORIGIN=UI [astroquery.esasky.core]\n",
      "INFO: [Done] [astroquery.esasky.core]\n",
      "INFO: Downloading Observation ID: 1342188328 from http://archives.esac.esa.int/hsa/whsa-tap-server/data?RETRIEVAL_TYPE=STANDALONE&observation_oid=8637833&DATA_RETRIEVAL_ORIGIN=UI [astroquery.esasky.core]\n",
      "INFO: [Done] [astroquery.esasky.core]\n",
      "INFO: Downloading Observation ID: 1342235356 from http://archives.esac.esa.int/hsa/whsa-tap-server/data?RETRIEVAL_TYPE=STANDALONE&observation_oid=8605569&DATA_RETRIEVAL_ORIGIN=UI [astroquery.esasky.core]\n",
      "INFO: [Done] [astroquery.esasky.core]\n",
      "INFO: Downloading Observation ID: 1342237513 from http://archives.esac.esa.int/hsa/whsa-tap-server/data?RETRIEVAL_TYPE=STANDALONE&observation_oid=8612078&DATA_RETRIEVAL_ORIGIN=UI [astroquery.esasky.core]\n",
      "INFO: [Done] [astroquery.esasky.core]\n",
      "INFO: Downloading of HERSCHEL data complete. [astroquery.esasky.core]\n",
      "INFO: Starting download of ISO-IR data. (15 files) [astroquery.esasky.core]\n",
      "INFO: Downloading Observation ID: 03003401 from http://nida.esac.esa.int/nida-sl-tap/data?RETRIEVAL_TYPE=STANDALONE&tdt=3003401 [astroquery.esasky.core]\n",
      "INFO: [Done] [astroquery.esasky.core]\n",
      "INFO: Downloading Observation ID: 03003502 from http://nida.esac.esa.int/nida-sl-tap/data?RETRIEVAL_TYPE=STANDALONE&tdt=3003502 [astroquery.esasky.core]\n",
      "INFO: [Done] [astroquery.esasky.core]\n",
      "INFO: Downloading Observation ID: 03003601 from http://nida.esac.esa.int/nida-sl-tap/data?RETRIEVAL_TYPE=STANDALONE&tdt=3003601 [astroquery.esasky.core]\n",
      "INFO: [Done] [astroquery.esasky.core]\n",
      "INFO: Downloading Observation ID: 03003702 from http://nida.esac.esa.int/nida-sl-tap/data?RETRIEVAL_TYPE=STANDALONE&tdt=3003702 [astroquery.esasky.core]\n",
      "INFO: [Done] [astroquery.esasky.core]\n",
      "INFO: Downloading Observation ID: 03803002 from http://nida.esac.esa.int/nida-sl-tap/data?RETRIEVAL_TYPE=STANDALONE&tdt=3803002 [astroquery.esasky.core]\n",
      "INFO: [Done] [astroquery.esasky.core]\n",
      "INFO: Downloading Observation ID: 05001101 from http://nida.esac.esa.int/nida-sl-tap/data?RETRIEVAL_TYPE=STANDALONE&tdt=5001101 [astroquery.esasky.core]\n",
      "INFO: [Done] [astroquery.esasky.core]\n",
      "INFO: Downloading Observation ID: 05804403 from http://nida.esac.esa.int/nida-sl-tap/data?RETRIEVAL_TYPE=STANDALONE&tdt=5804403 [astroquery.esasky.core]\n",
      "INFO: [Done] [astroquery.esasky.core]\n",
      "INFO: Downloading Observation ID: 05804504 from http://nida.esac.esa.int/nida-sl-tap/data?RETRIEVAL_TYPE=STANDALONE&tdt=5804504 [astroquery.esasky.core]\n",
      "INFO: [Done] [astroquery.esasky.core]\n",
      "INFO: Downloading Observation ID: 53200159 from http://nida.esac.esa.int/nida-sl-tap/data?RETRIEVAL_TYPE=STANDALONE&tdt=53200159 [astroquery.esasky.core]\n",
      "INFO: [Done] [astroquery.esasky.core]\n",
      "INFO: Downloading Observation ID: 53200160 from http://nida.esac.esa.int/nida-sl-tap/data?RETRIEVAL_TYPE=STANDALONE&tdt=53200160 [astroquery.esasky.core]\n",
      "INFO: [Done] [astroquery.esasky.core]\n",
      "INFO: Downloading Observation ID: 53200161 from http://nida.esac.esa.int/nida-sl-tap/data?RETRIEVAL_TYPE=STANDALONE&tdt=53200161 [astroquery.esasky.core]\n"
     ]
    },
    {
     "name": "stdout",
     "output_type": "stream",
     "text": [
      "INFO: [Done] [astroquery.esasky.core]\n",
      "INFO: Downloading Observation ID: 57600101 from http://nida.esac.esa.int/nida-sl-tap/data?RETRIEVAL_TYPE=STANDALONE&tdt=57600101 [astroquery.esasky.core]\n",
      "INFO: [Done] [astroquery.esasky.core]\n",
      "INFO: Downloading Observation ID: 57600202 from http://nida.esac.esa.int/nida-sl-tap/data?RETRIEVAL_TYPE=STANDALONE&tdt=57600202 [astroquery.esasky.core]\n",
      "INFO: [Done] [astroquery.esasky.core]\n",
      "INFO: Downloading Observation ID: 01100217 from http://nida.esac.esa.int/nida-sl-tap/data?RETRIEVAL_TYPE=STANDALONE&tdt=1100217 [astroquery.esasky.core]\n",
      "INFO: [Done] [astroquery.esasky.core]\n",
      "INFO: Downloading Observation ID: 01100303 from http://nida.esac.esa.int/nida-sl-tap/data?RETRIEVAL_TYPE=STANDALONE&tdt=1100303 [astroquery.esasky.core]\n",
      "INFO: [Done] [astroquery.esasky.core]\n",
      "INFO: Downloading of ISO-IR data complete. [astroquery.esasky.core]\n",
      "INFO: Maps available at /Users/janlucasdeinhard/Dropbox/My Mac (MacBook-Pro.fritz.box)/Documents/Codehub/Github/pyfiles/16_PROJECT_ASTRONOMY/Maps [astroquery.esasky.core]\n"
     ]
    }
   ],
   "source": [
    "images = ESASky.get_images(\"m51\", radius=10*u.arcmin,missions=['Herschel', 'ISO-IR'])"
   ]
  },
  {
   "cell_type": "code",
   "execution_count": 17,
   "metadata": {},
   "outputs": [],
   "source": [
    "img = images['ISO-IR'][0]['PRIMARY'].data\n",
    "img -= img.min()\n",
    "img *= (1/img.max())"
   ]
  },
  {
   "cell_type": "code",
   "execution_count": 18,
   "metadata": {},
   "outputs": [
    {
     "data": {
      "image/png": "[encoded data removed]",
      "text/plain": [
       "<Figure size 432x288 with 1 Axes>"
      ]
     },
     "metadata": {
      "needs_background": "light"
     },
     "output_type": "display_data"
    }
   ],
   "source": [
    "plt.imshow(img)\n",
    "plt.show()"
   ]
  },
  {
   "cell_type": "code",
   "execution_count": 22,
   "metadata": {},
   "outputs": [
    {
     "data": {
      "text/plain": [
       "['HERSCHEL', 'ISO-IR']"
      ]
     },
     "execution_count": 22,
     "metadata": {},
     "output_type": "execute_result"
    }
   ],
   "source": [
    "list(images.keys())"
   ]
  },
  {
   "cell_type": "code",
   "execution_count": 23,
   "metadata": {},
   "outputs": [],
   "source": [
    "result = ESASky.query_region_catalogs('M51',10*u.arcmin,['HSC','XMM-OM'])"
   ]
  },
  {
   "cell_type": "code",
   "execution_count": 24,
   "metadata": {},
   "outputs": [
    {
     "data": {
      "text/plain": [
       "TableList with 2 tables:\n",
       "\t'0:HSC' with 9 column(s) and 10000 row(s) \n",
       "\t'1:XMM-OM' with 11 column(s) and 4849 row(s) "
      ]
     },
     "execution_count": 24,
     "metadata": {},
     "output_type": "execute_result"
    }
   ],
   "source": [
    "result"
   ]
  },
  {
   "cell_type": "code",
   "execution_count": 68,
   "metadata": {},
   "outputs": [
    {
     "data": {
      "text/html": [
       "<i>Table length=10000</i>\n",
       "<table id=\"table140274173225952\" class=\"table-striped table-bordered table-condensed\">\n",
       "<thead><tr><th>match_id</th><th>target_name</th><th>num_images</th><th>num_images_per_filter</th><th>ra</th><th>dec</th><th>filter</th><th>flux</th><th>flux_sigma</th></tr></thead>\n",
       "<thead><tr><th></th><th></th><th></th><th></th><th>deg</th><th>deg</th><th></th><th>mag</th><th>mag</th></tr></thead>\n",
       "<thead><tr><th>int64</th><th>object</th><th>int32</th><th>int32</th><th>float64</th><th>float64</th><th>object</th><th>float64</th><th>float64</th></tr></thead>\n",
       "<tr><td>74322427</td><td>ANY</td><td>1</td><td>1</td><td>202.61456869987651</td><td>47.236027281528905</td><td>w2_f606w</td><td>22.27359962463379</td><td>0.0</td></tr>\n",
       "<tr><td>43663426</td><td>ANY</td><td>1</td><td>1</td><td>202.60983037641913</td><td>47.239954203518906</td><td>w2_f606w</td><td>24.82430076599121</td><td>0.0</td></tr>\n",
       "<tr><td>89325833</td><td>ANY</td><td>1</td><td>1</td><td>202.60565390796577</td><td>47.23721328091988</td><td>w2_f606w</td><td>24.43779945373535</td><td>0.0</td></tr>\n",
       "<tr><td>20208733</td><td>ANY</td><td>1</td><td>1</td><td>202.60927379726783</td><td>47.23281784419133</td><td>w2_f606w</td><td>23.911399841308594</td><td>0.0</td></tr>\n",
       "<tr><td>104010612</td><td>ANY</td><td>1</td><td>1</td><td>202.60849082745165</td><td>47.234891484947326</td><td>w2_f606w</td><td>24.25860023498535</td><td>0.0</td></tr>\n",
       "<tr><td>41773403</td><td>ANY</td><td>1</td><td>1</td><td>202.60383838604994</td><td>47.23432744438235</td><td>w2_f606w</td><td>25.02739906311035</td><td>0.0</td></tr>\n",
       "<tr><td>14392629</td><td>ANY</td><td>1</td><td>1</td><td>202.6093676129223</td><td>47.22989558600749</td><td>w2_f606w</td><td>24.59079933166504</td><td>0.0</td></tr>\n",
       "<tr><td>81978073</td><td>ANY</td><td>1</td><td>1</td><td>202.60594248755217</td><td>47.23282451166112</td><td>w2_f606w</td><td>25.00029945373535</td><td>0.0</td></tr>\n",
       "<tr><td>43600070</td><td>ANY</td><td>1</td><td>1</td><td>202.6065672265516</td><td>47.23098189821894</td><td>w2_f606w</td><td>24.601499557495117</td><td>0.0</td></tr>\n",
       "<tr><td>...</td><td>...</td><td>...</td><td>...</td><td>...</td><td>...</td><td>...</td><td>...</td><td>...</td></tr>\n",
       "<tr><td>107269586</td><td>M-51-V09</td><td>2</td><td>2</td><td>202.49645868524308</td><td>47.23681966790705</td><td>w3_f110w</td><td>23.188549995422363</td><td>0.16335010528564453</td></tr>\n",
       "<tr><td>87319955</td><td>M-51-V09</td><td>3</td><td>1</td><td>202.49609166726123</td><td>47.23673530486146</td><td>w3_f128n</td><td>22.612699508666992</td><td>0.0</td></tr>\n",
       "<tr><td>87319955</td><td>M-51-V09</td><td>3</td><td>2</td><td>202.49609166726123</td><td>47.23673530486146</td><td>w3_f110w</td><td>22.632399559020996</td><td>0.053099632263183594</td></tr>\n",
       "<tr><td>83059554</td><td>M-51-V09</td><td>2</td><td>2</td><td>202.49753562682372</td><td>47.23632800909903</td><td>w3_f110w</td><td>23.92050075531006</td><td>0.057000160217285156</td></tr>\n",
       "<tr><td>76793885</td><td>M-51-V09</td><td>2</td><td>2</td><td>202.49723107972403</td><td>47.236111689865766</td><td>w3_f110w</td><td>23.064499855041504</td><td>0.004099845886230469</td></tr>\n",
       "<tr><td>66253759</td><td>M-51-V09</td><td>2</td><td>2</td><td>202.4967886135253</td><td>47.23626428457508</td><td>w3_f110w</td><td>23.907249450683594</td><td>0.04994964599609375</td></tr>\n",
       "<tr><td>100466179</td><td>M-51-V09</td><td>2</td><td>2</td><td>202.49657082050066</td><td>47.236294956480556</td><td>w3_f110w</td><td>23.462949752807617</td><td>0.05014991760253906</td></tr>\n",
       "<tr><td>77023544</td><td>M51-1</td><td>3</td><td>2</td><td>202.49662807809926</td><td>47.23654380757338</td><td>w3_f110w</td><td>22.923500061035156</td><td>0.0177001953125</td></tr>\n",
       "<tr><td>77023544</td><td>M51-1</td><td>3</td><td>1</td><td>202.49662807809926</td><td>47.23654380757338</td><td>w3_f689m</td><td>24.10219955444336</td><td>0.0</td></tr>\n",
       "<tr><td>62691720</td><td>M-51-V09</td><td>2</td><td>2</td><td>202.49644224687793</td><td>47.236643819517944</td><td>w3_f110w</td><td>23.32575035095215</td><td>0.0527496337890625</td></tr>\n",
       "</table>"
      ],
      "text/plain": [
       "<Table length=10000>\n",
       " match_id target_name num_images ...        flux             flux_sigma     \n",
       "                                 ...        mag                 mag         \n",
       "  int64      object     int32    ...      float64             float64       \n",
       "--------- ----------- ---------- ... ------------------ --------------------\n",
       " 74322427         ANY          1 ...  22.27359962463379                  0.0\n",
       " 43663426         ANY          1 ...  24.82430076599121                  0.0\n",
       " 89325833         ANY          1 ...  24.43779945373535                  0.0\n",
       " 20208733         ANY          1 ... 23.911399841308594                  0.0\n",
       "104010612         ANY          1 ...  24.25860023498535                  0.0\n",
       " 41773403         ANY          1 ...  25.02739906311035                  0.0\n",
       " 14392629         ANY          1 ...  24.59079933166504                  0.0\n",
       " 81978073         ANY          1 ...  25.00029945373535                  0.0\n",
       " 43600070         ANY          1 ... 24.601499557495117                  0.0\n",
       "      ...         ...        ... ...                ...                  ...\n",
       "107269586    M-51-V09          2 ... 23.188549995422363  0.16335010528564453\n",
       " 87319955    M-51-V09          3 ... 22.612699508666992                  0.0\n",
       " 87319955    M-51-V09          3 ... 22.632399559020996 0.053099632263183594\n",
       " 83059554    M-51-V09          2 ...  23.92050075531006 0.057000160217285156\n",
       " 76793885    M-51-V09          2 ... 23.064499855041504 0.004099845886230469\n",
       " 66253759    M-51-V09          2 ... 23.907249450683594  0.04994964599609375\n",
       "100466179    M-51-V09          2 ... 23.462949752807617  0.05014991760253906\n",
       " 77023544       M51-1          3 ... 22.923500061035156      0.0177001953125\n",
       " 77023544       M51-1          3 ...  24.10219955444336                  0.0\n",
       " 62691720    M-51-V09          2 ...  23.32575035095215   0.0527496337890625"
      ]
     },
     "execution_count": 68,
     "metadata": {},
     "output_type": "execute_result"
    }
   ],
   "source": [
    "result['HSC']"
   ]
  },
  {
   "cell_type": "code",
   "execution_count": 76,
   "metadata": {},
   "outputs": [
    {
     "data": {
      "text/plain": [
       "<matplotlib.image.AxesImage at 0x7f9457e11fa0>"
      ]
     },
     "execution_count": 76,
     "metadata": {},
     "output_type": "execute_result"
    },
    {
     "data": {
      "image/png": "[encoded data removed]",
      "text/plain": [
       "<Figure size 432x288 with 1 Axes>"
      ]
     },
     "metadata": {
      "needs_background": "light"
     },
     "output_type": "display_data"
    }
   ],
   "source": [
    "plt.imshow(images['ISO-IR'][5]['PRIMARY'].data[10,:,:])"
   ]
  },
  {
   "cell_type": "code",
   "execution_count": null,
   "metadata": {},
   "outputs": [],
   "source": []
  }
 ],
 "metadata": {
  "kernelspec": {
   "display_name": "Python 3",
   "language": "python",
   "name": "python3"
  },
  "language_info": {
   "codemirror_mode": {
    "name": "ipython",
    "version": 3
   },
   "file_extension": ".py",
   "mimetype": "text/x-python",
   "name": "python",
   "nbconvert_exporter": "python",
   "pygments_lexer": "ipython3",
   "version": "3.8.5"
  }
 },
 "nbformat": 4,
 "nbformat_minor": 4
}
