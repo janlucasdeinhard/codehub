{
 "cells": [
  {
   "cell_type": "code",
   "execution_count": 1,
   "metadata": {},
   "outputs": [
    {
     "name": "stderr",
     "output_type": "stream",
     "text": [
      "C:\\Users\\z003mxpm\\Anaconda3\\lib\\site-packages\\snowflake\\connector\\options.py:94: UserWarning: You have an incompatible version of 'pyarrow' installed (4.0.0), please install a version that adheres to: 'pyarrow<3.1.0,>=3.0.0; extra == \"pandas\"'\n",
      "  warn_incompatible_dep(\n"
     ]
    }
   ],
   "source": [
    "import numpy as np\n",
    "from numpy import random as rnd\n",
    "from matplotlib import pyplot as plt\n",
    "import warnings,datetime,time,math,itertools,os,sys\n",
    "\n",
    "import torch\n",
    "import torch.nn as nn\n",
    "from torch.nn import functional as F\n",
    "\n",
    "import tensorflow as tf\n",
    "\n",
    "from tensorflow.keras.models import Model,Sequential\n",
    "from tensorflow.keras.layers import Dense,LSTM,Activation,Dropout,BatchNormalization,Concatenate,Input\n",
    "from tensorflow.keras.regularizers import l2\n",
    "\n",
    "from sklearn.preprocessing import LabelEncoder,StandardScaler\n",
    "from sklearn.decomposition import PCA\n",
    "from sklearn.cluster import MeanShift\n",
    "from sklearn.model_selection import train_test_split\n",
    "\n",
    "import pandas as pd\n",
    "\n",
    "import snowflake.connector\n",
    "\n",
    "import seaborn as sns"
   ]
  },
  {
   "cell_type": "code",
   "execution_count": null,
   "metadata": {},
   "outputs": [],
   "source": [
    "query = '''\n",
    "SELECT \n",
    "     acc.\"Account Name (MainAccount)\"||'||'||acc.\"Account Country\" AS \"Key\"\n",
    "    ,olis.\"OLI.Close Date\"\n",
    "    ,SUM(olis.\"Funnel Value (GC)\") as \"Funnel Value (GC)\"\n",
    "FROM \"CRMCL_TOPICAREA\".\"OSC\".\"Accounts\" acc\n",
    "LEFT JOIN \"CRMCL_TOPICAREA\".\"OSC\".\"OLIs\" olis ON acc.\"ACCOUNT_ID\"=olis.\"ACCOUNT_ID\"\n",
    "WHERE acc.\"CKAP (Flag)\"='Y'\n",
    "AND olis.\"OLI.Close Date\">TO_DATE('01-01-2012','DD-MM-YYYY')\n",
    "AND olis.\"OLI.Close Date\"<TO_DATE('01-01-2022','DD-MM-YYYY')\n",
    "GROUP BY\n",
    "\"Key\"\n",
    ",olis.\"OLI.Close Date\"\n",
    "ORDER BY \"Key\",olis.\"OLI.Close Date\" ASC\n",
    "'''\n",
    "\n",
    "df = pd.read_sql(query,con=conn)"
   ]
  },
  {
   "cell_type": "code",
   "execution_count": 2,
   "metadata": {},
   "outputs": [],
   "source": [
    "conn = snowflake.connector.connect(\n",
    "    user='jan-lucas.deinhard@siemens-healthineers.com',\n",
    "    account='shsitdl.west-europe.azure',\n",
    "    authenticator='externalbrowser'\n",
    ")"
   ]
  },
  {
   "cell_type": "code",
   "execution_count": 3,
   "metadata": {},
   "outputs": [],
   "source": [
    "info = pd.read_sql(\"SHOW COLUMNS\",con=conn)"
   ]
  },
  {
   "cell_type": "code",
   "execution_count": 4,
   "metadata": {},
   "outputs": [],
   "source": [
    "conn.close()"
   ]
  },
  {
   "cell_type": "code",
   "execution_count": 33,
   "metadata": {},
   "outputs": [
    {
     "name": "stderr",
     "output_type": "stream",
     "text": [
      "<ipython-input-33-b893168c8783>:3: SettingWithCopyWarning: \n",
      "A value is trying to be set on a copy of a slice from a DataFrame.\n",
      "Try using .loc[row_indexer,col_indexer] = value instead\n",
      "\n",
      "See the caveats in the documentation: https://pandas.pydata.org/pandas-docs/stable/user_guide/indexing.html#returning-a-view-versus-a-copy\n",
      "  df['table_name'] = df[['schema_name','table_name']].apply(lambda x: x[0]+'.'+x[1],axis=1)\n"
     ]
    }
   ],
   "source": [
    "df = info[info['database_name']=='CRMCL_TOPICAREA']\n",
    "\n",
    "df['table_name'] = df[['schema_name','table_name']].apply(lambda x: x[0]+'.'+x[1],axis=1)\n",
    "df = df[df['schema_name'].isin([\n",
    "    'AUXFILES',\n",
    "    'CNJ',\n",
    "    'CPQ',\n",
    "    'GCR',\n",
    "    'OSC',\n",
    "    'VARIAN'\n",
    "])].drop(columns=['data_type','null?','kind','expression','comment','database_name','autoincrement','default','schema_name'])"
   ]
  },
  {
   "cell_type": "code",
   "execution_count": 34,
   "metadata": {},
   "outputs": [],
   "source": [
    "df = df.groupby(['column_name'],as_index=False).agg({'table_name':'||'.join})"
   ]
  },
  {
   "cell_type": "code",
   "execution_count": 40,
   "metadata": {},
   "outputs": [],
   "source": [
    "df['num_tables_with_key'] = df['table_name'].apply(lambda x: len(str(x).split('||')))"
   ]
  },
  {
   "cell_type": "code",
   "execution_count": 43,
   "metadata": {},
   "outputs": [],
   "source": [
    "df = df.sort_values(by='num_tables_with_key',ascending=False)"
   ]
  },
  {
   "cell_type": "code",
   "execution_count": 45,
   "metadata": {},
   "outputs": [
    {
     "data": {
      "text/html": [
       "<div>\n",
       "<style scoped>\n",
       "    .dataframe tbody tr th:only-of-type {\n",
       "        vertical-align: middle;\n",
       "    }\n",
       "\n",
       "    .dataframe tbody tr th {\n",
       "        vertical-align: top;\n",
       "    }\n",
       "\n",
       "    .dataframe thead th {\n",
       "        text-align: right;\n",
       "    }\n",
       "</style>\n",
       "<table border=\"1\" class=\"dataframe\">\n",
       "  <thead>\n",
       "    <tr style=\"text-align: right;\">\n",
       "      <th></th>\n",
       "      <th>column_name</th>\n",
       "      <th>table_name</th>\n",
       "      <th>num_tables_with_key</th>\n",
       "    </tr>\n",
       "  </thead>\n",
       "  <tbody>\n",
       "    <tr>\n",
       "      <th>1</th>\n",
       "      <td>ACCOUNT_ID</td>\n",
       "      <td>AUXFILES.Account_Address_Geolocations||AUXFILE...</td>\n",
       "      <td>54</td>\n",
       "    </tr>\n",
       "    <tr>\n",
       "      <th>1770</th>\n",
       "      <td>SECURITY_ID</td>\n",
       "      <td>CNJ.CNJ_MarketShare||CPQ.ACTIVE_QUOTES_HEADER|...</td>\n",
       "      <td>45</td>\n",
       "    </tr>\n",
       "    <tr>\n",
       "      <th>1658</th>\n",
       "      <td>Quote Number and Revision</td>\n",
       "      <td>CPQ.ACTIVE_QUOTES_HEADER||CPQ.CS_QUOTEITEM_COS...</td>\n",
       "      <td>22</td>\n",
       "    </tr>\n",
       "    <tr>\n",
       "      <th>996</th>\n",
       "      <td>Group Currency</td>\n",
       "      <td>CPQ.CS_QUOTEITEM_COSTS||CPQ.CS_Quote_Details||...</td>\n",
       "      <td>20</td>\n",
       "    </tr>\n",
       "    <tr>\n",
       "      <th>1405</th>\n",
       "      <td>PRODUCT_ID</td>\n",
       "      <td>CPQ.IN_VITRO_Consumables_per_Enduser||CPQ.IN_V...</td>\n",
       "      <td>17</td>\n",
       "    </tr>\n",
       "    <tr>\n",
       "      <th>...</th>\n",
       "      <td>...</td>\n",
       "      <td>...</td>\n",
       "      <td>...</td>\n",
       "    </tr>\n",
       "    <tr>\n",
       "      <th>1070</th>\n",
       "      <td>L1 Price (DC)</td>\n",
       "      <td>CPQ.IN_VITRO_Price_Consumables||CPQ.IN_VITRO_P...</td>\n",
       "      <td>2</td>\n",
       "    </tr>\n",
       "    <tr>\n",
       "      <th>337</th>\n",
       "      <td>Base Price (BP) (DC)</td>\n",
       "      <td>CPQ.CS_Quote_Details||CPQ.IN_VIVO_Quote_Details</td>\n",
       "      <td>2</td>\n",
       "    </tr>\n",
       "    <tr>\n",
       "      <th>1287</th>\n",
       "      <td>OLI.Record Eff Dt</td>\n",
       "      <td>OSC.OLI_HISTORY_SC_2016_2020||OSC.OLI_HISTORY_...</td>\n",
       "      <td>2</td>\n",
       "    </tr>\n",
       "    <tr>\n",
       "      <th>1245</th>\n",
       "      <td>Nr of Tests</td>\n",
       "      <td>CPQ.IN_VITRO_Price_Reagents||CPQ.IN_VITRO_Reag...</td>\n",
       "      <td>2</td>\n",
       "    </tr>\n",
       "    <tr>\n",
       "      <th>338</th>\n",
       "      <td>Base Price (BP) (GC)</td>\n",
       "      <td>CPQ.CS_Quote_Details||CPQ.IN_VIVO_Quote_Details</td>\n",
       "      <td>2</td>\n",
       "    </tr>\n",
       "  </tbody>\n",
       "</table>\n",
       "<p>669 rows × 3 columns</p>\n",
       "</div>"
      ],
      "text/plain": [
       "                    column_name  \\\n",
       "1                    ACCOUNT_ID   \n",
       "1770                SECURITY_ID   \n",
       "1658  Quote Number and Revision   \n",
       "996              Group Currency   \n",
       "1405                 PRODUCT_ID   \n",
       "...                         ...   \n",
       "1070              L1 Price (DC)   \n",
       "337        Base Price (BP) (DC)   \n",
       "1287          OLI.Record Eff Dt   \n",
       "1245                Nr of Tests   \n",
       "338        Base Price (BP) (GC)   \n",
       "\n",
       "                                             table_name  num_tables_with_key  \n",
       "1     AUXFILES.Account_Address_Geolocations||AUXFILE...                   54  \n",
       "1770  CNJ.CNJ_MarketShare||CPQ.ACTIVE_QUOTES_HEADER|...                   45  \n",
       "1658  CPQ.ACTIVE_QUOTES_HEADER||CPQ.CS_QUOTEITEM_COS...                   22  \n",
       "996   CPQ.CS_QUOTEITEM_COSTS||CPQ.CS_Quote_Details||...                   20  \n",
       "1405  CPQ.IN_VITRO_Consumables_per_Enduser||CPQ.IN_V...                   17  \n",
       "...                                                 ...                  ...  \n",
       "1070  CPQ.IN_VITRO_Price_Consumables||CPQ.IN_VITRO_P...                    2  \n",
       "337     CPQ.CS_Quote_Details||CPQ.IN_VIVO_Quote_Details                    2  \n",
       "1287  OSC.OLI_HISTORY_SC_2016_2020||OSC.OLI_HISTORY_...                    2  \n",
       "1245  CPQ.IN_VITRO_Price_Reagents||CPQ.IN_VITRO_Reag...                    2  \n",
       "338     CPQ.CS_Quote_Details||CPQ.IN_VIVO_Quote_Details                    2  \n",
       "\n",
       "[669 rows x 3 columns]"
      ]
     },
     "execution_count": 45,
     "metadata": {},
     "output_type": "execute_result"
    }
   ],
   "source": [
    "df[df['num_tables_with_key']>1]"
   ]
  },
  {
   "cell_type": "code",
   "execution_count": null,
   "metadata": {},
   "outputs": [],
   "source": []
  }
 ],
 "metadata": {
  "kernelspec": {
   "display_name": "Python 3",
   "language": "python",
   "name": "python3"
  },
  "language_info": {
   "codemirror_mode": {
    "name": "ipython",
    "version": 3
   },
   "file_extension": ".py",
   "mimetype": "text/x-python",
   "name": "python",
   "nbconvert_exporter": "python",
   "pygments_lexer": "ipython3",
   "version": "3.8.5"
  }
 },
 "nbformat": 4,
 "nbformat_minor": 4
}
