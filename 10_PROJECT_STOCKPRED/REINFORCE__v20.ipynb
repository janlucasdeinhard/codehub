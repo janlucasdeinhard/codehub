{
 "cells": [
  {
   "cell_type": "code",
   "execution_count": 2,
   "metadata": {},
   "outputs": [],
   "source": [
    "import numpy as np\n",
    "from numpy import random as rnd\n",
    "from matplotlib import pyplot as plt\n",
    "import warnings,os,time,datetime,sys\n",
    "\n",
    "import torch\n",
    "import pandas as pd\n",
    "\n",
    "import gym\n",
    "\n",
    "warnings.filterwarnings('ignore')"
   ]
  },
  {
   "cell_type": "code",
   "execution_count": 19,
   "metadata": {},
   "outputs": [],
   "source": [
    "class Net(torch.nn.Module):\n",
    "    def __init__(self,input_shape,output_shape):\n",
    "        super(Net,self).__init__()\n",
    "        self.l_in = torch.nn.Linear(input_shape,8)\n",
    "        self.l_out = torch.nn.Linear(8,output_shape)\n",
    "        self.optimizer = torch.optim.Adam(self.parameters(),lr=0.05)\n",
    "    def forward(self,x):\n",
    "        x = torch.nn.functional.relu(self.l_in(x))\n",
    "        x = torch.nn.functional.softmax(self.l_out(x))\n",
    "        return x\n",
    "    def discount_rewards(self,rewards,gamma=0.99):\n",
    "        r = np.array([gamma**k*rewards[k] for k in range(len(rewards))])\n",
    "        r = r[::-1].cumsum()[::-1]\n",
    "        return r-r.mean()\n",
    "    def action_probs_as_numpy(self,s):\n",
    "        action_p = self(torch.FloatTensor(s)).detach().numpy()\n",
    "        return action_p\n",
    "    def train(self,states,rewards,actions):\n",
    "        self.optimizer.zero_grad()\n",
    "        state_t = torch.FloatTensor(states)\n",
    "        reward_t = torch.FloatTensor(rewards)\n",
    "        action_t = torch.LongTensor(actions)\n",
    "        logprob = torch.log(net(state_t))\n",
    "        selected_logprobs = reward_t*torch.gather(logprob,1,action_t.reshape(action_t.shape[0],1)).squeeze()\n",
    "        loss = -selected_logprobs.mean()\n",
    "        loss.backward()\n",
    "        self.optimizer.step()\n",
    "        return"
   ]
  },
  {
   "cell_type": "code",
   "execution_count": 20,
   "metadata": {},
   "outputs": [],
   "source": [
    "NUM_EPISODES = 100\n",
    "BATCH_SIZE = 1"
   ]
  },
  {
   "cell_type": "code",
   "execution_count": 21,
   "metadata": {},
   "outputs": [],
   "source": [
    "net = Net(2,3)"
   ]
  },
  {
   "cell_type": "code",
   "execution_count": 22,
   "metadata": {},
   "outputs": [
    {
     "name": "stdout",
     "output_type": "stream",
     "text": [
      "WARN: gym.spaces.Box autodetected dtype as <class 'numpy.float32'>. Please provide explicit dtype.\n",
      "25/100 -> Avg rewards: -200.0\n",
      "50/100 -> Avg rewards: -200.0\n",
      "75/100 -> Avg rewards: -200.0\n",
      "100/100 -> Avg rewards: -200.0\n"
     ]
    }
   ],
   "source": [
    "env = gym.make('MountainCar-v0')\n",
    "\n",
    "total_rewards = []\n",
    "batch_rewards = []\n",
    "batch_actions = []\n",
    "batch_states = []\n",
    "\n",
    "viz_step = int(5**np.floor(np.log10(NUM_EPISODES)))\n",
    "batch_counter = 1\n",
    "\n",
    "episodes = 0\n",
    "while episodes<NUM_EPISODES:\n",
    "\n",
    "    s0 = env.reset()\n",
    "\n",
    "    states = []\n",
    "    rewards = []\n",
    "    actions = []\n",
    "\n",
    "    done = False\n",
    "    while not done:\n",
    "\n",
    "        action_probs = net.action_probs_as_numpy(s0)\n",
    "        action_c = rnd.choice(np.arange(env.action_space.n),p=action_probs)\n",
    "\n",
    "        s1,r,done,_ = env.step(action_c)\n",
    "\n",
    "        states.append(s0)\n",
    "        rewards.append(r)\n",
    "        actions.append(action_c)\n",
    "\n",
    "        s0 = s1\n",
    "\n",
    "        if done:\n",
    "\n",
    "            total_rewards.append(sum(rewards))\n",
    "\n",
    "            batch_states.extend(states)\n",
    "            batch_rewards.extend(net.discount_rewards(rewards))\n",
    "            batch_actions.extend(actions)\n",
    "\n",
    "            batch_counter += 1\n",
    "\n",
    "            if batch_counter==BATCH_SIZE:\n",
    "                net.train(batch_states,batch_rewards,batch_actions)\n",
    "                batch_states = []\n",
    "                batch_rewards = []\n",
    "                batch_actions = []\n",
    "                batch_counter = 1\n",
    "            episodes += 1\n",
    "    if episodes%viz_step==0: print('{}/{} -> Avg rewards: {}'.format(episodes,NUM_EPISODES,np.mean(total_rewards[-viz_step:])))\n",
    "env.close()"
   ]
  },
  {
   "cell_type": "code",
   "execution_count": 287,
   "metadata": {},
   "outputs": [
    {
     "name": "stdout",
     "output_type": "stream",
     "text": [
      "WARN: gym.spaces.Box autodetected dtype as <class 'numpy.float32'>. Please provide explicit dtype.\n",
      "25/300 -> Avg rewards: 21.52\n",
      "50/300 -> Avg rewards: 35.24\n",
      "75/300 -> Avg rewards: 31.44\n",
      "100/300 -> Avg rewards: 34.12\n",
      "125/300 -> Avg rewards: 47.52\n",
      "150/300 -> Avg rewards: 51.88\n",
      "175/300 -> Avg rewards: 64.36\n",
      "200/300 -> Avg rewards: 103.96\n",
      "225/300 -> Avg rewards: 153.0\n",
      "250/300 -> Avg rewards: 197.96\n",
      "275/300 -> Avg rewards: 188.12\n",
      "300/300 -> Avg rewards: 183.88\n"
     ]
    },
    {
     "data": {
      "image/png": "[encoded data removed]",
      "text/plain": [
       "<Figure size 432x288 with 1 Axes>"
      ]
     },
     "metadata": {},
     "output_type": "display_data"
    }
   ],
   "source": [
    "net = Net(4,2)\n",
    "training_rewards = train_net_cartpole(net,BATCH_SIZE=5,NUM_EPISODES=300)\n",
    "\n",
    "plt.plot(training_rewards)\n",
    "plt.show()"
   ]
  },
  {
   "cell_type": "code",
   "execution_count": 288,
   "metadata": {},
   "outputs": [
    {
     "name": "stdout",
     "output_type": "stream",
     "text": [
      "WARN: gym.spaces.Box autodetected dtype as <class 'numpy.float32'>. Please provide explicit dtype.\n"
     ]
    },
    {
     "data": {
      "image/png": "[encoded data removed]",
      "text/plain": [
       "<Figure size 432x288 with 1 Axes>"
      ]
     },
     "metadata": {},
     "output_type": "display_data"
    }
   ],
   "source": [
    "test_rewards = test_net_cartpole(net)\n",
    "\n",
    "plt.hist(test_rewards)\n",
    "plt.show()"
   ]
  },
  {
   "cell_type": "code",
   "execution_count": null,
   "metadata": {},
   "outputs": [],
   "source": []
  }
 ],
 "metadata": {
  "kernelspec": {
   "display_name": "Python 3",
   "language": "python",
   "name": "python3"
  },
  "language_info": {
   "codemirror_mode": {
    "name": "ipython",
    "version": 3
   },
   "file_extension": ".py",
   "mimetype": "text/x-python",
   "name": "python",
   "nbconvert_exporter": "python",
   "pygments_lexer": "ipython3",
   "version": "3.6.5"
  }
 },
 "nbformat": 4,
 "nbformat_minor": 2
}
