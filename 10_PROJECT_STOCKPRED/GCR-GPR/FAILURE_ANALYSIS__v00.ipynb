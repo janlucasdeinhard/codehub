{
 "cells": [
  {
   "cell_type": "code",
   "execution_count": 1,
   "metadata": {},
   "outputs": [],
   "source": [
    "import numpy as np\n",
    "from matplotlib import pyplot as plt\n",
    "from numpy import random as rnd\n",
    "import warnings,datetime,time,os,itertools\n",
    "\n",
    "import torch\n",
    "import pandas as pd"
   ]
  },
  {
   "cell_type": "code",
   "execution_count": 12,
   "metadata": {},
   "outputs": [],
   "source": [
    "xl = pd.ExcelFile('..\\\\..\\\\..\\\\TF_data\\\\SHS\\\\GCR-GPR\\\\results\\\\2019\\\\report.xlsx')"
   ]
  },
  {
   "cell_type": "code",
   "execution_count": 13,
   "metadata": {},
   "outputs": [
    {
     "data": {
      "text/plain": [
       "['No Issue Detected', 'Missing in GCR', 'Missing in GPR', 'Deviations']"
      ]
     },
     "execution_count": 13,
     "metadata": {},
     "output_type": "execute_result"
    }
   ],
   "source": [
    "xl.sheet_names"
   ]
  },
  {
   "cell_type": "code",
   "execution_count": 21,
   "metadata": {},
   "outputs": [],
   "source": [
    "df = pd.read_excel(xl,sheet_name='Missing in GCR',header=None).rename(columns={\n",
    "    0:'ARE',\n",
    "    1:'DepthStr',\n",
    "    2:'BL',\n",
    "    3:'Quarter',\n",
    "    4:'Revenue'\n",
    "})"
   ]
  },
  {
   "cell_type": "code",
   "execution_count": 68,
   "metadata": {},
   "outputs": [],
   "source": [
    "pf = pd.pivot_table(df,index=['ARE','DepthStr','BL'],columns='Quarter',values='Revenue').reset_index().fillna(0)\n",
    "pf.columns.name = 'Index'\n",
    "\n",
    "pf = pf.rename(columns={\n",
    "    1:'FY19 Q1',\n",
    "    2:'FY19 Q2',\n",
    "    3:'FY19 Q3',\n",
    "    4:'FY19 Q4'\n",
    "})"
   ]
  },
  {
   "cell_type": "code",
   "execution_count": 100,
   "metadata": {},
   "outputs": [
    {
     "data": {
      "text/html": [
       "<div>\n",
       "<style scoped>\n",
       "    .dataframe tbody tr th:only-of-type {\n",
       "        vertical-align: middle;\n",
       "    }\n",
       "\n",
       "    .dataframe tbody tr th {\n",
       "        vertical-align: top;\n",
       "    }\n",
       "\n",
       "    .dataframe thead th {\n",
       "        text-align: right;\n",
       "    }\n",
       "</style>\n",
       "<table border=\"1\" class=\"dataframe\">\n",
       "  <thead>\n",
       "    <tr style=\"text-align: right;\">\n",
       "      <th>Index</th>\n",
       "      <th>ARE</th>\n",
       "      <th>DepthStr</th>\n",
       "      <th>BL</th>\n",
       "      <th>FY19 Q1</th>\n",
       "      <th>FY19 Q2</th>\n",
       "      <th>FY19 Q3</th>\n",
       "      <th>FY19 Q4</th>\n",
       "    </tr>\n",
       "  </thead>\n",
       "  <tbody>\n",
       "    <tr>\n",
       "      <th>0</th>\n",
       "      <td>401S</td>\n",
       "      <td>HSC00481</td>\n",
       "      <td>own Business Area &amp; own BL</td>\n",
       "      <td>3351.33</td>\n",
       "      <td>3351.33</td>\n",
       "      <td>2234.22</td>\n",
       "      <td>4525.48</td>\n",
       "    </tr>\n",
       "    <tr>\n",
       "      <th>1</th>\n",
       "      <td>402S</td>\n",
       "      <td>HSC00183</td>\n",
       "      <td>own Business Area &amp; own BL</td>\n",
       "      <td>0.00</td>\n",
       "      <td>1091.00</td>\n",
       "      <td>408.00</td>\n",
       "      <td>0.00</td>\n",
       "    </tr>\n",
       "    <tr>\n",
       "      <th>2</th>\n",
       "      <td>402S</td>\n",
       "      <td>HSC0018417</td>\n",
       "      <td>own Business Area &amp; own BL</td>\n",
       "      <td>0.00</td>\n",
       "      <td>0.00</td>\n",
       "      <td>0.00</td>\n",
       "      <td>9549.50</td>\n",
       "    </tr>\n",
       "    <tr>\n",
       "      <th>3</th>\n",
       "      <td>404S</td>\n",
       "      <td>HSC00181</td>\n",
       "      <td>own Business Area &amp; own BL</td>\n",
       "      <td>125000.00</td>\n",
       "      <td>103691.64</td>\n",
       "      <td>0.00</td>\n",
       "      <td>167361.53</td>\n",
       "    </tr>\n",
       "    <tr>\n",
       "      <th>4</th>\n",
       "      <td>404S</td>\n",
       "      <td>HSC00183</td>\n",
       "      <td>own Business Area &amp; own BL</td>\n",
       "      <td>0.00</td>\n",
       "      <td>0.00</td>\n",
       "      <td>0.00</td>\n",
       "      <td>15919.01</td>\n",
       "    </tr>\n",
       "    <tr>\n",
       "      <th>...</th>\n",
       "      <td>...</td>\n",
       "      <td>...</td>\n",
       "      <td>...</td>\n",
       "      <td>...</td>\n",
       "      <td>...</td>\n",
       "      <td>...</td>\n",
       "      <td>...</td>\n",
       "    </tr>\n",
       "    <tr>\n",
       "      <th>336</th>\n",
       "      <td>598P</td>\n",
       "      <td>HSC00185</td>\n",
       "      <td>own Business Area &amp; own BL</td>\n",
       "      <td>0.00</td>\n",
       "      <td>12938.84</td>\n",
       "      <td>646.44</td>\n",
       "      <td>4824.80</td>\n",
       "    </tr>\n",
       "    <tr>\n",
       "      <th>337</th>\n",
       "      <td>598P</td>\n",
       "      <td>HSC00381</td>\n",
       "      <td>own Business Area &amp; own BL</td>\n",
       "      <td>114410.72</td>\n",
       "      <td>21923.29</td>\n",
       "      <td>505494.85</td>\n",
       "      <td>142545.06</td>\n",
       "    </tr>\n",
       "    <tr>\n",
       "      <th>338</th>\n",
       "      <td>598P</td>\n",
       "      <td>HSC00481</td>\n",
       "      <td>own Business Area &amp; own BL</td>\n",
       "      <td>10232.15</td>\n",
       "      <td>1417.45</td>\n",
       "      <td>6699.28</td>\n",
       "      <td>488.04</td>\n",
       "    </tr>\n",
       "    <tr>\n",
       "      <th>339</th>\n",
       "      <td>598P</td>\n",
       "      <td>HSC00881</td>\n",
       "      <td>own Business Area &amp; own BL</td>\n",
       "      <td>750.49</td>\n",
       "      <td>0.00</td>\n",
       "      <td>0.00</td>\n",
       "      <td>23828.76</td>\n",
       "    </tr>\n",
       "    <tr>\n",
       "      <th>340</th>\n",
       "      <td>598P</td>\n",
       "      <td>HSC99985</td>\n",
       "      <td>own Business Area &amp; own BL</td>\n",
       "      <td>0.00</td>\n",
       "      <td>0.00</td>\n",
       "      <td>23.59</td>\n",
       "      <td>0.00</td>\n",
       "    </tr>\n",
       "  </tbody>\n",
       "</table>\n",
       "<p>341 rows × 7 columns</p>\n",
       "</div>"
      ],
      "text/plain": [
       "Index   ARE    DepthStr                          BL    FY19 Q1    FY19 Q2  \\\n",
       "0      401S    HSC00481  own Business Area & own BL    3351.33    3351.33   \n",
       "1      402S    HSC00183  own Business Area & own BL       0.00    1091.00   \n",
       "2      402S  HSC0018417  own Business Area & own BL       0.00       0.00   \n",
       "3      404S    HSC00181  own Business Area & own BL  125000.00  103691.64   \n",
       "4      404S    HSC00183  own Business Area & own BL       0.00       0.00   \n",
       "..      ...         ...                         ...        ...        ...   \n",
       "336    598P    HSC00185  own Business Area & own BL       0.00   12938.84   \n",
       "337    598P    HSC00381  own Business Area & own BL  114410.72   21923.29   \n",
       "338    598P    HSC00481  own Business Area & own BL   10232.15    1417.45   \n",
       "339    598P    HSC00881  own Business Area & own BL     750.49       0.00   \n",
       "340    598P    HSC99985  own Business Area & own BL       0.00       0.00   \n",
       "\n",
       "Index    FY19 Q3    FY19 Q4  \n",
       "0        2234.22    4525.48  \n",
       "1         408.00       0.00  \n",
       "2           0.00    9549.50  \n",
       "3           0.00  167361.53  \n",
       "4           0.00   15919.01  \n",
       "..           ...        ...  \n",
       "336       646.44    4824.80  \n",
       "337    505494.85  142545.06  \n",
       "338      6699.28     488.04  \n",
       "339         0.00   23828.76  \n",
       "340        23.59       0.00  \n",
       "\n",
       "[341 rows x 7 columns]"
      ]
     },
     "execution_count": 100,
     "metadata": {},
     "output_type": "execute_result"
    }
   ],
   "source": [
    "pf"
   ]
  },
  {
   "cell_type": "code",
   "execution_count": 94,
   "metadata": {},
   "outputs": [
    {
     "data": {
      "text/plain": [
       "<matplotlib.axes._subplots.AxesSubplot at 0x1f2d89fcb38>"
      ]
     },
     "execution_count": 94,
     "metadata": {},
     "output_type": "execute_result"
    },
    {
     "data": {
      "image/png": "[encoded data removed]",
      "text/plain": [
       "<Figure size 1224x504 with 1 Axes>"
      ]
     },
     "metadata": {},
     "output_type": "display_data"
    }
   ],
   "source": [
    "df[['ARE','Quarter']].drop_duplicates().reset_index(drop=True).groupby('ARE').count().sort_values(by=['Quarter'],ascending=False).plot(kind='bar',figsize=(17,7))"
   ]
  },
  {
   "cell_type": "code",
   "execution_count": 98,
   "metadata": {},
   "outputs": [
    {
     "data": {
      "text/plain": [
       "<matplotlib.axes._subplots.AxesSubplot at 0x1f2d8b76668>"
      ]
     },
     "execution_count": 98,
     "metadata": {},
     "output_type": "execute_result"
    },
    {
     "data": {
      "image/png": "[encoded data removed]",
      "text/plain": [
       "<Figure size 1224x504 with 1 Axes>"
      ]
     },
     "metadata": {},
     "output_type": "display_data"
    }
   ],
   "source": [
    "df[['DepthStr','Quarter']].drop_duplicates().reset_index(drop=True).groupby('DepthStr').count().sort_values(by=['Quarter'],ascending=False).plot(kind='bar',figsize=(17,7))"
   ]
  },
  {
   "cell_type": "code",
   "execution_count": 99,
   "metadata": {},
   "outputs": [
    {
     "data": {
      "text/plain": [
       "<matplotlib.axes._subplots.AxesSubplot at 0x1f2d8e359e8>"
      ]
     },
     "execution_count": 99,
     "metadata": {},
     "output_type": "execute_result"
    },
    {
     "data": {
      "image/png": "[encoded data removed]",
      "text/plain": [
       "<Figure size 1224x504 with 1 Axes>"
      ]
     },
     "metadata": {},
     "output_type": "display_data"
    }
   ],
   "source": [
    "df[['BL','Quarter']].drop_duplicates().reset_index(drop=True).groupby('BL').count().sort_values(by=['Quarter'],ascending=False).plot(kind='bar',figsize=(17,7))"
   ]
  },
  {
   "cell_type": "code",
   "execution_count": null,
   "metadata": {},
   "outputs": [],
   "source": []
  }
 ],
 "metadata": {
  "kernelspec": {
   "display_name": "Python 3",
   "language": "python",
   "name": "python3"
  },
  "language_info": {
   "codemirror_mode": {
    "name": "ipython",
    "version": 3
   },
   "file_extension": ".py",
   "mimetype": "text/x-python",
   "name": "python",
   "nbconvert_exporter": "python",
   "pygments_lexer": "ipython3",
   "version": "3.6.5"
  }
 },
 "nbformat": 4,
 "nbformat_minor": 2
}
