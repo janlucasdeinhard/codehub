{
 "cells": [
  {
   "cell_type": "code",
   "execution_count": 1,
   "metadata": {},
   "outputs": [],
   "source": [
    "import numpy as np\n",
    "from numpy import random as rnd\n",
    "from matplotlib import pyplot as plt\n",
    "import warnings,os,time,datetime,sys\n",
    "\n",
    "import torch\n",
    "import pandas as pd\n",
    "\n",
    "import gym"
   ]
  },
  {
   "cell_type": "code",
   "execution_count": 24,
   "metadata": {},
   "outputs": [],
   "source": [
    "class Net(torch.nn.Module):\n",
    "    def __init__(self,env):\n",
    "        super(Net,self).__init__()\n",
    "        self.l0 = torch.nn.Linear(env.observation_space.shape[0],16)\n",
    "        self.l1 = torch.nn.Linear(16,env.action_space.n)\n",
    "    def forward(self,x):\n",
    "        x = torch.nn.functional.relu(self.l0(x))\n",
    "        x = torch.nn.functional.softmax(self.l1(x))\n",
    "        return x"
   ]
  },
  {
   "cell_type": "code",
   "execution_count": 25,
   "metadata": {},
   "outputs": [],
   "source": [
    "def discount_rewards(rewards,gamma=0.99):\n",
    "    r = np.array([gamma**k*rewards[k] for k in range(len(rewards))])\n",
    "    r = r[::-1].cumsum()[::-1]\n",
    "    return r-r.mean()"
   ]
  },
  {
   "cell_type": "code",
   "execution_count": 28,
   "metadata": {},
   "outputs": [],
   "source": [
    "total_rewards = []\n",
    "\n",
    "batch_rewards = []\n",
    "batch_actions = []\n",
    "batch_states = []\n",
    "\n",
    "batch_counter = 1"
   ]
  },
  {
   "cell_type": "code",
   "execution_count": 47,
   "metadata": {},
   "outputs": [
    {
     "name": "stdout",
     "output_type": "stream",
     "text": [
      "WARN: gym.spaces.Box autodetected dtype as <class 'numpy.float32'>. Please provide explicit dtype.\n"
     ]
    }
   ],
   "source": [
    "env = gym.make('CartPole-v0')\n",
    "action_space = np.arange(env.action_space.n)"
   ]
  },
  {
   "cell_type": "code",
   "execution_count": 30,
   "metadata": {},
   "outputs": [],
   "source": [
    "net = Net(env)\n",
    "optimizer = torch.optim.Adam(net.parameters(),lr=0.01)"
   ]
  },
  {
   "cell_type": "code",
   "execution_count": 66,
   "metadata": {},
   "outputs": [],
   "source": [
    "s0 = env.reset()\n",
    "\n",
    "states = []\n",
    "rewards = []\n",
    "actions = []\n",
    "\n",
    "done = False"
   ]
  },
  {
   "cell_type": "code",
   "execution_count": 67,
   "metadata": {},
   "outputs": [
    {
     "name": "stderr",
     "output_type": "stream",
     "text": [
      "C:\\Users\\Jan\\Anaconda3\\lib\\site-packages\\ipykernel_launcher.py:8: UserWarning: Implicit dimension choice for softmax has been deprecated. Change the call to include dim=X as an argument.\n",
      "  \n"
     ]
    }
   ],
   "source": [
    "action_probs = net(torch.FloatTensor(s0)).detach().numpy()\n",
    "action_c = rnd.choice(action_space,p=action_probs)"
   ]
  },
  {
   "cell_type": "code",
   "execution_count": 68,
   "metadata": {},
   "outputs": [],
   "source": [
    "s1,r,done,_ = env.step(action_c)"
   ]
  },
  {
   "cell_type": "code",
   "execution_count": 69,
   "metadata": {},
   "outputs": [],
   "source": [
    "states.append(s0)\n",
    "rewards.append(r)\n",
    "actions.append(action_c)"
   ]
  },
  {
   "cell_type": "code",
   "execution_count": 70,
   "metadata": {},
   "outputs": [],
   "source": [
    "s0 = s1"
   ]
  },
  {
   "cell_type": "code",
   "execution_count": 71,
   "metadata": {},
   "outputs": [],
   "source": [
    "total_rewards.append(sum(rewards))\n",
    "\n",
    "batch_states.extend(states)\n",
    "batch_rewards.extend(discount_rewards(rewards))\n",
    "batch_actions.extend(actions)\n",
    "\n",
    "batch_counter += 1"
   ]
  },
  {
   "cell_type": "code",
   "execution_count": null,
   "metadata": {},
   "outputs": [],
   "source": []
  }
 ],
 "metadata": {
  "kernelspec": {
   "display_name": "Python 3",
   "language": "python",
   "name": "python3"
  },
  "language_info": {
   "codemirror_mode": {
    "name": "ipython",
    "version": 3
   },
   "file_extension": ".py",
   "mimetype": "text/x-python",
   "name": "python",
   "nbconvert_exporter": "python",
   "pygments_lexer": "ipython3",
   "version": "3.6.5"
  }
 },
 "nbformat": 4,
 "nbformat_minor": 2
}
