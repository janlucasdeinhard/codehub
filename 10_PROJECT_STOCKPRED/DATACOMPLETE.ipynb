{
 "cells": [
  {
   "cell_type": "code",
   "execution_count": 1,
   "metadata": {},
   "outputs": [],
   "source": [
    "# Imports\n",
    "\n",
    "import math\n",
    "import numpy as np\n",
    "from matplotlib import pyplot as plt\n",
    "from numpy import random as rnd\n",
    "import warnings,datetime,os,calendar,csv,time"
   ]
  },
  {
   "cell_type": "code",
   "execution_count": null,
   "metadata": {},
   "outputs": [],
   "source": [
    "import tensorflow as tf"
   ]
  },
  {
   "cell_type": "code",
   "execution_count": null,
   "metadata": {},
   "outputs": [],
   "source": [
    "import pandas as pd\n",
    "import seaborn as sns\n",
    "\n",
    "from keras.models import Model,Sequential\n",
    "from keras.layers import Dense,LSTM,Conv2D,Dropout,BatchNormalization,Input,Concatenate,Add,Activation,MaxPooling2D,AveragePooling2D,Flatten\n",
    "import keras.backend as K\n",
    "\n",
    "from sklearn import preprocessing as pp\n",
    "\n",
    "from sklearn.cluster import KMeans,MeanShift\n",
    "from sklearn.dummy import DummyClassifier,DummyRegressor\n",
    "from sklearn.discriminant_analysis import LinearDiscriminantAnalysis\n",
    "from sklearn.ensemble import AdaBoostClassifier,AdaBoostRegressor,RandomForestClassifier,RandomForestRegressor\n",
    "from sklearn.linear_model import BayesianRidge,Lasso,LinearRegression,SGDClassifier,SGDRegressor\n",
    "from sklearn.mixture import BayesianGaussianMixture,GaussianMixture\n",
    "from sklearn.neighbors import KNeighborsClassifier,KNeighborsRegressor,RadiusNeighborsClassifier,RadiusNeighborsRegressor,NearestNeighbors\n",
    "from sklearn.manifold import Isomap,TSNE\n",
    "from sklearn.model_selection import KFold,StratifiedKFold,train_test_split\n",
    "from sklearn.svm import LinearSVC,LinearSVR\n",
    "from sklearn.neural_network import BernoulliRBM,MLPClassifier,MLPRegressor\n",
    "from sklearn.decomposition import FactorAnalysis,KernelPCA,PCA,MiniBatchSparsePCA,FastICA\n",
    "from sklearn.preprocessing import CategoricalEncoder,KBinsDiscretizer,LabelEncoder,MinMaxScaler,OneHotEncoder,StandardScaler\n",
    "\n",
    "from xgboost import XGBClassifier,XGBRegressor\n",
    "\n",
    "import pickle,h5py,json\n",
    "\n",
    "import pandas_datareader as pdr\n",
    "import urllib\n",
    "from bs4 import BeautifulSoup\n",
    "import iexfinance as iex\n",
    "from iexfinance.stocks import get_historical_data\n",
    "from scipy.signal import resample,correlate\n",
    "from scipy import fftpack\n",
    "\n",
    "warnings.filterwarnings('ignore')\n",
    "sns.set()\n",
    "plt.xkcd()"
   ]
  },
  {
   "cell_type": "code",
   "execution_count": 2,
   "metadata": {},
   "outputs": [],
   "source": [
    "start_date = datetime.datetime(2015,1,1)\n",
    "end_date = datetime.datetime(2017,1,1)\n",
    "\n",
    "with open('Documents\\stock_symb.txt','r') as f:\n",
    "    lines = f.readlines()\n",
    "content = [line.strip() for line in lines]\n",
    "tickers = [content[i] for i in list(np.random.permutation(np.arange(len(content))))]"
   ]
  },
  {
   "cell_type": "code",
   "execution_count": 3,
   "metadata": {
    "scrolled": true
   },
   "outputs": [
    {
     "name": "stdout",
     "output_type": "stream",
     "text": [
      "Processing 0/50\n",
      "Processing 10/50\n",
      "Processing 20/50\n",
      "Processing 30/50\n",
      "Processing 40/50\n"
     ]
    }
   ],
   "source": [
    "ticker_set = tickers[:50]\n",
    "print_progress = 10\n",
    "\n",
    "DATA = []\n",
    "\n",
    "ctr = 0\n",
    "for ticker in ticker_set:\n",
    "\n",
    "    if ctr%print_progress==0: print('Processing %d/%d'%(ctr,len(ticker_set)))\n",
    "    ctr += 1\n",
    "    try:\n",
    "        df = get_historical_data(ticker,start=start_date,end=end_date,output_format='pandas')\n",
    "    except:\n",
    "        continue\n",
    "    data = df['open'].values\n",
    "    DATA.append(data)"
   ]
  },
  {
   "cell_type": "code",
   "execution_count": 4,
   "metadata": {},
   "outputs": [],
   "source": [
    "# First project: Fill in NaNs"
   ]
  },
  {
   "cell_type": "code",
   "execution_count": 5,
   "metadata": {},
   "outputs": [],
   "source": [
    "datalen = [len(data) for data in DATA]\n",
    "most_common_length = max(set(datalen),key=datalen.count)"
   ]
  },
  {
   "cell_type": "code",
   "execution_count": 6,
   "metadata": {},
   "outputs": [],
   "source": [
    "xtrain = [data for data in DATA if np.sum(np.isnan(data))==0 and len(data)==most_common_length]\n",
    "xuse = [data for data in DATA if np.sum(np.isnan(data))!=0]"
   ]
  },
  {
   "cell_type": "code",
   "execution_count": 53,
   "metadata": {},
   "outputs": [],
   "source": [
    "lookback = 5\n",
    "\n",
    "S = []\n",
    "for x in xtrain:\n",
    "    for k in range(len(x)-lookback):\n",
    "        S.append(x[k:k+lookback])"
   ]
  },
  {
   "cell_type": "code",
   "execution_count": 63,
   "metadata": {},
   "outputs": [],
   "source": [
    "perc_nans = 0.5\n",
    "\n",
    "X = []\n",
    "Y = []\n",
    "\n",
    "for s in S:\n",
    "    num_nans = round(perc_nans*len(s))\n",
    "    nan_indices = rnd.permutation(np.arange(0,len(s)))[:num_nans]\n",
    "    ss = s.copy()\n",
    "    ss[nan_indices]=-1\n",
    "    X.append(ss)\n",
    "    Y.append(s)\n",
    "X = np.stack(X,axis=0)\n",
    "Y = np.stack(Y,axis=0)"
   ]
  },
  {
   "cell_type": "code",
   "execution_count": 64,
   "metadata": {},
   "outputs": [],
   "source": [
    "Xtrain,Xtest,Ytrain,Ytest = train_test_split(X,Y,test_size=0.2,shuffle=True)"
   ]
  },
  {
   "cell_type": "code",
   "execution_count": 77,
   "metadata": {},
   "outputs": [],
   "source": [
    "in0 = Input(shape=(Xtrain.shape[1],))\n",
    "x = Dense(units=10,activation='relu')(in0)\n",
    "x = Dense(units=5,activation='relu')(x)\n",
    "x = Dense(units=10,activation='relu')(x)\n",
    "x = Dropout(rate=0.25)(x)\n",
    "out0 = Dense(units=Xtrain.shape[1],activation='relu')(in0)\n",
    "\n",
    "model = Model(in0,out0)\n",
    "model.compile(optimizer='adam',loss='mse',metrics=['accuracy'])"
   ]
  },
  {
   "cell_type": "code",
   "execution_count": 78,
   "metadata": {},
   "outputs": [
    {
     "name": "stdout",
     "output_type": "stream",
     "text": [
      "Train on 10059 samples, validate on 1118 samples\n",
      "Epoch 1/25\n",
      "10059/10059 [==============================] - 6s 560us/step - loss: 836.2879 - acc: 0.2222 - val_loss: 306.8449 - val_acc: 0.2093\n",
      "Epoch 2/25\n",
      "10059/10059 [==============================] - 6s 572us/step - loss: 356.1585 - acc: 0.1979 - val_loss: 303.4857 - val_acc: 0.2182\n",
      "Epoch 3/25\n",
      "10059/10059 [==============================] - 5s 530us/step - loss: 41.7583 - acc: 0.2096 - val_loss: 1.0673 - val_acc: 0.1503\n",
      "Epoch 4/25\n",
      "10059/10059 [==============================] - 5s 518us/step - loss: 1.0024 - acc: 0.1944 - val_loss: 1.0643 - val_acc: 0.2039\n",
      "Epoch 5/25\n",
      "10059/10059 [==============================] - 6s 601us/step - loss: 1.0178 - acc: 0.2081 - val_loss: 1.1134 - val_acc: 0.2576\n",
      "Epoch 6/25\n",
      "10059/10059 [==============================] - 6s 550us/step - loss: 1.0080 - acc: 0.2138 - val_loss: 1.1091 - val_acc: 0.1619\n",
      "Epoch 7/25\n",
      "10059/10059 [==============================] - 6s 560us/step - loss: 1.0195 - acc: 0.2185 - val_loss: 1.0806 - val_acc: 0.1843\n",
      "Epoch 8/25\n",
      "10059/10059 [==============================] - 5s 518us/step - loss: 1.0127 - acc: 0.2196 - val_loss: 1.2644 - val_acc: 0.2871\n",
      "Epoch 9/25\n",
      "10059/10059 [==============================] - 5s 534us/step - loss: 1.0210 - acc: 0.2134 - val_loss: 1.0711 - val_acc: 0.1780\n",
      "Epoch 10/25\n",
      "10059/10059 [==============================] - 5s 497us/step - loss: 1.0193 - acc: 0.2226 - val_loss: 1.1356 - val_acc: 0.1699\n",
      "Epoch 11/25\n",
      "10059/10059 [==============================] - 6s 557us/step - loss: 1.0229 - acc: 0.2178 - val_loss: 1.1604 - val_acc: 0.2576\n",
      "Epoch 12/25\n",
      "10059/10059 [==============================] - 7s 681us/step - loss: 1.0227 - acc: 0.2153 - val_loss: 1.0862 - val_acc: 0.2469\n",
      "Epoch 13/25\n",
      "10059/10059 [==============================] - 10s 1ms/step - loss: 1.0065 - acc: 0.2139 - val_loss: 1.1304 - val_acc: 0.2057\n",
      "Epoch 14/25\n",
      "10059/10059 [==============================] - 9s 898us/step - loss: 1.0101 - acc: 0.2133 - val_loss: 1.0968 - val_acc: 0.1860\n",
      "Epoch 15/25\n",
      "10059/10059 [==============================] - 7s 739us/step - loss: 1.0107 - acc: 0.2148 - val_loss: 1.0599 - val_acc: 0.2227\n",
      "Epoch 16/25\n",
      "10059/10059 [==============================] - 7s 650us/step - loss: 1.0169 - acc: 0.2121 - val_loss: 1.0903 - val_acc: 0.2433\n",
      "Epoch 17/25\n",
      "10059/10059 [==============================] - 7s 721us/step - loss: 1.0065 - acc: 0.2112 - val_loss: 1.0823 - val_acc: 0.2182\n",
      "Epoch 18/25\n",
      "10059/10059 [==============================] - 7s 646us/step - loss: 1.0136 - acc: 0.2090 - val_loss: 1.1619 - val_acc: 0.2531\n",
      "Epoch 19/25\n",
      "10059/10059 [==============================] - 7s 659us/step - loss: 1.0215 - acc: 0.2208 - val_loss: 1.0642 - val_acc: 0.2254\n",
      "Epoch 20/25\n",
      "10059/10059 [==============================] - 7s 688us/step - loss: 1.0226 - acc: 0.2219 - val_loss: 1.0923 - val_acc: 0.1932\n",
      "Epoch 21/25\n",
      "10059/10059 [==============================] - 5s 545us/step - loss: 1.0177 - acc: 0.2098 - val_loss: 1.0941 - val_acc: 0.2862\n",
      "Epoch 22/25\n",
      "10059/10059 [==============================] - 4s 416us/step - loss: 1.0190 - acc: 0.2168 - val_loss: 1.1094 - val_acc: 0.2066\n",
      "Epoch 23/25\n",
      "10059/10059 [==============================] - 4s 432us/step - loss: 1.0229 - acc: 0.2141 - val_loss: 1.1357 - val_acc: 0.2335\n",
      "Epoch 24/25\n",
      "10059/10059 [==============================] - 5s 478us/step - loss: 1.0143 - acc: 0.2131 - val_loss: 1.1964 - val_acc: 0.1807\n",
      "Epoch 25/25\n",
      "10059/10059 [==============================] - 5s 456us/step - loss: 1.0258 - acc: 0.2109 - val_loss: 1.1341 - val_acc: 0.2343\n"
     ]
    },
    {
     "data": {
      "text/plain": [
       "<keras.callbacks.History at 0x1e5e16f7ac8>"
      ]
     },
     "execution_count": 78,
     "metadata": {},
     "output_type": "execute_result"
    }
   ],
   "source": [
    "model.fit(Xtrain,Ytrain,batch_size=3,epochs=25,validation_split=0.1)"
   ]
  },
  {
   "cell_type": "code",
   "execution_count": 79,
   "metadata": {},
   "outputs": [
    {
     "name": "stdout",
     "output_type": "stream",
     "text": [
      "2795/2795 [==============================] - 0s 30us/step\n"
     ]
    },
    {
     "data": {
      "text/plain": [
       "[1.019156059788037, 0.2207513417028997]"
      ]
     },
     "execution_count": 79,
     "metadata": {},
     "output_type": "execute_result"
    }
   ],
   "source": [
    "model.evaluate(Xtest,Ytest)"
   ]
  },
  {
   "cell_type": "code",
   "execution_count": 80,
   "metadata": {},
   "outputs": [],
   "source": [
    "Xpred = model.predict(Xtest)"
   ]
  },
  {
   "cell_type": "code",
   "execution_count": 81,
   "metadata": {},
   "outputs": [
    {
     "data": {
      "text/plain": [
       "array([74.8895, 75.0725, -1.    , -1.    , 74.6882])"
      ]
     },
     "execution_count": 81,
     "metadata": {},
     "output_type": "execute_result"
    }
   ],
   "source": [
    "Xtest[0]"
   ]
  },
  {
   "cell_type": "code",
   "execution_count": 82,
   "metadata": {},
   "outputs": [
    {
     "data": {
      "text/plain": [
       "array([74.09739 , 74.75027 , 74.541336, 75.560394, 75.37741 ],\n",
       "      dtype=float32)"
      ]
     },
     "execution_count": 82,
     "metadata": {},
     "output_type": "execute_result"
    }
   ],
   "source": [
    "Xpred[0]"
   ]
  },
  {
   "cell_type": "code",
   "execution_count": 83,
   "metadata": {},
   "outputs": [
    {
     "data": {
      "text/plain": [
       "array([74.8895, 75.0725, 75.0908, 74.2031, 74.6882])"
      ]
     },
     "execution_count": 83,
     "metadata": {},
     "output_type": "execute_result"
    }
   ],
   "source": [
    "Ytest[0]"
   ]
  },
  {
   "cell_type": "code",
   "execution_count": null,
   "metadata": {},
   "outputs": [],
   "source": []
  }
 ],
 "metadata": {
  "kernelspec": {
   "display_name": "Python 3",
   "language": "python",
   "name": "python3"
  },
  "language_info": {
   "codemirror_mode": {
    "name": "ipython",
    "version": 3
   },
   "file_extension": ".py",
   "mimetype": "text/x-python",
   "name": "python",
   "nbconvert_exporter": "python",
   "pygments_lexer": "ipython3",
   "version": "3.8.5"
  }
 },
 "nbformat": 4,
 "nbformat_minor": 2
}
