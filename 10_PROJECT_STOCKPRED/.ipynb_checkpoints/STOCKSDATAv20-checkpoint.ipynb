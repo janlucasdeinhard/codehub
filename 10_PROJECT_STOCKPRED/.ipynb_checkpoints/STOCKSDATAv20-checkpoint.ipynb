{
 "cells": [
  {
   "cell_type": "code",
   "execution_count": 1,
   "metadata": {},
   "outputs": [
    {
     "name": "stderr",
     "output_type": "stream",
     "text": [
      "C:\\Users\\Jan\\Anaconda3\\lib\\site-packages\\h5py\\__init__.py:36: FutureWarning: Conversion of the second argument of issubdtype from `float` to `np.floating` is deprecated. In future, it will be treated as `np.float64 == np.dtype(float).type`.\n",
      "  from ._conv import register_converters as _register_converters\n",
      "Using TensorFlow backend.\n"
     ]
    },
    {
     "name": "stdout",
     "output_type": "stream",
     "text": [
      "pygame 1.9.4\n",
      "Hello from the pygame community. https://www.pygame.org/contribute.html\n"
     ]
    },
    {
     "data": {
      "text/plain": [
       "<matplotlib.rc_context at 0x27243267be0>"
      ]
     },
     "execution_count": 1,
     "metadata": {},
     "output_type": "execute_result"
    }
   ],
   "source": [
    "# Imports\n",
    "\n",
    "import math\n",
    "import numpy as np\n",
    "from matplotlib import pyplot as plt\n",
    "from numpy import random as rnd\n",
    "import warnings,datetime,os,calendar,csv,time\n",
    "\n",
    "import tensorflow as tf\n",
    "import pandas as pd\n",
    "import seaborn as sns\n",
    "\n",
    "from keras.models import Model,Sequential\n",
    "from keras.layers import Dense,LSTM,Conv2D,Dropout,BatchNormalization,Input,Concatenate,Add,Activation,MaxPooling2D,AveragePooling2D\n",
    "import keras.backend as K\n",
    "\n",
    "from sklearn import preprocessing as pp\n",
    "\n",
    "from sklearn.cluster import KMeans,MeanShift\n",
    "from sklearn.dummy import DummyClassifier,DummyRegressor\n",
    "from sklearn.discriminant_analysis import LinearDiscriminantAnalysis\n",
    "from sklearn.ensemble import AdaBoostClassifier,AdaBoostRegressor,RandomForestClassifier,RandomForestRegressor\n",
    "from sklearn.linear_model import BayesianRidge,Lasso,LinearRegression,SGDClassifier,SGDRegressor\n",
    "from sklearn.mixture import BayesianGaussianMixture,GaussianMixture\n",
    "from sklearn.neighbors import KNeighborsClassifier,KNeighborsRegressor,RadiusNeighborsClassifier,RadiusNeighborsRegressor,NearestNeighbors\n",
    "from sklearn.manifold import Isomap,TSNE\n",
    "from sklearn.model_selection import KFold,StratifiedKFold,train_test_split\n",
    "from sklearn.svm import LinearSVC,LinearSVR\n",
    "from sklearn.neural_network import BernoulliRBM,MLPClassifier,MLPRegressor\n",
    "from sklearn.decomposition import FactorAnalysis,KernelPCA,PCA,MiniBatchSparsePCA,FastICA\n",
    "from sklearn.preprocessing import CategoricalEncoder,KBinsDiscretizer,LabelEncoder,MinMaxScaler,OneHotEncoder,StandardScaler\n",
    "\n",
    "from xgboost import XGBClassifier,XGBRegressor\n",
    "\n",
    "import gym\n",
    "import pygame\n",
    "from pygame.locals import *\n",
    "\n",
    "import pickle,h5py,json\n",
    "\n",
    "import pandas_datareader as pdr\n",
    "import urllib\n",
    "from bs4 import BeautifulSoup\n",
    "from scipy.signal import resample,correlate\n",
    "from scipy import fftpack\n",
    "from lmfit import Model as lmmodel\n",
    "\n",
    "import iexfinance as iex\n",
    "from iexfinance.stocks import Stock,get_historical_data\n",
    "\n",
    "warnings.filterwarnings('ignore')\n",
    "sns.set()\n",
    "plt.xkcd()"
   ]
  },
  {
   "cell_type": "code",
   "execution_count": 2,
   "metadata": {},
   "outputs": [],
   "source": [
    "class IEX_Company:\n",
    "    \n",
    "    def __init__(self,ID):\n",
    "        self.ID = ID\n",
    "        self.token = None\n",
    "        self.base_initialized = False\n",
    "        self.hist_initialized = False\n",
    "    \n",
    "    def set_token(self,token):\n",
    "        if self.token is not None: print('Refreshing authentication token...')\n",
    "        self.token = token\n",
    "        return\n",
    "        \n",
    "    def fetch_base_data(self):\n",
    "        if self.token is None: \n",
    "            print('Please set authentication token first!')\n",
    "            return\n",
    "        if self.base_initialized: print('Refreshing base data...')\n",
    "        \n",
    "        stock = Stock(self.ID,token=self.token,output_format='pandas')\n",
    "        \n",
    "        self.peers = stock.get_peers(token=self.token)[self.ID]\n",
    "        self.df_b = stock.get_balance_sheet(token=self.token)\n",
    "        self.df_i = stock.get_company(token=self.token)\n",
    "        self.df_c = stock.get_cash_flow(token=self.token)\n",
    "        \n",
    "        if not self.base_initialized: self.base_initialized=True\n",
    "        return\n",
    "    \n",
    "    def fetch_historical_data(self,start_date,end_date):\n",
    "        if self.token is None: \n",
    "            print('Please set authentication token first!')\n",
    "            return\n",
    "        if self.hist_initialized: print('Refreshing base data...')\n",
    "        \n",
    "        self.df_h = get_historical_data(self.ID,start=start_date,end=end_date,token=self.token,output_format='pandas')\n",
    "        \n",
    "        if not self.hist_initialized: self.hist_initialized=True\n",
    "        return\n",
    "    \n",
    "    def prepare_timeline(self,lookback,day_freq=1):\n",
    "        if not self.hist_initialized:\n",
    "            print('Please initialize historical data first!')\n",
    "            return\n",
    "        data = df_h.transpose().values\n",
    "        r_data = data[:,::day_freq]\n",
    "\n",
    "        num_features = r_data.shape[0]\n",
    "\n",
    "        DATA = []\n",
    "        TARGET = []\n",
    "\n",
    "        for k in range(r_data.shape[1]-lookback-1):\n",
    "            D = r_data[:,k:k+lookback]\n",
    "            T = r_data[:,k+lookback]\n",
    "            DATA.append(D)\n",
    "            TARGET.append(T)\n",
    "        DATA = np.swapaxes(np.stack(DATA,axis=0),1,2)\n",
    "        TARGET = np.stack(TARGET,axis=0)\n",
    "        \n",
    "        self.DATA = DATA\n",
    "        self.TARGET = TARGET\n",
    "        return DATA,TARGET"
   ]
  },
  {
   "cell_type": "code",
   "execution_count": null,
   "metadata": {},
   "outputs": [],
   "source": []
  }
 ],
 "metadata": {
  "kernelspec": {
   "display_name": "Python 3",
   "language": "python",
   "name": "python3"
  },
  "language_info": {
   "codemirror_mode": {
    "name": "ipython",
    "version": 3
   },
   "file_extension": ".py",
   "mimetype": "text/x-python",
   "name": "python",
   "nbconvert_exporter": "python",
   "pygments_lexer": "ipython3",
   "version": "3.6.5"
  }
 },
 "nbformat": 4,
 "nbformat_minor": 2
}
