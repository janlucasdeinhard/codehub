{
 "cells": [
  {
   "cell_type": "code",
   "execution_count": 1,
   "metadata": {},
   "outputs": [
    {
     "name": "stderr",
     "output_type": "stream",
     "text": [
      "C:\\Users\\Jan\\Anaconda3\\lib\\site-packages\\h5py\\__init__.py:36: FutureWarning: Conversion of the second argument of issubdtype from `float` to `np.floating` is deprecated. In future, it will be treated as `np.float64 == np.dtype(float).type`.\n",
      "  from ._conv import register_converters as _register_converters\n",
      "Using TensorFlow backend.\n"
     ]
    }
   ],
   "source": [
    "# Imports\n",
    "\n",
    "import math\n",
    "import numpy as np\n",
    "from matplotlib import pyplot as plt\n",
    "from numpy import random as rnd\n",
    "import warnings,datetime,os,calendar,csv,time\n",
    "\n",
    "import tensorflow as tf\n",
    "import pandas as pd\n",
    "import seaborn as sns\n",
    "\n",
    "from keras.models import Model,Sequential\n",
    "from keras.layers import Dense,LSTM,Conv2D,Dropout,BatchNormalization,Input,Concatenate,Add,Activation,MaxPooling2D,AveragePooling2D\n",
    "import keras.backend as K\n",
    "\n",
    "from sklearn import preprocessing as pp\n",
    "\n",
    "from sklearn.cluster import KMeans,MeanShift\n",
    "from sklearn.dummy import DummyClassifier,DummyRegressor\n",
    "from sklearn.discriminant_analysis import LinearDiscriminantAnalysis\n",
    "from sklearn.ensemble import AdaBoostClassifier,AdaBoostRegressor,RandomForestClassifier,RandomForestRegressor\n",
    "from sklearn.linear_model import BayesianRidge,Lasso,LinearRegression,SGDClassifier,SGDRegressor\n",
    "from sklearn.mixture import BayesianGaussianMixture,GaussianMixture\n",
    "from sklearn.neighbors import KNeighborsClassifier,KNeighborsRegressor,RadiusNeighborsClassifier,RadiusNeighborsRegressor,NearestNeighbors\n",
    "from sklearn.manifold import Isomap,TSNE\n",
    "from sklearn.model_selection import KFold,StratifiedKFold,train_test_split\n",
    "from sklearn.svm import LinearSVC,LinearSVR\n",
    "from sklearn.neural_network import BernoulliRBM,MLPClassifier,MLPRegressor\n",
    "from sklearn.decomposition import FactorAnalysis,KernelPCA,PCA,MiniBatchSparsePCA,FastICA\n",
    "from sklearn.preprocessing import CategoricalEncoder,KBinsDiscretizer,LabelEncoder,MinMaxScaler,OneHotEncoder,StandardScaler\n",
    "\n",
    "from xgboost import XGBClassifier,XGBRegressor\n",
    "\n",
    "import gym\n",
    "\n",
    "import pickle,h5py,json\n",
    "\n",
    "import pandas_datareader as pdr\n",
    "import urllib\n",
    "from bs4 import BeautifulSoup\n",
    "from scipy.signal import resample,correlate\n",
    "from scipy import fftpack\n",
    "from lmfit import Model as lmmodel\n",
    "\n",
    "from alpha_vantage.timeseries import TimeSeries\n",
    "\n",
    "warnings.filterwarnings('ignore')\n",
    "sns.set()"
   ]
  },
  {
   "cell_type": "code",
   "execution_count": 2,
   "metadata": {},
   "outputs": [],
   "source": [
    "rootpath = '..\\\\..\\\\TF_data\\\\STOCKDATA\\\\Data\\\\Stocks\\\\'\n",
    "\n",
    "available_indices = os.listdir(rootpath)"
   ]
  },
  {
   "cell_type": "code",
   "execution_count": 3,
   "metadata": {},
   "outputs": [],
   "source": [
    "bf = pd.read_csv(rootpath+available_indices[0]).set_index(['Date'])"
   ]
  },
  {
   "cell_type": "code",
   "execution_count": 4,
   "metadata": {},
   "outputs": [
    {
     "data": {
      "text/plain": [
       "<matplotlib.axes._subplots.AxesSubplot at 0x1de0ec6d0b8>"
      ]
     },
     "execution_count": 4,
     "metadata": {},
     "output_type": "execute_result"
    },
    {
     "data": {
      "image/png": "[encoded data removed]",
      "text/plain": [
       "<Figure size 432x288 with 1 Axes>"
      ]
     },
     "metadata": {},
     "output_type": "display_data"
    }
   ],
   "source": [
    "bf['Open'].plot()"
   ]
  },
  {
   "cell_type": "code",
   "execution_count": 75,
   "metadata": {},
   "outputs": [],
   "source": [
    "LOOKBACK = 8\n",
    "LOOKFORWARD = 10\n",
    "\n",
    "TARGET_FEATURE_ROW = 0\n",
    "\n",
    "X = []\n",
    "y = []\n",
    "\n",
    "V = bf.values\n",
    "for k in range(bf.shape[0]-LOOKBACK-LOOKFORWARD+1):\n",
    "    X.append(V[k:k+LOOKBACK,:])\n",
    "    y.append(V[k+LOOKBACK+(LOOKFORWARD-1),TARGET_FEATURE_ROW])\n",
    "\n",
    "X = np.stack(X,axis=0)\n",
    "y = np.stack(y,axis=0)"
   ]
  },
  {
   "cell_type": "code",
   "execution_count": 76,
   "metadata": {},
   "outputs": [],
   "source": [
    "test_ratio = 0.8\n",
    "\n",
    "X0 = X[:round(X.shape[0]*test_ratio),:,:]\n",
    "X1 = X[round(X.shape[0]*test_ratio):,:,:]\n",
    "\n",
    "Y0 = y[:round(X.shape[0]*test_ratio)]\n",
    "Y1 = y[round(X.shape[0]*test_ratio):]"
   ]
  },
  {
   "cell_type": "code",
   "execution_count": 77,
   "metadata": {},
   "outputs": [],
   "source": [
    "n_timesteps = X.shape[1]\n",
    "n_features = X.shape[2]"
   ]
  },
  {
   "cell_type": "code",
   "execution_count": 81,
   "metadata": {},
   "outputs": [],
   "source": [
    "rf = pd.DataFrame()\n",
    "for k in range(X1[:,:,0].shape[1]):\n",
    "    rf['T-'+str(X1[:,:,0].shape[1]-k)] = X1[:,k,0]\n",
    "\n",
    "rf['Real'] = Y1\n",
    "\n",
    "rf['Pred DR0'] = rf['T-1']\n",
    "rf['SQE DR0'] = rf[['Pred DR0','Real']].apply(lambda x: (x[0]-x[1])**2,axis=1)"
   ]
  },
  {
   "cell_type": "code",
   "execution_count": 82,
   "metadata": {},
   "outputs": [],
   "source": [
    "lr_clf = LinearRegression()\n",
    "lr_clf.fit(X0[:,:,0],Y0)\n",
    "\n",
    "rf['Pred LR'] = lr_clf.predict(X1[:,:,0])\n",
    "rf['SQE LR'] = rf[['Pred LR','Real']].apply(lambda x: (x[0]-x[1])**2,axis=1)"
   ]
  },
  {
   "cell_type": "code",
   "execution_count": 91,
   "metadata": {},
   "outputs": [
    {
     "data": {
      "text/plain": [
       "<matplotlib.axes._subplots.AxesSubplot at 0x1de12d1a9b0>"
      ]
     },
     "execution_count": 91,
     "metadata": {},
     "output_type": "execute_result"
    },
    {
     "data": {
      "image/png": "[encoded data removed]",
      "text/plain": [
       "<Figure size 432x288 with 1 Axes>"
      ]
     },
     "metadata": {},
     "output_type": "display_data"
    }
   ],
   "source": [
    "rf['SQE DR0'].hist()"
   ]
  },
  {
   "cell_type": "code",
   "execution_count": 92,
   "metadata": {},
   "outputs": [
    {
     "data": {
      "text/plain": [
       "<matplotlib.axes._subplots.AxesSubplot at 0x1de12da9588>"
      ]
     },
     "execution_count": 92,
     "metadata": {},
     "output_type": "execute_result"
    },
    {
     "data": {
      "image/png": "[encoded data removed]",
      "text/plain": [
       "<Figure size 432x288 with 1 Axes>"
      ]
     },
     "metadata": {},
     "output_type": "display_data"
    }
   ],
   "source": [
    "rf['SQE LR'].hist()"
   ]
  },
  {
   "cell_type": "code",
   "execution_count": 95,
   "metadata": {},
   "outputs": [],
   "source": [
    "xgb_clf = XGBRegressor()\n",
    "xgb_clf.fit(X0[:,:,0],Y0)\n",
    "\n",
    "rf['Pred XGB'] = xgb_clf.predict(X1[:,:,0])\n",
    "rf['SQE XGB'] = rf[['Pred XGB','Real']].apply(lambda x: (x[0]-x[1])**2,axis=1)"
   ]
  },
  {
   "cell_type": "code",
   "execution_count": 103,
   "metadata": {},
   "outputs": [
    {
     "data": {
      "text/plain": [
       "SQE DR0     2.659426\n",
       "SQE LR      4.518208\n",
       "SQE XGB    17.401927\n",
       "dtype: float64"
      ]
     },
     "execution_count": 103,
     "metadata": {},
     "output_type": "execute_result"
    }
   ],
   "source": [
    "rf[[k for k in rf.columns.tolist() if 'SQE' in k]].mean()"
   ]
  },
  {
   "cell_type": "code",
   "execution_count": 110,
   "metadata": {},
   "outputs": [],
   "source": [
    "def KL(a, b):\n",
    "    a = np.asarray(a, dtype=np.float)\n",
    "    b = np.asarray(b, dtype=np.float)\n",
    "    return np.sum(np.where(a != 0, a * np.log(a / b), 0))"
   ]
  },
  {
   "cell_type": "code",
   "execution_count": 106,
   "metadata": {},
   "outputs": [],
   "source": [
    "i0 = pd.read_csv(rootpath+available_indices[2]).set_index(['Date'])\n",
    "i1 = pd.read_csv(rootpath+available_indices[20]).set_index(['Date'])\n",
    "i2 = pd.read_csv(rootpath+available_indices[200]).set_index(['Date'])"
   ]
  },
  {
   "cell_type": "code",
   "execution_count": 117,
   "metadata": {},
   "outputs": [
    {
     "data": {
      "text/plain": [
       "(array([ 1.,  0.,  0.,  0.,  1.,  0.,  1.,  1.,  0.,  3.,  0.,  0.,  2.,\n",
       "         1.,  3.,  1.,  2.,  2.,  1.,  4.,  4.,  9., 13.,  9., 11., 17.,\n",
       "        34., 32., 40., 65., 48., 46., 29., 23., 16., 17., 15.,  7.,  9.,\n",
       "         3.,  2.,  2.,  4.,  2.,  3.,  3.,  4.,  1.,  4.,  0.,  0.,  2.,\n",
       "         0.,  0.,  1.,  1.,  0.,  1.,  0.,  0.,  1.,  0.,  0.,  0.,  0.,\n",
       "         1.,  0.,  0.,  0.,  0.,  0.,  0.,  0.,  0.,  0.,  0.,  0.,  1.,\n",
       "         0.,  0.,  0.,  0.,  0.,  0.,  0.,  0.,  0.,  0.,  0.,  0.,  0.,\n",
       "         0.,  0.,  0.,  0.,  0.,  0.,  0.,  0.,  1.]),\n",
       " array([-4.79  , -4.6291, -4.4682, -4.3073, -4.1464, -3.9855, -3.8246,\n",
       "        -3.6637, -3.5028, -3.3419, -3.181 , -3.0201, -2.8592, -2.6983,\n",
       "        -2.5374, -2.3765, -2.2156, -2.0547, -1.8938, -1.7329, -1.572 ,\n",
       "        -1.4111, -1.2502, -1.0893, -0.9284, -0.7675, -0.6066, -0.4457,\n",
       "        -0.2848, -0.1239,  0.037 ,  0.1979,  0.3588,  0.5197,  0.6806,\n",
       "         0.8415,  1.0024,  1.1633,  1.3242,  1.4851,  1.646 ,  1.8069,\n",
       "         1.9678,  2.1287,  2.2896,  2.4505,  2.6114,  2.7723,  2.9332,\n",
       "         3.0941,  3.255 ,  3.4159,  3.5768,  3.7377,  3.8986,  4.0595,\n",
       "         4.2204,  4.3813,  4.5422,  4.7031,  4.864 ,  5.0249,  5.1858,\n",
       "         5.3467,  5.5076,  5.6685,  5.8294,  5.9903,  6.1512,  6.3121,\n",
       "         6.473 ,  6.6339,  6.7948,  6.9557,  7.1166,  7.2775,  7.4384,\n",
       "         7.5993,  7.7602,  7.9211,  8.082 ,  8.2429,  8.4038,  8.5647,\n",
       "         8.7256,  8.8865,  9.0474,  9.2083,  9.3692,  9.5301,  9.691 ,\n",
       "         9.8519, 10.0128, 10.1737, 10.3346, 10.4955, 10.6564, 10.8173,\n",
       "        10.9782, 11.1391, 11.3   ]),\n",
       " <a list of 100 Patch objects>)"
      ]
     },
     "execution_count": 117,
     "metadata": {},
     "output_type": "execute_result"
    },
    {
     "data": {
      "image/png": "[encoded data removed]",
      "text/plain": [
       "<Figure size 432x288 with 1 Axes>"
      ]
     },
     "metadata": {},
     "output_type": "display_data"
    }
   ],
   "source": [
    "plt.hist(i0['Open'].diff().dropna().values,bins=100)"
   ]
  },
  {
   "cell_type": "code",
   "execution_count": 115,
   "metadata": {},
   "outputs": [
    {
     "data": {
      "text/plain": [
       "(array([  1.,   0.,   0.,   0.,   0.,   0.,   0.,   0.,   0.,   0.,   0.,\n",
       "          0.,   0.,   0.,   0.,   0.,   0.,   0.,   0.,   0.,   0.,   0.,\n",
       "          0.,   1.,   0.,   0.,   0.,   0.,   0.,   0.,   0.,   0.,   0.,\n",
       "          1.,   0.,   0.,   0.,   1.,   0.,   0.,   1.,   1.,   0.,   0.,\n",
       "          3.,   0.,   0.,   0.,   0.,   0.,   2.,   1.,   1.,   4.,   3.,\n",
       "          7.,  12.,  13.,  16.,  28.,  41.,  85., 132., 212., 337., 466.,\n",
       "        506., 445., 320., 218., 125.,  69.,  48.,  28.,  18.,  16.,  10.,\n",
       "          7.,   6.,   1.,   4.,   1.,   2.,   2.,   0.,   1.,   0.,   0.,\n",
       "          0.,   1.,   0.,   0.,   1.,   0.,   1.,   0.,   0.,   0.,   0.,\n",
       "          1.]),\n",
       " array([-14.098  , -13.88566, -13.67332, -13.46098, -13.24864, -13.0363 ,\n",
       "        -12.82396, -12.61162, -12.39928, -12.18694, -11.9746 , -11.76226,\n",
       "        -11.54992, -11.33758, -11.12524, -10.9129 , -10.70056, -10.48822,\n",
       "        -10.27588, -10.06354,  -9.8512 ,  -9.63886,  -9.42652,  -9.21418,\n",
       "         -9.00184,  -8.7895 ,  -8.57716,  -8.36482,  -8.15248,  -7.94014,\n",
       "         -7.7278 ,  -7.51546,  -7.30312,  -7.09078,  -6.87844,  -6.6661 ,\n",
       "         -6.45376,  -6.24142,  -6.02908,  -5.81674,  -5.6044 ,  -5.39206,\n",
       "         -5.17972,  -4.96738,  -4.75504,  -4.5427 ,  -4.33036,  -4.11802,\n",
       "         -3.90568,  -3.69334,  -3.481  ,  -3.26866,  -3.05632,  -2.84398,\n",
       "         -2.63164,  -2.4193 ,  -2.20696,  -1.99462,  -1.78228,  -1.56994,\n",
       "         -1.3576 ,  -1.14526,  -0.93292,  -0.72058,  -0.50824,  -0.2959 ,\n",
       "         -0.08356,   0.12878,   0.34112,   0.55346,   0.7658 ,   0.97814,\n",
       "          1.19048,   1.40282,   1.61516,   1.8275 ,   2.03984,   2.25218,\n",
       "          2.46452,   2.67686,   2.8892 ,   3.10154,   3.31388,   3.52622,\n",
       "          3.73856,   3.9509 ,   4.16324,   4.37558,   4.58792,   4.80026,\n",
       "          5.0126 ,   5.22494,   5.43728,   5.64962,   5.86196,   6.0743 ,\n",
       "          6.28664,   6.49898,   6.71132,   6.92366,   7.136  ]),\n",
       " <a list of 100 Patch objects>)"
      ]
     },
     "execution_count": 115,
     "metadata": {},
     "output_type": "execute_result"
    },
    {
     "data": {
      "image/png": "[encoded data removed]",
      "text/plain": [
       "<Figure size 432x288 with 1 Axes>"
      ]
     },
     "metadata": {},
     "output_type": "display_data"
    }
   ],
   "source": [
    "plt.hist(i1['Open'].diff().dropna().values,bins=100)"
   ]
  },
  {
   "cell_type": "code",
   "execution_count": null,
   "metadata": {},
   "outputs": [],
   "source": []
  }
 ],
 "metadata": {
  "kernelspec": {
   "display_name": "Python 3",
   "language": "python",
   "name": "python3"
  },
  "language_info": {
   "codemirror_mode": {
    "name": "ipython",
    "version": 3
   },
   "file_extension": ".py",
   "mimetype": "text/x-python",
   "name": "python",
   "nbconvert_exporter": "python",
   "pygments_lexer": "ipython3",
   "version": "3.6.5"
  }
 },
 "nbformat": 4,
 "nbformat_minor": 2
}
