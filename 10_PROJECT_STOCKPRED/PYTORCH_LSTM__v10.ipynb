{
 "cells": [
  {
   "cell_type": "code",
   "execution_count": 1,
   "metadata": {},
   "outputs": [
    {
     "name": "stderr",
     "output_type": "stream",
     "text": [
      "C:\\Users\\Jan\\Anaconda3\\lib\\site-packages\\h5py\\__init__.py:36: FutureWarning: Conversion of the second argument of issubdtype from `float` to `np.floating` is deprecated. In future, it will be treated as `np.float64 == np.dtype(float).type`.\n",
      "  from ._conv import register_converters as _register_converters\n",
      "Using TensorFlow backend.\n"
     ]
    }
   ],
   "source": [
    "import numpy as np\n",
    "from numpy import random as rnd\n",
    "from matplotlib import pyplot as plt\n",
    "import warnings,datetime,os,time,math\n",
    "\n",
    "import torch\n",
    "import pandas as pd\n",
    "import seaborn as sns\n",
    "\n",
    "from keras.layers import Activation,Dense,LSTM,Dropout,BatchNormalization,Concatenate,Input\n",
    "from keras.models import Model,Sequential\n",
    "\n",
    "from itertools import product\n",
    "\n",
    "from sklearn import preprocessing as pp\n",
    "from sklearn.model_selection import train_test_split\n",
    "from sklearn.decomposition import PCA\n",
    "\n",
    "import pickle,h5py,json\n",
    "\n",
    "import urllib\n",
    "from bs4 import BeautifulSoup\n",
    "from lmfit import Model as lmmodel\n",
    "\n",
    "sns.set()"
   ]
  },
  {
   "cell_type": "code",
   "execution_count": 2,
   "metadata": {},
   "outputs": [],
   "source": [
    "rootpath = '..\\\\..\\\\TF_data\\\\STOCKDATA\\\\Data\\\\DJIA\\\\'"
   ]
  },
  {
   "cell_type": "code",
   "execution_count": 3,
   "metadata": {},
   "outputs": [],
   "source": [
    "df_dj = pd.read_csv(rootpath+'DJIA\\\\DJIA.csv',index_col='DATE',parse_dates=['DATE'])\n",
    "\n",
    "df_dj['DJIA'] = df_dj['DJIA'].apply(lambda x: np.nan if x=='.' else float(x))\n",
    "df_dj = df_dj.resample('MS').mean()"
   ]
  },
  {
   "cell_type": "code",
   "execution_count": 4,
   "metadata": {},
   "outputs": [],
   "source": [
    "df = pd.read_csv(rootpath+'DJIA30\\\\all_stocks_2006-01-01_to_2018-01-01.csv',index_col='Date',parse_dates=['Date'])\n",
    "\n",
    "df = df[['Open']].reset_index(drop=False).groupby('Date').mean().rename(columns={'Open':'0_AVG'})\n",
    "df = df.resample('MS').mean()"
   ]
  },
  {
   "cell_type": "code",
   "execution_count": 5,
   "metadata": {},
   "outputs": [],
   "source": [
    "date_min = max(df.index.min(),df_dj.index.min())\n",
    "date_max = min(df.index.max(),df_dj.index.max())"
   ]
  },
  {
   "cell_type": "code",
   "execution_count": 6,
   "metadata": {},
   "outputs": [],
   "source": [
    "df_dj = df_dj[date_min:date_max]\n",
    "df = df[date_min:date_max]"
   ]
  },
  {
   "cell_type": "code",
   "execution_count": 7,
   "metadata": {},
   "outputs": [],
   "source": [
    "for filename in os.listdir(rootpath+'DJIA30\\\\'):\n",
    "    if filename.split('_')[0]=='all': continue\n",
    "    cf = pd.read_csv(rootpath+'DJIA30\\\\'+filename,index_col='Date',parse_dates=['Date'])\n",
    "    cf = cf[['Open']].reset_index(drop=False).groupby('Date').mean().rename(columns={'Open':filename.split('_')[0]})\n",
    "    df[filename.split('_')[0]] = cf.resample('MS').mean()[date_min:date_max]"
   ]
  },
  {
   "cell_type": "code",
   "execution_count": 8,
   "metadata": {},
   "outputs": [],
   "source": [
    "df['0_DJIA'] = df_dj"
   ]
  },
  {
   "cell_type": "code",
   "execution_count": 9,
   "metadata": {},
   "outputs": [],
   "source": [
    "df = df[df.columns.sort_values()]"
   ]
  },
  {
   "cell_type": "code",
   "execution_count": 10,
   "metadata": {},
   "outputs": [],
   "source": [
    "dfX = df.copy().drop(columns=['0_DJIA','0_AVG'])"
   ]
  },
  {
   "cell_type": "code",
   "execution_count": 11,
   "metadata": {},
   "outputs": [],
   "source": [
    "lookback = 15\n",
    "\n",
    "X = []\n",
    "y = []\n",
    "\n",
    "for colname in dfX.columns.tolist():\n",
    "    for k in range(lookback,dfX.shape[0]):\n",
    "        X.append(np.array([dfX[colname].values[k-lookback:k],df['0_DJIA'].values[k-lookback:k],df['0_AVG'].values[k-lookback:k]]))\n",
    "        y.append(dfX[colname].values[k])\n",
    "\n",
    "X = np.swapaxes(np.stack(X,axis=0),1,2).reshape(-1,lookback,3)\n",
    "y = np.stack(y,axis=0).reshape(-1,1)"
   ]
  },
  {
   "cell_type": "code",
   "execution_count": 12,
   "metadata": {},
   "outputs": [],
   "source": [
    "X0,X1,y0,y1 = train_test_split(X,y,test_size=0.2,shuffle=True)"
   ]
  },
  {
   "cell_type": "code",
   "execution_count": 13,
   "metadata": {},
   "outputs": [
    {
     "name": "stdout",
     "output_type": "stream",
     "text": [
      "Epoch 1/3\n"
     ]
    },
    {
     "name": "stdout",
     "output_type": "stream",
     "text": [
      "1775/1959 [==========================>...] - ETA: 9:58 - loss: 10970.0527 - mean_squared_error: 10970.05 - ETA: 3:27 - loss: 146823.6048 - mean_squared_error: 146823.60 - ETA: 2:08 - loss: 93503.9457 - mean_squared_error: 93503.9457 - ETA: 1:23 - loss: 85625.9264 - mean_squared_error: 85625.92 - ETA: 56s - loss: 61689.0924 - mean_squared_error: 61689.0924 - ETA: 49s - loss: 54523.0350 - mean_squared_error: 54523.035 - ETA: 41s - loss: 46658.2052 - mean_squared_error: 46658.205 - ETA: 36s - loss: 46808.8163 - mean_squared_error: 46808.816 - ETA: 33s - loss: 43110.7161 - mean_squared_error: 43110.716 - ETA: 31s - loss: 51513.0307 - mean_squared_error: 51513.030 - ETA: 28s - loss: 61753.7159 - mean_squared_error: 61753.715 - ETA: 27s - loss: 60169.7687 - mean_squared_error: 60169.768 - ETA: 26s - loss: 62613.0577 - mean_squared_error: 62613.057 - ETA: 24s - loss: 71640.1825 - mean_squared_error: 71640.182 - ETA: 23s - loss: 67995.7019 - mean_squared_error: 67995.701 - ETA: 21s - loss: 66176.0064 - mean_squared_error: 66176.006 - ETA: 20s - loss: 64026.4066 - mean_squared_error: 64026.406 - ETA: 19s - loss: 63256.6908 - mean_squared_error: 63256.690 - ETA: 18s - loss: 60935.1910 - mean_squared_error: 60935.191 - ETA: 18s - loss: 62706.8754 - mean_squared_error: 62706.875 - ETA: 17s - loss: 62818.2931 - mean_squared_error: 62818.293 - ETA: 16s - loss: 60174.5043 - mean_squared_error: 60174.504 - ETA: 16s - loss: 58024.4181 - mean_squared_error: 58024.418 - ETA: 15s - loss: 56435.9725 - mean_squared_error: 56435.972 - ETA: 15s - loss: 54251.1844 - mean_squared_error: 54251.184 - ETA: 14s - loss: 52252.1094 - mean_squared_error: 52252.109 - ETA: 14s - loss: 64475.8903 - mean_squared_error: 64475.890 - ETA: 13s - loss: 62071.6975 - mean_squared_error: 62071.697 - ETA: 13s - loss: 60975.4678 - mean_squared_error: 60975.467 - ETA: 13s - loss: 59101.5779 - mean_squared_error: 59101.577 - ETA: 12s - loss: 56996.3202 - mean_squared_error: 56996.320 - ETA: 12s - loss: 55882.2512 - mean_squared_error: 55882.251 - ETA: 12s - loss: 54831.5825 - mean_squared_error: 54831.582 - ETA: 12s - loss: 53796.5779 - mean_squared_error: 53796.577 - ETA: 12s - loss: 52883.8373 - mean_squared_error: 52883.837 - ETA: 11s - loss: 54256.8990 - mean_squared_error: 54256.899 - ETA: 11s - loss: 53300.9374 - mean_squared_error: 53300.937 - ETA: 11s - loss: 52508.9898 - mean_squared_error: 52508.989 - ETA: 11s - loss: 52925.7593 - mean_squared_error: 52925.759 - ETA: 10s - loss: 54115.3154 - mean_squared_error: 54115.315 - ETA: 10s - loss: 53193.9931 - mean_squared_error: 53193.993 - ETA: 10s - loss: 52554.0194 - mean_squared_error: 52554.019 - ETA: 10s - loss: 51485.2735 - mean_squared_error: 51485.273 - ETA: 10s - loss: 51550.3898 - mean_squared_error: 51550.389 - ETA: 10s - loss: 50808.5298 - mean_squared_error: 50808.529 - ETA: 9s - loss: 50209.4094 - mean_squared_error: 50209.409 - ETA: 9s - loss: 49966.1278 - mean_squared_error: 49966.12 - ETA: 9s - loss: 49408.6228 - mean_squared_error: 49408.62 - ETA: 9s - loss: 48427.9222 - mean_squared_error: 48427.92 - ETA: 9s - loss: 47566.2450 - mean_squared_error: 47566.24 - ETA: 8s - loss: 47551.5118 - mean_squared_error: 47551.51 - ETA: 8s - loss: 49230.2090 - mean_squared_error: 49230.20 - ETA: 8s - loss: 48663.2489 - mean_squared_error: 48663.24 - ETA: 8s - loss: 48043.7118 - mean_squared_error: 48043.71 - ETA: 8s - loss: 46860.8186 - mean_squared_error: 46860.81 - ETA: 8s - loss: 48032.7748 - mean_squared_error: 48032.77 - ETA: 7s - loss: 47186.3581 - mean_squared_error: 47186.35 - ETA: 7s - loss: 47739.2910 - mean_squared_error: 47739.29 - ETA: 7s - loss: 47030.7491 - mean_squared_error: 47030.74 - ETA: 7s - loss: 46252.9520 - mean_squared_error: 46252.95 - ETA: 7s - loss: 45678.9908 - mean_squared_error: 45678.99 - ETA: 7s - loss: 45214.0159 - mean_squared_error: 45214.01 - ETA: 7s - loss: 45094.8320 - mean_squared_error: 45094.83 - ETA: 7s - loss: 45260.2495 - mean_squared_error: 45260.24 - ETA: 7s - loss: 45311.5019 - mean_squared_error: 45311.50 - ETA: 6s - loss: 44730.1296 - mean_squared_error: 44730.12 - ETA: 6s - loss: 44123.8642 - mean_squared_error: 44123.86 - ETA: 6s - loss: 43701.8584 - mean_squared_error: 43701.85 - ETA: 6s - loss: 43831.3883 - mean_squared_error: 43831.38 - ETA: 6s - loss: 43337.5751 - mean_squared_error: 43337.57 - ETA: 6s - loss: 42925.6527 - mean_squared_error: 42925.65 - ETA: 6s - loss: 42546.1756 - mean_squared_error: 42546.17 - ETA: 6s - loss: 42175.9853 - mean_squared_error: 42175.98 - ETA: 6s - loss: 42846.2009 - mean_squared_error: 42846.20 - ETA: 5s - loss: 43071.4839 - mean_squared_error: 43071.48 - ETA: 5s - loss: 42397.0212 - mean_squared_error: 42397.02 - ETA: 5s - loss: 41875.7733 - mean_squared_error: 41875.77 - ETA: 5s - loss: 41420.0258 - mean_squared_error: 41420.02 - ETA: 5s - loss: 40935.7790 - mean_squared_error: 40935.77 - ETA: 5s - loss: 40636.4388 - mean_squared_error: 40636.43 - ETA: 5s - loss: 40624.2786 - mean_squared_error: 40624.27 - ETA: 5s - loss: 40208.5500 - mean_squared_error: 40208.55 - ETA: 5s - loss: 39879.1552 - mean_squared_error: 39879.15 - ETA: 4s - loss: 39472.4676 - mean_squared_error: 39472.46 - ETA: 4s - loss: 39163.4826 - mean_squared_error: 39163.48 - ETA: 4s - loss: 39310.8348 - mean_squared_error: 39310.83 - ETA: 4s - loss: 38946.9761 - mean_squared_error: 38946.97 - ETA: 4s - loss: 38662.4661 - mean_squared_error: 38662.46 - ETA: 4s - loss: 38503.5027 - mean_squared_error: 38503.50 - ETA: 4s - loss: 38551.3152 - mean_squared_error: 38551.31 - ETA: 4s - loss: 38290.7892 - mean_squared_error: 38290.78 - ETA: 4s - loss: 38025.6393 - mean_squared_error: 38025.63 - ETA: 4s - loss: 38486.3270 - mean_squared_error: 38486.32 - ETA: 4s - loss: 38193.3396 - mean_squared_error: 38193.33 - ETA: 4s - loss: 38642.2306 - mean_squared_error: 38642.23 - ETA: 4s - loss: 38486.8685 - mean_squared_error: 38486.86 - ETA: 4s - loss: 38360.4959 - mean_squared_error: 38360.49 - ETA: 4s - loss: 38218.0732 - mean_squared_error: 38218.07 - ETA: 3s - loss: 37822.8328 - mean_squared_error: 37822.83 - ETA: 3s - loss: 37681.7300 - mean_squared_error: 37681.73 - ETA: 3s - loss: 37472.4989 - mean_squared_error: 37472.49 - ETA: 3s - loss: 37099.6924 - mean_squared_error: 37099.69 - ETA: 3s - loss: 37200.3756 - mean_squared_error: 37200.37 - ETA: 3s - loss: 36899.9343 - mean_squared_error: 36899.93 - ETA: 3s - loss: 37476.7025 - mean_squared_error: 37476.70 - ETA: 3s - loss: 37568.3533 - mean_squared_error: 37568.35 - ETA: 3s - loss: 37197.0700 - mean_squared_error: 37197.07 - ETA: 3s - loss: 36953.3950 - mean_squared_error: 36953.39 - ETA: 3s - loss: 36823.6817 - mean_squared_error: 36823.68 - ETA: 2s - loss: 36425.6288 - mean_squared_error: 36425.62 - ETA: 2s - loss: 36250.8786 - mean_squared_error: 36250.87 - ETA: 2s - loss: 36074.6853 - mean_squared_error: 36074.68 - ETA: 2s - loss: 35999.1460 - mean_squared_error: 35999.14 - ETA: 2s - loss: 35753.6473 - mean_squared_error: 35753.64 - ETA: 2s - loss: 36023.0016 - mean_squared_error: 36023.00 - ETA: 2s - loss: 35875.3043 - mean_squared_error: 35875.30 - ETA: 2s - loss: 35681.6573 - mean_squared_error: 35681.65 - ETA: 2s - loss: 35387.9634 - mean_squared_error: 35387.96 - ETA: 2s - loss: 35715.2036 - mean_squared_error: 35715.20 - ETA: 2s - loss: 35462.4586 - mean_squared_error: 35462.45 - ETA: 2s - loss: 35343.9824 - mean_squared_error: 35343.98 - ETA: 2s - loss: 35399.7153 - mean_squared_error: 35399.71 - ETA: 1s - loss: 35286.4686 - mean_squared_error: 35286.46 - ETA: 1s - loss: 35106.8092 - mean_squared_error: 35106.80 - ETA: 1s - loss: 35376.7053 - mean_squared_error: 35376.70 - ETA: 1s - loss: 35514.3227 - mean_squared_error: 35514.32 - ETA: 1s - loss: 35291.7873 - mean_squared_error: 35291.78 - ETA: 1s - loss: 35139.5451 - mean_squared_error: 35139.54 - ETA: 1s - loss: 35524.8514 - mean_squared_error: 35524.85 - ETA: 1s - loss: 35337.9917 - mean_squared_error: 35337.99 - ETA: 1s - loss: 35494.7973 - mean_squared_error: 35494.79 - ETA: 1s - loss: 35800.2439 - mean_squared_error: 35800.24 - ETA: 1s - loss: 35543.5585 - mean_squared_error: 35543.55 - ETA: 1s - loss: 35376.1657 - mean_squared_error: 35376.16 - ETA: 0s - loss: 35167.4923 - mean_squared_error: 35167.4923\b\b\b\b\b\b\b\b\b\b\b\b\b\b\b\b\b\b\b\b\b\b\b\b\b\b\b\b\b\b\b\b\b\b\b\b\b\b\b\b\b\b\b\b\b\b\b\b\b\b\b\b\b\b\b\b\b\b\b\b\b\b\b\b\b\b\b\b\b\b\b\b\b\b\b\b\b\b\b\b\b\b\b\b\b\b\b\b\b\b\b\b\b\b\b\b\b\b\b\b\b\b\b\b"
     ]
    },
    {
     "name": "stdout",
     "output_type": "stream",
     "text": [
      "1959/1959 [==============================] - ETA: 0s - loss: 34960.2470 - mean_squared_error: 34960.24 - ETA: 0s - loss: 34785.8202 - mean_squared_error: 34785.82 - ETA: 0s - loss: 34573.4076 - mean_squared_error: 34573.40 - ETA: 0s - loss: 34509.2854 - mean_squared_error: 34509.28 - ETA: 0s - loss: 34817.9462 - mean_squared_error: 34817.94 - ETA: 0s - loss: 34925.9629 - mean_squared_error: 34925.96 - ETA: 0s - loss: 34959.0416 - mean_squared_error: 34959.04 - ETA: 0s - loss: 34753.7225 - mean_squared_error: 34753.72 - ETA: 0s - loss: 34669.4423 - mean_squared_error: 34669.44 - ETA: 0s - loss: 34649.3663 - mean_squared_error: 34649.36 - ETA: 0s - loss: 34590.1891 - mean_squared_error: 34590.18 - ETA: 0s - loss: 34485.3216 - mean_squared_error: 34485.32 - ETA: 0s - loss: 34473.7556 - mean_squared_error: 34473.75 - 10s 5ms/step - loss: 34418.2087 - mean_squared_error: 34418.2087\n",
      "Epoch 2/3\n"
     ]
    },
    {
     "name": "stdout",
     "output_type": "stream",
     "text": [
      "1855/1959 [===========================>..] - ETA: 12s - loss: 12622.6006 - mean_squared_error: 12622.600 - ETA: 11s - loss: 8845.6403 - mean_squared_error: 8845.6403  - ETA: 9s - loss: 6675.9908 - mean_squared_error: 6675.990 - ETA: 9s - loss: 10550.8027 - mean_squared_error: 10550.80 - ETA: 8s - loss: 17515.6342 - mean_squared_error: 17515.63 - ETA: 9s - loss: 16255.0859 - mean_squared_error: 16255.08 - ETA: 9s - loss: 15481.7737 - mean_squared_error: 15481.77 - ETA: 9s - loss: 14836.6972 - mean_squared_error: 14836.69 - ETA: 9s - loss: 19174.0742 - mean_squared_error: 19174.07 - ETA: 9s - loss: 22746.5473 - mean_squared_error: 22746.54 - ETA: 9s - loss: 22286.7306 - mean_squared_error: 22286.73 - ETA: 9s - loss: 26818.4567 - mean_squared_error: 26818.45 - ETA: 9s - loss: 27619.4372 - mean_squared_error: 27619.43 - ETA: 8s - loss: 25926.0028 - mean_squared_error: 25926.00 - ETA: 8s - loss: 24304.1410 - mean_squared_error: 24304.14 - ETA: 8s - loss: 23566.1477 - mean_squared_error: 23566.14 - ETA: 8s - loss: 26264.6568 - mean_squared_error: 26264.65 - ETA: 9s - loss: 25731.0465 - mean_squared_error: 25731.04 - ETA: 9s - loss: 27559.7513 - mean_squared_error: 27559.75 - ETA: 9s - loss: 26630.6751 - mean_squared_error: 26630.67 - ETA: 8s - loss: 25341.4182 - mean_squared_error: 25341.41 - ETA: 8s - loss: 24371.7193 - mean_squared_error: 24371.71 - ETA: 8s - loss: 23729.9362 - mean_squared_error: 23729.93 - ETA: 8s - loss: 23446.3374 - mean_squared_error: 23446.33 - ETA: 8s - loss: 27635.9377 - mean_squared_error: 27635.93 - ETA: 8s - loss: 27722.3258 - mean_squared_error: 27722.32 - ETA: 8s - loss: 28966.1526 - mean_squared_error: 28966.15 - ETA: 8s - loss: 28924.1932 - mean_squared_error: 28924.19 - ETA: 8s - loss: 28790.5493 - mean_squared_error: 28790.54 - ETA: 7s - loss: 28302.6368 - mean_squared_error: 28302.63 - ETA: 7s - loss: 27907.6754 - mean_squared_error: 27907.67 - ETA: 7s - loss: 27061.0376 - mean_squared_error: 27061.03 - ETA: 7s - loss: 28884.4492 - mean_squared_error: 28884.44 - ETA: 7s - loss: 28837.9982 - mean_squared_error: 28837.99 - ETA: 7s - loss: 28971.4474 - mean_squared_error: 28971.44 - ETA: 7s - loss: 28758.4498 - mean_squared_error: 28758.44 - ETA: 7s - loss: 28974.8256 - mean_squared_error: 28974.82 - ETA: 7s - loss: 28696.0564 - mean_squared_error: 28696.05 - ETA: 7s - loss: 28688.9598 - mean_squared_error: 28688.95 - ETA: 7s - loss: 30221.6518 - mean_squared_error: 30221.65 - ETA: 7s - loss: 31466.0573 - mean_squared_error: 31466.05 - ETA: 7s - loss: 30951.6383 - mean_squared_error: 30951.63 - ETA: 6s - loss: 30890.5095 - mean_squared_error: 30890.50 - ETA: 6s - loss: 30230.4731 - mean_squared_error: 30230.47 - ETA: 6s - loss: 32088.6309 - mean_squared_error: 32088.63 - ETA: 6s - loss: 34240.5870 - mean_squared_error: 34240.58 - ETA: 6s - loss: 33525.1982 - mean_squared_error: 33525.19 - ETA: 6s - loss: 33039.3525 - mean_squared_error: 33039.35 - ETA: 6s - loss: 32678.6759 - mean_squared_error: 32678.67 - ETA: 6s - loss: 33513.5200 - mean_squared_error: 33513.52 - ETA: 6s - loss: 33541.1838 - mean_squared_error: 33541.18 - ETA: 6s - loss: 34216.9506 - mean_squared_error: 34216.95 - ETA: 6s - loss: 33605.0221 - mean_squared_error: 33605.02 - ETA: 6s - loss: 33194.4452 - mean_squared_error: 33194.44 - ETA: 6s - loss: 32768.6696 - mean_squared_error: 32768.66 - ETA: 6s - loss: 32393.2634 - mean_squared_error: 32393.26 - ETA: 6s - loss: 31906.2217 - mean_squared_error: 31906.22 - ETA: 6s - loss: 31522.0613 - mean_squared_error: 31522.06 - ETA: 6s - loss: 31692.6475 - mean_squared_error: 31692.64 - ETA: 6s - loss: 31322.5118 - mean_squared_error: 31322.51 - ETA: 5s - loss: 30961.4900 - mean_squared_error: 30961.49 - ETA: 5s - loss: 30936.8950 - mean_squared_error: 30936.89 - ETA: 5s - loss: 30582.5982 - mean_squared_error: 30582.59 - ETA: 5s - loss: 31104.4718 - mean_squared_error: 31104.47 - ETA: 5s - loss: 31022.7455 - mean_squared_error: 31022.74 - ETA: 5s - loss: 30927.1134 - mean_squared_error: 30927.11 - ETA: 5s - loss: 32021.3812 - mean_squared_error: 32021.38 - ETA: 5s - loss: 32385.1327 - mean_squared_error: 32385.13 - ETA: 5s - loss: 32028.3734 - mean_squared_error: 32028.37 - ETA: 5s - loss: 31746.4141 - mean_squared_error: 31746.41 - ETA: 5s - loss: 31612.5506 - mean_squared_error: 31612.55 - ETA: 5s - loss: 31612.0620 - mean_squared_error: 31612.06 - ETA: 5s - loss: 31686.8557 - mean_squared_error: 31686.85 - ETA: 5s - loss: 31368.7345 - mean_squared_error: 31368.73 - ETA: 5s - loss: 31482.0672 - mean_squared_error: 31482.06 - ETA: 5s - loss: 31144.7954 - mean_squared_error: 31144.79 - ETA: 5s - loss: 30990.6225 - mean_squared_error: 30990.62 - ETA: 5s - loss: 32611.1528 - mean_squared_error: 32611.15 - ETA: 4s - loss: 32316.8048 - mean_squared_error: 32316.80 - ETA: 4s - loss: 32191.0524 - mean_squared_error: 32191.05 - ETA: 4s - loss: 32230.7843 - mean_squared_error: 32230.78 - ETA: 4s - loss: 32135.9881 - mean_squared_error: 32135.98 - ETA: 4s - loss: 32259.9489 - mean_squared_error: 32259.94 - ETA: 4s - loss: 32051.5980 - mean_squared_error: 32051.59 - ETA: 4s - loss: 32050.2501 - mean_squared_error: 32050.25 - ETA: 4s - loss: 32178.9139 - mean_squared_error: 32178.91 - ETA: 4s - loss: 31913.3501 - mean_squared_error: 31913.35 - ETA: 4s - loss: 32397.8968 - mean_squared_error: 32397.89 - ETA: 4s - loss: 32273.5433 - mean_squared_error: 32273.54 - ETA: 4s - loss: 32159.8792 - mean_squared_error: 32159.87 - ETA: 4s - loss: 32063.1749 - mean_squared_error: 32063.17 - ETA: 4s - loss: 31853.6808 - mean_squared_error: 31853.68 - ETA: 4s - loss: 31782.1091 - mean_squared_error: 31782.10 - ETA: 4s - loss: 31834.0719 - mean_squared_error: 31834.07 - ETA: 4s - loss: 31752.0117 - mean_squared_error: 31752.01 - ETA: 4s - loss: 31429.6420 - mean_squared_error: 31429.64 - ETA: 4s - loss: 31425.1921 - mean_squared_error: 31425.19 - ETA: 4s - loss: 31304.3582 - mean_squared_error: 31304.35 - ETA: 4s - loss: 31150.9287 - mean_squared_error: 31150.92 - ETA: 4s - loss: 30861.5755 - mean_squared_error: 30861.57 - ETA: 4s - loss: 30909.5942 - mean_squared_error: 30909.59 - ETA: 4s - loss: 30928.6029 - mean_squared_error: 30928.60 - ETA: 3s - loss: 30572.4345 - mean_squared_error: 30572.43 - ETA: 3s - loss: 30220.9796 - mean_squared_error: 30220.97 - ETA: 3s - loss: 30028.8887 - mean_squared_error: 30028.88 - ETA: 3s - loss: 29741.3480 - mean_squared_error: 29741.34 - ETA: 3s - loss: 29590.2488 - mean_squared_error: 29590.24 - ETA: 3s - loss: 30140.3702 - mean_squared_error: 30140.37 - ETA: 3s - loss: 29856.1165 - mean_squared_error: 29856.11 - ETA: 3s - loss: 30099.8311 - mean_squared_error: 30099.83 - ETA: 3s - loss: 29908.2608 - mean_squared_error: 29908.26 - ETA: 3s - loss: 29647.5702 - mean_squared_error: 29647.57 - ETA: 2s - loss: 29355.3247 - mean_squared_error: 29355.32 - ETA: 2s - loss: 29185.6061 - mean_squared_error: 29185.60 - ETA: 2s - loss: 29506.9203 - mean_squared_error: 29506.92 - ETA: 2s - loss: 29237.6129 - mean_squared_error: 29237.61 - ETA: 2s - loss: 28986.6257 - mean_squared_error: 28986.62 - ETA: 2s - loss: 29439.5075 - mean_squared_error: 29439.50 - ETA: 2s - loss: 29819.2504 - mean_squared_error: 29819.25 - ETA: 2s - loss: 30305.2554 - mean_squared_error: 30305.25 - ETA: 2s - loss: 30053.7870 - mean_squared_error: 30053.78 - ETA: 1s - loss: 29764.0256 - mean_squared_error: 29764.02 - ETA: 1s - loss: 29481.0320 - mean_squared_error: 29481.03 - ETA: 1s - loss: 29581.2016 - mean_squared_error: 29581.20 - ETA: 1s - loss: 29274.4097 - mean_squared_error: 29274.40 - ETA: 1s - loss: 29591.3617 - mean_squared_error: 29591.36 - ETA: 1s - loss: 29976.6361 - mean_squared_error: 29976.63 - ETA: 1s - loss: 29695.6986 - mean_squared_error: 29695.69 - ETA: 1s - loss: 29452.2168 - mean_squared_error: 29452.21 - ETA: 1s - loss: 29576.3845 - mean_squared_error: 29576.38 - ETA: 0s - loss: 29723.1504 - mean_squared_error: 29723.15 - ETA: 0s - loss: 29671.1542 - mean_squared_error: 29671.15 - ETA: 0s - loss: 30094.2754 - mean_squared_error: 30094.27 - ETA: 0s - loss: 29876.8018 - mean_squared_error: 29876.80 - ETA: 0s - loss: 29650.0170 - mean_squared_error: 29650.01 - ETA: 0s - loss: 29566.0951 - mean_squared_error: 29566.0951"
     ]
    },
    {
     "name": "stdout",
     "output_type": "stream",
     "text": [
      "1959/1959 [==============================] - ETA: 0s - loss: 29835.6282 - mean_squared_error: 29835.62 - ETA: 0s - loss: 30014.3742 - mean_squared_error: 30014.37 - ETA: 0s - loss: 29763.6402 - mean_squared_error: 29763.64 - ETA: 0s - loss: 29537.2210 - mean_squared_error: 29537.22 - 9s 4ms/step - loss: 29323.7668 - mean_squared_error: 29323.7668\n",
      "Epoch 3/3\n",
      "1959/1959 [==============================] - ETA: 6s - loss: 12786.1230 - mean_squared_error: 12786.12 - ETA: 6s - loss: 8025.8333 - mean_squared_error: 8025.8333 - ETA: 5s - loss: 22701.8845 - mean_squared_error: 22701.88 - ETA: 5s - loss: 25462.4882 - mean_squared_error: 25462.48 - ETA: 5s - loss: 25366.9116 - mean_squared_error: 25366.91 - ETA: 5s - loss: 22434.9335 - mean_squared_error: 22434.93 - ETA: 5s - loss: 27165.8092 - mean_squared_error: 27165.80 - ETA: 5s - loss: 25726.1380 - mean_squared_error: 25726.13 - ETA: 5s - loss: 24473.6360 - mean_squared_error: 24473.63 - ETA: 6s - loss: 26644.5132 - mean_squared_error: 26644.51 - ETA: 6s - loss: 36133.8782 - mean_squared_error: 36133.87 - ETA: 5s - loss: 33075.1815 - mean_squared_error: 33075.18 - ETA: 5s - loss: 40300.8258 - mean_squared_error: 40300.82 - ETA: 5s - loss: 38289.7905 - mean_squared_error: 38289.79 - ETA: 5s - loss: 36008.2176 - mean_squared_error: 36008.21 - ETA: 5s - loss: 33954.9857 - mean_squared_error: 33954.98 - ETA: 5s - loss: 34635.4811 - mean_squared_error: 34635.48 - ETA: 5s - loss: 35928.5321 - mean_squared_error: 35928.53 - ETA: 5s - loss: 38062.8046 - mean_squared_error: 38062.80 - ETA: 5s - loss: 36474.5893 - mean_squared_error: 36474.58 - ETA: 5s - loss: 37550.9381 - mean_squared_error: 37550.93 - ETA: 4s - loss: 37750.9242 - mean_squared_error: 37750.92 - ETA: 4s - loss: 37277.6531 - mean_squared_error: 37277.65 - ETA: 4s - loss: 37655.0638 - mean_squared_error: 37655.06 - ETA: 4s - loss: 37726.7947 - mean_squared_error: 37726.79 - ETA: 4s - loss: 36502.0302 - mean_squared_error: 36502.03 - ETA: 4s - loss: 35633.4781 - mean_squared_error: 35633.47 - ETA: 4s - loss: 36583.2915 - mean_squared_error: 36583.29 - ETA: 4s - loss: 35199.2540 - mean_squared_error: 35199.25 - ETA: 4s - loss: 37084.8971 - mean_squared_error: 37084.89 - ETA: 4s - loss: 36068.9124 - mean_squared_error: 36068.91 - ETA: 4s - loss: 35110.3403 - mean_squared_error: 35110.34 - ETA: 4s - loss: 34569.6469 - mean_squared_error: 34569.64 - ETA: 4s - loss: 33929.0326 - mean_squared_error: 33929.03 - ETA: 4s - loss: 33249.3420 - mean_squared_error: 33249.34 - ETA: 3s - loss: 33529.7084 - mean_squared_error: 33529.70 - ETA: 4s - loss: 33246.8409 - mean_squared_error: 33246.84 - ETA: 3s - loss: 32932.4099 - mean_squared_error: 32932.40 - ETA: 3s - loss: 32442.5661 - mean_squared_error: 32442.56 - ETA: 3s - loss: 32196.0822 - mean_squared_error: 32196.08 - ETA: 3s - loss: 32964.6294 - mean_squared_error: 32964.62 - ETA: 3s - loss: 32733.3051 - mean_squared_error: 32733.30 - ETA: 3s - loss: 32330.7199 - mean_squared_error: 32330.71 - ETA: 3s - loss: 32719.7570 - mean_squared_error: 32719.75 - ETA: 3s - loss: 32793.3610 - mean_squared_error: 32793.36 - ETA: 3s - loss: 34318.0868 - mean_squared_error: 34318.08 - ETA: 3s - loss: 33835.9140 - mean_squared_error: 33835.91 - ETA: 3s - loss: 33617.2757 - mean_squared_error: 33617.27 - ETA: 3s - loss: 33717.2527 - mean_squared_error: 33717.25 - ETA: 3s - loss: 33367.6023 - mean_squared_error: 33367.60 - ETA: 3s - loss: 33145.5370 - mean_squared_error: 33145.53 - ETA: 3s - loss: 33284.9326 - mean_squared_error: 33284.93 - ETA: 3s - loss: 34210.6653 - mean_squared_error: 34210.66 - ETA: 2s - loss: 34212.7116 - mean_squared_error: 34212.71 - ETA: 2s - loss: 33747.6542 - mean_squared_error: 33747.65 - ETA: 2s - loss: 33286.0269 - mean_squared_error: 33286.02 - ETA: 2s - loss: 33045.4783 - mean_squared_error: 33045.47 - ETA: 2s - loss: 32555.9622 - mean_squared_error: 32555.96 - ETA: 2s - loss: 32109.7449 - mean_squared_error: 32109.74 - ETA: 2s - loss: 32656.3158 - mean_squared_error: 32656.31 - ETA: 2s - loss: 33429.9832 - mean_squared_error: 33429.98 - ETA: 2s - loss: 33237.4060 - mean_squared_error: 33237.40 - ETA: 2s - loss: 33109.1898 - mean_squared_error: 33109.18 - ETA: 2s - loss: 32941.9945 - mean_squared_error: 32941.99 - ETA: 2s - loss: 32587.5233 - mean_squared_error: 32587.52 - ETA: 2s - loss: 32150.1139 - mean_squared_error: 32150.11 - ETA: 2s - loss: 32354.8063 - mean_squared_error: 32354.80 - ETA: 2s - loss: 32002.8001 - mean_squared_error: 32002.80 - ETA: 2s - loss: 31810.3611 - mean_squared_error: 31810.36 - ETA: 1s - loss: 31502.0782 - mean_squared_error: 31502.07 - ETA: 1s - loss: 31151.2590 - mean_squared_error: 31151.25 - ETA: 1s - loss: 30798.4648 - mean_squared_error: 30798.46 - ETA: 1s - loss: 30649.1026 - mean_squared_error: 30649.10 - ETA: 1s - loss: 30766.7484 - mean_squared_error: 30766.74 - ETA: 1s - loss: 30463.6219 - mean_squared_error: 30463.62 - ETA: 1s - loss: 30544.8795 - mean_squared_error: 30544.87 - ETA: 1s - loss: 30261.0059 - mean_squared_error: 30261.00 - ETA: 1s - loss: 30307.1895 - mean_squared_error: 30307.18 - ETA: 1s - loss: 30063.1733 - mean_squared_error: 30063.17 - ETA: 1s - loss: 29919.8236 - mean_squared_error: 29919.82 - ETA: 1s - loss: 29733.3449 - mean_squared_error: 29733.34 - ETA: 1s - loss: 29555.6536 - mean_squared_error: 29555.65 - ETA: 1s - loss: 29314.7546 - mean_squared_error: 29314.75 - ETA: 1s - loss: 29368.4085 - mean_squared_error: 29368.40 - ETA: 1s - loss: 29123.2442 - mean_squared_error: 29123.24 - ETA: 0s - loss: 28865.6501 - mean_squared_error: 28865.65 - ETA: 0s - loss: 29042.4854 - mean_squared_error: 29042.48 - ETA: 0s - loss: 28969.1634 - mean_squared_error: 28969.16 - ETA: 0s - loss: 29274.2311 - mean_squared_error: 29274.23 - ETA: 0s - loss: 29298.9290 - mean_squared_error: 29298.92 - ETA: 0s - loss: 30045.5679 - mean_squared_error: 30045.56 - ETA: 0s - loss: 29847.0188 - mean_squared_error: 29847.01 - ETA: 0s - loss: 30287.3619 - mean_squared_error: 30287.36 - ETA: 0s - loss: 30052.1939 - mean_squared_error: 30052.19 - ETA: 0s - loss: 29787.1152 - mean_squared_error: 29787.11 - ETA: 0s - loss: 29742.8101 - mean_squared_error: 29742.81 - ETA: 0s - loss: 30083.7063 - mean_squared_error: 30083.70 - ETA: 0s - loss: 29930.5030 - mean_squared_error: 29930.50 - ETA: 0s - loss: 30062.2544 - mean_squared_error: 30062.25 - ETA: 0s - loss: 29874.8373 - mean_squared_error: 29874.83 - ETA: 0s - loss: 29734.5914 - mean_squared_error: 29734.59 - ETA: 0s - loss: 29548.6854 - mean_squared_error: 29548.68 - ETA: 0s - loss: 29382.4687 - mean_squared_error: 29382.46 - 6s 3ms/step - loss: 29323.7665 - mean_squared_error: 29323.7665\n"
     ]
    },
    {
     "data": {
      "text/plain": [
       "<keras.callbacks.History at 0x1678faaffd0>"
      ]
     },
     "execution_count": 13,
     "metadata": {},
     "output_type": "execute_result"
    }
   ],
   "source": [
    "input_layer = Input(shape=(lookback,3,))\n",
    "lstm_layer = LSTM(units=128,activation='relu')(input_layer)\n",
    "output_layer = Dense(units=1,activation='relu')(lstm_layer)\n",
    "\n",
    "model = Model(inputs=input_layer,outputs=output_layer)\n",
    "\n",
    "model.compile(optimizer='adam',loss='mse',metrics=['mse'])\n",
    "model.fit(X0,y0,batch_size=5,epochs=3)"
   ]
  },
  {
   "cell_type": "code",
   "execution_count": 73,
   "metadata": {},
   "outputs": [],
   "source": [
    "model.evaluate(X1,y1)"
   ]
  },
  {
   "cell_type": "code",
   "execution_count": 109,
   "metadata": {},
   "outputs": [
    {
     "name": "stdout",
     "output_type": "stream",
     "text": [
      "[0.95363217 0.02360261 0.00673828]\n"
     ]
    }
   ],
   "source": [
    "pca = PCA()\n",
    "pca_dec = pca.fit_transform(X.reshape(-1,15*3))\n",
    "\n",
    "print(pca.explained_variance_ratio_[:3])"
   ]
  },
  {
   "cell_type": "code",
   "execution_count": 120,
   "metadata": {},
   "outputs": [],
   "source": [
    "t = pd.DataFrame()\n",
    "t['PCA0'] = pca_dec[:,0] \n",
    "t['PCA1'] = pca_dec[:,1]"
   ]
  },
  {
   "cell_type": "code",
   "execution_count": 122,
   "metadata": {},
   "outputs": [
    {
     "data": {
      "text/plain": [
       "<seaborn.axisgrid.FacetGrid at 0x240c8f37da0>"
      ]
     },
     "execution_count": 122,
     "metadata": {},
     "output_type": "execute_result"
    },
    {
     "data": {
      "image/png": "[encoded data removed]",
      "text/plain": [
       "<Figure size 360x360 with 1 Axes>"
      ]
     },
     "metadata": {},
     "output_type": "display_data"
    }
   ],
   "source": [
    "sns.lmplot(x='PCA0',y='PCA1',data=t,fit_reg=False)"
   ]
  },
  {
   "cell_type": "code",
   "execution_count": 116,
   "metadata": {},
   "outputs": [
    {
     "data": {
      "text/html": [
       "<div>\n",
       "<style scoped>\n",
       "    .dataframe tbody tr th:only-of-type {\n",
       "        vertical-align: middle;\n",
       "    }\n",
       "\n",
       "    .dataframe tbody tr th {\n",
       "        vertical-align: top;\n",
       "    }\n",
       "\n",
       "    .dataframe thead th {\n",
       "        text-align: right;\n",
       "    }\n",
       "</style>\n",
       "<table border=\"1\" class=\"dataframe\">\n",
       "  <thead>\n",
       "    <tr style=\"text-align: right;\">\n",
       "      <th></th>\n",
       "      <th>0</th>\n",
       "      <th>1</th>\n",
       "    </tr>\n",
       "  </thead>\n",
       "  <tbody>\n",
       "    <tr>\n",
       "      <th>0</th>\n",
       "      <td>-16400.847630</td>\n",
       "      <td>0.0</td>\n",
       "    </tr>\n",
       "    <tr>\n",
       "      <th>1</th>\n",
       "      <td>-16064.856008</td>\n",
       "      <td>0.0</td>\n",
       "    </tr>\n",
       "    <tr>\n",
       "      <th>2</th>\n",
       "      <td>-15678.719843</td>\n",
       "      <td>1.0</td>\n",
       "    </tr>\n",
       "    <tr>\n",
       "      <th>3</th>\n",
       "      <td>-15496.860505</td>\n",
       "      <td>1.0</td>\n",
       "    </tr>\n",
       "    <tr>\n",
       "      <th>4</th>\n",
       "      <td>-15271.577736</td>\n",
       "      <td>1.0</td>\n",
       "    </tr>\n",
       "    <tr>\n",
       "      <th>...</th>\n",
       "      <td>...</td>\n",
       "      <td>...</td>\n",
       "    </tr>\n",
       "    <tr>\n",
       "      <th>2444</th>\n",
       "      <td>15768.305496</td>\n",
       "      <td>0.0</td>\n",
       "    </tr>\n",
       "    <tr>\n",
       "      <th>2445</th>\n",
       "      <td>16861.132671</td>\n",
       "      <td>0.0</td>\n",
       "    </tr>\n",
       "    <tr>\n",
       "      <th>2446</th>\n",
       "      <td>18000.982776</td>\n",
       "      <td>1.0</td>\n",
       "    </tr>\n",
       "    <tr>\n",
       "      <th>2447</th>\n",
       "      <td>19230.230072</td>\n",
       "      <td>0.0</td>\n",
       "    </tr>\n",
       "    <tr>\n",
       "      <th>2448</th>\n",
       "      <td>20554.208947</td>\n",
       "      <td>0.0</td>\n",
       "    </tr>\n",
       "  </tbody>\n",
       "</table>\n",
       "<p>2449 rows × 2 columns</p>\n",
       "</div>"
      ],
      "text/plain": [
       "                 0    1\n",
       "0    -16400.847630  0.0\n",
       "1    -16064.856008  0.0\n",
       "2    -15678.719843  1.0\n",
       "3    -15496.860505  1.0\n",
       "4    -15271.577736  1.0\n",
       "...            ...  ...\n",
       "2444  15768.305496  0.0\n",
       "2445  16861.132671  0.0\n",
       "2446  18000.982776  1.0\n",
       "2447  19230.230072  0.0\n",
       "2448  20554.208947  0.0\n",
       "\n",
       "[2449 rows x 2 columns]"
      ]
     },
     "execution_count": 116,
     "metadata": {},
     "output_type": "execute_result"
    }
   ],
   "source": [
    "t"
   ]
  },
  {
   "cell_type": "code",
   "execution_count": null,
   "metadata": {},
   "outputs": [],
   "source": []
  }
 ],
 "metadata": {
  "kernelspec": {
   "display_name": "Python 3",
   "language": "python",
   "name": "python3"
  },
  "language_info": {
   "codemirror_mode": {
    "name": "ipython",
    "version": 3
   },
   "file_extension": ".py",
   "mimetype": "text/x-python",
   "name": "python",
   "nbconvert_exporter": "python",
   "pygments_lexer": "ipython3",
   "version": "3.6.5"
  }
 },
 "nbformat": 4,
 "nbformat_minor": 2
}
