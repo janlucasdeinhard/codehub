{
 "cells": [
  {
   "cell_type": "code",
   "execution_count": 1,
   "metadata": {},
   "outputs": [],
   "source": [
    "import numpy as np\n",
    "import tensorflow as tf\n",
    "from matplotlib import pyplot as plt\n",
    "import numpy.random as rnd\n",
    "\n",
    "import datetime,csv"
   ]
  },
  {
   "cell_type": "code",
   "execution_count": 15,
   "metadata": {},
   "outputs": [],
   "source": [
    "class contextual_bandit():\n",
    "    def __init__(self):\n",
    "        self.state = 0\n",
    "        self.bandits = np.array([[0.2,0,-0.2,-5],\n",
    "                                 [0.1,-5,1,0.25],\n",
    "                                 [-5,5,5,5]])\n",
    "        self.num_bandits = self.bandits.shape[0]\n",
    "        self.num_actions = self.bandits.shape[1]\n",
    "        \n",
    "    def get_bandit(self):\n",
    "        # Select random bandit\n",
    "        self.state = rnd.randint(0,len(self.bandits))\n",
    "        return self.state\n",
    "    \n",
    "    def pull_bandit(self, action):\n",
    "        res = self.bandits[self.state,action]\n",
    "        randnum = rnd.randn(1)\n",
    "        if res>randnum:\n",
    "            return 1\n",
    "        else:\n",
    "            return -1"
   ]
  },
  {
   "cell_type": "code",
   "execution_count": 50,
   "metadata": {},
   "outputs": [],
   "source": [
    "class agent():\n",
    "    def __init__(self,lr,in_size,out_size):\n",
    "        self.state_in = tf.placeholder(shape=[1],dtype=tf.int32)\n",
    "        \n",
    "        state_in_oh = tf.contrib.slim.one_hot_encoding(self.state_in,out_size)\n",
    "        #output = tf.layers.dense(state_in_oh,units=out_size,activation=tf.nn.sigmoid)\n",
    "        output = tf.contrib.slim.fully_connected(state_in_oh,out_size,biases_initializer=None,activation_fn=tf.nn.sigmoid,weights_initializer=tf.ones_initializer())\n",
    "        \n",
    "        self.output = tf.reshape(output,[-1])\n",
    "        self.chosen_action = tf.argmax(self.output,axis=0)\n",
    "        \n",
    "        self.reward_holder = tf.placeholder(shape=[1],dtype=tf.float32)\n",
    "        self.action_holder = tf.placeholder(shape=[1],dtype=tf.int32)\n",
    "        \n",
    "        self.responsible_weight = tf.slice(self.output,self.action_holder,[1])\n",
    "        self.loss = -tf.log(self.responsible_weight)*self.reward_holder\n",
    "        self.optimize = tf.train.GradientDescentOptimizer(lr).minimize(self.loss)"
   ]
  },
  {
   "cell_type": "code",
   "execution_count": 70,
   "metadata": {},
   "outputs": [
    {
     "name": "stdout",
     "output_type": "stream",
     "text": [
      "Mean reward for each of the 3 bandits: [ 0.   -0.25  0.  ]\n",
      "Mean reward for each of the 3 bandits: [  5.75 -42.75  37.25]\n",
      "Mean reward for each of the 3 bandits: [ 16.   -85.5   80.75]\n",
      "Mean reward for each of the 3 bandits: [  25.25 -126.    125.  ]\n",
      "Mean reward for each of the 3 bandits: [  32.5  -168.    169.25]\n",
      "Mean reward for each of the 3 bandits: [  35.25 -210.5   210.5 ]\n",
      "Mean reward for each of the 3 bandits: [  35.   -255.25  252.  ]\n",
      "Mean reward for each of the 3 bandits: [  42.   -299.75  288.5 ]\n",
      "Mean reward for each of the 3 bandits: [  46.75 -341.    330.  ]\n",
      "Mean reward for each of the 3 bandits: [  51.25 -380.    372.  ]\n",
      "Mean reward for each of the 3 bandits: [  59.5  -422.25  413.  ]\n",
      "Mean reward for each of the 3 bandits: [  68.75 -462.25  453.75]\n",
      "Mean reward for each of the 3 bandits: [  77.   -502.75  492.  ]\n",
      "Mean reward for each of the 3 bandits: [  84.25 -543.25  533.75]\n",
      "Mean reward for each of the 3 bandits: [  83.75 -583.25  573.75]\n",
      "Mean reward for each of the 3 bandits: [  87.75 -627.    617.5 ]\n",
      "Mean reward for each of the 3 bandits: [  97.25 -669.5   660.5 ]\n",
      "Mean reward for each of the 3 bandits: [  98.5  -708.5   700.75]\n",
      "Mean reward for each of the 3 bandits: [ 107.   -752.    741.25]\n",
      "Mean reward for each of the 3 bandits: [ 110.25 -792.75  779.75]\n",
      "The agent thinks action 4 for bandit 1 is the most promising....\n",
      "...and it was right!\n",
      "The agent thinks action 4 for bandit 2 is the most promising....\n",
      "...and it was wrong.\n",
      "The agent thinks action 1 for bandit 3 is the most promising....\n",
      "...and it was right!\n"
     ]
    }
   ],
   "source": [
    "tf.reset_default_graph()\n",
    "\n",
    "episodes = 10000\n",
    "e = 0.1\n",
    "\n",
    "with tf.Session() as sess:\n",
    "    \n",
    "    cBandit = contextual_bandit()\n",
    "    mAgent = agent(lr=0.01,in_size=cBandit.num_bandits,out_size=cBandit.num_actions) \n",
    "    \n",
    "    weights = tf.trainable_variables()[0]\n",
    "    total_rewards = np.zeros([cBandit.num_bandits,cBandit.num_actions])\n",
    "    \n",
    "    sess.run(tf.global_variables_initializer())\n",
    "    i = 0\n",
    "    while i<episodes:\n",
    "        \n",
    "        bandit_selected = cBandit.get_bandit()\n",
    "        \n",
    "        if rnd.rand(1)<e:\n",
    "            action = rnd.randint(0,cBandit.num_actions,1)[0]\n",
    "        else:\n",
    "            action = sess.run(mAgent.chosen_action,feed_dict={\n",
    "                mAgent.state_in:[bandit_selected]\n",
    "            })\n",
    "        reward = cBandit.pull_bandit(bandit_selected)\n",
    "        \n",
    "        _,ww = sess.run([mAgent.optimize,weights],feed_dict={\n",
    "            mAgent.action_holder:[action],\n",
    "            mAgent.reward_holder:[reward],\n",
    "            mAgent.state_in:[bandit_selected]\n",
    "        })\n",
    "        \n",
    "        total_rewards[bandit_selected,action] += reward\n",
    "        if i%500==0:\n",
    "            print('Mean reward for each of the ' + str(cBandit.num_bandits) + ' bandits: ' + str(np.mean(total_rewards,axis=1)))\n",
    "        i += 1\n",
    "        \n",
    "for b in range(cBandit.num_bandits):\n",
    "    print(\"The agent thinks action \" + str(np.argmax(ww[b])+1) + \" for bandit \" + str(b+1) + \" is the most promising....\")\n",
    "    if np.argmax(ww[b])==np.argmin(cBandit.bandits[b]):\n",
    "        print('...and it was right!')\n",
    "    else:\n",
    "        print('...and it was wrong.')"
   ]
  },
  {
   "cell_type": "code",
   "execution_count": null,
   "metadata": {},
   "outputs": [],
   "source": []
  }
 ],
 "metadata": {
  "kernelspec": {
   "display_name": "Python 3",
   "language": "python",
   "name": "python3"
  },
  "language_info": {
   "codemirror_mode": {
    "name": "ipython",
    "version": 3
   },
   "file_extension": ".py",
   "mimetype": "text/x-python",
   "name": "python",
   "nbconvert_exporter": "python",
   "pygments_lexer": "ipython3",
   "version": "3.6.5"
  }
 },
 "nbformat": 4,
 "nbformat_minor": 2
}
