{
 "cells": [
  {
   "cell_type": "code",
   "execution_count": 10,
   "metadata": {},
   "outputs": [],
   "source": [
    "import numpy as np\n",
    "import tensorflow as tf\n",
    "from matplotlib import pyplot as plt\n",
    "import numpy.random as rnd\n",
    "import datetime,csv,warnings,os\n",
    "\n",
    "import gym\n",
    "\n",
    "os.environ['TF_CPP_MIN_LOG_LEVEL'] = '0'  # or any {'0', '1', '2'}\n",
    "warnings.filterwarnings('ignore')"
   ]
  },
  {
   "cell_type": "code",
   "execution_count": 11,
   "metadata": {},
   "outputs": [],
   "source": [
    "def discounted_rewards(r,gamma=0.99):\n",
    "    d_r = np.zeros_like(r)\n",
    "    running_add = 0\n",
    "    for k in reversed(range(0,r.size)):\n",
    "        running_add = gamma*running_add + r[k]\n",
    "        d_r[k] = running_add\n",
    "    return d_r"
   ]
  },
  {
   "cell_type": "code",
   "execution_count": 12,
   "metadata": {},
   "outputs": [],
   "source": [
    "class agent():\n",
    "    \n",
    "    def __init__(self,state_space_size,action_space_size,lr=0.01):\n",
    "        \n",
    "        # Decision NN\n",
    "        self.nn_input = tf.placeholder(shape=[None,state_space_size],dtype=tf.float32)\n",
    "        hidden0 = tf.contrib.slim.fully_connected(self.nn_input,50,activation_fn=tf.nn.tanh)\n",
    "        hidden1 = tf.contrib.slim.fully_connected(hidden0,40,activation_fn=tf.nn.tanh)\n",
    "        hidden2 = tf.contrib.slim.fully_connected(hidden1,5,activation_fn=tf.nn.tanh)\n",
    "        dropout = tf.nn.dropout(hidden2,keep_prob=0.8)\n",
    "        self.nn_output = tf.contrib.slim.fully_connected(dropout,action_space_size,activation_fn=tf.nn.softmax)\n",
    "        self.chosen_action = tf.argmax(self.nn_output,axis=1)\n",
    "        \n",
    "        # Training\n",
    "        self.reward_holder = tf.placeholder(shape=[None],dtype=tf.float32)\n",
    "        self.action_holder = tf.placeholder(shape=[None],dtype=tf.int32)\n",
    "        \n",
    "        # Hmmmm...\n",
    "        self.indices = tf.range(0,tf.shape(self.nn_output)[0])*tf.shape(self.nn_output)[1]+self.action_holder\n",
    "        self.responsible_outputs = tf.gather(tf.reshape(self.nn_output,[-1]),self.indices)\n",
    "        #...Don't know what this is...\n",
    "        \n",
    "        # Loss function \n",
    "        self.loss = -tf.reduce_mean(tf.log(self.responsible_outputs)*self.reward_holder)\n",
    "        \n",
    "        # Gather all variables for each lokback step\n",
    "        tvars = tf.trainable_variables() \n",
    "        self.gradient_holder = []\n",
    "        for idx,var in enumerate(tvars):\n",
    "            placeholder = tf.placeholder(tf.float32,name=str(idx)+'_holder')\n",
    "            self.gradient_holder.append(placeholder)\n",
    "            \n",
    "        # Accumulate gradients for each variable \n",
    "        self.gradients = tf.gradients(self.loss,tvars)\n",
    "        \n",
    "        # Optimization step\n",
    "        self.optimize = tf.train.AdamOptimizer(learning_rate=lr).apply_gradients(zip(self.gradient_holder,tvars))"
   ]
  },
  {
   "cell_type": "code",
   "execution_count": 16,
   "metadata": {},
   "outputs": [],
   "source": [
    "env = gym.make('Alien-ram-v0')"
   ]
  },
  {
   "cell_type": "code",
   "execution_count": 40,
   "metadata": {},
   "outputs": [],
   "source": [
    "state = env.reset()"
   ]
  },
  {
   "cell_type": "code",
   "execution_count": 41,
   "metadata": {},
   "outputs": [
    {
     "name": "stdout",
     "output_type": "stream",
     "text": [
      "Action space size: Discrete(18)\n",
      "Observation space size: Box(128,)\n"
     ]
    }
   ],
   "source": [
    "print('Action space size: %s'%str(env.action_space))\n",
    "print('Observation space size: %s'%str(env.observation_space))"
   ]
  },
  {
   "cell_type": "code",
   "execution_count": 42,
   "metadata": {},
   "outputs": [
    {
     "data": {
      "text/plain": [
       "True"
      ]
     },
     "execution_count": 42,
     "metadata": {},
     "output_type": "execute_result"
    }
   ],
   "source": [
    "env.render()"
   ]
  },
  {
   "cell_type": "code",
   "execution_count": 45,
   "metadata": {},
   "outputs": [
    {
     "name": "stdout",
     "output_type": "stream",
     "text": [
      "0.0\n"
     ]
    }
   ],
   "source": [
    "state,reward,done,_ = env.step(12)\n",
    "print(reward)"
   ]
  },
  {
   "cell_type": "code",
   "execution_count": 46,
   "metadata": {},
   "outputs": [
    {
     "data": {
      "text/plain": [
       "True"
      ]
     },
     "execution_count": 46,
     "metadata": {},
     "output_type": "execute_result"
    }
   ],
   "source": [
    "env.render()"
   ]
  },
  {
   "cell_type": "code",
   "execution_count": 39,
   "metadata": {},
   "outputs": [],
   "source": [
    "env.close()"
   ]
  },
  {
   "cell_type": "code",
   "execution_count": 31,
   "metadata": {},
   "outputs": [
    {
     "data": {
      "text/plain": [
       "12"
      ]
     },
     "execution_count": 31,
     "metadata": {},
     "output_type": "execute_result"
    }
   ],
   "source": [
    "env.action_space.sample()"
   ]
  },
  {
   "cell_type": "code",
   "execution_count": null,
   "metadata": {},
   "outputs": [],
   "source": []
  }
 ],
 "metadata": {
  "kernelspec": {
   "display_name": "Python 3",
   "language": "python",
   "name": "python3"
  },
  "language_info": {
   "codemirror_mode": {
    "name": "ipython",
    "version": 3
   },
   "file_extension": ".py",
   "mimetype": "text/x-python",
   "name": "python",
   "nbconvert_exporter": "python",
   "pygments_lexer": "ipython3",
   "version": "3.6.5"
  }
 },
 "nbformat": 4,
 "nbformat_minor": 2
}
