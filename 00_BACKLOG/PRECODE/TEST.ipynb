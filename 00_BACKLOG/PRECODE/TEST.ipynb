{
 "cells": [
  {
   "cell_type": "code",
   "execution_count": 249,
   "metadata": {},
   "outputs": [],
   "source": [
    "# Imports\n",
    "\n",
    "import numpy as np\n",
    "from matplotlib import pyplot as plt\n",
    "from numpy import random as rnd\n",
    "import datetime,os,warnings\n",
    "\n",
    "import tensorflow as tf\n",
    "import pandas as pd\n",
    "import seaborn as sns\n",
    "\n",
    "from keras.models import Model,Sequential\n",
    "from keras.layers import Dense,Input,LSTM,Dropout,Conv2D,Conv2DTranspose,Activation,Add,Concatenate,BatchNormalization,Bidirectional\n",
    "\n",
    "from sklearn.decomposition import PCA,FastICA\n",
    "from sklearn.preprocessing import KBinsDiscretizer,OneHotEncoder,LabelEncoder\n",
    "from sklearn.ensemble import RandomForestClassifier,RandomForestRegressor\n",
    "from sklearn.model_selection import train_test_split\n",
    "\n",
    "from scipy import optimize as opt\n",
    "\n",
    "warnings.filterwarnings('ignore')\n",
    "sns.set()"
   ]
  },
  {
   "cell_type": "code",
   "execution_count": 431,
   "metadata": {},
   "outputs": [],
   "source": [
    "def err_metrics(x,y,s):\n",
    "    err = np.linalg.norm(y-s,ord=2)\n",
    "    energy = np.linalg.norm(x,ord=2) \n",
    "    pctg_active_TX = (x.shape[0]-(x==0).astype(int).sum())/x.shape[0]\n",
    "    return err,energy,pctg_active_TX"
   ]
  },
  {
   "cell_type": "code",
   "execution_count": 135,
   "metadata": {},
   "outputs": [],
   "source": [
    "# Parameters\n",
    "\n",
    "num_RX = 5\n",
    "num_TX = 100\n",
    "\n",
    "blocklen = 1\n",
    "\n",
    "L = 0.9\n",
    "M = 0"
   ]
  },
  {
   "cell_type": "code",
   "execution_count": 403,
   "metadata": {},
   "outputs": [],
   "source": [
    "# Assemble source message\n",
    "s = rnd.randn(num_RX,blocklen)+1j*rnd.randn(num_RX,blocklen) \n",
    "#s = rnd.randn(num_RX,blocklen)"
   ]
  },
  {
   "cell_type": "code",
   "execution_count": 404,
   "metadata": {},
   "outputs": [],
   "source": [
    "# Make channel\n",
    "H = (np.matrix(rnd.randn(num_RX,num_TX))+1j*rnd.randn(num_RX,num_TX))/(num_TX*num_RX)\n",
    "#H = (np.matrix(rnd.randn(num_RX,num_TX)))/(num_TX*num_RX)"
   ]
  },
  {
   "cell_type": "code",
   "execution_count": 405,
   "metadata": {},
   "outputs": [],
   "source": [
    "# Use ZF Precoding\n",
    "x_zf = (np.linalg.inv(H.H*H+L*np.ones(shape=[num_TX,num_TX]))*H.H)*s"
   ]
  },
  {
   "cell_type": "code",
   "execution_count": 432,
   "metadata": {},
   "outputs": [],
   "source": [
    "# Transmit\n",
    "y_zf = H*x_zf\n",
    "\n",
    "# Calculate RX error, TX energy and TX active antennas \n",
    "err_zf,energy_zf,pctg_active_TX_zf = err_metrics(x_zf,y_zf,s)"
   ]
  },
  {
   "cell_type": "code",
   "execution_count": 441,
   "metadata": {},
   "outputs": [
    {
     "name": "stdout",
     "output_type": "stream",
     "text": [
      "Desired error not necessarily achieved due to precision loss.\n"
     ]
    }
   ],
   "source": [
    "def targetfun(x,LL=0.001):\n",
    "    return np.linalg.norm(H*x.reshape(-1,1)-s,ord=2)+LL*np.linalg.norm(x,ord=2)\n",
    "\n",
    "x0 = rnd.randn(num_TX,blocklen)+1j*rnd.randn(num_TX,blocklen)\n",
    "res = opt.minimize(targetfun,x0)\n",
    "print(res.message)\n",
    "x_opt = res.x.reshape(-1,1)"
   ]
  },
  {
   "cell_type": "code",
   "execution_count": 442,
   "metadata": {},
   "outputs": [],
   "source": [
    "# Transmit\n",
    "y_opt = H*x_opt\n",
    "\n",
    "# Calculate RX error, TX energy and TX active antennas \n",
    "err_opt,energy_opt,pctg_active_TX_opt = err_metrics(x_opt,y_opt,s)"
   ]
  },
  {
   "cell_type": "code",
   "execution_count": 443,
   "metadata": {},
   "outputs": [
    {
     "data": {
      "text/plain": [
       "1.3159675178479615e-08"
      ]
     },
     "execution_count": 443,
     "metadata": {},
     "output_type": "execute_result"
    }
   ],
   "source": [
    "err_opt"
   ]
  },
  {
   "cell_type": "code",
   "execution_count": 444,
   "metadata": {},
   "outputs": [
    {
     "data": {
      "text/plain": [
       "0.004925718932793081"
      ]
     },
     "execution_count": 444,
     "metadata": {},
     "output_type": "execute_result"
    }
   ],
   "source": [
    "err_zf"
   ]
  },
  {
   "cell_type": "code",
   "execution_count": null,
   "metadata": {},
   "outputs": [],
   "source": []
  }
 ],
 "metadata": {
  "kernelspec": {
   "display_name": "Python 3",
   "language": "python",
   "name": "python3"
  },
  "language_info": {
   "codemirror_mode": {
    "name": "ipython",
    "version": 3
   },
   "file_extension": ".py",
   "mimetype": "text/x-python",
   "name": "python",
   "nbconvert_exporter": "python",
   "pygments_lexer": "ipython3",
   "version": "3.6.5"
  }
 },
 "nbformat": 4,
 "nbformat_minor": 2
}
