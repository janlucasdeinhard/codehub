{
 "cells": [
  {
   "cell_type": "code",
   "execution_count": 1,
   "metadata": {},
   "outputs": [
    {
     "name": "stderr",
     "output_type": "stream",
     "text": [
      "C:\\Users\\Jan\\Anaconda3\\lib\\site-packages\\h5py\\__init__.py:36: FutureWarning: Conversion of the second argument of issubdtype from `float` to `np.floating` is deprecated. In future, it will be treated as `np.float64 == np.dtype(float).type`.\n",
      "  from ._conv import register_converters as _register_converters\n",
      "Using TensorFlow backend.\n"
     ]
    }
   ],
   "source": [
    "import numpy as np\n",
    "from numpy import random as rnd\n",
    "from matplotlib import pyplot as plt\n",
    "import warnings,datetime,csv,os\n",
    "\n",
    "import tensorflow as tf\n",
    "import pandas as pd\n",
    "import seaborn as sns\n",
    "\n",
    "from keras.models import Sequential,Model\n",
    "from keras.layers import Dense,Conv2D,Conv2DTranspose,BatchNormalization,Dropout,Input,concatenate,add,advanced_activations,Activation,AvgPool2D,Bidirectional,Reshape,LSTM,GRU\n",
    "\n",
    "from sklearn.cluster import AffinityPropagation,AgglomerativeClustering,Birch,DBSCAN,KMeans,MeanShift,MiniBatchKMeans,SpectralClustering\n",
    "from sklearn.datasets import load_boston\n",
    "from sklearn.decomposition import DictionaryLearning,FactorAnalysis,KernelPCA,PCA,TruncatedSVD\n",
    "from sklearn.discriminant_analysis import LinearDiscriminantAnalysis\n",
    "from sklearn.dummy import DummyClassifier,DummyRegressor\n",
    "from sklearn.ensemble import AdaBoostClassifier,AdaBoostRegressor,BaggingClassifier,BaggingRegressor,ExtraTreesClassifier,ExtraTreesRegressor,GradientBoostingClassifier,GradientBoostingRegressor,RandomForestRegressor,RandomForestClassifier\n",
    "from sklearn.feature_extraction import DictVectorizer,FeatureHasher\n",
    "from sklearn.feature_selection import SelectPercentile,VarianceThreshold\n",
    "from sklearn.impute import MissingIndicator,SimpleImputer\n",
    "from sklearn.kernel_ridge import KernelRidge\n",
    "from sklearn.linear_model import ARDRegression,BayesianRidge,Hinge,Huber,Lasso,LinearRegression,LogisticRegression,Ridge,RidgeClassifier\n",
    "from sklearn.manifold import Isomap,LocallyLinearEmbedding,TSNE\n",
    "from sklearn.mixture import BayesianGaussianMixture,GaussianMixture\n",
    "from sklearn.model_selection import BaseCrossValidator,GridSearchCV,KFold,train_test_split\n",
    "from sklearn.neighbors import BallTree,DistanceMetric,KNeighborsClassifier,KNeighborsRegressor,NearestCentroid,NearestNeighbors\n",
    "from sklearn.neural_network import BernoulliRBM,MLPClassifier,MLPRegressor\n",
    "from sklearn.pipeline import Pipeline\n",
    "from sklearn.preprocessing import Binarizer,CategoricalEncoder,FunctionTransformer,Imputer,KBinsDiscretizer,MinMaxScaler,OneHotEncoder,StandardScaler\n",
    "from sklearn.random_projection import GaussianRandomProjection,SparseRandomProjection\n",
    "\n",
    "warnings.filterwarnings('ignore')\n",
    "sns.set()"
   ]
  },
  {
   "cell_type": "code",
   "execution_count": 247,
   "metadata": {},
   "outputs": [],
   "source": [
    "def test_ind(dna,Xtrain,ytrain,Xtest,ytest):\n",
    "    clf = LogisticRegression()\n",
    "    clf.fit(np.delete(Xtrain,np.where(dna==0)[0],axis=1),ytrain.astype('int'))\n",
    "    cscore = clf.score(np.delete(Xtest,np.where(dna==0)[0],axis=1),ytest.astype('int'))\n",
    "    return cscore\n",
    "\n",
    "def compete_P(DNA,X,y,sel_pressure=1.9):\n",
    "    Xtrain,Xtest,ytrain,ytest = train_test_split(X,y,test_size=0.3,shuffle=True)\n",
    "    Pscores = []\n",
    "    for p in range(DNA.shape[0]):\n",
    "        dna = DNA[p,:]\n",
    "        Pscores.append(test_ind(dna,Xtrain,ytrain,Xtest,ytest))\n",
    "    Pscores = np.stack(Pscores)\n",
    "    DNA_sorted = DNA[np.argsort(-Pscores)]\n",
    "    Pscores_sorted = Pscores[np.argsort(-Pscores)]\n",
    "    fitness = np.arange(1,DNA_sorted.shape[0]+1)*sel_pressure\n",
    "    return DNA_sorted,fitness,Pscores_sorted\n",
    "\n",
    "def cross_parents(p0,p1,p_p0=0.5):\n",
    "    detP = rnd.choice([0,1],p0.shape[0],p=[p_p0,1-p_p0])\n",
    "    child = np.array([p0[k] if detP[k]==0 else p1[k] for k in range(p0.shape[0])])\n",
    "    return child\n",
    "\n",
    "def mutate(child,p_mutate=0.1):\n",
    "    for k in range(child.shape[0]):\n",
    "        if rnd.rand()<p_mutate:child[k]=(child[k]+1)%2\n",
    "    return child\n",
    "\n",
    "def breed(DNA,fitness,P,k_best=2,k_worst=2,p_fac=1.7):\n",
    "    NEWDNA = [DNA[k,:] for k in range(k_best)]\n",
    "    DNA = np.delete(DNA,range(k_best),axis=0)\n",
    "    DNA = np.delete(DNA,range(DNA.shape[0]-k_worst,DNA.shape[0]),axis=0)\n",
    "    fitness = np.delete(fitness,range(k_best),axis=0)\n",
    "    fitness = np.delete(fitness,range(fitness.shape[0]-k_worst,fitness.shape[0]),axis=0)\n",
    "    p_dist = (1/(fitness**p_fac))\n",
    "    p_dist = p_dist/p_dist.sum()\n",
    "    while len(NEWDNA)<P:\n",
    "        parents = rnd.choice(np.arange(0,DNA.shape[0]),2,p=p_dist)\n",
    "        if parents[0]==parents[1]: continue\n",
    "        child = cross_parents(DNA[parents[0],:],DNA[parents[1],:])\n",
    "        child = mutate(child)\n",
    "        NEWDNA.append(child)\n",
    "    NEWDNA = np.stack(NEWDNA,axis=0)\n",
    "    return NEWDNA"
   ]
  },
  {
   "cell_type": "code",
   "execution_count": 248,
   "metadata": {},
   "outputs": [],
   "source": [
    "X,y = load_boston(return_X_y=True)\n",
    "\n",
    "P = 500\n",
    "generations = 25\n",
    "\n",
    "num_genes = X.shape[1]\n",
    "DNA = rnd.randint(0,2,(P,num_genes))"
   ]
  },
  {
   "cell_type": "code",
   "execution_count": 249,
   "metadata": {},
   "outputs": [
    {
     "name": "stdout",
     "output_type": "stream",
     "text": [
      "Step 0/25 --> Average score = 0.10\n",
      "Step 1/25 --> Average score = 0.10\n",
      "Step 2/25 --> Average score = 0.10\n",
      "Step 3/25 --> Average score = 0.12\n",
      "Step 4/25 --> Average score = 0.12\n",
      "Step 5/25 --> Average score = 0.11\n",
      "Step 6/25 --> Average score = 0.08\n",
      "Step 7/25 --> Average score = 0.11\n",
      "Step 8/25 --> Average score = 0.12\n",
      "Step 9/25 --> Average score = 0.10\n",
      "Step 10/25 --> Average score = 0.12\n",
      "Step 11/25 --> Average score = 0.10\n",
      "Step 12/25 --> Average score = 0.12\n",
      "Step 13/25 --> Average score = 0.12\n",
      "Step 14/25 --> Average score = 0.08\n",
      "Step 15/25 --> Average score = 0.12\n",
      "Step 16/25 --> Average score = 0.09\n",
      "Step 17/25 --> Average score = 0.11\n",
      "Step 18/25 --> Average score = 0.12\n",
      "Step 19/25 --> Average score = 0.11\n",
      "Step 20/25 --> Average score = 0.12\n",
      "Step 21/25 --> Average score = 0.13\n",
      "Step 22/25 --> Average score = 0.12\n",
      "Step 23/25 --> Average score = 0.07\n",
      "Step 24/25 --> Average score = 0.12\n"
     ]
    }
   ],
   "source": [
    "POP_STORE = []\n",
    "SCORE_STORE = []\n",
    "FIT_STORE = []\n",
    "\n",
    "for g in range(generations):\n",
    "    DNA,fitness,Pscores = compete_P(DNA,X,y)\n",
    "    POP_STORE.append(DNA)\n",
    "    SCORE_STORE.append(Pscores)\n",
    "    FIT_STORE.append(fitness)\n",
    "    DNA = breed(DNA,fitness,P)\n",
    "    print('Step %d/%d --> Average score = %.2f'%(g,generations,Pscores.mean()))"
   ]
  },
  {
   "cell_type": "code",
   "execution_count": null,
   "metadata": {},
   "outputs": [],
   "source": []
  }
 ],
 "metadata": {
  "kernelspec": {
   "display_name": "Python 3",
   "language": "python",
   "name": "python3"
  },
  "language_info": {
   "codemirror_mode": {
    "name": "ipython",
    "version": 3
   },
   "file_extension": ".py",
   "mimetype": "text/x-python",
   "name": "python",
   "nbconvert_exporter": "python",
   "pygments_lexer": "ipython3",
   "version": "3.6.5"
  }
 },
 "nbformat": 4,
 "nbformat_minor": 2
}
