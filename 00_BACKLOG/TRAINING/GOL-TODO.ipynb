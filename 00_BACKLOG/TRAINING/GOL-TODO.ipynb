{
 "cells": [
  {
   "cell_type": "code",
   "execution_count": null,
   "metadata": {},
   "outputs": [],
   "source": [
    "from time import sleep\n",
    "from random import randint\n",
    "import pygame\n",
    "from pygame.locals import *"
   ]
  },
  {
   "cell_type": "code",
   "execution_count": null,
   "metadata": {},
   "outputs": [],
   "source": [
    "def count_neighbours(grid, position):\n",
    "    x,y = position\n",
    "    # Nachbarzellen der Zelle (x,y) aus grid auslesen\n",
    "    \n",
    "    count = 0\n",
    "    # Anzahl der 1-Eintraege in den Nachbarzellen zaehlen\n",
    "    \n",
    "    return count"
   ]
  },
  {
   "cell_type": "code",
   "execution_count": null,
   "metadata": {},
   "outputs": [],
   "source": [
    "def make_empty_grid(x, y):\n",
    "    grid = []\n",
    "    \n",
    "    # Erstelle eine Liste der Laenge x, die mit Listen gefuellt ist\n",
    "    # Jede der Listen soll y Null-Eintraege haben\n",
    "    # Das wird dann das Spielfeld\n",
    "    \n",
    "    return grid"
   ]
  },
  {
   "cell_type": "code",
   "execution_count": null,
   "metadata": {},
   "outputs": [],
   "source": [
    "def make_random_grid(x, y):\n",
    "    grid = []\n",
    "    # Erstelle ein zufaellig gefuelltes Spielfeld\n",
    "    # Funktion um eine zufaellige ganz Zahl zu ziehen:\n",
    "    # rnd.randint(minimum,maximum,1)\n",
    "    return grid"
   ]
  },
  {
   "cell_type": "code",
   "execution_count": null,
   "metadata": {},
   "outputs": [],
   "source": [
    "def evolve(grid):\n",
    "    x = len(grid)\n",
    "    y = len(grid[0])\n",
    "    new_grid = make_empty_grid(x, y)\n",
    "    for r in range(x):\n",
    "        for c in range(y):\n",
    "            alive = grid[r][c]\n",
    "            # TODO: Nachbarn der Zelle (r,c) zaehlen\n",
    "            neighbours = count_neighbours(grid, (r, c))\n",
    "            \n",
    "            # Wenn die Zelle (r,c) drei Nachbarn hat wird sie auf 1 gesetzt\n",
    "            # Wenn die Zelle (r,c) lebt und zwei Nachbarn hat wird sie auf 1 gesetzt\n",
    "            # Sonst setzten wir sie auf 0\n",
    "            \n",
    "    return new_grid"
   ]
  },
  {
   "cell_type": "code",
   "execution_count": null,
   "metadata": {},
   "outputs": [],
   "source": [
    "def draw_block(x, y, cell_color,block_size=9):\n",
    "    # Pixel-Koordinaten der Zelle (x,y) berechnen\n",
    "    x = \n",
    "    y = \n",
    "    # Mittelpunkt der Zelle berechnen\n",
    "    center_point = \n",
    "    # Auf Bildschirm die Zelle zeichnen\n",
    "    pygame.draw.circle(screen, cell_color, center_point, int(block_size / 2),0)"
   ]
  },
  {
   "cell_type": "code",
   "execution_count": null,
   "metadata": {},
   "outputs": [],
   "source": [
    "# Farben in RGB-Darstellung\n",
    "RED = (255,0,0)\n",
    "BLACK = (0,0,0)\n",
    "\n",
    "# Das Spielfeld hat hier 600 x 600 Pixel\n",
    "xmax = 600 \n",
    "ymax = 600 \n",
    "\n",
    "# Damit wird pygame intialisiert\n",
    "pygame.init()\n",
    "clock = pygame.time.Clock()\n",
    "screen = pygame.display.set_mode((xmax, ymax), RESIZABLE) \n",
    "\n",
    "# Anzahl an Feldern, jede Zelle umfasst 9 Pixel an Breite\n",
    "xlen = int(xmax/9)\n",
    "ylen = int(ymax/9)\n",
    "\n",
    "# TODO: Wir iniatliesieren das Spielfeld zufaellig, die Funktion muss vervollstaendigt werden\n",
    "world = make_random_grid(xlen, ylen)\n",
    "\n",
    "# Spielschleife\n",
    "running = True\n",
    "while running:\n",
    "\n",
    "    # START TODO\n",
    "    for x in range(xlen):\n",
    "        for y in range(ylen):\n",
    "            alive = world[x][y]\n",
    "            # TODO: Zelle (x,y) rot einfaerben wenn sie lebt, ansonsten schwarz\n",
    "            draw_block(x, y, cell_color)\n",
    "    \n",
    "    # Pygame update des Bildschirms\n",
    "    pygame.display.flip()\n",
    "    \n",
    "    # TODO: Naechstes Spielfeld beerechnen\n",
    "    world = evolve(world)\n",
    "    \n",
    "    # Damit man aus dem Spiel wieder rauskommt\n",
    "    clock.tick()\n",
    "    if any([e.type==pygame.KEYDOWN for e in pygame.event.get()]):running=False\n",
    "    for event in pygame.event.get():\n",
    "        if event.type == pygame.QUIT: \n",
    "            break\n",
    "            \n",
    "# Pygame schiessen, sonst stuertzt das Programm ab\n",
    "pygame.quit()"
   ]
  },
  {
   "cell_type": "code",
   "execution_count": null,
   "metadata": {},
   "outputs": [],
   "source": []
  }
 ],
 "metadata": {
  "kernelspec": {
   "display_name": "Python 3",
   "language": "python",
   "name": "python3"
  },
  "language_info": {
   "codemirror_mode": {
    "name": "ipython",
    "version": 3
   },
   "file_extension": ".py",
   "mimetype": "text/x-python",
   "name": "python",
   "nbconvert_exporter": "python",
   "pygments_lexer": "ipython3",
   "version": "3.6.5"
  }
 },
 "nbformat": 4,
 "nbformat_minor": 2
}
