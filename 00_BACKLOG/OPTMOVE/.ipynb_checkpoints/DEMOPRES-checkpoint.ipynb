{
 "cells": [
  {
   "cell_type": "code",
   "execution_count": 1,
   "metadata": {},
   "outputs": [
    {
     "name": "stderr",
     "output_type": "stream",
     "text": [
      "C:\\Users\\Jan\\Anaconda3\\lib\\site-packages\\h5py\\__init__.py:36: FutureWarning: Conversion of the second argument of issubdtype from `float` to `np.floating` is deprecated. In future, it will be treated as `np.float64 == np.dtype(float).type`.\n",
      "  from ._conv import register_converters as _register_converters\n",
      "Using TensorFlow backend.\n"
     ]
    }
   ],
   "source": [
    "import numpy as np\n",
    "from numpy import random as rnd\n",
    "from matplotlib import pyplot as plt\n",
    "import warnings,datetime,os\n",
    "\n",
    "import tensorflow as tf\n",
    "import pandas as pd\n",
    "import seaborn as sns\n",
    "\n",
    "from keras.models import Sequential,Model\n",
    "from keras.layers import Activation,Dense,concatenate,Input,Dropout,LSTM,Conv2D,BatchNormalization,Flatten\n",
    "\n",
    "from sklearn.preprocessing import StandardScaler,OneHotEncoder,CategoricalEncoder\n",
    "from sklearn.model_selection import train_test_split\n",
    "from sklearn.cluster import KMeans\n",
    "\n",
    "from scipy.spatial import distance_matrix\n",
    "\n",
    "warnings.filterwarnings('ignore')\n",
    "sns.set()"
   ]
  },
  {
   "cell_type": "code",
   "execution_count": 2,
   "metadata": {},
   "outputs": [],
   "source": [
    "def cluster_quality(data,cl):\n",
    "    DI = distance_matrix(data,cl,2)\n",
    "    quality = [DI[:,k].mean() for k in range(cl.shape[0])]\n",
    "    quality = np.stack(quality,axis=0)\n",
    "    return quality"
   ]
  },
  {
   "cell_type": "code",
   "execution_count": 3,
   "metadata": {},
   "outputs": [],
   "source": [
    "def clq(cl):\n",
    "    clc  = np.mean(cl,axis=0)\n",
    "    quality = 1/np.mean((cl-clc)**2)\n",
    "    return quality"
   ]
  },
  {
   "cell_type": "code",
   "execution_count": 4,
   "metadata": {},
   "outputs": [],
   "source": [
    "K = 2\n",
    "\n",
    "data0 = 0.7*rnd.rand(25,2)\n",
    "data1 = -0.9*rnd.rand(25,2)\n",
    "data = np.append(data0,data1,axis=0) "
   ]
  },
  {
   "cell_type": "code",
   "execution_count": 137,
   "metadata": {},
   "outputs": [
    {
     "name": "stdout",
     "output_type": "stream",
     "text": [
      "KMeans:\n",
      "MSE cluster 0 --> 0.003\n",
      "MSE cluster 1 --> 0.000\n"
     ]
    }
   ],
   "source": [
    "km = KMeans(n_clusters=2)\n",
    "km.fit(data)\n",
    "\n",
    "kmc0 = km.cluster_centers_[0,:]\n",
    "kmc1 = km.cluster_centers_[1,:]\n",
    "\n",
    "c0mean = np.mean(0.7*rnd.rand(10000,2),axis=0)\n",
    "c1mean = np.mean(-0.9*rnd.rand(10000,2),axis=0)\n",
    "\n",
    "err0 = np.sum((kmc0-c0mean)**2)\n",
    "err1 = np.sum((kmc1-c1mean)**2)\n",
    "\n",
    "print('KMeans:\\nMSE cluster 0 --> %.3f\\nMSE cluster 1 --> %.3f'%(err0,err1))"
   ]
  },
  {
   "cell_type": "code",
   "execution_count": 138,
   "metadata": {},
   "outputs": [
    {
     "data": {
      "image/png": "[encoded data removed]",
      "text/plain": [
       "<Figure size 401.625x360 with 1 Axes>"
      ]
     },
     "metadata": {},
     "output_type": "display_data"
    }
   ],
   "source": [
    "cluster_assignment = rnd.randint(0,K,50)\n",
    "\n",
    "df = pd.DataFrame({\n",
    "    'x':data[:,0],\n",
    "    'y':data[:,1],\n",
    "    'Cluster':cluster_assignment\n",
    "}).sample(frac=1)\n",
    "cl = np.zeros(shape=(K,2))\n",
    "for k in range(K):\n",
    "    cl[k,:] = df[df['Cluster']==k][['x','y']].mean().values\n",
    "\n",
    "sns.lmplot(x='x',y='y',data=df,hue='Cluster',fit_reg=False)\n",
    "plt.plot(cl[0,0],cl[0,1],'yo')\n",
    "plt.plot(cl[1,0],cl[1,1],'ro')\n",
    "plt.xlim(-1,1)\n",
    "plt.ylim(-1,1)\n",
    "plt.show()"
   ]
  },
  {
   "cell_type": "code",
   "execution_count": 140,
   "metadata": {},
   "outputs": [],
   "source": [
    "L = 5\n",
    "U = 45\n",
    "delta = 0.5"
   ]
  },
  {
   "cell_type": "code",
   "execution_count": 139,
   "metadata": {},
   "outputs": [
    {
     "data": {
      "text/plain": [
       "(2, 2)"
      ]
     },
     "execution_count": 139,
     "metadata": {},
     "output_type": "execute_result"
    }
   ],
   "source": [
    "cl.shape"
   ]
  },
  {
   "cell_type": "code",
   "execution_count": 141,
   "metadata": {},
   "outputs": [
    {
     "data": {
      "text/plain": [
       "(50, 2)"
      ]
     },
     "execution_count": 141,
     "metadata": {},
     "output_type": "execute_result"
    }
   ],
   "source": [
    "distance_matrix(data,cl).shape"
   ]
  },
  {
   "cell_type": "code",
   "execution_count": 142,
   "metadata": {},
   "outputs": [
    {
     "name": "stdout",
     "output_type": "stream",
     "text": [
      "0\n",
      "0\n",
      "0\n",
      "0\n",
      "0\n",
      "0\n",
      "0\n",
      "0\n",
      "0\n",
      "0\n",
      "0\n",
      "0\n",
      "0\n",
      "0\n",
      "0\n",
      "0\n",
      "0\n",
      "0\n",
      "0\n",
      "0\n",
      "0\n",
      "0\n",
      "0\n",
      "0\n",
      "0\n",
      "1\n",
      "1\n",
      "1\n",
      "1\n",
      "1\n",
      "1\n",
      "1\n",
      "1\n",
      "1\n",
      "1\n",
      "1\n",
      "1\n",
      "1\n",
      "1\n",
      "1\n",
      "1\n",
      "1\n",
      "1\n",
      "1\n",
      "1\n",
      "1\n",
      "1\n",
      "1\n",
      "1\n",
      "1\n"
     ]
    }
   ],
   "source": [
    "DI = distance_matrix(data,cl,2)\n",
    "\n",
    "wt = np.zeros(shape=[data.shape[0]])\n",
    "MOVELIST = []\n",
    "for k in range(data.shape[0]):\n",
    "    \n",
    "    cold = cluster_assignment[k]\n",
    "    cnew = np.argmin(DI[k,:])\n",
    "    \n",
    "    cold_idx = np.where(cluster_assignment==cold)[0]\n",
    "    cnew_idx = np.where(cluster_assignment==cnew)[0]\n",
    "    cluster_cold_mod = data[np.delete(cold_idx,np.where(cold_idx==k)[0]),:]\n",
    "    cold_qual = clq(cluster_cold_mod)\n",
    "    \n",
    "    MOVELIST.append([k,cold,cnew])\n",
    "    if cold_idx.shape[0]>L and cnew_idx.shape[0]<U and cold_qual>=delta:\n",
    "        wt[k] = DI[k,cold]-DI[k,cnew]"
   ]
  },
  {
   "cell_type": "code",
   "execution_count": 143,
   "metadata": {},
   "outputs": [],
   "source": [
    "wtn = wt/wt.sum()"
   ]
  },
  {
   "cell_type": "code",
   "execution_count": 144,
   "metadata": {},
   "outputs": [],
   "source": [
    "chidx = rnd.choice(np.arange(0,wtn.shape[0]),p=wtn)"
   ]
  },
  {
   "cell_type": "code",
   "execution_count": 145,
   "metadata": {},
   "outputs": [
    {
     "data": {
      "text/plain": [
       "[18, 1, 0]"
      ]
     },
     "execution_count": 145,
     "metadata": {},
     "output_type": "execute_result"
    }
   ],
   "source": [
    "MOVELIST[chidx]"
   ]
  },
  {
   "cell_type": "code",
   "execution_count": null,
   "metadata": {},
   "outputs": [],
   "source": []
  }
 ],
 "metadata": {
  "kernelspec": {
   "display_name": "Python 3",
   "language": "python",
   "name": "python3"
  },
  "language_info": {
   "codemirror_mode": {
    "name": "ipython",
    "version": 3
   },
   "file_extension": ".py",
   "mimetype": "text/x-python",
   "name": "python",
   "nbconvert_exporter": "python",
   "pygments_lexer": "ipython3",
   "version": "3.6.5"
  }
 },
 "nbformat": 4,
 "nbformat_minor": 2
}
