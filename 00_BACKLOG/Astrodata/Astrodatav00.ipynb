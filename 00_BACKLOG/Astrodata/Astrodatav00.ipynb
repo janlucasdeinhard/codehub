{
 "cells": [
  {
   "cell_type": "code",
   "execution_count": 1,
   "metadata": {},
   "outputs": [],
   "source": [
    "import numpy as np\n",
    "import tensorflow as tf\n",
    "import csv\n",
    "import datetime \n",
    "\n",
    "from urllib.parse import urlencode\n",
    "from urllib.request import urlretrieve\n",
    "from IPython.display import Image\n",
    "\n",
    "from astropy.io import fits\n",
    "from astropy import units as u\n",
    "from astropy.coordinates import SkyCoord\n",
    "from astropy.table import Table\n",
    "from astropy.visualization import astropy_mpl_style\n",
    "\n",
    "from matplotlib import pyplot as plt\n",
    "plt.style.use(astropy_mpl_style)\n",
    "%matplotlib inline"
   ]
  },
  {
   "cell_type": "code",
   "execution_count": 3,
   "metadata": {},
   "outputs": [
    {
     "name": "stdout",
     "output_type": "stream",
     "text": [
      "Filename: C:\\Users\\Jan\\Desktop\\hubble_data\\HLADATA-proxima_centauri\\hst_05132_0e_wfpc2_f675w_wf\\ima.fits\n",
      "No.    Name      Ver    Type      Cards   Dimensions   Format\n",
      "  0  PRIMARY       1 PrimaryHDU     490   ()      \n",
      "  1  SCI           1 ImageHDU       107   (550, 550)   float32   \n",
      "  2  WHT           1 ImageHDU       108   (550, 550)   float32   \n",
      "  3  CTX           1 ImageHDU       107   (550, 550)   int32   \n",
      "<class 'astropy.io.fits.hdu.image.ImageHDU'>\n",
      "(550, 550)\n"
     ]
    },
    {
     "data": {
      "image/png": "[encoded data removed]",
      "text/plain": [
       "<Figure size 432x288 with 1 Axes>"
      ]
     },
     "metadata": {},
     "output_type": "display_data"
    }
   ],
   "source": [
    "hdu_list = fits.open('C:\\\\Users\\\\Jan\\\\Desktop\\\\hubble_data\\\\HLADATA-proxima_centauri\\\\hst_05132_0e_wfpc2_f675w_wf\\\\ima.fits')\n",
    "hdu_list.info()\n",
    "\n",
    "print(type(hdu_list[1]))\n",
    "img = hdu_list[1].data\n",
    "print(img.shape)\n",
    "\n",
    "plt.imshow(img,cmap='gray')\n",
    "plt.show()"
   ]
  },
  {
   "cell_type": "code",
   "execution_count": 11,
   "metadata": {},
   "outputs": [
    {
     "data": {
      "text/plain": [
       "['T',\n",
       " '__abstractmethods__',\n",
       " '__bool__',\n",
       " '__class__',\n",
       " '__delattr__',\n",
       " '__dict__',\n",
       " '__dir__',\n",
       " '__doc__',\n",
       " '__eq__',\n",
       " '__format__',\n",
       " '__ge__',\n",
       " '__getattr__',\n",
       " '__getattribute__',\n",
       " '__getitem__',\n",
       " '__gt__',\n",
       " '__hash__',\n",
       " '__init__',\n",
       " '__init_subclass__',\n",
       " '__iter__',\n",
       " '__le__',\n",
       " '__len__',\n",
       " '__lt__',\n",
       " '__module__',\n",
       " '__ne__',\n",
       " '__new__',\n",
       " '__reduce__',\n",
       " '__reduce_ex__',\n",
       " '__repr__',\n",
       " '__setattr__',\n",
       " '__sizeof__',\n",
       " '__str__',\n",
       " '__subclasshook__',\n",
       " '__weakref__',\n",
       " '_abc_cache',\n",
       " '_abc_negative_cache',\n",
       " '_abc_negative_cache_version',\n",
       " '_abc_registry',\n",
       " '_apply',\n",
       " '_extra_frameattr_names',\n",
       " '_parse_inputs',\n",
       " '_sky_coord_frame',\n",
       " 'altaz',\n",
       " 'apply_space_motion',\n",
       " 'barycentrictrueecliptic',\n",
       " 'cache',\n",
       " 'cartesian',\n",
       " 'cirs',\n",
       " 'copy',\n",
       " 'data',\n",
       " 'dec',\n",
       " 'default_differential',\n",
       " 'default_representation',\n",
       " 'diagonal',\n",
       " 'differential_type',\n",
       " 'distance',\n",
       " 'equinox',\n",
       " 'fk4',\n",
       " 'fk4noeterms',\n",
       " 'fk5',\n",
       " 'flatten',\n",
       " 'frame',\n",
       " 'frame_attributes',\n",
       " 'frame_specific_representation_info',\n",
       " 'from_name',\n",
       " 'from_pixel',\n",
       " 'galactic',\n",
       " 'galacticlsr',\n",
       " 'galactocentric',\n",
       " 'galcen_coord',\n",
       " 'galcen_distance',\n",
       " 'galcen_v_sun',\n",
       " 'gcrs',\n",
       " 'geocentrictrueecliptic',\n",
       " 'get_constellation',\n",
       " 'get_frame_attr_names',\n",
       " 'get_representation_cls',\n",
       " 'get_representation_component_names',\n",
       " 'get_representation_component_units',\n",
       " 'guess_from_table',\n",
       " 'has_data',\n",
       " 'hcrs',\n",
       " 'heliocentrictrueecliptic',\n",
       " 'icrs',\n",
       " 'info',\n",
       " 'is_equivalent_frame',\n",
       " 'is_frame_attr_default',\n",
       " 'is_transformable_to',\n",
       " 'isscalar',\n",
       " 'itrs',\n",
       " 'location',\n",
       " 'lsr',\n",
       " 'match_to_catalog_3d',\n",
       " 'match_to_catalog_sky',\n",
       " 'name',\n",
       " 'ndim',\n",
       " 'obsgeoloc',\n",
       " 'obsgeovel',\n",
       " 'obstime',\n",
       " 'obswl',\n",
       " 'pm_dec',\n",
       " 'pm_ra_cosdec',\n",
       " 'position_angle',\n",
       " 'precessedgeocentric',\n",
       " 'pressure',\n",
       " 'proper_motion',\n",
       " 'ra',\n",
       " 'radial_velocity',\n",
       " 'radial_velocity_correction',\n",
       " 'ravel',\n",
       " 'realize_frame',\n",
       " 'relative_humidity',\n",
       " 'replicate',\n",
       " 'replicate_without_data',\n",
       " 'represent_as',\n",
       " 'representation',\n",
       " 'representation_component_names',\n",
       " 'representation_component_units',\n",
       " 'representation_info',\n",
       " 'representation_type',\n",
       " 'reshape',\n",
       " 'roll',\n",
       " 'search_around_3d',\n",
       " 'search_around_sky',\n",
       " 'separation',\n",
       " 'separation_3d',\n",
       " 'set_representation_cls',\n",
       " 'shape',\n",
       " 'size',\n",
       " 'skyoffset_frame',\n",
       " 'spherical',\n",
       " 'spherical_offsets_to',\n",
       " 'sphericalcoslat',\n",
       " 'squeeze',\n",
       " 'supergalactic',\n",
       " 'swapaxes',\n",
       " 'take',\n",
       " 'temperature',\n",
       " 'to_pixel',\n",
       " 'to_string',\n",
       " 'transform_to',\n",
       " 'transpose',\n",
       " 'v_bary',\n",
       " 'velocity',\n",
       " 'z_sun']"
      ]
     },
     "execution_count": 11,
     "metadata": {},
     "output_type": "execute_result"
    }
   ],
   "source": [
    "namestr = 'HCG 7'\n",
    "\n",
    "hcg7_center = SkyCoord.from_name(namestr)\n",
    "type(hcg7_center)\n",
    "\n",
    "dir(hcg7_center)"
   ]
  },
  {
   "cell_type": "code",
   "execution_count": 5,
   "metadata": {},
   "outputs": [
    {
     "name": "stdout",
     "output_type": "stream",
     "text": [
      "9d48m58.5s 0d53m17.016s\n",
      "0.6544166666666668 0d53m17.016s\n",
      "9.81625\n",
      "0.88806\n"
     ]
    }
   ],
   "source": [
    "print(hcg7_center.ra, hcg7_center.dec)\n",
    "print(hcg7_center.ra.hour, hcg7_center.dec)\n",
    "\n",
    "print(hcg7_center.ra.deg)\n",
    "print(hcg7_center.dec.deg)"
   ]
  },
  {
   "cell_type": "code",
   "execution_count": 6,
   "metadata": {},
   "outputs": [
    {
     "data": {
      "text/plain": [
       "('C:\\\\Users\\\\Jan\\\\Desktop\\\\Pictures\\\\astropy\\\\HCG_7_2018-09-08_21_51_35_896530.jpeg',\n",
       " <http.client.HTTPMessage at 0x1c0cb476d68>)"
      ]
     },
     "execution_count": 6,
     "metadata": {},
     "output_type": "execute_result"
    }
   ],
   "source": [
    "store_path = 'C:\\\\Users\\\\Jan\\\\Desktop\\\\Pictures\\\\astropy\\\\'+namestr.replace(' ','_')+'_'+str(datetime.datetime.now()).replace(' ','_').replace(':','_').replace('.','_')+'.jpeg'\n",
    "baseurl = 'http://skyservice.pha.jhu.edu/DR12/ImgCutout/getjpeg.aspx'\n",
    "\n",
    "img_size = 12*u.arcmin\n",
    "img_pixels = 500\n",
    "\n",
    "\n",
    "query = urlencode(dict(ra=hcg7_center.ra.deg,\n",
    "                       dec=hcg7_center.dec.deg,\n",
    "                       width=img_pixels,height=img_pixels,\n",
    "                       scale=img_size.to(u.arcsec).value/img_pixels))\n",
    "fullurl = baseurl + '?' + query\n",
    "\n",
    "urlretrieve(fullurl,store_path)"
   ]
  },
  {
   "cell_type": "code",
   "execution_count": 7,
   "metadata": {},
   "outputs": [
    {
     "data": {
      "image/jpeg": "[encoded data removed]",
      "text/plain": [
       "<IPython.core.display.Image object>"
      ]
     },
     "execution_count": 7,
     "metadata": {},
     "output_type": "execute_result"
    }
   ],
   "source": [
    "Image(store_path)"
   ]
  },
  {
   "cell_type": "code",
   "execution_count": 114,
   "metadata": {},
   "outputs": [
    {
     "data": {
      "image/jpeg": "[encoded data removed]",
      "text/plain": [
       "<IPython.core.display.Image object>"
      ]
     },
     "execution_count": 114,
     "metadata": {},
     "output_type": "execute_result"
    }
   ],
   "source": [
    "store_path = 'C:\\\\Users\\\\Jan\\\\Desktop\\\\Pictures\\\\astropy\\\\'+namestr.replace(' ','_')+'_'+str(datetime.datetime.now()).replace(' ','_').replace(':','_').replace('.','_')+'.jpeg'\n",
    "baseurl = 'http://skyservice.pha.jhu.edu/DR12/ImgCutout/getjpeg.aspx'\n",
    "\n",
    "img_size = 12*u.arcmin\n",
    "img_pixels = 500\n",
    "\n",
    "coord = SkyCoord(ra='0h0m0s',dec='0d0m0s')\n",
    "\n",
    "query = urlencode(dict(ra=coord.ra.deg,dec=coord.dec.deg,\n",
    "                       width=img_pixels,height=img_pixels,\n",
    "                       scale=img_size.to(u.arcsec).value/img_pixels))\n",
    "fullurl = baseurl+'?'+query\n",
    "\n",
    "urlretrieve(fullurl,store_path)\n",
    "\n",
    "Image(store_path)"
   ]
  },
  {
   "cell_type": "code",
   "execution_count": 174,
   "metadata": {},
   "outputs": [
    {
     "data": {
      "image/jpeg": "[encoded data removed]",
      "text/plain": [
       "<IPython.core.display.Image object>"
      ]
     },
     "execution_count": 174,
     "metadata": {},
     "output_type": "execute_result"
    }
   ],
   "source": [
    "store_path = 'C:\\\\Users\\\\Jan\\\\Desktop\\\\Pictures\\\\astropy\\\\'+namestr.replace(' ','_')+'_'+str(datetime.datetime.now()).replace(' ','_').replace(':','_').replace('.','_')+'.jpeg'\n",
    "baseurl = 'http://skyservice.pha.jhu.edu/DR12/ImgCutout/getjpeg.aspx'\n",
    "\n",
    "img_size = 1*u.arcmin\n",
    "img_pixels = 500\n",
    "\n",
    "#coord = SkyCoord(ra='0h52m45s',dec='0d0m0s')\n",
    "#coord = SkyCoord(ra=0*u.deg,dec=-0.07*u.deg)\n",
    "coord = SkyCoord(ra=25.237*u.deg,dec=25.483*u.deg)\n",
    "\n",
    "query = urlencode(dict(ra=coord.ra.deg,dec=coord.dec.deg,\n",
    "                       width=img_pixels,height=img_pixels,\n",
    "                       scale=img_size.to(u.arcsec).value/img_pixels))\n",
    "fullurl = baseurl+'?'+query\n",
    "\n",
    "urlretrieve(fullurl,store_path)\n",
    "\n",
    "Image(store_path)"
   ]
  },
  {
   "cell_type": "code",
   "execution_count": null,
   "metadata": {},
   "outputs": [],
   "source": []
  }
 ],
 "metadata": {
  "kernelspec": {
   "display_name": "Python 3",
   "language": "python",
   "name": "python3"
  },
  "language_info": {
   "codemirror_mode": {
    "name": "ipython",
    "version": 3
   },
   "file_extension": ".py",
   "mimetype": "text/x-python",
   "name": "python",
   "nbconvert_exporter": "python",
   "pygments_lexer": "ipython3",
   "version": "3.6.3"
  }
 },
 "nbformat": 4,
 "nbformat_minor": 2
}
