{
 "cells": [
  {
   "cell_type": "code",
   "execution_count": 2,
   "metadata": {},
   "outputs": [
    {
     "ename": "ImportError",
     "evalue": "cannot import name 'available_backends' from 'qiskit' (C:\\Users\\euronics\\Anaconda3\\lib\\site-packages\\qiskit\\__init__.py)",
     "output_type": "error",
     "traceback": [
      "\u001b[1;31m---------------------------------------------------------------------------\u001b[0m",
      "\u001b[1;31mImportError\u001b[0m                               Traceback (most recent call last)",
      "\u001b[1;32m<ipython-input-2-7f245b05d0ee>\u001b[0m in \u001b[0;36m<module>\u001b[1;34m\u001b[0m\n\u001b[0;32m      3\u001b[0m \u001b[1;33m\u001b[0m\u001b[0m\n\u001b[0;32m      4\u001b[0m \u001b[1;32mfrom\u001b[0m \u001b[0mqiskit\u001b[0m \u001b[1;32mimport\u001b[0m \u001b[0mClassicalRegister\u001b[0m\u001b[1;33m,\u001b[0m \u001b[0mQuantumRegister\u001b[0m\u001b[1;33m,\u001b[0m \u001b[0mQuantumCircuit\u001b[0m\u001b[1;33m\u001b[0m\u001b[1;33m\u001b[0m\u001b[0m\n\u001b[1;32m----> 5\u001b[1;33m \u001b[1;32mfrom\u001b[0m \u001b[0mqiskit\u001b[0m \u001b[1;32mimport\u001b[0m \u001b[0mavailable_backends\u001b[0m\u001b[1;33m,\u001b[0m \u001b[0mexecute\u001b[0m\u001b[1;33m,\u001b[0m \u001b[0mregister\u001b[0m\u001b[1;33m,\u001b[0m \u001b[0mleast_busy\u001b[0m\u001b[1;33m\u001b[0m\u001b[1;33m\u001b[0m\u001b[0m\n\u001b[0m\u001b[0;32m      6\u001b[0m \u001b[1;32mfrom\u001b[0m \u001b[0mqiskit\u001b[0m\u001b[1;33m.\u001b[0m\u001b[0mtools\u001b[0m\u001b[1;33m.\u001b[0m\u001b[0mvisualization\u001b[0m \u001b[1;32mimport\u001b[0m \u001b[0mplot_histogram\u001b[0m\u001b[1;33m,\u001b[0m \u001b[0mcircuit_drawer\u001b[0m\u001b[1;33m\u001b[0m\u001b[1;33m\u001b[0m\u001b[0m\n",
      "\u001b[1;31mImportError\u001b[0m: cannot import name 'available_backends' from 'qiskit' (C:\\Users\\euronics\\Anaconda3\\lib\\site-packages\\qiskit\\__init__.py)"
     ]
    }
   ],
   "source": [
    "import getpass, time\n",
    "from qiskit import *\n",
    "\n",
    "from qiskit import ClassicalRegister, QuantumRegister, QuantumCircuit\n",
    "from qiskit import available_backends, execute, register, least_busy\n",
    "from qiskit.tools.visualization import plot_histogram, circuit_drawer"
   ]
  },
  {
   "cell_type": "code",
   "execution_count": 9,
   "metadata": {},
   "outputs": [
    {
     "name": "stdout",
     "output_type": "stream",
     "text": [
      "Please input your token and hit enter: ········\n"
     ]
    },
    {
     "name": "stderr",
     "output_type": "stream",
     "text": [
      "The backend names \"['ibmq_5_yorktown', 'ibmq_16_rueschlikon', 'ibmq_5_tenerife', 'ibmq_qasm_simulator']\" of this provider are already in use. Refer to documentation for `available_backends()` and `unregister()`.\n"
     ]
    },
    {
     "name": "stdout",
     "output_type": "stream",
     "text": [
      "\n",
      "You have access to great power!\n",
      "['ibmqx2', 'ibmqx4', 'ibmqx5']\n"
     ]
    }
   ],
   "source": [
    "APItoken = getpass.getpass('Please input your token and hit enter: ')\n",
    "qx_config = {\n",
    "    \"APItoken\": APItoken,\n",
    "    \"url\":\"https://quantumexperience.ng.bluemix.net/api\"}\n",
    "\n",
    "try:\n",
    "    register(qx_config['APItoken'], qx_config['url'])\n",
    "\n",
    "    print('\\nYou have access to great power!')\n",
    "    print(available_backends({'local': False, 'simulator': False}))\n",
    "except: \n",
    "    print('Something went wrong.\\nDid you enter a correct token?')"
   ]
  },
  {
   "cell_type": "code",
   "execution_count": 17,
   "metadata": {},
   "outputs": [
    {
     "name": "stdout",
     "output_type": "stream",
     "text": [
      "Least busy backend: ibmq_5_tenerife\n"
     ]
    }
   ],
   "source": [
    "backend = least_busy(available_backends({'simulator':False,'local':False}))\n",
    "print('Least busy backend: '+backend)"
   ]
  },
  {
   "cell_type": "code",
   "execution_count": 19,
   "metadata": {},
   "outputs": [
    {
     "name": "stdout",
     "output_type": "stream",
     "text": [
      "Status @0 seconds\n",
      "{'job_id': None, 'status': <JobStatus.INITIALIZING: 'job is being initialized'>, 'status_msg': 'Job is initializing. Please, wait a moment.'}\n",
      "Status @30 seconds\n",
      "{'job_id': '5b6f161f57dd2b00397d817a', 'status': <JobStatus.QUEUED: 'job is queued'>, 'status_msg': 'job is queued', 'queue_position': 1}\n",
      "Status @60 seconds\n",
      "{'job_id': '5b6f161f57dd2b00397d817a', 'status': <JobStatus.RUNNING: 'job is actively running'>, 'status_msg': 'job is actively running'}\n",
      "{'job_id': '5b6f161f57dd2b00397d817a', 'status': <JobStatus.DONE: 'job has successfully run'>, 'status_msg': 'job has successfully run'}\n"
     ]
    }
   ],
   "source": [
    "q = QuantumRegister(2)\n",
    "c = ClassicalRegister(2)\n",
    "qc = QuantumCircuit(q,c)\n",
    "\n",
    "qc.h(q[0])\n",
    "qc.cx(q[0],q[1])\n",
    "qc.measure(q,c)\n",
    "job_exp = execute(qc,backend=backend,shots=1024,max_credits=3)\n",
    "\n",
    "lapse = 0\n",
    "interval = 30\n",
    "\n",
    "while not job_exp.done:\n",
    "    print('Status @{} seconds'.format(interval*lapse))\n",
    "    print(job_exp.status)\n",
    "    time.sleep(interval)\n",
    "    lapse += 1\n",
    "print(job_exp.status)"
   ]
  },
  {
   "cell_type": "code",
   "execution_count": 20,
   "metadata": {},
   "outputs": [
    {
     "data": {
      "image/png": "[encoded data removed]",
      "text/plain": [
       "<Figure size 432x288 with 1 Axes>"
      ]
     },
     "metadata": {},
     "output_type": "display_data"
    },
    {
     "name": "stdout",
     "output_type": "stream",
     "text": [
      "A quantum entanglement was made\n"
     ]
    }
   ],
   "source": [
    "plot_histogram(job_exp.result().get_counts(qc))\n",
    "print('A quantum entanglement was made')"
   ]
  },
  {
   "cell_type": "code",
   "execution_count": 22,
   "metadata": {},
   "outputs": [
    {
     "data": {
      "image/png": "[encoded data removed]",
      "text/plain": [
       "<PIL.Image.Image image mode=RGB size=436x182 at 0x1D358333358>"
      ]
     },
     "execution_count": 22,
     "metadata": {},
     "output_type": "execute_result"
    }
   ],
   "source": [
    "circuit_drawer(qc)"
   ]
  },
  {
   "cell_type": "code",
   "execution_count": null,
   "metadata": {},
   "outputs": [],
   "source": []
  }
 ],
 "metadata": {
  "kernelspec": {
   "display_name": "Python 3",
   "language": "python",
   "name": "python3"
  },
  "language_info": {
   "codemirror_mode": {
    "name": "ipython",
    "version": 3
   },
   "file_extension": ".py",
   "mimetype": "text/x-python",
   "name": "python",
   "nbconvert_exporter": "python",
   "pygments_lexer": "ipython3",
   "version": "3.7.3"
  }
 },
 "nbformat": 4,
 "nbformat_minor": 2
}
