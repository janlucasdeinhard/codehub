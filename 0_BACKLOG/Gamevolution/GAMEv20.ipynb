{
 "cells": [
  {
   "cell_type": "code",
   "execution_count": 1,
   "metadata": {},
   "outputs": [
    {
     "name": "stderr",
     "output_type": "stream",
     "text": [
      "C:\\Users\\Jan\\Anaconda3\\lib\\site-packages\\h5py\\__init__.py:36: FutureWarning: Conversion of the second argument of issubdtype from `float` to `np.floating` is deprecated. In future, it will be treated as `np.float64 == np.dtype(float).type`.\n",
      "  from ._conv import register_converters as _register_converters\n",
      "Using TensorFlow backend.\n"
     ]
    },
    {
     "name": "stdout",
     "output_type": "stream",
     "text": [
      "pygame 1.9.4\n",
      "Hello from the pygame community. https://www.pygame.org/contribute.html\n"
     ]
    }
   ],
   "source": [
    "import numpy as np\n",
    "from matplotlib import pyplot as plt\n",
    "from numpy import random as rnd\n",
    "import warnings,datetime,os,calendar,csv\n",
    "\n",
    "import tensorflow as tf\n",
    "import pandas as pd\n",
    "import seaborn as sns\n",
    "\n",
    "from keras.models import Model,Sequential\n",
    "from keras.layers import Dense,LSTM,Conv2D,Dropout,BatchNormalization,Input,Concatenate,Add,Activation,MaxPooling2D,AveragePooling2D\n",
    "import keras.backend as K\n",
    "\n",
    "from sklearn import preprocessing as pp\n",
    "\n",
    "from sklearn.cluster import KMeans,MeanShift\n",
    "from sklearn.dummy import DummyClassifier,DummyRegressor\n",
    "from sklearn.discriminant_analysis import LinearDiscriminantAnalysis\n",
    "from sklearn.ensemble import AdaBoostClassifier,AdaBoostRegressor,RandomForestClassifier,RandomForestRegressor\n",
    "from sklearn.linear_model import BayesianRidge,Lasso,LinearRegression,SGDClassifier,SGDRegressor\n",
    "from sklearn.mixture import BayesianGaussianMixture,GaussianMixture\n",
    "from sklearn.neighbors import KNeighborsClassifier,KNeighborsRegressor,RadiusNeighborsClassifier,RadiusNeighborsRegressor,NearestNeighbors\n",
    "from sklearn.manifold import Isomap\n",
    "from sklearn.model_selection import KFold,StratifiedKFold,train_test_split\n",
    "from sklearn.svm import LinearSVC,LinearSVR\n",
    "from sklearn.neural_network import BernoulliRBM,MLPClassifier,MLPRegressor\n",
    "from sklearn.decomposition import FactorAnalysis,KernelPCA,PCA,MiniBatchSparsePCA,FastICA\n",
    "from sklearn.preprocessing import CategoricalEncoder,KBinsDiscretizer,LabelEncoder,MinMaxScaler,OneHotEncoder,StandardScaler\n",
    "\n",
    "from xgboost import XGBClassifier,XGBRegressor\n",
    "import gym\n",
    "\n",
    "import pickle,h5py,json\n",
    "import urllib\n",
    "from bs4 import BeautifulSoup\n",
    "\n",
    "import pygame\n",
    "from pygame.locals import *\n",
    "\n",
    "warnings.filterwarnings('ignore')\n",
    "sns.set()"
   ]
  },
  {
   "cell_type": "code",
   "execution_count": 2,
   "metadata": {},
   "outputs": [],
   "source": [
    "num_initial_pixels = 50\n",
    "\n",
    "screen =  pygame.display.set_mode((500, 500),RESIZABLE)\n",
    "clock = pygame.time.Clock()\n",
    "\n",
    "MAP = np.zeros(shape=[screen.get_height(),screen.get_width()])\n",
    "\n",
    "MAP[200:210,200:210] = rnd.randint(0,2,(10,10))\n",
    "\n",
    "try:\n",
    "    \n",
    "    running = True\n",
    "    while running==True:\n",
    "        screen.fill(0)\n",
    "        for k in range(screen.get_height()):\n",
    "            for kk in range(screen.get_width()):\n",
    "                if MAP[k,kk]!=0: screen.set_at((k,kk),(255,255,0))\n",
    "        pygame.display.flip()\n",
    "        \n",
    "        for k in range(MAP.shape[0]):\n",
    "            for kk in range(MAP.shape[1]):\n",
    "                try:\n",
    "                    neighbor_sum = MAP[k+1,kk]+MAP[k-1,kk]+MAP[k,kk+1]+MAP[k,kk-1]+MAP[k+1,kk+1]+MAP[k-1,kk-1]+MAP[k-1,kk+1]+MAP[k+1,kk-1]\n",
    "                    if MAP[k,kk]==1:\n",
    "                        if neighbor_sum<2 or neighbor_sum>3:\n",
    "                            MAP[k,kk]=0\n",
    "                    if MAP[k,kk]==0:\n",
    "                        if neighbor_sum==3:\n",
    "                            MAP[k,kk]=1\n",
    "                except:\n",
    "                    continue\n",
    "        \n",
    "        if any([e.type==pygame.KEYDOWN for e in pygame.event.get()]):running=False\n",
    "        clock.tick(1000)\n",
    "        \n",
    "    pygame.quit()\n",
    "    \n",
    "except SystemExit:\n",
    "    pygame.quit()"
   ]
  },
  {
   "cell_type": "code",
   "execution_count": 12,
   "metadata": {},
   "outputs": [],
   "source": []
  },
  {
   "cell_type": "code",
   "execution_count": null,
   "metadata": {},
   "outputs": [],
   "source": []
  }
 ],
 "metadata": {
  "kernelspec": {
   "display_name": "Python 3",
   "language": "python",
   "name": "python3"
  },
  "language_info": {
   "codemirror_mode": {
    "name": "ipython",
    "version": 3
   },
   "file_extension": ".py",
   "mimetype": "text/x-python",
   "name": "python",
   "nbconvert_exporter": "python",
   "pygments_lexer": "ipython3",
   "version": "3.6.5"
  }
 },
 "nbformat": 4,
 "nbformat_minor": 2
}
