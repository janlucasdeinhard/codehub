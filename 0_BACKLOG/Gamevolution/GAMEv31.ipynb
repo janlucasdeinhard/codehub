{
 "cells": [
  {
   "cell_type": "code",
   "execution_count": 2,
   "metadata": {},
   "outputs": [
    {
     "name": "stderr",
     "output_type": "stream",
     "text": [
      "C:\\Users\\Jan\\Anaconda3\\lib\\site-packages\\h5py\\__init__.py:36: FutureWarning: Conversion of the second argument of issubdtype from `float` to `np.floating` is deprecated. In future, it will be treated as `np.float64 == np.dtype(float).type`.\n",
      "  from ._conv import register_converters as _register_converters\n",
      "Using TensorFlow backend.\n"
     ]
    },
    {
     "name": "stdout",
     "output_type": "stream",
     "text": [
      "pygame 1.9.4\n",
      "Hello from the pygame community. https://www.pygame.org/contribute.html\n"
     ]
    },
    {
     "data": {
      "text/plain": [
       "<matplotlib.rc_context at 0x1acb1086898>"
      ]
     },
     "execution_count": 2,
     "metadata": {},
     "output_type": "execute_result"
    }
   ],
   "source": [
    "import numpy as np\n",
    "from matplotlib import pyplot as plt\n",
    "from numpy import random as rnd\n",
    "import warnings,datetime,os,calendar,csv,time\n",
    "\n",
    "import tensorflow as tf\n",
    "import pandas as pd\n",
    "import seaborn as sns\n",
    "\n",
    "from keras.models import Model,Sequential\n",
    "from keras.layers import Dense,LSTM,Conv2D,Dropout,BatchNormalization,Input,Concatenate,Add,Activation,MaxPooling2D,AveragePooling2D\n",
    "import keras.backend as K\n",
    "\n",
    "from sklearn import preprocessing as pp\n",
    "\n",
    "from sklearn.cluster import KMeans,MeanShift\n",
    "from sklearn.dummy import DummyClassifier,DummyRegressor\n",
    "from sklearn.discriminant_analysis import LinearDiscriminantAnalysis\n",
    "from sklearn.ensemble import AdaBoostClassifier,AdaBoostRegressor,RandomForestClassifier,RandomForestRegressor\n",
    "from sklearn.linear_model import BayesianRidge,Lasso,LinearRegression,SGDClassifier,SGDRegressor\n",
    "from sklearn.mixture import BayesianGaussianMixture,GaussianMixture\n",
    "from sklearn.neighbors import KNeighborsClassifier,KNeighborsRegressor,RadiusNeighborsClassifier,RadiusNeighborsRegressor,NearestNeighbors\n",
    "from sklearn.manifold import Isomap\n",
    "from sklearn.model_selection import KFold,StratifiedKFold,train_test_split\n",
    "from sklearn.svm import LinearSVC,LinearSVR\n",
    "from sklearn.neural_network import BernoulliRBM,MLPClassifier,MLPRegressor\n",
    "from sklearn.decomposition import FactorAnalysis,KernelPCA,PCA,MiniBatchSparsePCA,FastICA\n",
    "from sklearn.preprocessing import CategoricalEncoder,KBinsDiscretizer,LabelEncoder,MinMaxScaler,OneHotEncoder,StandardScaler\n",
    "\n",
    "from xgboost import XGBClassifier,XGBRegressor\n",
    "import gym\n",
    "\n",
    "import pickle,h5py,json\n",
    "import urllib\n",
    "from bs4 import BeautifulSoup\n",
    "\n",
    "import pygame\n",
    "from pygame.locals import *\n",
    "\n",
    "warnings.filterwarnings('ignore')\n",
    "sns.set()\n",
    "plt.xkcd()"
   ]
  },
  {
   "cell_type": "code",
   "execution_count": 3,
   "metadata": {},
   "outputs": [],
   "source": [
    "def calculate_discounted_rewards(R,gamma,T=10,alpha=1):\n",
    "    disc_rewards = []\n",
    "    RR = R.copy()\n",
    "    RR = RR+[0]*(T-1)\n",
    "    for k0 in range(len(R)):\n",
    "        RRR = RR[k0:(k0+T)]\n",
    "        for kk in range(len(RRR)):\n",
    "            RRR[kk] = alpha*RRR[kk]*(gamma**kk)\n",
    "        disc_rewards.append(sum(RRR))\n",
    "    return np.array(disc_rewards)"
   ]
  },
  {
   "cell_type": "code",
   "execution_count": 56,
   "metadata": {},
   "outputs": [],
   "source": [
    "tf.reset_default_graph()\n",
    "\n",
    "in0 = tf.placeholder(dtype=tf.float32,shape=(4,1))\n",
    "out0 = tf.placeholder(dtype=tf.float32,shape=(2,1))\n",
    "#discrew = tf.placeholder(dtype=tf.float32,shape=(None,1))\n",
    "\n",
    "w0 = tf.Variable(tf.random_normal([10,4]),name='weights0')\n",
    "b0 = tf.Variable(tf.random_normal([10,1]),name='biases0')\n",
    "w1 = tf.Variable(tf.random_normal([2,10]),name='weights1')\n",
    "b1 = tf.Variable(tf.random_normal([2,1]),name='biases1')\n",
    "\n",
    "layer0 = tf.nn.relu(tf.matmul(w0,in0)+b0)\n",
    "softout = tf.nn.softmax(tf.matmul(w1,layer0)+b1,axis=0)\n",
    "\n",
    "action_sugg = tf.argmax(softout,axis=0)[0]\n",
    "\n",
    "#log_grad = tf.gradients(tf.log(softout),x)\n",
    "#delta = tf.reduce_mean(tf.multiply(discrew,log_grad),axis=1)"
   ]
  },
  {
   "cell_type": "code",
   "execution_count": 57,
   "metadata": {},
   "outputs": [
    {
     "name": "stdout",
     "output_type": "stream",
     "text": [
      "\u001b[33mWARN: gym.spaces.Box autodetected dtype as <class 'numpy.float32'>. Please provide explicit dtype.\u001b[0m\n"
     ]
    }
   ],
   "source": [
    "clock = pygame.time.Clock()\n",
    "pygame.init()\n",
    "\n",
    "sess = tf.Session()\n",
    "sess.run(tf.global_variables_initializer())\n",
    "\n",
    "env = gym.make('CartPole-v0')\n",
    "state = env.reset()\n",
    "\n",
    "S = []\n",
    "P = []\n",
    "R = []\n",
    "\n",
    "game_over = False\n",
    "while not game_over:\n",
    "    \n",
    "    policy = sess.run([softout],feed_dict={\n",
    "        in0:state.reshape(4,1)\n",
    "    })\n",
    "    action_prop = rnd.choice(np.arange(0,2),p=policy[0].flatten())\n",
    "    \n",
    "    state,reward,game_over,_ = env.step(action_prop)\n",
    "    env.render()\n",
    "    \n",
    "    S.append(state)\n",
    "    P.append(policy)\n",
    "    R.append(reward)\n",
    "    \n",
    "    if any([e.type==pygame.KEYDOWN for e in pygame.event.get()]):game_over=True\n",
    "    clock.tick(5)\n",
    "    \n",
    "env.close()"
   ]
  },
  {
   "cell_type": "code",
   "execution_count": 58,
   "metadata": {},
   "outputs": [
    {
     "data": {
      "text/plain": [
       "[array([[0.21049896],\n",
       "        [0.789501  ]], dtype=float32)]"
      ]
     },
     "execution_count": 58,
     "metadata": {},
     "output_type": "execute_result"
    }
   ],
   "source": [
    "policy"
   ]
  },
  {
   "cell_type": "code",
   "execution_count": 232,
   "metadata": {},
   "outputs": [],
   "source": [
    "DR = calculate_discounted_rewards(R,0.99)"
   ]
  },
  {
   "cell_type": "code",
   "execution_count": 234,
   "metadata": {},
   "outputs": [],
   "source": [
    "lg,d = sess.run([log_grad,delta],feed_dict={\n",
    "    in0:np.array(S).reshape(-1,4),\n",
    "    discrew:np.array(DR).reshape(-1,1)\n",
    "}) "
   ]
  },
  {
   "cell_type": "code",
   "execution_count": 236,
   "metadata": {},
   "outputs": [
    {
     "data": {
      "text/plain": [
       "array([[ 0.72496706, -0.6786164 , -0.58989364,  0.15350671,  0.46237272,\n",
       "        -0.7351186 ,  0.09752943, -0.7211214 , -0.6822029 , -0.31058463]],\n",
       "      dtype=float32)"
      ]
     },
     "execution_count": 236,
     "metadata": {},
     "output_type": "execute_result"
    }
   ],
   "source": [
    "d"
   ]
  },
  {
   "cell_type": "code",
   "execution_count": null,
   "metadata": {},
   "outputs": [],
   "source": []
  }
 ],
 "metadata": {
  "kernelspec": {
   "display_name": "Python 3",
   "language": "python",
   "name": "python3"
  },
  "language_info": {
   "codemirror_mode": {
    "name": "ipython",
    "version": 3
   },
   "file_extension": ".py",
   "mimetype": "text/x-python",
   "name": "python",
   "nbconvert_exporter": "python",
   "pygments_lexer": "ipython3",
   "version": "3.6.5"
  }
 },
 "nbformat": 4,
 "nbformat_minor": 2
}
