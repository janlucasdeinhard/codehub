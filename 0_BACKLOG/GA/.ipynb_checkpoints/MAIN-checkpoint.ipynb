{
 "cells": [
  {
   "cell_type": "code",
   "execution_count": 1,
   "metadata": {},
   "outputs": [
    {
     "name": "stderr",
     "output_type": "stream",
     "text": [
      "C:\\Users\\Jan\\Anaconda3\\lib\\site-packages\\h5py\\__init__.py:36: FutureWarning: Conversion of the second argument of issubdtype from `float` to `np.floating` is deprecated. In future, it will be treated as `np.float64 == np.dtype(float).type`.\n",
      "  from ._conv import register_converters as _register_converters\n",
      "Using TensorFlow backend.\n"
     ]
    }
   ],
   "source": [
    "import numpy as np\n",
    "from numpy import random as rnd\n",
    "from matplotlib import pyplot as plt\n",
    "import warnings,datetime,csv,os\n",
    "\n",
    "import tensorflow as tf\n",
    "import pandas as pd\n",
    "import seaborn as sns\n",
    "\n",
    "from keras.models import Sequential,Model\n",
    "from keras.layers import Dense,Conv2D,Conv2DTranspose,BatchNormalization,Dropout,Input,concatenate,add,advanced_activations,Activation,AvgPool2D,Bidirectional,Reshape,LSTM,GRU\n",
    "\n",
    "from sklearn.cluster import AffinityPropagation,AgglomerativeClustering,Birch,DBSCAN,KMeans,MeanShift,MiniBatchKMeans,SpectralClustering\n",
    "from sklearn.datasets import load_boston\n",
    "from sklearn.decomposition import DictionaryLearning,FactorAnalysis,KernelPCA,PCA,TruncatedSVD\n",
    "from sklearn.discriminant_analysis import LinearDiscriminantAnalysis\n",
    "from sklearn.dummy import DummyClassifier,DummyRegressor\n",
    "from sklearn.ensemble import AdaBoostClassifier,AdaBoostRegressor,BaggingClassifier,BaggingRegressor,ExtraTreesClassifier,ExtraTreesRegressor,GradientBoostingClassifier,GradientBoostingRegressor,RandomForestRegressor,RandomForestClassifier\n",
    "from sklearn.feature_extraction import DictVectorizer,FeatureHasher\n",
    "from sklearn.feature_selection import SelectPercentile,VarianceThreshold\n",
    "from sklearn.impute import MissingIndicator,SimpleImputer\n",
    "from sklearn.kernel_ridge import KernelRidge\n",
    "from sklearn.linear_model import ARDRegression,BayesianRidge,Hinge,Huber,Lasso,LinearRegression,LogisticRegression,Ridge,RidgeClassifier\n",
    "from sklearn.manifold import Isomap,LocallyLinearEmbedding,TSNE\n",
    "from sklearn.mixture import BayesianGaussianMixture,GaussianMixture\n",
    "from sklearn.model_selection import BaseCrossValidator,GridSearchCV,KFold,train_test_split\n",
    "from sklearn.neighbors import BallTree,DistanceMetric,KNeighborsClassifier,KNeighborsRegressor,NearestCentroid,NearestNeighbors\n",
    "from sklearn.neural_network import BernoulliRBM,MLPClassifier,MLPRegressor\n",
    "from sklearn.pipeline import Pipeline\n",
    "from sklearn.preprocessing import Binarizer,CategoricalEncoder,FunctionTransformer,Imputer,KBinsDiscretizer,MinMaxScaler,OneHotEncoder,StandardScaler\n",
    "from sklearn.random_projection import GaussianRandomProjection,SparseRandomProjection\n",
    "\n",
    "warnings.filterwarnings('ignore')\n",
    "sns.set()"
   ]
  },
  {
   "cell_type": "code",
   "execution_count": 2,
   "metadata": {},
   "outputs": [],
   "source": [
    "def test_ind(dna,Xtrain,ytrain,Xtest,ytest):\n",
    "    clf = LogisticRegression()\n",
    "    clf.fit(np.delete(Xtrain,np.where(dna==0)[0],axis=1),ytrain.astype('int'))\n",
    "    cscore = clf.score(np.delete(Xtest,np.where(dna==0)[0],axis=1),ytest.astype('int'))\n",
    "    return cscore\n",
    "\n",
    "def compete_P(DNA,X,y):\n",
    "    Xtrain,Xtest,ytrain,ytest = train_test_split(X,y,test_size=0.3,shuffle=True)\n",
    "    Pscores = []\n",
    "    for p in range(DNA.shape[0]):\n",
    "        dna = DNA[p,:]\n",
    "        Pscores.append(test_ind(dna,Xtrain,ytrain,Xtest,ytest))\n",
    "    Pscores = np.stack(Pscores)\n",
    "    return DNA,Pscores"
   ]
  },
  {
   "cell_type": "code",
   "execution_count": 3,
   "metadata": {},
   "outputs": [],
   "source": [
    "X,y = load_boston(return_X_y=True)\n",
    "\n",
    "num_genes = X.shape[1]\n",
    "P = 100\n",
    "\n",
    "DNA = rnd.randint(0,2,(P,num_genes))"
   ]
  },
  {
   "cell_type": "code",
   "execution_count": 4,
   "metadata": {},
   "outputs": [],
   "source": [
    "DNA,Pscores = compete_P(DNA,X,y)"
   ]
  },
  {
   "cell_type": "code",
   "execution_count": 5,
   "metadata": {},
   "outputs": [
    {
     "data": {
      "text/plain": [
       "<module 'numpy' from 'C:\\\\Users\\\\Jan\\\\Anaconda3\\\\lib\\\\site-packages\\\\numpy\\\\__init__.py'>"
      ]
     },
     "execution_count": 5,
     "metadata": {},
     "output_type": "execute_result"
    }
   ],
   "source": [
    "np"
   ]
  },
  {
   "cell_type": "code",
   "execution_count": null,
   "metadata": {},
   "outputs": [],
   "source": []
  }
 ],
 "metadata": {
  "kernelspec": {
   "display_name": "Python 3",
   "language": "python",
   "name": "python3"
  },
  "language_info": {
   "codemirror_mode": {
    "name": "ipython",
    "version": 3
   },
   "file_extension": ".py",
   "mimetype": "text/x-python",
   "name": "python",
   "nbconvert_exporter": "python",
   "pygments_lexer": "ipython3",
   "version": "3.6.5"
  }
 },
 "nbformat": 4,
 "nbformat_minor": 2
}
