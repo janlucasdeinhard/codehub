{
 "cells": [
  {
   "cell_type": "code",
   "execution_count": 28,
   "metadata": {},
   "outputs": [],
   "source": [
    "import numpy as np\n",
    "import tensorflow as tf\n",
    "from matplotlib import pyplot as plt\n",
    "from tensorflow.examples.tutorials.mnist import input_data\n",
    "import numpy.random as rnd"
   ]
  },
  {
   "cell_type": "code",
   "execution_count": 44,
   "metadata": {},
   "outputs": [],
   "source": [
    "def synth_pdf_vec(size=1):\n",
    "    x = np.zeros(shape=(size,1))\n",
    "    for k in range(size):\n",
    "        if rnd.random(1) < 0.4:\n",
    "            x[k] = 0.0\n",
    "        else:\n",
    "            x[k] = rnd.random(1)\n",
    "    return x"
   ]
  },
  {
   "cell_type": "code",
   "execution_count": 2,
   "metadata": {},
   "outputs": [
    {
     "name": "stdout",
     "output_type": "stream",
     "text": [
      "Extracting MNIST_data\\train-images-idx3-ubyte.gz\n",
      "Extracting MNIST_data\\train-labels-idx1-ubyte.gz\n",
      "Extracting MNIST_data\\t10k-images-idx3-ubyte.gz\n",
      "Extracting MNIST_data\\t10k-labels-idx1-ubyte.gz\n"
     ]
    }
   ],
   "source": [
    "mnist = input_data.read_data_sets('MNIST_data')"
   ]
  },
  {
   "cell_type": "code",
   "execution_count": 46,
   "metadata": {},
   "outputs": [],
   "source": [
    "img_data = mnist.train.next_batch(2)\n",
    "img = np.reshape(img_data[0],(784,2))\n",
    "\n",
    "ds_rate = 0.1\n",
    "learning_rate = 0.001\n",
    "batch_size = 100\n",
    "training_iter = 2000\n",
    "disp_step = 100\n",
    "\n",
    "enc_in_size = img.shape[0]\n",
    "dec_in_size = int(np.round(img.shape[0]*ds_rate))"
   ]
  },
  {
   "cell_type": "code",
   "execution_count": 47,
   "metadata": {},
   "outputs": [],
   "source": [
    "tf.reset_default_graph()\n",
    "\n",
    "init_enc = tf.contrib.layers.xavier_initializer()\n",
    "init_dec = tf.contrib.layers.xavier_initializer()\n",
    "\n",
    "e_in = tf.placeholder(dtype=tf.float32, shape=[None, enc_in_size], name='e_in')\n",
    "synth_in = tf.placeholder(tf.float32, shape=[None, dec_in_size], name='synth_in')\n",
    "keep_prob = tf.placeholder(tf.float32)\n",
    "\n",
    "e1s = 200\n",
    "ew1 = tf.Variable(init_enc([enc_in_size, e1s]), name='ew1')\n",
    "eb1 = tf.Variable(init_enc([e1s]), name='eb1')\n",
    "\n",
    "e2s = 50\n",
    "ew2 = tf.Variable(init_enc([e1s, e2s]), name='ew2')\n",
    "eb2 = tf.Variable(init_enc([e2s]), name='eb2')\n",
    "\n",
    "e3s = dec_in_size\n",
    "ew3 = tf.Variable(init_enc([e2s, e3s]), name='ew3')\n",
    "eb3 = tf.Variable(init_enc([e3s]), name='eb3')\n",
    "\n",
    "d1s = 50\n",
    "dw1 = tf.Variable(init_dec([dec_in_size, d1s]), name='dw1')\n",
    "db1 = tf.Variable(init_dec([d1s]), name='db1')\n",
    "\n",
    "d2s = 200\n",
    "dw2 = tf.Variable(init_dec([d1s, d2s]), name='dw2')\n",
    "db2 = tf.Variable(init_dec([d2s]), name='db2')\n",
    "\n",
    "d3s = enc_in_size\n",
    "dw3 = tf.Variable(init_dec([d2s, d3s]), name='dw3')\n",
    "db3 = tf.Variable(init_dec([d3s]), name='db3')\n",
    "\n",
    "theta = [ew1, eb1, ew2, eb2, ew3, eb3,dw1, db1, dw2, db2, dw3, db3]"
   ]
  },
  {
   "cell_type": "code",
   "execution_count": 48,
   "metadata": {},
   "outputs": [],
   "source": [
    "def encoder(x, keep_prob=0.9):\n",
    "    \n",
    "    e0 = tf.nn.relu(tf.matmul(x, ew1) + eb1)\n",
    "    e1 = tf.nn.relu(tf.matmul(tf.nn.dropout(e0, keep_prob), ew2) + eb2)\n",
    "    e2 = tf.nn.relu(tf.matmul(tf.nn.dropout(e1, keep_prob), ew3) + eb3)\n",
    "    \n",
    "    return e2\n",
    "\n",
    "def decoder(x, keep_prob=0.9):\n",
    "    \n",
    "    d0 = tf.nn.relu(tf.matmul(x, dw1) + db1)\n",
    "    d1 = tf.nn.relu(tf.matmul(tf.nn.dropout(d0, keep_prob), dw2) + db2)\n",
    "    d2 = tf.nn.sigmoid(tf.matmul(tf.nn.dropout(d1, keep_prob), dw3) + db3)\n",
    "    \n",
    "    return d2"
   ]
  },
  {
   "cell_type": "code",
   "execution_count": 49,
   "metadata": {},
   "outputs": [],
   "source": [
    "comp = encoder(e_in)\n",
    "reco = decoder(comp)\n",
    "\n",
    "synthesized = decoder(synth_in)\n",
    "\n",
    "loss = tf.reduce_mean(tf.square(tf.subtract(e_in,reco)))\n",
    "\n",
    "optimizer = tf.train.AdamOptimizer(learning_rate).minimize(loss, var_list=theta)"
   ]
  },
  {
   "cell_type": "code",
   "execution_count": null,
   "metadata": {},
   "outputs": [
    {
     "name": "stdout",
     "output_type": "stream",
     "text": [
      "Optimization step 0 -> Loss = 0.231605\n",
      "\n",
      "Optimization step 100 -> Loss = 0.0586627\n",
      "\n",
      "Optimization step 200 -> Loss = 0.0425584\n",
      "\n",
      "Optimization step 300 -> Loss = 0.0390264\n",
      "\n",
      "Optimization step 400 -> Loss = 0.0339382\n",
      "\n",
      "Optimization step 500 -> Loss = 0.035253\n",
      "\n",
      "Optimization step 600 -> Loss = 0.0324271\n",
      "\n",
      "Optimization step 700 -> Loss = 0.0295333\n",
      "\n",
      "Optimization step 800 -> Loss = 0.0318614\n",
      "\n",
      "Optimization step 900 -> Loss = 0.0289892\n",
      "\n",
      "Optimization step 1000 -> Loss = 0.0298959\n",
      "\n",
      "Optimization step 1100 -> Loss = 0.0303959\n",
      "\n",
      "Optimization step 1200 -> Loss = 0.0309668\n",
      "\n",
      "Optimization step 1300 -> Loss = 0.0273861\n",
      "\n",
      "Optimization step 1400 -> Loss = 0.0293873\n",
      "\n",
      "Optimization step 1500 -> Loss = 0.0259834\n",
      "\n",
      "Optimization step 1600 -> Loss = 0.0275777\n",
      "\n",
      "Optimization step 1700 -> Loss = 0.0291623\n",
      "\n",
      "Optimization step 1800 -> Loss = 0.0271355\n",
      "\n",
      "Optimization step 1900 -> Loss = 0.025421\n",
      "\n",
      "Concluded training phase.\n",
      "\n",
      "What would you like to do next? synthesize\n"
     ]
    },
    {
     "data": {
      "image/png": "[encoded data removed]",
      "text/plain": [
       "<matplotlib.figure.Figure at 0x27994da24e0>"
      ]
     },
     "metadata": {},
     "output_type": "display_data"
    },
    {
     "name": "stdout",
     "output_type": "stream",
     "text": [
      "What would you like to do next? synthesize\n"
     ]
    },
    {
     "data": {
      "image/png": "[encoded data removed]",
      "text/plain": [
       "<matplotlib.figure.Figure at 0x279801a2b38>"
      ]
     },
     "metadata": {},
     "output_type": "display_data"
    }
   ],
   "source": [
    "init = tf.global_variables_initializer()\n",
    "\n",
    "with tf.Session() as sess:\n",
    "    \n",
    "    sess.run(init)\n",
    "    \n",
    "    for k in range(training_iter):\n",
    "        \n",
    "        batch_raw = mnist.train.next_batch(batch_size)\n",
    "        batch = np.reshape(batch_raw[0].flatten(),[batch_size,784])\n",
    "        \n",
    "        l, opt = sess.run([loss, optimizer], feed_dict={\n",
    "            e_in: batch\n",
    "        })\n",
    "        \n",
    "        if k%disp_step==0:\n",
    "            print('Optimization step '+str(k)+' -> Loss = '+str(l)+'\\n')\n",
    "            \n",
    "    \n",
    "    print('Concluded training phase.\\n')\n",
    "        \n",
    "    exit = False\n",
    "    while not exit:\n",
    "        \n",
    "            requ = input('What would you like to do next? ')\n",
    "        \n",
    "            if requ=='exit':\n",
    "                exit = True\n",
    "            elif requ=='test accuracy':\n",
    "                #TODO\n",
    "                print('accuracy measure launched\\n')\n",
    "            elif requ=='synthesize':\n",
    "                test_pdf_in = np.reshape(synth_pdf_vec(dec_in_size),[1,dec_in_size])\n",
    "                syn = sess.run(synthesized, feed_dict={\n",
    "                    synth_in:test_pdf_in\n",
    "                }) \n",
    "                plt.imshow(np.reshape(syn,(28,28)))\n",
    "                plt.title('Synthesized image')\n",
    "                plt.show()\n",
    "            elif requ=='test single':\n",
    "                print('Pulling random test image...\\n')\n",
    "                test_img = mnist.train.next_batch(1)[0]\n",
    "                plt.imshow(np.reshape(test_img,(28,28)))\n",
    "                plt.title('Original image')\n",
    "                plt.show()\n",
    "                aec_input = np.reshape(test_img.flatten(),[1,784])\n",
    "                reco_img, inter_comp = sess.run([reco, comp], feed_dict={\n",
    "                    e_in: test_img\n",
    "                })\n",
    "                plt.imshow(np.reshape(reco_img,(28,28)))\n",
    "                plt.title('Reconstructed image')\n",
    "                plt.show()\n",
    "                plt.hist(test_img.flatten(), bins=100)\n",
    "                plt.title('Original image histogram')\n",
    "                plt.show()\n",
    "                plt.hist(inter_comp.flatten(), bins=100)\n",
    "                plt.title('Decoder input histogram')\n",
    "                plt.show()\n",
    "                plt.hist(reco_img.flatten(), bins=100)\n",
    "                plt.title('Decoder output histogram')\n",
    "                plt.show()\n",
    "            elif requ=='charm':\n",
    "                print('You\\'re looking exceptionally handsome today, sweetie ;)')\n",
    "            else:\n",
    "                print('Did not understand input, sorry...\\n')\n",
    "        \n",
    "    sess.close()\n",
    "    \n",
    "print('All done!')"
   ]
  },
  {
   "cell_type": "code",
   "execution_count": null,
   "metadata": {},
   "outputs": [],
   "source": []
  }
 ],
 "metadata": {
  "kernelspec": {
   "display_name": "Python 3",
   "language": "python",
   "name": "python3"
  },
  "language_info": {
   "codemirror_mode": {
    "name": "ipython",
    "version": 3
   },
   "file_extension": ".py",
   "mimetype": "text/x-python",
   "name": "python",
   "nbconvert_exporter": "python",
   "pygments_lexer": "ipython3",
   "version": "3.6.5"
  }
 },
 "nbformat": 4,
 "nbformat_minor": 2
}
