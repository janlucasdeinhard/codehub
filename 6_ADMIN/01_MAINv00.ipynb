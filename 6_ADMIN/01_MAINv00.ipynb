{
 "cells": [
  {
   "cell_type": "code",
   "execution_count": 1,
   "metadata": {},
   "outputs": [
    {
     "name": "stderr",
     "output_type": "stream",
     "text": [
      "Using TensorFlow backend.\n"
     ]
    }
   ],
   "source": [
    "%matplotlib inline\n",
    "\n",
    "import numpy as np\n",
    "from matplotlib import pyplot as plt\n",
    "from numpy import random as rnd\n",
    "import warnings,datetime,os,calendar,csv,time\n",
    "\n",
    "import pickle,h5py,json\n",
    "\n",
    "import tensorflow as tf\n",
    "import pandas as pd\n",
    "import seaborn as sns\n",
    "\n",
    "from keras.models import Model,Sequential\n",
    "from keras.layers import Dense,LSTM,Conv2D,Dropout,BatchNormalization,Input,Concatenate,Add,Activation,MaxPooling2D,AveragePooling2D\n",
    "import keras.backend as K\n",
    "\n",
    "from sklearn import preprocessing as pp\n",
    "from sklearn.cluster import KMeans,DBSCAN,MeanShift,AgglomerativeClustering\n",
    "from sklearn.mixture import GaussianMixture\n",
    "\n",
    "from statsmodels.tsa.seasonal import seasonal_decompose\n",
    "\n",
    "from ipywidgets import interact\n",
    "\n",
    "sns.set()\n",
    "warnings.filterwarnings('ignore')"
   ]
  },
  {
   "cell_type": "code",
   "execution_count": 2,
   "metadata": {},
   "outputs": [],
   "source": [
    "class SimilarityEncoder:\n",
    "    \n",
    "    from nltk.util import ngrams\n",
    "    def __init__(self,n=3):\n",
    "        self.fitted = False\n",
    "        self.n = n\n",
    "        \n",
    "        self.nlist = []\n",
    "        self.corpus = []\n",
    "        \n",
    "        self.M = np.empty(shape=[1,1])\n",
    "        \n",
    "    def fit(self,corpus):\n",
    "        self.corpus = corpus\n",
    "        for w in self.corpus:\n",
    "            for k in ngrams(w,n=self.n):\n",
    "                self.nlist.append(k)\n",
    "        self.nlist = [''.join(k) for k in set(self.nlist)]\n",
    "        \n",
    "        self.M = np.zeros(shape=[len(self.corpus),len(self.nlist)])\n",
    "        for p in self.corpus:\n",
    "            for w in self.nlist:\n",
    "                if w in [''.join(k) for k in ngrams(p,n=self.n)]: \n",
    "                    self.M[self.corpus.index(p),self.nlist.index(w)] = 1\n",
    "        self.fitted = True\n",
    "        return\n",
    "    \n",
    "    def transform(self,phrase):\n",
    "        assert self.fitted,'Encoder has to be fitted before using it, please call the <SimilarityEncoder.fit> method first.'\n",
    "        v = np.zeros(shape=[len(self.nlist)])\n",
    "        for w in self.nlist:\n",
    "            if w in [''.join(k) for k in ngrams(phrase.lower(),n=self.n)]:\n",
    "                v[self.nlist.index(w)] = 1\n",
    "        r = np.dot(self.M,v)\n",
    "        rf = pd.DataFrame(index=self.corpus,columns=['Similarity'])\n",
    "        rf['Similarity'] = r/len(list(ngrams(phrase.lower(),n=self.n)))\n",
    "        return rf.sort_values(by=['Similarity'],ascending=False)"
   ]
  },
  {
   "cell_type": "code",
   "execution_count": 4,
   "metadata": {},
   "outputs": [],
   "source": [
    "bf = pd.read_excel('..\\\\..\\\\TF_data\\\\ADMIN\\\\01\\\\20191003.xlsx')\n",
    "\n",
    "bf['Buchungstag'] = pd.to_datetime(bf['Buchungstag'],format='%d.%m.%y')\n",
    "bf['Valutadatum'] = pd.to_datetime(bf['Valutadatum'],format='%d.%m.%y')"
   ]
  },
  {
   "cell_type": "code",
   "execution_count": 5,
   "metadata": {},
   "outputs": [
    {
     "data": {
      "text/html": [
       "<div>\n",
       "<style scoped>\n",
       "    .dataframe tbody tr th:only-of-type {\n",
       "        vertical-align: middle;\n",
       "    }\n",
       "\n",
       "    .dataframe tbody tr th {\n",
       "        vertical-align: top;\n",
       "    }\n",
       "\n",
       "    .dataframe thead th {\n",
       "        text-align: right;\n",
       "    }\n",
       "</style>\n",
       "<table border=\"1\" class=\"dataframe\">\n",
       "  <thead>\n",
       "    <tr style=\"text-align: right;\">\n",
       "      <th></th>\n",
       "      <th>Auftragskonto</th>\n",
       "      <th>Buchungstag</th>\n",
       "      <th>Valutadatum</th>\n",
       "      <th>Buchungstext</th>\n",
       "      <th>Verwendungszweck</th>\n",
       "      <th>Glaeubiger ID</th>\n",
       "      <th>Mandatsreferenz</th>\n",
       "      <th>Kundenreferenz (End-to-End)</th>\n",
       "      <th>Sammlerreferenz</th>\n",
       "      <th>Lastschrift Ursprungsbetrag</th>\n",
       "      <th>Auslagenersatz Ruecklastschrift</th>\n",
       "      <th>Beguenstigter/Zahlungspflichtiger</th>\n",
       "      <th>Kontonummer/IBAN</th>\n",
       "      <th>BIC (SWIFT-Code)</th>\n",
       "      <th>Betrag</th>\n",
       "      <th>Waehrung</th>\n",
       "      <th>Info</th>\n",
       "    </tr>\n",
       "  </thead>\n",
       "  <tbody>\n",
       "    <tr>\n",
       "      <td>0</td>\n",
       "      <td>DE98773501100020557849</td>\n",
       "      <td>2019-09-30</td>\n",
       "      <td>2019-10-01</td>\n",
       "      <td>ABSCHLUSS</td>\n",
       "      <td>Abrechnung 30.09.2019 siehe Anlage</td>\n",
       "      <td>NaN</td>\n",
       "      <td>NaN</td>\n",
       "      <td>NaN</td>\n",
       "      <td>NaN</td>\n",
       "      <td>NaN</td>\n",
       "      <td>NaN</td>\n",
       "      <td>NaN</td>\n",
       "      <td>20557849</td>\n",
       "      <td>77350110</td>\n",
       "      <td>0.00</td>\n",
       "      <td>EUR</td>\n",
       "      <td>Umsatz gebucht</td>\n",
       "    </tr>\n",
       "    <tr>\n",
       "      <td>1</td>\n",
       "      <td>DE98773501100020557849</td>\n",
       "      <td>2019-09-30</td>\n",
       "      <td>2019-10-01</td>\n",
       "      <td>ENTGELTABSCHLUSS</td>\n",
       "      <td>Entgeltabrechnung siehe Anlage</td>\n",
       "      <td>NaN</td>\n",
       "      <td>NaN</td>\n",
       "      <td>NaN</td>\n",
       "      <td>NaN</td>\n",
       "      <td>NaN</td>\n",
       "      <td>NaN</td>\n",
       "      <td>NaN</td>\n",
       "      <td>0</td>\n",
       "      <td>77350110</td>\n",
       "      <td>-4.50</td>\n",
       "      <td>EUR</td>\n",
       "      <td>Umsatz gebucht</td>\n",
       "    </tr>\n",
       "    <tr>\n",
       "      <td>2</td>\n",
       "      <td>DE98773501100020557849</td>\n",
       "      <td>2019-09-30</td>\n",
       "      <td>2019-09-30</td>\n",
       "      <td>DAUERAUFTRAG</td>\n",
       "      <td>Miete fuer Haesschen, du bist toll :)</td>\n",
       "      <td>NaN</td>\n",
       "      <td>NaN</td>\n",
       "      <td>NaN</td>\n",
       "      <td>NaN</td>\n",
       "      <td>NaN</td>\n",
       "      <td>NaN</td>\n",
       "      <td>Elaine Fernandez</td>\n",
       "      <td>DE46763500000044116613</td>\n",
       "      <td>BYLADEM1ERH</td>\n",
       "      <td>-235.00</td>\n",
       "      <td>EUR</td>\n",
       "      <td>Umsatz gebucht</td>\n",
       "    </tr>\n",
       "    <tr>\n",
       "      <td>3</td>\n",
       "      <td>DE98773501100020557849</td>\n",
       "      <td>2019-09-30</td>\n",
       "      <td>2019-09-30</td>\n",
       "      <td>FOLGELASTSCHRIFT</td>\n",
       "      <td>V-Nr. 47589 09-19 Beitrag 24.90</td>\n",
       "      <td>DE55ZZZ00000122751</td>\n",
       "      <td>1e24299e271c466393f4127c29acca16</td>\n",
       "      <td>118-47589</td>\n",
       "      <td>NaN</td>\n",
       "      <td>NaN</td>\n",
       "      <td>NaN</td>\n",
       "      <td>SLF Sportland Franken GmbH &amp; Co. KG</td>\n",
       "      <td>DE88763500000000062725</td>\n",
       "      <td>BYLADEM1ERH</td>\n",
       "      <td>-24.90</td>\n",
       "      <td>EUR</td>\n",
       "      <td>Umsatz gebucht</td>\n",
       "    </tr>\n",
       "    <tr>\n",
       "      <td>4</td>\n",
       "      <td>DE98773501100020557849</td>\n",
       "      <td>2019-09-30</td>\n",
       "      <td>2019-09-30</td>\n",
       "      <td>FOLGELASTSCHRIFT</td>\n",
       "      <td>300919 15194815 610971995391 SIEMENS CASINO CA...</td>\n",
       "      <td>DE2499700000150275</td>\n",
       "      <td>79977997OPA0000000000000320904</td>\n",
       "      <td>20190914616254176</td>\n",
       "      <td>NaN</td>\n",
       "      <td>NaN</td>\n",
       "      <td>NaN</td>\n",
       "      <td>Siemens Aktiengesellschaft</td>\n",
       "      <td>DE53700700100203008800</td>\n",
       "      <td>DEUTDEMMXXX</td>\n",
       "      <td>-66.89</td>\n",
       "      <td>EUR</td>\n",
       "      <td>Umsatz gebucht</td>\n",
       "    </tr>\n",
       "    <tr>\n",
       "      <td>...</td>\n",
       "      <td>...</td>\n",
       "      <td>...</td>\n",
       "      <td>...</td>\n",
       "      <td>...</td>\n",
       "      <td>...</td>\n",
       "      <td>...</td>\n",
       "      <td>...</td>\n",
       "      <td>...</td>\n",
       "      <td>...</td>\n",
       "      <td>...</td>\n",
       "      <td>...</td>\n",
       "      <td>...</td>\n",
       "      <td>...</td>\n",
       "      <td>...</td>\n",
       "      <td>...</td>\n",
       "      <td>...</td>\n",
       "      <td>...</td>\n",
       "    </tr>\n",
       "    <tr>\n",
       "      <td>129</td>\n",
       "      <td>DE98773501100020557849</td>\n",
       "      <td>2019-06-04</td>\n",
       "      <td>2019-06-04</td>\n",
       "      <td>FOLGELASTSCHRIFT</td>\n",
       "      <td>D01-7024908-5090217 Prime Video 46MBH24MG8R9STAW</td>\n",
       "      <td>DE96ZZZ00000594888</td>\n",
       "      <td>oc37jPPdyn(18.Jnwk(4ZmqelPv?vb</td>\n",
       "      <td>46MBH24MG8R9STAW</td>\n",
       "      <td>NaN</td>\n",
       "      <td>NaN</td>\n",
       "      <td>NaN</td>\n",
       "      <td>AMAZON INSTANT VIDEO GERMANY GMBH</td>\n",
       "      <td>DE07300308800013011001</td>\n",
       "      <td>TUBDDEDDXXX</td>\n",
       "      <td>-3.99</td>\n",
       "      <td>EUR</td>\n",
       "      <td>Umsatz gebucht</td>\n",
       "    </tr>\n",
       "    <tr>\n",
       "      <td>130</td>\n",
       "      <td>DE98773501100020557849</td>\n",
       "      <td>2019-06-04</td>\n",
       "      <td>2019-06-04</td>\n",
       "      <td>FOLGELASTSCHRIFT</td>\n",
       "      <td>D01-2458316-5317464 Prime Video 1JR4OX80IU4ZK5LZ</td>\n",
       "      <td>DE96ZZZ00000594888</td>\n",
       "      <td>oc37jPPdyn(18.Jnwk(4ZmqelPv?vb</td>\n",
       "      <td>1JR4OX80IU4ZK5LZ</td>\n",
       "      <td>NaN</td>\n",
       "      <td>NaN</td>\n",
       "      <td>NaN</td>\n",
       "      <td>AMAZON INSTANT VIDEO GERMANY GMBH</td>\n",
       "      <td>DE07300308800013011001</td>\n",
       "      <td>TUBDDEDDXXX</td>\n",
       "      <td>-3.99</td>\n",
       "      <td>EUR</td>\n",
       "      <td>Umsatz gebucht</td>\n",
       "    </tr>\n",
       "    <tr>\n",
       "      <td>131</td>\n",
       "      <td>DE98773501100020557849</td>\n",
       "      <td>2019-06-04</td>\n",
       "      <td>2019-06-04</td>\n",
       "      <td>FOLGELASTSCHRIFT</td>\n",
       "      <td>D01-3694464-4872643 Prime Video 43YYC08FGLD26R5H</td>\n",
       "      <td>DE96ZZZ00000594888</td>\n",
       "      <td>oc37jPPdyn(18.Jnwk(4ZmqelPv?vb</td>\n",
       "      <td>43YYC08FGLD26R5H</td>\n",
       "      <td>NaN</td>\n",
       "      <td>NaN</td>\n",
       "      <td>NaN</td>\n",
       "      <td>AMAZON INSTANT VIDEO GERMANY GMBH</td>\n",
       "      <td>DE07300308800013011001</td>\n",
       "      <td>TUBDDEDDXXX</td>\n",
       "      <td>-3.99</td>\n",
       "      <td>EUR</td>\n",
       "      <td>Umsatz gebucht</td>\n",
       "    </tr>\n",
       "    <tr>\n",
       "      <td>132</td>\n",
       "      <td>DE98773501100020557849</td>\n",
       "      <td>2019-06-03</td>\n",
       "      <td>2019-06-03</td>\n",
       "      <td>KARTENZAHLUNG</td>\n",
       "      <td>2019-06-01T11:40 Debitk.5 2021-12</td>\n",
       "      <td>NaN</td>\n",
       "      <td>NaN</td>\n",
       "      <td>56023048203931998163566592</td>\n",
       "      <td>NaN</td>\n",
       "      <td>NaN</td>\n",
       "      <td>NaN</td>\n",
       "      <td>REWE SAGT DANKE. 46659170//Erlangen/DE</td>\n",
       "      <td>DE41300500000001484310</td>\n",
       "      <td>WELADEDDXXX</td>\n",
       "      <td>-71.90</td>\n",
       "      <td>EUR</td>\n",
       "      <td>Umsatz gebucht</td>\n",
       "    </tr>\n",
       "    <tr>\n",
       "      <td>133</td>\n",
       "      <td>DE98773501100020557849</td>\n",
       "      <td>2019-06-03</td>\n",
       "      <td>2019-06-03</td>\n",
       "      <td>GUTSCHR. UEBERW. DAUERAUFTR</td>\n",
       "      <td>TASCHENGELD</td>\n",
       "      <td>NaN</td>\n",
       "      <td>NaN</td>\n",
       "      <td>NaN</td>\n",
       "      <td>NaN</td>\n",
       "      <td>NaN</td>\n",
       "      <td>NaN</td>\n",
       "      <td>Hermann Kuespert</td>\n",
       "      <td>DE80773501100020085395</td>\n",
       "      <td>BYLADEM1SBT</td>\n",
       "      <td>200.00</td>\n",
       "      <td>EUR</td>\n",
       "      <td>Umsatz gebucht</td>\n",
       "    </tr>\n",
       "  </tbody>\n",
       "</table>\n",
       "<p>134 rows × 17 columns</p>\n",
       "</div>"
      ],
      "text/plain": [
       "              Auftragskonto Buchungstag Valutadatum  \\\n",
       "0    DE98773501100020557849  2019-09-30  2019-10-01   \n",
       "1    DE98773501100020557849  2019-09-30  2019-10-01   \n",
       "2    DE98773501100020557849  2019-09-30  2019-09-30   \n",
       "3    DE98773501100020557849  2019-09-30  2019-09-30   \n",
       "4    DE98773501100020557849  2019-09-30  2019-09-30   \n",
       "..                      ...         ...         ...   \n",
       "129  DE98773501100020557849  2019-06-04  2019-06-04   \n",
       "130  DE98773501100020557849  2019-06-04  2019-06-04   \n",
       "131  DE98773501100020557849  2019-06-04  2019-06-04   \n",
       "132  DE98773501100020557849  2019-06-03  2019-06-03   \n",
       "133  DE98773501100020557849  2019-06-03  2019-06-03   \n",
       "\n",
       "                    Buchungstext  \\\n",
       "0                      ABSCHLUSS   \n",
       "1               ENTGELTABSCHLUSS   \n",
       "2                   DAUERAUFTRAG   \n",
       "3               FOLGELASTSCHRIFT   \n",
       "4               FOLGELASTSCHRIFT   \n",
       "..                           ...   \n",
       "129             FOLGELASTSCHRIFT   \n",
       "130             FOLGELASTSCHRIFT   \n",
       "131             FOLGELASTSCHRIFT   \n",
       "132                KARTENZAHLUNG   \n",
       "133  GUTSCHR. UEBERW. DAUERAUFTR   \n",
       "\n",
       "                                      Verwendungszweck       Glaeubiger ID  \\\n",
       "0                  Abrechnung 30.09.2019 siehe Anlage                  NaN   \n",
       "1                      Entgeltabrechnung siehe Anlage                  NaN   \n",
       "2               Miete fuer Haesschen, du bist toll :)                  NaN   \n",
       "3                     V-Nr. 47589 09-19 Beitrag 24.90   DE55ZZZ00000122751   \n",
       "4    300919 15194815 610971995391 SIEMENS CASINO CA...  DE2499700000150275   \n",
       "..                                                 ...                 ...   \n",
       "129  D01-7024908-5090217 Prime Video 46MBH24MG8R9STAW   DE96ZZZ00000594888   \n",
       "130  D01-2458316-5317464 Prime Video 1JR4OX80IU4ZK5LZ   DE96ZZZ00000594888   \n",
       "131  D01-3694464-4872643 Prime Video 43YYC08FGLD26R5H   DE96ZZZ00000594888   \n",
       "132                 2019-06-01T11:40 Debitk.5 2021-12                  NaN   \n",
       "133                                       TASCHENGELD                  NaN   \n",
       "\n",
       "                      Mandatsreferenz Kundenreferenz (End-to-End)  \\\n",
       "0                                 NaN                         NaN   \n",
       "1                                 NaN                         NaN   \n",
       "2                                 NaN                         NaN   \n",
       "3    1e24299e271c466393f4127c29acca16                   118-47589   \n",
       "4      79977997OPA0000000000000320904           20190914616254176   \n",
       "..                                ...                         ...   \n",
       "129    oc37jPPdyn(18.Jnwk(4ZmqelPv?vb            46MBH24MG8R9STAW   \n",
       "130    oc37jPPdyn(18.Jnwk(4ZmqelPv?vb            1JR4OX80IU4ZK5LZ   \n",
       "131    oc37jPPdyn(18.Jnwk(4ZmqelPv?vb            43YYC08FGLD26R5H   \n",
       "132                               NaN  56023048203931998163566592   \n",
       "133                               NaN                         NaN   \n",
       "\n",
       "     Sammlerreferenz  Lastschrift Ursprungsbetrag  \\\n",
       "0                NaN                          NaN   \n",
       "1                NaN                          NaN   \n",
       "2                NaN                          NaN   \n",
       "3                NaN                          NaN   \n",
       "4                NaN                          NaN   \n",
       "..               ...                          ...   \n",
       "129              NaN                          NaN   \n",
       "130              NaN                          NaN   \n",
       "131              NaN                          NaN   \n",
       "132              NaN                          NaN   \n",
       "133              NaN                          NaN   \n",
       "\n",
       "     Auslagenersatz Ruecklastschrift       Beguenstigter/Zahlungspflichtiger  \\\n",
       "0                                NaN                                     NaN   \n",
       "1                                NaN                                     NaN   \n",
       "2                                NaN                        Elaine Fernandez   \n",
       "3                                NaN     SLF Sportland Franken GmbH & Co. KG   \n",
       "4                                NaN              Siemens Aktiengesellschaft   \n",
       "..                               ...                                     ...   \n",
       "129                              NaN       AMAZON INSTANT VIDEO GERMANY GMBH   \n",
       "130                              NaN       AMAZON INSTANT VIDEO GERMANY GMBH   \n",
       "131                              NaN       AMAZON INSTANT VIDEO GERMANY GMBH   \n",
       "132                              NaN  REWE SAGT DANKE. 46659170//Erlangen/DE   \n",
       "133                              NaN                        Hermann Kuespert   \n",
       "\n",
       "           Kontonummer/IBAN BIC (SWIFT-Code)  Betrag Waehrung            Info  \n",
       "0                  20557849         77350110    0.00      EUR  Umsatz gebucht  \n",
       "1                         0         77350110   -4.50      EUR  Umsatz gebucht  \n",
       "2    DE46763500000044116613      BYLADEM1ERH -235.00      EUR  Umsatz gebucht  \n",
       "3    DE88763500000000062725      BYLADEM1ERH  -24.90      EUR  Umsatz gebucht  \n",
       "4    DE53700700100203008800      DEUTDEMMXXX  -66.89      EUR  Umsatz gebucht  \n",
       "..                      ...              ...     ...      ...             ...  \n",
       "129  DE07300308800013011001      TUBDDEDDXXX   -3.99      EUR  Umsatz gebucht  \n",
       "130  DE07300308800013011001      TUBDDEDDXXX   -3.99      EUR  Umsatz gebucht  \n",
       "131  DE07300308800013011001      TUBDDEDDXXX   -3.99      EUR  Umsatz gebucht  \n",
       "132  DE41300500000001484310      WELADEDDXXX  -71.90      EUR  Umsatz gebucht  \n",
       "133  DE80773501100020085395      BYLADEM1SBT  200.00      EUR  Umsatz gebucht  \n",
       "\n",
       "[134 rows x 17 columns]"
      ]
     },
     "execution_count": 5,
     "metadata": {},
     "output_type": "execute_result"
    }
   ],
   "source": [
    "bf"
   ]
  },
  {
   "cell_type": "code",
   "execution_count": 5,
   "metadata": {},
   "outputs": [],
   "source": [
    "df = bf[['Buchungstag','Valutadatum','Buchungstext','Verwendungszweck','Beguenstigter/Zahlungspflichtiger','Kontonummer/IBAN','Betrag']].rename(columns={\n",
    "    'Valutadatum':'Date', \n",
    "    'Buchungstag':'Date_booked', \n",
    "    'Buchungstext':'Text', \n",
    "    'Verwendungszweck':'Use',\n",
    "    'Beguenstigter/Zahlungspflichtiger':'CONTACT', \n",
    "    'Kontonummer/IBAN':'AccNum', \n",
    "    'Betrag':'Value'\n",
    "})"
   ]
  },
  {
   "cell_type": "code",
   "execution_count": 6,
   "metadata": {},
   "outputs": [
    {
     "data": {
      "text/plain": [
       "<matplotlib.axes._subplots.AxesSubplot at 0x23091174f28>"
      ]
     },
     "execution_count": 6,
     "metadata": {},
     "output_type": "execute_result"
    },
    {
     "data": {
      "image/png": "[encoded data removed]",
      "text/plain": [
       "<Figure size 432x288 with 1 Axes>"
      ]
     },
     "metadata": {},
     "output_type": "display_data"
    }
   ],
   "source": [
    "df[['Date','Value']].groupby(['Date']).sum().plot()"
   ]
  },
  {
   "cell_type": "code",
   "execution_count": 7,
   "metadata": {},
   "outputs": [],
   "source": [
    "idx = pd.date_range(df['Date'].min(),df['Date'].max())"
   ]
  },
  {
   "cell_type": "code",
   "execution_count": 8,
   "metadata": {},
   "outputs": [],
   "source": [
    "df0 = df[['Date','Value']].groupby(['Date']).sum().reindex(idx,fill_value=0)"
   ]
  },
  {
   "cell_type": "code",
   "execution_count": 9,
   "metadata": {},
   "outputs": [
    {
     "data": {
      "text/plain": [
       "<matplotlib.axes._subplots.AxesSubplot at 0x230932b85f8>"
      ]
     },
     "execution_count": 9,
     "metadata": {},
     "output_type": "execute_result"
    },
    {
     "data": {
      "image/png": "[encoded data removed]",
      "text/plain": [
       "<Figure size 432x288 with 1 Axes>"
      ]
     },
     "metadata": {},
     "output_type": "display_data"
    }
   ],
   "source": [
    "df0.cumsum().plot()"
   ]
  },
  {
   "cell_type": "code",
   "execution_count": 10,
   "metadata": {
    "scrolled": false
   },
   "outputs": [
    {
     "data": {
      "text/plain": [
       "<matplotlib.axes._subplots.AxesSubplot at 0x230942fb438>"
      ]
     },
     "execution_count": 10,
     "metadata": {},
     "output_type": "execute_result"
    },
    {
     "data": {
      "image/png": "[encoded data removed]",
      "text/plain": [
       "<Figure size 432x288 with 1 Axes>"
      ]
     },
     "metadata": {},
     "output_type": "display_data"
    }
   ],
   "source": [
    "df0.plot()"
   ]
  },
  {
   "cell_type": "code",
   "execution_count": 11,
   "metadata": {},
   "outputs": [
    {
     "data": {
      "image/png": "[encoded data removed]",
      "text/plain": [
       "<Figure size 432x288 with 4 Axes>"
      ]
     },
     "metadata": {},
     "output_type": "display_data"
    }
   ],
   "source": [
    "seasonal_decompose(df0).plot()\n",
    "plt.show()"
   ]
  },
  {
   "cell_type": "code",
   "execution_count": 12,
   "metadata": {},
   "outputs": [],
   "source": [
    "df1 = df[['Date','Text','CONTACT','AccNum','Value']]\n",
    "df1['Count'] = 1"
   ]
  },
  {
   "cell_type": "code",
   "execution_count": 13,
   "metadata": {},
   "outputs": [],
   "source": [
    "df2 = df1[['CONTACT','Count','Value']].groupby(['CONTACT']).sum().sort_values(by='Count',ascending=False).reset_index()"
   ]
  },
  {
   "cell_type": "code",
   "execution_count": 14,
   "metadata": {},
   "outputs": [],
   "source": [
    "recurrent_labels = [\n",
    "    'Siemens BKK',\n",
    "    'ESTW-ERLANGERSTADTWERKEAG',\n",
    "    'JENS MOELLER GMBH',\n",
    "    'Siemens Aktiengesellschaft',\n",
    "    'Siemens AG',\n",
    "    'SLF Sportland Franken GmbH & Co. KG',\n",
    "    'M-net Telekommunikations GmbH',\n",
    "    'Telekom Deutschland GmbH                                              Landgrabenweg 151',\n",
    "    'SCHAEFER NOHE SAGT DANKE//ERLANGEN/DE',\n",
    "    'IGM Erlangen',\n",
    "    'Elaine Fernandez'\n",
    "]\n",
    "\n",
    "df3 = df[df['CONTACT'].apply(lambda x: str(x) in recurrent_labels)]\n",
    "df3['Count'] = 1\n",
    "\n",
    "df_recurring = df3[['CONTACT','Value']].groupby(['CONTACT']).mean()\n",
    "df_recurring['Count'] = df3[['CONTACT','Count']].groupby(['CONTACT']).sum()['Count']\n",
    "df_recurring['TotalValue'] = df3[['CONTACT','Value']].groupby(['CONTACT']).sum()\n",
    "\n",
    "df_recurring = df_recurring.sort_values(by=['TotalValue'])"
   ]
  },
  {
   "cell_type": "code",
   "execution_count": 15,
   "metadata": {},
   "outputs": [],
   "source": [
    "shopping_labels = [\n",
    "    'KARSTADT LEBENSM. SAGT DANK//Nuernberg Lorenz/DE',\n",
    "    'REWE SAGT DANKE. 46659170//Erlangen/DE',\n",
    "    'ALDI GMBH + CO. KG//ERLANGEN/DE',\n",
    "    'NETTO MARKEN-DISCOU.',\n",
    "    'Kaufland Erlangen//Erlangen/DE',\n",
    "    'tegut... gute Lebensmittel GmbH + Co. KG',\n",
    "    'XXXS006XXX SATURN E//NUERNBERG/DE',\n",
    "    'DM FIL.1323 H:65239//ERLANGEN/DE',\n",
    "    'Tiger Deutschland GmbH//Erlangen/DE/0'\n",
    "]\n",
    "\n",
    "entertainment_labels = [\n",
    "    'Frisoer Klier 1283//Erlangen/DE',\n",
    "    'L Osteria Erlangen//Erlangen/DE',\n",
    "    'YORMA S AG//PLATTLING/DE',\n",
    "    'Mr. Bleck//Erlangen/DE/0',\n",
    "    'NBG HBF DUNKIN DONUTS//Nuernberg/DE',\n",
    "    'AMAZON INSTANT VIDEO GERMANY GMBH'\n",
    "]\n",
    "\n",
    "excluded_labels = [\n",
    "    'Angelika Deinhard',\n",
    "    'DEINHARD FRANZ U BRI',\n",
    "    'ELAINE FERNANDEZ',\n",
    "    'Hermann Kuespert',\n",
    "    'DekaBank Deutsche Girozentrale                                        Mainzer Landstr. 16',\n",
    "    'ESTW - ERLANGER STADTWERKE AG'\n",
    "]\n",
    "\n",
    "df4 = df[df['CONTACT'].apply(lambda x: str(x) not in recurrent_labels)]\n",
    "\n",
    "df4 = df4.drop(index=df4[df4['CONTACT'].apply(lambda x: str(x) in excluded_labels)].index)\n",
    "\n",
    "df4['CONTACT'] = df4['CONTACT'].apply(lambda x: 'SPARKASSE' if 'sparkasse' in str(x).lower() else x)\n",
    "df4['CONTACT'] = df4['CONTACT'].apply(lambda x: 'SHOPPING' if str(x) in shopping_labels else x)\n",
    "df4['CONTACT'] = df4['CONTACT'].apply(lambda x: 'ENTERTAINMENT' if str(x) in entertainment_labels else x)\n",
    "\n",
    "df4['Count'] = 1\n",
    "\n",
    "df_singular = df4[['CONTACT','Value']].groupby(['CONTACT']).mean()\n",
    "df_singular['Count'] = df4[['CONTACT','Count']].groupby(['CONTACT']).sum()['Count']\n",
    "df_singular['TotalValue'] = df4[['CONTACT','Value']].groupby(['CONTACT']).sum()\n",
    "\n",
    "df_singular = df_singular.sort_values(by=['TotalValue'])"
   ]
  },
  {
   "cell_type": "code",
   "execution_count": 16,
   "metadata": {},
   "outputs": [
    {
     "data": {
      "text/html": [
       "<div>\n",
       "<style scoped>\n",
       "    .dataframe tbody tr th:only-of-type {\n",
       "        vertical-align: middle;\n",
       "    }\n",
       "\n",
       "    .dataframe tbody tr th {\n",
       "        vertical-align: top;\n",
       "    }\n",
       "\n",
       "    .dataframe thead th {\n",
       "        text-align: right;\n",
       "    }\n",
       "</style>\n",
       "<table border=\"1\" class=\"dataframe\">\n",
       "  <thead>\n",
       "    <tr style=\"text-align: right;\">\n",
       "      <th></th>\n",
       "      <th>Value</th>\n",
       "      <th>Count</th>\n",
       "      <th>TotalValue</th>\n",
       "    </tr>\n",
       "    <tr>\n",
       "      <th>CONTACT</th>\n",
       "      <th></th>\n",
       "      <th></th>\n",
       "      <th></th>\n",
       "    </tr>\n",
       "  </thead>\n",
       "  <tbody>\n",
       "    <tr>\n",
       "      <th>Elaine Fernandez</th>\n",
       "      <td>-235.000</td>\n",
       "      <td>5</td>\n",
       "      <td>-1175.00</td>\n",
       "    </tr>\n",
       "    <tr>\n",
       "      <th>SCHAEFER NOHE SAGT DANKE//ERLANGEN/DE</th>\n",
       "      <td>-79.800</td>\n",
       "      <td>5</td>\n",
       "      <td>-399.00</td>\n",
       "    </tr>\n",
       "    <tr>\n",
       "      <th>Telekom Deutschland GmbH                                              Landgrabenweg 151</th>\n",
       "      <td>-61.526</td>\n",
       "      <td>5</td>\n",
       "      <td>-307.63</td>\n",
       "    </tr>\n",
       "    <tr>\n",
       "      <th>Siemens Aktiengesellschaft</th>\n",
       "      <td>-71.110</td>\n",
       "      <td>4</td>\n",
       "      <td>-284.44</td>\n",
       "    </tr>\n",
       "    <tr>\n",
       "      <th>JENS MOELLER GMBH</th>\n",
       "      <td>-69.000</td>\n",
       "      <td>4</td>\n",
       "      <td>-276.00</td>\n",
       "    </tr>\n",
       "    <tr>\n",
       "      <th>ESTW-ERLANGERSTADTWERKEAG</th>\n",
       "      <td>-64.500</td>\n",
       "      <td>4</td>\n",
       "      <td>-258.00</td>\n",
       "    </tr>\n",
       "    <tr>\n",
       "      <th>M-net Telekommunikations GmbH</th>\n",
       "      <td>-29.900</td>\n",
       "      <td>5</td>\n",
       "      <td>-149.50</td>\n",
       "    </tr>\n",
       "    <tr>\n",
       "      <th>Siemens BKK</th>\n",
       "      <td>-70.540</td>\n",
       "      <td>2</td>\n",
       "      <td>-141.08</td>\n",
       "    </tr>\n",
       "    <tr>\n",
       "      <th>SLF Sportland Franken GmbH &amp; Co. KG</th>\n",
       "      <td>-24.900</td>\n",
       "      <td>5</td>\n",
       "      <td>-124.50</td>\n",
       "    </tr>\n",
       "    <tr>\n",
       "      <th>IGM Erlangen</th>\n",
       "      <td>-2.050</td>\n",
       "      <td>5</td>\n",
       "      <td>-10.25</td>\n",
       "    </tr>\n",
       "    <tr>\n",
       "      <th>Siemens AG</th>\n",
       "      <td>2291.260</td>\n",
       "      <td>5</td>\n",
       "      <td>11456.30</td>\n",
       "    </tr>\n",
       "  </tbody>\n",
       "</table>\n",
       "</div>"
      ],
      "text/plain": [
       "                                                       Value  Count  \\\n",
       "CONTACT                                                               \n",
       "Elaine Fernandez                                    -235.000      5   \n",
       "SCHAEFER NOHE SAGT DANKE//ERLANGEN/DE                -79.800      5   \n",
       "Telekom Deutschland GmbH                       ...   -61.526      5   \n",
       "Siemens Aktiengesellschaft                           -71.110      4   \n",
       "JENS MOELLER GMBH                                    -69.000      4   \n",
       "ESTW-ERLANGERSTADTWERKEAG                            -64.500      4   \n",
       "M-net Telekommunikations GmbH                        -29.900      5   \n",
       "Siemens BKK                                          -70.540      2   \n",
       "SLF Sportland Franken GmbH & Co. KG                  -24.900      5   \n",
       "IGM Erlangen                                          -2.050      5   \n",
       "Siemens AG                                          2291.260      5   \n",
       "\n",
       "                                                    TotalValue  \n",
       "CONTACT                                                         \n",
       "Elaine Fernandez                                      -1175.00  \n",
       "SCHAEFER NOHE SAGT DANKE//ERLANGEN/DE                  -399.00  \n",
       "Telekom Deutschland GmbH                       ...     -307.63  \n",
       "Siemens Aktiengesellschaft                             -284.44  \n",
       "JENS MOELLER GMBH                                      -276.00  \n",
       "ESTW-ERLANGERSTADTWERKEAG                              -258.00  \n",
       "M-net Telekommunikations GmbH                          -149.50  \n",
       "Siemens BKK                                            -141.08  \n",
       "SLF Sportland Franken GmbH & Co. KG                    -124.50  \n",
       "IGM Erlangen                                            -10.25  \n",
       "Siemens AG                                            11456.30  "
      ]
     },
     "execution_count": 16,
     "metadata": {},
     "output_type": "execute_result"
    }
   ],
   "source": [
    "df_recurring"
   ]
  },
  {
   "cell_type": "code",
   "execution_count": 17,
   "metadata": {},
   "outputs": [
    {
     "data": {
      "text/html": [
       "<div>\n",
       "<style scoped>\n",
       "    .dataframe tbody tr th:only-of-type {\n",
       "        vertical-align: middle;\n",
       "    }\n",
       "\n",
       "    .dataframe tbody tr th {\n",
       "        vertical-align: top;\n",
       "    }\n",
       "\n",
       "    .dataframe thead th {\n",
       "        text-align: right;\n",
       "    }\n",
       "</style>\n",
       "<table border=\"1\" class=\"dataframe\">\n",
       "  <thead>\n",
       "    <tr style=\"text-align: right;\">\n",
       "      <th></th>\n",
       "      <th>Value</th>\n",
       "      <th>Count</th>\n",
       "      <th>TotalValue</th>\n",
       "    </tr>\n",
       "    <tr>\n",
       "      <th>CONTACT</th>\n",
       "      <th></th>\n",
       "      <th></th>\n",
       "      <th></th>\n",
       "    </tr>\n",
       "  </thead>\n",
       "  <tbody>\n",
       "    <tr>\n",
       "      <th>KREDITKARTENABRECHNUNG</th>\n",
       "      <td>-309.496667</td>\n",
       "      <td>6</td>\n",
       "      <td>-1856.98</td>\n",
       "    </tr>\n",
       "    <tr>\n",
       "      <th>SPARKASSE</th>\n",
       "      <td>-42.380952</td>\n",
       "      <td>21</td>\n",
       "      <td>-890.00</td>\n",
       "    </tr>\n",
       "    <tr>\n",
       "      <th>SHOPPING</th>\n",
       "      <td>-32.925385</td>\n",
       "      <td>13</td>\n",
       "      <td>-428.03</td>\n",
       "    </tr>\n",
       "    <tr>\n",
       "      <th>ENTERTAINMENT</th>\n",
       "      <td>-6.115217</td>\n",
       "      <td>46</td>\n",
       "      <td>-281.30</td>\n",
       "    </tr>\n",
       "    <tr>\n",
       "      <th>PayPal (Europe) S.a.r.l. et Cie., S.C.A.</th>\n",
       "      <td>-21.082000</td>\n",
       "      <td>10</td>\n",
       "      <td>-210.82</td>\n",
       "    </tr>\n",
       "    <tr>\n",
       "      <th>GA NR00002630 BLZ77350110 5</th>\n",
       "      <td>-30.000000</td>\n",
       "      <td>1</td>\n",
       "      <td>-30.00</td>\n",
       "    </tr>\n",
       "  </tbody>\n",
       "</table>\n",
       "</div>"
      ],
      "text/plain": [
       "                                               Value  Count  TotalValue\n",
       "CONTACT                                                                \n",
       "KREDITKARTENABRECHNUNG                   -309.496667      6    -1856.98\n",
       "SPARKASSE                                 -42.380952     21     -890.00\n",
       "SHOPPING                                  -32.925385     13     -428.03\n",
       "ENTERTAINMENT                              -6.115217     46     -281.30\n",
       "PayPal (Europe) S.a.r.l. et Cie., S.C.A.  -21.082000     10     -210.82\n",
       "GA NR00002630 BLZ77350110 5               -30.000000      1      -30.00"
      ]
     },
     "execution_count": 17,
     "metadata": {},
     "output_type": "execute_result"
    }
   ],
   "source": [
    "df_singular"
   ]
  },
  {
   "cell_type": "code",
   "execution_count": 18,
   "metadata": {},
   "outputs": [
    {
     "data": {
      "text/html": [
       "<div>\n",
       "<style scoped>\n",
       "    .dataframe tbody tr th:only-of-type {\n",
       "        vertical-align: middle;\n",
       "    }\n",
       "\n",
       "    .dataframe tbody tr th {\n",
       "        vertical-align: top;\n",
       "    }\n",
       "\n",
       "    .dataframe thead th {\n",
       "        text-align: right;\n",
       "    }\n",
       "</style>\n",
       "<table border=\"1\" class=\"dataframe\">\n",
       "  <thead>\n",
       "    <tr style=\"text-align: right;\">\n",
       "      <th></th>\n",
       "      <th>Value</th>\n",
       "      <th>Count</th>\n",
       "      <th>TotalValue</th>\n",
       "    </tr>\n",
       "    <tr>\n",
       "      <th>CONTACT</th>\n",
       "      <th></th>\n",
       "      <th></th>\n",
       "      <th></th>\n",
       "    </tr>\n",
       "  </thead>\n",
       "  <tbody>\n",
       "    <tr>\n",
       "      <th>KREDITKARTENABRECHNUNG</th>\n",
       "      <td>-309.496667</td>\n",
       "      <td>6</td>\n",
       "      <td>-1856.98</td>\n",
       "    </tr>\n",
       "    <tr>\n",
       "      <th>SPARKASSE</th>\n",
       "      <td>-42.380952</td>\n",
       "      <td>21</td>\n",
       "      <td>-890.00</td>\n",
       "    </tr>\n",
       "    <tr>\n",
       "      <th>SHOPPING</th>\n",
       "      <td>-32.925385</td>\n",
       "      <td>13</td>\n",
       "      <td>-428.03</td>\n",
       "    </tr>\n",
       "    <tr>\n",
       "      <th>ENTERTAINMENT</th>\n",
       "      <td>-6.115217</td>\n",
       "      <td>46</td>\n",
       "      <td>-281.30</td>\n",
       "    </tr>\n",
       "    <tr>\n",
       "      <th>PayPal (Europe) S.a.r.l. et Cie., S.C.A.</th>\n",
       "      <td>-21.082000</td>\n",
       "      <td>10</td>\n",
       "      <td>-210.82</td>\n",
       "    </tr>\n",
       "    <tr>\n",
       "      <th>GA NR00002630 BLZ77350110 5</th>\n",
       "      <td>-30.000000</td>\n",
       "      <td>1</td>\n",
       "      <td>-30.00</td>\n",
       "    </tr>\n",
       "  </tbody>\n",
       "</table>\n",
       "</div>"
      ],
      "text/plain": [
       "                                               Value  Count  TotalValue\n",
       "CONTACT                                                                \n",
       "KREDITKARTENABRECHNUNG                   -309.496667      6    -1856.98\n",
       "SPARKASSE                                 -42.380952     21     -890.00\n",
       "SHOPPING                                  -32.925385     13     -428.03\n",
       "ENTERTAINMENT                              -6.115217     46     -281.30\n",
       "PayPal (Europe) S.a.r.l. et Cie., S.C.A.  -21.082000     10     -210.82\n",
       "GA NR00002630 BLZ77350110 5               -30.000000      1      -30.00"
      ]
     },
     "execution_count": 18,
     "metadata": {},
     "output_type": "execute_result"
    }
   ],
   "source": [
    "df_singular"
   ]
  },
  {
   "cell_type": "code",
   "execution_count": 182,
   "metadata": {},
   "outputs": [],
   "source": [
    "df5 = df[['Date','Value','CONTACT']].copy()\n",
    "\n",
    "df5['CONTACT'] = df5['CONTACT'].apply(lambda x: 'SPARKASSE' if 'sparkasse' in str(x).lower() else x)\n",
    "df5['CONTACT'] = df5['CONTACT'].apply(lambda x: 'SHOPPING' if str(x) in shopping_labels else x)\n",
    "df5['CONTACT'] = df5['CONTACT'].apply(lambda x: 'ENTERTAINMENT' if str(x) in entertainment_labels else x)\n",
    "\n",
    "df5 = df5.groupby(['CONTACT','Date']).sum().reset_index()\n",
    "\n",
    "df5['Freq'] = np.nan\n",
    "for contact_name in df5['CONTACT'].unique().tolist():\n",
    "    n_months = (df5[df5['CONTACT']==contact_name]['Date'].max()-df5[df5['CONTACT']==contact_name]['Date'].min())/np.timedelta64(1,'M')\n",
    "    n_contacts = df5[df5['CONTACT']==contact_name].shape[0]\n",
    "    if n_months>0: df5.ix[df5[df5['CONTACT']==contact_name].index,'Freq'] = n_contacts/n_months"
   ]
  },
  {
   "cell_type": "code",
   "execution_count": 289,
   "metadata": {},
   "outputs": [],
   "source": [
    "df5 = df5.dropna().reset_index(drop=True)"
   ]
  },
  {
   "cell_type": "code",
   "execution_count": 290,
   "metadata": {},
   "outputs": [],
   "source": [
    "df5['Scaled Value'] = np.sign(df5['Value'])*np.log(df5['Value'].abs())"
   ]
  },
  {
   "cell_type": "code",
   "execution_count": 291,
   "metadata": {},
   "outputs": [],
   "source": [
    "km = KMeans()\n",
    "df5['KM Class'] = km.fit(df5[['Scaled Value','Freq']].values).labels_+1"
   ]
  },
  {
   "cell_type": "code",
   "execution_count": 292,
   "metadata": {},
   "outputs": [],
   "source": [
    "dbscan = DBSCAN()\n",
    "df5['DBSCAN Class'] = dbscan.fit(df5[['Scaled Value','Freq']].values).labels_+1"
   ]
  },
  {
   "cell_type": "code",
   "execution_count": 293,
   "metadata": {},
   "outputs": [],
   "source": [
    "ms = MeanShift()\n",
    "df5['MS Class'] = ms.fit(df5[['Scaled Value','Freq']].values).labels_+1"
   ]
  },
  {
   "cell_type": "code",
   "execution_count": 294,
   "metadata": {},
   "outputs": [],
   "source": [
    "agg = AgglomerativeClustering()\n",
    "df5['Agg Class'] = agg.fit(df5[['Scaled Value','Freq']].values).labels_+1"
   ]
  },
  {
   "cell_type": "code",
   "execution_count": 295,
   "metadata": {},
   "outputs": [],
   "source": [
    "gmm = GaussianMixture(n_components=6)\n",
    "df5['GMM Class'] = gmm.fit_predict(df5[['Scaled Value','Freq']].values)+1"
   ]
  },
  {
   "cell_type": "code",
   "execution_count": 296,
   "metadata": {},
   "outputs": [
    {
     "data": {
      "text/plain": [
       "<seaborn.axisgrid.FacetGrid at 0x2309aad7b70>"
      ]
     },
     "execution_count": 296,
     "metadata": {},
     "output_type": "execute_result"
    },
    {
     "data": {
      "image/png": "[encoded data removed]",
      "text/plain": [
       "<Figure size 422.05x360 with 1 Axes>"
      ]
     },
     "metadata": {},
     "output_type": "display_data"
    }
   ],
   "source": [
    "sns.lmplot(x='Scaled Value',y='Freq',data=df5,hue='GMM Class',fit_reg=False)"
   ]
  },
  {
   "cell_type": "code",
   "execution_count": 297,
   "metadata": {},
   "outputs": [
    {
     "data": {
      "text/plain": [
       "<seaborn.axisgrid.FacetGrid at 0x2309c34df28>"
      ]
     },
     "execution_count": 297,
     "metadata": {},
     "output_type": "execute_result"
    },
    {
     "data": {
      "image/png": "[encoded data removed]",
      "text/plain": [
       "<Figure size 422.05x360 with 1 Axes>"
      ]
     },
     "metadata": {},
     "output_type": "display_data"
    }
   ],
   "source": [
    "sns.lmplot(x='Value',y='Freq',data=df5,hue='GMM Class',fit_reg=False)"
   ]
  },
  {
   "cell_type": "code",
   "execution_count": 298,
   "metadata": {},
   "outputs": [
    {
     "data": {
      "image/png": "[encoded data removed]",
      "text/plain": [
       "<Figure size 720x360 with 1 Axes>"
      ]
     },
     "metadata": {},
     "output_type": "display_data"
    }
   ],
   "source": [
    "df6 = df5[['Date','Value','GMM Class']].groupby(['GMM Class','Date']).sum().reset_index()\n",
    "\n",
    "g = plt.figure(figsize=(10,5))\n",
    "g = sns.lineplot(x='Date',y='Value',data=df6)\n",
    "g.set_xticklabels(df6['Date'],rotation=45)\n",
    "\n",
    "plt.show()"
   ]
  },
  {
   "cell_type": "code",
   "execution_count": 321,
   "metadata": {},
   "outputs": [
    {
     "data": {
      "application/vnd.jupyter.widget-view+json": {
       "model_id": "f71fe1ed7a334443b3f23e78800f126d",
       "version_major": 2,
       "version_minor": 0
      },
      "text/plain": [
       "interactive(children=(Dropdown(description='Class', options=('Daily Casual Exp.', 'Ordinary Revenue', 'Enterta…"
      ]
     },
     "metadata": {},
     "output_type": "display_data"
    }
   ],
   "source": [
    "action_dict = {\n",
    "    'Daily Casual Exp.':4,\n",
    "    'Ordinary Revenue':6,\n",
    "    'Entertainment Exp.':2,\n",
    "    'Monthly Recurring Exp.':5,\n",
    "    'Miscellaneous Casual Exp.':1,\n",
    "    'Extraordinary Revenue':3\n",
    "}\n",
    "\n",
    "@interact(Class=['Daily Casual Exp.','Ordinary Revenue','Entertainment Exp.','Monthly Recurring Exp.','Miscellaneous Casual Exp.','Extraordinary Revenue'])\n",
    "def plot(Class):\n",
    "    cls = action_dict[Class]\n",
    "    c_df = df6[df6['GMM Class']==cls][['Date','Value']].set_index(['Date']).reindex(idx,fill_value=0).reset_index().rename(columns={'index':'Date'})\n",
    "    g = plt.figure(figsize=(10,5))\n",
    "    g = sns.lineplot(x='Date',y='Value',data=c_df)\n",
    "    g.set_xticklabels(c_df['Date'],rotation=45)"
   ]
  },
  {
   "cell_type": "code",
   "execution_count": null,
   "metadata": {},
   "outputs": [],
   "source": []
  }
 ],
 "metadata": {
  "kernelspec": {
   "display_name": "Python 3",
   "language": "python",
   "name": "python3"
  },
  "language_info": {
   "codemirror_mode": {
    "name": "ipython",
    "version": 3
   },
   "file_extension": ".py",
   "mimetype": "text/x-python",
   "name": "python",
   "nbconvert_exporter": "python",
   "pygments_lexer": "ipython3",
   "version": "3.7.3"
  }
 },
 "nbformat": 4,
 "nbformat_minor": 2
}
