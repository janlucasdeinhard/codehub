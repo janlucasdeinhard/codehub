{
 "cells": [
  {
   "cell_type": "markdown",
   "metadata": {},
   "source": [
    "# Development of a target tracking app\n",
    "This notebook attempts to develop an app which \n",
    "* Can be run on a server, probably my RaspPi\n",
    "* Allows to log on via Internet\n",
    "* Displays the parent-child hierarchy specified in the targets Excel on Dropbox\n",
    "An extended goal is\n",
    "* to allow the user to write back status on the excel-specified tasks to the server"
   ]
  },
  {
   "cell_type": "code",
   "execution_count": 7,
   "metadata": {},
   "outputs": [],
   "source": [
    "import numpy as np\n",
    "from numpy import random as rnd\n",
    "from matplotlib import pyplot as plt\n",
    "import warnings,datetime,os,calendar,time,sys,math\n",
    "\n",
    "import pandas as pd\n",
    "\n",
    "import dash\n",
    "from dash import Dash,Input,Output,callback\n",
    "#from dash.dependencies import Input,Output,callback\n",
    "import dash_html_components as html\n",
    "import dash_core_components as dcc\n",
    "import dash_bootstrap_components as dbc\n",
    "import dash_table"
   ]
  },
  {
   "cell_type": "markdown",
   "metadata": {},
   "source": [
    "## Excel File Modification\n",
    "First, we need the capability to communicate with the excel file."
   ]
  },
  {
   "cell_type": "code",
   "execution_count": 61,
   "metadata": {},
   "outputs": [],
   "source": [
    "file_path = '../../../TF_Data/Dropbox/Diary/Targets.xlsx'\n",
    "\n",
    "bf = pd.read_excel(\n",
    "    io=file_path,\n",
    "    sheet_name='TASKS',\n",
    "    converters={\n",
    "        'Entered Date':np.datetime64,\n",
    "        'Due Date':np.datetime64,\n",
    "        'ID':int,\n",
    "        'ParentID':int\n",
    "    }\n",
    ")\n",
    "\n",
    "# Fill in self as parents of top-level IDs \n",
    "bf['ParentID'] = bf[['ID','ParentID']].apply(lambda x: x[0] if np.isnan(x[1]) else x[1],axis=1)"
   ]
  },
  {
   "cell_type": "code",
   "execution_count": 62,
   "metadata": {},
   "outputs": [],
   "source": [
    "df = bf[['Target','ID','ParentID']]"
   ]
  },
  {
   "cell_type": "markdown",
   "metadata": {},
   "source": [
    "## Create an App to view this online"
   ]
  },
  {
   "cell_type": "code",
   "execution_count": null,
   "metadata": {},
   "outputs": [
    {
     "name": "stdout",
     "output_type": "stream",
     "text": [
      "Dash is running on http://127.0.0.1:8050/\n",
      "\n",
      "Dash is running on http://127.0.0.1:8050/\n",
      "\n",
      "Dash is running on http://127.0.0.1:8050/\n",
      "\n",
      "Dash is running on http://127.0.0.1:8050/\n",
      "\n",
      "Dash is running on http://127.0.0.1:8050/\n",
      "\n",
      "Dash is running on http://127.0.0.1:8050/\n",
      "\n",
      "Dash is running on http://127.0.0.1:8050/\n",
      "\n",
      "Dash is running on http://127.0.0.1:8050/\n",
      "\n",
      "Dash is running on http://127.0.0.1:8050/\n",
      "\n",
      "Dash is running on http://127.0.0.1:8050/\n",
      "\n",
      "Dash is running on http://127.0.0.1:8050/\n",
      "\n",
      "Dash is running on http://127.0.0.1:8050/\n",
      "\n",
      "Dash is running on http://127.0.0.1:8050/\n",
      "\n",
      "Dash is running on http://127.0.0.1:8050/\n",
      "\n",
      "Dash is running on http://127.0.0.1:8050/\n",
      "\n",
      "Dash is running on http://127.0.0.1:8050/\n",
      "\n",
      "Dash is running on http://127.0.0.1:8050/\n",
      "\n",
      "Dash is running on http://127.0.0.1:8050/\n",
      "\n",
      " * Serving Flask app \"__main__\" (lazy loading)\n",
      " * Environment: production\n",
      "   WARNING: This is a development server. Do not use it in a production deployment.\n",
      "   Use a production WSGI server instead.\n",
      " * Debug mode: on\n"
     ]
    }
   ],
   "source": [
    "# Create app\n",
    "app = dash.Dash(__name__)\n",
    "\n",
    "# Define layout\n",
    "app.layout = html.Div([\n",
    "    dbc.Container([\n",
    "        dbc.Label('Epics'),\n",
    "        dash_table.DataTable(\n",
    "            id='tbl_in',\n",
    "            columns=([{'id':p,'name': p} for p in df.columns]),\n",
    "            data=df.to_dict('records'),\n",
    "            editable=True,\n",
    "            sort_action='native',\n",
    "            filter_action='native',\n",
    "            style_data={\n",
    "                'whiteSpace':'normal',\n",
    "                'height':'auto'\n",
    "            }\n",
    "        ),\n",
    "        dbc.Alert('Selected Item', id='tbl_out'),\n",
    "    ],\n",
    "    style={\n",
    "        \"width\": \"66%\",\n",
    "        \"height\": \"250px\",\n",
    "        \"display\": \"inline-block\",\n",
    "        \"padding-top\": \"50px\",\n",
    "        \"padding-left\": \"150px\",\n",
    "        \"overflow\": \"hidden\"\n",
    "    })\n",
    "])\n",
    "\n",
    "@callback(\n",
    "    Output('tbl_out','children'),\n",
    "    Input('tbl_in','active_cell')\n",
    ")\n",
    "def update_graphs(active_cell):\n",
    "    return str(active_cell)\n",
    "\n",
    "# Run app\n",
    "if __name__ == '__main__': app.run_server(debug=True,use_reloader=False)"
   ]
  },
  {
   "cell_type": "code",
   "execution_count": null,
   "metadata": {},
   "outputs": [],
   "source": []
  }
 ],
 "metadata": {
  "kernelspec": {
   "display_name": "Python 3",
   "language": "python",
   "name": "python3"
  },
  "language_info": {
   "codemirror_mode": {
    "name": "ipython",
    "version": 3
   },
   "file_extension": ".py",
   "mimetype": "text/x-python",
   "name": "python",
   "nbconvert_exporter": "python",
   "pygments_lexer": "ipython3",
   "version": "3.8.5"
  }
 },
 "nbformat": 4,
 "nbformat_minor": 4
}
