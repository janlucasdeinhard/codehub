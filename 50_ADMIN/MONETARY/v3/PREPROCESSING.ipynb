{
 "cells": [
  {
   "cell_type": "code",
   "execution_count": 1,
   "metadata": {},
   "outputs": [],
   "source": [
    "import numpy as np\n",
    "from numpy import random as rnd\n",
    "from matplotlib import pyplot as plt\n",
    "import os,warnings,datetime,time,sys,itertools\n",
    "\n",
    "import torch\n",
    "from torch import functional as F\n",
    "\n",
    "import pandas as pd"
   ]
  },
  {
   "cell_type": "code",
   "execution_count": null,
   "metadata": {},
   "outputs": [],
   "source": []
  },
  {
   "cell_type": "code",
   "execution_count": null,
   "metadata": {},
   "outputs": [],
   "source": []
  },
  {
   "cell_type": "code",
   "execution_count": null,
   "metadata": {},
   "outputs": [],
   "source": []
  },
  {
   "cell_type": "code",
   "execution_count": 2,
   "metadata": {},
   "outputs": [],
   "source": [
    "# Root path\n",
    "basepath = '../../../../../../../../TF_data/ADMIN/v3/'\n",
    "\n",
    "# Single Transactions directory\n",
    "single_transactions_path = basepath + '01_SingleTransactions/'\n",
    "\n",
    "# Account Totals Tracker\n",
    "totals_path = basepath + '02_AccountTotal/'"
   ]
  },
  {
   "cell_type": "code",
   "execution_count": null,
   "metadata": {},
   "outputs": [],
   "source": []
  },
  {
   "cell_type": "code",
   "execution_count": null,
   "metadata": {},
   "outputs": [],
   "source": []
  },
  {
   "cell_type": "code",
   "execution_count": null,
   "metadata": {},
   "outputs": [],
   "source": []
  },
  {
   "cell_type": "code",
   "execution_count": 3,
   "metadata": {},
   "outputs": [],
   "source": [
    "# Select latest file in Single Transactions directory\n",
    "\n",
    "target_by_date = dict()\n",
    "for filename in os.listdir(single_transactions_path):\n",
    "    if filename.startswith('.'): continue\n",
    "    try:\n",
    "        datestr = filename.split('-')[0]\n",
    "        date = datetime.datetime.strptime(datestr,'%Y%m%d')\n",
    "        target_by_date[date] = filename \n",
    "    except:\n",
    "        continue\n",
    "\n",
    "# Sort dictionary by keys and select latest\n",
    "latest_filename = sorted(target_by_date.items())[0][1]"
   ]
  },
  {
   "cell_type": "code",
   "execution_count": 9,
   "metadata": {},
   "outputs": [],
   "source": [
    "# Read file\n",
    "\n",
    "df0 = pd.read_csv(single_transactions_path+latest_filename,sep=';',encoding='latin-1')\n",
    "df0['Origin'] = latest_filename\n",
    "df0['Betrag'] = df0['Betrag'].apply(lambda x: str(x)[:-2]+'.'+str(x)[-2:] if ',' not in str(x) and '.' not in str(x) else str(x).replace(',','.'))"
   ]
  },
  {
   "cell_type": "code",
   "execution_count": 10,
   "metadata": {},
   "outputs": [],
   "source": [
    "# Convert amt column to float\n",
    "df0['Betrag'] = df0['Betrag'].astype(np.float)"
   ]
  },
  {
   "cell_type": "code",
   "execution_count": 11,
   "metadata": {},
   "outputs": [],
   "source": [
    "# Remove duplicate entries\n",
    "df0 = df0.reset_index(drop=True)\n",
    "df0 = df0.loc[df0.drop(columns=['Origin']).drop_duplicates().index.tolist()]"
   ]
  },
  {
   "cell_type": "code",
   "execution_count": 12,
   "metadata": {},
   "outputs": [],
   "source": [
    "# Double fields\n",
    "\n",
    "cols = [\n",
    "    'Betrag'\n",
    "]\n",
    "\n",
    "for col in cols:\n",
    "    df0[col] = df0[col].astype(np.double)"
   ]
  },
  {
   "cell_type": "code",
   "execution_count": 13,
   "metadata": {},
   "outputs": [],
   "source": [
    "# Date fields\n",
    "\n",
    "cols = [\n",
    "    'Buchungstag',\n",
    "    'Valutadatum'\n",
    "]\n",
    "\n",
    "for col in cols:\n",
    "    df0[col] = pd.to_datetime(df0[col],format='%d.%m.%y')"
   ]
  },
  {
   "cell_type": "code",
   "execution_count": null,
   "metadata": {},
   "outputs": [],
   "source": []
  },
  {
   "cell_type": "code",
   "execution_count": null,
   "metadata": {},
   "outputs": [],
   "source": []
  },
  {
   "cell_type": "code",
   "execution_count": null,
   "metadata": {},
   "outputs": [],
   "source": []
  },
  {
   "cell_type": "code",
   "execution_count": 14,
   "metadata": {},
   "outputs": [],
   "source": [
    "# Load ground truth\n",
    "\n",
    "df1 = pd.read_excel(totals_path+'AccountTracker.xlsx')"
   ]
  },
  {
   "cell_type": "code",
   "execution_count": null,
   "metadata": {},
   "outputs": [],
   "source": []
  },
  {
   "cell_type": "code",
   "execution_count": null,
   "metadata": {},
   "outputs": [],
   "source": []
  },
  {
   "cell_type": "code",
   "execution_count": null,
   "metadata": {},
   "outputs": [],
   "source": []
  },
  {
   "cell_type": "code",
   "execution_count": 15,
   "metadata": {},
   "outputs": [],
   "source": [
    "datecol = 'Valutadatum'\n",
    "\n",
    "t0 = df0.copy()[[datecol,'Betrag']]\n",
    "t0['Booked Month'] = t0.apply(lambda x: x[datecol].strftime('%Y-%m'),axis=1)\n",
    "t0 = t0.drop(columns=[datecol])\n",
    "\n",
    "t0 = t0.groupby('Booked Month').sum().rename(columns={'Betrag':'Spending'})"
   ]
  },
  {
   "cell_type": "code",
   "execution_count": 16,
   "metadata": {},
   "outputs": [],
   "source": [
    "t1 = df1.copy()[['Date','Account Total']]\n",
    "t1['Month'] = t1.apply(lambda x: x['Date'].strftime('%Y-%m'),axis=1)\n",
    "t1 = t1.drop(columns=['Date']).set_index('Month')"
   ]
  },
  {
   "cell_type": "code",
   "execution_count": 17,
   "metadata": {},
   "outputs": [
    {
     "data": {
      "text/plain": [
       "<AxesSubplot:>"
      ]
     },
     "execution_count": 17,
     "metadata": {},
     "output_type": "execute_result"
    },
    {
     "data": {
      "image/png": "[encoded data removed]",
      "text/plain": [
       "<Figure size 432x288 with 1 Axes>"
      ]
     },
     "metadata": {
      "needs_background": "light"
     },
     "output_type": "display_data"
    }
   ],
   "source": [
    "ff = t1.merge(t0,how='inner',left_index=True,right_index=True)\n",
    "ff.plot()"
   ]
  },
  {
   "cell_type": "code",
   "execution_count": 18,
   "metadata": {},
   "outputs": [],
   "source": [
    "ff['Prev Month Totals'] = ff['Account Total'].shift(1)\n",
    "ff['Predicted Total'] = ff.apply(lambda x: x['Spending']+x['Prev Month Totals'],axis=1)\n",
    "ff['Forecast Error'] = ff.apply(lambda x: x['Account Total']-x['Predicted Total'],axis=1)"
   ]
  },
  {
   "cell_type": "code",
   "execution_count": 19,
   "metadata": {},
   "outputs": [
    {
     "data": {
      "text/plain": [
       "<AxesSubplot:>"
      ]
     },
     "execution_count": 19,
     "metadata": {},
     "output_type": "execute_result"
    },
    {
     "data": {
      "image/png": "[encoded data removed]",
      "text/plain": [
       "<Figure size 432x288 with 1 Axes>"
      ]
     },
     "metadata": {
      "needs_background": "light"
     },
     "output_type": "display_data"
    }
   ],
   "source": [
    "ff['Forecast Error'].hist()"
   ]
  },
  {
   "cell_type": "code",
   "execution_count": null,
   "metadata": {},
   "outputs": [],
   "source": []
  },
  {
   "cell_type": "code",
   "execution_count": null,
   "metadata": {},
   "outputs": [],
   "source": []
  },
  {
   "cell_type": "code",
   "execution_count": null,
   "metadata": {},
   "outputs": [],
   "source": []
  },
  {
   "cell_type": "code",
   "execution_count": 20,
   "metadata": {},
   "outputs": [],
   "source": [
    "def encode_categories(df_in,overwrite_existing=False):\n",
    "    df = df_in.copy()\n",
    "    # If category column not in dataframe, create it\n",
    "    if 'Category' not in df.columns:\n",
    "        df['Category'] = np.nan\n",
    "    # If category column partially filled, store where filled\n",
    "    remerge = False\n",
    "    if overwrite_existing:\n",
    "        df['Category'] = np.nan\n",
    "    else:\n",
    "        df_filled = df[~df['Category'].isna()]\n",
    "        df = df[df['Category'].isna()]\n",
    "        remerge = True\n",
    "    #\n",
    "    # All mappings go here\n",
    "    #\n",
    "    # Mapping: Salary\n",
    "    try:\n",
    "        df.at[df[df.apply(lambda x: \n",
    "            (str(x['Buchungstext'])=='LOHN  GEHALT') and\n",
    "            (str(x['Kontonummer/IBAN'])=='DE90700500000002055382')\n",
    "        ,axis=1)].index,'Category'] = 'SALARY'\n",
    "    except:\n",
    "        print('Category <SALARY> could not be determined, lacking data columns')\n",
    "    # Mapping: Lunch money\n",
    "    try:\n",
    "        df.at[df[df.apply(lambda x: \n",
    "            (str(x['Buchungstext'])=='FOLGELASTSCHRIFT') and\n",
    "            (str(x['Beguenstigter/Zahlungspflichtiger'])=='Siemens Aktiengesellschaft') and\n",
    "            (str(x['Kontonummer/IBAN'])=='DE53700700100203008800')\n",
    "        ,axis=1)].index,'Category'] = 'FOOD'\n",
    "    except:\n",
    "        print('Category <FOOD> could not be determined, lacking data columns')\n",
    "    # Mapping: RENT\n",
    "    try:\n",
    "        df.at[df[df.apply(lambda x: \n",
    "            ('miete' in str(x['Verwendungszweck']).lower()) and \n",
    "            (str(x['Kontonummer/IBAN']) in ['DE06120300001056103045','DE46763500000044116613'])\n",
    "        ,axis=1)].index,'Category'] = 'RENT'\n",
    "    except:\n",
    "        print('Category <RENT> could not be determined, lacking data columns')\n",
    "    # Mapping: INTERNETCOST\n",
    "    try:\n",
    "        df.at[df[df.apply(lambda x: \n",
    "            ('m-net telekommunikations gmbh' in str(x['Beguenstigter/Zahlungspflichtiger']).lower()) and \n",
    "            (str(x['Kontonummer/IBAN']) in ['DE74700500000000028273'])\n",
    "        ,axis=1)].index,'Category'] = 'INTERNETCOST'\n",
    "    except:\n",
    "        print('Category <INTERNETCOST> could not be determined, lacking data columns')\n",
    "    # Mapping: STOCKSPURCHASE\n",
    "    try:\n",
    "        df.at[df[df.apply(lambda x: \n",
    "          ( ('dekabank' in str(x['Beguenstigter/Zahlungspflichtiger']).lower()) and \n",
    "            (str(x['Kontonummer/IBAN']) in ['DE02500509990000022889']) and \n",
    "            ('wertpapiere' in str(x['Buchungstext']).lower())\n",
    "          ) or (\n",
    "              (str(x['Kontonummer/IBAN']) in ['DE55300308803960761048']) and\n",
    "              (str(x['Buchungstext'])=='GUTSCHR. UEBERWEISUNG')\n",
    "          )\n",
    "        ,axis=1)].index,'Category'] = 'STOCKSPURCHASE'\n",
    "    except:\n",
    "        print('Category <STOCKSPURCHASE> could not be determined, lacking data columns')\n",
    "    # Mapping: INSURANCE\n",
    "    try:\n",
    "        df.at[df[df.apply(lambda x: \n",
    "            (str(x['Buchungstext']).lower()=='folgelastschrift') and \n",
    "            (str(x['Kontonummer/IBAN']) in ['DE44700800000564460402','DE04300500000000444166'])\n",
    "        ,axis=1)].index,'Category'] = 'INSURANCE'\n",
    "    except:\n",
    "        print('Category <INSURANCE> could not be determined, lacking data columns')\n",
    "    # Mapping: PHONECONTRACT\n",
    "    try:\n",
    "        df.at[df[df.apply(lambda x: \n",
    "            (str(x['Buchungstext']).lower()=='folgelastschrift') and \n",
    "            (str(x['Kontonummer/IBAN']) in ['DE68700202700667302269'])\n",
    "        ,axis=1)].index,'Category'] = 'PHONECONTRACT'\n",
    "    except:\n",
    "        print('Category <PHONECONTRACT> could not be determined, lacking data columns')\n",
    "    # Mapping: UTILITIES\n",
    "    try:\n",
    "        df.at[df[df.apply(lambda x: \n",
    "            ('estw' in str(x['Beguenstigter/Zahlungspflichtiger']).lower()) and \n",
    "            (str(x['Kontonummer/IBAN']) in ['DE06763200720004536703'])\n",
    "        ,axis=1)].index,'Category'] = 'UTILITIES'\n",
    "    except:\n",
    "        print('Category <UTILITIES> could not be determined, lacking data columns')\n",
    "    # Mapping: GYMCOST\n",
    "    try:\n",
    "        df.at[df[df.apply(lambda x: \n",
    "            (str(x['Kontonummer/IBAN']) in ['DE88763500000000062725','DE85763500000000001669'])\n",
    "        ,axis=1)].index,'Category'] = 'GYMCOST'\n",
    "    except:\n",
    "        print('Category <GYMCOST> could not be determined, lacking data columns')\n",
    "    # Mapping: IGMETALL\n",
    "    try:\n",
    "        df.at[df[df.apply(lambda x: \n",
    "            (str(x['Kontonummer/IBAN']) in ['DE28500500000083044008'])\n",
    "        ,axis=1)].index,'Category'] = 'IGMETALL'\n",
    "    except:\n",
    "        print('Category <IGMETALL> could not be determined, lacking data columns')\n",
    "    #\n",
    "    # Mapping section ends here\n",
    "    #\n",
    "    # Append partially filled column if it was there\n",
    "    if remerge:\n",
    "        df = pd.concat([df,df_filled])\n",
    "    return df"
   ]
  },
  {
   "cell_type": "code",
   "execution_count": 53,
   "metadata": {},
   "outputs": [],
   "source": [
    "datecol = 'Valutadatum'\n",
    "\n",
    "df = encode_categories(df0)[[datecol,'Betrag','Category']]\n",
    "df = df[df['Category'].isna()]\n",
    "\n",
    "df['Booked Month'] = df.apply(lambda x: x[datecol].strftime('%Y-%m'),axis=1)\n",
    "df = df.drop(columns=[datecol,'Category'])"
   ]
  },
  {
   "cell_type": "code",
   "execution_count": 64,
   "metadata": {},
   "outputs": [],
   "source": [
    "df = df.groupby(['Booked Month']).sum()"
   ]
  },
  {
   "cell_type": "code",
   "execution_count": 85,
   "metadata": {},
   "outputs": [],
   "source": [
    "def explode_frame(df,datecol='Valutadatum'):\n",
    "    # Restrict to required columns\n",
    "    df = df[[datecol,'Betrag','Category']]\n",
    "    # Fill remaning empty categories\n",
    "    df['Category'] = df['Category'].fillna('UNCATEGORIZED')\n",
    "    # Convert booked month\n",
    "    df['Booked Month'] = df.apply(lambda x: x[datecol].strftime('%Y-%m'),axis=1)\n",
    "    # Aggregate per month\n",
    "    df = df[['Booked Month','Category','Betrag']].groupby(['Booked Month','Category']).sum().rename(columns={'Betrag':'Spending'})\n",
    "    # Pivot table\n",
    "    df = df.reset_index(drop=False).pivot(index='Booked Month',columns='Category',values='Spending').fillna(0)\n",
    "    # Sum uncategorized\n",
    "    df['00_CATEGORIZED'] = df[['FOOD','GYMCOST','IGMETALL','INSURANCE','INTERNETCOST','UNCATEGORIZED','UTILITIES']].sum(axis=1)\n",
    "    # Explained share each month\n",
    "    df['Explained Share'] = df.apply(lambda x: x['00_CATEGORIZED']/(x['00_CATEGORIZED']+x['UNCATEGORIZED']),axis=1)\n",
    "    # Return dataframe\n",
    "    return df"
   ]
  },
  {
   "cell_type": "code",
   "execution_count": 91,
   "metadata": {},
   "outputs": [
    {
     "name": "stderr",
     "output_type": "stream",
     "text": [
      "<ipython-input-85-6d7130ea8464>:5: SettingWithCopyWarning: \n",
      "A value is trying to be set on a copy of a slice from a DataFrame.\n",
      "Try using .loc[row_indexer,col_indexer] = value instead\n",
      "\n",
      "See the caveats in the documentation: https://pandas.pydata.org/pandas-docs/stable/user_guide/indexing.html#returning-a-view-versus-a-copy\n",
      "  df['Category'] = df['Category'].fillna('UNCATEGORIZED')\n",
      "<ipython-input-85-6d7130ea8464>:7: SettingWithCopyWarning: \n",
      "A value is trying to be set on a copy of a slice from a DataFrame.\n",
      "Try using .loc[row_indexer,col_indexer] = value instead\n",
      "\n",
      "See the caveats in the documentation: https://pandas.pydata.org/pandas-docs/stable/user_guide/indexing.html#returning-a-view-versus-a-copy\n",
      "  df['Booked Month'] = df.apply(lambda x: x[datecol].strftime('%Y-%m'),axis=1)\n"
     ]
    }
   ],
   "source": [
    "df = encode_categories(df0.copy())\n",
    "tt = explode_frame(df)[['00_CATEGORIZED','UNCATEGORIZED','Explained Share']]"
   ]
  },
  {
   "cell_type": "code",
   "execution_count": 92,
   "metadata": {},
   "outputs": [
    {
     "data": {
      "text/html": [
       "<div>\n",
       "<style scoped>\n",
       "    .dataframe tbody tr th:only-of-type {\n",
       "        vertical-align: middle;\n",
       "    }\n",
       "\n",
       "    .dataframe tbody tr th {\n",
       "        vertical-align: top;\n",
       "    }\n",
       "\n",
       "    .dataframe thead th {\n",
       "        text-align: right;\n",
       "    }\n",
       "</style>\n",
       "<table border=\"1\" class=\"dataframe\">\n",
       "  <thead>\n",
       "    <tr style=\"text-align: right;\">\n",
       "      <th>Category</th>\n",
       "      <th>00_CATEGORIZED</th>\n",
       "      <th>UNCATEGORIZED</th>\n",
       "      <th>Explained Share</th>\n",
       "    </tr>\n",
       "    <tr>\n",
       "      <th>Booked Month</th>\n",
       "      <th></th>\n",
       "      <th></th>\n",
       "      <th></th>\n",
       "    </tr>\n",
       "  </thead>\n",
       "  <tbody>\n",
       "    <tr>\n",
       "      <th>2019-02</th>\n",
       "      <td>-368.55</td>\n",
       "      <td>-185.52</td>\n",
       "      <td>0.665169</td>\n",
       "    </tr>\n",
       "    <tr>\n",
       "      <th>2019-03</th>\n",
       "      <td>-335.38</td>\n",
       "      <td>-211.53</td>\n",
       "      <td>0.613227</td>\n",
       "    </tr>\n",
       "    <tr>\n",
       "      <th>2019-04</th>\n",
       "      <td>-949.52</td>\n",
       "      <td>-731.49</td>\n",
       "      <td>0.564851</td>\n",
       "    </tr>\n",
       "    <tr>\n",
       "      <th>2019-05</th>\n",
       "      <td>866.22</td>\n",
       "      <td>990.07</td>\n",
       "      <td>0.466640</td>\n",
       "    </tr>\n",
       "    <tr>\n",
       "      <th>2019-06</th>\n",
       "      <td>-829.07</td>\n",
       "      <td>-636.22</td>\n",
       "      <td>0.565806</td>\n",
       "    </tr>\n",
       "    <tr>\n",
       "      <th>2019-07</th>\n",
       "      <td>-1055.13</td>\n",
       "      <td>-818.02</td>\n",
       "      <td>0.563292</td>\n",
       "    </tr>\n",
       "    <tr>\n",
       "      <th>2019-08</th>\n",
       "      <td>-1140.67</td>\n",
       "      <td>-907.15</td>\n",
       "      <td>0.557017</td>\n",
       "    </tr>\n",
       "    <tr>\n",
       "      <th>2019-09</th>\n",
       "      <td>-862.07</td>\n",
       "      <td>-607.33</td>\n",
       "      <td>0.586682</td>\n",
       "    </tr>\n",
       "    <tr>\n",
       "      <th>2019-10</th>\n",
       "      <td>-1413.79</td>\n",
       "      <td>-1122.46</td>\n",
       "      <td>0.557433</td>\n",
       "    </tr>\n",
       "    <tr>\n",
       "      <th>2019-11</th>\n",
       "      <td>-2480.55</td>\n",
       "      <td>-2292.71</td>\n",
       "      <td>0.519676</td>\n",
       "    </tr>\n",
       "    <tr>\n",
       "      <th>2019-12</th>\n",
       "      <td>-4385.03</td>\n",
       "      <td>-4112.48</td>\n",
       "      <td>0.516037</td>\n",
       "    </tr>\n",
       "    <tr>\n",
       "      <th>2020-01</th>\n",
       "      <td>-2329.19</td>\n",
       "      <td>-2054.88</td>\n",
       "      <td>0.531285</td>\n",
       "    </tr>\n",
       "    <tr>\n",
       "      <th>2020-02</th>\n",
       "      <td>-2352.23</td>\n",
       "      <td>-2125.51</td>\n",
       "      <td>0.525316</td>\n",
       "    </tr>\n",
       "    <tr>\n",
       "      <th>2020-03</th>\n",
       "      <td>-1934.74</td>\n",
       "      <td>-1680.07</td>\n",
       "      <td>0.535226</td>\n",
       "    </tr>\n",
       "    <tr>\n",
       "      <th>2020-04</th>\n",
       "      <td>-1078.90</td>\n",
       "      <td>-784.66</td>\n",
       "      <td>0.578946</td>\n",
       "    </tr>\n",
       "    <tr>\n",
       "      <th>2020-05</th>\n",
       "      <td>1523.23</td>\n",
       "      <td>1687.01</td>\n",
       "      <td>0.474491</td>\n",
       "    </tr>\n",
       "    <tr>\n",
       "      <th>2020-06</th>\n",
       "      <td>-1633.86</td>\n",
       "      <td>-1420.28</td>\n",
       "      <td>0.534966</td>\n",
       "    </tr>\n",
       "    <tr>\n",
       "      <th>2020-07</th>\n",
       "      <td>-1395.61</td>\n",
       "      <td>-1257.12</td>\n",
       "      <td>0.526103</td>\n",
       "    </tr>\n",
       "    <tr>\n",
       "      <th>2020-08</th>\n",
       "      <td>-2238.03</td>\n",
       "      <td>-1969.75</td>\n",
       "      <td>0.531879</td>\n",
       "    </tr>\n",
       "    <tr>\n",
       "      <th>2020-09</th>\n",
       "      <td>-2283.53</td>\n",
       "      <td>-2045.92</td>\n",
       "      <td>0.527441</td>\n",
       "    </tr>\n",
       "    <tr>\n",
       "      <th>2020-10</th>\n",
       "      <td>-2184.07</td>\n",
       "      <td>-1904.62</td>\n",
       "      <td>0.534174</td>\n",
       "    </tr>\n",
       "    <tr>\n",
       "      <th>2020-11</th>\n",
       "      <td>-1068.93</td>\n",
       "      <td>-938.38</td>\n",
       "      <td>0.532519</td>\n",
       "    </tr>\n",
       "    <tr>\n",
       "      <th>2020-12</th>\n",
       "      <td>-1436.18</td>\n",
       "      <td>-1025.03</td>\n",
       "      <td>0.583526</td>\n",
       "    </tr>\n",
       "    <tr>\n",
       "      <th>2021-01</th>\n",
       "      <td>-3073.88</td>\n",
       "      <td>-2972.60</td>\n",
       "      <td>0.508375</td>\n",
       "    </tr>\n",
       "    <tr>\n",
       "      <th>2021-02</th>\n",
       "      <td>-157.70</td>\n",
       "      <td>-58.47</td>\n",
       "      <td>0.729518</td>\n",
       "    </tr>\n",
       "  </tbody>\n",
       "</table>\n",
       "</div>"
      ],
      "text/plain": [
       "Category      00_CATEGORIZED  UNCATEGORIZED  Explained Share\n",
       "Booked Month                                                \n",
       "2019-02              -368.55        -185.52         0.665169\n",
       "2019-03              -335.38        -211.53         0.613227\n",
       "2019-04              -949.52        -731.49         0.564851\n",
       "2019-05               866.22         990.07         0.466640\n",
       "2019-06              -829.07        -636.22         0.565806\n",
       "2019-07             -1055.13        -818.02         0.563292\n",
       "2019-08             -1140.67        -907.15         0.557017\n",
       "2019-09              -862.07        -607.33         0.586682\n",
       "2019-10             -1413.79       -1122.46         0.557433\n",
       "2019-11             -2480.55       -2292.71         0.519676\n",
       "2019-12             -4385.03       -4112.48         0.516037\n",
       "2020-01             -2329.19       -2054.88         0.531285\n",
       "2020-02             -2352.23       -2125.51         0.525316\n",
       "2020-03             -1934.74       -1680.07         0.535226\n",
       "2020-04             -1078.90        -784.66         0.578946\n",
       "2020-05              1523.23        1687.01         0.474491\n",
       "2020-06             -1633.86       -1420.28         0.534966\n",
       "2020-07             -1395.61       -1257.12         0.526103\n",
       "2020-08             -2238.03       -1969.75         0.531879\n",
       "2020-09             -2283.53       -2045.92         0.527441\n",
       "2020-10             -2184.07       -1904.62         0.534174\n",
       "2020-11             -1068.93        -938.38         0.532519\n",
       "2020-12             -1436.18       -1025.03         0.583526\n",
       "2021-01             -3073.88       -2972.60         0.508375\n",
       "2021-02              -157.70         -58.47         0.729518"
      ]
     },
     "execution_count": 92,
     "metadata": {},
     "output_type": "execute_result"
    }
   ],
   "source": [
    "tt"
   ]
  },
  {
   "cell_type": "code",
   "execution_count": null,
   "metadata": {},
   "outputs": [],
   "source": []
  }
 ],
 "metadata": {
  "kernelspec": {
   "display_name": "Python 3",
   "language": "python",
   "name": "python3"
  },
  "language_info": {
   "codemirror_mode": {
    "name": "ipython",
    "version": 3
   },
   "file_extension": ".py",
   "mimetype": "text/x-python",
   "name": "python",
   "nbconvert_exporter": "python",
   "pygments_lexer": "ipython3",
   "version": "3.8.5"
  }
 },
 "nbformat": 4,
 "nbformat_minor": 4
}
