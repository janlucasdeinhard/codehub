{
 "cells": [
  {
   "cell_type": "code",
   "execution_count": 160,
   "metadata": {},
   "outputs": [],
   "source": [
    "import numpy as np\n",
    "from numpy import random as rnd\n",
    "from matplotlib import pyplot as plt\n",
    "import datetime,os\n",
    "\n",
    "import torch\n",
    "import pandas as pd\n",
    "\n",
    "import pickle\n",
    "\n",
    "from fuzzywuzzy import fuzz\n",
    "\n",
    "import re\n",
    "from itertools import product"
   ]
  },
  {
   "cell_type": "code",
   "execution_count": 161,
   "metadata": {},
   "outputs": [],
   "source": [
    "newdatapath = '..\\\\..\\\\..\\\\..\\\\TF_data\\\\ADMIN\\\\v2\\\\'\n",
    "storepath = '..\\\\..\\\\..\\\\..\\\\TF_data\\\\ADMIN\\\\v2\\\\04_DATA\\\\'"
   ]
  },
  {
   "cell_type": "code",
   "execution_count": null,
   "metadata": {},
   "outputs": [],
   "source": []
  },
  {
   "cell_type": "code",
   "execution_count": null,
   "metadata": {},
   "outputs": [],
   "source": []
  },
  {
   "cell_type": "code",
   "execution_count": null,
   "metadata": {},
   "outputs": [],
   "source": []
  },
  {
   "cell_type": "code",
   "execution_count": 242,
   "metadata": {},
   "outputs": [],
   "source": [
    "col_rename_dict = {\n",
    "    'Valutadatum':'Date_ordered', \n",
    "    'Buchungstag':'Date_booked', \n",
    "    'Buchungstext':'Text_transaction', \n",
    "    'Verwendungszweck':'Use',\n",
    "    'Beguenstigter/Zahlungspflichtiger':'Contact', \n",
    "    'Kontonummer/IBAN':'AccNum',\n",
    "    'Kontonummer':'AccNum',\n",
    "    'Betrag':'Value_transaction',\n",
    "    'Auftragskonto':'OrderAccount', \n",
    "    'Glaeubiger ID':'LenderID', \n",
    "    'Mandatsreferenz':'MandateReference',\n",
    "    'Kundenreferenz (End-to-End)':'CustomerReference', \n",
    "    'Sammlerreferenz':'CollectorReference',\n",
    "    'Lastschrift Ursprungsbetrag':'Amount0', \n",
    "    'Auslagenersatz Ruecklastschrift':'Amount1',\n",
    "    'BIC (SWIFT-Code)':'BIC', \n",
    "    'BLZ':'BIC',\n",
    "    'Waehrung':'Currency', \n",
    "    'Info':'Information'\n",
    "}"
   ]
  },
  {
   "cell_type": "code",
   "execution_count": 286,
   "metadata": {},
   "outputs": [],
   "source": [
    "df_list = []\n",
    "\n",
    "c_path = newdatapath+'01_SingleTransactions\\\\'\n",
    "for c_file in os.listdir(c_path):\n",
    "    f_name = c_file.split('.')[0].lower()\n",
    "    f_term = c_file.split('.')[-1].lower()\n",
    "    if f_term=='xls' or f_term=='xlsx':\n",
    "        df_list.append(pd.read_excel(c_path+c_file).drop(columns=[\n",
    "            'Glaeubiger ID',\n",
    "            'Mandatsreferenz',\n",
    "            'Kundenreferenz (End-to-End)',\n",
    "            'Sammlerreferenz',\n",
    "            'Lastschrift Ursprungsbetrag',\n",
    "            'Auslagenersatz Ruecklastschrift'\n",
    "        ],errors='ignore').rename(columns=col_rename_dict))\n",
    "        if c_file=='20191215.xlsx':\n",
    "            df_list[-1]['Value_transaction'] = df_list[-1]['Value_transaction'].apply(lambda x: float(str(x)[:-2]+'.'+str(x)[-2:]))\n",
    "    elif f_term=='csv':\n",
    "        df_list.append(pd.read_csv(c_path+c_file,sep=';',encoding='latin-1').drop(columns=[\n",
    "            'Glaeubiger ID',\n",
    "            'Mandatsreferenz',\n",
    "            'Kundenreferenz (End-to-End)',\n",
    "            'Sammlerreferenz',\n",
    "            'Lastschrift Ursprungsbetrag',\n",
    "            'Auslagenersatz Ruecklastschrift'\n",
    "        ],errors='ignore').rename(columns=col_rename_dict))\n",
    "        if c_file=='20191215.xlsx':\n",
    "            df_list[-1]['Value_transaction'] = df_list[-1]['Value_transaction'].apply(lambda x: float(str(x)[:-2]+'.'+str(x)[-2:]))\n",
    "    else:\n",
    "        #print('Skipping file {}'.format(c_file))\n",
    "        continue\n",
    "    #print('Loaded file {}'.format(c_file))"
   ]
  },
  {
   "cell_type": "code",
   "execution_count": 287,
   "metadata": {},
   "outputs": [],
   "source": [
    "df = pd.concat(df_list).reset_index(drop=True)"
   ]
  },
  {
   "cell_type": "code",
   "execution_count": 288,
   "metadata": {},
   "outputs": [],
   "source": [
    "df['Use'] = df['Use'].apply(lambda x: 'Miete fuer Haesschen,du bist toll .)' if 'miete fuer haesschen' in x.lower() else x)\n",
    "df['Use'] = df['Use'].apply(lambda x: 'lohn/gehalt' if 'lohn/gehalt' in x.lower() else x)"
   ]
  },
  {
   "cell_type": "code",
   "execution_count": 289,
   "metadata": {},
   "outputs": [],
   "source": [
    "df['Date_booked'] = pd.to_datetime(df['Date_booked'],format='%d.%m.%y')\n",
    "df['Date_ordered'] = pd.to_datetime(df['Date_ordered'],format='%d.%m.%y')"
   ]
  },
  {
   "cell_type": "code",
   "execution_count": 290,
   "metadata": {},
   "outputs": [],
   "source": [
    "df['Value_transaction'] = df['Value_transaction'].apply(lambda x: str(x).replace(',','.')).astype(np.float64)"
   ]
  },
  {
   "cell_type": "code",
   "execution_count": 291,
   "metadata": {},
   "outputs": [],
   "source": [
    "for colname in ['Text_transaction','Use','Contact']:\n",
    "    df[colname] = df[colname].map(lambda x: re.sub(r'\\W+', ' ', str(x)))"
   ]
  },
  {
   "cell_type": "code",
   "execution_count": 292,
   "metadata": {},
   "outputs": [],
   "source": [
    "df = df.drop_duplicates(subset=[  \n",
    "    'OrderAccount', \n",
    "    'Date_booked', \n",
    "    'Date_ordered', \n",
    "    'Text_transaction',\n",
    "    'Use', \n",
    "    #'Contact', \n",
    "    'AccNum', \n",
    "    'BIC', \n",
    "    'Value_transaction', \n",
    "    'Currency',\n",
    "    'Information'\n",
    "],keep='first').reset_index(drop=True)"
   ]
  },
  {
   "cell_type": "code",
   "execution_count": 293,
   "metadata": {},
   "outputs": [],
   "source": [
    "df['SpendingType'] = np.nan\n",
    "\n",
    "# Identify cash withdrawls\n",
    "df.loc[df['Text_transaction'].isin(['BARGELDAUSZAHLUNG']),'SpendingType'] = 'CASHOUT'\n",
    "\n",
    "# Rent\n",
    "df.loc[(df['Use'].apply(lambda x: 'miete' in x.lower()))&(df['Value_transaction']<=0),'SpendingType'] = 'RENT'\n",
    "\n",
    "# Utilities\n",
    "df.loc[(df['SpendingType'].isna())&(df['Contact'].apply(lambda x: 'estw erlangerstadtwerkeag' in x.lower())),'SpendingType'] = 'UTILITIES POWER'\n",
    "df.loc[(df['SpendingType'].isna())&(df['Contact'].apply(lambda x: 'm net tele' in x.lower())),'SpendingType'] = 'UTILITIES INET'\n",
    "\n",
    "# Phone bill\n",
    "df.loc[(df['Use'].apply(lambda x: 'mobilfunk' in x.lower()))&(df['Contact'].apply(lambda x: 'telekom' in x.lower()))&(df['Value_transaction']<=0),'SpendingType'] = 'UTILITIES PHONEBILL'\n",
    "\n",
    "# Identify salary\n",
    "df.loc[(df['Text_transaction'].apply(lambda x: 'lohn gehalt' in x.lower())),'SpendingType'] = 'SALARY'\n",
    "\n",
    "# Casino spending at SHS\n",
    "df.loc[df['Use'].apply(lambda x: 'siemens casino card' in x.lower()),'SpendingType'] = 'FOOD&BEVERAGES'\n",
    "\n",
    "# Union fees\n",
    "df.loc[df['Contact']=='IGM Erlangen','SpendingType'] = 'MEMBERSHIP_FEES IGMETALL'\n",
    "\n",
    "# ImmoScout fees\n",
    "df.loc[df['Use'].apply(lambda x: 'immobilien' in x.lower()),'SpendingType'] = 'MEMBERSHIP_FEES IMMOSCOUT'\n",
    "\n",
    "# Gym fees\n",
    "df.loc[df['Contact']=='SLF Sportland Franken GmbH Co KG','SpendingType'] = 'MEMBERSHIP_FEES SPORTLAND'\n",
    "df.loc[df['Use'].apply(lambda x: 'kieser training' in x.lower()),'SpendingType'] = 'MEMBERSHIP_FEES KIESER'\n",
    "\n",
    "# Bonus payments from family\n",
    "df.loc[df['Use'].isin([\n",
    "    'MIETZUSCHUs F STUDENT F U B DEINHARD ', \n",
    "    'MIETE UND ANDERES ',\n",
    "    'SVWZ TASCHENGELD', \n",
    "    'SVWZ MIETZUSCHUs F STUDENT F U B DEINHARD',\n",
    "    'SVWZ MIETE UND ANDERES'\n",
    "]),'SpendingType'] = 'BONUSIN_FAMILY'\n",
    "df.loc[(df['SpendingType'].isna())&(df['Use']=='TASCHENGELD ')&(df['Contact']=='Hermann Kuespert'),'SpendingType'] = 'BONUSIN_FAMILY'\n",
    "\n",
    "# Insurance fees\n",
    "df.loc[(df['Contact'].apply(lambda x: 'hansemerkur' in x.lower()))|(df['Contact']=='Techniker Krankenkasse'),'SpendingType'] = 'INSURANCE TKK'\n",
    "df.loc[(df['Contact'].apply(lambda x: 'huk coburg' in x.lower()))&(df['SpendingType'].isna()),'SpendingType'] = 'INSURANCE HUK'\n",
    "df.loc[(df['SpendingType'].isna())&(df['Use'].apply(lambda x: 'haftpflicht' in x.lower())),'SpendingType'] = 'INSURANCE HAFTPFL'\n",
    "df.loc[(df['SpendingType'].isna())&(df['Contact']=='ARAG KRANKENVERSICHERUNG AG'),'SpendingType'] = 'INSURANCE ARAG' \n",
    "df.loc[(df['SpendingType'].isna())&(df['Contact']=='Siemens BKK'),'SpendingType'] = 'INSURANCE SBK'\n",
    "\n",
    "# Credit card bill\n",
    "df.loc[df['Contact']=='KREDITKARTENABRECHNUNG','SpendingType'] = 'CREDITCARD'\n",
    "\n",
    "# Contact lenses\n",
    "df.loc[(df['Use'].apply(lambda x: 'schaefer nohe' in x.lower()))|(df['Contact'].apply(lambda x: 'schaefer nohe' in x.lower())),'SpendingType'] = 'MEDICAL OPTICIAN'\n",
    "\n",
    "# Gene sequencing 23andMe\n",
    "df.loc[df['Use'].apply(lambda x: '23andme' in x.lower()),'SpendingType'] = 'MEDICAL MISC'\n",
    "\n",
    "# Amazon videos\n",
    "df.loc[df['Contact']=='AMAZON INSTANT VIDEO GERMANY GMBH','SpendingType'] = 'AMAZONVIDEOS'\n",
    "df.loc[df['Use'].apply(lambda x: 'prime video' in x.lower()),'SpendingType'] = 'AMAZONVIDEOS'\n",
    "\n",
    "# Amazon shopping\n",
    "df.loc[(df['SpendingType'].isna())&(df['Use'].apply(lambda x: 'amzn mktp' in x.lower() or 'amazon' in x.lower())),'SpendingType'] = 'AMAZONSHOPPING'\n",
    "\n",
    "# Entertainment\n",
    "df.loc[df['Use'].apply(lambda x: \n",
    "        'spotify' in x.lower() or \n",
    "        'dancarlin' in x.lower() or\n",
    "        'steam games' in x.lower()\n",
    "),'SpendingType'] = 'ENTERTAINMENTMISC'\n",
    "\n",
    "# Depot\n",
    "df.loc[df['Text_transaction']=='WERTPAPIERE','SpendingType'] = 'STOCKDEPOT'\n",
    "\n",
    "# Debit card bill\n",
    "df.loc[(df['Use'].apply(lambda x: 'debitk' in x.lower()))&(df['SpendingType'].isna()),'SpendingType'] = 'DEBITCARD PAYMENT'\n",
    "df.loc[(df['Text_transaction'].apply(lambda x: 'sepa' in x.lower()))&(df['SpendingType'].isna()),'SpendingType'] = 'DEBITCARD TRANSFER'\n",
    "\n",
    "# Lent money backflow\n",
    "df.loc[(df['SpendingType'].isna())&(df['Text_transaction'].apply(lambda x: 'gutschr' in x.lower())),'SpendingType'] = 'LENTBACK_PRIVATE'\n",
    "\n",
    "# Rent deposit\n",
    "df.loc[(df['SpendingType'].isna())&(df['Use'].apply(lambda x: 'kaution' in x.lower())),'SpendingType'] = 'DEPOSIT'\n",
    "\n",
    "# Miscellaneous PayPal expenses\n",
    "df.loc[(df['SpendingType'].isna())&(df['Contact'].apply(lambda x: 'paypal'in x.lower())),'SpendingType'] = 'PAYPAL_MISC'\n",
    "\n",
    "# Costs for the account\n",
    "df.loc[(df['SpendingType'].isna())&(df['AccNum'].apply(lambda x: x=='0000000000' or str(x)=='nan'))&(df['Use'].apply(lambda x: 'entgeltabrechnung' in x.lower())),'SpendingType'] = 'BANKACCOUNTCOST'\n",
    "df.loc[(df['SpendingType'].isna())&(df['AccNum']=='0020557849')&(df['BIC']=='77350110')&(df['Text_transaction']=='ABSCHLUSS'),'SpendingType'] = 'BANKACCOUNTCOST'\n",
    "\n",
    "# Label known miscellanii\n",
    "known_misc = pickle.load(open(newdatapath+'05_METADATA\\\\known_misc.pkl','rb'))\n",
    "df.loc[(df['SpendingType'].isna())&(df[['Text_transaction','Use','Contact','AccNum','BIC']].apply(lambda x: '|||'.join([str(x) for x in list(x)]) in known_misc,axis=1)),'SpendingType'] = 'KNOWNMISC'\n",
    "\n",
    "# Identify unknown miscellanii\n",
    "df.loc[df['SpendingType'].isna(),'SpendingType'] = '__UNKNOWN__' "
   ]
  },
  {
   "cell_type": "code",
   "execution_count": 294,
   "metadata": {},
   "outputs": [],
   "source": [
    "# Major expense groupings\n",
    "dict_spending_type2group = {\n",
    "    'CASHOUT':'CASHOUT', \n",
    "    'BANKACCOUNTCOST':'BANKACCOUNTCOST', \n",
    "    'RENT':'RENT', \n",
    "    'MEMBERSHIP_FEES SPORTLAND':'MEMBERSHIP_FEES',\n",
    "    'FOOD&BEVERAGES':'UTILITIES', \n",
    "    'UTILITIES PHONEBILL':'UTILITIES', \n",
    "    'UTILITIES POWER':'UTILITIES',\n",
    "    'MEMBERSHIP_FEES IGMETALL':'MEMBERSHIP_FEES', \n",
    "    'SALARY':'SALARY', \n",
    "    'AMAZONVIDEOS':'AMAZON',\n",
    "    'ENTERTAINMENTMISC':'MISC', \n",
    "    'CREDITCARD':'CREDITCARDBILL', \n",
    "    'MEDICAL OPTICIAN':'MEDICAL',\n",
    "    'UTILITIES INET':'UTILITIES', \n",
    "    'MEMBERSHIP_FEES KIESER':'MEMBERSHIP_FEES', \n",
    "    'DEBITCARD PAYMENT':'CREDITCARDBILL',\n",
    "    'PAYPAL_MISC':'MISC', \n",
    "    'DEBITCARD TRANSFER':'MISC',\n",
    "    'LENTBACK_PRIVATE':'LENTBACK',\n",
    "    'INSURANCE SBK':'INSURANCE', \n",
    "    'BONUSIN_FAMILY':'BONUS', \n",
    "    'STOCKDEPOT':'STOCKDEPOT', \n",
    "    'AMAZONSHOPPING':'AMAZON',\n",
    "    'MEMBERSHIP_FEES IMMOSCOUT':'MEMBERSHIP_FEES', \n",
    "    'INSURANCE ARAG':'INSURANCE', \n",
    "    'KNOWNMISC':'KNOWNMISC',\n",
    "    'INSURANCE HAFTPFL':'INSURANCE', \n",
    "    'INSURANCE TKK':'INSURANCE', \n",
    "    'MEDICAL MISC':'MEDICAL',\n",
    "    'INSURANCE HUK':'INSURANCE', \n",
    "    'DEPOSIT':'DEPOSIT',\n",
    "    '__UNKNOWN__':'__UNKNOWN__'\n",
    "}\n",
    "df['ExpenseGroup'] = df['SpendingType'].map(dict_spending_type2group)"
   ]
  },
  {
   "cell_type": "code",
   "execution_count": 295,
   "metadata": {},
   "outputs": [],
   "source": [
    "df.to_excel(storepath+'STF.xlsx')"
   ]
  },
  {
   "cell_type": "code",
   "execution_count": null,
   "metadata": {},
   "outputs": [],
   "source": []
  },
  {
   "cell_type": "code",
   "execution_count": null,
   "metadata": {},
   "outputs": [],
   "source": []
  },
  {
   "cell_type": "code",
   "execution_count": null,
   "metadata": {},
   "outputs": [],
   "source": []
  },
  {
   "cell_type": "code",
   "execution_count": 296,
   "metadata": {},
   "outputs": [],
   "source": [
    "# Extract relevant information\n",
    "tf = df[['Date_booked','Value_transaction']]\n",
    "tf = tf.drop(index=tf[tf['Value_transaction']>=0].index).reset_index(drop=True)"
   ]
  },
  {
   "cell_type": "code",
   "execution_count": 297,
   "metadata": {},
   "outputs": [],
   "source": [
    "# Generate interesting time indices\n",
    "tf['YYYY-MM'] = pd.to_datetime(tf['Date_booked'].apply(lambda x: x.strftime('%Y-%m')))\n",
    "tf['YYYY-MM-DD'] = pd.to_datetime(tf['Date_booked'].apply(lambda x: x.strftime('%Y-%m-%d')))\n",
    "# Extract single date identifiers\n",
    "#tf['DD'] = tf['Date_booked'].apply(lambda x: x.day)\n",
    "#tf['MM'] = tf['Date_booked'].apply(lambda x: x.month)\n",
    "#tf['YYYY'] = tf['Date_booked'].apply(lambda x: x.year)\n",
    "# Drop unformatted column\n",
    "tf = tf.drop(columns=['Date_booked'])"
   ]
  },
  {
   "cell_type": "code",
   "execution_count": 298,
   "metadata": {},
   "outputs": [],
   "source": [
    "# Accumulate by months and days \n",
    "rf_monthly = tf[['YYYY-MM','Value_transaction']].groupby(['YYYY-MM']).sum().abs()\n",
    "rf_daily = tf[['YYYY-MM-DD','Value_transaction']].groupby(['YYYY-MM-DD']).sum().abs()"
   ]
  },
  {
   "cell_type": "code",
   "execution_count": 299,
   "metadata": {},
   "outputs": [],
   "source": [
    "# Extract full date\n",
    "rf_monthly['Date'] = rf_monthly.apply(lambda x: x.index)\n",
    "rf_daily['Date'] = rf_daily.apply(lambda x: x.index)\n",
    "# Extract years\n",
    "rf_daily['Year'] = rf_daily.apply(lambda x: x['Date'].year,axis=1)\n",
    "rf_monthly['Year'] = rf_monthly.apply(lambda x: x['Date'].year,axis=1)\n",
    "# Extract months\n",
    "rf_daily['Month'] = rf_daily.apply(lambda x: x['Date'].month,axis=1)\n",
    "rf_monthly['Month'] = rf_monthly.apply(lambda x: x['Date'].month,axis=1)\n",
    "# Extract days\n",
    "rf_daily['Day'] = rf_daily.apply(lambda x: x['Date'].day,axis=1)\n",
    "rf_monthly['Day'] = rf_monthly.apply(lambda x: x['Date'].day,axis=1)"
   ]
  },
  {
   "cell_type": "code",
   "execution_count": 300,
   "metadata": {},
   "outputs": [],
   "source": [
    "# Determine current dates of interest\n",
    "c_date = tf['YYYY-MM-DD'].max()\n",
    "p_date = c_date-pd.DateOffset(months=1)\n",
    "pp_date = c_date-pd.DateOffset(months=2)\n",
    "ppp_date = c_date-pd.DateOffset(months=3)"
   ]
  },
  {
   "cell_type": "code",
   "execution_count": 301,
   "metadata": {},
   "outputs": [],
   "source": [
    "# Current month\n",
    "start_date = '{}-{}-{}'.format(str(c_date.year),str(str(c_date.month).zfill(2)),'01')\n",
    "end_date = '{}-{}-{}'.format(str(c_date.year if c_date.month!=12 else c_date.year+1),str(str((c_date.month)%12+1).zfill(2)),'01')\n",
    "c_index = pd.date_range(\n",
    "    start=start_date,\n",
    "    end=end_date\n",
    ")[:-1]\n",
    "tt = rf_daily[(rf_daily['Year']==c_date.year)&(rf_daily['Month']==c_date.month)][['Value_transaction']]\n",
    "m0 = tt.reindex(c_index,fill_value=0)"
   ]
  },
  {
   "cell_type": "code",
   "execution_count": 302,
   "metadata": {},
   "outputs": [],
   "source": [
    "# Current month - 1\n",
    "start_date = '{}-{}-{}'.format(str(p_date.year),str(str(p_date.month).zfill(2)),'01')\n",
    "end_date = '{}-{}-{}'.format(str(p_date.year if p_date.month!=12 else p_date.year+1),str(str((p_date.month)%12+1).zfill(2)),'01')\n",
    "c_index = pd.date_range(\n",
    "    start=start_date,\n",
    "    end=end_date\n",
    ")[:-1]\n",
    "tt = rf_daily[(rf_daily['Year']==p_date.year)&(rf_daily['Month']==p_date.month)][['Value_transaction']]\n",
    "m1 = tt.reindex(c_index,fill_value=0)"
   ]
  },
  {
   "cell_type": "code",
   "execution_count": 303,
   "metadata": {},
   "outputs": [],
   "source": [
    "# Current month - 2\n",
    "start_date = '{}-{}-{}'.format(str(pp_date.year),str(str(pp_date.month).zfill(2)),'01')\n",
    "end_date = '{}-{}-{}'.format(str(pp_date.year if pp_date.month!=12 else pp_date.year+1),str(str((pp_date.month)%12+1).zfill(2)),'01')\n",
    "c_index = pd.date_range(\n",
    "    start=start_date,\n",
    "    end=end_date\n",
    ")[:-1]\n",
    "tt = rf_daily[(rf_daily['Year']==pp_date.year)&(rf_daily['Month']==pp_date.month)][['Value_transaction']]\n",
    "m2 = tt.reindex(c_index,fill_value=0)"
   ]
  },
  {
   "cell_type": "code",
   "execution_count": 304,
   "metadata": {},
   "outputs": [],
   "source": [
    "# Current month - 3\n",
    "start_date = '{}-{}-{}'.format(str(ppp_date.year),str(str(ppp_date.month).zfill(2)),'01')\n",
    "end_date = '{}-{}-{}'.format(str(ppp_date.year if ppp_date.month!=12 else ppp_date.year+1),str(str((ppp_date.month)%12+1).zfill(2)),'01')\n",
    "c_index = pd.date_range(\n",
    "    start=start_date,\n",
    "    end=end_date\n",
    ")[:-1]\n",
    "tt = rf_daily[(rf_daily['Year']==ppp_date.year)&(rf_daily['Month']==ppp_date.month)][['Value_transaction']]\n",
    "m3 = tt.reindex(c_index,fill_value=0)"
   ]
  },
  {
   "cell_type": "code",
   "execution_count": 305,
   "metadata": {},
   "outputs": [],
   "source": [
    "writer = pd.ExcelWriter(storepath+'RunningMonthlyExp.xlsx',engine='openpyxl')\n",
    "\n",
    "m0.to_excel(writer,sheet_name='p0')\n",
    "m1.to_excel(writer,sheet_name='p1')\n",
    "m2.to_excel(writer,sheet_name='p2')\n",
    "m3.to_excel(writer,sheet_name='p3')"
   ]
  },
  {
   "cell_type": "code",
   "execution_count": null,
   "metadata": {},
   "outputs": [],
   "source": []
  },
  {
   "cell_type": "code",
   "execution_count": null,
   "metadata": {},
   "outputs": [],
   "source": []
  },
  {
   "cell_type": "code",
   "execution_count": null,
   "metadata": {},
   "outputs": [],
   "source": []
  },
  {
   "cell_type": "code",
   "execution_count": 306,
   "metadata": {},
   "outputs": [],
   "source": [
    "bf = df[['Date_booked','Value_transaction']]\n",
    "\n",
    "pf = bf[bf['Value_transaction']>0].reset_index(drop=True)\n",
    "nf = bf[bf['Value_transaction']<0].reset_index(drop=True)\n",
    "\n",
    "pf['YYYY-MM'] = pd.to_datetime(pf['Date_booked'].apply(lambda x: x.strftime('%m-%Y')))\n",
    "nf['YYYY-MM'] = pd.to_datetime(nf['Date_booked'].apply(lambda x: x.strftime('%m-%Y')))"
   ]
  },
  {
   "cell_type": "code",
   "execution_count": 307,
   "metadata": {},
   "outputs": [],
   "source": [
    "pf = pf.drop(columns=['Date_booked'])\n",
    "nf = nf.drop(columns=['Date_booked'])"
   ]
  },
  {
   "cell_type": "code",
   "execution_count": 308,
   "metadata": {},
   "outputs": [],
   "source": [
    "pf = pf.groupby(['YYYY-MM']).sum()\n",
    "nf = nf.groupby(['YYYY-MM']).sum()"
   ]
  },
  {
   "cell_type": "code",
   "execution_count": 309,
   "metadata": {},
   "outputs": [],
   "source": [
    "mf = pd.merge(nf,pf,on='YYYY-MM').rename(columns={\n",
    "    'Value_transaction_x':'expenses',\n",
    "    'Value_transaction_y':'revenue'\n",
    "})\n",
    "mf['expenses'] = mf['expenses'].abs()"
   ]
  },
  {
   "cell_type": "code",
   "execution_count": 310,
   "metadata": {},
   "outputs": [],
   "source": [
    "mf.to_excel(storepath+'MonthlyExpRevAggregate.xlsx')"
   ]
  },
  {
   "cell_type": "code",
   "execution_count": null,
   "metadata": {},
   "outputs": [],
   "source": []
  },
  {
   "cell_type": "code",
   "execution_count": null,
   "metadata": {},
   "outputs": [],
   "source": []
  },
  {
   "cell_type": "code",
   "execution_count": null,
   "metadata": {},
   "outputs": [],
   "source": []
  },
  {
   "cell_type": "code",
   "execution_count": 311,
   "metadata": {},
   "outputs": [],
   "source": [
    "at = pd.read_excel(newdatapath+'02_AccountTotal\\\\AccountTracker.xlsx',parse_dates=['Date'],index_col='Date')"
   ]
  },
  {
   "cell_type": "code",
   "execution_count": 312,
   "metadata": {},
   "outputs": [],
   "source": [
    "at.to_excel(storepath+'ATR.xlsx')"
   ]
  },
  {
   "cell_type": "code",
   "execution_count": null,
   "metadata": {},
   "outputs": [],
   "source": []
  },
  {
   "cell_type": "code",
   "execution_count": null,
   "metadata": {},
   "outputs": [],
   "source": []
  },
  {
   "cell_type": "code",
   "execution_count": null,
   "metadata": {},
   "outputs": [],
   "source": []
  },
  {
   "cell_type": "code",
   "execution_count": null,
   "metadata": {},
   "outputs": [],
   "source": []
  }
 ],
 "metadata": {
  "kernelspec": {
   "display_name": "Python 3",
   "language": "python",
   "name": "python3"
  },
  "language_info": {
   "codemirror_mode": {
    "name": "ipython",
    "version": 3
   },
   "file_extension": ".py",
   "mimetype": "text/x-python",
   "name": "python",
   "nbconvert_exporter": "python",
   "pygments_lexer": "ipython3",
   "version": "3.6.5"
  }
 },
 "nbformat": 4,
 "nbformat_minor": 2
}
