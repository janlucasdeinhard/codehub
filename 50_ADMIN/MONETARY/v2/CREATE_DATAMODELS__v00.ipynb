{
 "cells": [
  {
   "cell_type": "code",
   "execution_count": 198,
   "metadata": {},
   "outputs": [],
   "source": [
    "import numpy as np\n",
    "from numpy import random as rnd\n",
    "from matplotlib import pyplot as plt\n",
    "import datetime,os\n",
    "\n",
    "import torch\n",
    "import pandas as pd\n",
    "\n",
    "from fuzzywuzzy import fuzz\n",
    "\n",
    "import re\n",
    "from itertools import product"
   ]
  },
  {
   "cell_type": "code",
   "execution_count": 141,
   "metadata": {},
   "outputs": [],
   "source": [
    "newdatapath = '..\\\\..\\\\..\\\\..\\\\TF_data\\\\ADMIN\\\\v2\\\\'\n",
    "storepath = '..\\\\..\\\\..\\\\..\\\\TF_data\\\\ADMIN\\\\v2\\\\04_DATA\\\\'"
   ]
  },
  {
   "cell_type": "code",
   "execution_count": null,
   "metadata": {},
   "outputs": [],
   "source": []
  },
  {
   "cell_type": "code",
   "execution_count": null,
   "metadata": {},
   "outputs": [],
   "source": []
  },
  {
   "cell_type": "code",
   "execution_count": null,
   "metadata": {},
   "outputs": [],
   "source": []
  },
  {
   "cell_type": "code",
   "execution_count": 140,
   "metadata": {},
   "outputs": [],
   "source": [
    "col_rename_dict = {\n",
    "    'Valutadatum':'Date_ordered', \n",
    "    'Buchungstag':'Date_booked', \n",
    "    'Buchungstext':'Text_transaction', \n",
    "    'Verwendungszweck':'Use',\n",
    "    'Beguenstigter/Zahlungspflichtiger':'Contact', \n",
    "    'Kontonummer/IBAN':'AccNum',\n",
    "    'Kontonummer':'AccNum',\n",
    "    'Betrag':'Value_transaction',\n",
    "    'Auftragskonto':'OrderAccount', \n",
    "    'Glaeubiger ID':'LenderID', \n",
    "    'Mandatsreferenz':'MandateReference',\n",
    "    'Kundenreferenz (End-to-End)':'CustomerReference', \n",
    "    'Sammlerreferenz':'CollectorReference',\n",
    "    'Lastschrift Ursprungsbetrag':'Amount0', \n",
    "    'Auslagenersatz Ruecklastschrift':'Amount1',\n",
    "    'BIC (SWIFT-Code)':'BIC', \n",
    "    'BLZ':'BIC',\n",
    "    'Waehrung':'Currency', \n",
    "    'Info':'Information'\n",
    "}"
   ]
  },
  {
   "cell_type": "code",
   "execution_count": 502,
   "metadata": {},
   "outputs": [],
   "source": [
    "df_list = []\n",
    "\n",
    "c_path = newdatapath+'01_SingleTransactions\\\\'\n",
    "for c_file in os.listdir(c_path):\n",
    "    f_name = c_file.split('.')[0].lower()\n",
    "    f_term = c_file.split('.')[-1].lower()\n",
    "    if f_term=='xls' or f_term=='xlsx':\n",
    "        df_list.append(pd.read_excel(c_path+c_file).drop(columns=[\n",
    "            'Glaeubiger ID',\n",
    "            'Mandatsreferenz',\n",
    "            'Kundenreferenz (End-to-End)',\n",
    "            'Sammlerreferenz',\n",
    "            'Lastschrift Ursprungsbetrag',\n",
    "            'Auslagenersatz Ruecklastschrift'\n",
    "        ],errors='ignore').rename(columns=col_rename_dict))\n",
    "        if c_file=='20191215.xlsx':\n",
    "            df_list[-1]['Value_transaction'] = df_list[-1]['Value_transaction'].apply(lambda x: float(str(x)[:-2]+'.'+str(x)[-2:]))\n",
    "    elif f_term=='csv':\n",
    "        df_list.append(pd.read_csv(c_path+c_file,sep=';',encoding='latin-1').drop(columns=[\n",
    "            'Glaeubiger ID',\n",
    "            'Mandatsreferenz',\n",
    "            'Kundenreferenz (End-to-End)',\n",
    "            'Sammlerreferenz',\n",
    "            'Lastschrift Ursprungsbetrag',\n",
    "            'Auslagenersatz Ruecklastschrift'\n",
    "        ],errors='ignore').rename(columns=col_rename_dict))\n",
    "        if c_file=='20191215.xlsx':\n",
    "            df_list[-1]['Value_transaction'] = df_list[-1]['Value_transaction'].apply(lambda x: float(str(x)[:-2]+'.'+str(x)[-2:]))\n",
    "    else:\n",
    "        #print('Skipping file {}'.format(c_file))\n",
    "        continue\n",
    "    #print('Loaded file {}'.format(c_file))"
   ]
  },
  {
   "cell_type": "code",
   "execution_count": 503,
   "metadata": {},
   "outputs": [],
   "source": [
    "df = pd.concat(df_list).reset_index(drop=True)"
   ]
  },
  {
   "cell_type": "code",
   "execution_count": 504,
   "metadata": {},
   "outputs": [],
   "source": [
    "df['Date_booked'] = pd.to_datetime(df['Date_booked'],format='%d.%m.%y')\n",
    "df['Date_ordered'] = pd.to_datetime(df['Date_ordered'],format='%d.%m.%y')"
   ]
  },
  {
   "cell_type": "code",
   "execution_count": 505,
   "metadata": {},
   "outputs": [],
   "source": [
    "df['Value_transaction'] = df['Value_transaction'].apply(lambda x: str(x).replace(',','.')).astype(np.float64)"
   ]
  },
  {
   "cell_type": "code",
   "execution_count": 506,
   "metadata": {},
   "outputs": [],
   "source": [
    "for colname in ['Text_transaction','Use','Contact']:\n",
    "    df[colname] = df[colname].map(lambda x: re.sub(r'\\W+', ' ', str(x)))"
   ]
  },
  {
   "cell_type": "code",
   "execution_count": 507,
   "metadata": {},
   "outputs": [],
   "source": [
    "df = df.drop_duplicates(subset=[  \n",
    "    'OrderAccount', \n",
    "    'Date_booked', \n",
    "    'Date_ordered', \n",
    "    'Text_transaction',\n",
    "    'Use', \n",
    "    #'Contact', \n",
    "    'AccNum', \n",
    "    'BIC', \n",
    "    'Value_transaction', \n",
    "    'Currency',\n",
    "    'Information'\n",
    "],keep='first').reset_index(drop=True)"
   ]
  },
  {
   "cell_type": "code",
   "execution_count": 508,
   "metadata": {},
   "outputs": [],
   "source": [
    "df.to_excel(storepath+'STF.xlsx')"
   ]
  },
  {
   "cell_type": "code",
   "execution_count": null,
   "metadata": {},
   "outputs": [],
   "source": []
  },
  {
   "cell_type": "code",
   "execution_count": null,
   "metadata": {},
   "outputs": [],
   "source": []
  },
  {
   "cell_type": "code",
   "execution_count": null,
   "metadata": {},
   "outputs": [],
   "source": []
  },
  {
   "cell_type": "code",
   "execution_count": 509,
   "metadata": {},
   "outputs": [],
   "source": [
    "# Extract relevant information\n",
    "tf = df[['Date_booked','Value_transaction']]\n",
    "tf = tf.drop(index=tf[tf['Value_transaction']>=0].index).reset_index(drop=True)"
   ]
  },
  {
   "cell_type": "code",
   "execution_count": 510,
   "metadata": {},
   "outputs": [],
   "source": [
    "# Generate interesting time indices\n",
    "tf['YYYY-MM'] = pd.to_datetime(tf['Date_booked'].apply(lambda x: x.strftime('%Y-%m')))\n",
    "tf['YYYY-MM-DD'] = pd.to_datetime(tf['Date_booked'].apply(lambda x: x.strftime('%Y-%m-%d')))\n",
    "# Extract single date identifiers\n",
    "#tf['DD'] = tf['Date_booked'].apply(lambda x: x.day)\n",
    "#tf['MM'] = tf['Date_booked'].apply(lambda x: x.month)\n",
    "#tf['YYYY'] = tf['Date_booked'].apply(lambda x: x.year)\n",
    "# Drop unformatted column\n",
    "tf = tf.drop(columns=['Date_booked'])"
   ]
  },
  {
   "cell_type": "code",
   "execution_count": 511,
   "metadata": {},
   "outputs": [],
   "source": [
    "# Accumulate by months and days \n",
    "rf_monthly = tf[['YYYY-MM','Value_transaction']].groupby(['YYYY-MM']).sum().abs()\n",
    "rf_daily = tf[['YYYY-MM-DD','Value_transaction']].groupby(['YYYY-MM-DD']).sum().abs()"
   ]
  },
  {
   "cell_type": "code",
   "execution_count": 512,
   "metadata": {},
   "outputs": [],
   "source": [
    "# Extract full date\n",
    "rf_monthly['Date'] = rf_monthly.apply(lambda x: x.index)\n",
    "rf_daily['Date'] = rf_daily.apply(lambda x: x.index)\n",
    "# Extract years\n",
    "rf_daily['Year'] = rf_daily.apply(lambda x: x['Date'].year,axis=1)\n",
    "rf_monthly['Year'] = rf_monthly.apply(lambda x: x['Date'].year,axis=1)\n",
    "# Extract months\n",
    "rf_daily['Month'] = rf_daily.apply(lambda x: x['Date'].month,axis=1)\n",
    "rf_monthly['Month'] = rf_monthly.apply(lambda x: x['Date'].month,axis=1)\n",
    "# Extract days\n",
    "rf_daily['Day'] = rf_daily.apply(lambda x: x['Date'].day,axis=1)\n",
    "rf_monthly['Day'] = rf_monthly.apply(lambda x: x['Date'].day,axis=1)"
   ]
  },
  {
   "cell_type": "code",
   "execution_count": 513,
   "metadata": {},
   "outputs": [],
   "source": [
    "# Determine current dates of interest\n",
    "c_date = tf['YYYY-MM-DD'].max()\n",
    "p_date = c_date-pd.DateOffset(months=1)\n",
    "pp_date = c_date-pd.DateOffset(months=2)\n",
    "ppp_date = c_date-pd.DateOffset(months=3)"
   ]
  },
  {
   "cell_type": "code",
   "execution_count": 514,
   "metadata": {},
   "outputs": [],
   "source": [
    "# Current month\n",
    "start_date = '{}-{}-{}'.format(str(c_date.year),str(str(c_date.month).zfill(2)),'01')\n",
    "end_date = '{}-{}-{}'.format(str(c_date.year if c_date.month!=12 else c_date.year+1),str(str((c_date.month)%12+1).zfill(2)),'01')\n",
    "c_index = pd.date_range(\n",
    "    start=start_date,\n",
    "    end=end_date\n",
    ")[:-1]\n",
    "tt = rf_daily[(rf_daily['Year']==c_date.year)&(rf_daily['Month']==c_date.month)][['Value_transaction']]\n",
    "m0 = tt.reindex(c_index,fill_value=0)"
   ]
  },
  {
   "cell_type": "code",
   "execution_count": 515,
   "metadata": {},
   "outputs": [],
   "source": [
    "# Current month - 1\n",
    "start_date = '{}-{}-{}'.format(str(p_date.year),str(str(p_date.month).zfill(2)),'01')\n",
    "end_date = '{}-{}-{}'.format(str(p_date.year if p_date.month!=12 else p_date.year+1),str(str((p_date.month)%12+1).zfill(2)),'01')\n",
    "c_index = pd.date_range(\n",
    "    start=start_date,\n",
    "    end=end_date\n",
    ")[:-1]\n",
    "tt = rf_daily[(rf_daily['Year']==p_date.year)&(rf_daily['Month']==p_date.month)][['Value_transaction']]\n",
    "m1 = tt.reindex(c_index,fill_value=0)"
   ]
  },
  {
   "cell_type": "code",
   "execution_count": 516,
   "metadata": {},
   "outputs": [],
   "source": [
    "# Current month - 2\n",
    "start_date = '{}-{}-{}'.format(str(pp_date.year),str(str(pp_date.month).zfill(2)),'01')\n",
    "end_date = '{}-{}-{}'.format(str(pp_date.year if pp_date.month!=12 else pp_date.year+1),str(str((pp_date.month)%12+1).zfill(2)),'01')\n",
    "c_index = pd.date_range(\n",
    "    start=start_date,\n",
    "    end=end_date\n",
    ")[:-1]\n",
    "tt = rf_daily[(rf_daily['Year']==pp_date.year)&(rf_daily['Month']==pp_date.month)][['Value_transaction']]\n",
    "m2 = tt.reindex(c_index,fill_value=0)"
   ]
  },
  {
   "cell_type": "code",
   "execution_count": 517,
   "metadata": {},
   "outputs": [],
   "source": [
    "# Current month - 3\n",
    "start_date = '{}-{}-{}'.format(str(ppp_date.year),str(str(ppp_date.month).zfill(2)),'01')\n",
    "end_date = '{}-{}-{}'.format(str(ppp_date.year if ppp_date.month!=12 else ppp_date.year+1),str(str((ppp_date.month)%12+1).zfill(2)),'01')\n",
    "c_index = pd.date_range(\n",
    "    start=start_date,\n",
    "    end=end_date\n",
    ")[:-1]\n",
    "tt = rf_daily[(rf_daily['Year']==ppp_date.year)&(rf_daily['Month']==ppp_date.month)][['Value_transaction']]\n",
    "m3 = tt.reindex(c_index,fill_value=0)"
   ]
  },
  {
   "cell_type": "code",
   "execution_count": 518,
   "metadata": {},
   "outputs": [],
   "source": [
    "writer = pd.ExcelWriter(storepath+'RunningMonthlyExp.xlsx',engine='openpyxl')\n",
    "\n",
    "m0.to_excel(writer,sheet_name='p0')\n",
    "m1.to_excel(writer,sheet_name='p1')\n",
    "m2.to_excel(writer,sheet_name='p2')\n",
    "m3.to_excel(writer,sheet_name='p3')"
   ]
  },
  {
   "cell_type": "code",
   "execution_count": null,
   "metadata": {},
   "outputs": [],
   "source": []
  },
  {
   "cell_type": "code",
   "execution_count": null,
   "metadata": {},
   "outputs": [],
   "source": []
  },
  {
   "cell_type": "code",
   "execution_count": null,
   "metadata": {},
   "outputs": [],
   "source": []
  },
  {
   "cell_type": "code",
   "execution_count": 519,
   "metadata": {},
   "outputs": [],
   "source": [
    "bf = df[['Date_booked','Value_transaction']]\n",
    "\n",
    "pf = bf[bf['Value_transaction']>0].reset_index(drop=True)\n",
    "nf = bf[bf['Value_transaction']<0].reset_index(drop=True)\n",
    "\n",
    "pf['YYYY-MM'] = pd.to_datetime(pf['Date_booked'].apply(lambda x: x.strftime('%m-%Y')))\n",
    "nf['YYYY-MM'] = pd.to_datetime(nf['Date_booked'].apply(lambda x: x.strftime('%m-%Y')))"
   ]
  },
  {
   "cell_type": "code",
   "execution_count": 520,
   "metadata": {},
   "outputs": [],
   "source": [
    "pf = pf.drop(columns=['Date_booked'])\n",
    "nf = nf.drop(columns=['Date_booked'])"
   ]
  },
  {
   "cell_type": "code",
   "execution_count": 521,
   "metadata": {},
   "outputs": [],
   "source": [
    "pf = pf.groupby(['YYYY-MM']).sum()\n",
    "nf = nf.groupby(['YYYY-MM']).sum()"
   ]
  },
  {
   "cell_type": "code",
   "execution_count": 522,
   "metadata": {},
   "outputs": [],
   "source": [
    "mf = pd.merge(nf,pf,on='YYYY-MM').rename(columns={\n",
    "    'Value_transaction_x':'expenses',\n",
    "    'Value_transaction_y':'revenue'\n",
    "})\n",
    "mf['expenses'] = mf['expenses'].abs()"
   ]
  },
  {
   "cell_type": "code",
   "execution_count": 523,
   "metadata": {},
   "outputs": [],
   "source": [
    "mf.to_excel(storepath+'MonthlyExpRevAggregate.xlsx')"
   ]
  },
  {
   "cell_type": "code",
   "execution_count": null,
   "metadata": {},
   "outputs": [],
   "source": []
  },
  {
   "cell_type": "code",
   "execution_count": null,
   "metadata": {},
   "outputs": [],
   "source": []
  },
  {
   "cell_type": "code",
   "execution_count": null,
   "metadata": {},
   "outputs": [],
   "source": []
  },
  {
   "cell_type": "code",
   "execution_count": 524,
   "metadata": {},
   "outputs": [],
   "source": [
    "at = pd.read_excel(newdatapath+'02_AccountTotal\\\\AccountTracker.xlsx',parse_dates=['Date'],index_col='Date')"
   ]
  },
  {
   "cell_type": "code",
   "execution_count": 525,
   "metadata": {},
   "outputs": [],
   "source": [
    "at.to_excel(storepath+'ATR.xlsx')"
   ]
  },
  {
   "cell_type": "code",
   "execution_count": null,
   "metadata": {},
   "outputs": [],
   "source": []
  },
  {
   "cell_type": "code",
   "execution_count": null,
   "metadata": {},
   "outputs": [],
   "source": []
  },
  {
   "cell_type": "code",
   "execution_count": null,
   "metadata": {},
   "outputs": [],
   "source": []
  },
  {
   "cell_type": "code",
   "execution_count": 526,
   "metadata": {},
   "outputs": [
    {
     "data": {
      "text/html": [
       "<div>\n",
       "<style scoped>\n",
       "    .dataframe tbody tr th:only-of-type {\n",
       "        vertical-align: middle;\n",
       "    }\n",
       "\n",
       "    .dataframe tbody tr th {\n",
       "        vertical-align: top;\n",
       "    }\n",
       "\n",
       "    .dataframe thead th {\n",
       "        text-align: right;\n",
       "    }\n",
       "</style>\n",
       "<table border=\"1\" class=\"dataframe\">\n",
       "  <thead>\n",
       "    <tr style=\"text-align: right;\">\n",
       "      <th></th>\n",
       "      <th>Account Total</th>\n",
       "      <th>Min Month</th>\n",
       "      <th>Max Month</th>\n",
       "    </tr>\n",
       "    <tr>\n",
       "      <th>Date</th>\n",
       "      <th></th>\n",
       "      <th></th>\n",
       "      <th></th>\n",
       "    </tr>\n",
       "  </thead>\n",
       "  <tbody>\n",
       "    <tr>\n",
       "      <th>2018-12-31</th>\n",
       "      <td>1359.33</td>\n",
       "      <td>1359.33</td>\n",
       "      <td>1413.99</td>\n",
       "    </tr>\n",
       "    <tr>\n",
       "      <th>2019-01-31</th>\n",
       "      <td>1016.79</td>\n",
       "      <td>231.83</td>\n",
       "      <td>1659.33</td>\n",
       "    </tr>\n",
       "    <tr>\n",
       "      <th>2019-02-28</th>\n",
       "      <td>1093.33</td>\n",
       "      <td>676.47</td>\n",
       "      <td>1487.39</td>\n",
       "    </tr>\n",
       "    <tr>\n",
       "      <th>2019-03-31</th>\n",
       "      <td>1198.54</td>\n",
       "      <td>796.99</td>\n",
       "      <td>1529.94</td>\n",
       "    </tr>\n",
       "    <tr>\n",
       "      <th>2019-04-30</th>\n",
       "      <td>-16.39</td>\n",
       "      <td>-16.39</td>\n",
       "      <td>1508.56</td>\n",
       "    </tr>\n",
       "    <tr>\n",
       "      <th>2019-05-31</th>\n",
       "      <td>1259.92</td>\n",
       "      <td>-83.17</td>\n",
       "      <td>1546.77</td>\n",
       "    </tr>\n",
       "    <tr>\n",
       "      <th>2019-06-30</th>\n",
       "      <td>2858.60</td>\n",
       "      <td>521.28</td>\n",
       "      <td>3007.05</td>\n",
       "    </tr>\n",
       "    <tr>\n",
       "      <th>2019-07-31</th>\n",
       "      <td>3754.34</td>\n",
       "      <td>1378.07</td>\n",
       "      <td>3783.22</td>\n",
       "    </tr>\n",
       "    <tr>\n",
       "      <th>2019-08-31</th>\n",
       "      <td>4853.12</td>\n",
       "      <td>2802.13</td>\n",
       "      <td>5106.48</td>\n",
       "    </tr>\n",
       "    <tr>\n",
       "      <th>2019-09-30</th>\n",
       "      <td>6230.50</td>\n",
       "      <td>4146.89</td>\n",
       "      <td>6686.24</td>\n",
       "    </tr>\n",
       "    <tr>\n",
       "      <th>2019-10-31</th>\n",
       "      <td>7056.16</td>\n",
       "      <td>4686.31</td>\n",
       "      <td>7143.06</td>\n",
       "    </tr>\n",
       "    <tr>\n",
       "      <th>2019-11-30</th>\n",
       "      <td>7845.59</td>\n",
       "      <td>4906.84</td>\n",
       "      <td>8469.69</td>\n",
       "    </tr>\n",
       "    <tr>\n",
       "      <th>2019-12-31</th>\n",
       "      <td>6354.64</td>\n",
       "      <td>3614.43</td>\n",
       "      <td>7845.59</td>\n",
       "    </tr>\n",
       "    <tr>\n",
       "      <th>2020-01-31</th>\n",
       "      <td>6756.66</td>\n",
       "      <td>3883.77</td>\n",
       "      <td>6843.56</td>\n",
       "    </tr>\n",
       "    <tr>\n",
       "      <th>2020-02-29</th>\n",
       "      <td>5461.50</td>\n",
       "      <td>3713.03</td>\n",
       "      <td>6831.33</td>\n",
       "    </tr>\n",
       "  </tbody>\n",
       "</table>\n",
       "</div>"
      ],
      "text/plain": [
       "            Account Total  Min Month  Max Month\n",
       "Date                                           \n",
       "2018-12-31        1359.33    1359.33    1413.99\n",
       "2019-01-31        1016.79     231.83    1659.33\n",
       "2019-02-28        1093.33     676.47    1487.39\n",
       "2019-03-31        1198.54     796.99    1529.94\n",
       "2019-04-30         -16.39     -16.39    1508.56\n",
       "2019-05-31        1259.92     -83.17    1546.77\n",
       "2019-06-30        2858.60     521.28    3007.05\n",
       "2019-07-31        3754.34    1378.07    3783.22\n",
       "2019-08-31        4853.12    2802.13    5106.48\n",
       "2019-09-30        6230.50    4146.89    6686.24\n",
       "2019-10-31        7056.16    4686.31    7143.06\n",
       "2019-11-30        7845.59    4906.84    8469.69\n",
       "2019-12-31        6354.64    3614.43    7845.59\n",
       "2020-01-31        6756.66    3883.77    6843.56\n",
       "2020-02-29        5461.50    3713.03    6831.33"
      ]
     },
     "execution_count": 526,
     "metadata": {},
     "output_type": "execute_result"
    }
   ],
   "source": [
    "dp = "
   ]
  },
  {
   "cell_type": "code",
   "execution_count": null,
   "metadata": {},
   "outputs": [],
   "source": []
  },
  {
   "cell_type": "code",
   "execution_count": null,
   "metadata": {},
   "outputs": [],
   "source": []
  },
  {
   "cell_type": "code",
   "execution_count": null,
   "metadata": {},
   "outputs": [],
   "source": []
  },
  {
   "cell_type": "code",
   "execution_count": null,
   "metadata": {},
   "outputs": [],
   "source": []
  }
 ],
 "metadata": {
  "kernelspec": {
   "display_name": "Python 3",
   "language": "python",
   "name": "python3"
  },
  "language_info": {
   "codemirror_mode": {
    "name": "ipython",
    "version": 3
   },
   "file_extension": ".py",
   "mimetype": "text/x-python",
   "name": "python",
   "nbconvert_exporter": "python",
   "pygments_lexer": "ipython3",
   "version": "3.6.5"
  }
 },
 "nbformat": 4,
 "nbformat_minor": 2
}
