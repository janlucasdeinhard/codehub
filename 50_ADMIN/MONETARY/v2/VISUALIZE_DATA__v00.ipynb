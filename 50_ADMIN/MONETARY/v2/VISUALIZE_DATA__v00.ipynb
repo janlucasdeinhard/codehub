{
 "cells": [
  {
   "cell_type": "code",
   "execution_count": 79,
   "metadata": {
    "extensions": {
     "jupyter_dashboards": {
      "version": 1,
      "views": {
       "grid_default": {},
       "report_default": {}
      }
     }
    }
   },
   "outputs": [],
   "source": [
    "import numpy as np\n",
    "from numpy import random as rnd\n",
    "from matplotlib import pyplot as plt\n",
    "import datetime,os\n",
    "\n",
    "import torch\n",
    "import pandas as pd\n",
    "\n",
    "from fuzzywuzzy import fuzz\n",
    "import re\n",
    "from itertools import product\n",
    "\n",
    "import ipywidgets as widgets \n",
    "from IPython.display import HTML\n",
    "\n",
    "datapath = '..\\\\..\\\\..\\\\..\\\\TF_data\\\\ADMIN\\\\v2\\\\04_DATA\\\\'"
   ]
  },
  {
   "cell_type": "markdown",
   "metadata": {},
   "source": [
    "# Account Tracker"
   ]
  },
  {
   "cell_type": "code",
   "execution_count": 80,
   "metadata": {
    "extensions": {
     "jupyter_dashboards": {
      "version": 1,
      "views": {
       "grid_default": {},
       "report_default": {}
      }
     }
    }
   },
   "outputs": [
    {
     "data": {
      "application/vnd.jupyter.widget-view+json": {
       "model_id": "2baf39b10ccf4e0cb1a3224dbfbc56ba",
       "version_major": 2,
       "version_minor": 0
      },
      "text/plain": [
       "interactive(children=(IntSlider(value=12, description='Months back ', max=15, min=1), Output()), _dom_classes=…"
      ]
     },
     "metadata": {},
     "output_type": "display_data"
    }
   ],
   "source": [
    "# Load Account tracker data\n",
    "df = pd.read_excel(datapath+'ATR.xlsx',index_col='Date',parse_dates=['Date'])\n",
    "\n",
    "@widgets.interact(lookback_months=widgets.IntSlider(min=1,max=df.shape[0],step=1,value=12,description='Months back '))\n",
    "def plt_acc_tracker(lookback_months):\n",
    "    \n",
    "    fig = plt.figure(figsize=[17,7])\n",
    "\n",
    "    t_df = df[df.index.isin(df.index.tolist()[-lookback_months:])]\n",
    "    x = t_df.index\n",
    "\n",
    "    t0 = t_df['Min Month'].values\n",
    "    t1 = t_df['Max Month'].values\n",
    "\n",
    "    plt.xticks(rotation=75)\n",
    "\n",
    "    plt.fill_between(x,t0,t1,alpha=0.2)\n",
    "    plt.plot(t_df['Account Total'])\n",
    "\n",
    "    plt.grid()\n",
    "    plt.xlabel('Time')\n",
    "    plt.ylabel('Account Total [Euros]')\n",
    "    plt.title('Account Tracker')\n",
    "\n",
    "    plt.show()\n",
    "    return"
   ]
  },
  {
   "cell_type": "markdown",
   "metadata": {},
   "source": [
    "# Chart current Month spending vs previous three Months"
   ]
  },
  {
   "cell_type": "code",
   "execution_count": 81,
   "metadata": {
    "extensions": {
     "jupyter_dashboards": {
      "version": 1,
      "views": {
       "grid_default": {},
       "report_default": {}
      }
     }
    }
   },
   "outputs": [
    {
     "data": {
      "application/vnd.jupyter.widget-view+json": {
       "model_id": "a7c750cba93b4cdf8d5a0420672e20a1",
       "version_major": 2,
       "version_minor": 0
      },
      "text/plain": [
       "interactive(children=(SelectMultiple(description='Show Months ', index=(0, 1, 2, 3), options=('Curr.month', 'C…"
      ]
     },
     "metadata": {},
     "output_type": "display_data"
    }
   ],
   "source": [
    "# Load running monthly aggregates\n",
    "m0 = pd.read_excel(datapath+'RunningMonthlyExp.xlsx',sheet_name='p0',index_col=0)\n",
    "m1 = pd.read_excel(datapath+'RunningMonthlyExp.xlsx',sheet_name='p1',index_col=0)\n",
    "m2 = pd.read_excel(datapath+'RunningMonthlyExp.xlsx',sheet_name='p2',index_col=0)\n",
    "m3 = pd.read_excel(datapath+'RunningMonthlyExp.xlsx',sheet_name='p3',index_col=0)\n",
    "\n",
    "@widgets.interact(selected=widgets.SelectMultiple(options=['Curr.month', 'Curr.month-1', 'Curr.month-2','Curr.month-3'],value=['Curr.month', 'Curr.month-1', 'Curr.month-2','Curr.month-3'],description='Show Months '))\n",
    "def plot_prev_monthly_aggregates(selected):\n",
    "    \n",
    "    fig = plt.figure(figsize=(17,7))\n",
    "\n",
    "    if 'Curr.month' in selected: plt.plot(m0[:pd.to_datetime(datetime.datetime.today()).day].cumsum().values,'b')\n",
    "    if 'Curr.month-1' in selected: plt.plot(m1.cumsum().values,'g--')\n",
    "    if 'Curr.month-2' in selected: plt.plot(m2.cumsum().values,'r--')\n",
    "    if 'Curr.month-3' in selected: plt.plot(m3.cumsum().values,'y--')\n",
    "\n",
    "    plt.xlabel('Days in Month')\n",
    "    plt.ylabel('Cumulative Spending [Euros]')\n",
    "    plt.title('Expenses: Comparison {} to previous Months'.format(pd.to_datetime(datetime.datetime.today()).month_name()))\n",
    "\n",
    "    plt.legend(selected)\n",
    "    plt.grid()\n",
    "\n",
    "    plt.show()\n",
    "    return"
   ]
  },
  {
   "cell_type": "markdown",
   "metadata": {},
   "source": [
    "# Total Expenses and Revenue, Month by Month"
   ]
  },
  {
   "cell_type": "code",
   "execution_count": 82,
   "metadata": {
    "extensions": {
     "jupyter_dashboards": {
      "version": 1,
      "views": {
       "grid_default": {},
       "report_default": {}
      }
     }
    }
   },
   "outputs": [
    {
     "data": {
      "application/vnd.jupyter.widget-view+json": {
       "model_id": "ecff8e55b449401292432d04c18fc9be",
       "version_major": 2,
       "version_minor": 0
      },
      "text/plain": [
       "interactive(children=(IntSlider(value=6, description='Months back ', max=16, min=1), Output()), _dom_classes=(…"
      ]
     },
     "metadata": {},
     "output_type": "display_data"
    }
   ],
   "source": [
    "# Load monthly aggregates\n",
    "mf = pd.read_excel(datapath+'MonthlyExpRevAggregate.xlsx',index_col=0)\n",
    "\n",
    "@widgets.interact(lookback_months=widgets.IntSlider(min=1,max=mf.shape[0],step=1,value=6,description='Months back '))\n",
    "def plot_exp_rev(lookback_months):\n",
    "    \n",
    "    # Plot bar chart\n",
    "    ax = mf[mf.index.isin(mf.index.tolist()[-lookback_months:])].plot(kind='bar',rot=75,figsize=(17,7),grid=True,color=['r','g'])\n",
    "    \n",
    "    ax.set_title('Expenses and Revenue')\n",
    "    ax.set_xlabel('Date')\n",
    "    ax.set_ylabel('Euros')\n",
    "    \n",
    "    plt.show()\n",
    "    return"
   ]
  },
  {
   "cell_type": "markdown",
   "metadata": {},
   "source": [
    "# Breakdown Expenses and Revenue by Group"
   ]
  },
  {
   "cell_type": "code",
   "execution_count": 83,
   "metadata": {
    "extensions": {
     "jupyter_dashboards": {
      "version": 1,
      "views": {
       "grid_default": {},
       "report_default": {}
      }
     }
    }
   },
   "outputs": [
    {
     "data": {
      "application/vnd.jupyter.widget-view+json": {
       "model_id": "93159d9571f64143ab872fc1fbebf36c",
       "version_major": 2,
       "version_minor": 0
      },
      "text/plain": [
       "interactive(children=(IntSlider(value=12, description='Months back ', max=24, min=1), Output()), _dom_classes=…"
      ]
     },
     "metadata": {},
     "output_type": "display_data"
    }
   ],
   "source": [
    "# Load single transactions file\n",
    "st = pd.read_excel(datapath+'STF.xlsx')\n",
    "\n",
    "@widgets.interact(lookback_months=widgets.IntSlider(min=1,max=24,step=1,value=12,description='Months back '))\n",
    "def plot_posts(lookback_months):\n",
    "\n",
    "    # Set start and end date\n",
    "    end_date = pd.to_datetime(datetime.datetime.today().strftime('%Y-%m-%d'))\n",
    "    start_date = end_date - pd.DateOffset(months=lookback_months)\n",
    "\n",
    "    # Aggregate target data\n",
    "    exp_stf = st[(st['Value_transaction']<=0)&(st['Date_ordered']>=start_date)&(st['Date_ordered']<end_date)][['ExpenseGroup','Value_transaction']].groupby(['ExpenseGroup']).sum()\n",
    "    exp_stf['Value_transaction'] = exp_stf['Value_transaction'].abs()\n",
    "\n",
    "    rev_stf = st[(st['Value_transaction']>0)&(st['Date_ordered']>=start_date)&(st['Date_ordered']<end_date)][['ExpenseGroup','Value_transaction']].groupby(['ExpenseGroup']).sum()\n",
    "    rev_stf['Value_transaction'] = rev_stf['Value_transaction'].abs()\n",
    "\n",
    "    # Make plot\n",
    "    fig, ax = plt.subplots(1,2,figsize=[17,5])\n",
    "\n",
    "    rev_stf.sort_values(by=['Value_transaction'],ascending=False).plot(kind='bar',ax=ax[0],legend=False,color='g',logy=True)\n",
    "    exp_stf.sort_values(by=['Value_transaction'],ascending=False).plot(kind='bar',ax=ax[1],legend=False,color='r',logy=True)\n",
    "\n",
    "    ax[0].grid()\n",
    "    ax[0].set_xlabel('')\n",
    "    ax[0].set_ylabel('Euros (log)')\n",
    "    for tick in ax[0].get_xticklabels(): tick.set_rotation(-45)\n",
    "    ax[0].set_title('Revenue')\n",
    "    #for p in ax[0].patches: ax[0].annotate(str(int(p.get_height()))+'EUR', (p.get_x(), p.get_height()*1.2))\n",
    "\n",
    "    ax[1].grid()\n",
    "    ax[1].set_xlabel('')\n",
    "    ax[1].set_ylabel('Euros (log)')\n",
    "    for tick in ax[1].get_xticklabels(): tick.set_rotation(-45)\n",
    "    ax[1].set_title('Expenses')\n",
    "    #for p in ax[1].patches: ax[1].annotate(str(int(p.get_height()))+'EUR', (p.get_x(), p.get_height()*1.2))\n",
    "\n",
    "    plt.show()\n",
    "    return"
   ]
  },
  {
   "cell_type": "markdown",
   "metadata": {},
   "source": [
    "# Comparison Expenses/Revenue by Group, between two Months"
   ]
  },
  {
   "cell_type": "code",
   "execution_count": 84,
   "metadata": {
    "scrolled": false
   },
   "outputs": [
    {
     "data": {
      "application/vnd.jupyter.widget-view+json": {
       "model_id": "1aebb377a7924524a7c16d50a017a0b2",
       "version_major": 2,
       "version_minor": 0
      },
      "text/plain": [
       "interactive(children=(IntRangeSlider(value=(0, 1), description='Months back ', max=16), Output()), _dom_classe…"
      ]
     },
     "metadata": {},
     "output_type": "display_data"
    }
   ],
   "source": [
    "@widgets.interact(months_offset=widgets.IntRangeSlider(value=[0,1],min=0,max=16,step=1,description='Months back '))\n",
    "def plot_compare_months(months_offset):\n",
    "    \n",
    "    # Set the offsets\n",
    "    months_offset_0 = months_offset[0]\n",
    "    months_offset_1 = months_offset[1]\n",
    "    assert months_offset_1>months_offset_0, 'Please select month offsets such that <months_offset_0> < <months_offset_1>'\n",
    "\n",
    "    # Compile the periods\n",
    "    dmonth_start = pd.to_datetime(datetime.datetime.today().strftime('%Y-%m-01'))\n",
    "    dmonth_end = pd.to_datetime(datetime.datetime.today().strftime('%Y-%m-%d'))\n",
    "    if months_offset_0==0:\n",
    "        cmonth_start = dmonth_start\n",
    "        cmonth_end = dmonth_end\n",
    "    else:\n",
    "        cmonth_start = dmonth_start - pd.DateOffset(months=months_offset_0) \n",
    "        cmonth_end = dmonth_start - pd.DateOffset(months=months_offset_0-1) - pd.DateOffset(days=1) \n",
    "    pmonth_start = dmonth_start - pd.DateOffset(months=months_offset_1) \n",
    "    pmonth_end = dmonth_start - pd.DateOffset(months=months_offset_1-1) - pd.DateOffset(days=1) \n",
    "\n",
    "    print('\\n\\tComparing {} month(s) ago: {} - {}    to    {} month(s) ago: {} - {}\\n'.format(\n",
    "        months_offset_0,cmonth_start.strftime('%Y-%m-%d'),cmonth_end.strftime('%Y-%m-%d'),\n",
    "        months_offset_1,pmonth_start.strftime('%Y-%m-%d'),pmonth_end.strftime('%Y-%m-%d')\n",
    "    ))\n",
    "    \n",
    "    # Gather the data for later month\n",
    "    cmonth = st[(st['Date_ordered']>=cmonth_start)&(st['Date_ordered']<cmonth_end)]\n",
    "    cmonth_posts = cmonth[['ExpenseGroup','Value_transaction']].groupby(['ExpenseGroup']).sum()\n",
    "    # Gather the data for earlier month\n",
    "    pmonth = st[(st['Date_ordered']>=pmonth_start)&(st['Date_ordered']<pmonth_end)]\n",
    "    pmonth_posts = pmonth[['ExpenseGroup','Value_transaction']].groupby(['ExpenseGroup']).sum()\n",
    "\n",
    "    # Compare both into new data frame\n",
    "    comp_posts = pmonth_posts.merge(cmonth_posts,on='ExpenseGroup',how='inner',suffixes=[' Prev.Month',' Curr.Month'])\n",
    "    comp_posts_full = pmonth_posts.merge(cmonth_posts,on='ExpenseGroup',how='outer',suffixes=[' Prev.Month',' Curr.Month'])\n",
    "\n",
    "    # Plot costs occurring in both months\n",
    "    ax = comp_posts.plot(kind='bar',grid=True,figsize=(17,5))\n",
    "    for tick in ax.get_xticklabels(): tick.set_rotation(-45)\n",
    "    ax.set_xlabel('')\n",
    "    ax.set_ylabel('Euros')\n",
    "    ax.legend(['{} month(s) ago'.format(months_offset_1),'{} month(s) ago'.format(months_offset_0)])\n",
    "    ax.set_title('Revenue/Expenses occurring in both months')\n",
    "\n",
    "    # Plot unique costs\n",
    "    fig, ax = plt.subplots(1,2,figsize=[17,5])\n",
    "    \n",
    "    # Compile earlier month uniques\n",
    "    if comp_posts_full['Value_transaction Curr.Month'].isna().sum()>0:\n",
    "        comp_posts_full[comp_posts_full.isna().apply(lambda x: any(x),axis=1)]['Value_transaction Prev.Month'].dropna().plot(kind='bar',grid=True,ax=ax[0],color='steelblue')\n",
    "        for tick in ax[0].get_xticklabels(): tick.set_rotation(-45)\n",
    "    ax[0].set_xlabel('')\n",
    "    ax[0].set_ylabel('Euros')\n",
    "    ax[0].set_title('Only occur {} month(s) ago'.format(months_offset_1))\n",
    "\n",
    "    # Compile later month uniques \n",
    "    if comp_posts_full['Value_transaction Prev.Month'].isna().sum()>0:\n",
    "        comp_posts_full[comp_posts_full.isna().apply(lambda x: any(x),axis=1)]['Value_transaction Curr.Month'].dropna().plot(kind='bar',grid=True,ax=ax[1],color='darkorange')\n",
    "        for tick in ax[1].get_xticklabels(): tick.set_rotation(-45)\n",
    "    ax[1].set_xlabel('')\n",
    "    ax[1].set_ylabel('Euros')\n",
    "    ax[1].set_title('Only occur {} month(s) ago'.format(months_offset_0))\n",
    "\n",
    "    # Finish up\n",
    "    plt.show()\n",
    "    return"
   ]
  },
  {
   "cell_type": "code",
   "execution_count": 85,
   "metadata": {},
   "outputs": [
    {
     "data": {
      "text/plain": [
       "['lohn gehalt']"
      ]
     },
     "execution_count": 85,
     "metadata": {},
     "output_type": "execute_result"
    }
   ],
   "source": [
    "st[(st['Date_ordered']>=pd.to_datetime('2019-10-01'))&(st['Date_ordered']<=pd.to_datetime('2019-10-31'))&(st['ExpenseGroup']=='SALARY')]['Use'].tolist()"
   ]
  },
  {
   "cell_type": "code",
   "execution_count": 78,
   "metadata": {},
   "outputs": [
    {
     "data": {
      "text/html": [
       "<div>\n",
       "<style scoped>\n",
       "    .dataframe tbody tr th:only-of-type {\n",
       "        vertical-align: middle;\n",
       "    }\n",
       "\n",
       "    .dataframe tbody tr th {\n",
       "        vertical-align: top;\n",
       "    }\n",
       "\n",
       "    .dataframe thead th {\n",
       "        text-align: right;\n",
       "    }\n",
       "</style>\n",
       "<table border=\"1\" class=\"dataframe\">\n",
       "  <thead>\n",
       "    <tr style=\"text-align: right;\">\n",
       "      <th></th>\n",
       "      <th>Unnamed: 0</th>\n",
       "      <th>OrderAccount</th>\n",
       "      <th>Date_booked</th>\n",
       "      <th>Date_ordered</th>\n",
       "      <th>Text_transaction</th>\n",
       "      <th>Use</th>\n",
       "      <th>Contact</th>\n",
       "      <th>AccNum</th>\n",
       "      <th>BIC</th>\n",
       "      <th>Value_transaction</th>\n",
       "      <th>Currency</th>\n",
       "      <th>Information</th>\n",
       "      <th>SpendingType</th>\n",
       "      <th>ExpenseGroup</th>\n",
       "    </tr>\n",
       "  </thead>\n",
       "  <tbody>\n",
       "    <tr>\n",
       "      <th>9</th>\n",
       "      <td>9</td>\n",
       "      <td>DE98773501100020557849</td>\n",
       "      <td>2019-09-27</td>\n",
       "      <td>2019-09-27</td>\n",
       "      <td>LOHN GEHALT</td>\n",
       "      <td>Lohn Gehalt 05119720 201909 HR</td>\n",
       "      <td>Siemens AG</td>\n",
       "      <td>DE90700500000002055382</td>\n",
       "      <td>BYLADEMMXXX</td>\n",
       "      <td>2539.35</td>\n",
       "      <td>EUR</td>\n",
       "      <td>Umsatz gebucht</td>\n",
       "      <td>SALARY</td>\n",
       "      <td>SALARY</td>\n",
       "    </tr>\n",
       "    <tr>\n",
       "      <th>558</th>\n",
       "      <td>558</td>\n",
       "      <td>DE98773501100020557849</td>\n",
       "      <td>2019-09-27</td>\n",
       "      <td>2019-09-27</td>\n",
       "      <td>LOHN GEHALT</td>\n",
       "      <td>EREF 19091705119720144701G584K00SVWZ Lohn Geha...</td>\n",
       "      <td>Siemens AG</td>\n",
       "      <td>DE90700500000002055382</td>\n",
       "      <td>BYLADEMMXXX</td>\n",
       "      <td>2539.35</td>\n",
       "      <td>EUR</td>\n",
       "      <td>Umsatz gebucht</td>\n",
       "      <td>SALARY</td>\n",
       "      <td>SALARY</td>\n",
       "    </tr>\n",
       "  </tbody>\n",
       "</table>\n",
       "</div>"
      ],
      "text/plain": [
       "     Unnamed: 0            OrderAccount Date_booked Date_ordered  \\\n",
       "9             9  DE98773501100020557849  2019-09-27   2019-09-27   \n",
       "558         558  DE98773501100020557849  2019-09-27   2019-09-27   \n",
       "\n",
       "    Text_transaction                                                Use  \\\n",
       "9        LOHN GEHALT                    Lohn Gehalt 05119720 201909 HR    \n",
       "558      LOHN GEHALT  EREF 19091705119720144701G584K00SVWZ Lohn Geha...   \n",
       "\n",
       "        Contact                  AccNum          BIC  Value_transaction  \\\n",
       "9    Siemens AG  DE90700500000002055382  BYLADEMMXXX            2539.35   \n",
       "558  Siemens AG  DE90700500000002055382  BYLADEMMXXX            2539.35   \n",
       "\n",
       "    Currency     Information SpendingType ExpenseGroup  \n",
       "9        EUR  Umsatz gebucht       SALARY       SALARY  \n",
       "558      EUR  Umsatz gebucht       SALARY       SALARY  "
      ]
     },
     "execution_count": 78,
     "metadata": {},
     "output_type": "execute_result"
    }
   ],
   "source": [
    "st[(st['Date_ordered']>=pd.to_datetime('2019-09-01'))&(st['Date_ordered']<=pd.to_datetime('2019-09-30'))&(st['ExpenseGroup']=='SALARY')]"
   ]
  },
  {
   "cell_type": "code",
   "execution_count": null,
   "metadata": {},
   "outputs": [],
   "source": []
  },
  {
   "cell_type": "code",
   "execution_count": null,
   "metadata": {},
   "outputs": [],
   "source": []
  },
  {
   "cell_type": "code",
   "execution_count": null,
   "metadata": {},
   "outputs": [],
   "source": []
  },
  {
   "cell_type": "code",
   "execution_count": 43,
   "metadata": {
    "extensions": {
     "jupyter_dashboards": {
      "version": 1,
      "views": {
       "grid_default": {},
       "report_default": {}
      }
     }
    }
   },
   "outputs": [
    {
     "data": {
      "text/html": [
       "<script>\n",
       "code_show=true; \n",
       "function code_toggle() {\n",
       " if (code_show){\n",
       " $('div.input').hide();\n",
       " } else {\n",
       " $('div.input').show();\n",
       " }\n",
       " code_show = !code_show\n",
       "} \n",
       "$( document ).ready(code_toggle);\n",
       "</script>\n",
       "The raw code for this IPython notebook is by default hidden for easier reading.\n",
       "To toggle on/off the raw code, click <a href=\"javascript:code_toggle()\">here</a>."
      ],
      "text/plain": [
       "<IPython.core.display.HTML object>"
      ]
     },
     "execution_count": 43,
     "metadata": {},
     "output_type": "execute_result"
    }
   ],
   "source": [
    "HTML('''<script>\n",
    "code_show=true; \n",
    "function code_toggle() {\n",
    " if (code_show){\n",
    " $('div.input').hide();\n",
    " } else {\n",
    " $('div.input').show();\n",
    " }\n",
    " code_show = !code_show\n",
    "} \n",
    "$( document ).ready(code_toggle);\n",
    "</script>\n",
    "The raw code for this IPython notebook is by default hidden for easier reading.\n",
    "To toggle on/off the raw code, click <a href=\"javascript:code_toggle()\">here</a>.''')"
   ]
  },
  {
   "cell_type": "code",
   "execution_count": null,
   "metadata": {},
   "outputs": [],
   "source": []
  }
 ],
 "metadata": {
  "extensions": {
   "jupyter_dashboards": {
    "activeView": "grid_default",
    "version": 1,
    "views": {
     "grid_default": {
      "cellMargin": 10,
      "defaultCellHeight": 20,
      "maxColumns": 12,
      "name": "grid",
      "type": "grid"
     },
     "report_default": {
      "name": "report",
      "type": "report"
     }
    }
   }
  },
  "kernelspec": {
   "display_name": "Python 3",
   "language": "python",
   "name": "python3"
  },
  "language_info": {
   "codemirror_mode": {
    "name": "ipython",
    "version": 3
   },
   "file_extension": ".py",
   "mimetype": "text/x-python",
   "name": "python",
   "nbconvert_exporter": "python",
   "pygments_lexer": "ipython3",
   "version": "3.6.5"
  }
 },
 "nbformat": 4,
 "nbformat_minor": 2
}
