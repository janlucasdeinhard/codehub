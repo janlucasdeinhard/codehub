{
 "cells": [
  {
   "cell_type": "code",
   "execution_count": 116,
   "metadata": {
    "extensions": {
     "jupyter_dashboards": {
      "version": 1,
      "views": {
       "grid_default": {},
       "report_default": {}
      }
     }
    }
   },
   "outputs": [],
   "source": [
    "import numpy as np\n",
    "from numpy import random as rnd\n",
    "from matplotlib import pyplot as plt\n",
    "import datetime,os\n",
    "\n",
    "import torch\n",
    "import pandas as pd\n",
    "\n",
    "from fuzzywuzzy import fuzz\n",
    "import re\n",
    "from itertools import product\n",
    "\n",
    "import ipywidgets as widgets \n",
    "from IPython.display import HTML\n",
    "\n",
    "datapath = '..\\\\..\\\\..\\\\..\\\\TF_data\\\\ADMIN\\\\v2\\\\04_DATA\\\\'"
   ]
  },
  {
   "cell_type": "code",
   "execution_count": 117,
   "metadata": {
    "extensions": {
     "jupyter_dashboards": {
      "version": 1,
      "views": {
       "grid_default": {},
       "report_default": {}
      }
     }
    }
   },
   "outputs": [
    {
     "data": {
      "application/vnd.jupyter.widget-view+json": {
       "model_id": "80e689fead554252915ca01d1439b770",
       "version_major": 2,
       "version_minor": 0
      },
      "text/plain": [
       "interactive(children=(IntSlider(value=12, description='Months back ', max=15, min=1), Output()), _dom_classes=…"
      ]
     },
     "metadata": {},
     "output_type": "display_data"
    }
   ],
   "source": [
    "# Load Account tracker data\n",
    "df = pd.read_excel(datapath+'ATR.xlsx',index_col='Date',parse_dates=['Date'])\n",
    "\n",
    "@widgets.interact(lookback_months=widgets.IntSlider(min=1,max=df.shape[0],step=1,value=12,description='Months back '))\n",
    "def plt_acc_tracker(lookback_months):\n",
    "    \n",
    "    fig = plt.figure(figsize=[17,7])\n",
    "\n",
    "    t_df = df[df.index.isin(df.index.tolist()[-lookback_months:])]\n",
    "    x = t_df.index\n",
    "\n",
    "    t0 = t_df['Min Month'].values\n",
    "    t1 = t_df['Max Month'].values\n",
    "\n",
    "    plt.xticks(rotation=75)\n",
    "\n",
    "    plt.fill_between(x,t0,t1,alpha=0.2)\n",
    "    plt.plot(t_df['Account Total'])\n",
    "\n",
    "    plt.grid()\n",
    "    plt.xlabel('Time')\n",
    "    plt.ylabel('Account Total [Euros]')\n",
    "    plt.title('Account Tracker')\n",
    "\n",
    "    plt.show()\n",
    "    return"
   ]
  },
  {
   "cell_type": "code",
   "execution_count": 118,
   "metadata": {
    "extensions": {
     "jupyter_dashboards": {
      "version": 1,
      "views": {
       "grid_default": {},
       "report_default": {}
      }
     }
    }
   },
   "outputs": [
    {
     "data": {
      "application/vnd.jupyter.widget-view+json": {
       "model_id": "e7e6ae9b587740679a41eee8ea2429cd",
       "version_major": 2,
       "version_minor": 0
      },
      "text/plain": [
       "interactive(children=(SelectMultiple(description='Show Months ', index=(0, 1, 2, 3), options=('Curr.month', 'C…"
      ]
     },
     "metadata": {},
     "output_type": "display_data"
    }
   ],
   "source": [
    "# Load running monthly aggregates\n",
    "m0 = pd.read_excel(datapath+'RunningMonthlyExp.xlsx',sheet_name='p0',index_col=0)\n",
    "m1 = pd.read_excel(datapath+'RunningMonthlyExp.xlsx',sheet_name='p1',index_col=0)\n",
    "m2 = pd.read_excel(datapath+'RunningMonthlyExp.xlsx',sheet_name='p2',index_col=0)\n",
    "m3 = pd.read_excel(datapath+'RunningMonthlyExp.xlsx',sheet_name='p3',index_col=0)\n",
    "\n",
    "@widgets.interact(selected=widgets.SelectMultiple(options=['Curr.month', 'Curr.month-1', 'Curr.month-2','Curr.month-3'],value=['Curr.month', 'Curr.month-1', 'Curr.month-2','Curr.month-3'],description='Show Months '))\n",
    "def plot_prev_monthly_aggregates(selected):\n",
    "    \n",
    "    fig = plt.figure(figsize=(17,7))\n",
    "\n",
    "    if 'Curr.month' in selected: plt.plot(m0[:pd.to_datetime(datetime.datetime.today()).day].cumsum().values,'b')\n",
    "    if 'Curr.month-1' in selected: plt.plot(m1.cumsum().values,'g--')\n",
    "    if 'Curr.month-2' in selected: plt.plot(m2.cumsum().values,'r--')\n",
    "    if 'Curr.month-3' in selected: plt.plot(m3.cumsum().values,'y--')\n",
    "\n",
    "    plt.xlabel('Days in Month')\n",
    "    plt.ylabel('Cumulative Spending [Euros]')\n",
    "    plt.title('Expenses: Comparison {} to previous Months'.format(pd.to_datetime(datetime.datetime.today()).month_name()))\n",
    "\n",
    "    plt.legend(selected)\n",
    "    plt.grid()\n",
    "\n",
    "    plt.show()\n",
    "    return"
   ]
  },
  {
   "cell_type": "code",
   "execution_count": 119,
   "metadata": {
    "extensions": {
     "jupyter_dashboards": {
      "version": 1,
      "views": {
       "grid_default": {},
       "report_default": {}
      }
     }
    }
   },
   "outputs": [
    {
     "data": {
      "application/vnd.jupyter.widget-view+json": {
       "model_id": "c7175d2667504399b268271dd282fdbb",
       "version_major": 2,
       "version_minor": 0
      },
      "text/plain": [
       "interactive(children=(IntSlider(value=6, description='Months back ', max=16, min=1), Output()), _dom_classes=(…"
      ]
     },
     "metadata": {},
     "output_type": "display_data"
    }
   ],
   "source": [
    "# Load monthly aggregates\n",
    "mf = pd.read_excel(datapath+'MonthlyExpRevAggregate.xlsx',index_col=0)\n",
    "\n",
    "@widgets.interact(lookback_months=widgets.IntSlider(min=1,max=mf.shape[0],step=1,value=6,description='Months back '))\n",
    "def plot_exp_rev(lookback_months):\n",
    "    \n",
    "    # Plot bar chart\n",
    "    ax = mf[mf.index.isin(mf.index.tolist()[-lookback_months:])].plot(kind='bar',rot=75,figsize=(17,7),grid=True,color=['r','g'])\n",
    "    \n",
    "    ax.set_title('Expenses and Revenue')\n",
    "    ax.set_xlabel('Date')\n",
    "    ax.set_ylabel('Euros')\n",
    "    \n",
    "    plt.show()\n",
    "    return"
   ]
  },
  {
   "cell_type": "code",
   "execution_count": 120,
   "metadata": {
    "extensions": {
     "jupyter_dashboards": {
      "version": 1,
      "views": {
       "grid_default": {},
       "report_default": {}
      }
     }
    }
   },
   "outputs": [
    {
     "data": {
      "application/vnd.jupyter.widget-view+json": {
       "model_id": "0f82eeec722c4c7ebee837d625e8279e",
       "version_major": 2,
       "version_minor": 0
      },
      "text/plain": [
       "interactive(children=(IntSlider(value=12, description='Months back ', max=24, min=1), Output()), _dom_classes=…"
      ]
     },
     "metadata": {},
     "output_type": "display_data"
    }
   ],
   "source": [
    "# Load single transactions file\n",
    "st = pd.read_excel(datapath+'STF.xlsx')\n",
    "\n",
    "@widgets.interact(lookback_months=widgets.IntSlider(min=1,max=24,step=1,value=12,description='Months back '))\n",
    "def plot_posts(lookback_months):\n",
    "\n",
    "    # Set start and end date\n",
    "    end_date = pd.to_datetime(datetime.datetime.today().strftime('%Y-%m-%d'))\n",
    "    start_date = end_date - pd.DateOffset(months=lookback_months)\n",
    "\n",
    "    # Aggregate target data\n",
    "    exp_stf = st[(st['Value_transaction']<=0)&(st['Date_ordered']>=start_date)&(st['Date_ordered']<end_date)][['ExpenseGroup','Value_transaction']].groupby(['ExpenseGroup']).sum()\n",
    "    exp_stf['Value_transaction'] = exp_stf['Value_transaction'].abs()\n",
    "\n",
    "    rev_stf = st[(st['Value_transaction']>0)&(st['Date_ordered']>=start_date)&(st['Date_ordered']<end_date)][['ExpenseGroup','Value_transaction']].groupby(['ExpenseGroup']).sum()\n",
    "    rev_stf['Value_transaction'] = rev_stf['Value_transaction'].abs()\n",
    "\n",
    "    # Make plot\n",
    "    fig, ax = plt.subplots(1,2,figsize=[17,5])\n",
    "\n",
    "    rev_stf.sort_values(by=['Value_transaction'],ascending=False).plot(kind='bar',ax=ax[0],legend=False,color='g',logy=True)\n",
    "    exp_stf.sort_values(by=['Value_transaction'],ascending=False).plot(kind='bar',ax=ax[1],legend=False,color='r',logy=True)\n",
    "\n",
    "    ax[0].grid()\n",
    "    ax[0].set_xlabel('')\n",
    "    ax[0].set_ylabel('Euros (log)')\n",
    "    for tick in ax[0].get_xticklabels(): tick.set_rotation(-45)\n",
    "    ax[0].set_title('Revenue')\n",
    "    #for p in ax[0].patches: ax[0].annotate(str(int(p.get_height()))+'EUR', (p.get_x(), p.get_height()*1.2))\n",
    "\n",
    "    ax[1].grid()\n",
    "    ax[1].set_xlabel('')\n",
    "    ax[1].set_ylabel('Euros (log)')\n",
    "    for tick in ax[1].get_xticklabels(): tick.set_rotation(-45)\n",
    "    ax[1].set_title('Expenses')\n",
    "    #for p in ax[1].patches: ax[1].annotate(str(int(p.get_height()))+'EUR', (p.get_x(), p.get_height()*1.2))\n",
    "\n",
    "    plt.show()\n",
    "    return"
   ]
  },
  {
   "cell_type": "code",
   "execution_count": 121,
   "metadata": {
    "extensions": {
     "jupyter_dashboards": {
      "version": 1,
      "views": {
       "grid_default": {},
       "report_default": {}
      }
     }
    }
   },
   "outputs": [
    {
     "data": {
      "text/html": [
       "<script>\n",
       "code_show=true; \n",
       "function code_toggle() {\n",
       " if (code_show){\n",
       " $('div.input').hide();\n",
       " } else {\n",
       " $('div.input').show();\n",
       " }\n",
       " code_show = !code_show\n",
       "} \n",
       "$( document ).ready(code_toggle);\n",
       "</script>\n",
       "The raw code for this IPython notebook is by default hidden for easier reading.\n",
       "To toggle on/off the raw code, click <a href=\"javascript:code_toggle()\">here</a>."
      ],
      "text/plain": [
       "<IPython.core.display.HTML object>"
      ]
     },
     "execution_count": 121,
     "metadata": {},
     "output_type": "execute_result"
    }
   ],
   "source": [
    "HTML('''<script>\n",
    "code_show=true; \n",
    "function code_toggle() {\n",
    " if (code_show){\n",
    " $('div.input').hide();\n",
    " } else {\n",
    " $('div.input').show();\n",
    " }\n",
    " code_show = !code_show\n",
    "} \n",
    "$( document ).ready(code_toggle);\n",
    "</script>\n",
    "The raw code for this IPython notebook is by default hidden for easier reading.\n",
    "To toggle on/off the raw code, click <a href=\"javascript:code_toggle()\">here</a>.''')"
   ]
  },
  {
   "cell_type": "code",
   "execution_count": null,
   "metadata": {},
   "outputs": [],
   "source": []
  }
 ],
 "metadata": {
  "extensions": {
   "jupyter_dashboards": {
    "activeView": "grid_default",
    "version": 1,
    "views": {
     "grid_default": {
      "cellMargin": 10,
      "defaultCellHeight": 20,
      "maxColumns": 12,
      "name": "grid",
      "type": "grid"
     },
     "report_default": {
      "name": "report",
      "type": "report"
     }
    }
   }
  },
  "kernelspec": {
   "display_name": "Python 3",
   "language": "python",
   "name": "python3"
  },
  "language_info": {
   "codemirror_mode": {
    "name": "ipython",
    "version": 3
   },
   "file_extension": ".py",
   "mimetype": "text/x-python",
   "name": "python",
   "nbconvert_exporter": "python",
   "pygments_lexer": "ipython3",
   "version": "3.6.5"
  }
 },
 "nbformat": 4,
 "nbformat_minor": 2
}
