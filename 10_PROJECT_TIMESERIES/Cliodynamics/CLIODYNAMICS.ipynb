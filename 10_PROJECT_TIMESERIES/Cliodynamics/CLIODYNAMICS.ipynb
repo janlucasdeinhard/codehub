{
 "cells": [
  {
   "cell_type": "markdown",
   "metadata": {},
   "source": [
    "# Cliodynamics Data Exploration\n",
    "The basis data for this class contains numerous socio-economic indicators tracked over time of the US economy. The goal of this notebook is to play around with the data, find correlations and discover useful predictors of economic prosperity, or of macroscopic socio-economic phase transitions."
   ]
  },
  {
   "cell_type": "code",
   "execution_count": 1,
   "metadata": {},
   "outputs": [
    {
     "name": "stderr",
     "output_type": "stream",
     "text": [
      "<ipython-input-1-ecb7a009e068>:13: UserWarning: \n",
      "The dash_html_components package is deprecated. Please replace\n",
      "`import dash_html_components as html` with `from dash import html`\n",
      "  import dash_html_components as html\n",
      "<ipython-input-1-ecb7a009e068>:14: UserWarning: \n",
      "The dash_core_components package is deprecated. Please replace\n",
      "`import dash_core_components as dcc` with `from dash import dcc`\n",
      "  import dash_core_components as dcc\n"
     ]
    }
   ],
   "source": [
    "import numpy as np\n",
    "from numpy import random as rnd\n",
    "from matplotlib import pyplot as plt\n",
    "import warnings,datetime,os,calendar,time,sys,math\n",
    "\n",
    "import torch\n",
    "import torch.nn as nn\n",
    "import torch.nn.functional as F\n",
    "\n",
    "import pandas as pd\n",
    "\n",
    "import dash\n",
    "import dash_html_components as html\n",
    "import dash_core_components as dcc"
   ]
  },
  {
   "cell_type": "markdown",
   "metadata": {},
   "source": [
    "## Data Container Class\n",
    "This class loads the data and conatins some useful functions to visualize and understand the data."
   ]
  },
  {
   "cell_type": "code",
   "execution_count": 2,
   "metadata": {},
   "outputs": [],
   "source": [
    "import pandas as pd\n",
    "from matplotlib import pyplot as plt\n",
    "\n",
    "pd.options.mode.chained_assignment = None\n",
    "pd.options.plotting.backend = 'plotly'\n",
    "class Economy:\n",
    "    # Initalize data and metadata\n",
    "    def __init__(self,path_to_businessdata='../../../TF_Data/Dropbox/TF_data/BusinessMacroHistory/data2/'):\n",
    "        self.bf = pd.read_csv(path_to_businessdata+'data.csv')\n",
    "        self.md = pd.read_csv(path_to_businessdata+'metadata.csv')\n",
    "        return\n",
    "    # Plot one time series\n",
    "    def plot_timeseries_by_index(self,ix):\n",
    "        # Select timeseries with index\n",
    "        df = self.bf[self.bf['time_series_code']==self.md.iloc[ix].time_series_code]\n",
    "        # Extract timeseries description\n",
    "        desc = '({0}): {1} - {2}\\n[{3}]'.format(self.md.iloc[ix].time_series_code,self.md.iloc[ix].cat_desc,self.md.iloc[ix].dt_desc,self.md.iloc[ix].dt_unit.strip())\n",
    "        # Convert to float and date sequence\n",
    "        df['value'] = df['value'].astype('float')\n",
    "        df['date'] = pd.to_datetime(df['date'])\n",
    "        # Plot\n",
    "        df[['date','value']].set_index('date').plot()\n",
    "        plt.title(desc)\n",
    "        plt.show()\n",
    "        return\n",
    "    # Extract one single time series\n",
    "    def extract_single_timeseries(self,ix):\n",
    "        df = self.bf[self.bf['time_series_code']==self.md.iloc[ix].time_series_code].drop(columns=['time_series_code'])\n",
    "        df['date'] = pd.to_datetime(df['date'])\n",
    "        df = df.set_index('date')\n",
    "        df['value'] = df['value'].astype(float)\n",
    "        df = df.rename(columns={'value':self.md.iloc[ix].time_series_code}) \n",
    "        return df"
   ]
  },
  {
   "cell_type": "code",
   "execution_count": 3,
   "metadata": {},
   "outputs": [
    {
     "name": "stderr",
     "output_type": "stream",
     "text": [
      "C:\\Users\\z003mxpm\\Anaconda3\\lib\\site-packages\\IPython\\core\\interactiveshell.py:3338: DtypeWarning: Columns (2) have mixed types.Specify dtype option on import or set low_memory=False.\n",
      "  if (await self.run_code(code, result,  async_=asy)):\n"
     ]
    }
   ],
   "source": [
    "E = Economy()"
   ]
  },
  {
   "cell_type": "code",
   "execution_count": null,
   "metadata": {},
   "outputs": [
    {
     "name": "stdout",
     "output_type": "stream",
     "text": [
      "Dash is running on http://127.0.0.1:8050/\n",
      "\n",
      "Dash is running on http://127.0.0.1:8050/\n",
      "\n",
      "Dash is running on http://127.0.0.1:8050/\n",
      "\n",
      "Dash is running on http://127.0.0.1:8050/\n",
      "\n",
      "Dash is running on http://127.0.0.1:8050/\n",
      "\n",
      " * Serving Flask app \"__main__\" (lazy loading)\n",
      " * Environment: production\n",
      "   WARNING: This is a development server. Do not use it in a production deployment.\n",
      "   Use a production WSGI server instead.\n",
      " * Debug mode: on\n"
     ]
    }
   ],
   "source": [
    "# Create app\n",
    "app = dash.Dash(__name__)\n",
    "\n",
    "# Define layout\n",
    "app.layout = html.Div(\n",
    "    children=[\n",
    "        html.H1(children='Welcome User - Cliodynamical Evaluations Data'),\n",
    "        html.Div(children='''\n",
    "            Visualization of several characteristic time series.\n",
    "        '''),\n",
    "        dcc.Graph(\n",
    "            id='Time Series',\n",
    "            figure=E.extract_single_timeseries(4).plot()\n",
    "        )\n",
    "    ]\n",
    ")\n",
    "\n",
    "# Run app\n",
    "if __name__ == '__main__': app.run_server(debug=True,use_reloader=False)"
   ]
  },
  {
   "cell_type": "code",
   "execution_count": null,
   "metadata": {},
   "outputs": [],
   "source": []
  }
 ],
 "metadata": {
  "kernelspec": {
   "display_name": "Python 3",
   "language": "python",
   "name": "python3"
  },
  "language_info": {
   "codemirror_mode": {
    "name": "ipython",
    "version": 3
   },
   "file_extension": ".py",
   "mimetype": "text/x-python",
   "name": "python",
   "nbconvert_exporter": "python",
   "pygments_lexer": "ipython3",
   "version": "3.8.5"
  }
 },
 "nbformat": 4,
 "nbformat_minor": 2
}
