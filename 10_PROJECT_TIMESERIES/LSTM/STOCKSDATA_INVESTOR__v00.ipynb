{
 "cells": [
  {
   "cell_type": "markdown",
   "metadata": {},
   "source": [
    "# Imports"
   ]
  },
  {
   "cell_type": "code",
   "execution_count": 1,
   "metadata": {},
   "outputs": [],
   "source": [
    "import math\n",
    "import numpy as np\n",
    "from matplotlib import pyplot as plt\n",
    "from numpy import random as rnd\n",
    "import warnings,datetime,os,calendar,csv,time\n",
    "from tqdm import tqdm\n",
    "\n",
    "import torch\n",
    "from torch import nn\n",
    "from torch import optim\n",
    "from torch.nn import functional as F \n",
    "\n",
    "import pandas as pd\n",
    "import seaborn as sns\n",
    "\n",
    "import gym\n",
    "from bs4 import BeautifulSoup\n",
    "\n",
    "from sklearn import datasets\n",
    "from sklearn.linear_model import LinearRegression\n",
    "from sklearn.ensemble import RandomForestRegressor\n",
    "\n",
    "warnings.filterwarnings('ignore')\n",
    "sns.set()"
   ]
  },
  {
   "cell_type": "code",
   "execution_count": null,
   "metadata": {},
   "outputs": [],
   "source": []
  },
  {
   "cell_type": "code",
   "execution_count": null,
   "metadata": {},
   "outputs": [],
   "source": []
  },
  {
   "cell_type": "code",
   "execution_count": null,
   "metadata": {},
   "outputs": [],
   "source": []
  },
  {
   "cell_type": "markdown",
   "metadata": {},
   "source": [
    "# Load and preprocess data"
   ]
  },
  {
   "cell_type": "code",
   "execution_count": 2,
   "metadata": {},
   "outputs": [],
   "source": [
    "rootpath = '..\\\\..\\\\TF_data\\\\STOCKDATA\\\\Data\\\\Stocks\\\\'\n",
    "available_indices = os.listdir(rootpath)"
   ]
  },
  {
   "cell_type": "code",
   "execution_count": 3,
   "metadata": {},
   "outputs": [],
   "source": [
    "bf = pd.read_csv(rootpath+available_indices[0]).set_index(['Date'])"
   ]
  },
  {
   "cell_type": "code",
   "execution_count": 4,
   "metadata": {},
   "outputs": [
    {
     "data": {
      "image/png": "[encoded data removed]",
      "text/plain": [
       "<Figure size 432x288 with 1 Axes>"
      ]
     },
     "metadata": {},
     "output_type": "display_data"
    }
   ],
   "source": [
    "bf['Open'].plot()\n",
    "plt.show()"
   ]
  },
  {
   "cell_type": "code",
   "execution_count": 36,
   "metadata": {},
   "outputs": [],
   "source": [
    "LOOKBACK = 15\n",
    "LOOKFORWARD = 10\n",
    "\n",
    "TARGET_FEATURE_ROW = 0\n",
    "\n",
    "X = []\n",
    "y = []\n",
    "\n",
    "V = bf.values\n",
    "for k in range(bf.shape[0]-LOOKBACK-LOOKFORWARD+1):\n",
    "    X.append(V[k:k+LOOKBACK,:])\n",
    "    #y.append(V[k+LOOKBACK+(LOOKFORWARD-1),TARGET_FEATURE_ROW])\n",
    "    y.append(V[k+LOOKBACK+(LOOKFORWARD-1),TARGET_FEATURE_ROW]-V[k+LOOKBACK,TARGET_FEATURE_ROW])\n",
    "    \n",
    "X = np.stack(X,axis=0)\n",
    "y = np.stack(y,axis=0)\n",
    "\n",
    "y = (y>1.5).astype(int)"
   ]
  },
  {
   "cell_type": "code",
   "execution_count": 37,
   "metadata": {},
   "outputs": [],
   "source": [
    "test_ratio = 0.8\n",
    "\n",
    "X0 = X[:round(X.shape[0]*test_ratio),:,:]\n",
    "X1 = X[round(X.shape[0]*test_ratio):,:,:]\n",
    "\n",
    "Y0 = y[:round(X.shape[0]*test_ratio)]\n",
    "Y1 = y[round(X.shape[0]*test_ratio):]"
   ]
  },
  {
   "cell_type": "code",
   "execution_count": null,
   "metadata": {},
   "outputs": [],
   "source": []
  },
  {
   "cell_type": "code",
   "execution_count": null,
   "metadata": {},
   "outputs": [],
   "source": []
  },
  {
   "cell_type": "code",
   "execution_count": null,
   "metadata": {},
   "outputs": [],
   "source": []
  },
  {
   "cell_type": "markdown",
   "metadata": {},
   "source": [
    "# Build baseline predictors"
   ]
  },
  {
   "cell_type": "code",
   "execution_count": 16,
   "metadata": {},
   "outputs": [],
   "source": [
    "n_timesteps = X.shape[1]\n",
    "n_features = X.shape[2]"
   ]
  },
  {
   "cell_type": "code",
   "execution_count": 17,
   "metadata": {},
   "outputs": [],
   "source": [
    "rf = pd.DataFrame()\n",
    "for k in range(X1[:,:,0].shape[1]):\n",
    "    rf['T-'+str(X1[:,:,0].shape[1]-k)] = X1[:,k,0]\n",
    "\n",
    "rf['Real'] = Y1\n",
    "\n",
    "rf['Pred DR0'] = rf['T-1']\n",
    "rf['SQE DR0'] = rf[['Pred DR0','Real']].apply(lambda x: (x[0]-x[1])**2,axis=1)"
   ]
  },
  {
   "cell_type": "code",
   "execution_count": 9,
   "metadata": {},
   "outputs": [],
   "source": [
    "lr_clf = LinearRegression()\n",
    "lr_clf.fit(X0[:,:,0],Y0)\n",
    "\n",
    "rf['Pred LR'] = lr_clf.predict(X1[:,:,0])\n",
    "rf['SQE LR'] = rf[['Pred LR','Real']].apply(lambda x: (x[0]-x[1])**2,axis=1)"
   ]
  },
  {
   "cell_type": "code",
   "execution_count": 10,
   "metadata": {},
   "outputs": [],
   "source": [
    "rf_clf = RandomForestRegressor()\n",
    "rf_clf.fit(X0[:,:,0],Y0)\n",
    "\n",
    "rf['Pred RF'] = rf_clf.predict(X1[:,:,0])\n",
    "rf['SQE RF'] = rf[['Pred RF','Real']].apply(lambda x: (x[0]-x[1])**2,axis=1)"
   ]
  },
  {
   "cell_type": "code",
   "execution_count": null,
   "metadata": {},
   "outputs": [],
   "source": []
  },
  {
   "cell_type": "code",
   "execution_count": null,
   "metadata": {},
   "outputs": [],
   "source": []
  },
  {
   "cell_type": "code",
   "execution_count": null,
   "metadata": {},
   "outputs": [],
   "source": []
  },
  {
   "cell_type": "markdown",
   "metadata": {},
   "source": [
    "# Simple Neural Network Forecast"
   ]
  },
  {
   "cell_type": "code",
   "execution_count": 295,
   "metadata": {},
   "outputs": [],
   "source": [
    "torch.manual_seed(1)\n",
    "class Net(nn.Module):\n",
    "    # Build neural network skeleton\n",
    "    def __init__(self):\n",
    "        super(Net,self).__init__()\n",
    "        self.l0 = nn.Linear(n_timesteps,25)\n",
    "        self.l1 = nn.Linear(25,15)\n",
    "        self.l2 = nn.Linear(15,10)\n",
    "        self.l3 = nn.Linear(10,1)\n",
    "    # Define data flow through the network\n",
    "    def forward(self,x):\n",
    "        x = F.relu(self.l0(x))\n",
    "        x = F.relu(self.l1(x))\n",
    "        x = F.relu(self.l2(x))\n",
    "        x = F.linear(self.l3(x),weight=torch.ones(1))\n",
    "        return x"
   ]
  },
  {
   "cell_type": "code",
   "execution_count": 296,
   "metadata": {},
   "outputs": [],
   "source": [
    "net = Net()\n",
    "optimizer = optim.Adam(net.parameters(),lr=0.01)\n",
    "criterion = nn.MSELoss()"
   ]
  },
  {
   "cell_type": "code",
   "execution_count": 297,
   "metadata": {},
   "outputs": [],
   "source": [
    "num_epochs = 25\n",
    "batch_size=5\n",
    "val_size=0.2"
   ]
  },
  {
   "cell_type": "code",
   "execution_count": 298,
   "metadata": {
    "scrolled": true
   },
   "outputs": [
    {
     "name": "stderr",
     "output_type": "stream",
     "text": [
      "100%|███████████████████████████████████████| 576/576 [00:01<00:00, 571.12it/s]\n"
     ]
    },
    {
     "name": "stdout",
     "output_type": "stream",
     "text": [
      "1/25: Mean Loss: 26.09953588357247\n",
      "Validation Loss: 7.529431343078613\n"
     ]
    },
    {
     "name": "stderr",
     "output_type": "stream",
     "text": [
      "100%|███████████████████████████████████████| 576/576 [00:01<00:00, 561.00it/s]\n"
     ]
    },
    {
     "name": "stdout",
     "output_type": "stream",
     "text": [
      "2/25: Mean Loss: 18.069389750999918\n",
      "Validation Loss: 17.47055435180664\n"
     ]
    },
    {
     "name": "stderr",
     "output_type": "stream",
     "text": [
      "100%|███████████████████████████████████████| 576/576 [00:01<00:00, 560.81it/s]\n"
     ]
    },
    {
     "name": "stdout",
     "output_type": "stream",
     "text": [
      "3/25: Mean Loss: 15.222863508957541\n",
      "Validation Loss: 11.96617603302002\n"
     ]
    },
    {
     "name": "stderr",
     "output_type": "stream",
     "text": [
      "100%|███████████████████████████████████████| 576/576 [00:01<00:00, 559.32it/s]\n"
     ]
    },
    {
     "name": "stdout",
     "output_type": "stream",
     "text": [
      "4/25: Mean Loss: 14.096168468188909\n",
      "Validation Loss: 21.690326690673828\n"
     ]
    },
    {
     "name": "stderr",
     "output_type": "stream",
     "text": [
      "100%|███████████████████████████████████████| 576/576 [00:01<00:00, 444.43it/s]\n"
     ]
    },
    {
     "name": "stdout",
     "output_type": "stream",
     "text": [
      "5/25: Mean Loss: 19.41048111839013\n",
      "Validation Loss: 19.978294372558594\n"
     ]
    },
    {
     "name": "stderr",
     "output_type": "stream",
     "text": [
      "100%|███████████████████████████████████████| 576/576 [00:01<00:00, 482.35it/s]\n"
     ]
    },
    {
     "name": "stdout",
     "output_type": "stream",
     "text": [
      "6/25: Mean Loss: 13.40430340765872\n",
      "Validation Loss: 17.19618797302246\n"
     ]
    },
    {
     "name": "stderr",
     "output_type": "stream",
     "text": [
      "100%|███████████████████████████████████████| 576/576 [00:01<00:00, 528.68it/s]\n"
     ]
    },
    {
     "name": "stdout",
     "output_type": "stream",
     "text": [
      "7/25: Mean Loss: 16.694261701777577\n",
      "Validation Loss: 7.381484031677246\n"
     ]
    },
    {
     "name": "stderr",
     "output_type": "stream",
     "text": [
      "100%|███████████████████████████████████████| 576/576 [00:01<00:00, 528.07it/s]\n"
     ]
    },
    {
     "name": "stdout",
     "output_type": "stream",
     "text": [
      "8/25: Mean Loss: 13.587928577377978\n",
      "Validation Loss: 13.435258865356445\n"
     ]
    },
    {
     "name": "stderr",
     "output_type": "stream",
     "text": [
      "100%|███████████████████████████████████████| 576/576 [00:01<00:00, 477.14it/s]\n"
     ]
    },
    {
     "name": "stdout",
     "output_type": "stream",
     "text": [
      "9/25: Mean Loss: 14.479127801178644\n",
      "Validation Loss: 7.94968318939209\n"
     ]
    },
    {
     "name": "stderr",
     "output_type": "stream",
     "text": [
      "100%|███████████████████████████████████████| 576/576 [00:01<00:00, 514.64it/s]\n"
     ]
    },
    {
     "name": "stdout",
     "output_type": "stream",
     "text": [
      "10/25: Mean Loss: 11.779157841138336\n",
      "Validation Loss: 16.69034194946289\n"
     ]
    },
    {
     "name": "stderr",
     "output_type": "stream",
     "text": [
      "100%|███████████████████████████████████████| 576/576 [00:01<00:00, 494.76it/s]\n"
     ]
    },
    {
     "name": "stdout",
     "output_type": "stream",
     "text": [
      "11/25: Mean Loss: 14.326028211223376\n",
      "Validation Loss: 23.456144332885742\n"
     ]
    },
    {
     "name": "stderr",
     "output_type": "stream",
     "text": [
      "100%|███████████████████████████████████████| 576/576 [00:01<00:00, 537.83it/s]\n"
     ]
    },
    {
     "name": "stdout",
     "output_type": "stream",
     "text": [
      "12/25: Mean Loss: 14.791586814137796\n",
      "Validation Loss: 9.95466136932373\n"
     ]
    },
    {
     "name": "stderr",
     "output_type": "stream",
     "text": [
      "100%|███████████████████████████████████████| 576/576 [00:01<00:00, 528.01it/s]\n"
     ]
    },
    {
     "name": "stdout",
     "output_type": "stream",
     "text": [
      "13/25: Mean Loss: 12.942674187632898\n",
      "Validation Loss: 14.84382152557373\n"
     ]
    },
    {
     "name": "stderr",
     "output_type": "stream",
     "text": [
      "100%|███████████████████████████████████████| 576/576 [00:01<00:00, 536.40it/s]\n"
     ]
    },
    {
     "name": "stdout",
     "output_type": "stream",
     "text": [
      "14/25: Mean Loss: 14.650223656363474\n",
      "Validation Loss: 10.808355331420898\n"
     ]
    },
    {
     "name": "stderr",
     "output_type": "stream",
     "text": [
      "100%|███████████████████████████████████████| 576/576 [00:01<00:00, 513.84it/s]\n"
     ]
    },
    {
     "name": "stdout",
     "output_type": "stream",
     "text": [
      "15/25: Mean Loss: 14.244293902741951\n",
      "Validation Loss: 7.907960414886475\n"
     ]
    },
    {
     "name": "stderr",
     "output_type": "stream",
     "text": [
      "100%|███████████████████████████████████████| 576/576 [00:01<00:00, 528.95it/s]\n"
     ]
    },
    {
     "name": "stdout",
     "output_type": "stream",
     "text": [
      "16/25: Mean Loss: 11.719517009151685\n",
      "Validation Loss: 13.074125289916992\n"
     ]
    },
    {
     "name": "stderr",
     "output_type": "stream",
     "text": [
      "100%|███████████████████████████████████████| 576/576 [00:01<00:00, 553.20it/s]\n"
     ]
    },
    {
     "name": "stdout",
     "output_type": "stream",
     "text": [
      "17/25: Mean Loss: 13.096524094102076\n",
      "Validation Loss: 11.004583358764648\n"
     ]
    },
    {
     "name": "stderr",
     "output_type": "stream",
     "text": [
      "100%|███████████████████████████████████████| 576/576 [00:01<00:00, 533.58it/s]\n"
     ]
    },
    {
     "name": "stdout",
     "output_type": "stream",
     "text": [
      "18/25: Mean Loss: 12.392294995253906\n",
      "Validation Loss: 10.158815383911133\n"
     ]
    },
    {
     "name": "stderr",
     "output_type": "stream",
     "text": [
      "100%|███████████████████████████████████████| 576/576 [00:01<00:00, 548.97it/s]\n"
     ]
    },
    {
     "name": "stdout",
     "output_type": "stream",
     "text": [
      "19/25: Mean Loss: 13.434242993890722\n",
      "Validation Loss: 7.384186267852783\n"
     ]
    },
    {
     "name": "stderr",
     "output_type": "stream",
     "text": [
      "100%|███████████████████████████████████████| 576/576 [00:01<00:00, 535.14it/s]\n"
     ]
    },
    {
     "name": "stdout",
     "output_type": "stream",
     "text": [
      "20/25: Mean Loss: 12.98976863151054\n",
      "Validation Loss: 9.07043170928955\n"
     ]
    },
    {
     "name": "stderr",
     "output_type": "stream",
     "text": [
      "100%|███████████████████████████████████████| 576/576 [00:01<00:00, 575.04it/s]\n"
     ]
    },
    {
     "name": "stdout",
     "output_type": "stream",
     "text": [
      "21/25: Mean Loss: 11.53222119076074\n",
      "Validation Loss: 16.18769073486328\n"
     ]
    },
    {
     "name": "stderr",
     "output_type": "stream",
     "text": [
      "100%|███████████████████████████████████████| 576/576 [00:01<00:00, 579.88it/s]\n"
     ]
    },
    {
     "name": "stdout",
     "output_type": "stream",
     "text": [
      "22/25: Mean Loss: 12.814978300205743\n",
      "Validation Loss: 17.056018829345703\n"
     ]
    },
    {
     "name": "stderr",
     "output_type": "stream",
     "text": [
      "100%|███████████████████████████████████████| 576/576 [00:01<00:00, 497.02it/s]\n"
     ]
    },
    {
     "name": "stdout",
     "output_type": "stream",
     "text": [
      "23/25: Mean Loss: 13.176225587182367\n",
      "Validation Loss: 10.350939750671387\n"
     ]
    },
    {
     "name": "stderr",
     "output_type": "stream",
     "text": [
      "100%|███████████████████████████████████████| 576/576 [00:01<00:00, 528.92it/s]\n"
     ]
    },
    {
     "name": "stdout",
     "output_type": "stream",
     "text": [
      "24/25: Mean Loss: 12.644426674659675\n",
      "Validation Loss: 9.843449592590332\n"
     ]
    },
    {
     "name": "stderr",
     "output_type": "stream",
     "text": [
      "100%|███████████████████████████████████████| 576/576 [00:01<00:00, 528.60it/s]\n"
     ]
    },
    {
     "name": "stdout",
     "output_type": "stream",
     "text": [
      "25/25: Mean Loss: 13.571327997811345\n",
      "Validation Loss: 7.710926532745361\n"
     ]
    }
   ],
   "source": [
    "for epoch in range(num_epochs):\n",
    "    # Shuffle before each epoch\n",
    "    perm_indices = rnd.permutation(np.arange(X0.shape[0]))\n",
    "    X0_reshuffled = X0[perm_indices]\n",
    "    Y0_reshuffled = Y0[perm_indices]\n",
    "    # Build training and validation sets\n",
    "    threshold = round(X0_reshuffled.shape[0]*(1-val_size))\n",
    "    # Training set\n",
    "    X0_train = X0_reshuffled[:threshold]\n",
    "    Y0_train = Y0_reshuffled[:threshold]\n",
    "    # Validation set\n",
    "    X0_validate = X0_reshuffled[threshold:]\n",
    "    Y0_validate = Y0_reshuffled[threshold:]\n",
    "    # Train one epoch\n",
    "    loss_tracker = []\n",
    "    for k in tqdm(range(0,X0_train.shape[0],batch_size)):\n",
    "        optimizer.zero_grad()\n",
    "        Y_predicted = net(torch.tensor(X0_train[k:k+batch_size,:,0]).float())\n",
    "        loss = criterion(Y_predicted,torch.tensor(Y0_train[k:k+batch_size]).float())\n",
    "        loss_tracker.append(loss.tolist())\n",
    "        loss.backward()\n",
    "        optimizer.step()\n",
    "    print('{}/{}: Mean Loss: {}\\nValidation Loss: {}'.format(epoch+1,num_epochs,np.mean(loss_tracker),criterion(net(torch.tensor(X0_validate[:,:,0]).float()),torch.tensor(Y0_validate).float())))\n",
    "\n",
    "rf['Pred Vanilla NN'] = net(torch.tensor(X1[:,:,0]).float()).tolist()\n",
    "rf['SQE NN0'] = rf[['Pred Vanilla NN','Real']].apply(lambda x: (x[0]-x[1])**2,axis=1)"
   ]
  },
  {
   "cell_type": "code",
   "execution_count": 299,
   "metadata": {},
   "outputs": [
    {
     "data": {
      "text/plain": [
       "SQE DR0     2.657965\n",
       "SQE LR      4.584971\n",
       "SQE RF     24.173698\n",
       "SQE NN0     4.285176\n",
       "dtype: float64"
      ]
     },
     "execution_count": 299,
     "metadata": {},
     "output_type": "execute_result"
    }
   ],
   "source": [
    "rf[['SQE DR0','SQE LR','SQE RF','SQE NN0']].mean()"
   ]
  },
  {
   "cell_type": "code",
   "execution_count": null,
   "metadata": {},
   "outputs": [],
   "source": []
  }
 ],
 "metadata": {
  "kernelspec": {
   "display_name": "Python 3",
   "language": "python",
   "name": "python3"
  },
  "language_info": {
   "codemirror_mode": {
    "name": "ipython",
    "version": 3
   },
   "file_extension": ".py",
   "mimetype": "text/x-python",
   "name": "python",
   "nbconvert_exporter": "python",
   "pygments_lexer": "ipython3",
   "version": "3.6.5"
  }
 },
 "nbformat": 4,
 "nbformat_minor": 2
}
