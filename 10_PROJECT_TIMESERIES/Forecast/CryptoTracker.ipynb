{
  "nbformat": 4,
  "nbformat_minor": 0,
  "metadata": {
    "colab": {
      "name": "CryptoTracker.ipynb",
      "provenance": [],
      "authorship_tag": "ABX9TyM8u/kTn4OxqjchUY5mGDcC",
      "include_colab_link": true
    },
    "kernelspec": {
      "name": "python3",
      "display_name": "Python 3"
    },
    "language_info": {
      "name": "python"
    }
  },
  "cells": [
    {
      "cell_type": "markdown",
      "metadata": {
        "id": "view-in-github",
        "colab_type": "text"
      },
      "source": [
        "<a href=\"https://colab.research.google.com/github/janlucasdeinhard/pyfiles/blob/master/10_PROJECT_TIMESERIES/Forecast/CryptoTracker.ipynb\" target=\"_parent\"><img src=\"https://colab.research.google.com/assets/colab-badge.svg\" alt=\"Open In Colab\"/></a>"
      ]
    },
    {
      "cell_type": "code",
      "source": [
        "from google.colab import drive\n",
        "drive.mount('/content/drive/')"
      ],
      "metadata": {
        "colab": {
          "base_uri": "https://localhost:8080/"
        },
        "id": "PEHpA6hGPh-k",
        "outputId": "2d4f537f-f66b-4350-ac95-d0fde509208f"
      },
      "execution_count": 2,
      "outputs": [
        {
          "output_type": "stream",
          "name": "stdout",
          "text": [
            "Mounted at /content/drive/\n"
          ]
        }
      ]
    },
    {
      "cell_type": "markdown",
      "source": [
        "The goal of this notebook is to develop a visualization of useful KPIs for a set of selected crypto currencies. The KPIs should be easy to track and understand, and allow to forecast the near-term earning potential if one had purchased this portfolio. "
      ],
      "metadata": {
        "id": "MT1wAmsWPGB4"
      }
    },
    {
      "cell_type": "code",
      "execution_count": 1,
      "metadata": {
        "id": "w8J0Nj0cPALZ"
      },
      "outputs": [],
      "source": [
        "import numpy as np\n",
        "from numpy import random as rnd\n",
        "from matplotlib import pyplot as plt\n",
        "import warnings,datetime,time,math,itertools,os,sys\n",
        "\n",
        "import pandas as pd"
      ]
    },
    {
      "cell_type": "code",
      "source": [
        ""
      ],
      "metadata": {
        "id": "ylADvSUBP1fc"
      },
      "execution_count": null,
      "outputs": []
    }
  ]
}