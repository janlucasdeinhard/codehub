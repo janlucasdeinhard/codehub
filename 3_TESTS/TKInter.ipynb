{
 "cells": [
  {
   "cell_type": "code",
   "execution_count": 1,
   "metadata": {},
   "outputs": [],
   "source": [
    "import numpy as np\n",
    "from numpy import random as rnd\n",
    "from matplotlib import pyplot as plt\n",
    "import sys,os,datetime,time,itertools,warnings\n",
    "\n",
    "import pandas as pd\n",
    "\n",
    "import tkinter as tk\n",
    "from tkinter import ttk"
   ]
  },
  {
   "cell_type": "code",
   "execution_count": 13,
   "metadata": {},
   "outputs": [],
   "source": [
    "class App(tk.Tk):\n",
    "    def __init__(self):\n",
    "        super().__init__()\n",
    "\n",
    "        self.title(\"OSNR Measurement\")\n",
    "        self.geometry(\"600x400\")\n",
    "\n",
    "        self.createTitleFrame()\n",
    "        self.createMenuFrame()\n",
    "        self.createDisplayFrame()\n",
    "        self.createStatusFrame()\n",
    "\n",
    "\n",
    "        #self.grid_columnconfigure(0, weight=1)  # Spalte 0\n",
    "        self.grid_columnconfigure(1, weight=1)\n",
    "        self.grid_rowconfigure(1, weight=1)\n",
    "\n",
    "\n",
    "    def createTitleFrame(self):\n",
    "        # Frame wird ohne Grid nicht erzeugt\n",
    "        self.titleFrame = tk.Frame(self,\n",
    "                                   width=100,\n",
    "                                   height=80,\n",
    "                                   bg=\"gray\",\n",
    "                                   highlightbackground=\"white\",\n",
    "                                   highlightthickness=1)\n",
    "\n",
    "        #self.titleImage = tk.PhotoImage(file=\"Images/nokia_logo_blue.png\")\n",
    "        #self.titleImage = self.titleImage.subsample(2,2)\n",
    "\n",
    "        self.titleCanvas = tk.Canvas(self, width=100, height=80, bg=\"gray\", highlightthickness=1)\n",
    "        #self.titleCanvas.create_image(20,20, image=self.titleImage, anchor=\"n\")\n",
    "\n",
    "        #self.titleFrame.grid(row=0, column=0, columnspan=2, sticky=\"new\")\n",
    "        self.titleCanvas.grid(row=0, column=0, columnspan=2, sticky=\"news\")\n",
    "\n",
    "\n",
    "\n",
    "\n",
    "    def createMenuFrame(self):\n",
    "        # Create Frame\n",
    "        self.menuFrame = tk.Frame(self, width=100, height=100, bg=\"gray\", highlightbackground=\"white\", highlightthickness=1)\n",
    "        self.menuFrame.grid(row=1, column=0, sticky=\"nws\")\n",
    "        # Create Hover Function\n",
    "        def button_hover(e):\n",
    "            self.measurementButton[\"bg\"] = \"#DADADA\"\n",
    "\n",
    "        def sbutton_hover(e):\n",
    "            self.shelfButton[\"bg\"] = \"#DADADA\"\n",
    "\n",
    "        def button_hover_leave(e):\n",
    "            self.measurementButton[\"bg\"] = \"gray\"\n",
    "\n",
    "        def sbutton_hover_leave(e):\n",
    "            self.shelfButton[\"bg\"] = \"gray\"\n",
    "\n",
    "        # Create Buttons\n",
    "        #self.mButtonPhoto = tk.PhotoImage(file=\"Images/icon_bar-graph.png\")\n",
    "        #self.sButtonPhoto = tk.PhotoImage(file=\"Images/icon_network-hub.png\")\n",
    "\n",
    "        #self.mButtonImage = self.mButtonPhoto.subsample(10, 10)\n",
    "        #self.sButtonImage = self.sButtonPhoto.subsample(10, 10)\n",
    "\n",
    "        self.measurementButton = tk.Button(self.menuFrame,\n",
    "                                            text=\"  Measurement  \",\n",
    "                                            bd=0,\n",
    "                                            #image=self.mButtonImage,\n",
    "                                            compound=\"left\",\n",
    "                                            command=None,\n",
    "                                            font=(\"Helvetica\", \"12\", \"bold\"),\n",
    "                                            bg=\"gray\",\n",
    "                                            anchor=\"w\")\n",
    "\n",
    "        self.shelfButton = tk.Button(self.menuFrame,\n",
    "                                            text=\"  Shelf  \",\n",
    "                                            bd=0,\n",
    "                                            #image=self.sButtonImage,    # Bild in Button\n",
    "                                            compound=\"left\",            # Bild links von der Schrift\n",
    "                                            command=None,\n",
    "                                            font=(\"Helvetica\", \"12\", \"bold\"),\n",
    "                                            bg=\"gray\",\n",
    "                                            anchor=\"w\")                 # Ausrichtung West\n",
    "\n",
    "        self.measurementButton.grid(row=0, column=0, sticky=\"new\")\n",
    "        self.shelfButton.grid(row=1, column=0, sticky=\"we\")\n",
    "\n",
    "        self.measurementButton.bind(\"<Enter>\", button_hover)\n",
    "        self.shelfButton.bind(\"<Enter>\", sbutton_hover)\n",
    "        self.measurementButton.bind(\"<Leave>\", button_hover_leave)\n",
    "        self.shelfButton.bind(\"<Leave>\", sbutton_hover_leave)\n",
    "\n",
    "    def createDisplayFrame(self):\n",
    "        self.displayFrame = tk.Frame(self, width=200, height=100, bg=\"gray\", highlightbackground=\"white\", highlightthickness=1)\n",
    "        self.displayFrame.grid(row=1, column=1, sticky=\"news\")\n",
    "\n",
    "\n",
    "    def createStatusFrame(self):\n",
    "        self.statusFrame = tk.Frame(self, width=100, height=50, bg=\"gray\", highlightbackground=\"white\", highlightthickness=1)\n",
    "        self.statusFrame.grid(row=2, column=0, columnspan=2, sticky=\"ews\")"
   ]
  },
  {
   "cell_type": "code",
   "execution_count": 14,
   "metadata": {},
   "outputs": [
    {
     "ename": "SystemExit",
     "evalue": "0",
     "output_type": "error",
     "traceback": [
      "An exception has occurred, use %tb to see the full traceback.\n",
      "\u001b[0;31mSystemExit\u001b[0m\u001b[0;31m:\u001b[0m 0\n"
     ]
    },
    {
     "name": "stderr",
     "output_type": "stream",
     "text": [
      "/opt/anaconda3/lib/python3.8/site-packages/IPython/core/interactiveshell.py:3426: UserWarning: To exit: use 'exit', 'quit', or Ctrl-D.\n",
      "  warn(\"To exit: use 'exit', 'quit', or Ctrl-D.\", stacklevel=1)\n"
     ]
    }
   ],
   "source": [
    "app = App()\n",
    "app.mainloop()"
   ]
  },
  {
   "cell_type": "code",
   "execution_count": null,
   "metadata": {},
   "outputs": [],
   "source": []
  }
 ],
 "metadata": {
  "kernelspec": {
   "display_name": "Python 3",
   "language": "python",
   "name": "python3"
  },
  "language_info": {
   "codemirror_mode": {
    "name": "ipython",
    "version": 3
   },
   "file_extension": ".py",
   "mimetype": "text/x-python",
   "name": "python",
   "nbconvert_exporter": "python",
   "pygments_lexer": "ipython3",
   "version": "3.8.5"
  }
 },
 "nbformat": 4,
 "nbformat_minor": 4
}
