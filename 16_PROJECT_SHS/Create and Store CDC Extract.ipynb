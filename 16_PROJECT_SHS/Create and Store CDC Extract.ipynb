{
 "cells": [
  {
   "cell_type": "markdown",
   "metadata": {},
   "source": [
    "# Snowflake Data Exploration\n",
    "\n",
    "The goal of this notebook is to support the design of a research hypothesis suitable for the CRM Data Cloud."
   ]
  },
  {
   "cell_type": "code",
   "execution_count": 2,
   "metadata": {},
   "outputs": [
    {
     "name": "stderr",
     "output_type": "stream",
     "text": [
      "C:\\Users\\z003mxpm\\Anaconda3\\lib\\site-packages\\snowflake\\connector\\options.py:94: UserWarning: You have an incompatible version of 'pyarrow' installed (4.0.0), please install a version that adheres to: 'pyarrow<3.1.0,>=3.0.0; extra == \"pandas\"'\n",
      "  warn_incompatible_dep(\n"
     ]
    }
   ],
   "source": [
    "import numpy as np\n",
    "from numpy import random as rnd\n",
    "from matplotlib import pyplot as plt\n",
    "import warnings,datetime,time,math,itertools,os,sys\n",
    "\n",
    "import torch\n",
    "import torch.nn as nn\n",
    "from torch.nn import functional as F\n",
    "\n",
    "import pandas as pd\n",
    "import plotly.express as px\n",
    "\n",
    "from sklearn.preprocessing import LabelEncoder\n",
    "\n",
    "import networkx as nx\n",
    "\n",
    "import snowflake.connector"
   ]
  },
  {
   "cell_type": "code",
   "execution_count": 3,
   "metadata": {},
   "outputs": [],
   "source": [
    "conn = snowflake.connector.connect(\n",
    "    user='jan-lucas.deinhard@siemens-healthineers.com',\n",
    "    account='shsitdl.west-europe.azure',\n",
    "    authenticator='externalbrowser'\n",
    ")"
   ]
  },
  {
   "cell_type": "code",
   "execution_count": 5,
   "metadata": {},
   "outputs": [],
   "source": [
    "metadataQuery = '''\n",
    "SELECT *\n",
    "FROM \"{0}\".\"INFORMATION_SCHEMA\".\"COLUMNS\" \n",
    "'''"
   ]
  },
  {
   "cell_type": "code",
   "execution_count": 6,
   "metadata": {},
   "outputs": [],
   "source": [
    "ZONES = [\n",
    "    'CRMCL_CHECKIN',\n",
    "    'CRMCL_SCREENING',\n",
    "    'CRMCL_BOARDING',\n",
    "    'CRMCL_TOPICAREA'\n",
    "]\n",
    "\n",
    "df = pd.DataFrame()\n",
    "\n",
    "for item in ZONES:\n",
    "    tf = pd.read_sql(\n",
    "        sql=metadataQuery.format(item),\n",
    "        con=conn\n",
    "    )\n",
    "    df = pd.concat([df,tf])"
   ]
  },
  {
   "cell_type": "code",
   "execution_count": 7,
   "metadata": {},
   "outputs": [],
   "source": [
    "df.to_excel('C:\\\\Users\\\\z003mxpm\\\\Desktop\\\\extract\\\\metadata.xlsx')"
   ]
  },
  {
   "cell_type": "code",
   "execution_count": 8,
   "metadata": {},
   "outputs": [
    {
     "data": {
      "text/plain": [
       "array(['ADOBE_ANALYTICS', 'AUXFILES', 'BLISS', 'CCT', 'CDCADMIN', 'CNJ',\n",
       "       'CPQ', 'DOMO_RAW', 'ELOQUA', 'GAMA', 'GCR', 'INFORMATION_SCHEMA',\n",
       "       'MARKETING', 'MCMN', 'ONELIBRARY', 'ONE_LIBRARY', 'OPAL', 'OSC',\n",
       "       'PLAYGROUND', 'PRM', 'RLS', 'SDTB', 'SHARE', 'VARIAN'],\n",
       "      dtype=object)"
      ]
     },
     "execution_count": 8,
     "metadata": {},
     "output_type": "execute_result"
    }
   ],
   "source": [
    "np.sort(df[df['TABLE_SCHEMA'].apply(lambda x: 'TEST' not in x)]['TABLE_SCHEMA'].unique())"
   ]
  },
  {
   "cell_type": "code",
   "execution_count": 9,
   "metadata": {},
   "outputs": [],
   "source": [
    "SCHEMAS = [\n",
    "    'ADOBE_ANALYTICS', \n",
    "    'AUXFILES', \n",
    "    'BLISS', \n",
    "    #'CCT', \n",
    "    #'CDCADMIN', \n",
    "    #'CNJ',\n",
    "    'CPQ', \n",
    "    'DOMO_RAW', \n",
    "    'ELOQUA', \n",
    "    #'GAMA', \n",
    "    'GCR', \n",
    "    #'INFORMATION_SCHEMA',\n",
    "    #'MARKETING', \n",
    "    'MCMN', \n",
    "    'ONELIBRARY', \n",
    "    'ONE_LIBRARY', \n",
    "    #'OPAL', \n",
    "    'OSC',\n",
    "    #'PLAYGROUND', \n",
    "    #'PRM', \n",
    "    #'RLS', \n",
    "    'SDTB', \n",
    "    'SHARE', \n",
    "    'VARIAN'\n",
    "]"
   ]
  },
  {
   "cell_type": "code",
   "execution_count": 10,
   "metadata": {},
   "outputs": [],
   "source": [
    "TABLES = [\n",
    "    'ACTIVE_QUOTES_HEADER', \n",
    "    'IN_VITRO_Price_Reagents',\n",
    "    'IN_VIVO_Quote_Details', \n",
    "    'New_Eloqua_Contact',\n",
    "    'Account to Account Relationships', \n",
    "    'Contacts',\n",
    "    'Accounts',\n",
    "    'Opportunities',\n",
    "    'SDTB_IBD_Complete',\n",
    "    'SDTB_IBD_Notification', \n",
    "    'IN_VITRO_Contract_KPIs',\n",
    "    'IN_VITRO_Diagnostic_Parameters',\n",
    "    'IN_VIVO_QuoteItem_Costs', \n",
    "    'Order_Details',\n",
    "    'Account_Customer_Operating_Budget',\n",
    "    'Installed Base', \n",
    "    'Leads',\n",
    "    'CS Installed Base (Merged with OSC)',\n",
    "    'VarianAccounts', \n",
    "    'Projects',\n",
    "    'VarianAssets', \n",
    "    'VarianOpportunities',\n",
    "    'Regional_Hierarchy', \n",
    "    'CS_Quote_Details', \n",
    "    'Revenue_New_Orders',\n",
    "    'OLIs',\n",
    "    'Products', \n",
    "    'ADOBE_WEB_ANALYTICS', \n",
    "    'ALL_QUOTES_HEADER',\n",
    "    'IN_VITRO_Systems_per_Enduser', \n",
    "    'IN_VITRO_Instrument_Automation_to_Systems',\n",
    "    'IN_VITRO_Price_Consumables', \n",
    "    'IN_VITRO_Additional_Items',\n",
    "    'Eloqua_LinkedIn_Activity',\n",
    "    'OneLibrary_Activities',\n",
    "    'Contact to Account Relationships','Partners',\n",
    "    'SDTB_IBD',\n",
    "    'IN_VITRO_GPO_Reagent_Test_Vol_Tier_Setup',\n",
    "    'IN_VITRO_Price_Service', \n",
    "    'Account_All_Addresses',\n",
    "    'Contacts_US', \n",
    "    'IN_VITRO_Price_Equipment_Software', \n",
    "    'IN_VITRO_Contract', \n",
    "    'ELOQUA_OSC_MATCHING',\n",
    "    'Account_Share_Of_Wallet',\n",
    "    'Eloqua_Activities',\n",
    "    'Account_All_Phones',\n",
    "    'Manual Adjustments',\n",
    "    'Assets',\n",
    "    'Account_Address_Geolocations',\n",
    "    'IN_VITRO_Reagents_per_Enduser',\n",
    "    'Organizational_Mapping',\n",
    "    'Account_Contact_Relationships',\n",
    "    'Employees',\n",
    "    'MVP_Consent_Forms',\n",
    "    'Orders',\n",
    "    'AccountsStructure',\n",
    "    'IN_VITRO_SurchargeFactor',\n",
    "    'IN_VITRO_Consumables_per_Enduser',\n",
    "    'IN_VITRO_Atellica_Solution_Configurations',\n",
    "    'Eloqua_OSC_MVPspecific_ManualMatches',\n",
    "    'Account_ShipToUsage', 'Account_All_EMails',\n",
    "    'Account to Contact Relationships',\n",
    "    'Contact_Marketing_Attributes',\n",
    "    'VARIAN_SHS_MATCHING',\n",
    "    'TerritoryAccountRelationship',\n",
    "    'Account_All_URLs',\n",
    "    'Accounts_ExcelDefinedAccounts',\n",
    "    'IN_VITRO_AdditionalItemsFactor',\n",
    "    'Contact to Contact Relationships',\n",
    "    'Varian_Account_Address_Geolocations', \n",
    "    'Account_Marketing_Attributes', \n",
    "    'Account_InternationalLogic',\n",
    "    'Finance_FX_Rates'\n",
    "]"
   ]
  },
  {
   "cell_type": "code",
   "execution_count": 11,
   "metadata": {},
   "outputs": [],
   "source": [
    "FULLPATH_LIST = ['\\\"'+k+'\\\"' for k in df[df['TABLE_CATALOG'].isin(['CRMCL_TOPICAREA'])&df['TABLE_SCHEMA'].isin(SCHEMAS)&df['TABLE_NAME'].isin(TABLES)][['TABLE_CATALOG','TABLE_SCHEMA','TABLE_NAME']].agg('\".\"'.join,axis=1).tolist()]"
   ]
  },
  {
   "cell_type": "code",
   "execution_count": 12,
   "metadata": {},
   "outputs": [],
   "source": [
    "sqlQuery = '''\n",
    "    SELECT * FROM {0} SAMPLE ROW (1000 rows)\n",
    "'''"
   ]
  },
  {
   "cell_type": "code",
   "execution_count": 13,
   "metadata": {},
   "outputs": [
    {
     "data": {
      "text/plain": [
       "3426"
      ]
     },
     "execution_count": 13,
     "metadata": {},
     "output_type": "execute_result"
    }
   ],
   "source": [
    "len(FULLPATH_LIST)"
   ]
  },
  {
   "cell_type": "code",
   "execution_count": 14,
   "metadata": {},
   "outputs": [
    {
     "name": "stdout",
     "output_type": "stream",
     "text": [
      "Processed 100/3426 items, current item -> \"CRMCL_TOPICAREA\".\"OSC\".\"Assets\"\n",
      "Processed 200/3426 items, current item -> \"CRMCL_TOPICAREA\".\"CPQ\".\"IN_VIVO_Quote_Details\"\n",
      "Processed 300/3426 items, current item -> \"CRMCL_TOPICAREA\".\"CPQ\".\"IN_VITRO_Price_Consumables\"\n",
      "Processed 400/3426 items, current item -> \"CRMCL_TOPICAREA\".\"OSC\".\"Accounts\"\n",
      "Processed 500/3426 items, current item -> \"CRMCL_TOPICAREA\".\"CPQ\".\"Orders\"\n",
      "Processed 600/3426 items, current item -> \"CRMCL_TOPICAREA\".\"OSC\".\"Accounts\"\n",
      "Processed 700/3426 items, current item -> \"CRMCL_TOPICAREA\".\"OSC\".\"Account_All_EMails\"\n",
      "Processed 800/3426 items, current item -> \"CRMCL_TOPICAREA\".\"CPQ\".\"IN_VITRO_Additional_Items\"\n",
      "Processed 900/3426 items, current item -> \"CRMCL_TOPICAREA\".\"CPQ\".\"CS_Quote_Details\"\n",
      "Processed 1000/3426 items, current item -> \"CRMCL_TOPICAREA\".\"CPQ\".\"IN_VITRO_Price_Service\"\n",
      "Processed 1100/3426 items, current item -> \"CRMCL_TOPICAREA\".\"OSC\".\"Contacts\"\n",
      "Processed 1200/3426 items, current item -> \"CRMCL_TOPICAREA\".\"OSC\".\"Accounts\"\n",
      "Processed 1300/3426 items, current item -> \"CRMCL_TOPICAREA\".\"VARIAN\".\"VarianAssets\"\n",
      "Processed 1400/3426 items, current item -> \"CRMCL_TOPICAREA\".\"OSC\".\"Assets\"\n",
      "Processed 1500/3426 items, current item -> \"CRMCL_TOPICAREA\".\"CPQ\".\"IN_VITRO_Additional_Items\"\n",
      "Processed 1600/3426 items, current item -> \"CRMCL_TOPICAREA\".\"AUXFILES\".\"Account_Address_Geolocations\"\n",
      "Processed 1700/3426 items, current item -> \"CRMCL_TOPICAREA\".\"CPQ\".\"IN_VITRO_Contract_KPIs\"\n",
      "Processed 1800/3426 items, current item -> \"CRMCL_TOPICAREA\".\"OSC\".\"Opportunities\"\n",
      "Processed 1900/3426 items, current item -> \"CRMCL_TOPICAREA\".\"OSC\".\"Contacts\"\n",
      "Processed 2000/3426 items, current item -> \"CRMCL_TOPICAREA\".\"CPQ\".\"Order_Details\"\n",
      "Processed 2100/3426 items, current item -> \"CRMCL_TOPICAREA\".\"CPQ\".\"ACTIVE_QUOTES_HEADER\"\n",
      "Processed 2200/3426 items, current item -> \"CRMCL_TOPICAREA\".\"ONELIBRARY\".\"Contacts_US\"\n",
      "Processed 2300/3426 items, current item -> \"CRMCL_TOPICAREA\".\"OSC\".\"Accounts\"\n",
      "Processed 2400/3426 items, current item -> \"CRMCL_TOPICAREA\".\"VARIAN\".\"VarianAccounts\"\n",
      "Processed 2500/3426 items, current item -> \"CRMCL_TOPICAREA\".\"CPQ\".\"IN_VITRO_Price_Reagents\"\n",
      "Processed 2600/3426 items, current item -> \"CRMCL_TOPICAREA\".\"OSC\".\"Employees\"\n",
      "Processed 2700/3426 items, current item -> \"CRMCL_TOPICAREA\".\"SDTB\".\"CS Installed Base (Merged with OSC)\"\n",
      "Processed 2800/3426 items, current item -> \"CRMCL_TOPICAREA\".\"SDTB\".\"SDTB_IBD_Complete\"\n",
      "Processed 2900/3426 items, current item -> \"CRMCL_TOPICAREA\".\"ONE_LIBRARY\".\"OneLibrary_Activities\"\n",
      "Processed 3000/3426 items, current item -> \"CRMCL_TOPICAREA\".\"OSC\".\"Leads\"\n",
      "Processed 3100/3426 items, current item -> \"CRMCL_TOPICAREA\".\"OSC\".\"OLIs\"\n",
      "Processed 3200/3426 items, current item -> \"CRMCL_TOPICAREA\".\"OSC\".\"Installed Base\"\n",
      "Processed 3300/3426 items, current item -> \"CRMCL_TOPICAREA\".\"SDTB\".\"CS Installed Base (Merged with OSC)\"\n",
      "Processed 3400/3426 items, current item -> \"CRMCL_TOPICAREA\".\"VARIAN\".\"VarianOpportunities\"\n"
     ]
    }
   ],
   "source": [
    "ctr = 1\n",
    "\n",
    "for item in FULLPATH_LIST:\n",
    "    if ctr%100==0: print('Processed {0}/{1} items, current item -> {2}'.format(ctr,len(FULLPATH_LIST),item))\n",
    "    ctr += 1\n",
    "    try:\n",
    "        tf = pd.read_sql(\n",
    "            sql=sqlQuery.format(item),\n",
    "            con=conn\n",
    "        )\n",
    "        tf.to_excel('C:\\\\Users\\\\z003mxpm\\\\Desktop\\\\extract\\\\'+item.replace('\".\"','_').replace('\"','')+'.xlsx')\n",
    "    except:\n",
    "        with open('C:\\\\Users\\\\z003mxpm\\\\Desktop\\\\extract\\\\skipped.txt','a') as f:\n",
    "            f.write(item)"
   ]
  },
  {
   "cell_type": "code",
   "execution_count": null,
   "metadata": {},
   "outputs": [],
   "source": []
  }
 ],
 "metadata": {
  "kernelspec": {
   "display_name": "Python 3",
   "language": "python",
   "name": "python3"
  },
  "language_info": {
   "codemirror_mode": {
    "name": "ipython",
    "version": 3
   },
   "file_extension": ".py",
   "mimetype": "text/x-python",
   "name": "python",
   "nbconvert_exporter": "python",
   "pygments_lexer": "ipython3",
   "version": "3.8.5"
  }
 },
 "nbformat": 4,
 "nbformat_minor": 4
}
