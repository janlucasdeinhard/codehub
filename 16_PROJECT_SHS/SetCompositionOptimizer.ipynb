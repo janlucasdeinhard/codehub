{
 "cells": [
  {
   "cell_type": "markdown",
   "metadata": {},
   "source": [
    "# Attempt to optimally represent an Input Set through available other Sets"
   ]
  },
  {
   "cell_type": "code",
   "execution_count": null,
   "metadata": {},
   "outputs": [],
   "source": []
  },
  {
   "cell_type": "markdown",
   "metadata": {},
   "source": [
    "## Library Imports"
   ]
  },
  {
   "cell_type": "code",
   "execution_count": 23,
   "metadata": {},
   "outputs": [
    {
     "data": {
      "text/plain": [
       "<matplotlib.rc_context at 0x21b160f35f8>"
      ]
     },
     "execution_count": 23,
     "metadata": {},
     "output_type": "execute_result"
    }
   ],
   "source": [
    "import math\n",
    "import numpy as np\n",
    "from matplotlib import pyplot as plt\n",
    "from numpy import random as rnd\n",
    "import warnings,datetime,os,calendar,csv,time\n",
    "import pickle,h5py,json\n",
    "\n",
    "import tensorflow as tf\n",
    "import pandas as pd\n",
    "import seaborn as sns\n",
    "\n",
    "from keras.models import Model,Sequential\n",
    "from keras.layers import Dense,LSTM,Conv2D,Dropout,BatchNormalization,Input,Concatenate,Add,Activation,MaxPooling2D,AveragePooling2D\n",
    "import keras.backend as K\n",
    "\n",
    "from sklearn import preprocessing as pp\n",
    "\n",
    "from sklearn.cluster import KMeans,MeanShift\n",
    "from sklearn.dummy import DummyClassifier,DummyRegressor\n",
    "from sklearn.discriminant_analysis import LinearDiscriminantAnalysis\n",
    "from sklearn.ensemble import AdaBoostClassifier,AdaBoostRegressor,RandomForestClassifier,RandomForestRegressor\n",
    "from sklearn.linear_model import BayesianRidge,Lasso,LinearRegression,SGDClassifier,SGDRegressor\n",
    "from sklearn.mixture import BayesianGaussianMixture,GaussianMixture\n",
    "from sklearn.neighbors import KNeighborsClassifier,KNeighborsRegressor,RadiusNeighborsClassifier,RadiusNeighborsRegressor,NearestNeighbors\n",
    "from sklearn.manifold import Isomap,TSNE\n",
    "from sklearn.model_selection import KFold,StratifiedKFold,train_test_split\n",
    "from sklearn.svm import LinearSVC,LinearSVR\n",
    "from sklearn.neural_network import BernoulliRBM,MLPClassifier,MLPRegressor\n",
    "from sklearn.decomposition import FactorAnalysis,KernelPCA,PCA,MiniBatchSparsePCA,FastICA\n",
    "from sklearn.preprocessing import CategoricalEncoder,KBinsDiscretizer,LabelEncoder,MinMaxScaler,OneHotEncoder,StandardScaler\n",
    "\n",
    "from scipy import fftpack\n",
    "from scipy.signal import resample,correlate\n",
    "from xgboost import XGBClassifier,XGBRegressor\n",
    "\n",
    "import gym\n",
    "import pulp as pl\n",
    "\n",
    "import pandas_datareader as pdr\n",
    "import urllib\n",
    "from bs4 import BeautifulSoup\n",
    "import networkx as nx\n",
    "from lmfit import Model\n",
    "\n",
    "import iexfinance as iex\n",
    "from iexfinance.stocks import get_historical_data\n",
    "\n",
    "warnings.filterwarnings('ignore')\n",
    "sns.set()\n",
    "plt.xkcd()"
   ]
  },
  {
   "cell_type": "code",
   "execution_count": null,
   "metadata": {},
   "outputs": [],
   "source": []
  },
  {
   "cell_type": "markdown",
   "metadata": {},
   "source": [
    "## Generally important Function Definitions"
   ]
  },
  {
   "cell_type": "code",
   "execution_count": 30,
   "metadata": {},
   "outputs": [],
   "source": [
    "def jaccard_score(A,B):\n",
    "    assert type(A) is list and type(B) is list, 'Function takes as arguments two lists'\n",
    "    return float(len(set(A).intersection(set(B)))/len(set(A).union(set(B))))"
   ]
  },
  {
   "cell_type": "code",
   "execution_count": 364,
   "metadata": {},
   "outputs": [],
   "source": [
    "def jaccard_x(x,C,S):\n",
    "    Ct = list(set([kk for k in list(np.where(x==1)[0]) for kk in C[k]]))\n",
    "    return jaccard_score(S,Ct)"
   ]
  },
  {
   "cell_type": "code",
   "execution_count": null,
   "metadata": {},
   "outputs": [],
   "source": []
  },
  {
   "cell_type": "markdown",
   "metadata": {},
   "source": [
    "## Set up Optimization Problem"
   ]
  },
  {
   "cell_type": "code",
   "execution_count": 483,
   "metadata": {},
   "outputs": [],
   "source": [
    "M = rnd.permutation(np.arange(0,10e5))[:100]\n",
    "\n",
    "S = list(set(rnd.choice(M,100).tolist()))\n",
    "\n",
    "C = []\n",
    "for k in range(1000):\n",
    "    C.append(rnd.choice(M,rnd.randint(35)).tolist())"
   ]
  },
  {
   "cell_type": "code",
   "execution_count": null,
   "metadata": {},
   "outputs": [],
   "source": []
  },
  {
   "cell_type": "markdown",
   "metadata": {},
   "source": [
    "## Genetic Algorithm Solution"
   ]
  },
  {
   "cell_type": "code",
   "execution_count": 484,
   "metadata": {},
   "outputs": [],
   "source": [
    "def run_epoch(X0,C,S):\n",
    "    scores = []\n",
    "    for k in range(X0.shape[0]):\n",
    "        scores.append(jaccard_x(X0[k,:],C,S) + 0.1*(1-np.where(X0[k,:]==1)[0].shape[0]/len(C)))\n",
    "    return X0,np.array(scores)"
   ]
  },
  {
   "cell_type": "code",
   "execution_count": 485,
   "metadata": {},
   "outputs": [],
   "source": [
    "def create_next_generation(X0,S0,POPULATION_SIZE,RANDOM_MUTATION_RATE):\n",
    "\n",
    "    assert type(RANDOM_MUTATION_RATE) is float and RANDOM_MUTATION_RATE>=0 and RANDOM_MUTATION_RATE<=1, 'Please select a random mutation rate between 0 and 1'\n",
    "    \n",
    "    x_idx = np.arange(0,X0.shape[0])\n",
    "    pp = S0/S0.sum()\n",
    "\n",
    "    pairs = rnd.choice(x_idx,p=pp,size=[POPULATION_SIZE,2])\n",
    "\n",
    "    children = np.zeros(shape=[pairs.shape[0],X0.shape[1]])\n",
    "\n",
    "    for childID in range(children.shape[0]):\n",
    "\n",
    "        gene0 = pairs[childID,0]\n",
    "        gene1 = pairs[childID,1]\n",
    "\n",
    "        parent0 = X0[gene0,:]\n",
    "        parent1 = X0[gene1,:]\n",
    "\n",
    "        for k in range(X0.shape[1]):\n",
    "            loc0 = parent0[k]\n",
    "            loc1 = parent1[k]\n",
    "\n",
    "            if loc0==0 and loc1==0: continue\n",
    "            elif loc0==1 and loc1==1: children[childID,k] = 1\n",
    "            else: children[childID,k] = rnd.choice(np.arange(2),p=[0.5, 0.5])\n",
    "                \n",
    "            if rnd.rand()<RANDOM_MUTATION_RATE: \n",
    "                children[childID,k] += 1\n",
    "                children[childID,k] %= 2\n",
    "    return children"
   ]
  },
  {
   "cell_type": "code",
   "execution_count": 486,
   "metadata": {},
   "outputs": [],
   "source": [
    "POPULATION_SIZE = 100\n",
    "TOP_N_PCTG_SELECT = 0.7\n",
    "RANDOM_MUTATION_RATE = 0.1\n",
    "\n",
    "performance = []\n",
    "indices = []\n",
    "\n",
    "Xn = rnd.randint(0,2,[POPULATION_SIZE,len(C)])\n",
    "for E in range(500):\n",
    "\n",
    "    Xc,scores = run_epoch(Xn,C,S)\n",
    "\n",
    "    s_idx = np.argsort(scores)[::-1]\n",
    "    Xc = Xc[s_idx,:]\n",
    "    scores = scores[s_idx]\n",
    "\n",
    "    Xc = Xc[:int(scores.shape[0]*TOP_N_PCTG_SELECT),:]\n",
    "    scores = scores[:int(scores.shape[0]*TOP_N_PCTG_SELECT)]\n",
    "    \n",
    "    Xn = create_next_generation(Xc,scores,POPULATION_SIZE=POPULATION_SIZE,RANDOM_MUTATION_RATE=RANDOM_MUTATION_RATE)\n",
    "    \n",
    "    indices.append(np.where(np.round(np.mean(Xn,axis=0))==1)[0].tolist())\n",
    "    prop_merged_list = list(set([k for kk in indices[-1] for k in C[kk]]))\n",
    "    \n",
    "    performance.append(jaccard_score(prop_merged_list,S))"
   ]
  },
  {
   "cell_type": "code",
   "execution_count": 487,
   "metadata": {},
   "outputs": [
    {
     "data": {
      "text/plain": [
       "[<matplotlib.lines.Line2D at 0x21b188b8c18>]"
      ]
     },
     "execution_count": 487,
     "metadata": {},
     "output_type": "execute_result"
    },
    {
     "data": {
      "image/png": "[encoded data removed]",
      "text/plain": [
       "<Figure size 432x288 with 1 Axes>"
      ]
     },
     "metadata": {},
     "output_type": "display_data"
    }
   ],
   "source": [
    "plt.plot(performance)"
   ]
  },
  {
   "cell_type": "code",
   "execution_count": 488,
   "metadata": {},
   "outputs": [
    {
     "data": {
      "text/plain": [
       "[11, 107, 159, 505, 667, 722, 858]"
      ]
     },
     "execution_count": 488,
     "metadata": {},
     "output_type": "execute_result"
    }
   ],
   "source": [
    "indices[-1]"
   ]
  },
  {
   "cell_type": "code",
   "execution_count": null,
   "metadata": {},
   "outputs": [],
   "source": []
  },
  {
   "cell_type": "markdown",
   "metadata": {},
   "source": [
    "## Linear Optimizer Solution"
   ]
  },
  {
   "cell_type": "code",
   "execution_count": 527,
   "metadata": {},
   "outputs": [],
   "source": [
    "lp_problem = pulp.LpProblem(\"My LP Problem\", pulp.LpMaximize)\n",
    "\n",
    "X = []\n",
    "for k in range(3):\n",
    "    X.append(pulp.LpVariable('x'+str(k),cat='Continuous'))\n",
    "\n",
    "# Objective\n",
    "lp_problem += (3*X[0] + 8*X[1])\n",
    "\n",
    "# Constraints\n",
    "lp_problem += (X[0]-X[1]+2*X[2]<=3)\n",
    "lp_problem += (X[0]-X[1]>=2)\n",
    "lp_problem += (X[2]-X[1]-X[0]>=1)"
   ]
  },
  {
   "cell_type": "code",
   "execution_count": 528,
   "metadata": {},
   "outputs": [
    {
     "data": {
      "text/plain": [
       "My LP Problem:\n",
       "MAXIMIZE\n",
       "3*x0 + 8*x1 + 0\n",
       "SUBJECT TO\n",
       "_C1: x0 - x1 + 2 x2 <= 3\n",
       "\n",
       "_C2: x0 - x1 >= 2\n",
       "\n",
       "_C3: - x0 - x1 + x2 >= 1\n",
       "\n",
       "VARIABLES\n",
       "x0 free Continuous\n",
       "x1 free Continuous\n",
       "x2 free Continuous"
      ]
     },
     "execution_count": 528,
     "metadata": {},
     "output_type": "execute_result"
    }
   ],
   "source": [
    "lp_problem"
   ]
  },
  {
   "cell_type": "code",
   "execution_count": 529,
   "metadata": {},
   "outputs": [
    {
     "data": {
      "text/plain": [
       "1"
      ]
     },
     "execution_count": 529,
     "metadata": {},
     "output_type": "execute_result"
    }
   ],
   "source": [
    "lp_problem.solve()"
   ]
  },
  {
   "cell_type": "code",
   "execution_count": 530,
   "metadata": {},
   "outputs": [
    {
     "data": {
      "text/plain": [
       "'Optimal'"
      ]
     },
     "execution_count": 530,
     "metadata": {},
     "output_type": "execute_result"
    }
   ],
   "source": [
    "pulp.LpStatus[lp_problem.status]"
   ]
  },
  {
   "cell_type": "code",
   "execution_count": 534,
   "metadata": {},
   "outputs": [
    {
     "name": "stdout",
     "output_type": "stream",
     "text": [
      "x0 = 0.75\n",
      "x1 = -1.25\n",
      "x2 = 0.5\n",
      "\n",
      "Optimal Value = -7.750000\n"
     ]
    }
   ],
   "source": [
    "for variable in lp_problem.variables():\n",
    "    print(\"{} = {}\".format(variable.name, variable.varValue))\n",
    "\n",
    "print('\\nOptimal Value = %f'%(pulp.value(lp_problem.objective)))"
   ]
  },
  {
   "cell_type": "code",
   "execution_count": null,
   "metadata": {},
   "outputs": [],
   "source": []
  }
 ],
 "metadata": {
  "kernelspec": {
   "display_name": "Python 3",
   "language": "python",
   "name": "python3"
  },
  "language_info": {
   "codemirror_mode": {
    "name": "ipython",
    "version": 3
   },
   "file_extension": ".py",
   "mimetype": "text/x-python",
   "name": "python",
   "nbconvert_exporter": "python",
   "pygments_lexer": "ipython3",
   "version": "3.8.5"
  }
 },
 "nbformat": 4,
 "nbformat_minor": 2
}
