{
 "cells": [
  {
   "cell_type": "markdown",
   "metadata": {},
   "source": [
    "# Snowflake Data Exploration\n",
    "\n",
    "The goal of this notebook is to support the design of a research hypothesis suitable for the CRM Data Cloud."
   ]
  },
  {
   "cell_type": "code",
   "execution_count": 65,
   "metadata": {},
   "outputs": [],
   "source": [
    "import numpy as np\n",
    "from numpy import random as rnd\n",
    "from matplotlib import pyplot as plt\n",
    "import warnings,datetime,time,math,itertools,os,sys\n",
    "\n",
    "import torch\n",
    "import torch.nn as nn\n",
    "from torch.nn import functional as F\n",
    "\n",
    "import pandas as pd\n",
    "import plotly as pl\n",
    "\n",
    "from sklearn.preprocessing import LabelEncoder\n",
    "\n",
    "import networkx as nx\n",
    "\n",
    "import snowflake.connector"
   ]
  },
  {
   "cell_type": "code",
   "execution_count": 2,
   "metadata": {},
   "outputs": [],
   "source": [
    "sys.path.append('./../7_HELPERFUNCTIONS/')\n",
    "from WorldSimulators.CRMDatabase import CRMDB"
   ]
  },
  {
   "cell_type": "markdown",
   "metadata": {},
   "source": [
    "## Fetch DB information\n",
    "\n",
    "Build connection framework for pulling data from Snowflake. Fetch Metadata Information."
   ]
  },
  {
   "cell_type": "code",
   "execution_count": 8,
   "metadata": {},
   "outputs": [],
   "source": [
    "conn = snowflake.connector.connect(\n",
    "    user='jan-lucas.deinhard@siemens-healthineers.com',\n",
    "    account='shsitdl.west-europe.azure',\n",
    "    authenticator='externalbrowser'\n",
    ")"
   ]
  },
  {
   "cell_type": "code",
   "execution_count": 9,
   "metadata": {},
   "outputs": [],
   "source": [
    "# CRM Data Cloud Metadata\n",
    "info = pd.read_sql(\"SHOW COLUMNS\",con=conn)"
   ]
  },
  {
   "cell_type": "code",
   "execution_count": 10,
   "metadata": {},
   "outputs": [],
   "source": [
    "conn.close()"
   ]
  },
  {
   "cell_type": "markdown",
   "metadata": {},
   "source": [
    "## Instantiate CRM Data Base from class\n",
    "\n",
    "Get the CRM Database class and populate. Dig into the structure."
   ]
  },
  {
   "cell_type": "code",
   "execution_count": 76,
   "metadata": {},
   "outputs": [],
   "source": [
    "db = CRMDB()"
   ]
  },
  {
   "cell_type": "markdown",
   "metadata": {},
   "source": [
    "## Summarize data into characteristic vector\n",
    "\n",
    "Create a summary vector v for every DB row, excluding key elements. Examine data frames based only on keys and characteristic vectors."
   ]
  },
  {
   "cell_type": "code",
   "execution_count": 77,
   "metadata": {},
   "outputs": [],
   "source": [
    "for cframe in db.frames.keys():\n",
    "    # Select current frame\n",
    "    tdf_init = db.frames[cframe]\n",
    "    tdf = db.frames[cframe].copy()\n",
    "    # Iterate over non-key columns in current frame\n",
    "    for ccol in tdf[[k for k in tdf.columns.tolist() if k not in db.metadata[db.metadata['ISKEY']=='Y'].COLUMN.tolist()]].select_dtypes(include='object').columns:\n",
    "        lenc = LabelEncoder() \n",
    "        tdf[ccol] = lenc.fit_transform(tdf[ccol])\n",
    "    # Store full vector as new frame entry\n",
    "    tdf_init['v'] = tdf[[k for k in tdf.columns.tolist() if k not in db.metadata[db.metadata['ISKEY']=='Y'].COLUMN.tolist()]].apply(lambda x: x.values,axis=1)"
   ]
  },
  {
   "cell_type": "code",
   "execution_count": 79,
   "metadata": {},
   "outputs": [],
   "source": [
    "L = [k for k in db.frames['Accounts'].columns.tolist() if k in db.metadata[db.metadata['ISKEY']=='Y'].COLUMN.tolist()]\n",
    "L.append('v')"
   ]
  },
  {
   "cell_type": "code",
   "execution_count": 81,
   "metadata": {},
   "outputs": [],
   "source": [
    "df = db.frames['Accounts'][L]"
   ]
  },
  {
   "cell_type": "code",
   "execution_count": 82,
   "metadata": {},
   "outputs": [
    {
     "data": {
      "text/html": [
       "<div>\n",
       "<style scoped>\n",
       "    .dataframe tbody tr th:only-of-type {\n",
       "        vertical-align: middle;\n",
       "    }\n",
       "\n",
       "    .dataframe tbody tr th {\n",
       "        vertical-align: top;\n",
       "    }\n",
       "\n",
       "    .dataframe thead th {\n",
       "        text-align: right;\n",
       "    }\n",
       "</style>\n",
       "<table border=\"1\" class=\"dataframe\">\n",
       "  <thead>\n",
       "    <tr style=\"text-align: right;\">\n",
       "      <th></th>\n",
       "      <th>ACCOUNT_ID</th>\n",
       "      <th>ACCOUNT_ID (MainAccount)</th>\n",
       "      <th>ACCOUNT_ID (Parent)</th>\n",
       "      <th>v</th>\n",
       "    </tr>\n",
       "  </thead>\n",
       "  <tbody>\n",
       "    <tr>\n",
       "      <th>0</th>\n",
       "      <td>100000249062544</td>\n",
       "      <td>100000249062371</td>\n",
       "      <td>100000249062371</td>\n",
       "      <td>[789, 5, 1197, 5, 906, 4, 0, 0, 1, 1265, 0, 15...</td>\n",
       "    </tr>\n",
       "    <tr>\n",
       "      <th>1</th>\n",
       "      <td>100001109138434</td>\n",
       "      <td>920010018478466</td>\n",
       "      <td>100001109135014</td>\n",
       "      <td>[901, 4, 703, 4, 108, 4, 0, 0, 9, 539, 0, 912,...</td>\n",
       "    </tr>\n",
       "    <tr>\n",
       "      <th>2</th>\n",
       "      <td>100000416312069</td>\n",
       "      <td>910010321446211</td>\n",
       "      <td>910010321446211</td>\n",
       "      <td>[554, 6, 604, 1, 903, 4, 0, 0, 8, 1356, 0, 399...</td>\n",
       "    </tr>\n",
       "    <tr>\n",
       "      <th>3</th>\n",
       "      <td>100000416655710</td>\n",
       "      <td>910010895254685</td>\n",
       "      <td>910010895254685</td>\n",
       "      <td>[330, 6, 742, 9, 216, 3, 0, 0, 9, 1708, 0, 176...</td>\n",
       "    </tr>\n",
       "    <tr>\n",
       "      <th>4</th>\n",
       "      <td>100000416479488</td>\n",
       "      <td>910011374025656</td>\n",
       "      <td>910011374025656</td>\n",
       "      <td>[355, 6, 123, 6, 542, 4, 0, 0, 9, 1805, 0, 563...</td>\n",
       "    </tr>\n",
       "    <tr>\n",
       "      <th>...</th>\n",
       "      <td>...</td>\n",
       "      <td>...</td>\n",
       "      <td>...</td>\n",
       "      <td>...</td>\n",
       "    </tr>\n",
       "    <tr>\n",
       "      <th>1822</th>\n",
       "      <td>100000415397891</td>\n",
       "      <td>910010895254685</td>\n",
       "      <td>910010895254685</td>\n",
       "      <td>[87, 6, 1130, 9, 188, 4, 0, 0, 9, 1630, 0, 78,...</td>\n",
       "    </tr>\n",
       "    <tr>\n",
       "      <th>1823</th>\n",
       "      <td>100000415398800</td>\n",
       "      <td>910010321446211</td>\n",
       "      <td>910010321446211</td>\n",
       "      <td>[495, 6, 663, 1, 232, 4, 0, 0, 9, 1621, 0, 117...</td>\n",
       "    </tr>\n",
       "    <tr>\n",
       "      <th>1824</th>\n",
       "      <td>100001109135433</td>\n",
       "      <td>920010018478466</td>\n",
       "      <td>100001109127996</td>\n",
       "      <td>[897, 4, 577, 4, 770, 4, 0, 0, 3, 369, 0, 812,...</td>\n",
       "    </tr>\n",
       "    <tr>\n",
       "      <th>1825</th>\n",
       "      <td>100000416163326</td>\n",
       "      <td>910009252171563</td>\n",
       "      <td>910009252171563</td>\n",
       "      <td>[141, 6, 810, 7, 670, 3, 0, 0, 3, 1350, 0, 342...</td>\n",
       "    </tr>\n",
       "    <tr>\n",
       "      <th>1826</th>\n",
       "      <td>300001188904569</td>\n",
       "      <td>910010321446211</td>\n",
       "      <td>910010321446211</td>\n",
       "      <td>[544, 6, 82, 1, 401, 3, 0, 0, 3, 130, 0, 602, ...</td>\n",
       "    </tr>\n",
       "  </tbody>\n",
       "</table>\n",
       "<p>1827 rows × 4 columns</p>\n",
       "</div>"
      ],
      "text/plain": [
       "           ACCOUNT_ID ACCOUNT_ID (MainAccount) ACCOUNT_ID (Parent)  \\\n",
       "0     100000249062544          100000249062371     100000249062371   \n",
       "1     100001109138434          920010018478466     100001109135014   \n",
       "2     100000416312069          910010321446211     910010321446211   \n",
       "3     100000416655710          910010895254685     910010895254685   \n",
       "4     100000416479488          910011374025656     910011374025656   \n",
       "...               ...                      ...                 ...   \n",
       "1822  100000415397891          910010895254685     910010895254685   \n",
       "1823  100000415398800          910010321446211     910010321446211   \n",
       "1824  100001109135433          920010018478466     100001109127996   \n",
       "1825  100000416163326          910009252171563     910009252171563   \n",
       "1826  300001188904569          910010321446211     910010321446211   \n",
       "\n",
       "                                                      v  \n",
       "0     [789, 5, 1197, 5, 906, 4, 0, 0, 1, 1265, 0, 15...  \n",
       "1     [901, 4, 703, 4, 108, 4, 0, 0, 9, 539, 0, 912,...  \n",
       "2     [554, 6, 604, 1, 903, 4, 0, 0, 8, 1356, 0, 399...  \n",
       "3     [330, 6, 742, 9, 216, 3, 0, 0, 9, 1708, 0, 176...  \n",
       "4     [355, 6, 123, 6, 542, 4, 0, 0, 9, 1805, 0, 563...  \n",
       "...                                                 ...  \n",
       "1822  [87, 6, 1130, 9, 188, 4, 0, 0, 9, 1630, 0, 78,...  \n",
       "1823  [495, 6, 663, 1, 232, 4, 0, 0, 9, 1621, 0, 117...  \n",
       "1824  [897, 4, 577, 4, 770, 4, 0, 0, 3, 369, 0, 812,...  \n",
       "1825  [141, 6, 810, 7, 670, 3, 0, 0, 3, 1350, 0, 342...  \n",
       "1826  [544, 6, 82, 1, 401, 3, 0, 0, 3, 130, 0, 602, ...  \n",
       "\n",
       "[1827 rows x 4 columns]"
      ]
     },
     "execution_count": 82,
     "metadata": {},
     "output_type": "execute_result"
    }
   ],
   "source": [
    "df"
   ]
  },
  {
   "cell_type": "code",
   "execution_count": null,
   "metadata": {},
   "outputs": [],
   "source": []
  }
 ],
 "metadata": {
  "kernelspec": {
   "display_name": "Python 3",
   "language": "python",
   "name": "python3"
  },
  "language_info": {
   "codemirror_mode": {
    "name": "ipython",
    "version": 3
   },
   "file_extension": ".py",
   "mimetype": "text/x-python",
   "name": "python",
   "nbconvert_exporter": "python",
   "pygments_lexer": "ipython3",
   "version": "3.8.5"
  }
 },
 "nbformat": 4,
 "nbformat_minor": 4
}
