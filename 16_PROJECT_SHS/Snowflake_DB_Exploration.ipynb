{
 "cells": [
  {
   "cell_type": "code",
   "execution_count": 1,
   "metadata": {},
   "outputs": [
    {
     "name": "stderr",
     "output_type": "stream",
     "text": [
      "C:\\Users\\z003mxpm\\Anaconda3\\lib\\site-packages\\snowflake\\connector\\options.py:94: UserWarning: You have an incompatible version of 'pyarrow' installed (4.0.0), please install a version that adheres to: 'pyarrow<3.1.0,>=3.0.0; extra == \"pandas\"'\n",
      "  warn_incompatible_dep(\n"
     ]
    }
   ],
   "source": [
    "import numpy as np\n",
    "from numpy import random as rnd\n",
    "from matplotlib import pyplot as plt\n",
    "import warnings,datetime,time,math,itertools,os,sys\n",
    "\n",
    "import torch\n",
    "import torch.nn as nn\n",
    "from torch.nn import functional as F\n",
    "\n",
    "import tensorflow as tf\n",
    "\n",
    "from tensorflow.keras.models import Model,Sequential\n",
    "from tensorflow.keras.layers import Dense,LSTM,Activation,Dropout,BatchNormalization,Concatenate,Input\n",
    "from tensorflow.keras.regularizers import l2\n",
    "\n",
    "from sklearn.preprocessing import LabelEncoder,StandardScaler\n",
    "from sklearn.decomposition import PCA\n",
    "from sklearn.cluster import MeanShift\n",
    "from sklearn.model_selection import train_test_split\n",
    "\n",
    "import pandas as pd\n",
    "\n",
    "import snowflake.connector\n",
    "\n",
    "import seaborn as sns"
   ]
  },
  {
   "cell_type": "code",
   "execution_count": 2,
   "metadata": {},
   "outputs": [
    {
     "name": "stdout",
     "output_type": "stream",
     "text": [
      "Initiating login request with your identity provider. A browser window should have opened for you to complete the login. If you can't see it, check existing browser windows, or your OS settings. Press CTRL+C to abort and try again...\n"
     ]
    }
   ],
   "source": [
    "conn = snowflake.connector.connect(\n",
    "    user='jan-lucas.deinhard@siemens-healthineers.com',\n",
    "    account='shsitdl.west-europe.azure',\n",
    "    authenticator='externalbrowser'\n",
    ")"
   ]
  },
  {
   "cell_type": "code",
   "execution_count": 3,
   "metadata": {},
   "outputs": [],
   "source": [
    "info = pd.read_sql(\"SHOW COLUMNS\",con=conn)"
   ]
  },
  {
   "cell_type": "code",
   "execution_count": 4,
   "metadata": {},
   "outputs": [],
   "source": [
    "conn.close()"
   ]
  },
  {
   "cell_type": "code",
   "execution_count": 20,
   "metadata": {},
   "outputs": [
    {
     "name": "stderr",
     "output_type": "stream",
     "text": [
      "<ipython-input-20-b893168c8783>:3: SettingWithCopyWarning: \n",
      "A value is trying to be set on a copy of a slice from a DataFrame.\n",
      "Try using .loc[row_indexer,col_indexer] = value instead\n",
      "\n",
      "See the caveats in the documentation: https://pandas.pydata.org/pandas-docs/stable/user_guide/indexing.html#returning-a-view-versus-a-copy\n",
      "  df['table_name'] = df[['schema_name','table_name']].apply(lambda x: x[0]+'.'+x[1],axis=1)\n"
     ]
    }
   ],
   "source": [
    "df = info[info['database_name']=='CRMCL_TOPICAREA']\n",
    "\n",
    "df['table_name'] = df[['schema_name','table_name']].apply(lambda x: x[0]+'.'+x[1],axis=1)\n",
    "df = df[df['schema_name'].isin([\n",
    "    'AUXFILES',\n",
    "    'CNJ',\n",
    "    'CPQ',\n",
    "    'GCR',\n",
    "    'OSC',\n",
    "    'VARIAN'\n",
    "])].drop(columns=['data_type','null?','kind','expression','comment','database_name','autoincrement','default','schema_name'])"
   ]
  },
  {
   "cell_type": "code",
   "execution_count": 21,
   "metadata": {},
   "outputs": [
    {
     "data": {
      "text/html": [
       "<div>\n",
       "<style scoped>\n",
       "    .dataframe tbody tr th:only-of-type {\n",
       "        vertical-align: middle;\n",
       "    }\n",
       "\n",
       "    .dataframe tbody tr th {\n",
       "        vertical-align: top;\n",
       "    }\n",
       "\n",
       "    .dataframe thead th {\n",
       "        text-align: right;\n",
       "    }\n",
       "</style>\n",
       "<table border=\"1\" class=\"dataframe\">\n",
       "  <thead>\n",
       "    <tr style=\"text-align: right;\">\n",
       "      <th></th>\n",
       "      <th>table_name</th>\n",
       "      <th>column_name</th>\n",
       "    </tr>\n",
       "  </thead>\n",
       "  <tbody>\n",
       "    <tr>\n",
       "      <th>627244</th>\n",
       "      <td>AUXFILES.Account_Address_Geolocations</td>\n",
       "      <td>ACCOUNT_ID</td>\n",
       "    </tr>\n",
       "    <tr>\n",
       "      <th>627245</th>\n",
       "      <td>AUXFILES.Account_Address_Geolocations</td>\n",
       "      <td>Account Address</td>\n",
       "    </tr>\n",
       "    <tr>\n",
       "      <th>627246</th>\n",
       "      <td>AUXFILES.Account_Address_Geolocations</td>\n",
       "      <td>Account City</td>\n",
       "    </tr>\n",
       "    <tr>\n",
       "      <th>627247</th>\n",
       "      <td>AUXFILES.Account_Address_Geolocations</td>\n",
       "      <td>Account.Address Country</td>\n",
       "    </tr>\n",
       "    <tr>\n",
       "      <th>627248</th>\n",
       "      <td>AUXFILES.Account_Address_Geolocations</td>\n",
       "      <td>Account.Address accuracy</td>\n",
       "    </tr>\n",
       "    <tr>\n",
       "      <th>...</th>\n",
       "      <td>...</td>\n",
       "      <td>...</td>\n",
       "    </tr>\n",
       "    <tr>\n",
       "      <th>635303</th>\n",
       "      <td>VARIAN.VarianTerritories</td>\n",
       "      <td>Sub-Region</td>\n",
       "    </tr>\n",
       "    <tr>\n",
       "      <th>635304</th>\n",
       "      <td>VARIAN.VarianTerritories</td>\n",
       "      <td>Super-Territory</td>\n",
       "    </tr>\n",
       "    <tr>\n",
       "      <th>635305</th>\n",
       "      <td>VARIAN.VarianTerritories</td>\n",
       "      <td>TERRITORY_ID</td>\n",
       "    </tr>\n",
       "    <tr>\n",
       "      <th>635306</th>\n",
       "      <td>VARIAN.VarianTerritories</td>\n",
       "      <td>Territory</td>\n",
       "    </tr>\n",
       "    <tr>\n",
       "      <th>635307</th>\n",
       "      <td>VARIAN.VarianTerritories</td>\n",
       "      <td>Territory Code</td>\n",
       "    </tr>\n",
       "  </tbody>\n",
       "</table>\n",
       "<p>4233 rows × 2 columns</p>\n",
       "</div>"
      ],
      "text/plain": [
       "                                   table_name               column_name\n",
       "627244  AUXFILES.Account_Address_Geolocations                ACCOUNT_ID\n",
       "627245  AUXFILES.Account_Address_Geolocations           Account Address\n",
       "627246  AUXFILES.Account_Address_Geolocations              Account City\n",
       "627247  AUXFILES.Account_Address_Geolocations   Account.Address Country\n",
       "627248  AUXFILES.Account_Address_Geolocations  Account.Address accuracy\n",
       "...                                       ...                       ...\n",
       "635303               VARIAN.VarianTerritories                Sub-Region\n",
       "635304               VARIAN.VarianTerritories           Super-Territory\n",
       "635305               VARIAN.VarianTerritories              TERRITORY_ID\n",
       "635306               VARIAN.VarianTerritories                 Territory\n",
       "635307               VARIAN.VarianTerritories            Territory Code\n",
       "\n",
       "[4233 rows x 2 columns]"
      ]
     },
     "execution_count": 21,
     "metadata": {},
     "output_type": "execute_result"
    }
   ],
   "source": [
    "df"
   ]
  },
  {
   "cell_type": "code",
   "execution_count": 22,
   "metadata": {},
   "outputs": [],
   "source": [
    "df0 = df.groupby(['column_name'],as_index=False).agg({'table_name':'||'.join})"
   ]
  },
  {
   "cell_type": "code",
   "execution_count": 23,
   "metadata": {},
   "outputs": [],
   "source": [
    "df0['num_tables_with_key'] = df0['table_name'].apply(lambda x: len(str(x).split('||')))"
   ]
  },
  {
   "cell_type": "code",
   "execution_count": 24,
   "metadata": {},
   "outputs": [],
   "source": [
    "df0 = df0.sort_values(by='num_tables_with_key',ascending=False)"
   ]
  },
  {
   "cell_type": "code",
   "execution_count": 25,
   "metadata": {},
   "outputs": [
    {
     "data": {
      "text/html": [
       "<div>\n",
       "<style scoped>\n",
       "    .dataframe tbody tr th:only-of-type {\n",
       "        vertical-align: middle;\n",
       "    }\n",
       "\n",
       "    .dataframe tbody tr th {\n",
       "        vertical-align: top;\n",
       "    }\n",
       "\n",
       "    .dataframe thead th {\n",
       "        text-align: right;\n",
       "    }\n",
       "</style>\n",
       "<table border=\"1\" class=\"dataframe\">\n",
       "  <thead>\n",
       "    <tr style=\"text-align: right;\">\n",
       "      <th></th>\n",
       "      <th>column_name</th>\n",
       "      <th>table_name</th>\n",
       "      <th>num_tables_with_key</th>\n",
       "    </tr>\n",
       "  </thead>\n",
       "  <tbody>\n",
       "    <tr>\n",
       "      <th>1</th>\n",
       "      <td>ACCOUNT_ID</td>\n",
       "      <td>AUXFILES.Account_Address_Geolocations||AUXFILE...</td>\n",
       "      <td>54</td>\n",
       "    </tr>\n",
       "    <tr>\n",
       "      <th>1784</th>\n",
       "      <td>SECURITY_ID</td>\n",
       "      <td>CNJ.CNJ_MarketShare||CPQ.ACTIVE_QUOTES_HEADER|...</td>\n",
       "      <td>45</td>\n",
       "    </tr>\n",
       "    <tr>\n",
       "      <th>1672</th>\n",
       "      <td>Quote Number and Revision</td>\n",
       "      <td>CPQ.ACTIVE_QUOTES_HEADER||CPQ.CS_QUOTEITEM_COS...</td>\n",
       "      <td>22</td>\n",
       "    </tr>\n",
       "    <tr>\n",
       "      <th>1002</th>\n",
       "      <td>Group Currency</td>\n",
       "      <td>CPQ.CS_QUOTEITEM_COSTS||CPQ.CS_Quote_Details||...</td>\n",
       "      <td>20</td>\n",
       "    </tr>\n",
       "    <tr>\n",
       "      <th>354</th>\n",
       "      <td>Business Line</td>\n",
       "      <td>AUXFILES.Manual Adjustments||CPQ.IN_VITRO_Addi...</td>\n",
       "      <td>18</td>\n",
       "    </tr>\n",
       "    <tr>\n",
       "      <th>...</th>\n",
       "      <td>...</td>\n",
       "      <td>...</td>\n",
       "      <td>...</td>\n",
       "    </tr>\n",
       "    <tr>\n",
       "      <th>509</th>\n",
       "      <td>Consumable Name</td>\n",
       "      <td>CPQ.IN_VITRO_Consumables_per_Enduser||CPQ.IN_V...</td>\n",
       "      <td>2</td>\n",
       "    </tr>\n",
       "    <tr>\n",
       "      <th>241</th>\n",
       "      <td>Asset Age (days)</td>\n",
       "      <td>OSC.Assets||VARIAN.VarianAssets</td>\n",
       "      <td>2</td>\n",
       "    </tr>\n",
       "    <tr>\n",
       "      <th>238</th>\n",
       "      <td>Assay Name</td>\n",
       "      <td>AUXFILES.IN_VITRO_AssayNameMap_by_PartNumber||...</td>\n",
       "      <td>2</td>\n",
       "    </tr>\n",
       "    <tr>\n",
       "      <th>252</th>\n",
       "      <td>Asset Install Year</td>\n",
       "      <td>OSC.Assets||VARIAN.VarianAssets</td>\n",
       "      <td>2</td>\n",
       "    </tr>\n",
       "    <tr>\n",
       "      <th>253</th>\n",
       "      <td>Asset Installation Date</td>\n",
       "      <td>OSC.Assets||VARIAN.VarianAssets</td>\n",
       "      <td>2</td>\n",
       "    </tr>\n",
       "  </tbody>\n",
       "</table>\n",
       "<p>672 rows × 3 columns</p>\n",
       "</div>"
      ],
      "text/plain": [
       "                    column_name  \\\n",
       "1                    ACCOUNT_ID   \n",
       "1784                SECURITY_ID   \n",
       "1672  Quote Number and Revision   \n",
       "1002             Group Currency   \n",
       "354               Business Line   \n",
       "...                         ...   \n",
       "509             Consumable Name   \n",
       "241            Asset Age (days)   \n",
       "238                  Assay Name   \n",
       "252          Asset Install Year   \n",
       "253     Asset Installation Date   \n",
       "\n",
       "                                             table_name  num_tables_with_key  \n",
       "1     AUXFILES.Account_Address_Geolocations||AUXFILE...                   54  \n",
       "1784  CNJ.CNJ_MarketShare||CPQ.ACTIVE_QUOTES_HEADER|...                   45  \n",
       "1672  CPQ.ACTIVE_QUOTES_HEADER||CPQ.CS_QUOTEITEM_COS...                   22  \n",
       "1002  CPQ.CS_QUOTEITEM_COSTS||CPQ.CS_Quote_Details||...                   20  \n",
       "354   AUXFILES.Manual Adjustments||CPQ.IN_VITRO_Addi...                   18  \n",
       "...                                                 ...                  ...  \n",
       "509   CPQ.IN_VITRO_Consumables_per_Enduser||CPQ.IN_V...                    2  \n",
       "241                     OSC.Assets||VARIAN.VarianAssets                    2  \n",
       "238   AUXFILES.IN_VITRO_AssayNameMap_by_PartNumber||...                    2  \n",
       "252                     OSC.Assets||VARIAN.VarianAssets                    2  \n",
       "253                     OSC.Assets||VARIAN.VarianAssets                    2  \n",
       "\n",
       "[672 rows x 3 columns]"
      ]
     },
     "execution_count": 25,
     "metadata": {},
     "output_type": "execute_result"
    }
   ],
   "source": [
    "df0[df0['num_tables_with_key']>1]"
   ]
  },
  {
   "cell_type": "code",
   "execution_count": 31,
   "metadata": {},
   "outputs": [],
   "source": [
    "df1 = df[df['column_name'].isin(df0[df0['column_name'].str.contains('_ID')]['column_name'].unique())]"
   ]
  },
  {
   "cell_type": "code",
   "execution_count": 112,
   "metadata": {},
   "outputs": [],
   "source": [
    "rf = pd.DataFrame()\n",
    "\n",
    "for ccol in df0[df0['column_name'].str.contains('_ID')]['column_name'].unique():\n",
    "    connected_cols = df1[df1['table_name'].isin(df1[df1['column_name']==ccol]['table_name'].unique())]['column_name'].unique()\n",
    "    ff = pd.DataFrame(connected_cols).rename(columns={0:'From'})\n",
    "    ff['To'] = ccol\n",
    "    rf = pd.concat([rf,ff])"
   ]
  },
  {
   "cell_type": "code",
   "execution_count": 113,
   "metadata": {},
   "outputs": [],
   "source": [
    "rf['FromNEW'] = rf.apply(lambda x: sorted([x[0],x[1]])[0],axis=1)\n",
    "rf['ToNEW'] = rf.apply(lambda x: sorted([x[0],x[1]])[1],axis=1)"
   ]
  },
  {
   "cell_type": "code",
   "execution_count": 114,
   "metadata": {},
   "outputs": [],
   "source": [
    "rf = rf.drop(columns=['From','To']).rename(columns={'FromNEW':'From','ToNEW':'To'}).drop_duplicates()"
   ]
  },
  {
   "cell_type": "code",
   "execution_count": 115,
   "metadata": {},
   "outputs": [],
   "source": [
    "rf = rf[~rf.apply(lambda x: x[0]==x[1],axis=1)]"
   ]
  },
  {
   "cell_type": "code",
   "execution_count": 116,
   "metadata": {},
   "outputs": [
    {
     "data": {
      "text/html": [
       "<div>\n",
       "<style scoped>\n",
       "    .dataframe tbody tr th:only-of-type {\n",
       "        vertical-align: middle;\n",
       "    }\n",
       "\n",
       "    .dataframe tbody tr th {\n",
       "        vertical-align: top;\n",
       "    }\n",
       "\n",
       "    .dataframe thead th {\n",
       "        text-align: right;\n",
       "    }\n",
       "</style>\n",
       "<table border=\"1\" class=\"dataframe\">\n",
       "  <thead>\n",
       "    <tr style=\"text-align: right;\">\n",
       "      <th></th>\n",
       "      <th>From</th>\n",
       "      <th>To</th>\n",
       "    </tr>\n",
       "  </thead>\n",
       "  <tbody>\n",
       "    <tr>\n",
       "      <th>1</th>\n",
       "      <td>ACCOUNT_ID</td>\n",
       "      <td>VAR_ACCOUNT_ID</td>\n",
       "    </tr>\n",
       "    <tr>\n",
       "      <th>2</th>\n",
       "      <td>ACCOUNT_ID</td>\n",
       "      <td>OPPORTUNITY_ID</td>\n",
       "    </tr>\n",
       "    <tr>\n",
       "      <th>3</th>\n",
       "      <td>ACCOUNT_ID</td>\n",
       "      <td>PROJECT_ID</td>\n",
       "    </tr>\n",
       "    <tr>\n",
       "      <th>4</th>\n",
       "      <td>ACCOUNT_ID</td>\n",
       "      <td>SECURITY_ID</td>\n",
       "    </tr>\n",
       "    <tr>\n",
       "      <th>5</th>\n",
       "      <td>ACCOUNT_ID</td>\n",
       "      <td>OLI_ID</td>\n",
       "    </tr>\n",
       "    <tr>\n",
       "      <th>...</th>\n",
       "      <td>...</td>\n",
       "      <td>...</td>\n",
       "    </tr>\n",
       "    <tr>\n",
       "      <th>9</th>\n",
       "      <td>EMPLOYEE_ID (Account Primary Sales Rep POC)</td>\n",
       "      <td>EMPLOYEE_ID (Account Secondary Sales Rep In-Vivo)</td>\n",
       "    </tr>\n",
       "    <tr>\n",
       "      <th>8</th>\n",
       "      <td>EMPLOYEE_ID (Account Primary Sales Rep Ultraso...</td>\n",
       "      <td>EMPLOYEE_ID (Account Secondary Sales Rep In-Vi...</td>\n",
       "    </tr>\n",
       "    <tr>\n",
       "      <th>9</th>\n",
       "      <td>EMPLOYEE_ID (Account Primary Sales Rep Ultraso...</td>\n",
       "      <td>EMPLOYEE_ID (Account Secondary Sales Rep In-Vivo)</td>\n",
       "    </tr>\n",
       "    <tr>\n",
       "      <th>9</th>\n",
       "      <td>EMPLOYEE_ID (Account Secondary Sales Rep In-Vi...</td>\n",
       "      <td>EMPLOYEE_ID (Account Secondary Sales Rep In-Vivo)</td>\n",
       "    </tr>\n",
       "    <tr>\n",
       "      <th>1</th>\n",
       "      <td>EMPLOYEE_ID (Manager)</td>\n",
       "      <td>EMPLOYEE_ID (Territory Assignment)</td>\n",
       "    </tr>\n",
       "  </tbody>\n",
       "</table>\n",
       "<p>421 rows × 2 columns</p>\n",
       "</div>"
      ],
      "text/plain": [
       "                                                 From  \\\n",
       "1                                          ACCOUNT_ID   \n",
       "2                                          ACCOUNT_ID   \n",
       "3                                          ACCOUNT_ID   \n",
       "4                                          ACCOUNT_ID   \n",
       "5                                          ACCOUNT_ID   \n",
       "..                                                ...   \n",
       "9         EMPLOYEE_ID (Account Primary Sales Rep POC)   \n",
       "8   EMPLOYEE_ID (Account Primary Sales Rep Ultraso...   \n",
       "9   EMPLOYEE_ID (Account Primary Sales Rep Ultraso...   \n",
       "9   EMPLOYEE_ID (Account Secondary Sales Rep In-Vi...   \n",
       "1                               EMPLOYEE_ID (Manager)   \n",
       "\n",
       "                                                   To  \n",
       "1                                      VAR_ACCOUNT_ID  \n",
       "2                                      OPPORTUNITY_ID  \n",
       "3                                          PROJECT_ID  \n",
       "4                                         SECURITY_ID  \n",
       "5                                              OLI_ID  \n",
       "..                                                ...  \n",
       "9   EMPLOYEE_ID (Account Secondary Sales Rep In-Vivo)  \n",
       "8   EMPLOYEE_ID (Account Secondary Sales Rep In-Vi...  \n",
       "9   EMPLOYEE_ID (Account Secondary Sales Rep In-Vivo)  \n",
       "9   EMPLOYEE_ID (Account Secondary Sales Rep In-Vivo)  \n",
       "1                  EMPLOYEE_ID (Territory Assignment)  \n",
       "\n",
       "[421 rows x 2 columns]"
      ]
     },
     "execution_count": 116,
     "metadata": {},
     "output_type": "execute_result"
    }
   ],
   "source": [
    "rf"
   ]
  },
  {
   "cell_type": "code",
   "execution_count": 117,
   "metadata": {},
   "outputs": [],
   "source": [
    "import networkx as nx"
   ]
  },
  {
   "cell_type": "code",
   "execution_count": 118,
   "metadata": {},
   "outputs": [],
   "source": [
    "G = nx.Graph()"
   ]
  },
  {
   "cell_type": "code",
   "execution_count": 122,
   "metadata": {},
   "outputs": [],
   "source": [
    "G.add_edges_from(rf[['From','To']].apply(lambda x: (x[0],x[1]),axis=1).tolist())"
   ]
  },
  {
   "cell_type": "code",
   "execution_count": null,
   "metadata": {},
   "outputs": [],
   "source": [
    "G.degree"
   ]
  }
 ],
 "metadata": {
  "kernelspec": {
   "display_name": "Python 3",
   "language": "python",
   "name": "python3"
  },
  "language_info": {
   "codemirror_mode": {
    "name": "ipython",
    "version": 3
   },
   "file_extension": ".py",
   "mimetype": "text/x-python",
   "name": "python",
   "nbconvert_exporter": "python",
   "pygments_lexer": "ipython3",
   "version": "3.8.5"
  }
 },
 "nbformat": 4,
 "nbformat_minor": 4
}
