{
  "nbformat": 4,
  "nbformat_minor": 0,
  "metadata": {
    "colab": {
      "name": "Metadata Analysis.ipynb",
      "provenance": [],
      "authorship_tag": "ABX9TyNiDnPrDz3V1fE+uZBO85kp",
      "include_colab_link": true
    },
    "kernelspec": {
      "name": "python3",
      "display_name": "Python 3"
    },
    "language_info": {
      "name": "python"
    }
  },
  "cells": [
    {
      "cell_type": "markdown",
      "metadata": {
        "id": "view-in-github",
        "colab_type": "text"
      },
      "source": [
        "<a href=\"https://colab.research.google.com/github/janlucasdeinhard/pyfiles/blob/master/16_PROJECT_SHS/Metadata_Analysis.ipynb\" target=\"_parent\"><img src=\"https://colab.research.google.com/assets/colab-badge.svg\" alt=\"Open In Colab\"/></a>"
      ]
    },
    {
      "cell_type": "code",
      "source": [
        "from google.colab import drive,files\n",
        "drive.mount('/content/mount/')"
      ],
      "metadata": {
        "id": "6-oyJdrVfvzH",
        "colab": {
          "base_uri": "https://localhost:8080/"
        },
        "outputId": "86e4651c-678b-4bea-8a24-415b7eda3e58"
      },
      "execution_count": 7,
      "outputs": [
        {
          "output_type": "stream",
          "name": "stdout",
          "text": [
            "Drive already mounted at /content/mount/; to attempt to forcibly remount, call drive.mount(\"/content/mount/\", force_remount=True).\n"
          ]
        }
      ]
    },
    {
      "cell_type": "code",
      "execution_count": 1,
      "metadata": {
        "id": "3gorp2ufexoc"
      },
      "outputs": [],
      "source": [
        "import numpy as np\n",
        "from numpy import random as rnd\n",
        "from matplotlib import pyplot as plt\n",
        "import os,sys,warnings,datetime,time,itertools,math\n",
        "\n",
        "import pandas as pd"
      ]
    },
    {
      "cell_type": "code",
      "source": [
        "!cd /content/mount/MyDrive/pyfiles/16_PROJECT_SHS"
      ],
      "metadata": {
        "id": "AhjdTuRItQi-"
      },
      "execution_count": 17,
      "outputs": []
    },
    {
      "cell_type": "code",
      "source": [
        "!ls ."
      ],
      "metadata": {
        "colab": {
          "base_uri": "https://localhost:8080/"
        },
        "id": "bLhJJu9NtRtQ",
        "outputId": "7f404d22-3ccd-4431-c513-b97dac9a691f"
      },
      "execution_count": 18,
      "outputs": [
        {
          "output_type": "stream",
          "name": "stdout",
          "text": [
            "mount  sample_data\n"
          ]
        }
      ]
    },
    {
      "cell_type": "code",
      "source": [
        ""
      ],
      "metadata": {
        "id": "2sUqDchVtt8t"
      },
      "execution_count": null,
      "outputs": []
    }
  ]
}