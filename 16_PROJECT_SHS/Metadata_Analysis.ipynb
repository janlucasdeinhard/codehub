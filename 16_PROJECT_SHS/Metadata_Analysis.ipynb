{
  "nbformat": 4,
  "nbformat_minor": 0,
  "metadata": {
    "colab": {
      "name": "Metadata_Analysis.ipynb",
      "provenance": [],
      "collapsed_sections": [],
      "include_colab_link": true
    },
    "kernelspec": {
      "name": "python3",
      "display_name": "Python 3"
    },
    "language_info": {
      "name": "python"
    }
  },
  "cells": [
    {
      "cell_type": "markdown",
      "metadata": {
        "id": "view-in-github",
        "colab_type": "text"
      },
      "source": [
        "<a href=\"https://colab.research.google.com/github/janlucasdeinhard/pyfiles/blob/master/16_PROJECT_SHS/Metadata_Analysis.ipynb\" target=\"_parent\"><img src=\"https://colab.research.google.com/assets/colab-badge.svg\" alt=\"Open In Colab\"/></a>"
      ]
    },
    {
      "cell_type": "code",
      "source": [
        "from google.colab import drive,files\n",
        "drive.mount('/content/mount/')"
      ],
      "metadata": {
        "id": "6-oyJdrVfvzH",
        "colab": {
          "base_uri": "https://localhost:8080/"
        },
        "outputId": "e599a314-fefe-4647-f91e-12559c37c6c2"
      },
      "execution_count": 1,
      "outputs": [
        {
          "output_type": "stream",
          "name": "stdout",
          "text": [
            "Mounted at /content/mount/\n"
          ]
        }
      ]
    },
    {
      "cell_type": "code",
      "execution_count": 2,
      "metadata": {
        "id": "3gorp2ufexoc"
      },
      "outputs": [],
      "source": [
        "import numpy as np\n",
        "from numpy import random as rnd\n",
        "from matplotlib import pyplot as plt\n",
        "import os,sys,warnings,datetime,time,itertools,math\n",
        "\n",
        "import pandas as pd"
      ]
    },
    {
      "cell_type": "code",
      "source": [
        "df = pd.read_excel('/content/mount/MyDrive/00_TEMP_DATA/metadata.xlsx')"
      ],
      "metadata": {
        "id": "2sUqDchVtt8t",
        "colab": {
          "base_uri": "https://localhost:8080/"
        },
        "outputId": "635a2e7b-9638-4445-ab09-1cffdf36cce9"
      },
      "execution_count": 3,
      "outputs": [
        {
          "output_type": "stream",
          "name": "stderr",
          "text": [
            "/usr/local/lib/python3.7/dist-packages/openpyxl/styles/stylesheet.py:226: UserWarning: Workbook contains no default style, apply openpyxl's default\n",
            "  warn(\"Workbook contains no default style, apply openpyxl's default\")\n"
          ]
        }
      ]
    },
    {
      "cell_type": "code",
      "source": [
        "df['FULLNAME'] = df[['TABLE_CATALOG','TABLE_SCHEMA','TABLE_NAME']].agg('.'.join,axis=1)"
      ],
      "metadata": {
        "id": "-eP4-FDWvKrB"
      },
      "execution_count": 4,
      "outputs": []
    },
    {
      "cell_type": "code",
      "source": [
        "daterange_thresholds = df[~df['VALIDFROM_TIMESTAMP'].isna()].groupby(['FULLNAME'],as_index=False)['VALIDFROM_TIMESTAMP'].min().rename(\n",
        "      columns={'VALIDFROM_TIMESTAMP':'TRACKINGTIME_START'}\n",
        ").merge(\n",
        "    df[~df['VALIDTO_TIMESTAMP'].isna()].groupby(['FULLNAME'],as_index=False)['VALIDTO_TIMESTAMP'].max().rename(\n",
        "      columns={'VALIDTO_TIMESTAMP':'TRACKINGTIME_MAX'}\n",
        "  ),\n",
        "  on='FULLNAME',how='left'\n",
        ")"
      ],
      "metadata": {
        "id": "wiTsDTd6ZanL"
      },
      "execution_count": 5,
      "outputs": []
    },
    {
      "cell_type": "code",
      "source": [
        "c_fullName = 'CRMCL_TOPICAREA.CPQ.ACTIVE_QUOTES_HEADER'"
      ],
      "metadata": {
        "id": "OaeqPi-LalR1"
      },
      "execution_count": 15,
      "outputs": []
    },
    {
      "cell_type": "code",
      "source": [
        "df0 = df[df['FULLNAME']==c_fullName]\n",
        "\n",
        "df0[['VALIDFROM_TIMESTAMP','VALIDTO_TIMESTAMP']] = df0[['VALIDFROM_TIMESTAMP','VALIDTO_TIMESTAMP']].apply(pd.to_datetime)\n",
        "\n",
        "df0['VALIDFROM_TIMESTAMP'] = df0['VALIDFROM_TIMESTAMP'].dt.date\n",
        "df0['VALIDTO_TIMESTAMP'] = df0['VALIDTO_TIMESTAMP'].dt.date"
      ],
      "metadata": {
        "colab": {
          "base_uri": "https://localhost:8080/"
        },
        "id": "MPrqz9NF2uTS",
        "outputId": "96e75f0e-bf7b-4c0c-e9cc-2b4222907f24"
      },
      "execution_count": 16,
      "outputs": [
        {
          "output_type": "stream",
          "name": "stderr",
          "text": [
            "/usr/local/lib/python3.7/dist-packages/pandas/core/frame.py:3641: SettingWithCopyWarning: \n",
            "A value is trying to be set on a copy of a slice from a DataFrame.\n",
            "Try using .loc[row_indexer,col_indexer] = value instead\n",
            "\n",
            "See the caveats in the documentation: https://pandas.pydata.org/pandas-docs/stable/user_guide/indexing.html#returning-a-view-versus-a-copy\n",
            "  self[k1] = value[k2]\n",
            "/usr/local/lib/python3.7/dist-packages/ipykernel_launcher.py:5: SettingWithCopyWarning: \n",
            "A value is trying to be set on a copy of a slice from a DataFrame.\n",
            "Try using .loc[row_indexer,col_indexer] = value instead\n",
            "\n",
            "See the caveats in the documentation: https://pandas.pydata.org/pandas-docs/stable/user_guide/indexing.html#returning-a-view-versus-a-copy\n",
            "  \"\"\"\n",
            "/usr/local/lib/python3.7/dist-packages/ipykernel_launcher.py:6: SettingWithCopyWarning: \n",
            "A value is trying to be set on a copy of a slice from a DataFrame.\n",
            "Try using .loc[row_indexer,col_indexer] = value instead\n",
            "\n",
            "See the caveats in the documentation: https://pandas.pydata.org/pandas-docs/stable/user_guide/indexing.html#returning-a-view-versus-a-copy\n",
            "  \n"
          ]
        }
      ]
    },
    {
      "cell_type": "code",
      "source": [
        "tf = pd.DataFrame()\n",
        "\n",
        "tf['DATE'] = pd.date_range(\n",
        "    start=pd.to_datetime(daterange_thresholds[daterange_thresholds['FULLNAME']==c_fullName]['TRACKINGTIME_START'].values[0]),\n",
        "    end=pd.to_datetime(daterange_thresholds[daterange_thresholds['FULLNAME']==c_fullName]['TRACKINGTIME_MAX'].values[0])\n",
        ")\n",
        "\n",
        "tf['DATE'] = tf['DATE'].dt.date\n",
        "\n",
        "tf = tf.merge(\n",
        "    df0[['VALIDFROM_TIMESTAMP','ROWCOUNT','COLUMNCOUNT','FULLNAME']],\n",
        "    left_on='DATE',right_on='VALIDFROM_TIMESTAMP',how='left'\n",
        ").drop(columns=['VALIDFROM_TIMESTAMP']).fillna(method='ffill')"
      ],
      "metadata": {
        "id": "M3jDxVxq37zs"
      },
      "execution_count": 17,
      "outputs": []
    },
    {
      "cell_type": "code",
      "source": [
        "tf.set_index('DATE')['ROWCOUNT'].plot(rot=50)"
      ],
      "metadata": {
        "colab": {
          "base_uri": "https://localhost:8080/",
          "height": 337
        },
        "id": "ThsJulYSUis7",
        "outputId": "c78998fd-907e-438e-a7fd-04f80999ed65"
      },
      "execution_count": 18,
      "outputs": [
        {
          "output_type": "execute_result",
          "data": {
            "text/plain": [
              "<matplotlib.axes._subplots.AxesSubplot at 0x7f260fe789d0>"
            ]
          },
          "metadata": {},
          "execution_count": 18
        },
        {
          "output_type": "display_data",
          "data": {
            "text/plain": [
              "<Figure size 432x288 with 1 Axes>"
            ],
            "image/png": "[encoded data removed]"
          },
          "metadata": {
            "needs_background": "light"
          }
        }
      ]
    },
    {
      "cell_type": "code",
      "source": [
        "df0"
      ],
      "metadata": {
        "id": "oxAXXW7OYnnq",
        "colab": {
          "base_uri": "https://localhost:8080/",
          "height": 427
        },
        "outputId": "4b1840d4-defd-428c-e9bb-856614c70142"
      },
      "execution_count": 19,
      "outputs": [
        {
          "output_type": "execute_result",
          "data": {
            "text/plain": [
              "        TABLE_CATALOG TABLE_SCHEMA            TABLE_NAME  COLUMNCOUNT  \\\n",
              "771   CRMCL_TOPICAREA          CPQ  ACTIVE_QUOTES_HEADER         90.0   \n",
              "1128  CRMCL_TOPICAREA          CPQ  ACTIVE_QUOTES_HEADER         90.0   \n",
              "1469  CRMCL_TOPICAREA          CPQ  ACTIVE_QUOTES_HEADER         90.0   \n",
              "1741  CRMCL_TOPICAREA          CPQ  ACTIVE_QUOTES_HEADER         90.0   \n",
              "2026  CRMCL_TOPICAREA          CPQ  ACTIVE_QUOTES_HEADER         90.0   \n",
              "2375  CRMCL_TOPICAREA          CPQ  ACTIVE_QUOTES_HEADER         90.0   \n",
              "2740  CRMCL_TOPICAREA          CPQ  ACTIVE_QUOTES_HEADER         90.0   \n",
              "3101  CRMCL_TOPICAREA          CPQ  ACTIVE_QUOTES_HEADER         90.0   \n",
              "3454  CRMCL_TOPICAREA          CPQ  ACTIVE_QUOTES_HEADER         90.0   \n",
              "3880  CRMCL_TOPICAREA          CPQ  ACTIVE_QUOTES_HEADER         90.0   \n",
              "\n",
              "      ROWCOUNT VALIDFROM_TIMESTAMP VALIDTO_TIMESTAMP    Status  \\\n",
              "771   551164.0          2022-03-15        2022-03-16  Inactive   \n",
              "1128  551569.0          2022-03-16        2022-03-16    Active   \n",
              "1469  550731.0          2022-03-14        2022-03-15  Inactive   \n",
              "1741  550673.0          2022-03-13        2022-03-14  Inactive   \n",
              "2026  550427.0          2022-03-12        2022-03-13  Inactive   \n",
              "2375  549925.0          2022-03-11        2022-03-12  Inactive   \n",
              "2740  549400.0          2022-03-10        2022-03-11  Inactive   \n",
              "3101  548908.0          2022-03-09        2022-03-10  Inactive   \n",
              "3454  548077.0          2022-03-07        2022-03-09  Inactive   \n",
              "3880  545305.0          2022-02-27        2022-03-07  Inactive   \n",
              "\n",
              "                                      FULLNAME  \n",
              "771   CRMCL_TOPICAREA.CPQ.ACTIVE_QUOTES_HEADER  \n",
              "1128  CRMCL_TOPICAREA.CPQ.ACTIVE_QUOTES_HEADER  \n",
              "1469  CRMCL_TOPICAREA.CPQ.ACTIVE_QUOTES_HEADER  \n",
              "1741  CRMCL_TOPICAREA.CPQ.ACTIVE_QUOTES_HEADER  \n",
              "2026  CRMCL_TOPICAREA.CPQ.ACTIVE_QUOTES_HEADER  \n",
              "2375  CRMCL_TOPICAREA.CPQ.ACTIVE_QUOTES_HEADER  \n",
              "2740  CRMCL_TOPICAREA.CPQ.ACTIVE_QUOTES_HEADER  \n",
              "3101  CRMCL_TOPICAREA.CPQ.ACTIVE_QUOTES_HEADER  \n",
              "3454  CRMCL_TOPICAREA.CPQ.ACTIVE_QUOTES_HEADER  \n",
              "3880  CRMCL_TOPICAREA.CPQ.ACTIVE_QUOTES_HEADER  "
            ],
            "text/html": [
              "\n",
              "  <div id=\"df-74c54b8d-768a-402e-a518-a0cfab17b41f\">\n",
              "    <div class=\"colab-df-container\">\n",
              "      <div>\n",
              "<style scoped>\n",
              "    .dataframe tbody tr th:only-of-type {\n",
              "        vertical-align: middle;\n",
              "    }\n",
              "\n",
              "    .dataframe tbody tr th {\n",
              "        vertical-align: top;\n",
              "    }\n",
              "\n",
              "    .dataframe thead th {\n",
              "        text-align: right;\n",
              "    }\n",
              "</style>\n",
              "<table border=\"1\" class=\"dataframe\">\n",
              "  <thead>\n",
              "    <tr style=\"text-align: right;\">\n",
              "      <th></th>\n",
              "      <th>TABLE_CATALOG</th>\n",
              "      <th>TABLE_SCHEMA</th>\n",
              "      <th>TABLE_NAME</th>\n",
              "      <th>COLUMNCOUNT</th>\n",
              "      <th>ROWCOUNT</th>\n",
              "      <th>VALIDFROM_TIMESTAMP</th>\n",
              "      <th>VALIDTO_TIMESTAMP</th>\n",
              "      <th>Status</th>\n",
              "      <th>FULLNAME</th>\n",
              "    </tr>\n",
              "  </thead>\n",
              "  <tbody>\n",
              "    <tr>\n",
              "      <th>771</th>\n",
              "      <td>CRMCL_TOPICAREA</td>\n",
              "      <td>CPQ</td>\n",
              "      <td>ACTIVE_QUOTES_HEADER</td>\n",
              "      <td>90.0</td>\n",
              "      <td>551164.0</td>\n",
              "      <td>2022-03-15</td>\n",
              "      <td>2022-03-16</td>\n",
              "      <td>Inactive</td>\n",
              "      <td>CRMCL_TOPICAREA.CPQ.ACTIVE_QUOTES_HEADER</td>\n",
              "    </tr>\n",
              "    <tr>\n",
              "      <th>1128</th>\n",
              "      <td>CRMCL_TOPICAREA</td>\n",
              "      <td>CPQ</td>\n",
              "      <td>ACTIVE_QUOTES_HEADER</td>\n",
              "      <td>90.0</td>\n",
              "      <td>551569.0</td>\n",
              "      <td>2022-03-16</td>\n",
              "      <td>2022-03-16</td>\n",
              "      <td>Active</td>\n",
              "      <td>CRMCL_TOPICAREA.CPQ.ACTIVE_QUOTES_HEADER</td>\n",
              "    </tr>\n",
              "    <tr>\n",
              "      <th>1469</th>\n",
              "      <td>CRMCL_TOPICAREA</td>\n",
              "      <td>CPQ</td>\n",
              "      <td>ACTIVE_QUOTES_HEADER</td>\n",
              "      <td>90.0</td>\n",
              "      <td>550731.0</td>\n",
              "      <td>2022-03-14</td>\n",
              "      <td>2022-03-15</td>\n",
              "      <td>Inactive</td>\n",
              "      <td>CRMCL_TOPICAREA.CPQ.ACTIVE_QUOTES_HEADER</td>\n",
              "    </tr>\n",
              "    <tr>\n",
              "      <th>1741</th>\n",
              "      <td>CRMCL_TOPICAREA</td>\n",
              "      <td>CPQ</td>\n",
              "      <td>ACTIVE_QUOTES_HEADER</td>\n",
              "      <td>90.0</td>\n",
              "      <td>550673.0</td>\n",
              "      <td>2022-03-13</td>\n",
              "      <td>2022-03-14</td>\n",
              "      <td>Inactive</td>\n",
              "      <td>CRMCL_TOPICAREA.CPQ.ACTIVE_QUOTES_HEADER</td>\n",
              "    </tr>\n",
              "    <tr>\n",
              "      <th>2026</th>\n",
              "      <td>CRMCL_TOPICAREA</td>\n",
              "      <td>CPQ</td>\n",
              "      <td>ACTIVE_QUOTES_HEADER</td>\n",
              "      <td>90.0</td>\n",
              "      <td>550427.0</td>\n",
              "      <td>2022-03-12</td>\n",
              "      <td>2022-03-13</td>\n",
              "      <td>Inactive</td>\n",
              "      <td>CRMCL_TOPICAREA.CPQ.ACTIVE_QUOTES_HEADER</td>\n",
              "    </tr>\n",
              "    <tr>\n",
              "      <th>2375</th>\n",
              "      <td>CRMCL_TOPICAREA</td>\n",
              "      <td>CPQ</td>\n",
              "      <td>ACTIVE_QUOTES_HEADER</td>\n",
              "      <td>90.0</td>\n",
              "      <td>549925.0</td>\n",
              "      <td>2022-03-11</td>\n",
              "      <td>2022-03-12</td>\n",
              "      <td>Inactive</td>\n",
              "      <td>CRMCL_TOPICAREA.CPQ.ACTIVE_QUOTES_HEADER</td>\n",
              "    </tr>\n",
              "    <tr>\n",
              "      <th>2740</th>\n",
              "      <td>CRMCL_TOPICAREA</td>\n",
              "      <td>CPQ</td>\n",
              "      <td>ACTIVE_QUOTES_HEADER</td>\n",
              "      <td>90.0</td>\n",
              "      <td>549400.0</td>\n",
              "      <td>2022-03-10</td>\n",
              "      <td>2022-03-11</td>\n",
              "      <td>Inactive</td>\n",
              "      <td>CRMCL_TOPICAREA.CPQ.ACTIVE_QUOTES_HEADER</td>\n",
              "    </tr>\n",
              "    <tr>\n",
              "      <th>3101</th>\n",
              "      <td>CRMCL_TOPICAREA</td>\n",
              "      <td>CPQ</td>\n",
              "      <td>ACTIVE_QUOTES_HEADER</td>\n",
              "      <td>90.0</td>\n",
              "      <td>548908.0</td>\n",
              "      <td>2022-03-09</td>\n",
              "      <td>2022-03-10</td>\n",
              "      <td>Inactive</td>\n",
              "      <td>CRMCL_TOPICAREA.CPQ.ACTIVE_QUOTES_HEADER</td>\n",
              "    </tr>\n",
              "    <tr>\n",
              "      <th>3454</th>\n",
              "      <td>CRMCL_TOPICAREA</td>\n",
              "      <td>CPQ</td>\n",
              "      <td>ACTIVE_QUOTES_HEADER</td>\n",
              "      <td>90.0</td>\n",
              "      <td>548077.0</td>\n",
              "      <td>2022-03-07</td>\n",
              "      <td>2022-03-09</td>\n",
              "      <td>Inactive</td>\n",
              "      <td>CRMCL_TOPICAREA.CPQ.ACTIVE_QUOTES_HEADER</td>\n",
              "    </tr>\n",
              "    <tr>\n",
              "      <th>3880</th>\n",
              "      <td>CRMCL_TOPICAREA</td>\n",
              "      <td>CPQ</td>\n",
              "      <td>ACTIVE_QUOTES_HEADER</td>\n",
              "      <td>90.0</td>\n",
              "      <td>545305.0</td>\n",
              "      <td>2022-02-27</td>\n",
              "      <td>2022-03-07</td>\n",
              "      <td>Inactive</td>\n",
              "      <td>CRMCL_TOPICAREA.CPQ.ACTIVE_QUOTES_HEADER</td>\n",
              "    </tr>\n",
              "  </tbody>\n",
              "</table>\n",
              "</div>\n",
              "      <button class=\"colab-df-convert\" onclick=\"convertToInteractive('df-74c54b8d-768a-402e-a518-a0cfab17b41f')\"\n",
              "              title=\"Convert this dataframe to an interactive table.\"\n",
              "              style=\"display:none;\">\n",
              "        \n",
              "  <svg xmlns=\"http://www.w3.org/2000/svg\" height=\"24px\"viewBox=\"0 0 24 24\"\n",
              "       width=\"24px\">\n",
              "    <path d=\"M0 0h24v24H0V0z\" fill=\"none\"/>\n",
              "    <path d=\"M18.56 5.44l.94 2.06.94-2.06 2.06-.94-2.06-.94-.94-2.06-.94 2.06-2.06.94zm-11 1L8.5 8.5l.94-2.06 2.06-.94-2.06-.94L8.5 2.5l-.94 2.06-2.06.94zm10 10l.94 2.06.94-2.06 2.06-.94-2.06-.94-.94-2.06-.94 2.06-2.06.94z\"/><path d=\"M17.41 7.96l-1.37-1.37c-.4-.4-.92-.59-1.43-.59-.52 0-1.04.2-1.43.59L10.3 9.45l-7.72 7.72c-.78.78-.78 2.05 0 2.83L4 21.41c.39.39.9.59 1.41.59.51 0 1.02-.2 1.41-.59l7.78-7.78 2.81-2.81c.8-.78.8-2.07 0-2.86zM5.41 20L4 18.59l7.72-7.72 1.47 1.35L5.41 20z\"/>\n",
              "  </svg>\n",
              "      </button>\n",
              "      \n",
              "  <style>\n",
              "    .colab-df-container {\n",
              "      display:flex;\n",
              "      flex-wrap:wrap;\n",
              "      gap: 12px;\n",
              "    }\n",
              "\n",
              "    .colab-df-convert {\n",
              "      background-color: #E8F0FE;\n",
              "      border: none;\n",
              "      border-radius: 50%;\n",
              "      cursor: pointer;\n",
              "      display: none;\n",
              "      fill: #1967D2;\n",
              "      height: 32px;\n",
              "      padding: 0 0 0 0;\n",
              "      width: 32px;\n",
              "    }\n",
              "\n",
              "    .colab-df-convert:hover {\n",
              "      background-color: #E2EBFA;\n",
              "      box-shadow: 0px 1px 2px rgba(60, 64, 67, 0.3), 0px 1px 3px 1px rgba(60, 64, 67, 0.15);\n",
              "      fill: #174EA6;\n",
              "    }\n",
              "\n",
              "    [theme=dark] .colab-df-convert {\n",
              "      background-color: #3B4455;\n",
              "      fill: #D2E3FC;\n",
              "    }\n",
              "\n",
              "    [theme=dark] .colab-df-convert:hover {\n",
              "      background-color: #434B5C;\n",
              "      box-shadow: 0px 1px 3px 1px rgba(0, 0, 0, 0.15);\n",
              "      filter: drop-shadow(0px 1px 2px rgba(0, 0, 0, 0.3));\n",
              "      fill: #FFFFFF;\n",
              "    }\n",
              "  </style>\n",
              "\n",
              "      <script>\n",
              "        const buttonEl =\n",
              "          document.querySelector('#df-74c54b8d-768a-402e-a518-a0cfab17b41f button.colab-df-convert');\n",
              "        buttonEl.style.display =\n",
              "          google.colab.kernel.accessAllowed ? 'block' : 'none';\n",
              "\n",
              "        async function convertToInteractive(key) {\n",
              "          const element = document.querySelector('#df-74c54b8d-768a-402e-a518-a0cfab17b41f');\n",
              "          const dataTable =\n",
              "            await google.colab.kernel.invokeFunction('convertToInteractive',\n",
              "                                                     [key], {});\n",
              "          if (!dataTable) return;\n",
              "\n",
              "          const docLinkHtml = 'Like what you see? Visit the ' +\n",
              "            '<a target=\"_blank\" href=https://colab.research.google.com/notebooks/data_table.ipynb>data table notebook</a>'\n",
              "            + ' to learn more about interactive tables.';\n",
              "          element.innerHTML = '';\n",
              "          dataTable['output_type'] = 'display_data';\n",
              "          await google.colab.output.renderOutput(dataTable, element);\n",
              "          const docLink = document.createElement('div');\n",
              "          docLink.innerHTML = docLinkHtml;\n",
              "          element.appendChild(docLink);\n",
              "        }\n",
              "      </script>\n",
              "    </div>\n",
              "  </div>\n",
              "  "
            ]
          },
          "metadata": {},
          "execution_count": 19
        }
      ]
    },
    {
      "cell_type": "code",
      "source": [
        ""
      ],
      "metadata": {
        "id": "z7a_qYNdK4sp"
      },
      "execution_count": null,
      "outputs": []
    }
  ]
}