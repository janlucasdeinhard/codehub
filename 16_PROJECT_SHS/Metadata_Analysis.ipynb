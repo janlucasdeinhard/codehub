{
  "nbformat": 4,
  "nbformat_minor": 0,
  "metadata": {
    "colab": {
      "name": "Metadata_Analysis.ipynb",
      "provenance": [],
      "include_colab_link": true
    },
    "kernelspec": {
      "name": "python3",
      "display_name": "Python 3"
    },
    "language_info": {
      "name": "python"
    }
  },
  "cells": [
    {
      "cell_type": "markdown",
      "metadata": {
        "id": "view-in-github",
        "colab_type": "text"
      },
      "source": [
        "<a href=\"https://colab.research.google.com/github/janlucasdeinhard/pyfiles/blob/master/16_PROJECT_SHS/Metadata_Analysis.ipynb\" target=\"_parent\"><img src=\"https://colab.research.google.com/assets/colab-badge.svg\" alt=\"Open In Colab\"/></a>"
      ]
    },
    {
      "cell_type": "code",
      "source": [
        "from google.colab import drive,files\n",
        "drive.mount('/content/mount/')"
      ],
      "metadata": {
        "id": "6-oyJdrVfvzH",
        "colab": {
          "base_uri": "https://localhost:8080/"
        },
        "outputId": "53c30d1c-3cf1-47fb-ca62-291626af1aa5"
      },
      "execution_count": 1,
      "outputs": [
        {
          "output_type": "stream",
          "name": "stdout",
          "text": [
            "Mounted at /content/mount/\n"
          ]
        }
      ]
    },
    {
      "cell_type": "code",
      "execution_count": 2,
      "metadata": {
        "id": "3gorp2ufexoc"
      },
      "outputs": [],
      "source": [
        "import numpy as np\n",
        "from numpy import random as rnd\n",
        "from matplotlib import pyplot as plt\n",
        "import os,sys,warnings,datetime,time,itertools,math\n",
        "\n",
        "import pandas as pd"
      ]
    },
    {
      "cell_type": "code",
      "source": [
        "df = pd.read_excel('/content/mount/MyDrive/00_TEMP_DATA/metadata.xlsx')"
      ],
      "metadata": {
        "id": "2sUqDchVtt8t",
        "colab": {
          "base_uri": "https://localhost:8080/"
        },
        "outputId": "5d7dfddd-27d8-4ddf-f152-eac26e1a31af"
      },
      "execution_count": 3,
      "outputs": [
        {
          "output_type": "stream",
          "name": "stderr",
          "text": [
            "/usr/local/lib/python3.7/dist-packages/openpyxl/styles/stylesheet.py:226: UserWarning: Workbook contains no default style, apply openpyxl's default\n",
            "  warn(\"Workbook contains no default style, apply openpyxl's default\")\n"
          ]
        }
      ]
    },
    {
      "cell_type": "code",
      "source": [
        "df['FULLNAME'] = df[['TABLE_CATALOG','TABLE_SCHEMA','TABLE_NAME']].agg('.'.join,axis=1)"
      ],
      "metadata": {
        "id": "-eP4-FDWvKrB"
      },
      "execution_count": 19,
      "outputs": []
    },
    {
      "cell_type": "code",
      "source": [
        "df = df.merge(\n",
        "  df[~df['VALIDFROM_TIMESTAMP'].isna()].groupby(['FULLNAME'],as_index=False)['VALIDFROM_TIMESTAMP'].min().rename(\n",
        "      columns={'VALIDFROM_TIMESTAMP':'TRACKINGTIME_START'}\n",
        "  ),\n",
        "  on='FULLNAME',how='left'\n",
        ").merge(\n",
        "    df[~df['VALIDTO_TIMESTAMP'].isna()].groupby(['FULLNAME'],as_index=False)['VALIDTO_TIMESTAMP'].max().rename(\n",
        "      columns={'VALIDTO_TIMESTAMP':'TRACKINGTIME_MAX'}\n",
        "  ),\n",
        "  on='FULLNAME',how='left'\n",
        ")"
      ],
      "metadata": {
        "id": "fINRHdiQw7os"
      },
      "execution_count": 37,
      "outputs": []
    },
    {
      "cell_type": "code",
      "source": [
        "df0 = df[df['FULLNAME']=='CRMCL_TOPICAREA.OSC.Accounts']\n",
        "\n",
        "df0[['VALIDFROM_TIMESTAMP','VALIDTO_TIMESTAMP']] = df0[['VALIDFROM_TIMESTAMP','VALIDTO_TIMESTAMP']].apply(pd.to_datetime)\n",
        "\n",
        "df0['VALIDFROM_TIMESTAMP'] = df0['VALIDFROM_TIMESTAMP'].dt.date\n",
        "df0['VALIDTO_TIMESTAMP'] = df0['VALIDTO_TIMESTAMP'].dt.date"
      ],
      "metadata": {
        "colab": {
          "base_uri": "https://localhost:8080/"
        },
        "id": "MPrqz9NF2uTS",
        "outputId": "3a37a81f-ac84-4262-a333-16da600dde39"
      },
      "execution_count": 76,
      "outputs": [
        {
          "output_type": "stream",
          "name": "stderr",
          "text": [
            "/usr/local/lib/python3.7/dist-packages/pandas/core/frame.py:3641: SettingWithCopyWarning: \n",
            "A value is trying to be set on a copy of a slice from a DataFrame.\n",
            "Try using .loc[row_indexer,col_indexer] = value instead\n",
            "\n",
            "See the caveats in the documentation: https://pandas.pydata.org/pandas-docs/stable/user_guide/indexing.html#returning-a-view-versus-a-copy\n",
            "  self[k1] = value[k2]\n",
            "/usr/local/lib/python3.7/dist-packages/ipykernel_launcher.py:5: SettingWithCopyWarning: \n",
            "A value is trying to be set on a copy of a slice from a DataFrame.\n",
            "Try using .loc[row_indexer,col_indexer] = value instead\n",
            "\n",
            "See the caveats in the documentation: https://pandas.pydata.org/pandas-docs/stable/user_guide/indexing.html#returning-a-view-versus-a-copy\n",
            "  \"\"\"\n",
            "/usr/local/lib/python3.7/dist-packages/ipykernel_launcher.py:6: SettingWithCopyWarning: \n",
            "A value is trying to be set on a copy of a slice from a DataFrame.\n",
            "Try using .loc[row_indexer,col_indexer] = value instead\n",
            "\n",
            "See the caveats in the documentation: https://pandas.pydata.org/pandas-docs/stable/user_guide/indexing.html#returning-a-view-versus-a-copy\n",
            "  \n"
          ]
        }
      ]
    },
    {
      "cell_type": "code",
      "source": [
        "tf = pd.DataFrame()\n",
        "\n",
        "tf['DATE'] = pd.date_range(\n",
        "    start=pd.to_datetime(df0['TRACKINGTIME_START'].tolist()[0]),\n",
        "    end=pd.to_datetime(df0['TRACKINGTIME_MAX'].tolist()[0])\n",
        ")\n",
        "\n",
        "tf['DATE'] = tf['DATE'].dt.date\n",
        "\n",
        "tf = tf.merge(\n",
        "    df0[['VALIDFROM_TIMESTAMP','ROWCOUNT','COLUMNCOUNT','FULLNAME']],\n",
        "    left_on='DATE',right_on='VALIDFROM_TIMESTAMP',how='left'\n",
        ").drop(columns=['VALIDFROM_TIMESTAMP']).fillna(method='ffill')"
      ],
      "metadata": {
        "id": "M3jDxVxq37zs"
      },
      "execution_count": 88,
      "outputs": []
    },
    {
      "cell_type": "code",
      "source": [
        "tf.set_index('DATE')['ROWCOUNT'].plot(rot=50)"
      ],
      "metadata": {
        "colab": {
          "base_uri": "https://localhost:8080/",
          "height": 338
        },
        "id": "ThsJulYSUis7",
        "outputId": "e3af60d1-3a47-4912-a3e0-44c983e40eb6"
      },
      "execution_count": 92,
      "outputs": [
        {
          "output_type": "execute_result",
          "data": {
            "text/plain": [
              "<matplotlib.axes._subplots.AxesSubplot at 0x7f8ee8fbbc90>"
            ]
          },
          "metadata": {},
          "execution_count": 92
        },
        {
          "output_type": "display_data",
          "data": {
            "text/plain": [
              "<Figure size 432x288 with 1 Axes>"
            ],
            "image/png": "[encoded data removed]"
          },
          "metadata": {
            "needs_background": "light"
          }
        }
      ]
    },
    {
      "cell_type": "code",
      "source": [
        ""
      ],
      "metadata": {
        "id": "oxAXXW7OYnnq"
      },
      "execution_count": null,
      "outputs": []
    }
  ]
}