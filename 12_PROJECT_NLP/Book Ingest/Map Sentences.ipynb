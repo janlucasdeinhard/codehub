{
 "cells": [
  {
   "cell_type": "markdown",
   "metadata": {},
   "source": [
    "# Map Sentences\n",
    "\n",
    "This workflow maps Latin phrases and the corresponding English translation into a training corpus for NLP."
   ]
  },
  {
   "cell_type": "code",
   "execution_count": 1,
   "metadata": {},
   "outputs": [],
   "source": [
    "# Imports\n",
    "\n",
    "import numpy as np\n",
    "from numpy import random as rnd\n",
    "from matplotlib import pyplot as plt\n",
    "import warnings,datetime,time,math,itertools,os,sys,io"
   ]
  },
  {
   "cell_type": "code",
   "execution_count": 2,
   "metadata": {},
   "outputs": [],
   "source": [
    "import requests\n",
    "from PIL import Image,ImageFilter"
   ]
  },
  {
   "cell_type": "markdown",
   "metadata": {},
   "source": [
    "# Load files from Store\n",
    "\n",
    "Load files from Dropbox store and save as list of pages."
   ]
  },
  {
   "cell_type": "code",
   "execution_count": 3,
   "metadata": {},
   "outputs": [],
   "source": [
    "# Stored files path\n",
    "STOREPATH = './../../../TF_Data/Dropbox/TF_data/TXT_Books/Source_LatinBook1/TXT data/'"
   ]
  },
  {
   "cell_type": "code",
   "execution_count": 5,
   "metadata": {},
   "outputs": [],
   "source": [
    "files = os.listdir(STOREPATH)"
   ]
  },
  {
   "cell_type": "code",
   "execution_count": 9,
   "metadata": {
    "scrolled": false
   },
   "outputs": [],
   "source": [
    "pages = []\n",
    "\n",
    "for cfile in files:\n",
    "    with open(STOREPATH+cfile,'r') as f:\n",
    "        pages.append(f.read())"
   ]
  },
  {
   "cell_type": "code",
   "execution_count": null,
   "metadata": {},
   "outputs": [],
   "source": []
  },
  {
   "cell_type": "code",
   "execution_count": null,
   "metadata": {},
   "outputs": [],
   "source": []
  },
  {
   "cell_type": "code",
   "execution_count": null,
   "metadata": {},
   "outputs": [],
   "source": []
  },
  {
   "cell_type": "code",
   "execution_count": 22,
   "metadata": {
    "scrolled": false
   },
   "outputs": [
    {
     "name": "stdout",
     "output_type": "stream",
     "text": [
      "NAEVIUS\n",
      "\n",
      "Ecce hi sunt ' animis .\n",
      "\n",
      ". . parati ' (Aen., II, 790);—\n",
      "\n",
      "Ubi foras cum auro illic exibant,\n",
      "\n",
      "FÄwe et • opibus instrueti ' (Aen., II, 799 animis opibusque\n",
      "\n",
      "11\n",
      "\n",
      "Isidorug, Orig., XIX, 22, 20: ' Citrus.' quasi concrispa\n",
      "\n",
      "ad similitudinem citri. Naevius—\n",
      "\n",
      "purarn pulchramque ex auro vestem citrosam.\n",
      "\n",
      "Cp. Macrob., S., 111, 19,5. Hom„ od., V.264; VI,26; 11.,\n",
      "\n",
      "XXII, 154.\n",
      "\n",
      "12\n",
      "\n",
      "Marius Victorinus, ap. G.L., V', 139, 7 Apud Naevium—\n",
      "\n",
      "Ferunt pulehras creterras, aureas lepistas.\n",
      "\n",
      "Cp. caes. Bass„ (Y) ap. G.L., VI, 266, 1.\n",
      "\n",
      "dicit nnam navem Aeneam quam Mereuriug\n",
      "\n",
      "feeerit.\n",
      "\n",
      "Mr. illuc Masvicius.\n",
      "\n",
      "(que)\n",
      "\n",
      "al. sid. pulchra quem Curo/. pulehrarn quae\n",
      "\n",
      "ram exg/a.s. rat.\n",
      "\n",
      "Vestem B. I\n",
      "\n",
      "item ierunt p. e. a. I. et apod Naevium novem lovis\n",
      "\n",
      "TITE PUNIC WAR\n",
      "\n",
      "In these you see Virgil's • ready in heart '\n",
      "\n",
      "When thev forthwith were passing outdoors there\n",
      "\n",
      "With the gola,\n",
      "\n",
      "Here again, you See Virgil's laden With their\n",
      "\n",
      "11\n",
      "\n",
      "the o! Troy :\n",
      "\n",
      "Isidore: Citrosa.' Curled' as it were so as to resemble\n",
      "\n",
      "citrus-wood. Nacvius—\n",
      "\n",
      "and clothing clean and lovely, spun from gold and\n",
      "\n",
      "citrus-scented.\n",
      "\n",
      "12\n",
      "\n",
      "a passage Of We\n",
      "\n",
      "They carry beautiful bowls and golden goblets.\n",
      "\n",
      "Ship :\n",
      "\n",
      "Servius in Says\n",
      "\n",
      "ship which built.\n",
      "\n",
      "• Or by Virg., II,\n",
      "\n",
      "A interpretation. Maerol•iusgives the right meaning.\n",
      "\n",
      "The right readings of the are unknown. The\n",
      "\n",
      "whose fragrant wood was used for rnaking furniture. must be\n",
      "\n",
      "distinguished from the citron hy the Romans\n",
      "\n",
      "whose leaves awl fruit were placed amongst clothes in\n",
      "\n",
      "Order to keep moths away.\n",
      "\n",
      "Viet. pulchros pateras (crateras marg. Pal. ) aereas rdd.\n",
      "\n",
      "e. q. (p. 46)\n",
      "\n",
      "50\n",
      "\n",
      "pulchras creterraH Mar.\n",
      "\n",
      "Cues. Bass.\n",
      "\n",
      "aureusquecdd. Mar. Viet.\n",
      "\n",
      "50 of 674\n",
      "\n",
      "'rib. fib. 1 Mr.\n",
      "\n",
      "88 p\n",
      "\n",
      "\n"
     ]
    }
   ],
   "source": [
    "print(pages[23])"
   ]
  },
  {
   "cell_type": "code",
   "execution_count": null,
   "metadata": {},
   "outputs": [],
   "source": []
  }
 ],
 "metadata": {
  "kernelspec": {
   "display_name": "Python 3",
   "language": "python",
   "name": "python3"
  },
  "language_info": {
   "codemirror_mode": {
    "name": "ipython",
    "version": 3
   },
   "file_extension": ".py",
   "mimetype": "text/x-python",
   "name": "python",
   "nbconvert_exporter": "python",
   "pygments_lexer": "ipython3",
   "version": "3.8.5"
  }
 },
 "nbformat": 4,
 "nbformat_minor": 4
}
