{
 "cells": [
  {
   "cell_type": "markdown",
   "metadata": {},
   "source": [
    "# File Load and Extract\n",
    "\n",
    "This file will connect to an online book asset and load the data in the form of a png. The next step will use a google cloud API to extract the text on the page in png format."
   ]
  },
  {
   "cell_type": "code",
   "execution_count": 1,
   "metadata": {},
   "outputs": [],
   "source": [
    "# Imports\n",
    "\n",
    "import numpy as np\n",
    "from numpy import random as rnd\n",
    "from matplotlib import pyplot as plt\n",
    "import warnings,datetime,time,math,itertools,os,sys,io"
   ]
  },
  {
   "cell_type": "code",
   "execution_count": 2,
   "metadata": {},
   "outputs": [],
   "source": [
    "import requests\n",
    "from PIL import Image,ImageFilter"
   ]
  },
  {
   "cell_type": "code",
   "execution_count": 3,
   "metadata": {},
   "outputs": [],
   "source": [
    "from selenium import webdriver"
   ]
  },
  {
   "cell_type": "markdown",
   "metadata": {},
   "source": [
    "# Fetch Data as PNGs from Online repository\n",
    "\n",
    "Connect to the web page, and take a screenshots using the selenium library. Store to Dropbox! "
   ]
  },
  {
   "cell_type": "code",
   "execution_count": 4,
   "metadata": {},
   "outputs": [],
   "source": [
    "# Chrome Driver path, necessary for selenium library\n",
    "DRIVERPATH = './../../7_HELPERFUNCTIONS/Drivers/chromedriver_win32/chromedriver.exe'\n",
    "\n",
    "# Book path, with variable page number \n",
    "URLPATH = 'https://archive.org/details/remainsofoldlati02warmuoft/page/{}/mode/2up?view=theater'\n",
    "\n",
    "# Store base path\n",
    "STOREPATH = './../../../TF_Data/Dropbox/TF_data/TXT_Books/Source_LatinBook1/'"
   ]
  },
  {
   "cell_type": "code",
   "execution_count": 5,
   "metadata": {},
   "outputs": [
    {
     "name": "stderr",
     "output_type": "stream",
     "text": [
      "<ipython-input-5-1144314c625d>:2: DeprecationWarning: executable_path has been deprecated, please pass in a Service object\n",
      "  driver = webdriver.Chrome(DRIVERPATH)\n"
     ]
    },
    {
     "name": "stdout",
     "output_type": "stream",
     "text": [
      "Processed page 8/98\n",
      "Processed page 42/98\n"
     ]
    }
   ],
   "source": [
    "# Cast new driver\n",
    "driver = webdriver.Chrome(DRIVERPATH)\n",
    "\n",
    "# Also, store page lookup paths\n",
    "lookup_dict = dict()\n",
    "\n",
    "# Iterate pages, now set to between 70 and 80, in steps of 2\n",
    "crange = range(0,100,2)\n",
    "\n",
    "for pagenum in crange:\n",
    "    # Get page\n",
    "    driver.get(URLPATH.format(pagenum))\n",
    "    # 3 seconds break\n",
    "    time.sleep(3)\n",
    "    # Take screenshot\n",
    "    driver.get_screenshot_as_file(STOREPATH+'page_{}.png'.format(str(pagenum)))\n",
    "    # Store for processing\n",
    "    lookup_dict[pagenum] = STOREPATH+'page_{}.png'.format(str(pagenum))\n",
    "    # Print progress\n",
    "    if rnd.choice([False,True],p=[1-1/len(crange),1/len(crange)]): print('Processed page {0}/{1}'.format(pagenum,max(crange)))\n",
    "\n",
    "# Release driver\n",
    "driver.quit()"
   ]
  },
  {
   "cell_type": "markdown",
   "metadata": {},
   "source": [
    "# Extract TXT from PNG file\n",
    "\n",
    "Use OCE API with free key to convert the book into txt files."
   ]
  },
  {
   "cell_type": "code",
   "execution_count": 6,
   "metadata": {},
   "outputs": [],
   "source": [
    "apiKey = 'K89462531488957'"
   ]
  },
  {
   "cell_type": "code",
   "execution_count": 7,
   "metadata": {},
   "outputs": [],
   "source": [
    "payload = {\n",
    "    'isOverlayRequired':False,\n",
    "    'apikey':apiKey\n",
    "}"
   ]
  },
  {
   "cell_type": "code",
   "execution_count": 8,
   "metadata": {},
   "outputs": [],
   "source": [
    "BASELINK = 'https://api.ocr.space/parse/image'"
   ]
  },
  {
   "cell_type": "code",
   "execution_count": 9,
   "metadata": {},
   "outputs": [],
   "source": [
    "for cpath in lookup_dict.values():\n",
    "    with open(cpath,'rb') as f:\n",
    "        r = requests.post(\n",
    "            BASELINK,\n",
    "            files={cpath:f},\n",
    "            data=payload\n",
    "        )\n",
    "    with open(cpath.replace('.png','.txt').replace('/Source_LatinBook1/','/Source_LatinBook1/TXT data/'),'w') as f:\n",
    "        f.write(r.json()['ParsedResults'][0]['ParsedText'])"
   ]
  },
  {
   "cell_type": "code",
   "execution_count": null,
   "metadata": {},
   "outputs": [],
   "source": []
  }
 ],
 "metadata": {
  "kernelspec": {
   "display_name": "Python 3",
   "language": "python",
   "name": "python3"
  },
  "language_info": {
   "codemirror_mode": {
    "name": "ipython",
    "version": 3
   },
   "file_extension": ".py",
   "mimetype": "text/x-python",
   "name": "python",
   "nbconvert_exporter": "python",
   "pygments_lexer": "ipython3",
   "version": "3.8.5"
  }
 },
 "nbformat": 4,
 "nbformat_minor": 4
}
