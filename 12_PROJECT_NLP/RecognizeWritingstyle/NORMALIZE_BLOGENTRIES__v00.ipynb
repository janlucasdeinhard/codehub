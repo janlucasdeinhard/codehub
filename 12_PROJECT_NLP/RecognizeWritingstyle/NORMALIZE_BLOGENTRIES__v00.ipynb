{
 "cells": [
  {
   "cell_type": "code",
   "execution_count": 197,
   "metadata": {},
   "outputs": [],
   "source": [
    "import numpy as np\n",
    "from matplotlib import pyplot as plt\n",
    "from numpy import random as rnd\n",
    "import warnings,os,datetime,time\n",
    "\n",
    "import pandas as pd\n",
    "\n",
    "from nltk import sent_tokenize,word_tokenize\n",
    "\n",
    "import pickle"
   ]
  },
  {
   "cell_type": "code",
   "execution_count": null,
   "metadata": {},
   "outputs": [],
   "source": []
  },
  {
   "cell_type": "code",
   "execution_count": null,
   "metadata": {},
   "outputs": [],
   "source": []
  },
  {
   "cell_type": "code",
   "execution_count": null,
   "metadata": {},
   "outputs": [],
   "source": []
  },
  {
   "cell_type": "code",
   "execution_count": 2,
   "metadata": {},
   "outputs": [],
   "source": [
    "basedir = '..//..//..//TF_data//BLOGENTRIES//blogs//'\n",
    "\n",
    "files = os.listdir(basedir)[:250]\n",
    "\n",
    "df = pd.DataFrame()\n",
    "for c_file in files:\n",
    "    \n",
    "    try:\n",
    "        with open(basedir+c_file) as fp: soup = BeautifulSoup(fp, 'xml')\n",
    "    except:\n",
    "        continue\n",
    "    cells = soup.findAll(['date','post'])\n",
    "\n",
    "    data = []\n",
    "    for k in range(0,len(cells),2):\n",
    "        data.append([\n",
    "            str(cells[k]).replace('<date>','').replace('</date>','').replace(',','-'),\n",
    "            str(cells[k+1]).replace('<post>','').replace('</post>','').replace('\\n','').replace('\\t','').lstrip().rstrip()\n",
    "        ])\n",
    "    cf = pd.DataFrame(data).rename(columns={0:'Date Post',1:'Text Post'})\n",
    "    c_ID,c_Gender,c_Age,c_Topic,c_AstroSign = c_file.split('.')[:-1]\n",
    "\n",
    "    cf['ID Poster'] = c_ID\n",
    "    cf['Gender Poster'] = c_Gender\n",
    "    cf['Age Poster'] = c_Age\n",
    "    cf['Topic Channel'] = c_Topic\n",
    "    cf['Astro Sign Poster'] = c_AstroSign\n",
    "    \n",
    "    df = pd.concat([df,cf]).reset_index(drop=True)"
   ]
  },
  {
   "cell_type": "code",
   "execution_count": null,
   "metadata": {},
   "outputs": [],
   "source": []
  },
  {
   "cell_type": "code",
   "execution_count": null,
   "metadata": {},
   "outputs": [],
   "source": []
  },
  {
   "cell_type": "code",
   "execution_count": null,
   "metadata": {},
   "outputs": [],
   "source": []
  },
  {
   "cell_type": "code",
   "execution_count": null,
   "metadata": {},
   "outputs": [],
   "source": [
    "df0 = df[['Text Post','ID Poster']]"
   ]
  },
  {
   "cell_type": "code",
   "execution_count": null,
   "metadata": {},
   "outputs": [],
   "source": [
    "df0 = df0[df0['ID Poster'].isin(df0['ID Poster'].value_counts().sort_values(ascending=False).index[:4])]\n",
    "df0['Text Sentence'] = df0['Text Post'].apply(lambda x: [xxx for xx in sent_tokenize(x) for xxx in xx.split(',')])\n",
    "df0 = df0.drop(columns=['Text Post'])"
   ]
  },
  {
   "cell_type": "code",
   "execution_count": null,
   "metadata": {},
   "outputs": [],
   "source": [
    "df0 = df0.explode(column='Text Sentence')"
   ]
  },
  {
   "cell_type": "code",
   "execution_count": null,
   "metadata": {},
   "outputs": [],
   "source": [
    "df0 = df0[df0['Text Sentence'].apply(lambda x: type(x)==str)].reset_index(drop=True)\n",
    "df0['Text Sentence'] = df0['Text Sentence'].apply(lambda x: x.lower())\n",
    "df0['Length Sentence'] = df0['Text Sentence'].apply(lambda x: len(word_tokenize(x)))"
   ]
  },
  {
   "cell_type": "code",
   "execution_count": 180,
   "metadata": {},
   "outputs": [],
   "source": [
    "df0 = df0[df0['Length Sentence']>=20]\n",
    "df0 = df0.sample(frac=1).reset_index(drop=True)\n",
    "df0 = df0.drop(columns=['Length Sentence'])"
   ]
  },
  {
   "cell_type": "code",
   "execution_count": null,
   "metadata": {},
   "outputs": [],
   "source": []
  },
  {
   "cell_type": "code",
   "execution_count": null,
   "metadata": {},
   "outputs": [],
   "source": []
  },
  {
   "cell_type": "code",
   "execution_count": null,
   "metadata": {},
   "outputs": [],
   "source": []
  },
  {
   "cell_type": "code",
   "execution_count": 198,
   "metadata": {},
   "outputs": [],
   "source": [
    "df0.to_pickle('.\\\\DATA\\\\test_dataset_normalized.p')"
   ]
  }
 ],
 "metadata": {
  "kernelspec": {
   "display_name": "Python 3",
   "language": "python",
   "name": "python3"
  },
  "language_info": {
   "codemirror_mode": {
    "name": "ipython",
    "version": 3
   },
   "file_extension": ".py",
   "mimetype": "text/x-python",
   "name": "python",
   "nbconvert_exporter": "python",
   "pygments_lexer": "ipython3",
   "version": "3.6.5"
  }
 },
 "nbformat": 4,
 "nbformat_minor": 2
}
