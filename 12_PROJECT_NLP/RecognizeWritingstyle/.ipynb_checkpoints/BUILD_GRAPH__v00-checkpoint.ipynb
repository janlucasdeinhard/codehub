{
 "cells": [
  {
   "cell_type": "code",
   "execution_count": 4,
   "metadata": {},
   "outputs": [],
   "source": [
    "import numpy as np\n",
    "from matplotlib import pyplot as plt\n",
    "from numpy import random as rnd\n",
    "import warnings,os,datetime,time\n",
    "\n",
    "import pandas as pd\n",
    "\n",
    "import spacy\n",
    "\n",
    "import pickle"
   ]
  },
  {
   "cell_type": "code",
   "execution_count": null,
   "metadata": {},
   "outputs": [],
   "source": []
  },
  {
   "cell_type": "code",
   "execution_count": null,
   "metadata": {},
   "outputs": [],
   "source": []
  },
  {
   "cell_type": "code",
   "execution_count": null,
   "metadata": {},
   "outputs": [],
   "source": []
  },
  {
   "cell_type": "code",
   "execution_count": 6,
   "metadata": {},
   "outputs": [],
   "source": [
    "nlp = spacy.load('en_core_web_sm')"
   ]
  },
  {
   "cell_type": "code",
   "execution_count": 5,
   "metadata": {},
   "outputs": [],
   "source": [
    "df0 = pd.read_pickle('.\\\\DATA\\\\test_dataset_normalized.p')"
   ]
  },
  {
   "cell_type": "code",
   "execution_count": null,
   "metadata": {},
   "outputs": [],
   "source": []
  },
  {
   "cell_type": "code",
   "execution_count": null,
   "metadata": {},
   "outputs": [],
   "source": []
  },
  {
   "cell_type": "code",
   "execution_count": null,
   "metadata": {},
   "outputs": [],
   "source": []
  },
  {
   "cell_type": "code",
   "execution_count": 9,
   "metadata": {},
   "outputs": [
    {
     "name": "stdout",
     "output_type": "stream",
     "text": [
      "0/6356\n",
      "100/6356\n",
      "200/6356\n",
      "300/6356\n",
      "400/6356\n",
      "500/6356\n",
      "600/6356\n",
      "700/6356\n",
      "800/6356\n",
      "900/6356\n",
      "1000/6356\n",
      "1100/6356\n",
      "1200/6356\n",
      "1300/6356\n",
      "1400/6356\n",
      "1500/6356\n",
      "1600/6356\n",
      "1700/6356\n",
      "1800/6356\n",
      "1900/6356\n",
      "2000/6356\n",
      "2100/6356\n",
      "2200/6356\n",
      "2300/6356\n",
      "2400/6356\n",
      "2500/6356\n",
      "2600/6356\n",
      "2700/6356\n",
      "2800/6356\n",
      "2900/6356\n",
      "3000/6356\n",
      "3100/6356\n",
      "3200/6356\n",
      "3300/6356\n",
      "3400/6356\n",
      "3500/6356\n",
      "3600/6356\n",
      "3700/6356\n",
      "3800/6356\n",
      "3900/6356\n",
      "4000/6356\n",
      "4100/6356\n",
      "4200/6356\n",
      "4300/6356\n",
      "4400/6356\n",
      "4500/6356\n",
      "4600/6356\n",
      "4700/6356\n",
      "4800/6356\n",
      "4900/6356\n",
      "5000/6356\n",
      "5100/6356\n",
      "5200/6356\n",
      "5300/6356\n",
      "5400/6356\n",
      "5500/6356\n",
      "5600/6356\n",
      "5700/6356\n",
      "5800/6356\n",
      "5900/6356\n",
      "6000/6356\n",
      "6100/6356\n",
      "6200/6356\n",
      "6300/6356\n"
     ]
    }
   ],
   "source": [
    "results = []\n",
    "\n",
    "MAXCOUNT = df0.index.max()\n",
    "for k in df0.index:\n",
    "    \n",
    "    if k%100==0: print('%d/%d'%(k,MAXCOUNT))\n",
    "    \n",
    "    c_doc = nlp(df0.loc[k,'Text Sentence'])\n",
    "\n",
    "    T = ''\n",
    "    D = ''\n",
    "    for c_sent in c_doc.sents:\n",
    "        for c_tok in c_sent:\n",
    "            if c_tok.dep_ in ['nsubj','ROOT','dobj']:\n",
    "                T += c_tok.text+'_'\n",
    "                D += c_tok.dep_+'_'\n",
    "\n",
    "    if D.find('nsubj_ROOT_dobj_')>=0:\n",
    "        R = T[D.find('nsubj_ROOT_dobj_'):].split('_')[:3]\n",
    "        if R not in results and '' not in R:\n",
    "            results.append(R)"
   ]
  },
  {
   "cell_type": "code",
   "execution_count": null,
   "metadata": {},
   "outputs": [],
   "source": []
  },
  {
   "cell_type": "code",
   "execution_count": null,
   "metadata": {},
   "outputs": [],
   "source": []
  },
  {
   "cell_type": "code",
   "execution_count": null,
   "metadata": {},
   "outputs": [],
   "source": []
  },
  {
   "cell_type": "code",
   "execution_count": 11,
   "metadata": {},
   "outputs": [],
   "source": [
    "pickle.dump(results,open('.\\\\DATA\\\\blogentries_selected_info_condensed.p','wb'))"
   ]
  },
  {
   "cell_type": "code",
   "execution_count": null,
   "metadata": {},
   "outputs": [],
   "source": []
  }
 ],
 "metadata": {
  "kernelspec": {
   "display_name": "Python 3",
   "language": "python",
   "name": "python3"
  },
  "language_info": {
   "codemirror_mode": {
    "name": "ipython",
    "version": 3
   },
   "file_extension": ".py",
   "mimetype": "text/x-python",
   "name": "python",
   "nbconvert_exporter": "python",
   "pygments_lexer": "ipython3",
   "version": "3.6.5"
  }
 },
 "nbformat": 4,
 "nbformat_minor": 2
}
