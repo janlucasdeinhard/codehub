{
 "cells": [
  {
   "cell_type": "code",
   "execution_count": 1,
   "metadata": {},
   "outputs": [
    {
     "name": "stderr",
     "output_type": "stream",
     "text": [
      "C:\\Users\\Jan\\Anaconda3\\lib\\site-packages\\h5py\\__init__.py:36: FutureWarning: Conversion of the second argument of issubdtype from `float` to `np.floating` is deprecated. In future, it will be treated as `np.float64 == np.dtype(float).type`.\n",
      "  from ._conv import register_converters as _register_converters\n",
      "Using TensorFlow backend.\n"
     ]
    }
   ],
   "source": [
    "import numpy as np\n",
    "from matplotlib import pyplot as plt\n",
    "from numpy import random as rnd\n",
    "import warnings,os,datetime,time\n",
    "\n",
    "import torch\n",
    "import pandas as pd\n",
    "\n",
    "from keras.models import Sequential,Model\n",
    "from keras.layers import Dense,BatchNormalization,Dropout,LSTM,Concatenate,Activation,Input\n",
    "from keras.preprocessing.text import Tokenizer\n",
    "\n",
    "from bs4 import BeautifulSoup\n",
    "\n",
    "from nltk import sent_tokenize"
   ]
  },
  {
   "cell_type": "code",
   "execution_count": 2,
   "metadata": {},
   "outputs": [],
   "source": [
    "basedir = '..//..//..//TF_data//BLOGENTRIES//blogs//'\n",
    "\n",
    "files = os.listdir(basedir)[:250]\n",
    "\n",
    "df = pd.DataFrame()\n",
    "for c_file in files:\n",
    "    \n",
    "    try:\n",
    "        with open(basedir+c_file) as fp: soup = BeautifulSoup(fp, 'xml')\n",
    "    except:\n",
    "        continue\n",
    "    cells = soup.findAll(['date','post'])\n",
    "\n",
    "    data = []\n",
    "    for k in range(0,len(cells),2):\n",
    "        data.append([\n",
    "            str(cells[k]).replace('<date>','').replace('</date>','').replace(',','-'),\n",
    "            str(cells[k+1]).replace('<post>','').replace('</post>','').replace('\\n','').replace('\\t','').lstrip().rstrip()\n",
    "        ])\n",
    "    cf = pd.DataFrame(data).rename(columns={0:'Date Post',1:'Text Post'})\n",
    "    c_ID,c_Gender,c_Age,c_Topic,c_AstroSign = c_file.split('.')[:-1]\n",
    "\n",
    "    cf['ID Poster'] = c_ID\n",
    "    cf['Gender Poster'] = c_Gender\n",
    "    cf['Age Poster'] = c_Age\n",
    "    cf['Topic Channel'] = c_Topic\n",
    "    cf['Astro Sign Poster'] = c_AstroSign\n",
    "    \n",
    "    df = pd.concat([df,cf]).reset_index(drop=True)"
   ]
  },
  {
   "cell_type": "code",
   "execution_count": 3,
   "metadata": {},
   "outputs": [],
   "source": [
    "df0 = df[['Text Post','ID Poster']]"
   ]
  },
  {
   "cell_type": "code",
   "execution_count": null,
   "metadata": {},
   "outputs": [],
   "source": []
  },
  {
   "cell_type": "code",
   "execution_count": null,
   "metadata": {},
   "outputs": [],
   "source": []
  },
  {
   "cell_type": "code",
   "execution_count": null,
   "metadata": {},
   "outputs": [],
   "source": []
  },
  {
   "cell_type": "code",
   "execution_count": 22,
   "metadata": {},
   "outputs": [],
   "source": [
    "df1 = df0[df0['ID Poster'].isin(df0['ID Poster'].unique()[:10])]"
   ]
  },
  {
   "cell_type": "code",
   "execution_count": 23,
   "metadata": {},
   "outputs": [
    {
     "data": {
      "text/html": [
       "<div>\n",
       "<style scoped>\n",
       "    .dataframe tbody tr th:only-of-type {\n",
       "        vertical-align: middle;\n",
       "    }\n",
       "\n",
       "    .dataframe tbody tr th {\n",
       "        vertical-align: top;\n",
       "    }\n",
       "\n",
       "    .dataframe thead th {\n",
       "        text-align: right;\n",
       "    }\n",
       "</style>\n",
       "<table border=\"1\" class=\"dataframe\">\n",
       "  <thead>\n",
       "    <tr style=\"text-align: right;\">\n",
       "      <th></th>\n",
       "      <th>Text Post</th>\n",
       "      <th>ID Poster</th>\n",
       "    </tr>\n",
       "  </thead>\n",
       "  <tbody>\n",
       "    <tr>\n",
       "      <th>0</th>\n",
       "      <td>Well, everyone got up and going this morning. ...</td>\n",
       "      <td>1000331</td>\n",
       "    </tr>\n",
       "    <tr>\n",
       "      <th>1</th>\n",
       "      <td>My four-year old never stops talking.  She'll ...</td>\n",
       "      <td>1000331</td>\n",
       "    </tr>\n",
       "    <tr>\n",
       "      <th>2</th>\n",
       "      <td>Actually it's not raining yet, but I bought 15...</td>\n",
       "      <td>1000331</td>\n",
       "    </tr>\n",
       "    <tr>\n",
       "      <th>3</th>\n",
       "      <td>Ha! Just set up my RSS feed - that is so easy!...</td>\n",
       "      <td>1000331</td>\n",
       "    </tr>\n",
       "    <tr>\n",
       "      <th>4</th>\n",
       "      <td>Oh, which just reminded me, we were talking ab...</td>\n",
       "      <td>1000331</td>\n",
       "    </tr>\n",
       "    <tr>\n",
       "      <th>...</th>\n",
       "      <td>...</td>\n",
       "      <td>...</td>\n",
       "    </tr>\n",
       "    <tr>\n",
       "      <th>1880</th>\n",
       "      <td>Look out, Cap'n! Rapids ahead!  urlLink</td>\n",
       "      <td>1013637</td>\n",
       "    </tr>\n",
       "    <tr>\n",
       "      <th>1881</th>\n",
       "      <td>We've sprung a leak! Bail out! Darn porous-fib...</td>\n",
       "      <td>1013637</td>\n",
       "    </tr>\n",
       "    <tr>\n",
       "      <th>1882</th>\n",
       "      <td>Captain's Log: I dragged her back to drydock f...</td>\n",
       "      <td>1013637</td>\n",
       "    </tr>\n",
       "    <tr>\n",
       "      <th>1883</th>\n",
       "      <td>We watched Donnie Darko tonight. Wonderful mov...</td>\n",
       "      <td>1013637</td>\n",
       "    </tr>\n",
       "    <tr>\n",
       "      <th>1884</th>\n",
       "      <td>Ok, I know I've been using that quote from  Ho...</td>\n",
       "      <td>1013637</td>\n",
       "    </tr>\n",
       "  </tbody>\n",
       "</table>\n",
       "<p>1885 rows × 2 columns</p>\n",
       "</div>"
      ],
      "text/plain": [
       "                                              Text Post ID Poster\n",
       "0     Well, everyone got up and going this morning. ...   1000331\n",
       "1     My four-year old never stops talking.  She'll ...   1000331\n",
       "2     Actually it's not raining yet, but I bought 15...   1000331\n",
       "3     Ha! Just set up my RSS feed - that is so easy!...   1000331\n",
       "4     Oh, which just reminded me, we were talking ab...   1000331\n",
       "...                                                 ...       ...\n",
       "1880            Look out, Cap'n! Rapids ahead!  urlLink   1013637\n",
       "1881  We've sprung a leak! Bail out! Darn porous-fib...   1013637\n",
       "1882  Captain's Log: I dragged her back to drydock f...   1013637\n",
       "1883  We watched Donnie Darko tonight. Wonderful mov...   1013637\n",
       "1884  Ok, I know I've been using that quote from  Ho...   1013637\n",
       "\n",
       "[1885 rows x 2 columns]"
      ]
     },
     "execution_count": 23,
     "metadata": {},
     "output_type": "execute_result"
    }
   ],
   "source": [
    "df1"
   ]
  },
  {
   "cell_type": "code",
   "execution_count": 4,
   "metadata": {},
   "outputs": [],
   "source": [
    "df1 = pd.get_dummies(data=df1,prefix='ID',columns=['ID Poster'])"
   ]
  },
  {
   "cell_type": "code",
   "execution_count": 5,
   "metadata": {},
   "outputs": [],
   "source": [
    "df2 = df1.sample(frac=1).reset_index(drop=True)"
   ]
  },
  {
   "cell_type": "code",
   "execution_count": 6,
   "metadata": {},
   "outputs": [
    {
     "data": {
      "text/html": [
       "<div>\n",
       "<style scoped>\n",
       "    .dataframe tbody tr th:only-of-type {\n",
       "        vertical-align: middle;\n",
       "    }\n",
       "\n",
       "    .dataframe tbody tr th {\n",
       "        vertical-align: top;\n",
       "    }\n",
       "\n",
       "    .dataframe thead th {\n",
       "        text-align: right;\n",
       "    }\n",
       "</style>\n",
       "<table border=\"1\" class=\"dataframe\">\n",
       "  <thead>\n",
       "    <tr style=\"text-align: right;\">\n",
       "      <th></th>\n",
       "      <th>Text Post</th>\n",
       "      <th>ID_1000331</th>\n",
       "      <th>ID_1000866</th>\n",
       "      <th>ID_1004904</th>\n",
       "      <th>ID_1005076</th>\n",
       "      <th>ID_1007188</th>\n",
       "      <th>ID_1008329</th>\n",
       "      <th>ID_1009572</th>\n",
       "      <th>ID_1011153</th>\n",
       "      <th>ID_1011311</th>\n",
       "      <th>ID_1013637</th>\n",
       "    </tr>\n",
       "  </thead>\n",
       "  <tbody>\n",
       "    <tr>\n",
       "      <th>0</th>\n",
       "      <td>I'm at Kelsey's (Kdawg) house. She's getting r...</td>\n",
       "      <td>0</td>\n",
       "      <td>0</td>\n",
       "      <td>0</td>\n",
       "      <td>0</td>\n",
       "      <td>0</td>\n",
       "      <td>1</td>\n",
       "      <td>0</td>\n",
       "      <td>0</td>\n",
       "      <td>0</td>\n",
       "      <td>0</td>\n",
       "    </tr>\n",
       "    <tr>\n",
       "      <th>1</th>\n",
       "      <td>Today was ok. I took lots of Ibuprofen so my f...</td>\n",
       "      <td>0</td>\n",
       "      <td>1</td>\n",
       "      <td>0</td>\n",
       "      <td>0</td>\n",
       "      <td>0</td>\n",
       "      <td>0</td>\n",
       "      <td>0</td>\n",
       "      <td>0</td>\n",
       "      <td>0</td>\n",
       "      <td>0</td>\n",
       "    </tr>\n",
       "    <tr>\n",
       "      <th>2</th>\n",
       "      <td>December 7, 1941. \"A date that will live in in...</td>\n",
       "      <td>0</td>\n",
       "      <td>0</td>\n",
       "      <td>0</td>\n",
       "      <td>0</td>\n",
       "      <td>0</td>\n",
       "      <td>0</td>\n",
       "      <td>0</td>\n",
       "      <td>0</td>\n",
       "      <td>0</td>\n",
       "      <td>1</td>\n",
       "    </tr>\n",
       "    <tr>\n",
       "      <th>3</th>\n",
       "      <td>Uh oh, I'm in my mode. The one where everythin...</td>\n",
       "      <td>0</td>\n",
       "      <td>1</td>\n",
       "      <td>0</td>\n",
       "      <td>0</td>\n",
       "      <td>0</td>\n",
       "      <td>0</td>\n",
       "      <td>0</td>\n",
       "      <td>0</td>\n",
       "      <td>0</td>\n",
       "      <td>0</td>\n",
       "    </tr>\n",
       "    <tr>\n",
       "      <th>4</th>\n",
       "      <td>Rocking the wait list.... Oh well.  I guess it...</td>\n",
       "      <td>0</td>\n",
       "      <td>0</td>\n",
       "      <td>0</td>\n",
       "      <td>0</td>\n",
       "      <td>0</td>\n",
       "      <td>0</td>\n",
       "      <td>0</td>\n",
       "      <td>0</td>\n",
       "      <td>1</td>\n",
       "      <td>0</td>\n",
       "    </tr>\n",
       "    <tr>\n",
       "      <th>...</th>\n",
       "      <td>...</td>\n",
       "      <td>...</td>\n",
       "      <td>...</td>\n",
       "      <td>...</td>\n",
       "      <td>...</td>\n",
       "      <td>...</td>\n",
       "      <td>...</td>\n",
       "      <td>...</td>\n",
       "      <td>...</td>\n",
       "      <td>...</td>\n",
       "      <td>...</td>\n",
       "    </tr>\n",
       "    <tr>\n",
       "      <th>1880</th>\n",
       "      <td>So, on the one hand, throwing up sucks, but......</td>\n",
       "      <td>0</td>\n",
       "      <td>1</td>\n",
       "      <td>0</td>\n",
       "      <td>0</td>\n",
       "      <td>0</td>\n",
       "      <td>0</td>\n",
       "      <td>0</td>\n",
       "      <td>0</td>\n",
       "      <td>0</td>\n",
       "      <td>0</td>\n",
       "    </tr>\n",
       "    <tr>\n",
       "      <th>1881</th>\n",
       "      <td>Wow, so, yes. Yesterday was fun. i went the wh...</td>\n",
       "      <td>0</td>\n",
       "      <td>1</td>\n",
       "      <td>0</td>\n",
       "      <td>0</td>\n",
       "      <td>0</td>\n",
       "      <td>0</td>\n",
       "      <td>0</td>\n",
       "      <td>0</td>\n",
       "      <td>0</td>\n",
       "      <td>0</td>\n",
       "    </tr>\n",
       "    <tr>\n",
       "      <th>1882</th>\n",
       "      <td>A hoy-hoy (if you watch the Simpsons, that's h...</td>\n",
       "      <td>0</td>\n",
       "      <td>0</td>\n",
       "      <td>0</td>\n",
       "      <td>0</td>\n",
       "      <td>0</td>\n",
       "      <td>0</td>\n",
       "      <td>0</td>\n",
       "      <td>0</td>\n",
       "      <td>0</td>\n",
       "      <td>1</td>\n",
       "    </tr>\n",
       "    <tr>\n",
       "      <th>1883</th>\n",
       "      <td>I am absolutely exhausted so, this will probab...</td>\n",
       "      <td>0</td>\n",
       "      <td>1</td>\n",
       "      <td>0</td>\n",
       "      <td>0</td>\n",
       "      <td>0</td>\n",
       "      <td>0</td>\n",
       "      <td>0</td>\n",
       "      <td>0</td>\n",
       "      <td>0</td>\n",
       "      <td>0</td>\n",
       "    </tr>\n",
       "    <tr>\n",
       "      <th>1884</th>\n",
       "      <td>Last night was so fun. I believe it was around...</td>\n",
       "      <td>0</td>\n",
       "      <td>0</td>\n",
       "      <td>0</td>\n",
       "      <td>0</td>\n",
       "      <td>0</td>\n",
       "      <td>0</td>\n",
       "      <td>0</td>\n",
       "      <td>0</td>\n",
       "      <td>1</td>\n",
       "      <td>0</td>\n",
       "    </tr>\n",
       "  </tbody>\n",
       "</table>\n",
       "<p>1885 rows × 11 columns</p>\n",
       "</div>"
      ],
      "text/plain": [
       "                                              Text Post  ID_1000331  \\\n",
       "0     I'm at Kelsey's (Kdawg) house. She's getting r...           0   \n",
       "1     Today was ok. I took lots of Ibuprofen so my f...           0   \n",
       "2     December 7, 1941. \"A date that will live in in...           0   \n",
       "3     Uh oh, I'm in my mode. The one where everythin...           0   \n",
       "4     Rocking the wait list.... Oh well.  I guess it...           0   \n",
       "...                                                 ...         ...   \n",
       "1880  So, on the one hand, throwing up sucks, but......           0   \n",
       "1881  Wow, so, yes. Yesterday was fun. i went the wh...           0   \n",
       "1882  A hoy-hoy (if you watch the Simpsons, that's h...           0   \n",
       "1883  I am absolutely exhausted so, this will probab...           0   \n",
       "1884  Last night was so fun. I believe it was around...           0   \n",
       "\n",
       "      ID_1000866  ID_1004904  ID_1005076  ID_1007188  ID_1008329  ID_1009572  \\\n",
       "0              0           0           0           0           1           0   \n",
       "1              1           0           0           0           0           0   \n",
       "2              0           0           0           0           0           0   \n",
       "3              1           0           0           0           0           0   \n",
       "4              0           0           0           0           0           0   \n",
       "...          ...         ...         ...         ...         ...         ...   \n",
       "1880           1           0           0           0           0           0   \n",
       "1881           1           0           0           0           0           0   \n",
       "1882           0           0           0           0           0           0   \n",
       "1883           1           0           0           0           0           0   \n",
       "1884           0           0           0           0           0           0   \n",
       "\n",
       "      ID_1011153  ID_1011311  ID_1013637  \n",
       "0              0           0           0  \n",
       "1              0           0           0  \n",
       "2              0           0           1  \n",
       "3              0           0           0  \n",
       "4              0           1           0  \n",
       "...          ...         ...         ...  \n",
       "1880           0           0           0  \n",
       "1881           0           0           0  \n",
       "1882           0           0           1  \n",
       "1883           0           0           0  \n",
       "1884           0           1           0  \n",
       "\n",
       "[1885 rows x 11 columns]"
      ]
     },
     "execution_count": 6,
     "metadata": {},
     "output_type": "execute_result"
    }
   ],
   "source": [
    "df2"
   ]
  },
  {
   "cell_type": "code",
   "execution_count": null,
   "metadata": {},
   "outputs": [],
   "source": []
  },
  {
   "cell_type": "code",
   "execution_count": null,
   "metadata": {},
   "outputs": [],
   "source": []
  },
  {
   "cell_type": "code",
   "execution_count": null,
   "metadata": {},
   "outputs": [],
   "source": []
  },
  {
   "cell_type": "code",
   "execution_count": 7,
   "metadata": {},
   "outputs": [],
   "source": [
    "training_pctg = 0.1"
   ]
  },
  {
   "cell_type": "code",
   "execution_count": 8,
   "metadata": {},
   "outputs": [],
   "source": [
    "training_sentences = sent_tokenize(''.join(df2[:int(df2.shape[0]*training_pctg)]['Text Post'].tolist()))\n",
    "\n",
    "tokernizer = Tokenizer()\n",
    "tokernizer.fit_on_texts(training_sentences)"
   ]
  },
  {
   "cell_type": "code",
   "execution_count": null,
   "metadata": {},
   "outputs": [],
   "source": []
  },
  {
   "cell_type": "code",
   "execution_count": null,
   "metadata": {},
   "outputs": [],
   "source": []
  },
  {
   "cell_type": "code",
   "execution_count": null,
   "metadata": {},
   "outputs": [],
   "source": []
  },
  {
   "cell_type": "code",
   "execution_count": 9,
   "metadata": {},
   "outputs": [],
   "source": [
    "num_sent_used = 3\n",
    "\n",
    "df2['Encoded Text'] = df2['Text Post'].apply(lambda x: tokernizer.texts_to_matrix(sent_tokenize(x)).transpose())\n",
    "df2['Encoded Text'] = df2['Encoded Text'].apply(lambda x: x[:,:num_sent_used] if x.shape[1]>=num_sent_used else np.concatenate([x,np.zeros([x.shape[0],num_sent_used-x.shape[1]])],axis=1))"
   ]
  },
  {
   "cell_type": "code",
   "execution_count": null,
   "metadata": {},
   "outputs": [],
   "source": []
  },
  {
   "cell_type": "code",
   "execution_count": null,
   "metadata": {},
   "outputs": [],
   "source": []
  },
  {
   "cell_type": "code",
   "execution_count": null,
   "metadata": {},
   "outputs": [],
   "source": []
  },
  {
   "cell_type": "code",
   "execution_count": 10,
   "metadata": {},
   "outputs": [],
   "source": [
    "X = df2['Encoded Text'].values"
   ]
  },
  {
   "cell_type": "code",
   "execution_count": 11,
   "metadata": {},
   "outputs": [],
   "source": [
    "y = df2[[colname for colname in df2.columns.tolist() if 'ID_' in colname]].values"
   ]
  },
  {
   "cell_type": "code",
   "execution_count": 12,
   "metadata": {},
   "outputs": [
    {
     "data": {
      "text/plain": [
       "array([[0., 0., 0.],\n",
       "       [0., 1., 1.],\n",
       "       [0., 0., 1.],\n",
       "       ...,\n",
       "       [0., 0., 0.],\n",
       "       [0., 0., 0.],\n",
       "       [0., 0., 0.]])"
      ]
     },
     "execution_count": 12,
     "metadata": {},
     "output_type": "execute_result"
    }
   ],
   "source": [
    "X[1]"
   ]
  },
  {
   "cell_type": "code",
   "execution_count": 13,
   "metadata": {},
   "outputs": [
    {
     "data": {
      "text/plain": [
       "array([0, 1, 0, 0, 0, 0, 0, 0, 0, 0], dtype=uint8)"
      ]
     },
     "execution_count": 13,
     "metadata": {},
     "output_type": "execute_result"
    }
   ],
   "source": [
    "y[1]"
   ]
  },
  {
   "cell_type": "code",
   "execution_count": null,
   "metadata": {},
   "outputs": [],
   "source": []
  },
  {
   "cell_type": "code",
   "execution_count": null,
   "metadata": {},
   "outputs": [],
   "source": []
  },
  {
   "cell_type": "code",
   "execution_count": null,
   "metadata": {},
   "outputs": [],
   "source": []
  },
  {
   "cell_type": "code",
   "execution_count": 14,
   "metadata": {},
   "outputs": [],
   "source": [
    "from sklearn.ensemble import RandomForestClassifier"
   ]
  },
  {
   "cell_type": "code",
   "execution_count": 15,
   "metadata": {},
   "outputs": [],
   "source": [
    "Xv = np.array([x.reshape(-1) for x in X])\n",
    "yv = y"
   ]
  },
  {
   "cell_type": "code",
   "execution_count": 16,
   "metadata": {},
   "outputs": [],
   "source": [
    "randomized_indices = rnd.permutation(np.arange(0,Xv.shape[0]))"
   ]
  },
  {
   "cell_type": "code",
   "execution_count": 17,
   "metadata": {},
   "outputs": [],
   "source": [
    "tt_index = int(len(randomized_indices)*0.85)"
   ]
  },
  {
   "cell_type": "code",
   "execution_count": 18,
   "metadata": {},
   "outputs": [],
   "source": [
    "Xv_train = Xv[:tt_index]\n",
    "yv_train = yv[:tt_index]\n",
    "\n",
    "Xv_test = Xv[tt_index:]\n",
    "yv_test = yv[tt_index:]"
   ]
  },
  {
   "cell_type": "code",
   "execution_count": 19,
   "metadata": {},
   "outputs": [],
   "source": [
    "rfc = RandomForestClassifier()"
   ]
  },
  {
   "cell_type": "code",
   "execution_count": 20,
   "metadata": {},
   "outputs": [
    {
     "name": "stderr",
     "output_type": "stream",
     "text": [
      "C:\\Users\\Jan\\Anaconda3\\lib\\site-packages\\sklearn\\ensemble\\forest.py:248: FutureWarning: The default value of n_estimators will change from 10 in version 0.20 to 100 in 0.22.\n",
      "  \"10 in version 0.20 to 100 in 0.22.\", FutureWarning)\n"
     ]
    },
    {
     "data": {
      "text/plain": [
       "RandomForestClassifier(bootstrap=True, class_weight=None, criterion='gini',\n",
       "            max_depth=None, max_features='auto', max_leaf_nodes=None,\n",
       "            min_impurity_decrease=0.0, min_impurity_split=None,\n",
       "            min_samples_leaf=1, min_samples_split=2,\n",
       "            min_weight_fraction_leaf=0.0, n_estimators=10, n_jobs=None,\n",
       "            oob_score=False, random_state=None, verbose=0,\n",
       "            warm_start=False)"
      ]
     },
     "execution_count": 20,
     "metadata": {},
     "output_type": "execute_result"
    }
   ],
   "source": [
    "rfc.fit(Xv_train,yv_train)"
   ]
  },
  {
   "cell_type": "code",
   "execution_count": 21,
   "metadata": {},
   "outputs": [
    {
     "data": {
      "text/plain": [
       "0.31095406360424027"
      ]
     },
     "execution_count": 21,
     "metadata": {},
     "output_type": "execute_result"
    }
   ],
   "source": [
    "rfc.score(Xv_test,yv_test)"
   ]
  },
  {
   "cell_type": "code",
   "execution_count": null,
   "metadata": {},
   "outputs": [],
   "source": []
  }
 ],
 "metadata": {
  "kernelspec": {
   "display_name": "Python 3",
   "language": "python",
   "name": "python3"
  },
  "language_info": {
   "codemirror_mode": {
    "name": "ipython",
    "version": 3
   },
   "file_extension": ".py",
   "mimetype": "text/x-python",
   "name": "python",
   "nbconvert_exporter": "python",
   "pygments_lexer": "ipython3",
   "version": "3.6.5"
  }
 },
 "nbformat": 4,
 "nbformat_minor": 2
}
