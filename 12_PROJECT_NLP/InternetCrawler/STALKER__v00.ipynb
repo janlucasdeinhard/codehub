{
 "cells": [
  {
   "cell_type": "code",
   "execution_count": 1,
   "metadata": {},
   "outputs": [],
   "source": [
    "import numpy as np\n",
    "from numpy import random as rnd\n",
    "from matplotlib import pyplot as plt\n",
    "import os,warnings,math,time,datetime\n",
    "\n",
    "import torch\n",
    "import pandas as pd\n",
    "\n",
    "from itertools import product\n",
    "\n",
    "import requests\n",
    "from bs4 import BeautifulSoup\n",
    "\n",
    "from googlesearch import search"
   ]
  },
  {
   "cell_type": "code",
   "execution_count": 2,
   "metadata": {},
   "outputs": [],
   "source": [
    "import nltk\n",
    "from langdetect import detect_langs\n",
    "import pycountry"
   ]
  },
  {
   "cell_type": "code",
   "execution_count": 40,
   "metadata": {},
   "outputs": [],
   "source": [
    "try: \n",
    "    nltk.data.find('corpora/names')\n",
    "except:\n",
    "    nltk.download('names')\n",
    "names_list = set([k.lower() for k in nltk.corpus.names.words()])"
   ]
  },
  {
   "cell_type": "code",
   "execution_count": 62,
   "metadata": {},
   "outputs": [],
   "source": [
    "info_cities = pd.read_csv('..\\..\\TF_data\\Countries\\worldcitiespop.csv',low_memory=False)\n",
    "cities = set(info_cities[info_cities['Country'].isin(['de','us','gb','fr','es','nl'])]['City'].tolist())"
   ]
  },
  {
   "cell_type": "code",
   "execution_count": 5,
   "metadata": {},
   "outputs": [],
   "source": [
    "query = 'jan-lucas deinhard' \n",
    "\n",
    "res = search(\n",
    "    query,\n",
    "    tld = 'com', \n",
    "    start = 0,\n",
    "    stop = 10, \n",
    "    pause = 2\n",
    ")"
   ]
  },
  {
   "cell_type": "code",
   "execution_count": 6,
   "metadata": {},
   "outputs": [],
   "source": [
    "p = list(res)"
   ]
  },
  {
   "cell_type": "code",
   "execution_count": 48,
   "metadata": {},
   "outputs": [],
   "source": [
    "page = requests.get(p[2])"
   ]
  },
  {
   "cell_type": "code",
   "execution_count": 49,
   "metadata": {
    "scrolled": true
   },
   "outputs": [],
   "source": [
    "soup = BeautifulSoup(page.content,'html.parser')"
   ]
  },
  {
   "cell_type": "code",
   "execution_count": 50,
   "metadata": {},
   "outputs": [
    {
     "name": "stdout",
     "output_type": "stream",
     "text": [
      "/\n",
      "https://rsci.app.link/s1cSf8zJT3?~feature=LoMobileNavBar&~channel=general\n",
      "https://medium.com/topic/\n",
      "https://medium.com/membership?source=upgrade_membership---nav_full------------------------\n",
      "https://medium.com/m/signin?operation=login&redirect=https%3A%2F%2Fmedium.com%2F%40janlucasdeinhard\n",
      "/@janlucasdeinhard/following\n",
      "/@janlucasdeinhard/followers\n",
      "/@janlucasdeinhard\n",
      "/@janlucasdeinhard/has-recommended\n",
      "/@janlucasdeinhard/has-recommended?source=---------1------------------\n",
      "/predict/entanglement-interaction-is-contactless-1dbe40c04db9?source=---------1------------------\n",
      "/@roblea_63049?source=---------1------------------\n",
      "/predict/the-case-of-strange-matter-365247260822?source=---------1------------------\n",
      "/@Ella_alderson?source=---------1------------------\n",
      "/@ASlavitt/the-top-three-coronavirus-priorities-for-the-next-month-9f662c604a81?source=---------1------------------\n",
      "/@ASlavitt?source=---------1------------------\n"
     ]
    }
   ],
   "source": [
    "for l in soup.findAll('a',href=True):\n",
    "    print(l['href'])"
   ]
  },
  {
   "cell_type": "code",
   "execution_count": 53,
   "metadata": {},
   "outputs": [],
   "source": [
    "tok = nltk.tokenize.simple.SpaceTokenizer()\n",
    "\n",
    "name_found_sent = []\n",
    "city_found_sent = []\n",
    "for t in soup.findAll('p'):\n",
    "    s = str(t).lstrip('<p>').rstrip('</p>')\n",
    "    tokenized = [k.lower() for k in tok.tokenize(s)]\n",
    "    names_data = set(tokenized).intersection(names_list)\n",
    "    city_data = set(tokenized).intersection(cities)\n",
    "    if len(names_data)>0: name_found_sent.append([s])\n",
    "    if len(city_data)>0: city_found_sent.append([s]) "
   ]
  },
  {
   "cell_type": "code",
   "execution_count": 54,
   "metadata": {},
   "outputs": [
    {
     "data": {
      "text/plain": [
       "[[' class=\"eq er cj b ck es et cn y\"'],\n",
       " [' class=\"eq er cj b ck es et cn y\"><a class=\"cd ce bm bn bo bp bq br bs bt cf cg bw bx ch ci\" href=\"/@janlucasdeinhard/has-recommended?source=---------1------------------\" rel=\"noopener\">See more</a']]"
      ]
     },
     "execution_count": 54,
     "metadata": {},
     "output_type": "execute_result"
    }
   ],
   "source": [
    "name_found_sent"
   ]
  },
  {
   "cell_type": "code",
   "execution_count": 55,
   "metadata": {},
   "outputs": [
    {
     "data": {
      "text/plain": [
       "[[' class=\"eq er cj b ck es et cn y\"'],\n",
       " [' class=\"eq er cj b ck es et cn y\"><a class=\"cd ce bm bn bo bp bq br bs bt cf cg bw bx ch ci\" href=\"/@janlucasdeinhard/has-recommended?source=---------1------------------\" rel=\"noopener\">See more</a']]"
      ]
     },
     "execution_count": 55,
     "metadata": {},
     "output_type": "execute_result"
    }
   ],
   "source": [
    "city_found_sent"
   ]
  },
  {
   "cell_type": "code",
   "execution_count": null,
   "metadata": {},
   "outputs": [],
   "source": []
  }
 ],
 "metadata": {
  "kernelspec": {
   "display_name": "Python 3",
   "language": "python",
   "name": "python3"
  },
  "language_info": {
   "codemirror_mode": {
    "name": "ipython",
    "version": 3
   },
   "file_extension": ".py",
   "mimetype": "text/x-python",
   "name": "python",
   "nbconvert_exporter": "python",
   "pygments_lexer": "ipython3",
   "version": "3.6.5"
  }
 },
 "nbformat": 4,
 "nbformat_minor": 2
}
