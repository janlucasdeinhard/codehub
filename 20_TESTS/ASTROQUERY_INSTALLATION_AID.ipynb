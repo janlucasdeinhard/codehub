{
 "cells": [
  {
   "cell_type": "code",
   "execution_count": null,
   "metadata": {},
   "outputs": [],
   "source": [
    "!pip uninstall astropy\n",
    "y"
   ]
  },
  {
   "cell_type": "code",
   "execution_count": 6,
   "metadata": {},
   "outputs": [
    {
     "name": "stdout",
     "output_type": "stream",
     "text": [
      "unknown option --path\r\n",
      "usage: python [option] ... [-c cmd | -m mod | file | -] [arg] ...\r\n",
      "Try `python -h' for more information.\r\n"
     ]
    }
   ],
   "source": [
    "!python --path"
   ]
  },
  {
   "cell_type": "code",
   "execution_count": 7,
   "metadata": {},
   "outputs": [
    {
     "data": {
      "text/plain": [
       "['/Users/janlucasdeinhard/Dropbox/My Mac (MacBook-Pro.fritz.box)/Documents/Codehub/Github/pyfiles/20_TESTS',\n",
       " '/opt/anaconda3/lib/python38.zip',\n",
       " '/opt/anaconda3/lib/python3.8',\n",
       " '/opt/anaconda3/lib/python3.8/lib-dynload',\n",
       " '',\n",
       " '/Users/janlucasdeinhard/.local/lib/python3.8/site-packages',\n",
       " '/opt/anaconda3/lib/python3.8/site-packages',\n",
       " '/opt/anaconda3/lib/python3.8/site-packages/aeosa',\n",
       " '/opt/anaconda3/lib/python3.8/site-packages/IPython/extensions',\n",
       " '/Users/janlucasdeinhard/.ipython']"
      ]
     },
     "execution_count": 7,
     "metadata": {},
     "output_type": "execute_result"
    }
   ],
   "source": [
    "import sys\n",
    "sys.path"
   ]
  },
  {
   "cell_type": "code",
   "execution_count": 3,
   "metadata": {},
   "outputs": [
    {
     "name": "stdout",
     "output_type": "stream",
     "text": [
      "\u001b[33mWARNING: Package(s) not found: astroquery\u001b[0m\r\n"
     ]
    }
   ],
   "source": [
    "!pip show astroquery"
   ]
  },
  {
   "cell_type": "code",
   "execution_count": 2,
   "metadata": {},
   "outputs": [
    {
     "name": "stdout",
     "output_type": "stream",
     "text": [
      "Found existing installation: astroquery 0.4.2.dev6601\n",
      "Uninstalling astroquery-0.4.2.dev6601:\n",
      "  Would remove:\n",
      "    /opt/anaconda3/lib/python3.8/site-packages/astroquery-0.4.2.dev6601-py3.8.egg\n",
      "Proceed (y/n)?   Successfully uninstalled astroquery-0.4.2.dev6601\n"
     ]
    }
   ],
   "source": [
    "!echo y | pip uninstall astroquery"
   ]
  },
  {
   "cell_type": "code",
   "execution_count": 35,
   "metadata": {},
   "outputs": [
    {
     "name": "stdout",
     "output_type": "stream",
     "text": [
      "CHANGES.rst      README.rst       \u001b[34mdocs\u001b[m\u001b[m             pytest.ini\r\n",
      "\u001b[35mCITATION\u001b[m\u001b[m         \u001b[34m__pycache__\u001b[m\u001b[m      \u001b[34mfrontpage\u001b[m\u001b[m        readthedocs.yml\r\n",
      "CONTRIBUTING.rst ah_bootstrap.py  \u001b[34mlicenses\u001b[m\u001b[m         setup.cfg\r\n",
      "LICENSE.rst      \u001b[34mastropy_helpers\u001b[m\u001b[m  pip-requirements \u001b[31msetup.py\u001b[m\u001b[m\r\n",
      "MANIFEST.in      \u001b[34mastroquery\u001b[m\u001b[m       pyproject.toml   tox.ini\r\n"
     ]
    }
   ],
   "source": [
    "!cd astroquery/ ; python setup.py install"
   ]
  },
  {
   "cell_type": "code",
   "execution_count": 34,
   "metadata": {},
   "outputs": [
    {
     "name": "stdout",
     "output_type": "stream",
     "text": [
      "Collecting astropy-helpers==3.1\n",
      "  Using cached astropy_helpers-3.1-py3-none-any.whl\n",
      "Installing collected packages: astropy-helpers\n",
      "  Attempting uninstall: astropy-helpers\n",
      "    Found existing installation: astropy-helpers 4.0.1\n",
      "    Uninstalling astropy-helpers-4.0.1:\n",
      "      Successfully uninstalled astropy-helpers-4.0.1\n",
      "Successfully installed astropy-helpers-3.1\n",
      "\u001b[33mWARNING: You are using pip version 20.3.3; however, version 21.0.1 is available.\n",
      "You should consider upgrading via the '/opt/anaconda3/bin/python -m pip install --upgrade pip' command.\u001b[0m\n"
     ]
    }
   ],
   "source": [
    "!pip install astropy-helpers==3.1"
   ]
  },
  {
   "cell_type": "code",
   "execution_count": 27,
   "metadata": {},
   "outputs": [
    {
     "name": "stdout",
     "output_type": "stream",
     "text": [
      "Name: astropy\r\n",
      "Version: 4.2\r\n",
      "Summary: Astronomy and astrophysics core library\r\n",
      "Home-page: http://astropy.org\r\n",
      "Author: The Astropy Developers\r\n",
      "Author-email: astropy.team@gmail.com\r\n",
      "License: BSD 3-Clause License\r\n",
      "Location: /opt/anaconda3/lib/python3.8/site-packages/astropy-4.2-py3.8-macosx-10.9-x86_64.egg\r\n",
      "Requires: numpy, pyerfa\r\n",
      "Required-by: spectral-cube, radio-beam, pyvo\r\n"
     ]
    }
   ],
   "source": [
    "!pip show astropy"
   ]
  },
  {
   "cell_type": "code",
   "execution_count": null,
   "metadata": {},
   "outputs": [],
   "source": []
  }
 ],
 "metadata": {
  "kernelspec": {
   "display_name": "Python 3",
   "language": "python",
   "name": "python3"
  },
  "language_info": {
   "codemirror_mode": {
    "name": "ipython",
    "version": 3
   },
   "file_extension": ".py",
   "mimetype": "text/x-python",
   "name": "python",
   "nbconvert_exporter": "python",
   "pygments_lexer": "ipython3",
   "version": "3.8.5"
  }
 },
 "nbformat": 4,
 "nbformat_minor": 4
}
