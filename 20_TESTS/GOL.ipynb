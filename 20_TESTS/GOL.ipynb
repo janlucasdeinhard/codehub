{
 "cells": [
  {
   "cell_type": "code",
   "execution_count": 1,
   "metadata": {},
   "outputs": [
    {
     "name": "stdout",
     "output_type": "stream",
     "text": [
      "pygame 1.9.4\n",
      "Hello from the pygame community. https://www.pygame.org/contribute.html\n"
     ]
    }
   ],
   "source": [
    "from time import sleep\n",
    "from random import randint\n",
    "import pygame\n",
    "from pygame.locals import *"
   ]
  },
  {
   "cell_type": "code",
   "execution_count": 2,
   "metadata": {},
   "outputs": [],
   "source": [
    "def count_neighbours(grid, position):\n",
    "    x,y = position\n",
    "    neighbour_cells = [(x - 1, y - 1), (x - 1, y + 0), (x - 1, y + 1),\n",
    "                       (x + 0, y - 1),                 (x + 0, y + 1),\n",
    "                       (x + 1, y - 1), (x + 1, y + 0), (x + 1, y + 1)]\n",
    "    count = 0\n",
    "    for x,y in neighbour_cells:\n",
    "        if x >= 0 and y >= 0:\n",
    "            try:\n",
    "                count += grid[x][y]\n",
    "            except:\n",
    "                pass\n",
    "    return count\n",
    "\n",
    "def make_empty_grid(x, y):\n",
    "    grid = []\n",
    "    for r in range(x):\n",
    "        row = []\n",
    "        for c in range(y):\n",
    "            row.append(0)\n",
    "        grid.append(row)\n",
    "    return grid\n",
    "\n",
    "def make_random_grid(x, y):\n",
    "    grid = []\n",
    "    for r in range(x):\n",
    "        row = []\n",
    "        for c in range(y):\n",
    "            row.append(randint(0,1))\n",
    "        grid.append(row)\n",
    "    return grid\n",
    "\n",
    "def evolve(grid):\n",
    "    x = len(grid)\n",
    "    y = len(grid[0])\n",
    "    new_grid = make_empty_grid(x, y)\n",
    "    for r in range(x):\n",
    "        for c in range(y):\n",
    "            cell = grid[r][c]\n",
    "            neighbours = count_neighbours(grid, (r, c))\n",
    "            if neighbours==3 or (cell and neighbours==2):\n",
    "                new_grid[r][c] = 1  \n",
    "            else:\n",
    "                new_grid[r][c] = 0\n",
    "    return new_grid\n",
    "\n",
    "def draw_block(x, y, alive_color):\n",
    "    block_size = 9\n",
    "    x *= block_size\n",
    "    y *= block_size\n",
    "    center_point = (int(x + (block_size / 2)), int(y + (block_size / 2)))\n",
    "    pygame.draw.circle(screen, alive_color, center_point, int(block_size / 2),0)"
   ]
  },
  {
   "cell_type": "code",
   "execution_count": 3,
   "metadata": {},
   "outputs": [],
   "source": [
    "pygame.init()\n",
    "clock = pygame.time.Clock()\n",
    "\n",
    "xmax = 600 \n",
    "ymax = 600 \n",
    "screen = pygame.display.set_mode((xmax, ymax), RESIZABLE) \n",
    "\n",
    "xlen = int(xmax/9)\n",
    "ylen = int(ymax/9)\n",
    "\n",
    "world = make_random_grid(xlen, ylen)\n",
    "\n",
    "running = True\n",
    "while running:\n",
    "\n",
    "    for x in range(xlen):\n",
    "        for y in range(ylen):\n",
    "            alive = world[x][y]\n",
    "            cell_color = (255,0,0) if alive else (0,0,0)\n",
    "            draw_block(x, y, cell_color)\n",
    "    pygame.display.flip()\n",
    "    world = evolve(world)\n",
    "    \n",
    "    clock.tick(200)\n",
    "    if any([e.type==pygame.KEYDOWN for e in pygame.event.get()]):running=False\n",
    "    for event in pygame.event.get():\n",
    "        if event.type == pygame.QUIT: \n",
    "            break\n",
    "pygame.quit()"
   ]
  },
  {
   "cell_type": "code",
   "execution_count": null,
   "metadata": {},
   "outputs": [],
   "source": []
  }
 ],
 "metadata": {
  "kernelspec": {
   "display_name": "Python 3",
   "language": "python",
   "name": "python3"
  },
  "language_info": {
   "codemirror_mode": {
    "name": "ipython",
    "version": 3
   },
   "file_extension": ".py",
   "mimetype": "text/x-python",
   "name": "python",
   "nbconvert_exporter": "python",
   "pygments_lexer": "ipython3",
   "version": "3.6.5"
  }
 },
 "nbformat": 4,
 "nbformat_minor": 2
}
