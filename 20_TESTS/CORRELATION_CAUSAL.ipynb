{
 "cells": [
  {
   "cell_type": "code",
   "execution_count": 9,
   "metadata": {},
   "outputs": [],
   "source": [
    "import numpy as np \n",
    "from numpy import random as rnd\n",
    "from matplotlib import pyplot as plt\n",
    "import sys,os,datetime,warnings\n",
    "\n",
    "import tensorflow as tf\n",
    "import pandas as pd\n",
    "import seaborn as sns\n",
    "\n",
    "from keras.models import Model,Sequential\n",
    "from keras.layers import Dense,LSTM,Input,BatchNormalization,Conv2D,Conv2DTranspose,Activation,Concatenate,Bidirectional,CuDNNGRU,Dropout,Dot,Flatten,Embedding\n",
    "\n",
    "from sklearn.model_selection import train_test_split\n",
    "\n",
    "from scipy.stats import norm\n",
    "\n",
    "sns.set()\n",
    "warnings.filterwarnings('ignore')"
   ]
  },
  {
   "cell_type": "code",
   "execution_count": 238,
   "metadata": {},
   "outputs": [],
   "source": [
    "class RANDOM_CDF_GENERATOR():\n",
    "    # Initialize\n",
    "    def __init__(self,N_MAX=10,MU_MIN=-5,MU_MAX=5,SIGMA_MIN=0.1,SIGMA_MAX=5):\n",
    "        self.N_MAX = N_MAX\n",
    "        self.MU_MIN = MU_MIN\n",
    "        self.MU_MAX = MU_MAX\n",
    "        self.SIGMA_MIN = SIGMA_MIN\n",
    "        self.SIGMA_MAX = SIGMA_MAX\n",
    "        self.initialized = False\n",
    "        self.generate_parameters()\n",
    "        return\n",
    "    # Once create random parameters\n",
    "    def generate_parameters(self):\n",
    "        self.n_gaussians = rnd.randint(1,self.N_MAX) \n",
    "        self.mu_set = rnd.rand(self.n_gaussians)*(self.MU_MAX - self.MU_MIN) + self.MU_MIN\n",
    "        self.sigma_set = rnd.rand(self.n_gaussians)*(self.SIGMA_MAX - self.SIGMA_MIN) + self.SIGMA_MIN\n",
    "        self.initialized = True\n",
    "        return\n",
    "    # Evaluate PDF at point x\n",
    "    def eval_cdf(self,x):\n",
    "        y = 0\n",
    "        for k in range(self.n_gaussians):\n",
    "            y += (self.sigma_set[k]*norm.cdf(x+self.mu_set[k]))\n",
    "        return y \n",
    "    # Sample PDF with multiple samples\n",
    "    def sample_pdf(self,num_samples=1000):\n",
    "        x = np.arange(self.MU_MIN-5,self.MU_MAX+5,0.01)\n",
    "        y = self.eval_cdf(x)\n",
    "        s = [x[np.argmin((y - ((max(y) - min(y))*rnd.rand()+min(y)))**2)] for k in range(num_samples)]\n",
    "        return s"
   ]
  },
  {
   "cell_type": "code",
   "execution_count": 242,
   "metadata": {},
   "outputs": [
    {
     "data": {
      "text/plain": [
       "[]"
      ]
     },
     "execution_count": 242,
     "metadata": {},
     "output_type": "execute_result"
    },
    {
     "data": {
      "image/png": "[encoded data removed]",
      "text/plain": [
       "<Figure size 432x288 with 1 Axes>"
      ]
     },
     "metadata": {},
     "output_type": "display_data"
    }
   ],
   "source": [
    "g = RANDOM_CDF_GENERATOR()\n",
    "\n",
    "plt.hist(g.sample_pdf())\n",
    "plt.plot()"
   ]
  },
  {
   "cell_type": "code",
   "execution_count": null,
   "metadata": {},
   "outputs": [],
   "source": []
  }
 ],
 "metadata": {
  "kernelspec": {
   "display_name": "Python 3",
   "language": "python",
   "name": "python3"
  },
  "language_info": {
   "codemirror_mode": {
    "name": "ipython",
    "version": 3
   },
   "file_extension": ".py",
   "mimetype": "text/x-python",
   "name": "python",
   "nbconvert_exporter": "python",
   "pygments_lexer": "ipython3",
   "version": "3.6.5"
  }
 },
 "nbformat": 4,
 "nbformat_minor": 2
}
