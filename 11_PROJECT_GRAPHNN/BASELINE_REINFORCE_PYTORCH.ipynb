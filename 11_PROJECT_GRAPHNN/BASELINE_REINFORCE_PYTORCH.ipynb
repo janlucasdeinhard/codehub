{
 "cells": [
  {
   "cell_type": "code",
   "execution_count": 1,
   "metadata": {},
   "outputs": [],
   "source": [
    "import numpy as np\n",
    "from numpy import random as rnd\n",
    "from matplotlib import pyplot as plt\n",
    "import os,warnings,datetime,time,sys,itertools,math\n",
    "\n",
    "import torch\n",
    "import torch.nn as nn\n",
    "import torch.nn.functional as F\n",
    "\n",
    "import pandas as pd\n",
    "\n",
    "import gym"
   ]
  },
  {
   "cell_type": "code",
   "execution_count": 2,
   "metadata": {},
   "outputs": [],
   "source": [
    "class Model(nn.Module):\n",
    "    def __init__(self):\n",
    "        super(Model,self).__init__()\n",
    "        self.in0 = nn.Linear(4,10)\n",
    "        self.out0 = nn.Linear(10,2)\n",
    "    def forward(self,x):\n",
    "        x = F.relu(self.in0(x))\n",
    "        x = F.softmax(self.out0(x))\n",
    "        return x"
   ]
  },
  {
   "cell_type": "code",
   "execution_count": null,
   "metadata": {},
   "outputs": [],
   "source": []
  },
  {
   "cell_type": "code",
   "execution_count": 3,
   "metadata": {},
   "outputs": [],
   "source": [
    "env = gym.make('CartPole-v1')\n",
    "M = Model()\n",
    "\n",
    "action_space = np.arange(env.action_space.n)"
   ]
  },
  {
   "cell_type": "code",
   "execution_count": 29,
   "metadata": {},
   "outputs": [
    {
     "name": "stdout",
     "output_type": "stream",
     "text": [
      "Entering training episode 0...\n",
      "\tStep 1 -> Status done = False, rolling rewards = 1.0\n",
      "\tStep 2 -> Status done = False, rolling rewards = 1.0\n",
      "\tStep 3 -> Status done = False, rolling rewards = 1.0\n",
      "\tStep 4 -> Status done = False, rolling rewards = 1.0\n",
      "\tStep 5 -> Status done = False, rolling rewards = 1.0\n",
      "\tStep 6 -> Status done = False, rolling rewards = 1.0\n",
      "\tStep 7 -> Status done = False, rolling rewards = 1.0\n",
      "\tStep 8 -> Status done = False, rolling rewards = 1.0\n",
      "\tStep 9 -> Status done = False, rolling rewards = 1.0\n",
      "\tStep 10 -> Status done = False, rolling rewards = 1.0\n",
      "\tStep 11 -> Status done = False, rolling rewards = 1.0\n",
      "\tStep 12 -> Status done = False, rolling rewards = 1.0\n",
      "\tStep 13 -> Status done = False, rolling rewards = 1.0\n",
      "\tStep 14 -> Status done = False, rolling rewards = 1.0\n",
      "\tStep 15 -> Status done = False, rolling rewards = 1.0\n",
      "\tStep 16 -> Status done = False, rolling rewards = 1.0\n",
      "\tStep 17 -> Status done = False, rolling rewards = 1.0\n",
      "\tStep 18 -> Status done = False, rolling rewards = 1.0\n",
      "\tStep 19 -> Status done = False, rolling rewards = 1.0\n",
      "\tStep 20 -> Status done = True, rolling rewards = 1.0\n"
     ]
    },
    {
     "name": "stderr",
     "output_type": "stream",
     "text": [
      "<ipython-input-19-8be1b39d1a26>:8: UserWarning: Implicit dimension choice for softmax has been deprecated. Change the call to include dim=X as an argument.\n",
      "  x = F.softmax(self.out0(x))\n"
     ]
    }
   ],
   "source": [
    "c_episode = 0\n",
    "while c_episode < 1:\n",
    "    print('Entering training episode {}...'.format(c_episode))\n",
    "    s_c = env.reset()\n",
    "    states = []\n",
    "    rewards = []\n",
    "    actions = []\n",
    "    done = False\n",
    "    ctr = 1\n",
    "    while not done:\n",
    "        action_probs = M.forward(torch.from_numpy(s_c).float()).detach().numpy()\n",
    "        a_c = rnd.choice(action_space,p=action_probs)\n",
    "        s_c,reward,done,info = env.step(a_c)\n",
    "        states.append(s_c)\n",
    "        rewards.append(reward)\n",
    "        actions.append(action_probs)\n",
    "        if ctr%1==0: print('\\tStep {0} -> Status done = {1}, rolling rewards = {2}'.format(ctr,done,np.mean(rewards)))\n",
    "        ctr += 1\n",
    "    c_episode += 1"
   ]
  },
  {
   "cell_type": "code",
   "execution_count": 30,
   "metadata": {},
   "outputs": [],
   "source": [
    "env.close()"
   ]
  },
  {
   "cell_type": "code",
   "execution_count": null,
   "metadata": {},
   "outputs": [],
   "source": []
  }
 ],
 "metadata": {
  "kernelspec": {
   "display_name": "Python 3",
   "language": "python",
   "name": "python3"
  },
  "language_info": {
   "codemirror_mode": {
    "name": "ipython",
    "version": 3
   },
   "file_extension": ".py",
   "mimetype": "text/x-python",
   "name": "python",
   "nbconvert_exporter": "python",
   "pygments_lexer": "ipython3",
   "version": "3.8.5"
  }
 },
 "nbformat": 4,
 "nbformat_minor": 4
}
