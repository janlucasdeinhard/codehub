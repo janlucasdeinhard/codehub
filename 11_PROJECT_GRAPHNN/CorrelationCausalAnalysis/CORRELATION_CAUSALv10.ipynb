{
 "cells": [
  {
   "cell_type": "code",
   "execution_count": 6,
   "metadata": {},
   "outputs": [
    {
     "name": "stderr",
     "output_type": "stream",
     "text": [
      "Using TensorFlow backend.\n"
     ]
    }
   ],
   "source": [
    "import numpy as np \n",
    "from numpy import random as rnd\n",
    "from matplotlib import pyplot as plt\n",
    "import sys,os,datetime,warnings\n",
    "\n",
    "import tensorflow as tf\n",
    "import pandas as pd\n",
    "import seaborn as sns\n",
    "\n",
    "from keras.models import Model,Sequential\n",
    "from keras.layers import Dense,LSTM,Input,BatchNormalization,Conv2D,Conv2DTranspose,Activation,Concatenate,Bidirectional,CuDNNGRU,Dropout,Dot,Flatten,Embedding\n",
    "\n",
    "from sklearn.model_selection import train_test_split\n",
    "\n",
    "from scipy.stats import norm\n",
    "\n",
    "sns.set()\n",
    "warnings.filterwarnings('ignore')"
   ]
  },
  {
   "cell_type": "code",
   "execution_count": 26,
   "metadata": {},
   "outputs": [],
   "source": [
    "# Creates a randomly shaped PDF from aggregated Gaussians\n",
    "# Provides methods to sample the PDF\n",
    "class RANDOM_PDF_GENERATOR():\n",
    "    # Initialize\n",
    "    def __init__(self,N_MAX=10,MU_MIN=-5,MU_MAX=5,SIGMA_MIN=0.1,SIGMA_MAX=5):\n",
    "        self.N_MAX = N_MAX\n",
    "        self.MU_MIN = MU_MIN\n",
    "        self.MU_MAX = MU_MAX\n",
    "        self.SIGMA_MIN = SIGMA_MIN\n",
    "        self.SIGMA_MAX = SIGMA_MAX\n",
    "        self.initialized = False\n",
    "        self.generate_parameters()\n",
    "        return\n",
    "    # Once create random parameters\n",
    "    def generate_parameters(self):\n",
    "        self.n_gaussians = rnd.randint(1,self.N_MAX) \n",
    "        self.mu_set = rnd.rand(self.n_gaussians)*(self.MU_MAX - self.MU_MIN) + self.MU_MIN\n",
    "        self.sigma_set = rnd.rand(self.n_gaussians)*(self.SIGMA_MAX - self.SIGMA_MIN) + self.SIGMA_MIN\n",
    "        self.initialized = True\n",
    "        return\n",
    "    # Evaluate CDF at point x\n",
    "    def eval_cdf(self,x):\n",
    "        y = 0\n",
    "        for k in range(self.n_gaussians):\n",
    "            y += (self.sigma_set[k]*norm.cdf(x+self.mu_set[k]))\n",
    "        return y \n",
    "    # Sample PDF with multiple samples\n",
    "    def sample_pdf(self,num_samples=1000):\n",
    "        x = np.arange(self.MU_MIN-5,self.MU_MAX+5,0.01)\n",
    "        y = self.eval_cdf(x)\n",
    "        s = [x[np.argmin((y - ((max(y) - min(y))*rnd.rand()+min(y)))**2)] for k in range(num_samples)]\n",
    "        return s"
   ]
  },
  {
   "cell_type": "code",
   "execution_count": 27,
   "metadata": {},
   "outputs": [],
   "source": [
    "class DEPENDENT_PDF():\n",
    "    # Initialize\n",
    "    def __init__(self,seed_pdf,f):\n",
    "        self.seed_pdf = seed_pdf\n",
    "        self.f = f\n",
    "        return\n",
    "    # Sample PDF with multiple samples\n",
    "    def sample_pdf(self,num_samples=1000):\n",
    "        X_o = self.seed_pdf.sample_pdf(num_samples=num_samples)\n",
    "        return [self.f(x) for x in X_o]\n",
    "    # Evaluate PDF with given input\n",
    "    def eval_pdf(self,X_o):\n",
    "        return [self.f(x) for x in X_o]"
   ]
  },
  {
   "cell_type": "code",
   "execution_count": 113,
   "metadata": {},
   "outputs": [],
   "source": [
    "# Hidden variable, generates correlated Y0,Y1\n",
    "X = RANDOM_PDF_GENERATOR()\n",
    "# Correlated observables Y0,Y1\n",
    "Y0 = DEPENDENT_PDF(X,f=lambda x: -2*x+1+0.1*rnd.randn())\n",
    "Y1 = DEPENDENT_PDF(X,f=lambda x: x-2-0.1-0.5*rnd.randn())\n",
    "\n",
    "# Causally related observables Z0,Z1\n",
    "Z0 = RANDOM_PDF_GENERATOR()\n",
    "Z1 = DEPENDENT_PDF(Z0,f=lambda x: -1*x+2+0.7*rnd.randn())"
   ]
  },
  {
   "cell_type": "code",
   "execution_count": 114,
   "metadata": {},
   "outputs": [],
   "source": [
    "df = pd.DataFrame()\n",
    "\n",
    "sX = X.sample_pdf()\n",
    "sZ = Z0.sample_pdf()\n",
    "\n",
    "df['Y0'] = Y0.eval_pdf(sX)\n",
    "df['Y1'] = Y1.eval_pdf(sX)\n",
    "df['Z0'] = sZ\n",
    "df['Z1'] = Z1.eval_pdf(sZ)"
   ]
  },
  {
   "cell_type": "code",
   "execution_count": 121,
   "metadata": {},
   "outputs": [
    {
     "name": "stdout",
     "output_type": "stream",
     "text": [
      "[14:50:00] WARNING: C:/Jenkins/workspace/xgboost-win64_release_0.90/src/objective/regression_obj.cu:152: reg:linear is now deprecated in favor of reg:squarederror.\n",
      "[14:50:00] WARNING: C:/Jenkins/workspace/xgboost-win64_release_0.90/src/objective/regression_obj.cu:152: reg:linear is now deprecated in favor of reg:squarederror.\n"
     ]
    }
   ],
   "source": [
    "from sklearn.neural_network import MLPRegressor\n",
    "from sklearn.ensemble import AdaBoostRegressor,GradientBoostingRegressor,RandomForestRegressor\n",
    "from sklearn.linear_model import LinearRegression\n",
    "from xgboost import XGBRegressor,XGBRFRegressor\n",
    "\n",
    "x,y = df['Y0'].values.reshape(-1,1),df['Y1'].values.reshape(-1,1)\n",
    "#x,y = df['Z0'].values.reshape(-1,1),df['Z1'].values.reshape(-1,1)\n",
    "\n",
    "model_zoo = [\n",
    "    MLPRegressor(),\n",
    "    AdaBoostRegressor(),\n",
    "    GradientBoostingRegressor(),\n",
    "    RandomForestRegressor(),\n",
    "    LinearRegression(),\n",
    "    XGBRegressor(),\n",
    "    XGBRFRegressor()\n",
    "]\n",
    "\n",
    "performance = {}\n",
    "models = {}\n",
    "for clf in model_zoo:\n",
    "    x0,x1,y0,y1 = train_test_split(x,y,shuffle=True)\n",
    "    clf.fit(x0,y0)\n",
    "    clf_name = str(type(clf)).split('.')[-1].replace('>','').replace('\\'','')\n",
    "    performance[clf_name] = clf.score(x1,y1)\n",
    "    models[clf_name] = [clf,clf.score(x1,y1)]"
   ]
  },
  {
   "cell_type": "code",
   "execution_count": 122,
   "metadata": {},
   "outputs": [
    {
     "data": {
      "text/plain": [
       "{'MLPRegressor': 0.9601424512321858,\n",
       " 'AdaBoostRegressor': 0.9590523817912279,\n",
       " 'GradientBoostingRegressor': 0.9578255717820708,\n",
       " 'RandomForestRegressor': 0.9399498049666769,\n",
       " 'LinearRegression': 0.9611267801716805,\n",
       " 'XGBRegressor': 0.960441462809174,\n",
       " 'XGBRFRegressor': 0.9476610587186927}"
      ]
     },
     "execution_count": 122,
     "metadata": {},
     "output_type": "execute_result"
    }
   ],
   "source": [
    "performance"
   ]
  },
  {
   "cell_type": "code",
   "execution_count": null,
   "metadata": {},
   "outputs": [],
   "source": []
  }
 ],
 "metadata": {
  "kernelspec": {
   "display_name": "Python 3",
   "language": "python",
   "name": "python3"
  },
  "language_info": {
   "codemirror_mode": {
    "name": "ipython",
    "version": 3
   },
   "file_extension": ".py",
   "mimetype": "text/x-python",
   "name": "python",
   "nbconvert_exporter": "python",
   "pygments_lexer": "ipython3",
   "version": "3.7.3"
  }
 },
 "nbformat": 4,
 "nbformat_minor": 2
}
