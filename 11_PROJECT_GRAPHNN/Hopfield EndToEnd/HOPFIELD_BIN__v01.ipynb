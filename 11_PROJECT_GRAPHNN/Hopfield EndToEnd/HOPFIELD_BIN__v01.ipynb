{
 "cells": [
  {
   "cell_type": "code",
   "execution_count": 7,
   "metadata": {},
   "outputs": [],
   "source": [
    "import numpy as np\n",
    "from matplotlib import pyplot as plt\n",
    "from numpy import random as rnd\n",
    "import warnings,datetime,os,time,math\n",
    "\n",
    "import torch\n",
    "import pandas as pd\n",
    "\n",
    "from scipy.signal import resample,correlate\n",
    "from scipy import fftpack\n",
    "\n",
    "import networkx as nx\n",
    "\n",
    "import urllib\n",
    "from bs4 import BeautifulSoup\n",
    "from lmfit import Model"
   ]
  },
  {
   "cell_type": "code",
   "execution_count": 263,
   "metadata": {},
   "outputs": [],
   "source": [
    "n_inputs = 5\n",
    "n_outputs = 5\n",
    "\n",
    "n_nodes = n_inputs+n_outputs"
   ]
  },
  {
   "cell_type": "code",
   "execution_count": 264,
   "metadata": {},
   "outputs": [],
   "source": [
    "base_set = 2*(np.array([list(binstr) for binstr in [bin(k)[2:].zfill(n_nodes) for k in range(2**n_nodes)]]).astype(int)-0.5)"
   ]
  },
  {
   "cell_type": "code",
   "execution_count": 265,
   "metadata": {},
   "outputs": [],
   "source": [
    "di = pd.DataFrame(columns=['X','Pr(X)'])\n",
    "di['X'] = list(base_set)\n",
    "\n",
    "di = di.sample(frac=1).reset_index(drop=True)\n",
    "\n",
    "di.loc[:9,'Pr(X)'] = 1\n",
    "di['Pr(X)'] = di['Pr(X)'].fillna(0)\n",
    "\n",
    "di['Pr(X)'] = di['Pr(X)']/di['Pr(X)'].sum()"
   ]
  },
  {
   "cell_type": "code",
   "execution_count": 266,
   "metadata": {},
   "outputs": [
    {
     "data": {
      "text/html": [
       "<div>\n",
       "<style scoped>\n",
       "    .dataframe tbody tr th:only-of-type {\n",
       "        vertical-align: middle;\n",
       "    }\n",
       "\n",
       "    .dataframe tbody tr th {\n",
       "        vertical-align: top;\n",
       "    }\n",
       "\n",
       "    .dataframe thead th {\n",
       "        text-align: right;\n",
       "    }\n",
       "</style>\n",
       "<table border=\"1\" class=\"dataframe\">\n",
       "  <thead>\n",
       "    <tr style=\"text-align: right;\">\n",
       "      <th></th>\n",
       "      <th>X</th>\n",
       "      <th>Pr(X)</th>\n",
       "    </tr>\n",
       "  </thead>\n",
       "  <tbody>\n",
       "    <tr>\n",
       "      <th>0</th>\n",
       "      <td>[-1.0, -1.0, -1.0, -1.0, -1.0, -1.0, 1.0, 1.0,...</td>\n",
       "      <td>0.1</td>\n",
       "    </tr>\n",
       "    <tr>\n",
       "      <th>1</th>\n",
       "      <td>[1.0, -1.0, 1.0, 1.0, -1.0, -1.0, 1.0, -1.0, 1...</td>\n",
       "      <td>0.1</td>\n",
       "    </tr>\n",
       "    <tr>\n",
       "      <th>2</th>\n",
       "      <td>[1.0, 1.0, -1.0, 1.0, 1.0, 1.0, 1.0, -1.0, -1....</td>\n",
       "      <td>0.1</td>\n",
       "    </tr>\n",
       "    <tr>\n",
       "      <th>3</th>\n",
       "      <td>[-1.0, 1.0, -1.0, -1.0, -1.0, 1.0, 1.0, -1.0, ...</td>\n",
       "      <td>0.1</td>\n",
       "    </tr>\n",
       "    <tr>\n",
       "      <th>4</th>\n",
       "      <td>[-1.0, 1.0, -1.0, -1.0, -1.0, -1.0, 1.0, 1.0, ...</td>\n",
       "      <td>0.1</td>\n",
       "    </tr>\n",
       "    <tr>\n",
       "      <th>...</th>\n",
       "      <td>...</td>\n",
       "      <td>...</td>\n",
       "    </tr>\n",
       "    <tr>\n",
       "      <th>1019</th>\n",
       "      <td>[-1.0, 1.0, -1.0, -1.0, -1.0, -1.0, 1.0, 1.0, ...</td>\n",
       "      <td>0.0</td>\n",
       "    </tr>\n",
       "    <tr>\n",
       "      <th>1020</th>\n",
       "      <td>[-1.0, -1.0, -1.0, -1.0, 1.0, 1.0, -1.0, -1.0,...</td>\n",
       "      <td>0.0</td>\n",
       "    </tr>\n",
       "    <tr>\n",
       "      <th>1021</th>\n",
       "      <td>[1.0, 1.0, -1.0, 1.0, -1.0, 1.0, -1.0, -1.0, 1...</td>\n",
       "      <td>0.0</td>\n",
       "    </tr>\n",
       "    <tr>\n",
       "      <th>1022</th>\n",
       "      <td>[-1.0, 1.0, 1.0, -1.0, -1.0, 1.0, -1.0, 1.0, 1...</td>\n",
       "      <td>0.0</td>\n",
       "    </tr>\n",
       "    <tr>\n",
       "      <th>1023</th>\n",
       "      <td>[-1.0, -1.0, -1.0, 1.0, 1.0, 1.0, -1.0, -1.0, ...</td>\n",
       "      <td>0.0</td>\n",
       "    </tr>\n",
       "  </tbody>\n",
       "</table>\n",
       "<p>1024 rows × 2 columns</p>\n",
       "</div>"
      ],
      "text/plain": [
       "                                                      X  Pr(X)\n",
       "0     [-1.0, -1.0, -1.0, -1.0, -1.0, -1.0, 1.0, 1.0,...    0.1\n",
       "1     [1.0, -1.0, 1.0, 1.0, -1.0, -1.0, 1.0, -1.0, 1...    0.1\n",
       "2     [1.0, 1.0, -1.0, 1.0, 1.0, 1.0, 1.0, -1.0, -1....    0.1\n",
       "3     [-1.0, 1.0, -1.0, -1.0, -1.0, 1.0, 1.0, -1.0, ...    0.1\n",
       "4     [-1.0, 1.0, -1.0, -1.0, -1.0, -1.0, 1.0, 1.0, ...    0.1\n",
       "...                                                 ...    ...\n",
       "1019  [-1.0, 1.0, -1.0, -1.0, -1.0, -1.0, 1.0, 1.0, ...    0.0\n",
       "1020  [-1.0, -1.0, -1.0, -1.0, 1.0, 1.0, -1.0, -1.0,...    0.0\n",
       "1021  [1.0, 1.0, -1.0, 1.0, -1.0, 1.0, -1.0, -1.0, 1...    0.0\n",
       "1022  [-1.0, 1.0, 1.0, -1.0, -1.0, 1.0, -1.0, 1.0, 1...    0.0\n",
       "1023  [-1.0, -1.0, -1.0, 1.0, 1.0, 1.0, -1.0, -1.0, ...    0.0\n",
       "\n",
       "[1024 rows x 2 columns]"
      ]
     },
     "execution_count": 266,
     "metadata": {},
     "output_type": "execute_result"
    }
   ],
   "source": [
    "di"
   ]
  },
  {
   "cell_type": "code",
   "execution_count": 301,
   "metadata": {},
   "outputs": [],
   "source": [
    "xtrain = np.array([list(di.loc[k,'X']) for k in list(rnd.choice(di.index.tolist(),p=di['Pr(X)'].tolist(),size=1000))])\n",
    "xtest = np.array([list(di.loc[k,'X']) for k in list(rnd.choice(di.index.tolist(),p=di['Pr(X)'].tolist(),size=100))])"
   ]
  },
  {
   "cell_type": "code",
   "execution_count": 302,
   "metadata": {},
   "outputs": [],
   "source": [
    "W = np.zeros(shape=[xtrain.shape[1],xtrain.shape[1]])\n",
    "N = xtrain.shape[0]\n",
    "\n",
    "for i in range(xtrain.shape[1]):\n",
    "    for j in range(i,xtrain.shape[1]):\n",
    "        if i==j:\n",
    "            W[i,j] = 0\n",
    "            continue\n",
    "        corr = 0\n",
    "        for x in range(xtrain.shape[0]):\n",
    "            corr += (xtrain[x,i]*xtrain[x,j])\n",
    "        corr /= N\n",
    "        W[i,j] = corr\n",
    "        W[j,i] = corr"
   ]
  },
  {
   "cell_type": "code",
   "execution_count": 303,
   "metadata": {},
   "outputs": [
    {
     "name": "stderr",
     "output_type": "stream",
     "text": [
      "C:\\Users\\Jan\\Anaconda3\\lib\\site-packages\\networkx\\drawing\\nx_pylab.py:611: MatplotlibDeprecationWarning: isinstance(..., numbers.Number)\n",
      "  if cb.is_numlike(alpha):\n"
     ]
    },
    {
     "data": {
      "image/png": "[encoded data removed]",
      "text/plain": [
       "<Figure size 1080x360 with 2 Axes>"
      ]
     },
     "metadata": {},
     "output_type": "display_data"
    }
   ],
   "source": [
    "fig,ax = plt.subplots(1,2,figsize=(15,5))\n",
    "\n",
    "G = nx.from_numpy_array(W)\n",
    "\n",
    "nx.draw(G, with_labels=True, font_weight='bold',ax=ax[0])\n",
    "ax[1].imshow(W,cmap='hot',interpolation='nearest')\n",
    "\n",
    "plt.show()"
   ]
  },
  {
   "cell_type": "code",
   "execution_count": 304,
   "metadata": {},
   "outputs": [
    {
     "name": "stdout",
     "output_type": "stream",
     "text": [
      "[0. 0. 0. 0. 0. 0. 0. 0. 0. 0.]\n",
      "[0. 0. 0. 0. 0. 1. 1. 0. 0. 0.]\n",
      "[0. 0. 0. 0. 0. 0. 0. 0. 1. 0.]\n",
      "[0. 0. 0. 0. 0. 0. 1. 0. 0. 0.]\n",
      "[0. 0. 0. 0. 0. 1. 0. 0. 1. 0.]\n",
      "[0. 0. 0. 0. 0. 0. 1. 0. 1. 0.]\n",
      "[0. 0. 0. 0. 0. 0. 0. 0. 1. 0.]\n",
      "[0. 0. 0. 0. 0. 1. 0. 0. 0. 1.]\n",
      "[0. 0. 0. 0. 0. 0. 0. 0. 0. 1.]\n",
      "[0. 0. 0. 0. 0. 1. 0. 1. 1. 1.]\n",
      "[0. 0. 0. 0. 0. 0. 0. 0. 0. 1.]\n",
      "[0. 0. 0. 0. 0. 1. 1. 0. 0. 0.]\n",
      "[0. 0. 0. 0. 0. 0. 0. 0. 0. 0.]\n",
      "[0. 0. 0. 0. 0. 0. 0. 0. 1. 0.]\n",
      "[0. 0. 0. 0. 0. 1. 1. 0. 0. 0.]\n",
      "[0. 0. 0. 0. 0. 1. 1. 0. 0. 0.]\n",
      "[0. 0. 0. 0. 0. 0. 0. 1. 1. 1.]\n",
      "[0. 0. 0. 0. 0. 1. 0. 1. 1. 1.]\n",
      "[0. 0. 0. 0. 0. 1. 0. 0. 1. 0.]\n",
      "[0. 0. 0. 0. 0. 0. 0. 1. 1. 1.]\n",
      "[0. 0. 0. 0. 0. 0. 0. 0. 1. 0.]\n",
      "[0. 0. 0. 0. 0. 0. 0. 0. 0. 0.]\n",
      "[0. 0. 0. 0. 0. 1. 0. 1. 1. 1.]\n",
      "[0. 0. 0. 0. 0. 1. 0. 0. 0. 1.]\n",
      "[0. 0. 0. 0. 0. 0. 0. 1. 1. 1.]\n",
      "[0. 0. 0. 0. 0. 0. 0. 0. 0. 0.]\n",
      "[0. 0. 0. 0. 0. 0. 0. 0. 0. 0.]\n",
      "[0. 0. 0. 0. 0. 0. 0. 1. 0. 0.]\n",
      "[0. 0. 0. 0. 0. 0. 0. 1. 1. 1.]\n",
      "[0. 0. 0. 0. 0. 0. 0. 0. 0. 0.]\n",
      "[0. 0. 0. 0. 0. 0. 1. 1. 1. 1.]\n",
      "[0. 0. 0. 0. 0. 1. 0. 0. 0. 0.]\n",
      "[0. 0. 0. 0. 0. 1. 1. 0. 0. 0.]\n",
      "[0. 0. 0. 0. 0. 0. 0. 0. 0. 0.]\n",
      "[0. 0. 0. 0. 0. 1. 0. 1. 1. 1.]\n",
      "[0. 0. 0. 0. 0. 0. 0. 0. 0. 1.]\n",
      "[0. 0. 0. 0. 0. 0. 0. 0. 0. 0.]\n",
      "[0. 0. 0. 0. 0. 0. 0. 0. 0. 0.]\n",
      "[0. 0. 0. 0. 0. 1. 0. 0. 0. 1.]\n",
      "[0. 0. 0. 0. 0. 0. 0. 0. 0. 1.]\n",
      "[0. 0. 0. 0. 0. 0. 0. 1. 1. 1.]\n",
      "[0. 0. 0. 0. 0. 0. 0. 1. 1. 1.]\n",
      "[0. 0. 0. 0. 0. 0. 0. 0. 0. 0.]\n",
      "[0. 0. 0. 0. 0. 1. 0. 1. 1. 1.]\n",
      "[0. 0. 0. 0. 0. 0. 1. 1. 1. 1.]\n",
      "[0. 0. 0. 0. 0. 0. 0. 0. 0. 0.]\n",
      "[0. 0. 0. 0. 0. 1. 0. 0. 0. 1.]\n",
      "[0. 0. 0. 0. 0. 0. 0. 0. 0. 0.]\n",
      "[0. 0. 0. 0. 0. 0. 0. 0. 0. 0.]\n",
      "[0. 0. 0. 0. 0. 0. 0. 0. 0. 0.]\n",
      "[0. 0. 0. 0. 0. 1. 1. 0. 0. 0.]\n",
      "[0. 0. 0. 0. 0. 1. 0. 0. 0. 0.]\n",
      "[0. 0. 0. 0. 0. 0. 0. 0. 0. 1.]\n",
      "[0. 0. 0. 0. 0. 0. 0. 0. 0. 1.]\n",
      "[0. 0. 0. 0. 0. 0. 0. 0. 1. 0.]\n",
      "[0. 0. 0. 0. 0. 0. 0. 1. 1. 1.]\n",
      "[0. 0. 0. 0. 0. 1. 0. 0. 0. 0.]\n",
      "[0. 0. 0. 0. 0. 0. 0. 0. 0. 1.]\n",
      "[0. 0. 0. 0. 0. 0. 0. 0. 0. 0.]\n",
      "[0. 0. 0. 0. 0. 0. 0. 0. 0. 0.]\n",
      "[0. 0. 0. 0. 0. 0. 0. 0. 0. 1.]\n",
      "[0. 0. 0. 0. 0. 1. 0. 1. 1. 1.]\n",
      "[0. 0. 0. 0. 0. 0. 1. 0. 0. 0.]\n",
      "[0. 0. 0. 0. 0. 1. 1. 0. 0. 0.]\n",
      "[0. 0. 0. 0. 0. 1. 0. 0. 0. 0.]\n",
      "[0. 0. 0. 0. 0. 0. 0. 0. 0. 0.]\n",
      "[0. 0. 0. 0. 0. 0. 0. 0. 0. 0.]\n",
      "[0. 0. 0. 0. 0. 0. 0. 0. 0. 0.]\n",
      "[0. 0. 0. 0. 0. 0. 0. 0. 0. 0.]\n",
      "[0. 0. 0. 0. 0. 0. 1. 1. 1. 1.]\n",
      "[0. 0. 0. 0. 0. 1. 0. 1. 1. 1.]\n",
      "[0. 0. 0. 0. 0. 0. 0. 0. 1. 0.]\n",
      "[0. 0. 0. 0. 0. 0. 1. 1. 1. 1.]\n",
      "[0. 0. 0. 0. 0. 0. 1. 0. 1. 1.]\n",
      "[0. 0. 0. 0. 0. 0. 0. 0. 0. 1.]\n",
      "[0. 0. 0. 0. 0. 1. 0. 0. 0. 1.]\n",
      "[0. 0. 0. 0. 0. 1. 1. 0. 0. 0.]\n",
      "[0. 0. 0. 0. 0. 0. 0. 0. 0. 0.]\n",
      "[0. 0. 0. 0. 0. 0. 0. 0. 0. 0.]\n",
      "[0. 0. 0. 0. 0. 1. 0. 1. 1. 1.]\n",
      "[0. 0. 0. 0. 0. 1. 0. 0. 1. 0.]\n",
      "[0. 0. 0. 0. 0. 1. 0. 0. 0. 1.]\n",
      "[0. 0. 0. 0. 0. 0. 0. 1. 1. 1.]\n",
      "[0. 0. 0. 0. 0. 1. 0. 0. 0. 0.]\n",
      "[0. 0. 0. 0. 0. 0. 0. 0. 1. 0.]\n",
      "[0. 0. 0. 0. 0. 0. 0. 0. 0. 0.]\n",
      "[0. 0. 0. 0. 0. 0. 0. 0. 1. 0.]\n",
      "[0. 0. 0. 0. 0. 1. 0. 0. 0. 0.]\n",
      "[0. 0. 0. 0. 0. 1. 1. 0. 0. 0.]\n",
      "[0. 0. 0. 0. 0. 1. 1. 0. 0. 0.]\n",
      "[0. 0. 0. 0. 0. 0. 0. 0. 0. 0.]\n",
      "[0. 0. 0. 0. 0. 1. 0. 1. 1. 1.]\n",
      "[0. 0. 0. 0. 0. 1. 0. 1. 0. 0.]\n",
      "[0. 0. 0. 0. 0. 0. 0. 0. 1. 0.]\n",
      "[0. 0. 0. 0. 0. 1. 0. 1. 1. 1.]\n",
      "[0. 0. 0. 0. 0. 0. 0. 0. 0. 0.]\n",
      "[0. 0. 0. 0. 0. 0. 0. 0. 0. 1.]\n",
      "[0. 0. 0. 0. 0. 1. 1. 1. 0. 0.]\n",
      "[0. 0. 0. 0. 0. 0. 0. 0. 0. 0.]\n",
      "[0. 0. 0. 0. 0. 0. 0. 0. 0. 1.]\n"
     ]
    }
   ],
   "source": [
    "xtest_in = xtest[:,:n_inputs]\n",
    "xtest_out = xtest[:,n_outputs:]\n",
    "\n",
    "updatable = list(np.arange(xc_i.shape[0],n_nodes))\n",
    "\n",
    "for ctr in range(xtest.shape[0]):\n",
    "    \n",
    "    xc_i = xtest_in[ctr]\n",
    "    xc_o = xtest_out[ctr]\n",
    "\n",
    "    s = np.concatenate([xc_i,rnd.randn(xc_o.shape[0])])\n",
    "    sp = np.concatenate([xc_i,xc_o])\n",
    "    for node in updatable:\n",
    "        act = 0\n",
    "        for n in range(W.shape[0]):\n",
    "            act += W[node,n]*s[n]\n",
    "        if act>=0:\n",
    "            s[node] = 1\n",
    "        else:\n",
    "            s[node] = -1\n",
    "\n",
    "    print(np.sign(np.abs(s-sp)))"
   ]
  },
  {
   "cell_type": "code",
   "execution_count": 299,
   "metadata": {},
   "outputs": [
    {
     "data": {
      "text/plain": [
       "(25, 10)"
      ]
     },
     "execution_count": 299,
     "metadata": {},
     "output_type": "execute_result"
    }
   ],
   "source": [
    "xtest.shape"
   ]
  },
  {
   "cell_type": "code",
   "execution_count": 289,
   "metadata": {},
   "outputs": [
    {
     "data": {
      "text/plain": [
       "array([ 1., -1., -1., -1.,  1., -1.,  1., -1., -1., -1.])"
      ]
     },
     "execution_count": 289,
     "metadata": {},
     "output_type": "execute_result"
    }
   ],
   "source": [
    "sp"
   ]
  },
  {
   "cell_type": "code",
   "execution_count": 278,
   "metadata": {},
   "outputs": [
    {
     "data": {
      "text/plain": [
       "3     [1.0, 1.0, -1.0, 1.0, 1.0]\n",
       "4    [-1.0, 1.0, 1.0, -1.0, 1.0]\n",
       "Name: X, dtype: object"
      ]
     },
     "execution_count": 278,
     "metadata": {},
     "output_type": "execute_result"
    }
   ],
   "source": [
    "di[(di['Pr(X)']!=0)&(di['X'].apply(lambda x: (x[:5]-s[:5]).sum()==0))]['X'].apply(lambda x: x[-5:])"
   ]
  },
  {
   "cell_type": "code",
   "execution_count": null,
   "metadata": {},
   "outputs": [],
   "source": []
  }
 ],
 "metadata": {
  "kernelspec": {
   "display_name": "Python 3",
   "language": "python",
   "name": "python3"
  },
  "language_info": {
   "codemirror_mode": {
    "name": "ipython",
    "version": 3
   },
   "file_extension": ".py",
   "mimetype": "text/x-python",
   "name": "python",
   "nbconvert_exporter": "python",
   "pygments_lexer": "ipython3",
   "version": "3.6.5"
  }
 },
 "nbformat": 4,
 "nbformat_minor": 2
}
