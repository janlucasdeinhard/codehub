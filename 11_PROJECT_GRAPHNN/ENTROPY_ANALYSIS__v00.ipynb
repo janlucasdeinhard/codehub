{
 "cells": [
  {
   "cell_type": "code",
   "execution_count": 86,
   "metadata": {},
   "outputs": [],
   "source": [
    "import numpy as np\n",
    "from matplotlib import pyplot as plt\n",
    "from numpy import random as rnd\n",
    "import warnings,os,sys,time,datetime\n",
    "\n",
    "import torch\n",
    "\n",
    "import torchvision\n",
    "from torch import nn\n",
    "from torch.nn import functional as F\n",
    "\n",
    "import pandas as pd\n",
    "\n",
    "from sklearn.cluster import KMeans\n",
    "\n",
    "from scipy import ndimage"
   ]
  },
  {
   "cell_type": "code",
   "execution_count": 45,
   "metadata": {},
   "outputs": [],
   "source": [
    "def calc_entropy(arr,verbose=False,random_seed=-1,num_iter=1000):\n",
    "    if random_seed>0: rnd.seed(random_seed)\n",
    "    arr = arr.reshape(-1)\n",
    "\n",
    "    entr_vec = []\n",
    "    for k in range(num_iter):\n",
    "        c_entropy = abs(rnd.permutation(arr) - arr).sum()/arr.shape[0]\n",
    "        entr_vec.append(c_entropy)\n",
    "    entropy = sum(entr_vec)/len(entr_vec)\n",
    "    stat_confidence = 1/(num_iter*np.var(entr_vec - entropy))\n",
    "    if verbose: print(entropy)\n",
    "    return entropy,stat_confidence"
   ]
  },
  {
   "cell_type": "code",
   "execution_count": 3,
   "metadata": {},
   "outputs": [],
   "source": [
    "def binarize_image(xx,verbose=False):\n",
    "    o_shape = xx.shape\n",
    "    xout = KMeans(n_clusters=2).fit_predict(xx.flatten().reshape(-1,1)).reshape(o_shape)\n",
    "    if verbose:\n",
    "        plt.imshow(xout)\n",
    "        plt.show()\n",
    "    return xout"
   ]
  },
  {
   "cell_type": "code",
   "execution_count": 64,
   "metadata": {},
   "outputs": [],
   "source": [
    "def preprocessing_pipeline_images(X0):\n",
    "    # Resize images to scale 0.5\n",
    "    #X0 = ndimage.zoom(X0,[1,0.5,0.5])\n",
    "    # Binarize image\n",
    "    X0 = binarize_image(X0)\n",
    "    \n",
    "    # Return preprocessed images\n",
    "    return X0"
   ]
  },
  {
   "cell_type": "code",
   "execution_count": 65,
   "metadata": {},
   "outputs": [],
   "source": [
    "dataset = torchvision.datasets.MNIST(\n",
    "    root='./../../../../../../../Dropbox/TF_data/MNIST/',\n",
    "    download=True,\n",
    "    train=True,\n",
    "    transform=torchvision.transforms.Compose([\n",
    "                               torchvision.transforms.ToTensor(),\n",
    "                               torchvision.transforms.Normalize(\n",
    "                                 (0.1307,), (0.3081,))])\n",
    ")"
   ]
  },
  {
   "cell_type": "code",
   "execution_count": 66,
   "metadata": {},
   "outputs": [],
   "source": [
    "train_loader = torch.utils.data.DataLoader(dataset,shuffle=True,batch_size=100)"
   ]
  },
  {
   "cell_type": "code",
   "execution_count": 67,
   "metadata": {},
   "outputs": [],
   "source": [
    "samples = enumerate(train_loader)\n",
    "_,(X,y) = next(samples)\n",
    "\n",
    "X0 = X.numpy().reshape(X.shape[0],X.shape[2],X.shape[3])\n",
    "y0 = y.numpy()"
   ]
  },
  {
   "cell_type": "code",
   "execution_count": 68,
   "metadata": {},
   "outputs": [],
   "source": [
    "X0 = preprocessing_pipeline_images(X0)"
   ]
  },
  {
   "cell_type": "code",
   "execution_count": 69,
   "metadata": {},
   "outputs": [
    {
     "data": {
      "image/png": "[encoded data removed]",
      "text/plain": [
       "<Figure size 432x288 with 1 Axes>"
      ]
     },
     "metadata": {
      "needs_background": "light"
     },
     "output_type": "display_data"
    }
   ],
   "source": [
    "c_index = 74\n",
    "\n",
    "img = X0[c_index]\n",
    "entr,conf = calc_entropy(img)\n",
    "\n",
    "plt.imshow(img)\n",
    "plt.title('Entr = {0:.2f} -- conf {1:.0f}'.format(entr,conf))\n",
    "\n",
    "plt.show()"
   ]
  },
  {
   "cell_type": "code",
   "execution_count": 70,
   "metadata": {},
   "outputs": [
    {
     "data": {
      "image/png": "[encoded data removed]",
      "text/plain": [
       "<Figure size 432x288 with 1 Axes>"
      ]
     },
     "metadata": {
      "needs_background": "light"
     },
     "output_type": "display_data"
    }
   ],
   "source": [
    "img = rnd.randint(2,size=X0[0].shape)\n",
    "\n",
    "entr,conf = calc_entropy(img)\n",
    "\n",
    "plt.imshow(img)\n",
    "plt.title('Entr = {0:.2f} -- conf {1:.0f}'.format(entr,conf))\n",
    "\n",
    "plt.show()"
   ]
  },
  {
   "cell_type": "code",
   "execution_count": 72,
   "metadata": {},
   "outputs": [
    {
     "data": {
      "image/png": "[encoded data removed]",
      "text/plain": [
       "<Figure size 432x288 with 1 Axes>"
      ]
     },
     "metadata": {
      "needs_background": "light"
     },
     "output_type": "display_data"
    }
   ],
   "source": [
    "img = np.concatenate([rnd.randint(2,size=(X0[0].shape[0],14)),np.zeros(shape=(X0[0].shape[0],14))],axis=1)\n",
    "\n",
    "entr,conf = calc_entropy(img)\n",
    "\n",
    "plt.imshow(img)\n",
    "plt.title('Entr = {0:.2f} -- conf {1:.0f}'.format(entr,conf))\n",
    "\n",
    "plt.show()"
   ]
  },
  {
   "cell_type": "code",
   "execution_count": 75,
   "metadata": {},
   "outputs": [
    {
     "data": {
      "image/png": "[encoded data removed]",
      "text/plain": [
       "<Figure size 432x288 with 1 Axes>"
      ]
     },
     "metadata": {
      "needs_background": "light"
     },
     "output_type": "display_data"
    }
   ],
   "source": [
    "c_index = 74\n",
    "\n",
    "img = rnd.permutation(X0[c_index])\n",
    "\n",
    "entr,conf = calc_entropy(img)\n",
    "\n",
    "plt.imshow(img)\n",
    "plt.title('Entr = {0:.2f} -- conf {1:.0f}'.format(entr,conf))\n",
    "\n",
    "plt.show()"
   ]
  },
  {
   "cell_type": "code",
   "execution_count": 79,
   "metadata": {},
   "outputs": [
    {
     "data": {
      "image/png": "[encoded data removed]",
      "text/plain": [
       "<Figure size 432x288 with 2 Axes>"
      ]
     },
     "metadata": {
      "needs_background": "light"
     },
     "output_type": "display_data"
    }
   ],
   "source": [
    "c_index = 50\n",
    "\n",
    "img0 = X0[c_index]\n",
    "img1 = rnd.permutation(X0[c_index])\n",
    "\n",
    "plt.subplot(1,2,1)\n",
    "plt.imshow(img0)\n",
    "plt.subplot(1,2,2)\n",
    "plt.imshow(img1)\n",
    "\n",
    "plt.show()"
   ]
  },
  {
   "cell_type": "code",
   "execution_count": 122,
   "metadata": {},
   "outputs": [],
   "source": [
    "class Net(nn.Module):\n",
    "    # Init network\n",
    "    def __init__(self):\n",
    "        super(Net,self).__init__()\n",
    "        # Conv layers\n",
    "        self.conv1 = nn.Conv2d(1,6,(3,3))\n",
    "        self.conv2 = nn.Conv2d(6,10,(3,3))\n",
    "        # Dense layers\n",
    "        self.dense1 = nn.Linear(250,64)\n",
    "        self.dense2 = nn.Linear(64,2)\n",
    "        # Output layers\n",
    "        self.out_layer = nn.Linear(2,1)\n",
    "    # Forward pass   \n",
    "    def forward(self,x):\n",
    "        # COnv layers\n",
    "        x = F.max_pool2d(F.relu(self.conv1(x)),(2,2))\n",
    "        x = F.dropout(x,p=0.5) \n",
    "        x = F.max_pool2d(F.relu(self.conv2(x)),(2,2))\n",
    "        x = F.dropout(x,p=0.5) \n",
    "        # Flatten\n",
    "        x = x.view(-1,250)\n",
    "        # Dense layers\n",
    "        x = F.relu(self.dense1(x))\n",
    "        x = F.dropout(x,p=0.5)\n",
    "        x = F.relu(self.dense2(x))\n",
    "        x = torch.sigmoid(self.out_layer(x))\n",
    "        return x"
   ]
  },
  {
   "cell_type": "code",
   "execution_count": 123,
   "metadata": {},
   "outputs": [],
   "source": [
    "net = Net()"
   ]
  },
  {
   "cell_type": "code",
   "execution_count": 124,
   "metadata": {},
   "outputs": [
    {
     "data": {
      "text/plain": [
       "tensor([[0.6706],\n",
       "        [0.6699]], grad_fn=<SigmoidBackward>)"
      ]
     },
     "execution_count": 124,
     "metadata": {},
     "output_type": "execute_result"
    }
   ],
   "source": [
    "net(torch.tensor(X0[:2]).reshape(-1,1,28,28).float())"
   ]
  },
  {
   "cell_type": "code",
   "execution_count": null,
   "metadata": {},
   "outputs": [],
   "source": []
  }
 ],
 "metadata": {
  "kernelspec": {
   "display_name": "Python 3",
   "language": "python",
   "name": "python3"
  },
  "language_info": {
   "codemirror_mode": {
    "name": "ipython",
    "version": 3
   },
   "file_extension": ".py",
   "mimetype": "text/x-python",
   "name": "python",
   "nbconvert_exporter": "python",
   "pygments_lexer": "ipython3",
   "version": "3.8.5"
  }
 },
 "nbformat": 4,
 "nbformat_minor": 4
}
