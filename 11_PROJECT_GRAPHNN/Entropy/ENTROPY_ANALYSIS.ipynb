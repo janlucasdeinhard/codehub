{
 "cells": [
  {
   "cell_type": "markdown",
   "metadata": {},
   "source": [
    "# Entropy Image Analytics\n",
    "The purpose of this notebook is to design and evaluate functions which calculate entropy in an image. This is accomplished via comparing the input image to a randomly generated image, i.e. to an image of maximum entropy."
   ]
  },
  {
   "cell_type": "markdown",
   "metadata": {},
   "source": [
    "## Libraries\n",
    "Uses the torchvision dataset for MNIST."
   ]
  },
  {
   "cell_type": "code",
   "execution_count": 47,
   "metadata": {},
   "outputs": [],
   "source": [
    "import numpy as np\n",
    "from matplotlib import pyplot as plt\n",
    "from numpy import random as rnd\n",
    "import warnings,os,sys,time,datetime\n",
    "\n",
    "import torch\n",
    "\n",
    "import torchvision\n",
    "from torch import nn\n",
    "from torch.nn import functional as F\n",
    "\n",
    "import pandas as pd\n",
    "\n",
    "from sklearn.cluster import KMeans\n",
    "\n",
    "from scipy import ndimage,signal"
   ]
  },
  {
   "cell_type": "markdown",
   "metadata": {},
   "source": [
    "## Pipeline function Implementation\n",
    "One-off functions needed to quickly get a first impression of how different entropy analysis techniques will evaluate."
   ]
  },
  {
   "cell_type": "code",
   "execution_count": 2,
   "metadata": {},
   "outputs": [],
   "source": [
    "def binarize_image(xx,verbose=False):\n",
    "    o_shape = xx.shape\n",
    "    xout = KMeans(n_clusters=2).fit_predict(xx.flatten().reshape(-1,1)).reshape(o_shape)\n",
    "    if verbose:\n",
    "        plt.imshow(xout)\n",
    "        plt.show()\n",
    "    return xout"
   ]
  },
  {
   "cell_type": "code",
   "execution_count": 3,
   "metadata": {},
   "outputs": [],
   "source": [
    "def preprocessing_pipeline_images(X0):\n",
    "    # Resize images to scale 0.5\n",
    "    #X0 = ndimage.zoom(X0,[1,0.5,0.5])\n",
    "    # Binarize image\n",
    "    X0 = binarize_image(X0)\n",
    "    \n",
    "    # Return preprocessed images\n",
    "    return X0"
   ]
  },
  {
   "cell_type": "code",
   "execution_count": 43,
   "metadata": {},
   "outputs": [],
   "source": [
    "def plot_imgs_with_entropy(X0,entropy_fun):\n",
    "    \n",
    "    # Setup\n",
    "    fig,ax = plt.subplots(nrows=1,ncols=4,figsize=(15,5))\n",
    "    c_idx = rnd.permutation(X0.shape[0])[0]\n",
    "\n",
    "    # Make random image of same size\n",
    "    img0 = rnd.randint(2,size=X0[0].shape)\n",
    "    entr0 = entropy_fun(img0)\n",
    "    ax[0].imshow(img0)\n",
    "    ax[0].set_title('Entr = {0:.2f}'.format(entr0))\n",
    "    \n",
    "    # Make half-random image\n",
    "    img1 = np.concatenate([rnd.randint(2,size=(X0[0].shape[0],14)),np.zeros(shape=(X0[0].shape[0],14))],axis=1)\n",
    "    entr1 = entropy_fun(img1)\n",
    "    ax[1].imshow(img1)\n",
    "    ax[1].set_title('Entr = {0:.2f}'.format(entr1))\n",
    "    \n",
    "    # Make image with constrained degree of randomness by permutation of sample image\n",
    "    img2 = rnd.permutation(X0[c_idx])\n",
    "    entr2 = entropy_fun(img2)\n",
    "    ax[2].imshow(img2)\n",
    "    ax[2].set_title('Entr = {0:.2f}'.format(entr2))\n",
    "    \n",
    "    # Select arbitrary image from sample collection\n",
    "    img3 = X0[c_idx]\n",
    "    entr3 = entropy_fun(img3)\n",
    "    ax[3].imshow(img3)\n",
    "    ax[3].set_title('Entr = {0:.2f}'.format(entr3))\n",
    "\n",
    "    # Plot final total image\n",
    "    plt.show()\n",
    "    return"
   ]
  },
  {
   "cell_type": "markdown",
   "metadata": {},
   "source": [
    "## Samples Image Load\n",
    "Using sample images from the MNIST torchvision library. These are very low-entroy images. Any correct implementation of an entropy analytics function will produce different outputs for those images as input, or for random inputs."
   ]
  },
  {
   "cell_type": "code",
   "execution_count": 44,
   "metadata": {},
   "outputs": [],
   "source": [
    "# Connect to dataset, should already be downloaded\n",
    "dataset = torchvision.datasets.MNIST(\n",
    "    root='./../../../../../../../Dropbox/TF_data/MNIST/',\n",
    "    download=True,\n",
    "    train=True,\n",
    "    transform=torchvision.transforms.Compose([torchvision.transforms.ToTensor(),torchvision.transforms.Normalize((0.1307,), (0.3081,))])\n",
    ")\n",
    "\n",
    "# Loader, select desired number of images\n",
    "train_loader = torch.utils.data.DataLoader(dataset,shuffle=True,batch_size=100)\n",
    "\n",
    "# Transform into torch array\n",
    "samples = enumerate(train_loader)\n",
    "_,(X,y) = next(samples)\n",
    "\n",
    "# Transform into numpy array\n",
    "X0 = X.numpy().reshape(X.shape[0],X.shape[2],X.shape[3])\n",
    "y0 = y.numpy()\n",
    "\n",
    "# Apply preprocessing pipeline\n",
    "X0 = preprocessing_pipeline_images(X0)"
   ]
  },
  {
   "cell_type": "markdown",
   "metadata": {},
   "source": [
    "## Plot Images along with calculated Entropy\n",
    "Plots four images\n",
    "* img0 is taken from the sample collection\n",
    "* img1 is completely random\n",
    "* img2 is half-random, half-deterministic\n",
    "* img3 three is a random permutation of img0\n",
    "In a correct implementation, I would expect \n",
    "        entropy(img0) > entropy(img1) > entropy(img2) > entropy(img3)"
   ]
  },
  {
   "cell_type": "markdown",
   "metadata": {},
   "source": [
    "### Distance-based Entropy Calculation\n",
    "Calculate the entropy based on the average distance of this image to randomly filled images."
   ]
  },
  {
   "cell_type": "code",
   "execution_count": 45,
   "metadata": {},
   "outputs": [],
   "source": [
    "def calc_entropy_distance(arr):\n",
    "    rnd.seed(0)\n",
    "    num_iter = 1000\n",
    "    arr = arr.reshape(-1)\n",
    "    entr_vec = []\n",
    "    for k in range(num_iter):\n",
    "        c_entropy = abs(rnd.permutation(arr) - arr).sum()/arr.shape[0]\n",
    "        entr_vec.append(c_entropy)\n",
    "    entropy = sum(entr_vec)/len(entr_vec)\n",
    "    return entropy"
   ]
  },
  {
   "cell_type": "markdown",
   "metadata": {},
   "source": [
    "The problem with this approach seems to be that it only accounts for the image pixel count. The differences between images img2 and img3 cannot be recovered."
   ]
  },
  {
   "cell_type": "code",
   "execution_count": 46,
   "metadata": {},
   "outputs": [
    {
     "data": {
      "image/png": "[encoded data removed]",
      "text/plain": [
       "<Figure size 1080x360 with 4 Axes>"
      ]
     },
     "metadata": {
      "needs_background": "light"
     },
     "output_type": "display_data"
    }
   ],
   "source": [
    "plot_imgs_with_entropy(X0,entropy_fun=calc_entropy_distance)"
   ]
  },
  {
   "cell_type": "markdown",
   "metadata": {},
   "source": [
    "### Correlation-based approach\n",
    "This suggests that a better option is to use a correlation-based approach. Scipy implements image correlation, but I will first have to investigate how to break this down to one number."
   ]
  },
  {
   "cell_type": "code",
   "execution_count": 184,
   "metadata": {},
   "outputs": [],
   "source": [
    "img0 = X0[1]#rnd.randint(0,2,X0[0].shape)\n",
    "img1 = X0[87]#rnd.randint(0,2,X0[0].shape)\n",
    "\n",
    "Z = signal.correlate(img0,img1)"
   ]
  },
  {
   "cell_type": "code",
   "execution_count": 185,
   "metadata": {},
   "outputs": [
    {
     "data": {
      "image/png": "[encoded data removed]",
      "text/plain": [
       "<Figure size 432x288 with 1 Axes>"
      ]
     },
     "metadata": {
      "needs_background": "light"
     },
     "output_type": "display_data"
    }
   ],
   "source": [
    "plt.imshow(Z)\n",
    "plt.show()"
   ]
  },
  {
   "cell_type": "code",
   "execution_count": 186,
   "metadata": {},
   "outputs": [
    {
     "data": {
      "text/plain": [
       "0.5182481751824818"
      ]
     },
     "execution_count": 186,
     "metadata": {},
     "output_type": "execute_result"
    }
   ],
   "source": [
    "((img0*img1).sum()/(img0.shape[0]*img0.shape[0]))/((img0*img0).sum()/(img0.shape[0]*img0.shape[0]))"
   ]
  },
  {
   "cell_type": "code",
   "execution_count": null,
   "metadata": {},
   "outputs": [],
   "source": []
  }
 ],
 "metadata": {
  "kernelspec": {
   "display_name": "Python 3",
   "language": "python",
   "name": "python3"
  },
  "language_info": {
   "codemirror_mode": {
    "name": "ipython",
    "version": 3
   },
   "file_extension": ".py",
   "mimetype": "text/x-python",
   "name": "python",
   "nbconvert_exporter": "python",
   "pygments_lexer": "ipython3",
   "version": "3.8.5"
  }
 },
 "nbformat": 4,
 "nbformat_minor": 4
}
