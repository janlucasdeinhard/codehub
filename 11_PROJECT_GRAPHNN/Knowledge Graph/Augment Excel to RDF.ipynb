{
 "cells": [
  {
   "cell_type": "code",
   "execution_count": 7,
   "metadata": {},
   "outputs": [],
   "source": [
    "import numpy as np\n",
    "from numpy import random as rnd\n",
    "from matplotlib import pyplot as plt\n",
    "import os,sys,datetime,warnings,math,itertools\n",
    "\n",
    "import pandas as pd\n",
    "\n",
    "from rdflib import Namespace,URIRef,Graph,Literal\n",
    "from urllib.parse import quote"
   ]
  },
  {
   "cell_type": "code",
   "execution_count": 8,
   "metadata": {},
   "outputs": [],
   "source": [
    "EG = Namespace('http://dqflags.com/')\n",
    "\n",
    "def create_eg_uri(name:str) -> URIRef:\n",
    "    '''Take a string and return a valid URI'''\n",
    "    quoted = quote(name.replace(' ','_'))\n",
    "    return EG[quoted]"
   ]
  },
  {
   "cell_type": "code",
   "execution_count": 18,
   "metadata": {},
   "outputs": [],
   "source": [
    "df = pd.read_excel(\n",
    "    io='D:/UserData/z003mxpm/gitdir/GITREPO/TF_Data/Dropbox/PhD Prep/SHS DQ/DQ Flags in CDC.xlsx',\n",
    "    sheet_name='DQ Checks'\n",
    ")"
   ]
  },
  {
   "cell_type": "code",
   "execution_count": 42,
   "metadata": {},
   "outputs": [],
   "source": [
    "df = df.rename(columns={\n",
    "    'Hard Error - more of a warning (N) or a real DQ Error (Y) (Flag)':'Error Is A',\n",
    "    'Check Outdated (Flag)':'Check Status Is',\n",
    "    'Outside of CDC Scope (Flag)':'Scope Is',\n",
    "    'Currently Active (Flag)':'Activity Status Is'\n",
    "})"
   ]
  },
  {
   "cell_type": "code",
   "execution_count": 43,
   "metadata": {},
   "outputs": [],
   "source": [
    "flags_map = {\n",
    "    'Error Is A':{'Y':'Hard Error','N':'Warning'},\n",
    "    'Check Status Is':{'Y':'Outdated','N':'Relevant'},\n",
    "    'Scope Is':{'Y':'World Outside of CDC','N':'Inside CDC'},\n",
    "    'Activity Status Is':{'Y':'Currently Active','N':'Currently Inactive'}\n",
    "}\n",
    "\n",
    "for col in flags_map.keys():\n",
    "    df = df.replace({col:flags_map[col]})"
   ]
  },
  {
   "cell_type": "code",
   "execution_count": 65,
   "metadata": {},
   "outputs": [
    {
     "data": {
      "text/html": [
       "<div>\n",
       "<style scoped>\n",
       "    .dataframe tbody tr th:only-of-type {\n",
       "        vertical-align: middle;\n",
       "    }\n",
       "\n",
       "    .dataframe tbody tr th {\n",
       "        vertical-align: top;\n",
       "    }\n",
       "\n",
       "    .dataframe thead th {\n",
       "        text-align: right;\n",
       "    }\n",
       "</style>\n",
       "<table border=\"1\" class=\"dataframe\">\n",
       "  <thead>\n",
       "    <tr style=\"text-align: right;\">\n",
       "      <th></th>\n",
       "      <th>Domain</th>\n",
       "      <th>Table</th>\n",
       "      <th>Schema</th>\n",
       "      <th>Name</th>\n",
       "      <th>Type</th>\n",
       "      <th>Criterion</th>\n",
       "      <th>Reported In (Main Source)</th>\n",
       "      <th>Original Method of Definition</th>\n",
       "      <th>First Calculation</th>\n",
       "      <th>Dimension</th>\n",
       "      <th>...</th>\n",
       "      <th>Check Status Is</th>\n",
       "      <th>Scope Is</th>\n",
       "      <th>Comment</th>\n",
       "      <th>Business Definition</th>\n",
       "      <th>Activity Status Is</th>\n",
       "      <th>Scope Limitations</th>\n",
       "      <th>Associated Checkpoint ID</th>\n",
       "      <th>Data Steward</th>\n",
       "      <th>Data Quality Lead</th>\n",
       "      <th>Data Owner</th>\n",
       "    </tr>\n",
       "  </thead>\n",
       "  <tbody>\n",
       "    <tr>\n",
       "      <th>135</th>\n",
       "      <td>Accounts</td>\n",
       "      <td>Accounts</td>\n",
       "      <td>CRMCL_TOPICAREA.OSC</td>\n",
       "      <td>Rule 170 - Account Duplicates</td>\n",
       "      <td>DQ Flag</td>\n",
       "      <td>SELECT \\nx.\"Country\",\\nx.\"Type\",\\n'ACCOUNT_ID'...</td>\n",
       "      <td>Data Quality Dashboard</td>\n",
       "      <td>SQL Rule</td>\n",
       "      <td>06_Data_Quality/DQ_Checks_Sahin_Jan</td>\n",
       "      <td>Uniqueness</td>\n",
       "      <td>...</td>\n",
       "      <td>Relevant</td>\n",
       "      <td>Inside CDC</td>\n",
       "      <td>NaN</td>\n",
       "      <td>NaN</td>\n",
       "      <td>Currently Active</td>\n",
       "      <td>NaN</td>\n",
       "      <td>DQ Dashboard</td>\n",
       "      <td>NaN</td>\n",
       "      <td>NaN</td>\n",
       "      <td>NaN</td>\n",
       "    </tr>\n",
       "    <tr>\n",
       "      <th>105</th>\n",
       "      <td>Opportunity</td>\n",
       "      <td>VarianOpportunities</td>\n",
       "      <td>MARTLAYER.CRMCLOUD_VARIAN</td>\n",
       "      <td>Implausible Close Date (Flag)</td>\n",
       "      <td>DQ Flag</td>\n",
       "      <td>NaN</td>\n",
       "      <td>NaN</td>\n",
       "      <td>NaN</td>\n",
       "      <td>NaN</td>\n",
       "      <td>Correctness</td>\n",
       "      <td>...</td>\n",
       "      <td>Relevant</td>\n",
       "      <td>Inside CDC</td>\n",
       "      <td>NaN</td>\n",
       "      <td>NaN</td>\n",
       "      <td>Currently Active</td>\n",
       "      <td>NaN</td>\n",
       "      <td>NaN</td>\n",
       "      <td>NaN</td>\n",
       "      <td>NaN</td>\n",
       "      <td>NaN</td>\n",
       "    </tr>\n",
       "    <tr>\n",
       "      <th>41</th>\n",
       "      <td>Installed Base Retention</td>\n",
       "      <td>Assets</td>\n",
       "      <td>MARTLAYER.CRMCLOUD_OSC</td>\n",
       "      <td>IBR Strategy Expired (Flag)</td>\n",
       "      <td>DQ Flag</td>\n",
       "      <td>NaN</td>\n",
       "      <td>NaN</td>\n",
       "      <td>NaN</td>\n",
       "      <td>NaN</td>\n",
       "      <td>NaN</td>\n",
       "      <td>...</td>\n",
       "      <td>Relevant</td>\n",
       "      <td>Inside CDC</td>\n",
       "      <td>NaN</td>\n",
       "      <td>NaN</td>\n",
       "      <td>Currently Active</td>\n",
       "      <td>NaN</td>\n",
       "      <td>NaN</td>\n",
       "      <td>NaN</td>\n",
       "      <td>NaN</td>\n",
       "      <td>NaN</td>\n",
       "    </tr>\n",
       "    <tr>\n",
       "      <th>18</th>\n",
       "      <td>Pricing</td>\n",
       "      <td>IN_VITRO_Price_Reagents</td>\n",
       "      <td>MARTLAYER.CRMCLOUD_CPQ</td>\n",
       "      <td>Price Valid (Flag)</td>\n",
       "      <td>DQ Flag</td>\n",
       "      <td>unknown check on Data Lake</td>\n",
       "      <td>NaN</td>\n",
       "      <td>NaN</td>\n",
       "      <td>Coming from Data Lake</td>\n",
       "      <td>Validity, Correctness</td>\n",
       "      <td>...</td>\n",
       "      <td>Relevant</td>\n",
       "      <td>World Outside of CDC</td>\n",
       "      <td>NaN</td>\n",
       "      <td>NaN</td>\n",
       "      <td>Currently Active</td>\n",
       "      <td>In-Vitro</td>\n",
       "      <td>NaN</td>\n",
       "      <td>NaN</td>\n",
       "      <td>NaN</td>\n",
       "      <td>NaN</td>\n",
       "    </tr>\n",
       "    <tr>\n",
       "      <th>25</th>\n",
       "      <td>Pricing</td>\n",
       "      <td>Proposals</td>\n",
       "      <td>MARTLAYER.CRMCLOUD_CPQ</td>\n",
       "      <td>Expiration Date Missing (Flag)</td>\n",
       "      <td>DQ Flag</td>\n",
       "      <td>\"Proposal Expiration Date\" IS NULL</td>\n",
       "      <td>NaN</td>\n",
       "      <td>NaN</td>\n",
       "      <td>CHECK_IN_Quotes_2_Proposals</td>\n",
       "      <td>Completeness</td>\n",
       "      <td>...</td>\n",
       "      <td>Relevant</td>\n",
       "      <td>Inside CDC</td>\n",
       "      <td>NaN</td>\n",
       "      <td>NaN</td>\n",
       "      <td>Currently Active</td>\n",
       "      <td>NaN</td>\n",
       "      <td>NaN</td>\n",
       "      <td>NaN</td>\n",
       "      <td>NaN</td>\n",
       "      <td>NaN</td>\n",
       "    </tr>\n",
       "  </tbody>\n",
       "</table>\n",
       "<p>5 rows × 21 columns</p>\n",
       "</div>"
      ],
      "text/plain": [
       "                       Domain                    Table  \\\n",
       "135                  Accounts                 Accounts   \n",
       "105               Opportunity      VarianOpportunities   \n",
       "41   Installed Base Retention                   Assets   \n",
       "18                    Pricing  IN_VITRO_Price_Reagents   \n",
       "25                    Pricing                Proposals   \n",
       "\n",
       "                        Schema                            Name     Type  \\\n",
       "135        CRMCL_TOPICAREA.OSC   Rule 170 - Account Duplicates  DQ Flag   \n",
       "105  MARTLAYER.CRMCLOUD_VARIAN   Implausible Close Date (Flag)  DQ Flag   \n",
       "41      MARTLAYER.CRMCLOUD_OSC     IBR Strategy Expired (Flag)  DQ Flag   \n",
       "18      MARTLAYER.CRMCLOUD_CPQ              Price Valid (Flag)  DQ Flag   \n",
       "25      MARTLAYER.CRMCLOUD_CPQ  Expiration Date Missing (Flag)  DQ Flag   \n",
       "\n",
       "                                             Criterion  \\\n",
       "135  SELECT \\nx.\"Country\",\\nx.\"Type\",\\n'ACCOUNT_ID'...   \n",
       "105                                                NaN   \n",
       "41                                                 NaN   \n",
       "18                          unknown check on Data Lake   \n",
       "25                  \"Proposal Expiration Date\" IS NULL   \n",
       "\n",
       "    Reported In (Main Source) Original Method of Definition  \\\n",
       "135    Data Quality Dashboard                      SQL Rule   \n",
       "105                       NaN                           NaN   \n",
       "41                        NaN                           NaN   \n",
       "18                        NaN                           NaN   \n",
       "25                        NaN                           NaN   \n",
       "\n",
       "                       First Calculation              Dimension  ...  \\\n",
       "135  06_Data_Quality/DQ_Checks_Sahin_Jan             Uniqueness  ...   \n",
       "105                                  NaN            Correctness  ...   \n",
       "41                                   NaN                    NaN  ...   \n",
       "18                 Coming from Data Lake  Validity, Correctness  ...   \n",
       "25           CHECK_IN_Quotes_2_Proposals           Completeness  ...   \n",
       "\n",
       "    Check Status Is              Scope Is Comment Business Definition  \\\n",
       "135        Relevant            Inside CDC     NaN                 NaN   \n",
       "105        Relevant            Inside CDC     NaN                 NaN   \n",
       "41         Relevant            Inside CDC     NaN                 NaN   \n",
       "18         Relevant  World Outside of CDC     NaN                 NaN   \n",
       "25         Relevant            Inside CDC     NaN                 NaN   \n",
       "\n",
       "    Activity Status Is Scope Limitations Associated Checkpoint ID  \\\n",
       "135   Currently Active               NaN             DQ Dashboard   \n",
       "105   Currently Active               NaN                      NaN   \n",
       "41    Currently Active               NaN                      NaN   \n",
       "18    Currently Active          In-Vitro                      NaN   \n",
       "25    Currently Active               NaN                      NaN   \n",
       "\n",
       "    Data Steward Data Quality Lead Data Owner  \n",
       "135          NaN               NaN        NaN  \n",
       "105          NaN               NaN        NaN  \n",
       "41           NaN               NaN        NaN  \n",
       "18           NaN               NaN        NaN  \n",
       "25           NaN               NaN        NaN  \n",
       "\n",
       "[5 rows x 21 columns]"
      ]
     },
     "execution_count": 65,
     "metadata": {},
     "output_type": "execute_result"
    }
   ],
   "source": [
    "df.sample(5)"
   ]
  },
  {
   "cell_type": "code",
   "execution_count": 9,
   "metadata": {},
   "outputs": [],
   "source": [
    "graph =  Graph()"
   ]
  },
  {
   "cell_type": "code",
   "execution_count": 13,
   "metadata": {},
   "outputs": [],
   "source": [
    "s = 'A'\n",
    "p = 'does'\n",
    "o = 'B'\n",
    "\n",
    "s_uri = create_eg_uri(s)\n",
    "p_uri = create_eg_uri(p)\n",
    "o_uri = Literal(o)"
   ]
  },
  {
   "cell_type": "code",
   "execution_count": 14,
   "metadata": {},
   "outputs": [
    {
     "data": {
      "text/plain": [
       "<Graph identifier=Naecc970e0aad4c54af69b95bd9212ff5 (<class 'rdflib.graph.Graph'>)>"
      ]
     },
     "execution_count": 14,
     "metadata": {},
     "output_type": "execute_result"
    }
   ],
   "source": [
    "graph.add((\n",
    "    s_uri,\n",
    "    p_uri,\n",
    "    o_uri\n",
    "))"
   ]
  },
  {
   "cell_type": "code",
   "execution_count": 15,
   "metadata": {},
   "outputs": [
    {
     "data": {
      "text/plain": [
       "'@prefix ns1: <http://dqflags.com/> .\\n\\nns1:A ns1:does \"B\" .\\n\\n'"
      ]
     },
     "execution_count": 15,
     "metadata": {},
     "output_type": "execute_result"
    }
   ],
   "source": [
    "graph.serialize()"
   ]
  },
  {
   "cell_type": "code",
   "execution_count": null,
   "metadata": {},
   "outputs": [],
   "source": []
  }
 ],
 "metadata": {
  "kernelspec": {
   "display_name": "base",
   "language": "python",
   "name": "python3"
  },
  "language_info": {
   "codemirror_mode": {
    "name": "ipython",
    "version": 3
   },
   "file_extension": ".py",
   "mimetype": "text/x-python",
   "name": "python",
   "nbconvert_exporter": "python",
   "pygments_lexer": "ipython3",
   "version": "3.8.5"
  },
  "orig_nbformat": 4,
  "vscode": {
   "interpreter": {
    "hash": "6a0cb29973cce763dbaa7c280e329bb9663b4fa89db7af9a92f045ee092c32c5"
   }
  }
 },
 "nbformat": 4,
 "nbformat_minor": 2
}
