{
 "cells": [
  {
   "cell_type": "code",
   "execution_count": 1,
   "metadata": {},
   "outputs": [],
   "source": [
    "# Imports\n",
    "\n",
    "import numpy as np\n",
    "from numpy import random as rnd\n",
    "from matplotlib import pyplot as plt\n",
    "import os,sys,math,itertools\n",
    "\n",
    "import torch\n",
    "import pandas as pd\n",
    "\n",
    "from scipy import linalg as la"
   ]
  },
  {
   "cell_type": "code",
   "execution_count": 2,
   "metadata": {},
   "outputs": [],
   "source": [
    "class GRAPH():\n",
    "    def __init__(self,N,f=lambda x: x,energy=lambda x: np.linalg.norm(x),MAXHIST=10,norm_energy=1):\n",
    "        # Parameters\n",
    "        self.N = N\n",
    "        # Weight matrix, bias and non-linearity\n",
    "        self.W = rnd.randn(N,N)\n",
    "        self.b = rnd.randn(N)\n",
    "        self.f = f\n",
    "        self.energy = energy\n",
    "        # Init random state\n",
    "        self.norm_energy = norm_energy\n",
    "        self.s = rnd.randn(N)\n",
    "        self.s = self.__normalize(self.s)\n",
    "        self.e = self.energy(self.s)\n",
    "        # State and energy history\n",
    "        self.MAXHIST = MAXHIST\n",
    "        self.S = []\n",
    "        self.E = []\n",
    "        self.S.append(self.s)\n",
    "        self.E.append(self.e)\n",
    "        # Return\n",
    "        return\n",
    "    def set_state(self,s):\n",
    "        self.s = s\n",
    "        self.s = self.__normalize(self.s)\n",
    "        self.e = self.energy(self.s)\n",
    "        self.__update_states_hist(s)\n",
    "        self.__update_energy_hist(self.e)\n",
    "        return\n",
    "    def update(self,steps=1):\n",
    "        for step in range(steps):\n",
    "            self.s = self.f(np.einsum('ij,j->i',self.W,self.s) + self.b)\n",
    "            self.s = self.__normalize(self.s)\n",
    "            self.e = self.energy(self.s)\n",
    "            self.__update_states_hist(self.s)\n",
    "            self.__update_energy_hist(self.e)\n",
    "        return\n",
    "    def __normalize(self,x):\n",
    "        y = x\n",
    "        if self.norm_energy>0:\n",
    "            y /= self.energy(y)\n",
    "            y *= self.norm_energy\n",
    "        return y\n",
    "    def __update_states_hist(self,x):\n",
    "        self.S.append(x)\n",
    "        if self.MAXHIST>0:\n",
    "            if len(self.S)>self.MAXHIST: self.S = self.S[-self.MAXHIST:]\n",
    "        return\n",
    "    def __update_energy_hist(self,x):\n",
    "        self.E.append(x)\n",
    "        if self.MAXHIST>0:\n",
    "            if len(self.E)>self.MAXHIST: self.E = self.E[-self.MAXHIST:]\n",
    "        return"
   ]
  },
  {
   "cell_type": "code",
   "execution_count": 3,
   "metadata": {},
   "outputs": [],
   "source": [
    "def generate_correlated_rnd(dim,R=np.array([[1,0],[0,1]])):\n",
    "    assert R.shape[0]==R.shape[1],'Input R not a proper correlation matrix'\n",
    "    L = np.linalg.cholesky(R)\n",
    "    X = L@rnd.randn(R.shape[0],dim)\n",
    "    return X"
   ]
  },
  {
   "cell_type": "markdown",
   "metadata": {},
   "source": [
    "# Investigating stable energy states of the graph"
   ]
  },
  {
   "cell_type": "code",
   "execution_count": 13,
   "metadata": {},
   "outputs": [],
   "source": [
    "# Network setup\n",
    "\n",
    "relu = lambda x: (x*(x>0)).astype(np.float32)\n",
    "G =GRAPH(N=25,MAXHIST=250,f=relu)"
   ]
  },
  {
   "cell_type": "code",
   "execution_count": 14,
   "metadata": {},
   "outputs": [],
   "source": [
    "G.update(250)"
   ]
  },
  {
   "cell_type": "code",
   "execution_count": 18,
   "metadata": {},
   "outputs": [],
   "source": [
    "import pygame,sys\n",
    "from pygame.time import delay\n",
    "from pygame.locals import *"
   ]
  },
  {
   "cell_type": "code",
   "execution_count": 16,
   "metadata": {},
   "outputs": [],
   "source": [
    "COLORMAP = (255*np.array(G.S[1:]).reshape(len(G.S)-1,5,5)).astype(int)"
   ]
  },
  {
   "cell_type": "code",
   "execution_count": 20,
   "metadata": {},
   "outputs": [
    {
     "ename": "SystemExit",
     "evalue": "",
     "output_type": "error",
     "traceback": [
      "An exception has occurred, use %tb to see the full traceback.\n",
      "\u001b[0;31mSystemExit\u001b[0m\n"
     ]
    }
   ],
   "source": [
    "pygame.init()\n",
    "\n",
    "DISPLAY=pygame.display.set_mode((500,500),0,32)\n",
    "DISPLAY.fill((255,255,255))\n",
    "\n",
    "ctr = 0\n",
    "while True:\n",
    "    for event in pygame.event.get():\n",
    "        if event.type==QUIT:\n",
    "            pygame.quit()\n",
    "            sys.exit()\n",
    "    for nrow in range(5):\n",
    "        for ncol in range(5):\n",
    "            pygame.draw.rect(DISPLAY,(0,0,COLORMAP[min(ctr,len(G.S)-1)-1,nrow,ncol]),(100*ncol,100*nrow,100,100))\n",
    "    ctr += 1\n",
    "    pygame.display.update()\n",
    "    delay(1000)"
   ]
  },
  {
   "cell_type": "code",
   "execution_count": 14,
   "metadata": {},
   "outputs": [],
   "source": [
    "COLORMAP = (255*rnd.randint(0,255,size=(5,5,2))"
   ]
  },
  {
   "cell_type": "code",
   "execution_count": 12,
   "metadata": {},
   "outputs": [
    {
     "data": {
      "text/plain": [
       "101"
      ]
     },
     "execution_count": 12,
     "metadata": {},
     "output_type": "execute_result"
    }
   ],
   "source": [
    "len(G.S)"
   ]
  },
  {
   "cell_type": "code",
   "execution_count": 10,
   "metadata": {},
   "outputs": [
    {
     "data": {
      "text/plain": [
       "array([[136,  45,  36,  41,   0],\n",
       "       [  0,  68,   0,   0, 104],\n",
       "       [ 26,   0,   0,   0,   0],\n",
       "       [  0,  30,   0,   0, 116],\n",
       "       [ 58,  24,  38,   8,  69]])"
      ]
     },
     "execution_count": 10,
     "metadata": {},
     "output_type": "execute_result"
    }
   ],
   "source": [
    "COLORMAP[1,:,:]"
   ]
  },
  {
   "cell_type": "code",
   "execution_count": 11,
   "metadata": {},
   "outputs": [
    {
     "data": {
      "text/plain": [
       "array([[105,  26,  25,   0,  14],\n",
       "       [  0,  77,   0,   0, 123],\n",
       "       [  3,   0,  57,   0,   0],\n",
       "       [  0,   0,   0,   6,  68],\n",
       "       [ 38, 126,   0,   0,  74]])"
      ]
     },
     "execution_count": 11,
     "metadata": {},
     "output_type": "execute_result"
    }
   ],
   "source": [
    "COLORMAP[99,:,:]"
   ]
  },
  {
   "cell_type": "code",
   "execution_count": null,
   "metadata": {},
   "outputs": [],
   "source": []
  }
 ],
 "metadata": {
  "kernelspec": {
   "display_name": "Python 3",
   "language": "python",
   "name": "python3"
  },
  "language_info": {
   "codemirror_mode": {
    "name": "ipython",
    "version": 3
   },
   "file_extension": ".py",
   "mimetype": "text/x-python",
   "name": "python",
   "nbconvert_exporter": "python",
   "pygments_lexer": "ipython3",
   "version": "3.8.5"
  }
 },
 "nbformat": 4,
 "nbformat_minor": 2
}
