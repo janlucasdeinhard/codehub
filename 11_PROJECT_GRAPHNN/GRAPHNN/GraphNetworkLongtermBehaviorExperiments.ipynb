{
 "cells": [
  {
   "cell_type": "code",
   "execution_count": 1,
   "metadata": {},
   "outputs": [],
   "source": [
    "import numpy as np\n",
    "from numpy import random as rnd\n",
    "from matplotlib import pyplot as plt\n",
    "import warnings,os,sys,itertools,math,datetime,time\n",
    "\n",
    "import torch\n",
    "import torch.nn as nn\n",
    "import torch.nn.functional as F\n",
    "\n",
    "import pandas as pd\n",
    "\n",
    "import networkx as nx"
   ]
  },
  {
   "cell_type": "code",
   "execution_count": 191,
   "metadata": {},
   "outputs": [],
   "source": [
    "class GRAPH():\n",
    "    def __init__(\n",
    "            self,\n",
    "            W,\n",
    "            b,\n",
    "            in_nodes=[0,1],\n",
    "            out_nodes=[2],\n",
    "            actfun=lambda x: max(0,x),\n",
    "            enfun=np.linalg.norm,\n",
    "            randomize=[0,0],\n",
    "            allow_self_recurrence=False,\n",
    "            enforced_sparsity_bounds=[0,1],\n",
    "            eps=0.0001,\n",
    "            maxsteps=10000 \n",
    "        ):\n",
    "        self.W = W\n",
    "        self.b = b\n",
    "        self.in_nodes = in_nodes\n",
    "        self.out_nodes = out_nodes\n",
    "        self.sparsity = np.where(self.W==0)[0].shape[0]/(self.W.shape[0]**2)\n",
    "        self.allow_self_recurrence = allow_self_recurrence\n",
    "        self.enforced_sparsity_bounds = enforced_sparsity_bounds\n",
    "        self.n_nodes = b.shape[0]\n",
    "        self.actfun = actfun\n",
    "        self.enfun = enfun\n",
    "        self.s = rnd.randn(self.n_nodes)\n",
    "        self.S = [self.s]\n",
    "        self.E = [self.enfun(self.s)]\n",
    "        self.D = [np.nan]\n",
    "        self.randomize = randomize\n",
    "        self.eps = eps\n",
    "        self.maxsteps = maxsteps\n",
    "        # Settings validations and return\n",
    "        self.self_validate()\n",
    "        return\n",
    "    def force_states(self,s):\n",
    "        self.s = s\n",
    "        return\n",
    "    def step(self,n=1,out=False):\n",
    "        nn = 0\n",
    "        while nn<n:\n",
    "            states = np.einsum('ij,j->i',self.W,self.s) + self.b\n",
    "            states += self.randomize[1]*rnd.randn(self.n_nodes) + self.randomize[0]\n",
    "            self.s = np.array([self.actfun(states[k]) for k in range(states.shape[0])])\n",
    "            self.S.append(self.s)\n",
    "            self.E.append(self.enfun(self.s))\n",
    "            self.D.append(self.enfun(self.S[-1]-self.S[-2]))\n",
    "            nn += 1\n",
    "        if out:\n",
    "            return self.s\n",
    "        else:\n",
    "            return\n",
    "    def apply(self,x):\n",
    "        x = np.array(x)\n",
    "        assert x.shape[0]==len(self.in_nodes),'Input shape does not match configuration'\n",
    "        self.s[self.in_nodes] = x\n",
    "        settled = self.settle()\n",
    "        if not settled:\n",
    "            y = np.nan\n",
    "        else:\n",
    "            y = self.s[self.out_nodes]\n",
    "        return y\n",
    "    def settle(self):\n",
    "        self.step(1)\n",
    "        ctr = 0\n",
    "        while self.D[-1]>self.eps and ctr<self.maxsteps: \n",
    "            self.step(1)\n",
    "            ctr += 1\n",
    "        settled = True\n",
    "        if ctr>=self.maxsteps: \n",
    "            settled = False\n",
    "            print('Could not settle in {0} steps, caught in loop.'.format(self.maxsteps))\n",
    "        return settled\n",
    "    def self_validate(self):\n",
    "        # Weights and biases shapes must match\n",
    "        assert W.shape[0]==W.shape[1] and b.shape[0]==W.shape[0] and len(W.shape)==2 and len(b.shape)==1,'Setup dimensions do not match'\n",
    "        # If the graph should be non-selfrecurrent, test that\n",
    "        if not self.allow_self_recurrence:\n",
    "            assert sum([abs(W[i,i]) for i in range(W.shape[0])])==0,'Graph is self-recurrent when graph specifications state non-self-recurrent graph'\n",
    "        # Test sparsity\n",
    "        assert self.enforced_sparsity_bounds[0]<self.sparsity and self.enforced_sparsity_bounds[1]>self.sparsity,'Sparsity bounds violated: Sparsity = {0}'.format(self.sparsity)\n",
    "        # Validate in and out nodes in weight matrix\n",
    "        assert self.W[self.in_nodes,:].sum()==0 and self.W[:,self.out_nodes].sum()==0 and self.b[self.in_nodes].sum()==0 and self.b[self.out_nodes].sum()==0,'Input/Output nodes incorrectly connected' \n",
    "        # Done with the tests\n",
    "        return"
   ]
  },
  {
   "cell_type": "code",
   "execution_count": 209,
   "metadata": {},
   "outputs": [],
   "source": [
    "Ns = 100\n",
    "\n",
    "# Interaction nodes\n",
    "in0 = [0,1]\n",
    "out0 = [-1]\n",
    "\n",
    "# Weights\n",
    "W = rnd.randn(Ns,Ns)\n",
    "# Assert non-selfrecurrence\n",
    "for k in range(W.shape[0]): W[k,k] = 0\n",
    "# Set input and output nodes\n",
    "W[in0,:] = 0\n",
    "W[:,out0] = 0\n",
    "\n",
    "# Biases\n",
    "b = np.zeros(Ns).reshape(-1)\n",
    "\n",
    "G = GRAPH(\n",
    "    W,\n",
    "    b,\n",
    "    in_nodes=in0,\n",
    "    out_nodes=out0,\n",
    "    #actfun=lambda x: 1/(1+np.exp(-x)),\n",
    "    randomize=[0,0]\n",
    ")"
   ]
  },
  {
   "cell_type": "code",
   "execution_count": 210,
   "metadata": {},
   "outputs": [
    {
     "data": {
      "text/plain": [
       "array([0])"
      ]
     },
     "execution_count": 210,
     "metadata": {},
     "output_type": "execute_result"
    }
   ],
   "source": [
    "G.apply([5,10])"
   ]
  },
  {
   "cell_type": "code",
   "execution_count": 141,
   "metadata": {},
   "outputs": [
    {
     "data": {
      "text/plain": [
       "[<matplotlib.lines.Line2D at 0x7f98b4a5ca60>]"
      ]
     },
     "execution_count": 141,
     "metadata": {},
     "output_type": "execute_result"
    },
    {
     "data": {
      "image/png": "[encoded data removed]",
      "text/plain": [
       "<Figure size 432x288 with 1 Axes>"
      ]
     },
     "metadata": {
      "needs_background": "light"
     },
     "output_type": "display_data"
    }
   ],
   "source": [
    "plt.plot((G.D))"
   ]
  },
  {
   "cell_type": "code",
   "execution_count": 133,
   "metadata": {},
   "outputs": [
    {
     "data": {
      "text/plain": [
       "[<matplotlib.lines.Line2D at 0x7f9890679550>]"
      ]
     },
     "execution_count": 133,
     "metadata": {},
     "output_type": "execute_result"
    },
    {
     "data": {
      "image/png": "[encoded data removed]",
      "text/plain": [
       "<Figure size 432x288 with 1 Axes>"
      ]
     },
     "metadata": {
      "needs_background": "light"
     },
     "output_type": "display_data"
    }
   ],
   "source": [
    "plt.plot(G.E)"
   ]
  },
  {
   "cell_type": "code",
   "execution_count": null,
   "metadata": {},
   "outputs": [],
   "source": []
  }
 ],
 "metadata": {
  "kernelspec": {
   "display_name": "Python 3",
   "language": "python",
   "name": "python3"
  },
  "language_info": {
   "codemirror_mode": {
    "name": "ipython",
    "version": 3
   },
   "file_extension": ".py",
   "mimetype": "text/x-python",
   "name": "python",
   "nbconvert_exporter": "python",
   "pygments_lexer": "ipython3",
   "version": "3.8.5"
  }
 },
 "nbformat": 4,
 "nbformat_minor": 4
}
