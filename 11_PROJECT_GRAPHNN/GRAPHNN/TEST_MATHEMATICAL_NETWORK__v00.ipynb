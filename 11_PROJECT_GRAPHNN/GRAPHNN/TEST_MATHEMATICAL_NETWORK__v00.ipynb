{
 "cells": [
  {
   "cell_type": "markdown",
   "metadata": {},
   "source": [
    "# Network Eigenstate\n",
    "\n",
    "What's the final state a graph network $\\mathcal{G}$ will settle in if provided with input $\\vec{s}_0$ and an update euqation, and then left alone?"
   ]
  },
  {
   "cell_type": "code",
   "execution_count": 1,
   "metadata": {},
   "outputs": [],
   "source": [
    "# Imports\n",
    "\n",
    "import numpy as np\n",
    "from numpy import random as rnd\n",
    "from matplotlib import pyplot as plt\n",
    "import os,sys,math,itertools\n",
    "\n",
    "import torch\n",
    "import pandas as pd\n",
    "\n",
    "from scipy import linalg as la"
   ]
  },
  {
   "cell_type": "code",
   "execution_count": 189,
   "metadata": {},
   "outputs": [],
   "source": [
    "class GRAPH():\n",
    "    def __init__(self,N,f=lambda x: x,energy=lambda x: np.linalg.norm(x),MAXHIST=10,norm_energy=1):\n",
    "        # Parameters\n",
    "        self.N = N\n",
    "        # Weight matrix, bias and non-linearity\n",
    "        self.W = rnd.randn(N,N)\n",
    "        self.b = rnd.randn(N)\n",
    "        self.f = f\n",
    "        self.energy = energy\n",
    "        # Init random state\n",
    "        self.norm_energy = norm_energy\n",
    "        self.s = rnd.randn(N)\n",
    "        self.s = self.__normalize(self.s)\n",
    "        self.e = self.energy(self.s)\n",
    "        # State and energy history\n",
    "        self.MAXHIST = MAXHIST\n",
    "        self.S = []\n",
    "        self.E = []\n",
    "        self.S.append(self.s)\n",
    "        self.E.append(self.e)\n",
    "        # Return\n",
    "        return\n",
    "    def set_state(self,s):\n",
    "        self.s = s\n",
    "        self.s = self.__normalize(self.s)\n",
    "        self.e = self.energy(self.s)\n",
    "        self.__update_states_hist(s)\n",
    "        self.__update_energy_hist(self.e)\n",
    "        return\n",
    "    def update(self,steps=1):\n",
    "        for step in range(steps):\n",
    "            self.s = self.f(np.dot(self.W,self.s) + self.b)\n",
    "            self.s = self.__normalize(self.s)\n",
    "            self.e = self.energy(self.s)\n",
    "            self.__update_states_hist(self.s)\n",
    "            self.__update_energy_hist(self.e)\n",
    "        return\n",
    "    def predict_k_steps_analytically(self,K):\n",
    "        ev,EV = la.eig(self.W)\n",
    "        Lamb = np.diag(ev**0)\n",
    "        for k in range(1,K):\n",
    "            Lamb += np.diag(ev**k)\n",
    "        s_f = EV@(np.diag(ev**K)@np.linalg.inv(EV)@s0 + Lamb@np.linalg.inv(EV)@self.b)\n",
    "        return s_f\n",
    "    def __normalize(self,x):\n",
    "        y = x\n",
    "        if self.norm_energy>0:\n",
    "            y /= self.energy(y)\n",
    "            y *= self.norm_energy\n",
    "        return y\n",
    "    def __update_states_hist(self,x):\n",
    "        self.S.append(x)\n",
    "        if self.MAXHIST>0:\n",
    "            if len(self.S)>self.MAXHIST: self.S = self.S[-self.MAXHIST:]\n",
    "        return\n",
    "    def __update_energy_hist(self,x):\n",
    "        self.E.append(x)\n",
    "        if self.MAXHIST>0:\n",
    "            if len(self.E)>self.MAXHIST: self.E = self.E[-self.MAXHIST:]\n",
    "        return"
   ]
  },
  {
   "cell_type": "markdown",
   "metadata": {},
   "source": [
    "## Analytic Solution"
   ]
  },
  {
   "cell_type": "markdown",
   "metadata": {},
   "source": [
    "For the update function $f(\\vec{x})=\\vec{x}$, the update equation for $\\mathcal{G}$ after $N$ steps becomes\n",
    "$$\n",
    "    \\vec{s}_{N} = \\mathbf{W}^N\\vec{s}_0 + \\sum_{k=0}^N\\mathbf{W}^k\\vec{b}\n",
    "$$\n",
    "Eigendecomposition for $\\mathbf{W}$ yields\n",
    "$$\n",
    "    \\mathbf{W} = \\mathbf{E}\\mathbf{\\Lambda}\\mathbf{E}^{-1}\\Rightarrow\\mathbf{W}^N = \\mathbf{E}\\mathbf{\\Lambda}^N\\mathbf{E}^{-1}\n",
    "$$\n",
    "Therefore $\\vec{s}_N$ can be written as\n",
    "$$\n",
    "    \\vec{s}_N = \\mathbf{E}\\mathbf{\\Lambda}^N\\mathbf{E}^{-1}\\vec{s}_0 + \\sum_{k=0}^{N-1}\\mathbf{E}\\mathbf{\\Lambda}^k\\mathbf{E}^{-1}\\vec{b}\\Leftrightarrow\\vec{s}_N = \\mathbf{E}\\mathbf{\\Lambda}^N\\mathbf{E}^{-1}\\vec{s}_0 + \\sum_{k=0}^{N-1}\\mathbf{E}\\mathbf{\\Lambda}^k\\mathbf{E}^{-1}\\vec{b}\n",
    "$$"
   ]
  },
  {
   "cell_type": "markdown",
   "metadata": {},
   "source": [
    "The expanded version of this is\n",
    "\n",
    "$$\n",
    "\\vec{s}_N = \\mathbf{E}(\\mathbf{\\Lambda}^N\\mathbf{E}^{-1}\\vec{s}_0 + (\\sum_{k=0}^{N-1}\\mathbf{\\Lambda}^k)\\mathbf{E}^{-1}\\vec{b})\n",
    "$$"
   ]
  },
  {
   "cell_type": "code",
   "execution_count": null,
   "metadata": {},
   "outputs": [],
   "source": []
  },
  {
   "cell_type": "code",
   "execution_count": null,
   "metadata": {},
   "outputs": [],
   "source": []
  },
  {
   "cell_type": "code",
   "execution_count": null,
   "metadata": {},
   "outputs": [],
   "source": []
  },
  {
   "cell_type": "code",
   "execution_count": 201,
   "metadata": {},
   "outputs": [],
   "source": [
    "# Network setup\n",
    "\n",
    "G = GRAPH(N=10,f = lambda x: x,norm_energy=-1)\n",
    "#G_A = GRAPH(N=10,f = lambda x: (x>0).astype(int)*x)"
   ]
  },
  {
   "cell_type": "code",
   "execution_count": 203,
   "metadata": {},
   "outputs": [],
   "source": [
    "K = 5\n",
    "\n",
    "# Extract origin state\n",
    "s0 = G.s\n",
    "\n",
    "# Simulate\n",
    "G.update(steps=K)\n",
    "s_sim = G.s\n",
    "\n",
    "# Calculate\n",
    "ev,EV = la.eig(G.W)\n",
    "Lamb = np.diag(ev**0)\n",
    "for k in range(1,K):\n",
    "    Lamb += np.diag(ev**k)\n",
    "s_fc = EV@(np.diag(ev**K)@np.linalg.inv(EV)@s0 + Lamb@np.linalg.inv(EV)@G.b)"
   ]
  },
  {
   "cell_type": "code",
   "execution_count": 204,
   "metadata": {},
   "outputs": [
    {
     "data": {
      "text/plain": [
       "array([ 604.10436883-5.07477128e-13j, -742.6344402 +4.24358804e-13j,\n",
       "       -663.42780616+1.95592238e-13j,  385.17664048+9.61159591e-14j,\n",
       "       -667.1607452 +3.75995317e-13j, -102.48061606-1.92135187e-13j,\n",
       "       -638.22198613+4.38956672e-13j,  532.03687688-5.30936865e-14j,\n",
       "       -158.53752271-1.77970581e-14j,  581.1354347 -1.70380985e-13j])"
      ]
     },
     "execution_count": 204,
     "metadata": {},
     "output_type": "execute_result"
    }
   ],
   "source": [
    "sf"
   ]
  },
  {
   "cell_type": "code",
   "execution_count": 205,
   "metadata": {},
   "outputs": [
    {
     "data": {
      "text/plain": [
       "array([ 604.10436883, -742.6344402 , -663.42780616,  385.17664048,\n",
       "       -667.1607452 , -102.48061606, -638.22198613,  532.03687688,\n",
       "       -158.53752271,  581.1354347 ])"
      ]
     },
     "execution_count": 205,
     "metadata": {},
     "output_type": "execute_result"
    }
   ],
   "source": [
    "s_sim"
   ]
  },
  {
   "cell_type": "code",
   "execution_count": 196,
   "metadata": {},
   "outputs": [
    {
     "data": {
      "text/plain": [
       "array([ 1.69323788+2.06110839e-17j, -0.50533353-2.29866027e-18j,\n",
       "        1.43326592+3.64498066e-16j, -0.10282102+1.84137235e-16j,\n",
       "       -0.42933475-7.75494903e-17j,  0.82976383+6.77752541e-17j,\n",
       "       -1.16373   -6.13169958e-17j,  0.99530108+2.11811999e-16j,\n",
       "       -1.20853336-2.24466144e-16j,  0.38428803+3.48223102e-16j])"
      ]
     },
     "execution_count": 196,
     "metadata": {},
     "output_type": "execute_result"
    }
   ],
   "source": [
    "G_nA.predict_k_steps_analytically(1)"
   ]
  },
  {
   "cell_type": "markdown",
   "metadata": {},
   "source": [
    "Including normalization:\n",
    "$$\n",
    "\\vec{s}_{n+1} = \\frac{\\mathbf{W}\\vec{s}_n + \\vec{b}}{\\left\\|\\mathbf{W}\\vec{s}_n + \\vec{b}\\right\\|}\n",
    "$$"
   ]
  },
  {
   "cell_type": "code",
   "execution_count": 207,
   "metadata": {},
   "outputs": [],
   "source": [
    "x = rnd.randn(3,2)"
   ]
  },
  {
   "cell_type": "code",
   "execution_count": 211,
   "metadata": {},
   "outputs": [
    {
     "data": {
      "text/plain": [
       "array([[ 0.95542747, -2.20372831],\n",
       "       [ 0.31567935, -1.16770473],\n",
       "       [ 0.62473614,  0.41977545]])"
      ]
     },
     "execution_count": 211,
     "metadata": {},
     "output_type": "execute_result"
    }
   ],
   "source": [
    "x"
   ]
  },
  {
   "cell_type": "code",
   "execution_count": 219,
   "metadata": {},
   "outputs": [],
   "source": [
    "y = np.array([[2,1]])"
   ]
  },
  {
   "cell_type": "code",
   "execution_count": 220,
   "metadata": {},
   "outputs": [
    {
     "data": {
      "text/plain": [
       "array([[2, 1]])"
      ]
     },
     "execution_count": 220,
     "metadata": {},
     "output_type": "execute_result"
    }
   ],
   "source": [
    "y"
   ]
  },
  {
   "cell_type": "code",
   "execution_count": 221,
   "metadata": {},
   "outputs": [
    {
     "data": {
      "text/plain": [
       "array([[-0.29287338],\n",
       "       [-0.53634603],\n",
       "       [ 1.66924772]])"
      ]
     },
     "execution_count": 221,
     "metadata": {},
     "output_type": "execute_result"
    }
   ],
   "source": [
    "np.einsum('ij,kj->ik',x,y)"
   ]
  },
  {
   "cell_type": "code",
   "execution_count": null,
   "metadata": {},
   "outputs": [],
   "source": []
  },
  {
   "cell_type": "code",
   "execution_count": null,
   "metadata": {},
   "outputs": [],
   "source": []
  },
  {
   "cell_type": "code",
   "execution_count": null,
   "metadata": {},
   "outputs": [],
   "source": []
  },
  {
   "cell_type": "markdown",
   "metadata": {},
   "source": [
    "# Investigating stable energy states of the graph"
   ]
  },
  {
   "cell_type": "code",
   "execution_count": 51,
   "metadata": {},
   "outputs": [],
   "source": [
    "# Network setup\n",
    "\n",
    "G = GRAPH(N=25,MAXHIST=250)"
   ]
  },
  {
   "cell_type": "code",
   "execution_count": 52,
   "metadata": {},
   "outputs": [],
   "source": [
    "G.update(steps=50)"
   ]
  },
  {
   "cell_type": "code",
   "execution_count": 58,
   "metadata": {},
   "outputs": [
    {
     "data": {
      "text/plain": [
       "[<matplotlib.lines.Line2D at 0x7fe1fd904370>]"
      ]
     },
     "execution_count": 58,
     "metadata": {},
     "output_type": "execute_result"
    },
    {
     "data": {
      "image/png": "[encoded data removed]",
      "text/plain": [
       "<Figure size 432x288 with 1 Axes>"
      ]
     },
     "metadata": {
      "needs_background": "light"
     },
     "output_type": "display_data"
    }
   ],
   "source": [
    "plt.semilogy(G.E)"
   ]
  },
  {
   "cell_type": "code",
   "execution_count": null,
   "metadata": {},
   "outputs": [],
   "source": []
  }
 ],
 "metadata": {
  "kernelspec": {
   "display_name": "Python 3",
   "language": "python",
   "name": "python3"
  },
  "language_info": {
   "codemirror_mode": {
    "name": "ipython",
    "version": 3
   },
   "file_extension": ".py",
   "mimetype": "text/x-python",
   "name": "python",
   "nbconvert_exporter": "python",
   "pygments_lexer": "ipython3",
   "version": "3.8.5"
  }
 },
 "nbformat": 4,
 "nbformat_minor": 2
}
