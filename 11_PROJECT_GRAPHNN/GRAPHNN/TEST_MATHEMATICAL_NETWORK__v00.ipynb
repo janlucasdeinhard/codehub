{
 "cells": [
  {
   "cell_type": "code",
   "execution_count": 1,
   "metadata": {},
   "outputs": [
    {
     "name": "stderr",
     "output_type": "stream",
     "text": [
      "C:\\Users\\Jan\\Anaconda3\\lib\\site-packages\\h5py\\__init__.py:36: FutureWarning: Conversion of the second argument of issubdtype from `float` to `np.floating` is deprecated. In future, it will be treated as `np.float64 == np.dtype(float).type`.\n",
      "  from ._conv import register_converters as _register_converters\n",
      "Using TensorFlow backend.\n"
     ]
    }
   ],
   "source": [
    "import sys\n",
    "sys.path = sys.path+['.\\\\source']\n",
    "\n",
    "from helper_functions import WORLD_DISTRIBUTION"
   ]
  },
  {
   "cell_type": "code",
   "execution_count": 2,
   "metadata": {},
   "outputs": [],
   "source": [
    "datapoints = [\n",
    "    [0,0],\n",
    "    [2,1],\n",
    "    [4,1.4],\n",
    "    [14,0.1],\n",
    "    [23,2],\n",
    "    [26,1],\n",
    "    [30,0],\n",
    "]\n",
    "\n",
    "wd = WORLD_DISTRIBUTION(datapoints=datapoints)"
   ]
  },
  {
   "cell_type": "code",
   "execution_count": 3,
   "metadata": {},
   "outputs": [
    {
     "data": {
      "image/png": "[encoded data removed]",
      "text/plain": [
       "<Figure size 432x288 with 1 Axes>"
      ]
     },
     "metadata": {},
     "output_type": "display_data"
    }
   ],
   "source": [
    "wd.plot_distribution()"
   ]
  },
  {
   "cell_type": "code",
   "execution_count": null,
   "metadata": {},
   "outputs": [],
   "source": []
  },
  {
   "cell_type": "code",
   "execution_count": null,
   "metadata": {},
   "outputs": [],
   "source": []
  },
  {
   "cell_type": "code",
   "execution_count": null,
   "metadata": {},
   "outputs": [],
   "source": []
  },
  {
   "cell_type": "markdown",
   "metadata": {},
   "source": [
    "# Network Eigenstate\n",
    "\n",
    "What's the final state a graph network $\\mathcal{G}$ will settle in if provided with input $\\vec{s}_0$ and an update euqation, and then left alone?"
   ]
  },
  {
   "cell_type": "code",
   "execution_count": 93,
   "metadata": {},
   "outputs": [],
   "source": [
    "# Imports\n",
    "\n",
    "import numpy as np\n",
    "from numpy import random as rnd\n",
    "from matplotlib import pyplot as plt\n",
    "import os,sys,math,itertools\n",
    "\n",
    "import torch\n",
    "import pandas as pd\n",
    "\n",
    "from scipy import linalg as la"
   ]
  },
  {
   "cell_type": "code",
   "execution_count": 154,
   "metadata": {},
   "outputs": [],
   "source": [
    "class GRAPH():\n",
    "    def __init__(self,N,f=lambda x: x,MAXSTATESHIST=10):\n",
    "        # Parameters\n",
    "        self.N = N\n",
    "        # Weight matrix, bias and non-linearity\n",
    "        self.W = rnd.randn(N,N)\n",
    "        self.b = rnd.randn(N)\n",
    "        self.f = f\n",
    "        # Init random state\n",
    "        self.s = rnd.randn(N)/self.N\n",
    "        # State history\n",
    "        self.MAXSTATESHIST = MAXSTATESHIST\n",
    "        self.S = []\n",
    "        self.S.append(self.s)\n",
    "        # Return\n",
    "        return\n",
    "    def set_state(self,s):\n",
    "        self.s = s\n",
    "        self.__update_states_hist(s)\n",
    "        return\n",
    "    def update(self,steps=1,norm=True):\n",
    "        for step in range(steps):\n",
    "            self.s = self.f(np.dot(self.W,self.s)) + self.b\n",
    "            self.s = self.s/(self.N if norm else 1)\n",
    "            self.__update_states_hist(self.s)\n",
    "        return\n",
    "    def __update_states_hist(self,x):\n",
    "        self.S.append(x)\n",
    "        if len(self.S)>self.MAXSTATESHIST: self.S = self.S[-self.MAXSTATESHIST:]\n",
    "        return"
   ]
  },
  {
   "cell_type": "code",
   "execution_count": 187,
   "metadata": {},
   "outputs": [],
   "source": [
    "# Network setup\n",
    "\n",
    "G = GRAPH(N=10)"
   ]
  },
  {
   "cell_type": "code",
   "execution_count": 188,
   "metadata": {},
   "outputs": [],
   "source": [
    "s0 = G.s\n",
    "G.update(steps=10,norm=False)"
   ]
  },
  {
   "cell_type": "markdown",
   "metadata": {},
   "source": [
    "For the update function $f(\\vec{x})=\\vec{x}$, the update equation for $\\mathcal{G}$ after $N$ steps becomes\n",
    "$$\n",
    "    \\vec{s}_{N} = \\mathbf{W}^N\\vec{s}_0 + \\sum_{k=0}^N\\mathbf{W}^k\\vec{b}\n",
    "$$\n",
    "Eigendecomposition for $\\mathbf{W}$ yields\n",
    "$$\n",
    "    \\mathbf{W} = \\mathbf{E}\\mathbf{\\Lambda}\\mathbf{E}^{-1}\\Rightarrow\\mathbf{W}^N = \\mathbf{E}\\mathbf{\\Lambda}^N\\mathbf{E}^{-1}\n",
    "$$\n",
    "Therefore $\\vec{s}_N$ can be written as\n",
    "$$\n",
    "    \\vec{s}_N = \\mathbf{E}\\mathbf{\\Lambda}^N\\mathbf{E}^{-1}\\vec{s}_0 + \\sum_{k=0}^{N-1}\\mathbf{E}\\mathbf{\\Lambda}^k\\mathbf{E}^{-1}\\vec{b}\\Leftrightarrow\\vec{s}_N = \\mathbf{E}\\mathbf{\\Lambda}^N\\mathbf{E}^{-1}\\vec{s}_0 + \\sum_{k=0}^{N-1}\\mathbf{E}\\mathbf{\\Lambda}^k\\mathbf{E}^{-1}\\vec{b}\n",
    "$$"
   ]
  },
  {
   "cell_type": "code",
   "execution_count": 189,
   "metadata": {},
   "outputs": [],
   "source": [
    "# Calculate analytically the state after K steps\n",
    "\n",
    "ev,EV = la.eig(G.W)\n",
    "\n",
    "K = 10\n",
    "\n",
    "T = np.dot(np.dot(EV,np.diag(ev**K)),np.linalg.inv(EV))\n",
    "sN = np.dot(T,s0)\n",
    "\n",
    "EE = np.diag(ev**0)\n",
    "for k in range(1,K):\n",
    "    EE += np.diag(ev**k)\n",
    "sN += np.dot(np.dot(np.dot(EV,EE),np.linalg.inv(EV)),G.b) "
   ]
  },
  {
   "cell_type": "code",
   "execution_count": 190,
   "metadata": {},
   "outputs": [
    {
     "data": {
      "text/plain": [
       "array([-1758.42340908-1.96952485e-12j,   140.96167598+2.35089281e-12j,\n",
       "       -1263.02821239+1.21966644e-12j,  2400.49690565-8.86734026e-12j,\n",
       "       -4204.03379939-6.50664127e-12j, -9847.64977287+1.83054432e-11j,\n",
       "       -5833.19424694+4.36501490e-12j,  2274.03393481+2.58247613e-11j,\n",
       "        3505.59960904+5.36853746e-12j, 14226.24092982-9.41246627e-12j])"
      ]
     },
     "execution_count": 190,
     "metadata": {},
     "output_type": "execute_result"
    }
   ],
   "source": [
    "sN"
   ]
  },
  {
   "cell_type": "code",
   "execution_count": 191,
   "metadata": {},
   "outputs": [
    {
     "data": {
      "text/plain": [
       "array([-1758.42340908,   140.96167598, -1263.02821239,  2400.49690565,\n",
       "       -4204.0337994 , -9847.64977287, -5833.19424694,  2274.03393481,\n",
       "        3505.59960904, 14226.24092982])"
      ]
     },
     "execution_count": 191,
     "metadata": {},
     "output_type": "execute_result"
    }
   ],
   "source": [
    "G.s"
   ]
  },
  {
   "cell_type": "markdown",
   "metadata": {},
   "source": [
    "This seems to work, so we can assume that the following simplification holds:\n",
    "$$\n",
    "    \\vec{s}_N = \\mathbf{E}(\\mathbf{\\Lambda}^N\\mathbf{E}^{-1}\\vec{s}_0 + (\\sum_{k=0}^{N-1}\\mathbf{\\Lambda}^k)\\mathbf{E}^{-1}\\vec{b})\n",
    "$$"
   ]
  },
  {
   "cell_type": "code",
   "execution_count": null,
   "metadata": {},
   "outputs": [],
   "source": []
  }
 ],
 "metadata": {
  "kernelspec": {
   "display_name": "Python 3",
   "language": "python",
   "name": "python3"
  },
  "language_info": {
   "codemirror_mode": {
    "name": "ipython",
    "version": 3
   },
   "file_extension": ".py",
   "mimetype": "text/x-python",
   "name": "python",
   "nbconvert_exporter": "python",
   "pygments_lexer": "ipython3",
   "version": "3.8.5"
  }
 },
 "nbformat": 4,
 "nbformat_minor": 2
}
