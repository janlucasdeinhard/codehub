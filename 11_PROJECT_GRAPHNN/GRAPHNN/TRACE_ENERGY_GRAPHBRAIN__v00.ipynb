{
 "cells": [
  {
   "cell_type": "code",
   "execution_count": 255,
   "metadata": {},
   "outputs": [],
   "source": [
    "import numpy as np\n",
    "from matplotlib import pyplot as plt\n",
    "from numpy import random as rnd\n",
    "import os,math,itertools,warnings,datetime,time\n",
    "\n",
    "import torch\n",
    "import pandas as pd"
   ]
  },
  {
   "cell_type": "code",
   "execution_count": 315,
   "metadata": {},
   "outputs": [],
   "source": [
    "class BRAIN():\n",
    "    \n",
    "    def __init__(self,Ni,No,Nh):\n",
    "        # Set network size\n",
    "        self.Ni = Ni\n",
    "        self.No = No\n",
    "        self.Nh = Nh\n",
    "        self.N = self.Ni + self.No + self.Nh\n",
    "        # Non-Linearity\n",
    "        self.sigma = lambda x: 1/(1+np.exp(-x))\n",
    "        # Selection matrices\n",
    "        self.R0 = np.concatenate((\n",
    "            np.zeros([self.Ni,self.N]),\n",
    "            np.concatenate((np.zeros([self.No+self.Nh,self.Ni]),np.eye(self.No+self.Nh)),axis=1)\n",
    "        ),axis=0)\n",
    "        self.R1 = np.concatenate((\n",
    "            np.concatenate((np.eye(self.Ni),np.zeros([self.Ni,self.No+self.Nh])),axis=1),\n",
    "            np.zeros((self.No+self.Nh,self.N))\n",
    "        ),axis=0)\n",
    "        # Network matrix and bias vector, selected randomly\n",
    "        self.W = rnd.randn(self.N,self.N)\n",
    "        self.W /= self.W.sum()\n",
    "        self.b = rnd.randn(self.N,1)\n",
    "        self.b /= self.b.sum()\n",
    "        return\n",
    "        \n",
    "    def plot_nonlinearity(self,range_minmax=[-10,10]):\n",
    "        plt.plot(self.sigma(np.arange(range_minmax[0],range_minmax[1],0.01)))\n",
    "        plt.show()\n",
    "        return\n",
    "\n",
    "    def settle_nw(self,s0,iter_eps=0.0001,iternum_max=1000):\n",
    "        # Initialize logs\n",
    "        out_log = []\n",
    "        update_log = []\n",
    "        # Set trackers\n",
    "        ctr = 0\n",
    "        update_magn = 100000\n",
    "        # Iterate until convergence \n",
    "        st = s0\n",
    "        while update_magn>iter_eps and ctr<=iternum_max:\n",
    "            # Calculate next state vector\n",
    "            stn = np.dot(self.R0,self.sigma(np.dot(self.W,st)) + self.b) + np.dot(self.R1,st)\n",
    "            update_magn = np.linalg.norm(stn-st,ord=2)\n",
    "            st = stn\n",
    "            # Log progress\n",
    "            out_log.append(st[self.Ni:(self.Ni+self.No)].reshape(-1).tolist())\n",
    "            update_log.append(update_magn)\n",
    "            # Track number of iterations\n",
    "            ctr += 1\n",
    "        convergence_reached = (update_magn<iter_eps)\n",
    "        num_iterations_used = ctr\n",
    "        # Return results\n",
    "        return st,out_log,update_log,num_iterations_used,convergence_reached"
   ]
  },
  {
   "cell_type": "code",
   "execution_count": 397,
   "metadata": {},
   "outputs": [],
   "source": [
    "G = BRAIN(Ni=1,No=1,Nh=20)"
   ]
  },
  {
   "cell_type": "code",
   "execution_count": 398,
   "metadata": {},
   "outputs": [],
   "source": [
    "X,Y = [],[]\n",
    "\n",
    "for x in np.arange(-100,100,1):\n",
    "    Xt,Yt = [],[]\n",
    "    for k in range(5):\n",
    "        s0 = rnd.randn(G.N,1)\n",
    "        s0[:G.Ni] = np.array([x]).reshape(-1,1)\n",
    "        _,outputs,_,_,_ = G.settle_nw(s0)\n",
    "        y = outputs[-1]\n",
    "        Xt.append(x)\n",
    "        Yt.append(y)\n",
    "    X.append(Xt)\n",
    "    Y.append(Yt)\n",
    "\n",
    "X = [np.mean(X[k]) for k in range(len(X))]\n",
    "Y = [np.mean(Y[k]) for k in range(len(Y))]"
   ]
  },
  {
   "cell_type": "code",
   "execution_count": 399,
   "metadata": {},
   "outputs": [
    {
     "data": {
      "text/plain": [
       "[<matplotlib.lines.Line2D at 0x21766914a20>]"
      ]
     },
     "execution_count": 399,
     "metadata": {},
     "output_type": "execute_result"
    },
    {
     "data": {
      "image/png": "[encoded data removed]",
      "text/plain": [
       "<Figure size 432x288 with 1 Axes>"
      ]
     },
     "metadata": {},
     "output_type": "display_data"
    }
   ],
   "source": [
    "plt.plot(X,Y)"
   ]
  },
  {
   "cell_type": "code",
   "execution_count": null,
   "metadata": {},
   "outputs": [],
   "source": []
  }
 ],
 "metadata": {
  "kernelspec": {
   "display_name": "Python 3",
   "language": "python",
   "name": "python3"
  },
  "language_info": {
   "codemirror_mode": {
    "name": "ipython",
    "version": 3
   },
   "file_extension": ".py",
   "mimetype": "text/x-python",
   "name": "python",
   "nbconvert_exporter": "python",
   "pygments_lexer": "ipython3",
   "version": "3.6.5"
  }
 },
 "nbformat": 4,
 "nbformat_minor": 2
}
