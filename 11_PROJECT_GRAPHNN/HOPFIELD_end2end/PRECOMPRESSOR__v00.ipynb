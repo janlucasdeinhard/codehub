{
 "cells": [
  {
   "cell_type": "code",
   "execution_count": 24,
   "metadata": {},
   "outputs": [],
   "source": [
    "import numpy as np\n",
    "from numpy import random as rnd\n",
    "from matplotlib import pyplot as plt\n",
    "import warnings,os,time,datetime\n",
    "\n",
    "import torch\n",
    "\n",
    "from scipy.interpolate import pchip\n",
    "from keras.datasets import cifar10"
   ]
  },
  {
   "cell_type": "code",
   "execution_count": 2,
   "metadata": {},
   "outputs": [],
   "source": [
    "class DISTRIBUTION():\n",
    "    def __init__(self,datapoints):\n",
    "        self.datapoints = datapoints\n",
    "        self.__build_interpolate()\n",
    "        return\n",
    "    def __build_interpolate(self):\n",
    "        x0 = np.array(self.datapoints)[:,0]\n",
    "        y0 = np.array(self.datapoints)[:,1]\n",
    "        f = pchip(x0,y0)\n",
    "        self.x = np.arange(np.min(x0),np.max(x0))\n",
    "        yp = f(self.x)\n",
    "        self.p = yp/yp.sum()\n",
    "        return\n",
    "    def plot_distribution(self):\n",
    "        plt.plot(self.x,self.p)\n",
    "        plt.xlabel('x')\n",
    "        plt.ylabel('Pr(X=x)')\n",
    "        plt.title('Probability Density')\n",
    "        plt.show() \n",
    "        return self.x,self.p\n",
    "    def sample(self,n=1):\n",
    "        return rnd.choice(self.x,p=self.p,size=n)"
   ]
  },
  {
   "cell_type": "code",
   "execution_count": 3,
   "metadata": {},
   "outputs": [],
   "source": [
    "class WORLD_DISTRIBUTION():\n",
    "    def __init__(self,datapoints):\n",
    "        self.pdf = DISTRIBUTION(datapoints)\n",
    "        self.datapoints = [None]*self.pdf.x.shape[0]\n",
    "        self.__assign_random_datavectors()\n",
    "        return\n",
    "    def __assign_random_datavectors(self):\n",
    "        (x_train,y_train),_ = cifar10.load_data()\n",
    "        self.datapoints = x_train[rnd.permutation(np.arange(0,x_train.shape[0]))[:self.pdf.x.shape[0]],:,:,:]\n",
    "        return\n",
    "    def sample(self,n=1):\n",
    "        return self.datapoints[[int(self.pdf.sample(n)[k]) for k in range(n)],:,:,:]\n",
    "    def plot_distribution(self):\n",
    "        self.pdf.plot_distribution()\n",
    "        return"
   ]
  },
  {
   "cell_type": "code",
   "execution_count": 7,
   "metadata": {},
   "outputs": [],
   "source": [
    "datapoints = [\n",
    "    [0,0],\n",
    "    [2,1],\n",
    "    [4,1.4],\n",
    "    [14,0.3],\n",
    "    [23,2],\n",
    "    [26,1],\n",
    "    [40,0],\n",
    "]"
   ]
  },
  {
   "cell_type": "code",
   "execution_count": 8,
   "metadata": {},
   "outputs": [],
   "source": [
    "w_distr = WORLD_DISTRIBUTION(datapoints)"
   ]
  },
  {
   "cell_type": "code",
   "execution_count": 153,
   "metadata": {},
   "outputs": [],
   "source": [
    "class PrebrainCompressor(torch.nn.Module):\n",
    "    def __init__(self):\n",
    "        super(PrebrainCompressor,self).__init__()\n",
    "        self.layer0 = torch.nn.Sequential(\n",
    "            torch.nn.Conv2d(\n",
    "                in_channels = 3,\n",
    "                out_channels = 16,\n",
    "                kernel_size = 5,\n",
    "                stride = 1,\n",
    "                padding = 0\n",
    "            ),\n",
    "            torch.nn.BatchNorm2d(16),\n",
    "            torch.nn.ReLU(),\n",
    "            torch.nn.MaxPool2d(kernel_size=(2,2),stride=(2,2))\n",
    "        )\n",
    "        self.layer1 = torch.nn.Sequential(\n",
    "            torch.nn.Conv2d(\n",
    "                in_channels = 16,\n",
    "                out_channels = 32,\n",
    "                kernel_size = 5,\n",
    "                stride = 1,\n",
    "                padding = 0\n",
    "            ),\n",
    "            torch.nn.BatchNorm2d(32),\n",
    "            torch.nn.ReLU(),\n",
    "            torch.nn.MaxPool2d(kernel_size=(2,2),stride=(2,2))\n",
    "        )\n",
    "        self.layer2 = torch.nn.Sigmoid()\n",
    "    def forward(self,x):\n",
    "        out = self.layer0(x)\n",
    "        out = self.layer1(out)\n",
    "        out = out.reshape(out.size(0)*out.size(1)*out.size(2)*out.size(3),-1)\n",
    "        out = self.layer2(out)\n",
    "        return out"
   ]
  },
  {
   "cell_type": "code",
   "execution_count": 292,
   "metadata": {},
   "outputs": [],
   "source": [
    "class PrebrainCompressor(torch.nn.Module):\n",
    "    def __init__(self):\n",
    "        super(PrebrainCompressor,self).__init__()\n",
    "        self.comp_layer0 = torch.nn.Sequential(\n",
    "            torch.nn.Conv2d(\n",
    "                in_channels = 3,\n",
    "                out_channels = 16,\n",
    "                kernel_size = 5,\n",
    "                stride = 1,\n",
    "                padding = 0\n",
    "            ),\n",
    "            torch.nn.BatchNorm2d(16),\n",
    "            torch.nn.ReLU(),\n",
    "            torch.nn.MaxPool2d(kernel_size=(2,2),stride=(2,2))\n",
    "        )\n",
    "        self.comp_layer1 = torch.nn.Sequential(\n",
    "            torch.nn.Conv2d(\n",
    "                in_channels = 16,\n",
    "                out_channels = 32,\n",
    "                kernel_size = 5,\n",
    "                stride = 1,\n",
    "                padding = 0\n",
    "            ),\n",
    "            torch.nn.BatchNorm2d(32),\n",
    "            torch.nn.ReLU(),\n",
    "            torch.nn.MaxPool2d(kernel_size=(2,2),stride=(2,2))\n",
    "        )\n",
    "        self.enc = torch.nn.Sigmoid()\n",
    "        self.decomp_layer0 = torch.nn.Sequential(\n",
    "            torch.nn.ConvTranspose2d(\n",
    "                in_channels = 32,\n",
    "                out_channels = 16,\n",
    "                kernel_size = 13,\n",
    "                stride = 1,\n",
    "                padding = 0\n",
    "            ),\n",
    "            torch.nn.BatchNorm2d(16),\n",
    "            torch.nn.ReLU()\n",
    "        )\n",
    "        self.decomp_layer1 = torch.nn.Sequential(\n",
    "            torch.nn.ConvTranspose2d(\n",
    "                in_channels = 16,\n",
    "                out_channels = 3,\n",
    "                kernel_size = 16,\n",
    "                stride = 1,\n",
    "                padding = 0\n",
    "            ),\n",
    "            torch.nn.BatchNorm2d(3),\n",
    "            torch.nn.ReLU()\n",
    "        )\n",
    "        self.dec = torch.nn.Sigmoid()\n",
    "    def forward(self,x):\n",
    "        x = self.comp_layer0(x)\n",
    "        x = self.comp_layer1(x)\n",
    "        o_size = x.size()\n",
    "        x = x.reshape(o_size[0]*o_size[1]*o_size[2]*o_size[3],-1)\n",
    "        x = self.enc(x)\n",
    "        x = x.reshape(o_size)\n",
    "        x = self.decomp_layer0(x)\n",
    "        x = self.decomp_layer1(x)\n",
    "        x = self.dec(x)\n",
    "        return x"
   ]
  },
  {
   "cell_type": "code",
   "execution_count": 293,
   "metadata": {},
   "outputs": [],
   "source": [
    "comp = PrebrainCompressor()"
   ]
  },
  {
   "cell_type": "code",
   "execution_count": 308,
   "metadata": {},
   "outputs": [],
   "source": [
    "inp = w_distr.sample()[0]\n",
    "res = comp.forward(x=torch.Tensor(inp.reshape(-1,3,32,32))).detach().numpy().reshape(-1,32,32,3)"
   ]
  },
  {
   "cell_type": "code",
   "execution_count": 309,
   "metadata": {},
   "outputs": [
    {
     "data": {
      "text/plain": [
       "<matplotlib.image.AxesImage at 0x1bd9bc7e400>"
      ]
     },
     "execution_count": 309,
     "metadata": {},
     "output_type": "execute_result"
    },
    {
     "data": {
      "image/png": "[encoded data removed]",
      "text/plain": [
       "<Figure size 432x288 with 1 Axes>"
      ]
     },
     "metadata": {},
     "output_type": "display_data"
    }
   ],
   "source": [
    "plt.imshow(res[0])"
   ]
  },
  {
   "cell_type": "code",
   "execution_count": 310,
   "metadata": {},
   "outputs": [
    {
     "data": {
      "text/plain": [
       "<matplotlib.image.AxesImage at 0x1bd9bcd8940>"
      ]
     },
     "execution_count": 310,
     "metadata": {},
     "output_type": "execute_result"
    },
    {
     "data": {
      "image/png": "[encoded data removed]",
      "text/plain": [
       "<Figure size 432x288 with 1 Axes>"
      ]
     },
     "metadata": {},
     "output_type": "display_data"
    }
   ],
   "source": [
    "plt.imshow(inp)"
   ]
  },
  {
   "cell_type": "code",
   "execution_count": null,
   "metadata": {},
   "outputs": [],
   "source": []
  }
 ],
 "metadata": {
  "kernelspec": {
   "display_name": "Python 3",
   "language": "python",
   "name": "python3"
  },
  "language_info": {
   "codemirror_mode": {
    "name": "ipython",
    "version": 3
   },
   "file_extension": ".py",
   "mimetype": "text/x-python",
   "name": "python",
   "nbconvert_exporter": "python",
   "pygments_lexer": "ipython3",
   "version": "3.6.5"
  }
 },
 "nbformat": 4,
 "nbformat_minor": 2
}
