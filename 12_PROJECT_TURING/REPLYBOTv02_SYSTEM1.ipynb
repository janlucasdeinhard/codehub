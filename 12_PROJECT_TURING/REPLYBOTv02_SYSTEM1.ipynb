{
 "cells": [
  {
   "cell_type": "code",
   "execution_count": 1,
   "metadata": {},
   "outputs": [
    {
     "name": "stderr",
     "output_type": "stream",
     "text": [
      "Using TensorFlow backend.\n"
     ]
    }
   ],
   "source": [
    "import numpy as np\n",
    "from numpy import random as rnd\n",
    "from matplotlib import pyplot as plt\n",
    "import os,datetime,warnings,time\n",
    "\n",
    "import tensorflow as tf\n",
    "import pandas as pd\n",
    "import seaborn as sns\n",
    "\n",
    "from keras.models import Model,Sequential\n",
    "from keras.layers import Dense,LSTM,Conv2D,Conv2DTranspose,Dropout,GRU,Activation,Add,Concatenate,BatchNormalization,Bidirectional,Embedding,Flatten\n",
    "\n",
    "from sklearn.preprocessing import OneHotEncoder\n",
    "from sklearn.model_selection import train_test_split\n",
    "from sklearn.feature_extraction.text import TfidfVectorizer\n",
    "from sklearn.metrics.pairwise import cosine_similarity\n",
    "\n",
    "import nltk\n",
    "import string\n",
    "\n",
    "import re\n",
    "\n",
    "warnings.filterwarnings('ignore')\n",
    "sns.set()"
   ]
  },
  {
   "cell_type": "code",
   "execution_count": 2,
   "metadata": {},
   "outputs": [],
   "source": [
    "def clean_dataset(X,Y,MAXLEN=15):\n",
    "    indices = []\n",
    "    for k in range(len(Y)):\n",
    "        flag = False\n",
    "        for yy in Y[k]: \n",
    "            if len(yy)>MAXLEN: flag = True\n",
    "        if not flag: indices.append(k)\n",
    "    X = [X[k] for k in indices]\n",
    "    Y = [Y[k] for k in indices]\n",
    "    return X,Y"
   ]
  },
  {
   "cell_type": "code",
   "execution_count": 3,
   "metadata": {},
   "outputs": [],
   "source": [
    "bf = pd.read_csv('..\\\\..\\\\TF_data\\\\twitter_data\\\\train_tweets.csv',index_col='id')"
   ]
  },
  {
   "cell_type": "code",
   "execution_count": 4,
   "metadata": {},
   "outputs": [],
   "source": [
    "df = bf[['tweet']].copy()\n",
    "\n",
    "df['tweet'] = df['tweet'].apply(lambda x: re.sub(r'[^a-zA-Z0-9_@ ]','',x))\n",
    "df['tweet'] = df['tweet'].apply(lambda x: re.sub(r'\\s+',' ',x.lower().strip()))"
   ]
  },
  {
   "cell_type": "code",
   "execution_count": 5,
   "metadata": {},
   "outputs": [],
   "source": [
    "df['tweet'] = df['tweet'].apply(lambda x: re.sub(r'\\@user @user','@user',x))\n",
    "df['tweet'] = df['tweet'].apply(lambda x: re.sub(r'\\@user @user @user','@user',x))\n",
    "df['tweet'] = df['tweet'].apply(lambda x: re.sub(r'\\@user @user @user @user','@user',x))\n",
    "df['tweet'] = df['tweet'].apply(lambda x: re.sub(r'\\@user @user @user @user @user','@user',x))\n",
    "df['tweet'] = df['tweet'].apply(lambda x: re.sub(r'\\@user @user @user @user @user @user','@user',x))\n",
    "df['tweet'] = df['tweet'].apply(lambda x: re.sub(r'\\@user @user @user @user @user @user @user','@user',x))\n",
    "df['tweet'] = df['tweet'].apply(lambda x: re.sub(r'\\@user @user @user @user @user @user @user @user','@user',x))\n",
    "df['tweet'] = df['tweet'].apply(lambda x: re.sub(r'\\@user @user @user @user @user @user @user @user @user','@user',x))\n",
    "\n",
    "df['tweet'] = df['tweet'].apply(lambda x: re.sub(r'\\@user@user','@user',x))\n",
    "df['tweet'] = df['tweet'].apply(lambda x: re.sub(r'\\@user@user@user','@user',x))\n",
    "df['tweet'] = df['tweet'].apply(lambda x: re.sub(r'\\@user@user@user@user','@user',x))\n",
    "df['tweet'] = df['tweet'].apply(lambda x: re.sub(r'\\@user@user@user@user@user','@user',x))\n",
    "df['tweet'] = df['tweet'].apply(lambda x: re.sub(r'\\@user@user@user@user@user@user','@user',x))\n",
    "df['tweet'] = df['tweet'].apply(lambda x: re.sub(r'\\@user@user@user@user@user@user@user','@user',x))\n",
    "df['tweet'] = df['tweet'].apply(lambda x: re.sub(r'\\@user@user@user@user@user@user@user@user','@user',x))\n",
    "df['tweet'] = df['tweet'].apply(lambda x: re.sub(r'\\@user@user@user@user@user@user@user@user@user','@user',x))"
   ]
  },
  {
   "cell_type": "code",
   "execution_count": 6,
   "metadata": {},
   "outputs": [],
   "source": [
    "df['tweet'] = df['tweet'].apply(lambda x: x+' <EOL>')"
   ]
  },
  {
   "cell_type": "code",
   "execution_count": 7,
   "metadata": {},
   "outputs": [],
   "source": [
    "w,c = np.unique(np.array([w for s in df['tweet'].tolist() for w in s.split(' ')]),return_counts=True)\n",
    "\n",
    "encode_dict = pd.DataFrame(w,columns=['Word']).reset_index().rename(columns={'index':'Code'}).set_index('Word')\n",
    "encode_dict['Word'] = encode_dict.index\n",
    "encode_dict.index = encode_dict.index.rename('idx')\n",
    "encode_dict['Wordlength'] = encode_dict['Word'].apply(lambda x: len(x))\n",
    "encode_dict['Freq'] = c\n",
    "\n",
    "encode_dict.ix[encode_dict[(encode_dict['Freq']==1)].index,'Code']=-1\n",
    "encode_dict.ix[encode_dict[(encode_dict['Freq']>1)&(encode_dict['Freq']<=100)].index,'Code']=-2\n",
    "encode_dict.ix[encode_dict[(encode_dict['Freq']>100)&(encode_dict['Freq']<=200)].index,'Code']=-3\n",
    "encode_dict.ix[encode_dict[(encode_dict['Freq']>200)&(encode_dict['Freq']<=275)].index,'Code']=-4\n",
    "encode_dict.ix[encode_dict[(encode_dict['Freq']>275)&(encode_dict['Freq']<=350)].index,'Code']=-5\n",
    "encode_dict.ix[encode_dict[(encode_dict['Freq']>350)&(encode_dict['Freq']<=400)].index,'Code']=-6\n",
    "encode_dict.ix[encode_dict[(encode_dict['Freq']>400)&(encode_dict['Freq']<=450)].index,'Code']=-7\n",
    "encode_dict.ix[encode_dict[(encode_dict['Freq']>450)&(encode_dict['Freq']<=475)].index,'Code']=-8\n",
    "encode_dict.ix[encode_dict[(encode_dict['Freq']>475)&(encode_dict['Freq']<=500)].index,'Code']=-9"
   ]
  },
  {
   "cell_type": "code",
   "execution_count": 8,
   "metadata": {},
   "outputs": [],
   "source": [
    "df['tweet_coded'] = df['tweet'].apply(lambda x: [encode_dict.ix[w,'Code'] for w in x.split(' ')])"
   ]
  },
  {
   "cell_type": "code",
   "execution_count": 9,
   "metadata": {},
   "outputs": [],
   "source": [
    "L = 10\n",
    "F = 1\n",
    "\n",
    "X = []\n",
    "Y = []\n",
    "for k in df.index.tolist():\n",
    "    s = df.ix[k,'tweet_coded']\n",
    "    for kk in range(len(s)-F-L+1):\n",
    "        X.append(s[kk:kk+L])\n",
    "        Y.append(s[kk+L+F-1])"
   ]
  },
  {
   "cell_type": "code",
   "execution_count": 10,
   "metadata": {},
   "outputs": [],
   "source": [
    "ohe = OneHotEncoder(categories='auto')\n",
    "Y0 = ohe.fit_transform(X)"
   ]
  },
  {
   "cell_type": "code",
   "execution_count": 11,
   "metadata": {},
   "outputs": [
    {
     "data": {
      "text/plain": [
       "<torch._C.Generator at 0x18ae01fc7f0>"
      ]
     },
     "execution_count": 11,
     "metadata": {},
     "output_type": "execute_result"
    }
   ],
   "source": [
    "import torch\n",
    "import torch.nn as nn\n",
    "import torch.nn.functional as F\n",
    "import torch.optim as optim\n",
    "\n",
    "torch.manual_seed(1)"
   ]
  },
  {
   "cell_type": "code",
   "execution_count": null,
   "metadata": {},
   "outputs": [],
   "source": []
  }
 ],
 "metadata": {
  "kernelspec": {
   "display_name": "Python 3",
   "language": "python",
   "name": "python3"
  },
  "language_info": {
   "codemirror_mode": {
    "name": "ipython",
    "version": 3
   },
   "file_extension": ".py",
   "mimetype": "text/x-python",
   "name": "python",
   "nbconvert_exporter": "python",
   "pygments_lexer": "ipython3",
   "version": "3.7.3"
  }
 },
 "nbformat": 4,
 "nbformat_minor": 2
}
