{
 "cells": [
  {
   "cell_type": "code",
   "execution_count": 1,
   "metadata": {},
   "outputs": [],
   "source": [
    "import numpy as np\n",
    "from matplotlib import pyplot as plt\n",
    "from numpy import random as rnd\n",
    "import os,warnings,sys,itertools,datetime,time,timeit\n",
    "\n",
    "import torch\n",
    "from torch import nn,optim\n",
    "import torch.functional as F\n",
    "\n",
    "import re\n",
    "import unicodedata\n",
    "\n",
    "import pandas as pd\n",
    "\n",
    "import _pickle as pickle\n",
    "\n",
    "device = torch.device(\"cuda\" if torch.cuda.is_available() else \"cpu\")"
   ]
  },
  {
   "cell_type": "code",
   "execution_count": 45,
   "metadata": {},
   "outputs": [],
   "source": [
    "def generate_lang_models(readpath,storepath):\n",
    "    with open(readpath+'europarl-v7.de-en.en','r',encoding='utf-8') as file:\n",
    "        data_en = file.read()\n",
    "    with open(readpath+'europarl-v7.de-en.de','r',encoding='utf-8') as file:\n",
    "        data_de = file.read()\n",
    "    df = pd.DataFrame(data_en.split('\\n'),data_de.split('\\n')).reset_index(drop=False).rename(columns={\n",
    "        'index':'DE',\n",
    "        0:'EN'\n",
    "    })\n",
    "    input_lang = Lang('de')\n",
    "    output_lang = Lang('en')\n",
    "\n",
    "    for r,cs in df.iterrows():\n",
    "        input_lang.addSentence(normalizeString(cs.DE))\n",
    "        output_lang.addSentence(normalizeString(cs.EN))\n",
    "\n",
    "    df.to_pickle(storepath + 'pairs.pkl')\n",
    "    with open(storepath + 'input_lang_model.pkl','wb') as f:\n",
    "        pickle.dump(input_lang,f)\n",
    "    with open(storepath + 'output_lang_model.pkl','wb') as f:\n",
    "        pickle.dump(output_lang,f)\n",
    "    return"
   ]
  },
  {
   "cell_type": "code",
   "execution_count": 26,
   "metadata": {},
   "outputs": [],
   "source": [
    "class Lang:\n",
    "    def __init__(self,name):\n",
    "        self.name = name\n",
    "        self.word2index = {}\n",
    "        self.index2word = {0:'SOS',1:'EOS'}\n",
    "        self.word2count = {}\n",
    "        self.nwords = 2\n",
    "    def addWord(self,word):\n",
    "        if word not in self.word2index:\n",
    "            self.word2index[word] = self.nwords\n",
    "            self.index2word[self.nwords] = word\n",
    "            self.word2count[word] = 1\n",
    "            self.nwords += 1\n",
    "        else:\n",
    "            self.word2count[word] += 1\n",
    "    def addSentence(self,sent):\n",
    "        for word in sent.split(' '):\n",
    "            self.addWord(word)"
   ]
  },
  {
   "cell_type": "code",
   "execution_count": 27,
   "metadata": {},
   "outputs": [],
   "source": [
    "def normalizeString(s):\n",
    "    s = s.lower().strip()\n",
    "    s = ''.join(c for c in unicodedata.normalize('NFD', s) if unicodedata.category(c) != 'Mn')\n",
    "    s = re.sub(r'([.!?])',r' \\1',s)\n",
    "    s = re.sub(r'[^a-zA-Z.!?]+', r' ',s)\n",
    "    return s"
   ]
  },
  {
   "cell_type": "code",
   "execution_count": null,
   "metadata": {},
   "outputs": [],
   "source": []
  },
  {
   "cell_type": "code",
   "execution_count": null,
   "metadata": {},
   "outputs": [],
   "source": []
  },
  {
   "cell_type": "code",
   "execution_count": null,
   "metadata": {},
   "outputs": [],
   "source": []
  },
  {
   "cell_type": "code",
   "execution_count": 46,
   "metadata": {},
   "outputs": [],
   "source": [
    "root_path = './../../../TF_Data/Dropbox/TF_data/SEQ2SEQ/'\n",
    "#root_path = '../../../../../../../TF_data/SEQ2SEQ/''\n",
    "\n",
    "with open(root_path + 'input_lang_model.pkl','rb') as f:\n",
    "    input_lang = pickle.load(f)\n",
    "with open(root_path + 'output_lang_model.pkl','rb') as f:\n",
    "    output_lang = pickle.load(f)\n",
    "with open(root_path + 'pairs.pkl','rb') as f:\n",
    "    df = pickle.load(f)"
   ]
  },
  {
   "cell_type": "code",
   "execution_count": null,
   "metadata": {},
   "outputs": [],
   "source": []
  },
  {
   "cell_type": "code",
   "execution_count": null,
   "metadata": {},
   "outputs": [],
   "source": []
  },
  {
   "cell_type": "code",
   "execution_count": null,
   "metadata": {},
   "outputs": [],
   "source": []
  },
  {
   "cell_type": "code",
   "execution_count": null,
   "metadata": {},
   "outputs": [],
   "source": []
  }
 ],
 "metadata": {
  "kernelspec": {
   "display_name": "Python 3",
   "language": "python",
   "name": "python3"
  },
  "language_info": {
   "codemirror_mode": {
    "name": "ipython",
    "version": 3
   },
   "file_extension": ".py",
   "mimetype": "text/x-python",
   "name": "python",
   "nbconvert_exporter": "python",
   "pygments_lexer": "ipython3",
   "version": "3.8.5"
  }
 },
 "nbformat": 4,
 "nbformat_minor": 2
}
