{
 "cells": [
  {
   "cell_type": "code",
   "execution_count": 1,
   "metadata": {},
   "outputs": [
    {
     "name": "stderr",
     "output_type": "stream",
     "text": [
      "Using TensorFlow backend.\n"
     ]
    }
   ],
   "source": [
    "import numpy as np\n",
    "from numpy import random as rnd\n",
    "from matplotlib import pyplot as plt\n",
    "import os,datetime,warnings,time\n",
    "\n",
    "import tensorflow as tf\n",
    "import pandas as pd\n",
    "import seaborn as sns\n",
    "\n",
    "from keras.models import Model,Sequential\n",
    "from keras.layers import Dense,LSTM,Conv2D,Conv2DTranspose,Dropout,GRU,Activation,Add,Concatenate,BatchNormalization,Bidirectional,Embedding,Flatten\n",
    "\n",
    "from sklearn.model_selection import train_test_split\n",
    "from sklearn.feature_extraction.text import TfidfVectorizer\n",
    "from sklearn.metrics.pairwise import cosine_similarity\n",
    "\n",
    "import nltk\n",
    "import string\n",
    "\n",
    "warnings.filterwarnings('ignore')\n",
    "sns.set()"
   ]
  },
  {
   "cell_type": "code",
   "execution_count": 2,
   "metadata": {},
   "outputs": [
    {
     "name": "stderr",
     "output_type": "stream",
     "text": [
      "[nltk_data] Downloading package punkt to\n",
      "[nltk_data]     C:\\Users\\z003mxpm\\AppData\\Roaming\\nltk_data...\n",
      "[nltk_data]   Unzipping tokenizers\\punkt.zip.\n",
      "[nltk_data] Downloading package wordnet to\n",
      "[nltk_data]     C:\\Users\\z003mxpm\\AppData\\Roaming\\nltk_data...\n",
      "[nltk_data]   Unzipping corpora\\wordnet.zip.\n"
     ]
    },
    {
     "data": {
      "text/plain": [
       "True"
      ]
     },
     "execution_count": 2,
     "metadata": {},
     "output_type": "execute_result"
    }
   ],
   "source": [
    "nltk.download('punkt')\n",
    "nltk.download('wordnet')"
   ]
  },
  {
   "cell_type": "code",
   "execution_count": 7,
   "metadata": {},
   "outputs": [],
   "source": [
    "with open('..\\\\..\\\\TF_data\\\\TURING\\\\train.txt','r') as f:\n",
    "    raw = f.read()\n",
    "raw = raw.lower()\n",
    "raw = raw.replace('\\n',' ')"
   ]
  },
  {
   "cell_type": "code",
   "execution_count": 8,
   "metadata": {},
   "outputs": [],
   "source": [
    "sentences = nltk.sent_tokenize(raw)"
   ]
  },
  {
   "cell_type": "code",
   "execution_count": 9,
   "metadata": {},
   "outputs": [],
   "source": [
    "class CHATBOT:\n",
    "    \n",
    "    def __init__(self,sentences):\n",
    "        self.sentences = sentences\n",
    "        #self.words = words\n",
    "        \n",
    "        self.lemmer = nltk.stem.WordNetLemmatizer()\n",
    "        self.remove_punct_dict = dict((ord(punct),None) for punct in string.punctuation)\n",
    "    \n",
    "    def created_message(self):\n",
    "        opening_statement = 'Chatbot has been set up and is running, please start a conversation!\\n'\n",
    "        print(opening_statement)\n",
    "        return\n",
    "    \n",
    "    def Preprocess(self,text):\n",
    "        return text.replace('\\n',' ').lower().translate(self.remove_punct_dict)\n",
    "\n",
    "    def LemNormalize(self,text):\n",
    "        tokens = nltk.word_tokenize(text)\n",
    "        result = [self.lemmer.lemmatize(token) for token in tokens]\n",
    "        return result\n",
    "    \n",
    "    def respond(self,user_input):\n",
    "        self.sentences.append(user_input)\n",
    "        \n",
    "        response = ''\n",
    "        \n",
    "        TfidfVec = TfidfVectorizer(preprocessor=self.Preprocess,tokenizer=self.LemNormalize,stop_words='english')\n",
    "        tfidf = TfidfVec.fit_transform(self.sentences)\n",
    "        \n",
    "        sims = cosine_similarity(tfidf[-1],tfidf)\n",
    "        idx = sims.argsort()[0][-2]\n",
    "        flat = sims.flatten()\n",
    "        flat.sort()\n",
    "        req_tfidf = flat[-2]\n",
    "        if req_tfidf==0:\n",
    "            response += 'I am sorry, I do not understand!'\n",
    "        else:\n",
    "            response += self.sentences[idx]\n",
    "        return response"
   ]
  },
  {
   "cell_type": "code",
   "execution_count": null,
   "metadata": {},
   "outputs": [
    {
     "name": "stdout",
     "output_type": "stream",
     "text": [
      "Chatbot has been set up and is running, please start a conversation!\n",
      "\n",
      "Hi, how are you?\n",
      "and nice for us  but on the other handtomorrowit will be oh shove that tomorrow i got twenty four hours yet dear  yes lot of cars for a monday oh plenty of room up here yes  i hope so  appeared to be  well at least across that way anyway yeah up this end in therei could have gone in here i reckon   i'll go round the corner  don't matter does it noquite happy wherever  they all squash the nearest one to the exit   don't they shall i back in or shall iyeah i'll back ini'll be  i shall be awkward  i shall reverse  in where's that  car belong ferrari double fivedouble four r f four seven yeah not english not english  french registration number  how's that alright dear dear that will do me fine darling no it doesn't look very important does it er er  no  nono no no  very  me thinks  lloyds bank wrote to lloyds bank telling themthat if they try and keep  dear customer you're usually sirmadam and esquire on the bank things i don't what  are you satisfied with their  service yes  that sort of thing no stueyit's not very exciting by the sound of it well it could have been a cheque for a yeahcould of beenyes cheque for a few thousand or somethingthat would have   but it weren't i thought it was just a  or something  which i'd a  owed   stodge    look at that god knows why you're at in here when did you go and get that  last week it was   bless me is there anything you want me to do no aye what's the time stuart please it's eleven o'clock  near enough right not quitebut near enough  that's ooh   in the oven and the steak's done  if it's late i can  grill it  then you  have it when you want it aha minute for the sp before i get there come out here  that one  where do you feel it  wonderful  didn't sleep very well did you too excited nothings going through your head innit yeah yeah that's how it is isn't it yeah yeah you're sort of thinking  when my why  got a card and then they tell you to look roundhow much it's gonna cost you and  i meanyou knowjus jus just  you know is everything gonna work outyou know carpets down and then we got their cooker and the fridge and that  andwell you know  and that goes through your i know they just go through your minddon't they what it's all gonna look like will it look nice yeahwill it go in will it fit and how tall is itand how wide is it will we be able to get in before the day  to check up on what colour we want things and yo that sort of thingyou know you just  you know yeah i know as you know  cos you have the same trouble as if we were both tossing and turning and yeah  i know  i knowfunny one yesterdayyou know but not to worry bound to be like that not to worry bound to be likeyou knowa little bit brian knows  brian knew everything more or less or  arranged quite a few things anyway did you brian knew it's the  oh yeah  definitely aren't you tired now nono jus just clearing the old eye out when i did go to sleepi went  i don't remember but it was a long while yeah  yeah i wentwell eventually but like you say it was long wh it was a long while before i actually did  get to sleep but  got there eventually    i'm been to solicitor today annie got it out the wayjust to warn himthere's no po point him getting all these  letters about  mortgagesyou know they're who you are or well  can't do thatcan you no  got any more  annie you got any more nothere's a packet in my bag oh is there a whole packetyeah that's alright then my bag  the weekend in case you were in trouble that's fine then  good  should have enough for weekend untiluntil the weekend i'll have them on fridayif necessary  but thursday i  get you a packet down oh yeah   pardon me that should be alright  yeah we've got to go up town thursday haven't we yesi know  we're going to be investigating some carpet shops while you're signing on the dotted linewon't need me  in there now will you really really  at all er  apart from the  mor moral support moral support  well you need that other stuff first  side hold me up while i signyou know no well i'll go with youif you want it isn't very long  shouldn't be in there long  just a matter of signing all the thingschecking all the  details overputting in what he hasn't filled in already and i'm hoping that they get that letteryou seeing them  weekend  yes and you're not working saturday morninginstead of going to work  late we can go a bit early and  do a bit of shopping ourselves go to town next thursday  before monday thursday morning can't you don't know if i could do the electric one  definitely  guess that's about whether the   i'd like one of themone of them and  yeah but we don't know when it can be deliveredso we can't do it that early  you can't say yeah but  but er we'll let you knowwell we can  so  it's there  that's what we wishthey'd  the bills go and we'll let you know when you can be  the keys can be available for you to put it in and so the  can't  first  mmi know that's the first job  first one in   then you  get the carpet sorted out yeah cos it's much easier than dragging all   at least at least you know how  you know  if he says you can have this one or this one  yeah cos the choice between one or the other  and he says well i can fit this one immediatelybutthis one i've gotta order they've gotta send for i mean it might  might just sway as to one way or the other if there's a bit of a  well we like them bothbut which oneyou know i don't wanna get carpets without you with me  cos you have to live with them as well i can have a look at themnow  in the catalogue yeah but they won't be exactly the same in shops notrue similar but not the same no not the samethat's true mind you i suppose out of a catalogue it's  at least you can feel them and see them  all that oh and i'd rather only on   see the whole roll i'd rather go in the shop and see it  cos sometimesespecially if it's got a pattern on  turn out to be better than the catalogue  cos when it comesit don't look the sameand then the same colour do you cos a  reproduction's never  perfect is it no in a photograph it's never  true  then you go in a shop and what you see is what you get definitely  there's only athere's only really  what two carpets  and these are    carpet   two main bit for a bathroomi mean  neither were very good yeah but then again  yeah but as i say i i if you  if you want the same in the bathroom and the bedroom  well i don't  and the same in the hall in the living room so two colours you only got two carpets to sort out  and a bit of lino  rather than having a different one with this one and a  different one for that one and then  a different one for yeahi'll go and put that  together those alright alright dear hey ann  what did you read your stars today no you didn't what's it say saturn your ruler is in exceptionally  mood now  so it is likely that you will have to put up with rather spartan conditions  but you know how much is at stake for the future so you are happy to do without    that was  how about that darling wellthat's all that ready  just popped it in the oven okay are you ready      well it's the only thing you wanted really yes mm no  i'm sure we are  yes we certainly are dear all seems to have happened in such a rush well yeah but there's so much to think about i know but we had to really because  no because we wouldn't have got that fifteen hundred pounds  they hadn't agreed to do us a service no i wanna get it through well they said they'd waiti mean fifteen hundred pound ain't he would pa put a deposit downit's only five percent  innit fifteen hundred pound  if he was prepared to put a deposit down  or something that would have been fifteen hundred quid yes so  we got it he must have been looking for  bathroom yeah otherwise he wouldn't have accepted without any without any quibble no i thought it was worth pushing for the extra  i mean when he said a thousandi thought it would be  yeah worth pushing for an extra five hundredand did get it yeah well he said a thousand because he knew he could get  he'd carpet that  er er  for a thousand yeah that's why he mentioned that sort of figure  if all you wanted was a or a fridgea cooker  and some carpetsyou could do that easy on a thousand yeah  but now we got the extra  five hundred and which i say is th ismakes up for the  which is five percent of the purchase price  we've got  an extra to play with  and get a bit more yeah not too bad gotta be careful when i'm cookingi shall have to have the window open  me i've got smoke alarms all over the place darling  which is good in a flat truetrue mm but erm  you get steam up in the cooking area and er yeah ding a ling a ling a ling a ling a ling   right  yeah you think bloody hellwhat the hell's  going on here  there is a smoke alarm in the airing cupboard  in case that overheats and there's one in the hall  no i've only seen onei haven't  seen any more than one at there's supposed to be one in the airing cupboard seen that one case the airing cupboard overheatsbut it says on the spec  one airing cupboard when itwill have hot water tank and smoke alarm oh oohoohooh in case you let it  hot water tank starts playing up mhm  it says it doesn'tbut  like i sayi in a way it usually starts   oh yeah  fire servicesrecommend everybody to have it mm especially in an upstairs flat mm  mm it's a   and plenty of warning to get out mhm that's why he's had them put in  cos the flat's more than house in in  the only thing is i would say to you to let a  heat from the kitchen and the  yeah smoke and steam they do tend to  keep going set them off ha ha  and everybody starts running out the door  and all you're doing is frying some breakfast  or something burning the toast  i'll be dissuaded buying a pussy cat altogether now won't i ha ha  yeah it is  once it starts  that upstairs flat it is a little bit er with a deadlock on the front door so he  can't get in and out or anything oh yeah  can't jump on the window to get in or anything mmno they wanted to be inbut you not hear it  no i think pussy cat is  gonna be a no no about us  you'll have to  well it's certainly gonna be  certainly won't let it  looks like a  it's gonna be a little bit tricky isn't it reallyhaving a i think i would just about give up over that it's a shame but i mean a downstairs one wouldn't be quite so bad yeah but those stairs won't  likei meani wouldn't like it that if it was just indoors forever  would youhonestly not really it's not fair on an animal even it's not natural  no cats or something not really is it no i know and i don't fancy litter trays and things either we might do one day or  see yeah but  but not while we're therei don't think it's   must get another budgie sometime  get steven's budgie or something yeah a cat's a little bit out on dashing upstairs now innit really it's a shamebutthere you go definitely is up hereit's  yeah not fair on a animal as i sayhe's bound to  be trapped at the bloody door for hours before anybody come in and it ain't fair no actually that's something we'll have to  negotiate with our  er  opposite neighbour the stair carpets stair carpet hadn't thought of thatwell that's gonna be noisy anybody coming home late at night  wooden stairs don't know who you got  we'll have to wait and see who we get well fling that rug out the hall it'll be a startbung it out on the landing  for a start yeah  yeah so at least there's something up there at the doors to wipe your feet on and what notbut  i'm not splashing out on stair carpet  until somebody else has been  oh no in  as well yeah well there's something that will have to be will be  needed eventually i say a negotiation with  next door neighbour  or something like that but you come home late at night when people are asleep start banging up the stairs and and you lotand stroll in after half past four an five o'clock in the morningyou knowyou do yeah if i don't get up till nineit's a bit  yeah it won't be very nice  so we'll have to just  manage  as for as  the stall light  the hall lighting  who is responsible for that cos the staircase has gotta be liti mean you can't get there is a light out there isn't there i noticed that i mean who who cares for the electricity it's gotta be on someone's electric hasn't it you can'tone flat's not gonna be responsible for having the hall lit up all night long which it will be and then  length of timeunless it's on a timer switch mm  that is something we will have to investigate i know di discuss with our i mean with steven's flat the council are responsible for lighting hallways but we  th they're not  nono  that's right they must be on some sort of a  one of the meters or somebody's meter or somewhere yeah that smells  mm mm mm mm well that's gonna be alright  i don't understand  why every time  you give it another ten minutesmake sure the top  the bacon yeah nice i've gotta nip upstairs er  yes cos i  wouldn't know  i've done enough   okay yep  that's fine i think we need to a empty the ashtray darling yeah or do we get a new car i think so  i said  said to the bloke before  yeah let's have it  bless me oh got a coldyou better go home on traffic lights yeah definitely   poorly  mother's sick for a fortnight well off we goback to work won't use so much petrol from now on anywayto get to work will we wouldn't be a lot of difference actually oh won't it no  by time you  i mean it's not that far  but  by the time you get there the car won't have a chance to warm up thoroughly ohuse more petroli see so you'd be on automatic choke for a bit of the waymost of the way anyway so   mm a little bitbut not a great deal those gears most of the time as well the ones that we  cruise in  top gear  i don't think that's really for me   oh not appreciably amateur ah  sorry  won't do it  perhaps  you turn li little bit there a little bit perhaps    i wouldn't of said it would have been   no cos they'll still be popping out to the  an will we not i hope so yeah so do i  don't wanna lose touch with them now that would be  stroll up to the royal standard yesthat's it  some odd nights we was on our way home from workit's  going up to the   even when we're on earlies and  and weekends we can  go there can't we it's not that far  there along the bypass thereit's not that far away is it about that againit's a similar distance i would say that's what i meanit's not it's as near to the   as it would have been from there    so it's not a lot of  lot of bother  the only thing is that i you gotta drive  in town rather than drive  on country lanes  to get to the main roads    little bit more  dangerous  as far as getting caught is concerned  ha it's   we can always walk up the  yep  walk in the town if you're going walk in the town if you want a good drinkdoesn't matter does it can you get through to town   there's no through road that wayother endbut couldn't is there any short cuts you get into town that way no noit's a longer way is it yeah ah i just wonderedi mean i don't know out that way no  erm  might as well continue now  half way round  do a u-turn that's going the wrong way dear yeah looks like it dunnit not sure of where he is  mm mm no the only w  he's forgotten something the only way to town is  come up to way  and come back again towards  boy's school  then corporation road and then in town no i didn't know if you could walk  if there's any  short cuts if you wanted to walk into town no  no there's not i jus just wonderednot knowing the area as well as you do  wondered if there was a little  you go down to the bottom of these roads there and   do you end up sort of metal box end nothere's metal boxes  at each  well  end yeah i know that's what i meanif you get walking down there you'd come to all the factories i presume if you come up  er when you're at the weasel lane mm  mhm instead of turning up towards the royal standard you turn the other waythat comes down past  mm then you go right down to the bottom of  road you  cos that's a dead end anyway i didn't know if there was lanes going off into townwhe or oh i don't know mhm i shall have to be looking out for a second hand bike-y  just for the occasional trip into town  without getting stuey out of bed  so i be a bit more independent than just  bothering you all timeif i just wanna pop anywhere it isn't a great problem  not really no i know my but it  it'll give me a little independence as well will it not you got a shop at the top of the road ain't you yeah it's not far is it shops at the  top there it's not far from rainbow reallyto do you main shopping if you  in a hurryis it no  that's up  that's just up the   yeah  not far the new tescos  won't be the other way will it the other wayno yeah  yeah that's what i mean it  we're nearer to the both of them really always fascinates me thata little person driving a big car mm  a bit odd it looks very oddyeswhen the heads hardly go above the  the seatyou don't have   is it a kid driving or a  an adult or   is anybody driving  or is it just trundling off on its own hello  er i need a solicitorto act for me  er if that's possible  please it was mentioned that  mr  might be able to help me yeah but if you'd like to come back though cos he's at lunch at the moment wonderful want to make an appointment to come back this afternoon working ah so it has to be  thursday morning i need to get jo to come down and make an appointment   what's the name please  erm there's a mr  in reception can you come down and make an appointment right alright then    hello  did you say thursday morning thursday morning  about ten o'clock bit later if possible bit later than that about eleven about eleven  yeah we've gotta go and see the estate agents as well what did you say mr   yes  eleven  eleven o'clock  eleven o'clock  yeah that will be alright thursday morning    yeah that will be alright that will be fine    yes  alright then  yes eleven o'clock thursday morning eleven o'clock thursday morning okay bye bye thanks very much thank you bye now bye   have you estate agent who says might do when we win the pools    oh you're alright   tomorrow you  yeah that's right i've only got  the one yes but mumsuppose you might have to don't wanna go to work yetdo you noits a bitlittle bit earlywhere d'you wanna go go for a walk can't go up the king's headit's shut no i wasn't really thinking about that i think so got some   on his hair it got darker   what it used to you know what it is   why i knowbut you don't wanna do thatyou don't know what itwhat   silly innit yes oy oynice  i know your type i just want a clean staircase no we're not right we've made a decision  i know we can  but er not being a driver darlingi don't know really much about such things  never had to worry i've always found somewhere chain my bike to a lamp post or er  ha that's quite often why i likewhen i go down norbet street i don't like parking in norbet street itself cos it's only half an hour  if you park down  royal place  it's  it's a  an hour it's an hour then i could have an houryou see so it just gives you that extra breathing space if you yeahcos half an hour's  not really long you get talking to somebody and that's it you go to  you've  the butchers or the bakers or yeah you have a couple of bets in the bookies  that sort of thing half hour can soon be gone quite normal to be a little bit more than half an hour but el traffico wardens about an whoever  takes your number  sort of jus just after you parked then it is half an hour but sometimes it's not for no why that's why they come round yeah but you don't know that do you no if you're in the bookies and   you don't happen to see them well they're just doing their job otherwise people would park anywhereall the time  oh dear take me home i'd love to i'm having a sudden attack attack of  i don't know what but  morbidity ahwhat's that mean how's that sound that sounds wonderfulyeah  look good on a  signal morbidity what's that well  not feeling very happy  morbid morbid mm  yeah yeahoh yeah i've definitely got attack of that workitus yeahdefinitely  idolitus  more like it  oh no you're not idle are you darling no way are you idle i don't know  i could quite easily become now now  yep where shall we park today ann wherever you think is suitable dunno  i know where i'd like to park  not here not here anywhere but here well park somewhere  else then  hawthorn cottages  that's it will do for now or draw a villa so we can have  just  another explore mm be very very nice  get more of an idea there erm than the whole of the shape of the kitchen and the shape of the bathroom and yeah   villa  that okay darling yeah  as right as i'm gonna be i suppose yoh don't forget your biccies else you'll have no tea  lie down here  that's your little lot    what they for oh ted's having a bit of  help ha  not  in the full work  where else would they rather be got john today anyway just don't want yep  morning  yep  wonder how his romance  is going or not going why do you hope everything's alright stuart  ha  that darlingwas not called for tha oh you were walking is it mm oh  so ann's  awful idea she's still having him on  he's such a great giggle oh getting him all  hot  we'll  and bothered   we'll   just thinks it's a great giggle  pretty cruel really  i hardly ever do it ha mum can't really be forced er i hope they don't want  bit of a smelly job up there i would have thought what hello ugly oh hello ugly ah  we can't help you improve your looks like ain't improved yours either who had a go at your haircut well we'll get him for you ain't left you with a lotyou didn't have a lot before  i  steven  what i chucked an overall  last night with forty pence in it i'll see you  what and nobody   that's a fix innit i was gonna say i  yeah  bet nobody in this world's gonna win back forty pence thank you i'll have hishe'll only lose it i   yep what's it with thank you i say thank you  what shall i do i don't know hi annieenjoyed your days off yeplovely thank you good hi jeanie yup no he  oh dear maybe he didn't get the jobwe got a new supervisor coming no hi ann  had a good  hello week yeah lovely great i think it is nono one told me  getting the pushjust said we were getting a new one so i mean that must have meant that we  that he hadn't  commiserationsbut never mind  oh yeah you went  right away didn't you you know if i got in a    that's it mm like he's talking to bernie  are we getting a lady or a mando we know yet no he didn't say man i think  hiya i think you might have something to do with it go and see what's left for mei think i'll open the mail today whywhat's the matter last weeki i cleared up every day  every day alrightyou see i'd go in and count everythingdo everything out cos she had a water leakthe topyou know where she works yeah while i was doing that  all the drums i left last week for them just to do  they hadn't done okay there was thirty two baskets  brought them all out made them  gone off dear yeah but i'm doing it and they clock in  last week she kept up to it all i mean she done the lot and it was all weighed up and finished a before we went homeall done yeah but it's not good that i'm clockingslugging my heart out mm i meannoi'm not kidding when you drag them from where i amdown to the scales  that's fucking hard work mate anndid you have any draw tickets i've got them  you checked  off marion you've checked them i ain't checked themi've been on holiday  i've only come back today  that's been drawn has it oh val won ten pound on the  monthly draw againdidn't she did she yeah oh i wonder where my tickets are now i think they're in here she said you were gonna i won i've been on holiday mate so i ain't  stuart's got some and i've got some  l seven seven one to seven seven five alright and l seven seven eight  six to eighty on the blue seven seventy three yep  i got that in the white that's mine ooh lovely erm  bottle of whisky ohhh  i like   my tickets there seven seven threeso i'll have that ticket yep i like the sound of that john seven seven it would be that wouldn't itbottle of bacardi for ann would it number three and then i've  eight  two one to eight two five and that's one then annand you go and get that yepi get that one at tea time now what else you got then eight se eight  eight  eight two one to  eight two five  eight  have you eight a that's that's on the white is it yeah i got white on  eight sixteen  that's on  yeah the white you got that twenty ninesnowball ooh that's ni i like th i like the snowballso i'm alright oh that's alright   oh we're set up for  christmas now  ooh lovely you can come along two prizes any more that's smashing be nice  sh shake them up that's lovely worth coming back for weren't it whoops say you're on a a green right up that greeneight hundreds eight hundred and twenty one to eight hundred and twenty five more than thirty five make it a  green john that's it eight forty eight no  notwenties no no oh well you've only got two right you got two that's ifif you've got two  i know that's lovely one off each stripone for you and one for mehave to go and claim them at tea time wonderfulwonderful you won't have three  not badthree  whisky yep and a snowball then lovely right smashing what you won ann bottle of whisky and a snowball oh lovely ann he's quite happy to win the bottle of  thing yeah he's quite happy with the whiskyyeah favourite tippleit is won quite happy yeah don't know what the time isi didn't even look when i clocked in anybody  know the time no it's about quarter to now ohi'm not in hurry you you've got two  yeah  oh lovely  smashing yeah oh getting quite good on these rafflesdear yeah haha ha you're going good   you think when i'm   no obviously not hello hello good holiday lovely thank you  didn't wanna come back no i don't blame you how's shirley well she said her arm's still hurting her hello tina hello how's tina nice holiday yeah smashing thank you  and youalright yeah still got a cold no i can't   clean the floors  saturdayup   and i think  she's scrubbing the floor with the brush  done all the muscle might show her that  i only looked at  never used to so much hard workyou see tina well we i weren't feeling very well yeah tina i think it was a hangover oh yeah but it it had last all day  but  but how how poorly is  is wiggy poorly is he  will he give us a hand is he alright to oh yeah he's alright just we got we're on the move your moving and we need s we need  stuart gets a van he'll need someone to help him lift the washing machine and so on like  yeah  he said he's alright  and help him do that he's  he's alright but he just  no i mean we wouldn't ask him if he's not well no he just don't  wanna come to work and that can you ask him how much that van he had  you know he hired that van with   he hired a vanhow much it was yeahyeah yeah  well can you ask him how much it was yeah just like to knowjust  yeah a rough idea so we can  we might  i dunno whether we'll hire onewe might ask see if we can borrow one from somewhere cos that er  cos that weren't the one he hired no i know it weren't he wanted a bigger didn't he yeah  but tha tha  yeah i'll ask him  that'll be plenty big enough  cos there's not that much we yo we need to move no oh i thought you was buying that one  so ann told us they wanted  we'd like  too much money we'd like to so ann told usso that's   they wanted too much money  hellohellohellohello  too much  where you off to then somewhere just bought one there oh yeah  oh so and we might ask  a depending on how much it's gonna beaski dunno if rogers still got his van or  or somebodyyou know give them  or young simon twenty quid or somethingif they'll me theirs or it's only really the bedthe washing machinethe table and a couple of wardrobes cos i'll be having a new three piece  yeah so i shan't take that and  no carpets we're  oh having new and  yeah i mean another thing yeah i'll  they wanted too much money for iti mean we paid three thousand in rent and that was supposed to come off ithe still wanted oh the same a as what ann had  for theirs  i mean we've had it for a year and paid all that rent yeah  oh so we decided it weren't a good enough buy re he  no wouldn't knock  he wouldn't come down at all and then the  everywhere else were  knock some off if the market's not very good at the moment yeahoh so so we've got quite a bit off this one yeahoh  so  so we went u  and you sort of round town yeahit is  it's near enough to town but out of it yeah yeah out the way well it's ayeah you  we been li that's what we've doinghouse hunting he's alright yesterday we made our mind up to have that one and we've set a  sign some papers so  yeah it's all going ahead  they want us in as soon as possible that's how we got such a good yeah thing but my  i know rent's up the sixteenth of  december and there's  is it no point in paying another months rent no yeah we're going to stay with his mums's for a few days sh sh  yeah she's quite happy another two hundred fifty quid rent and   i mean that'll go towards solicitors fees that's it or whatever that's it innit yeah he's alright physically yeah it's just a bit of pain i mean i wouldn't ask him if he isn't very well no he's he's a lot better  not got  i say i don't think i can a manage to l help stuart lift the washing machine  yes and the big wardrobe it's  noyeah i'll see how it goes anywaybut if you ask him  yeah yeah how much it wasi'd like to find out yeah i'll fi i'll find out for you so we've got an idea of how much  it's gonna cost us to move sayif not   well i'll be moving to mums' for start anywayput them in her garageunless we get the keys  ever so quick yeah if they're gonna put it through as quick as they can for uscos they want us they want us in we've got this bargain  through anyway i'll see you later dear cos we agreed to do it quickwe've got a  yeah  bargainyou see well yeah when they want a near where you are and where  where i am are you  oh they are    twenty five past five  for me yep  alright darling see you later then ann yeah.\n",
      "\n"
     ]
    }
   ],
   "source": [
    "robo = CHATBOT(sentences)\n",
    "robo.created_message()\n",
    "time.sleep(2)\n",
    "\n",
    "terminate_flag = False\n",
    "while not terminate_flag:\n",
    "    user_input = input()\n",
    "    if user_input=='exit':\n",
    "        terminate_flag = True\n",
    "        continue\n",
    "    robo_response = robo.respond(user_input)\n",
    "    print('%s\\n'%robo_response)"
   ]
  },
  {
   "cell_type": "code",
   "execution_count": null,
   "metadata": {},
   "outputs": [],
   "source": []
  }
 ],
 "metadata": {
  "kernelspec": {
   "display_name": "Python 3",
   "language": "python",
   "name": "python3"
  },
  "language_info": {
   "codemirror_mode": {
    "name": "ipython",
    "version": 3
   },
   "file_extension": ".py",
   "mimetype": "text/x-python",
   "name": "python",
   "nbconvert_exporter": "python",
   "pygments_lexer": "ipython3",
   "version": "3.7.3"
  }
 },
 "nbformat": 4,
 "nbformat_minor": 2
}
