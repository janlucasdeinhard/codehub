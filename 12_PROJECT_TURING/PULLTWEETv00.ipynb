{
 "cells": [
  {
   "cell_type": "code",
   "execution_count": 1,
   "metadata": {},
   "outputs": [
    {
     "name": "stderr",
     "output_type": "stream",
     "text": [
      "C:\\Users\\Jan\\Anaconda3\\lib\\site-packages\\h5py\\__init__.py:36: FutureWarning: Conversion of the second argument of issubdtype from `float` to `np.floating` is deprecated. In future, it will be treated as `np.float64 == np.dtype(float).type`.\n",
      "  from ._conv import register_converters as _register_converters\n",
      "Using TensorFlow backend.\n"
     ]
    }
   ],
   "source": [
    "import numpy as np\n",
    "from numpy import random as rnd\n",
    "from matplotlib import pyplot as plt\n",
    "import os,datetime,warnings\n",
    "\n",
    "import tensorflow as tf\n",
    "import pandas as pd\n",
    "import seaborn as sns\n",
    "\n",
    "from keras.models import Model,Sequential\n",
    "from keras.layers import Dense,LSTM,Conv2D,Conv2DTranspose,Dropout,GRU,Activation,Add,Concatenate,BatchNormalization,Bidirectional,Embedding,Flatten\n",
    "\n",
    "from contextlib import closing\n",
    "import io\n",
    "import dropbox\n",
    "\n",
    "from tweepy import API,OAuthHandler\n",
    "import json\n",
    "\n",
    "warnings.filterwarnings('ignore')\n",
    "sns.set()"
   ]
  },
  {
   "cell_type": "code",
   "execution_count": 20,
   "metadata": {},
   "outputs": [],
   "source": [
    "with open('..\\\\..\\\\AUTH\\\\twitter_auth.txt','r') as file:\n",
    "    access_token = file.readline()[:-1]\n",
    "    access_token_secret = file.readline()[:-1]\n",
    "    consumer_key = file.readline()[:-1]\n",
    "    consumer_secret = file.readline()"
   ]
  },
  {
   "cell_type": "code",
   "execution_count": 21,
   "metadata": {},
   "outputs": [
    {
     "data": {
      "text/plain": [
       "'6CBeowO5ceYvQhCxHkq9SdIbFUzY5bfrs72Evky1gatGGc4BUF'"
      ]
     },
     "execution_count": 21,
     "metadata": {},
     "output_type": "execute_result"
    }
   ],
   "source": [
    "consumer_secret"
   ]
  },
  {
   "cell_type": "code",
   "execution_count": 22,
   "metadata": {},
   "outputs": [],
   "source": [
    "auth = OAuthHandler(consumer_key,consumer_secret)\n",
    "auth.set_access_token(access_token,access_token_secret)"
   ]
  },
  {
   "cell_type": "code",
   "execution_count": 23,
   "metadata": {},
   "outputs": [],
   "source": [
    "api = API(auth)"
   ]
  },
  {
   "cell_type": "code",
   "execution_count": 24,
   "metadata": {},
   "outputs": [],
   "source": [
    "tweets = api.home_timeline()\n",
    "tweet_data = [t._json for t in tweets]\n",
    "user_list = [t['user']['screen_name'] for t in tweet_data]"
   ]
  },
  {
   "cell_type": "code",
   "execution_count": 25,
   "metadata": {},
   "outputs": [
    {
     "name": "stdout",
     "output_type": "stream",
     "text": [
      "{'FiveThirtyEight'}\n",
      "{'FiveThirtyEight'}\n",
      "{'FiveThirtyEight'}\n",
      "{'FiveThirtyEight'}\n",
      "{'FiveThirtyEight'}\n",
      "{'realDonaldTrump'}\n",
      "{'TEDTalks'}\n",
      "{'realDonaldTrump'}\n",
      "{'realDonaldTrump'}\n",
      "{'realDonaldTrump'}\n",
      "{'FiveThirtyEight'}\n",
      "{'jordanbpeterson'}\n",
      "{'Princeton'}\n",
      "{'realDonaldTrump'}\n",
      "{'realDonaldTrump'}\n",
      "{'realDonaldTrump'}\n",
      "{'realDonaldTrump'}\n",
      "{'realDonaldTrump'}\n",
      "{'realDonaldTrump'}\n",
      "{'realDonaldTrump'}\n"
     ]
    }
   ],
   "source": [
    "for userID in user_list:\n",
    "\n",
    "    tweets = api.user_timeline(screen_name=userID,count=100,include_rts=False,tweet_mode='extended')\n",
    "    tweet_data = [t._json for t in tweets]\n",
    "    user_list = [t['user']['screen_name'] for t in tweet_data]\n",
    "    print(set(user_list))"
   ]
  },
  {
   "cell_type": "code",
   "execution_count": null,
   "metadata": {},
   "outputs": [],
   "source": []
  }
 ],
 "metadata": {
  "kernelspec": {
   "display_name": "Python 3",
   "language": "python",
   "name": "python3"
  },
  "language_info": {
   "codemirror_mode": {
    "name": "ipython",
    "version": 3
   },
   "file_extension": ".py",
   "mimetype": "text/x-python",
   "name": "python",
   "nbconvert_exporter": "python",
   "pygments_lexer": "ipython3",
   "version": "3.6.5"
  }
 },
 "nbformat": 4,
 "nbformat_minor": 2
}
