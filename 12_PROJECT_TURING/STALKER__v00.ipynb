{
 "cells": [
  {
   "cell_type": "code",
   "execution_count": 96,
   "metadata": {},
   "outputs": [],
   "source": [
    "import numpy as np\n",
    "from numpy import random as rnd\n",
    "from matplotlib import pyplot as plt\n",
    "import os,warnings,math,time,datetime\n",
    "\n",
    "import torch\n",
    "import pandas as pd\n",
    "\n",
    "from itertools import product\n",
    "\n",
    "import requests\n",
    "from bs4 import BeautifulSoup\n",
    "\n",
    "from googlesearch import search"
   ]
  },
  {
   "cell_type": "code",
   "execution_count": 261,
   "metadata": {},
   "outputs": [],
   "source": [
    "import nltk\n",
    "from langdetect import detect_langs\n",
    "import pycountry"
   ]
  },
  {
   "cell_type": "code",
   "execution_count": 197,
   "metadata": {},
   "outputs": [],
   "source": [
    "try: \n",
    "    nltk.data.find('corpora/names')\n",
    "except:\n",
    "    nltk.download('names')\n",
    "names_list = set(nltk.corpus.names.words())"
   ]
  },
  {
   "cell_type": "code",
   "execution_count": 235,
   "metadata": {},
   "outputs": [],
   "source": [
    "info_cities = pd.read_csv('..\\..\\TF_data\\Countries\\worldcitiespop.csv',low_memory=False)\n",
    "cities = set(info_cities['City'].tolist())"
   ]
  },
  {
   "cell_type": "code",
   "execution_count": 185,
   "metadata": {},
   "outputs": [],
   "source": [
    "query = 'elaine fernandez' \n",
    "\n",
    "res = search(\n",
    "    query,\n",
    "    tld = 'com', \n",
    "    start = 0,\n",
    "    stop = 10, \n",
    "    pause = 2\n",
    ")"
   ]
  },
  {
   "cell_type": "code",
   "execution_count": 186,
   "metadata": {},
   "outputs": [],
   "source": [
    "p = list(res)"
   ]
  },
  {
   "cell_type": "code",
   "execution_count": 194,
   "metadata": {},
   "outputs": [],
   "source": [
    "page = requests.get(p[6])"
   ]
  },
  {
   "cell_type": "code",
   "execution_count": 195,
   "metadata": {
    "scrolled": true
   },
   "outputs": [],
   "source": [
    "soup = BeautifulSoup(page.content,'html.parser')"
   ]
  },
  {
   "cell_type": "code",
   "execution_count": 196,
   "metadata": {},
   "outputs": [
    {
     "name": "stdout",
     "output_type": "stream",
     "text": [
      "https://www.counselling-directory.org.uk\n",
      "/profile_shortlist.php\n",
      "#\n",
      "#\n",
      "https://secure.counselling-directory.org.uk/memberlogin.php?action=logout\n",
      "https://secure.counselling-directory.org.uk/membersarea.php\n",
      "https://secure.counselling-directory.org.uk/membersarea.php\n",
      "https://secure.counselling-directory.org.uk/memberlogin.php\n",
      "https://secure.counselling-directory.org.uk/join.html\n",
      "https://www.counselling-directory.org.uk/adv-search.html\n",
      "https://www.counselling-directory.org.uk\n",
      "https://www.counselling-directory.org.uk/areaspage.html\n",
      "https://www.counselling-directory.org.uk/gettinghelp.html\n",
      "https://www.counselling-directory.org.uk/what-is-counselling.html\n",
      "https://www.counselling-directory.org.uk/counselling.html\n",
      "https://www.counselling-directory.org.uk/importantinfo.html\n",
      "https://www.counselling-directory.org.uk/adv-search.html\n",
      "https://www.counselling-directory.org.uk/worried-about-someone.html\n",
      "https://www.counselling-directory.org.uk/site-help.html\n",
      "https://www.counselling-directory.org.uk/self-care.html\n",
      "https://www.counselling-directory.org.uk/memberarticles.html\n",
      "https://www.counselling-directory.org.uk/events.html\n",
      "https://www.counselling-directory.org.uk/stats.html\n",
      "https://www.counselling-directory.org.uk/personalexperiences.php\n",
      "https://secure.counselling-directory.org.uk/membersarea.php\n",
      "https://secure.counselling-directory.org.uk/memberlogin.php?action=logout\n",
      "https://secure.counselling-directory.org.uk/memberlogin.php\n",
      "https://secure.counselling-directory.org.uk/join.html\n",
      "https://www.counselling-directory.org.uk/areaspage.html\n",
      "https://www.counselling-directory.org.uk/attachment-disorder.html\n",
      "https://www.counselling-directory.org.uk/bereavement.html\n",
      "https://www.counselling-directory.org.uk/anger.html\n",
      "https://www.counselling-directory.org.uk/childrelatedissues.html\n",
      "https://www.counselling-directory.org.uk/depression.html\n",
      "https://www.counselling-directory.org.uk/anxiety.html\n",
      "https://www.counselling-directory.org.uk/relationship.html\n",
      "https://www.counselling-directory.org.uk/counselling.html\n",
      "https://www.counselling-directory.org.uk/what-is-counselling.html\n",
      "https://www.counselling-directory.org.uk/counselling.html\n",
      "https://www.counselling-directory.org.uk/psychiatrists-psychologists-psychotherapists-counsellors.html\n",
      "https://www.counselling-directory.org.uk/adv-search.html\n",
      "https://www.counselling-directory.org.uk/importantinfo.html\n",
      "https://www.counselling-directory.org.uk/site-help.html\n",
      "https://www.counselling-directory.org.uk/search-supervisor.html\n",
      "https://www.counselling-directory.org.uk/memberarticles.html\n",
      "https://www.counselling-directory.org.uk/memberarticles.html\n",
      "https://www.counselling-directory.org.uk\n",
      "/verifiedseal.html\n",
      "/verifiedseal.html\n",
      "http://www.counsellinghertsservices.co.uk\n",
      "#\n",
      "https://secure.counselling-directory.org.uk/counselloremail_45367.html\n",
      "/accreditation.html\n",
      "/abortion.html\n",
      "/abuse.html\n",
      "/addictions.html\n",
      "/adhd.html\n",
      "/infidelity.html\n",
      "/alcohol.html\n",
      "/anger.html\n",
      "/antisocial.html\n",
      "/anxiety.html\n",
      "/attachment-disorder.html\n",
      "/avoidant.html\n",
      "/bereavement.html\n",
      "/body-dysmorphic-disorder.html\n",
      "/borderline.html\n",
      "/bullying.html\n",
      "/career.html\n",
      "/childrelatedissues.html\n",
      "/chronic-fatigue-syndrome.html\n",
      "/dependent.html\n",
      "/depression.html\n",
      "/dissociation.html\n",
      "/domestic-violence.html\n",
      "/drug.html\n",
      "/emotional-abuse.html\n",
      "/family-issues.html\n",
      "/gambling.html\n",
      "/gad.html\n",
      "/health-anxiety.html\n",
      "/compulsive-hoarding.html\n",
      "/internet-addiction.html\n",
      "/loneliness.html\n",
      "/confidence.html\n",
      "/esteem.html\n",
      "/ocd.html\n",
      "/ocdpersonality.html\n",
      "/panic.html\n",
      "/ppd.html\n",
      "/passive-aggressive.html\n",
      "/phobias.html\n",
      "/physical-abuse.html\n",
      "/ptsd.html\n",
      "/postnatal.html\n",
      "/pregnancy-and-childbirth.html\n",
      "/redundancy.html\n",
      "/relationship.html\n",
      "/seasonal-affective-disorder.html\n",
      "/self-harm.html\n",
      "/separation.html\n",
      "/sexual-abuse.html\n",
      "/smoking.html\n",
      "/spirituality.html\n",
      "/stress.html\n",
      "/suicidal-thoughts.html\n",
      "/trauma.html\n",
      "/workissues.html\n",
      "/behavioural.html\n",
      "/cognitive-and-behavioural.html\n",
      "/cognitive-behavioural-therapy.html\n",
      "/cognitive-therapy.html\n",
      "/existential-therapy.html\n",
      "/gestalt-therapy.html\n",
      "/humanistic.html\n",
      "/integrative-therapy.html\n",
      "/jungian-therapy.html\n",
      "/mindfulness.html\n",
      "/other-therapies.html\n",
      "/person-centred-therapy.html\n",
      "/psychoanalytical-and-psychodynamic.html\n",
      "/psychodynamic-therapy.html\n",
      "http://www.counsellinghertsservices.co.uk\n",
      "https://www.counselling-directory.org.uk/counsellor_63201.html\n",
      "#contactdetails\n",
      "#\n",
      "/counselloremail_45367.html\n",
      "#\n",
      "#\n",
      "https://www.counselling-directory.org.uk/about.html\n",
      "https://www.counselling-directory.org.uk/legalterms.html\n",
      "https://www.counselling-directory.org.uk/cookie-policy.php\n",
      "https://www.counselling-directory.org.uk/privacy.html\n",
      "https://www.counselling-directory.org.uk/browse.html\n",
      "https://www.counselling-directory.org.uk/press/\n",
      "https://www.counselling-directory.org.uk/search-supervisor.html\n",
      "https://www.counselling-directory.org.uk/links.html\n",
      "https://www.counselling-directory.org.uk/sitemap.html\n",
      "https://www.counselling-directory.org.uk/site-help.html\n",
      "https://www.counselling-directory.org.uk/contact.php\n",
      "https://www.memiah.co.uk\n",
      "https://www.happiful.com\n",
      "https://www.happiful.com\n",
      "https://www.counselling-directory.org.uk/privacy.html\n",
      "https://www.counselling-directory.org.uk/cookie-policy.php\n"
     ]
    }
   ],
   "source": [
    "for l in soup.findAll('a',href=True):\n",
    "    print(l['href'])"
   ]
  },
  {
   "cell_type": "code",
   "execution_count": 271,
   "metadata": {},
   "outputs": [],
   "source": [
    "countries = []\n",
    "for t in soup.findAll('p'):\n",
    "    s = str(t).lstrip('<p>').rstrip('</p>')\n",
    "    L = detect_langs(s)[0].lang\n",
    "    if not L in countries: countries.append(L)"
   ]
  },
  {
   "cell_type": "code",
   "execution_count": 288,
   "metadata": {},
   "outputs": [],
   "source": [
    "english = pycountry.languages.get(alpha_2='en')"
   ]
  },
  {
   "cell_type": "code",
   "execution_count": 275,
   "metadata": {},
   "outputs": [
    {
     "data": {
      "text/html": [
       "<div>\n",
       "<style scoped>\n",
       "    .dataframe tbody tr th:only-of-type {\n",
       "        vertical-align: middle;\n",
       "    }\n",
       "\n",
       "    .dataframe tbody tr th {\n",
       "        vertical-align: top;\n",
       "    }\n",
       "\n",
       "    .dataframe thead th {\n",
       "        text-align: right;\n",
       "    }\n",
       "</style>\n",
       "<table border=\"1\" class=\"dataframe\">\n",
       "  <thead>\n",
       "    <tr style=\"text-align: right;\">\n",
       "      <th></th>\n",
       "      <th>Country</th>\n",
       "      <th>City</th>\n",
       "      <th>AccentCity</th>\n",
       "      <th>Region</th>\n",
       "      <th>Population</th>\n",
       "      <th>Latitude</th>\n",
       "      <th>Longitude</th>\n",
       "    </tr>\n",
       "  </thead>\n",
       "  <tbody>\n",
       "  </tbody>\n",
       "</table>\n",
       "</div>"
      ],
      "text/plain": [
       "Empty DataFrame\n",
       "Columns: [Country, City, AccentCity, Region, Population, Latitude, Longitude]\n",
       "Index: []"
      ]
     },
     "execution_count": 275,
     "metadata": {},
     "output_type": "execute_result"
    }
   ],
   "source": [
    "info_cities[info_cities['Country']=='en']"
   ]
  },
  {
   "cell_type": "code",
   "execution_count": 262,
   "metadata": {},
   "outputs": [
    {
     "name": "stdout",
     "output_type": "stream",
     "text": [
      "[en:0.999997439633125]\n",
      "[en:0.9999974670126885]\n",
      "[en:0.8571404660502386, es:0.1428564303152836]\n",
      "[en:0.9999967761937719]\n",
      "[en:0.9999957884648689]\n",
      "[en:0.9999972979529079]\n",
      "[en:0.9999975863802982]\n",
      "[en:0.999995403797617]\n",
      "[en:0.9999956675928574]\n",
      "[en:0.999996331462816]\n",
      "[en:0.9999976842274393]\n",
      "[en:0.9999950071474033]\n",
      "[en:0.9999972211267237]\n",
      "[en:0.9999959564521285]\n",
      "[en:0.9999950007218791]\n",
      "[en:0.9999955934867302]\n",
      "[en:0.999997535170623]\n",
      "[en:0.9999981449285721]\n",
      "[en:0.9999974070538693]\n",
      "[en:0.9999968637784531]\n",
      "[en:0.999996326626662]\n",
      "[en:0.9999981762268015]\n",
      "[en:0.9999945352451153]\n",
      "[en:0.9999938496232778]\n",
      "[da:0.9999911928978885]\n",
      "[en:0.9999950259345642]\n",
      "[en:0.9999963504866476]\n",
      "[en:0.9999952108965356]\n",
      "[en:0.9999966896651209]\n",
      "[en:0.9999982326241708]\n",
      "[en:0.9999963587366822]\n",
      "[en:0.999995954293749]\n",
      "[en:0.9999961063178876]\n",
      "[en:0.9999967449927356]\n",
      "[en:0.9999966036796957]\n"
     ]
    }
   ],
   "source": [
    "tok = nltk.tokenize.simple.SpaceTokenizer()\n",
    "\n",
    "name_found_sent = []\n",
    "city_found_sent = []\n",
    "for t in soup.findAll('p'):\n",
    "    s = str(t).lstrip('<p>').rstrip('</p>')\n",
    "    tokenized = [k.lower() for k in tok.tokenize(s)]\n",
    "    names_data = set(tokenized).intersection(names_list)\n",
    "    city_data = set(tokenized).intersection(cities)\n",
    "    if len(names_data)>0: name_found_sent.append([names_data,s])\n",
    "    if len(city_data)>0: city_found_sent.append([city_data,s]) "
   ]
  },
  {
   "cell_type": "code",
   "execution_count": 253,
   "metadata": {},
   "outputs": [
    {
     "data": {
      "text/plain": [
       "[{'during', 'fee', 'is', 'now', 'of', 'telephone', 'this'},\n",
       " 'strong>Online<em> &amp; Telephone counselling is NOW available during this period of COVD-19.\\xa0 Reduced fee offered.</em></strong']"
      ]
     },
     "execution_count": 253,
     "metadata": {},
     "output_type": "execute_result"
    }
   ],
   "source": [
    "city_found_sent[2]"
   ]
  },
  {
   "cell_type": "code",
   "execution_count": 260,
   "metadata": {},
   "outputs": [
    {
     "data": {
      "text/html": [
       "<div>\n",
       "<style scoped>\n",
       "    .dataframe tbody tr th:only-of-type {\n",
       "        vertical-align: middle;\n",
       "    }\n",
       "\n",
       "    .dataframe tbody tr th {\n",
       "        vertical-align: top;\n",
       "    }\n",
       "\n",
       "    .dataframe thead th {\n",
       "        text-align: right;\n",
       "    }\n",
       "</style>\n",
       "<table border=\"1\" class=\"dataframe\">\n",
       "  <thead>\n",
       "    <tr style=\"text-align: right;\">\n",
       "      <th></th>\n",
       "      <th>Country</th>\n",
       "      <th>City</th>\n",
       "      <th>AccentCity</th>\n",
       "      <th>Region</th>\n",
       "      <th>Population</th>\n",
       "      <th>Latitude</th>\n",
       "      <th>Longitude</th>\n",
       "    </tr>\n",
       "  </thead>\n",
       "  <tbody>\n",
       "    <tr>\n",
       "      <th>783998</th>\n",
       "      <td>de</td>\n",
       "      <td>tittling</td>\n",
       "      <td>Tittling</td>\n",
       "      <td>02</td>\n",
       "      <td>NaN</td>\n",
       "      <td>48.7</td>\n",
       "      <td>13.4</td>\n",
       "    </tr>\n",
       "  </tbody>\n",
       "</table>\n",
       "</div>"
      ],
      "text/plain": [
       "       Country      City AccentCity Region  Population  Latitude  Longitude\n",
       "783998      de  tittling   Tittling     02         NaN      48.7       13.4"
      ]
     },
     "execution_count": 260,
     "metadata": {},
     "output_type": "execute_result"
    }
   ],
   "source": [
    "info_cities[info_cities['City']=='tittling']"
   ]
  },
  {
   "cell_type": "code",
   "execution_count": null,
   "metadata": {},
   "outputs": [],
   "source": []
  }
 ],
 "metadata": {
  "kernelspec": {
   "display_name": "Python 3",
   "language": "python",
   "name": "python3"
  },
  "language_info": {
   "codemirror_mode": {
    "name": "ipython",
    "version": 3
   },
   "file_extension": ".py",
   "mimetype": "text/x-python",
   "name": "python",
   "nbconvert_exporter": "python",
   "pygments_lexer": "ipython3",
   "version": "3.6.5"
  }
 },
 "nbformat": 4,
 "nbformat_minor": 2
}
