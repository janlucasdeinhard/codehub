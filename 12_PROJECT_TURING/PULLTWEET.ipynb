{
 "cells": [
  {
   "cell_type": "code",
   "execution_count": 17,
   "metadata": {},
   "outputs": [],
   "source": [
    "import numpy as np\n",
    "from numpy import random as rnd\n",
    "from matplotlib import pyplot as plt\n",
    "import os,datetime,warnings\n",
    "\n",
    "import tensorflow as tf\n",
    "import pandas as pd\n",
    "import seaborn as sns\n",
    "\n",
    "from keras.models import Model,Sequential\n",
    "from keras.layers import Dense,LSTM,Conv2D,Conv2DTranspose,Dropout,GRU,Activation,Add,Concatenate,BatchNormalization,Bidirectional,Embedding,Flatten\n",
    "\n",
    "from contextlib import closing\n",
    "import io\n",
    "import dropbox\n",
    "\n",
    "from tweepy import API,OAuthHandler\n",
    "import json\n",
    "\n",
    "warnings.filterwarnings('ignore')\n",
    "sns.set()"
   ]
  },
  {
   "cell_type": "code",
   "execution_count": 9,
   "metadata": {},
   "outputs": [],
   "source": [
    "access_token = '978996243174252544-9pE216Y0WYqlchu6mf7IsRXNlnb4t76'\n",
    "access_token_secret = 'ACMjHRqsZmkoIwpg9i2UmthHw5GQzCsbmCVXLDhhq5Ko7'\n",
    "consumer_key = 'DAVdqPcvc0KYKrmhxojzadzFV'\n",
    "consumer_secret = '6CBeowO5ceYvQhCxHkq9SdIbFUzY5bfrs72Evky1gatGGc4BUF'"
   ]
  },
  {
   "cell_type": "code",
   "execution_count": 64,
   "metadata": {},
   "outputs": [],
   "source": [
    "auth = tweepy.OAuthHandler(consumer_key,consumer_secret)\n",
    "auth.set_access_token(access_token,access_token_secret)"
   ]
  },
  {
   "cell_type": "code",
   "execution_count": 65,
   "metadata": {},
   "outputs": [],
   "source": [
    "api = API(auth)"
   ]
  },
  {
   "cell_type": "code",
   "execution_count": 135,
   "metadata": {},
   "outputs": [],
   "source": [
    "tweets = api.home_timeline()\n",
    "tweet_data = [t._json for t in tweets]\n",
    "user_list = [t['user']['screen_name'] for t in tweet_data]"
   ]
  },
  {
   "cell_type": "code",
   "execution_count": 136,
   "metadata": {},
   "outputs": [
    {
     "name": "stdout",
     "output_type": "stream",
     "text": [
      "{'TEDTalks'}\n",
      "{'TEDTalks'}\n",
      "{'Princeton'}\n",
      "{'bgreene'}\n",
      "{'FiveThirtyEight'}\n",
      "{'jordanbpeterson'}\n",
      "{'TEDTalks'}\n",
      "{'FiveThirtyEight'}\n",
      "{'TEDTalks'}\n",
      "{'Princeton'}\n",
      "{'MIT'}\n",
      "{'TEDTalks'}\n",
      "{'TEDTalks'}\n",
      "{'realDonaldTrump'}\n",
      "{'realDonaldTrump'}\n",
      "{'TEDTalks'}\n",
      "{'TEDTalks'}\n",
      "{'jordanbpeterson'}\n",
      "{'realDonaldTrump'}\n",
      "{'TEDTalks'}\n"
     ]
    }
   ],
   "source": [
    "for userID in user_list:\n",
    "\n",
    "    tweets = api.user_timeline(screen_name=userID,count=100,include_rts=False,tweet_mode='extended')\n",
    "    tweet_data = [t._json for t in tweets]\n",
    "    user_list = [t['user']['screen_name'] for t in tweet_data]\n",
    "    print(set(user_list))"
   ]
  },
  {
   "cell_type": "code",
   "execution_count": null,
   "metadata": {},
   "outputs": [],
   "source": []
  }
 ],
 "metadata": {
  "kernelspec": {
   "display_name": "Python 3",
   "language": "python",
   "name": "python3"
  },
  "language_info": {
   "codemirror_mode": {
    "name": "ipython",
    "version": 3
   },
   "file_extension": ".py",
   "mimetype": "text/x-python",
   "name": "python",
   "nbconvert_exporter": "python",
   "pygments_lexer": "ipython3",
   "version": "3.6.5"
  }
 },
 "nbformat": 4,
 "nbformat_minor": 2
}
