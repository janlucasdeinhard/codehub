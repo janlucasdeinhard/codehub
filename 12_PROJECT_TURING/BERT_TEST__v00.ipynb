{
 "cells": [
  {
   "cell_type": "code",
   "execution_count": 1,
   "metadata": {},
   "outputs": [],
   "source": [
    "import numpy as np\n",
    "from matplotlib import pyplot as plt\n",
    "from numpy import random as rnd\n",
    "import warnings,math,itertools,datetime,time,logging,os\n",
    "\n",
    "import torch\n",
    "import pandas as pd\n",
    "\n",
    "from pytorch_pretrained_bert import BertTokenizer,BertModel,BertForMaskedLM\n",
    "\n",
    "from bs4 import BeautifulSoup\n",
    "#logging.basicConfig(level=logging.INFO)"
   ]
  },
  {
   "cell_type": "code",
   "execution_count": 2,
   "metadata": {},
   "outputs": [],
   "source": [
    "basedir = '..\\\\..\\\\TF_data\\\\BLOGENTRIES\\\\blogs\\\\'\n",
    "\n",
    "files = os.listdir(basedir)[:250]\n",
    "\n",
    "df = pd.DataFrame()\n",
    "for c_file in files:\n",
    "    \n",
    "    try:\n",
    "        with open(basedir+c_file) as fp: soup = BeautifulSoup(fp, 'xml')\n",
    "    except:\n",
    "        continue\n",
    "    cells = soup.findAll(['date','post'])\n",
    "\n",
    "    data = []\n",
    "    for k in range(0,len(cells),2):\n",
    "        data.append([\n",
    "            str(cells[k]).replace('<date>','').replace('</date>','').replace(',','-'),\n",
    "            str(cells[k+1]).replace('<post>','').replace('</post>','').replace('\\n','').replace('\\t','').lstrip().rstrip()\n",
    "        ])\n",
    "    cf = pd.DataFrame(data).rename(columns={0:'Date Post',1:'Text Post'})\n",
    "    c_ID,c_Gender,c_Age,c_Topic,c_AstroSign = c_file.split('.')[:-1]\n",
    "\n",
    "    cf['ID Poster'] = c_ID\n",
    "    cf['Gender Poster'] = c_Gender\n",
    "    cf['Age Poster'] = c_Age\n",
    "    cf['Topic Channel'] = c_Topic\n",
    "    cf['Astro Sign Poster'] = c_AstroSign\n",
    "    \n",
    "    df = pd.concat([df,cf]).reset_index(drop=True)"
   ]
  },
  {
   "cell_type": "code",
   "execution_count": 3,
   "metadata": {},
   "outputs": [
    {
     "data": {
      "text/html": [
       "<div>\n",
       "<style scoped>\n",
       "    .dataframe tbody tr th:only-of-type {\n",
       "        vertical-align: middle;\n",
       "    }\n",
       "\n",
       "    .dataframe tbody tr th {\n",
       "        vertical-align: top;\n",
       "    }\n",
       "\n",
       "    .dataframe thead th {\n",
       "        text-align: right;\n",
       "    }\n",
       "</style>\n",
       "<table border=\"1\" class=\"dataframe\">\n",
       "  <thead>\n",
       "    <tr style=\"text-align: right;\">\n",
       "      <th></th>\n",
       "      <th>Date Post</th>\n",
       "      <th>Text Post</th>\n",
       "      <th>ID Poster</th>\n",
       "      <th>Gender Poster</th>\n",
       "      <th>Age Poster</th>\n",
       "      <th>Topic Channel</th>\n",
       "      <th>Astro Sign Poster</th>\n",
       "    </tr>\n",
       "  </thead>\n",
       "  <tbody>\n",
       "    <tr>\n",
       "      <th>0</th>\n",
       "      <td>31-May-2004</td>\n",
       "      <td>Well, everyone got up and going this morning. ...</td>\n",
       "      <td>1000331</td>\n",
       "      <td>female</td>\n",
       "      <td>37</td>\n",
       "      <td>indUnk</td>\n",
       "      <td>Leo</td>\n",
       "    </tr>\n",
       "    <tr>\n",
       "      <th>1</th>\n",
       "      <td>29-May-2004</td>\n",
       "      <td>My four-year old never stops talking.  She'll ...</td>\n",
       "      <td>1000331</td>\n",
       "      <td>female</td>\n",
       "      <td>37</td>\n",
       "      <td>indUnk</td>\n",
       "      <td>Leo</td>\n",
       "    </tr>\n",
       "    <tr>\n",
       "      <th>2</th>\n",
       "      <td>28-May-2004</td>\n",
       "      <td>Actually it's not raining yet, but I bought 15...</td>\n",
       "      <td>1000331</td>\n",
       "      <td>female</td>\n",
       "      <td>37</td>\n",
       "      <td>indUnk</td>\n",
       "      <td>Leo</td>\n",
       "    </tr>\n",
       "    <tr>\n",
       "      <th>3</th>\n",
       "      <td>28-May-2004</td>\n",
       "      <td>Ha! Just set up my RSS feed - that is so easy!...</td>\n",
       "      <td>1000331</td>\n",
       "      <td>female</td>\n",
       "      <td>37</td>\n",
       "      <td>indUnk</td>\n",
       "      <td>Leo</td>\n",
       "    </tr>\n",
       "    <tr>\n",
       "      <th>4</th>\n",
       "      <td>28-May-2004</td>\n",
       "      <td>Oh, which just reminded me, we were talking ab...</td>\n",
       "      <td>1000331</td>\n",
       "      <td>female</td>\n",
       "      <td>37</td>\n",
       "      <td>indUnk</td>\n",
       "      <td>Leo</td>\n",
       "    </tr>\n",
       "    <tr>\n",
       "      <th>...</th>\n",
       "      <td>...</td>\n",
       "      <td>...</td>\n",
       "      <td>...</td>\n",
       "      <td>...</td>\n",
       "      <td>...</td>\n",
       "      <td>...</td>\n",
       "      <td>...</td>\n",
       "    </tr>\n",
       "    <tr>\n",
       "      <th>30086</th>\n",
       "      <td>01-January-2004</td>\n",
       "      <td>Happy new year to one and all.  It appears the...</td>\n",
       "      <td>1222749</td>\n",
       "      <td>male</td>\n",
       "      <td>37</td>\n",
       "      <td>indUnk</td>\n",
       "      <td>Capricorn</td>\n",
       "    </tr>\n",
       "    <tr>\n",
       "      <th>30087</th>\n",
       "      <td>13-February-2004</td>\n",
       "      <td>Sad News   urlLink  New Zealand Backpacker kil...</td>\n",
       "      <td>1222749</td>\n",
       "      <td>male</td>\n",
       "      <td>37</td>\n",
       "      <td>indUnk</td>\n",
       "      <td>Capricorn</td>\n",
       "    </tr>\n",
       "    <tr>\n",
       "      <th>30088</th>\n",
       "      <td>01-February-2004</td>\n",
       "      <td>Forget About Tomorrow      Calling, distorting...</td>\n",
       "      <td>1222749</td>\n",
       "      <td>male</td>\n",
       "      <td>37</td>\n",
       "      <td>indUnk</td>\n",
       "      <td>Capricorn</td>\n",
       "    </tr>\n",
       "    <tr>\n",
       "      <th>30089</th>\n",
       "      <td>25-March-2004</td>\n",
       "      <td>\" Into the below\"             \" Ty Ray OK \"   ...</td>\n",
       "      <td>1222749</td>\n",
       "      <td>male</td>\n",
       "      <td>37</td>\n",
       "      <td>indUnk</td>\n",
       "      <td>Capricorn</td>\n",
       "    </tr>\n",
       "    <tr>\n",
       "      <th>30090</th>\n",
       "      <td>03-June-2004</td>\n",
       "      <td>My matey Rabbit has made the news  for all the...</td>\n",
       "      <td>1222749</td>\n",
       "      <td>male</td>\n",
       "      <td>37</td>\n",
       "      <td>indUnk</td>\n",
       "      <td>Capricorn</td>\n",
       "    </tr>\n",
       "  </tbody>\n",
       "</table>\n",
       "<p>30091 rows × 7 columns</p>\n",
       "</div>"
      ],
      "text/plain": [
       "              Date Post                                          Text Post  \\\n",
       "0           31-May-2004  Well, everyone got up and going this morning. ...   \n",
       "1           29-May-2004  My four-year old never stops talking.  She'll ...   \n",
       "2           28-May-2004  Actually it's not raining yet, but I bought 15...   \n",
       "3           28-May-2004  Ha! Just set up my RSS feed - that is so easy!...   \n",
       "4           28-May-2004  Oh, which just reminded me, we were talking ab...   \n",
       "...                 ...                                                ...   \n",
       "30086   01-January-2004  Happy new year to one and all.  It appears the...   \n",
       "30087  13-February-2004  Sad News   urlLink  New Zealand Backpacker kil...   \n",
       "30088  01-February-2004  Forget About Tomorrow      Calling, distorting...   \n",
       "30089     25-March-2004  \" Into the below\"             \" Ty Ray OK \"   ...   \n",
       "30090      03-June-2004  My matey Rabbit has made the news  for all the...   \n",
       "\n",
       "      ID Poster Gender Poster Age Poster Topic Channel Astro Sign Poster  \n",
       "0       1000331        female         37        indUnk               Leo  \n",
       "1       1000331        female         37        indUnk               Leo  \n",
       "2       1000331        female         37        indUnk               Leo  \n",
       "3       1000331        female         37        indUnk               Leo  \n",
       "4       1000331        female         37        indUnk               Leo  \n",
       "...         ...           ...        ...           ...               ...  \n",
       "30086   1222749          male         37        indUnk         Capricorn  \n",
       "30087   1222749          male         37        indUnk         Capricorn  \n",
       "30088   1222749          male         37        indUnk         Capricorn  \n",
       "30089   1222749          male         37        indUnk         Capricorn  \n",
       "30090   1222749          male         37        indUnk         Capricorn  \n",
       "\n",
       "[30091 rows x 7 columns]"
      ]
     },
     "execution_count": 3,
     "metadata": {},
     "output_type": "execute_result"
    }
   ],
   "source": [
    "df"
   ]
  },
  {
   "cell_type": "code",
   "execution_count": 61,
   "metadata": {},
   "outputs": [
    {
     "data": {
      "text/plain": [
       "\"Actually it's not raining yet, but I bought 15 tickets to the  urlLink Goldeyes  game for my Mom's birthday tonight, and it is supposed to rain.  Do they cancel baseball games because of rain?  Although the ballpark is beautiful, it ain't the  urlLink SkyDome .  We used to go to the Jays games occassionally when we lived in Toronto and really like taking the kids to the Goldeyes games now.  I don't know what  urlLink Blue Jays  tickets cost now, but I'm sure it's cheaper here in Winnipeg.  Oh, I just checked and it  definitely  is!\""
      ]
     },
     "execution_count": 61,
     "metadata": {},
     "output_type": "execute_result"
    }
   ],
   "source": [
    "df.loc[2,'Text Post']"
   ]
  },
  {
   "cell_type": "code",
   "execution_count": 129,
   "metadata": {},
   "outputs": [],
   "source": [
    "tokenizer = BertTokenizer.from_pretrained('bert-base-uncased')\n",
    "model = BertForMaskedLM.from_pretrained('bert-base-uncased')\n",
    "\n",
    "#model.eval()"
   ]
  },
  {
   "cell_type": "code",
   "execution_count": 130,
   "metadata": {},
   "outputs": [],
   "source": [
    "#text = '[CLS] Who was Jim Henson ? [SEP] Jim Henson was a puppeteer [SEP]'\n",
    "\n",
    "#'[CLS] Actually its not raining yet but I bought 15 tickets to the game for my Moms birthday tonight, and it is supposed to rain. [SEP] Do they cancel baseball games because of rain? [SEP]'\n",
    "\n",
    "text = '[CLS] Actually its not raining yet but I bought 15 tickets to the game for my Moms birthday tonight, and it is supposed to rain. [SEP] Do they cancel baseball games because of rain [MASK]'\n",
    "tok_text = tokenizer.tokenize(text)"
   ]
  },
  {
   "cell_type": "code",
   "execution_count": 131,
   "metadata": {},
   "outputs": [],
   "source": [
    "mask_ind = [k for k in range(len(tok_text)) if tok_text[k]=='[MASK]']"
   ]
  },
  {
   "cell_type": "code",
   "execution_count": 132,
   "metadata": {},
   "outputs": [],
   "source": [
    "ind_tokens = tokenizer.convert_tokens_to_ids(tok_text)"
   ]
  },
  {
   "cell_type": "code",
   "execution_count": 133,
   "metadata": {},
   "outputs": [],
   "source": [
    "tokens_tensor = torch.tensor([ind_tokens])"
   ]
  },
  {
   "cell_type": "code",
   "execution_count": 134,
   "metadata": {},
   "outputs": [],
   "source": [
    "with torch.no_grad():\n",
    "    outputs = model(tokens_tensor)\n",
    "    pred = outputs[0]"
   ]
  },
  {
   "cell_type": "code",
   "execution_count": 135,
   "metadata": {},
   "outputs": [
    {
     "name": "stdout",
     "output_type": "stream",
     "text": [
      "['?', ',', 'or', '.', 'and', 'but', 'because', 'like', 'then', 'not']\n"
     ]
    }
   ],
   "source": [
    "for c_ind in mask_ind:\n",
    "    c_token_ind = torch.argsort(pred[c_ind],descending=True)[:10].tolist()\n",
    "    print(tokenizer.convert_ids_to_tokens(c_token_ind))"
   ]
  },
  {
   "cell_type": "code",
   "execution_count": 128,
   "metadata": {},
   "outputs": [
    {
     "data": {
      "text/plain": [
       "'[CLS] Actually its not raining yet but I bought 15 tickets to the game for my Moms birthday tonight, and it is supposed to rain. [SEP] Do they cancel baseball games because of rain [MASK] [MASK] [MASK] [MASK]'"
      ]
     },
     "execution_count": 128,
     "metadata": {},
     "output_type": "execute_result"
    }
   ],
   "source": [
    "text"
   ]
  },
  {
   "cell_type": "code",
   "execution_count": null,
   "metadata": {},
   "outputs": [],
   "source": []
  }
 ],
 "metadata": {
  "kernelspec": {
   "display_name": "Python 3",
   "language": "python",
   "name": "python3"
  },
  "language_info": {
   "codemirror_mode": {
    "name": "ipython",
    "version": 3
   },
   "file_extension": ".py",
   "mimetype": "text/x-python",
   "name": "python",
   "nbconvert_exporter": "python",
   "pygments_lexer": "ipython3",
   "version": "3.6.5"
  }
 },
 "nbformat": 4,
 "nbformat_minor": 2
}
