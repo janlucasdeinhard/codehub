{
 "cells": [
  {
   "cell_type": "code",
   "execution_count": 1,
   "metadata": {},
   "outputs": [
    {
     "name": "stderr",
     "output_type": "stream",
     "text": [
      "C:\\Users\\Jan\\Anaconda3\\lib\\site-packages\\h5py\\__init__.py:36: FutureWarning: Conversion of the second argument of issubdtype from `float` to `np.floating` is deprecated. In future, it will be treated as `np.float64 == np.dtype(float).type`.\n",
      "  from ._conv import register_converters as _register_converters\n",
      "Using TensorFlow backend.\n"
     ]
    }
   ],
   "source": [
    "import numpy as np\n",
    "from numpy import random as rnd\n",
    "from matplotlib import pyplot as plt\n",
    "import os,datetime,warnings,time\n",
    "\n",
    "import re\n",
    "\n",
    "import tensorflow as tf\n",
    "import pandas as pd\n",
    "import seaborn as sns\n",
    "\n",
    "from keras.models import Model,Sequential\n",
    "from keras.layers import Dense,LSTM,Conv2D,Conv2DTranspose,Dropout,GRU,Activation,Add,Concatenate,BatchNormalization,Bidirectional,Embedding,Flatten\n",
    "\n",
    "from sklearn.preprocessing import OneHotEncoder\n",
    "from sklearn.model_selection import train_test_split\n",
    "from sklearn.feature_extraction.text import TfidfVectorizer\n",
    "from sklearn.metrics.pairwise import cosine_similarity\n",
    "\n",
    "import nltk\n",
    "import string\n",
    "\n",
    "warnings.filterwarnings('ignore')\n",
    "sns.set()"
   ]
  },
  {
   "cell_type": "code",
   "execution_count": 2,
   "metadata": {},
   "outputs": [],
   "source": [
    "def split_sentence(basephrase,L,F):\n",
    "    b = basephrase.split(' ')\n",
    "    X = []\n",
    "    Y = []\n",
    "    for k in range(len(b)-L-F+1):\n",
    "        X.append(b[k:k+L])\n",
    "        Y.append(b[k+L:k+L+F])\n",
    "    return X,Y"
   ]
  },
  {
   "cell_type": "code",
   "execution_count": 3,
   "metadata": {},
   "outputs": [],
   "source": [
    "def build_labeled_training_set(baselist,L=5,F=1,limited_load=-1):\n",
    "    if limited_load>0: baselist = baselist[:limited_load]\n",
    "    X = []\n",
    "    Y = []\n",
    "    for P in baselist:\n",
    "        x,y = split_sentence(basephrase=P,L=L,F=F)\n",
    "        for k in range(len(x)): \n",
    "            X.append(x[k])\n",
    "            Y.append(y[k])   \n",
    "    return X,Y"
   ]
  },
  {
   "cell_type": "code",
   "execution_count": 4,
   "metadata": {},
   "outputs": [],
   "source": [
    "def encode_words_by_dict(L,encode_dict):\n",
    "    Le = []\n",
    "    for e in L:\n",
    "        ll = [encode_dict.ix[k,'Code'] for k in e]\n",
    "        Le.append(ll)\n",
    "    return Le"
   ]
  },
  {
   "cell_type": "code",
   "execution_count": 5,
   "metadata": {},
   "outputs": [],
   "source": [
    "def clean_dataset(X,Y,MAXLEN=15):\n",
    "    indices = []\n",
    "    for k in range(len(Y)):\n",
    "        flag = False\n",
    "        for yy in Y[k]: \n",
    "            if len(yy)>MAXLEN: flag = True\n",
    "        if not flag: indices.append(k)\n",
    "    X = [X[k] for k in indices]\n",
    "    Y = [Y[k] for k in indices]\n",
    "    return X,Y"
   ]
  },
  {
   "cell_type": "code",
   "execution_count": 6,
   "metadata": {},
   "outputs": [],
   "source": [
    "bf = pd.read_csv('..\\\\..\\\\TF_data\\\\TURING\\\\twitter-sample\\\\train_tweets.csv',index_col='id')"
   ]
  },
  {
   "cell_type": "code",
   "execution_count": 7,
   "metadata": {},
   "outputs": [],
   "source": [
    "df = bf[['tweet']].copy()\n",
    "\n",
    "df['tweet'] = df['tweet'].apply(lambda x: re.sub(r'[^a-zA-Z0-9_@ ]','',x))\n",
    "df['tweet'] = df['tweet'].apply(lambda x: re.sub(r'\\s+',' ',x.lower().strip()))"
   ]
  },
  {
   "cell_type": "code",
   "execution_count": 8,
   "metadata": {},
   "outputs": [],
   "source": [
    "df['tweet'] = df['tweet'].apply(lambda x: re.sub(r'\\@user @user','@user',x))\n",
    "df['tweet'] = df['tweet'].apply(lambda x: re.sub(r'\\@user @user @user','@user',x))\n",
    "df['tweet'] = df['tweet'].apply(lambda x: re.sub(r'\\@user @user @user @user','@user',x))\n",
    "df['tweet'] = df['tweet'].apply(lambda x: re.sub(r'\\@user @user @user @user @user','@user',x))\n",
    "df['tweet'] = df['tweet'].apply(lambda x: re.sub(r'\\@user @user @user @user @user @user','@user',x))\n",
    "df['tweet'] = df['tweet'].apply(lambda x: re.sub(r'\\@user @user @user @user @user @user @user','@user',x))\n",
    "df['tweet'] = df['tweet'].apply(lambda x: re.sub(r'\\@user @user @user @user @user @user @user @user','@user',x))\n",
    "df['tweet'] = df['tweet'].apply(lambda x: re.sub(r'\\@user @user @user @user @user @user @user @user @user','@user',x))\n",
    "\n",
    "df['tweet'] = df['tweet'].apply(lambda x: re.sub(r'\\@user@user','@user',x))\n",
    "df['tweet'] = df['tweet'].apply(lambda x: re.sub(r'\\@user@user@user','@user',x))\n",
    "df['tweet'] = df['tweet'].apply(lambda x: re.sub(r'\\@user@user@user@user','@user',x))\n",
    "df['tweet'] = df['tweet'].apply(lambda x: re.sub(r'\\@user@user@user@user@user','@user',x))\n",
    "df['tweet'] = df['tweet'].apply(lambda x: re.sub(r'\\@user@user@user@user@user@user','@user',x))\n",
    "df['tweet'] = df['tweet'].apply(lambda x: re.sub(r'\\@user@user@user@user@user@user@user','@user',x))\n",
    "df['tweet'] = df['tweet'].apply(lambda x: re.sub(r'\\@user@user@user@user@user@user@user@user','@user',x))\n",
    "df['tweet'] = df['tweet'].apply(lambda x: re.sub(r'\\@user@user@user@user@user@user@user@user@user','@user',x))"
   ]
  },
  {
   "cell_type": "code",
   "execution_count": 9,
   "metadata": {},
   "outputs": [],
   "source": [
    "df['tweet'] = df['tweet'].apply(lambda x: x+' <EOL>')"
   ]
  },
  {
   "cell_type": "code",
   "execution_count": 10,
   "metadata": {},
   "outputs": [],
   "source": [
    "wordlist = list(set([kk for k in df['tweet'].tolist() for kk in k.split(' ')]))\n",
    "encode_dict = pd.DataFrame(wordlist,columns=['Word']).reset_index().rename(columns={'index':'Code'}).set_index('Word')"
   ]
  },
  {
   "cell_type": "code",
   "execution_count": 11,
   "metadata": {},
   "outputs": [],
   "source": [
    "encode_dict['Word'] = encode_dict.index\n",
    "encode_dict.index = encode_dict.index.rename('idx')\n",
    "encode_dict['Wordlength'] = encode_dict['Word'].apply(lambda x: len(x))"
   ]
  },
  {
   "cell_type": "code",
   "execution_count": 12,
   "metadata": {},
   "outputs": [],
   "source": [
    "X,Y = build_labeled_training_set(baselist=df['tweet'].tolist())"
   ]
  },
  {
   "cell_type": "code",
   "execution_count": 13,
   "metadata": {},
   "outputs": [],
   "source": [
    "X,Y = clean_dataset(X,Y)"
   ]
  },
  {
   "cell_type": "code",
   "execution_count": 14,
   "metadata": {},
   "outputs": [],
   "source": [
    "Y0 = encode_words_by_dict(Y,encode_dict)"
   ]
  },
  {
   "cell_type": "code",
   "execution_count": null,
   "metadata": {},
   "outputs": [],
   "source": [
    "ohe = OneHotEncoder()\n",
    "Y1 = ohe.fit_transform(Y0)"
   ]
  },
  {
   "cell_type": "code",
   "execution_count": 85,
   "metadata": {},
   "outputs": [],
   "source": [
    "MAXLEN = 15\n",
    "\n",
    "x = [[ord(k) for k in XXX] for XX in X for XXX in XX]\n",
    "\n",
    "X0 = [[[ord(x) for x in XXX] for XXX in XX] for XX in X]\n",
    "X1 = [[x+([0]*(MAXLEN-len(x))) for x in XX] for XX in X0]"
   ]
  },
  {
   "cell_type": "code",
   "execution_count": 74,
   "metadata": {},
   "outputs": [],
   "source": [
    "X1 = [np.array(x).transpose() for x in X0]"
   ]
  },
  {
   "cell_type": "code",
   "execution_count": 79,
   "metadata": {},
   "outputs": [
    {
     "data": {
      "text/plain": [
       "6554"
      ]
     },
     "execution_count": 79,
     "metadata": {},
     "output_type": "execute_result"
    }
   ],
   "source": [
    "len([x for x in X1 if x.shape[0]!=15])"
   ]
  },
  {
   "cell_type": "code",
   "execution_count": 86,
   "metadata": {},
   "outputs": [
    {
     "data": {
      "text/plain": [
       "[]"
      ]
     },
     "execution_count": 86,
     "metadata": {},
     "output_type": "execute_result"
    }
   ],
   "source": [
    "[x for x in X0 if len(x)!=5]"
   ]
  },
  {
   "cell_type": "code",
   "execution_count": null,
   "metadata": {},
   "outputs": [],
   "source": []
  }
 ],
 "metadata": {
  "kernelspec": {
   "display_name": "Python 3",
   "language": "python",
   "name": "python3"
  },
  "language_info": {
   "codemirror_mode": {
    "name": "ipython",
    "version": 3
   },
   "file_extension": ".py",
   "mimetype": "text/x-python",
   "name": "python",
   "nbconvert_exporter": "python",
   "pygments_lexer": "ipython3",
   "version": "3.6.5"
  }
 },
 "nbformat": 4,
 "nbformat_minor": 2
}
